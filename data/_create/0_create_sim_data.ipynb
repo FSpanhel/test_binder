{
 "cells": [
  {
   "cell_type": "markdown",
   "id": "e54e21f4",
   "metadata": {},
   "source": [
    "# setup"
   ]
  },
  {
   "cell_type": "code",
   "execution_count": 1,
   "id": "adaca7de",
   "metadata": {},
   "outputs": [],
   "source": [
    "import sys, os\n",
    "from datetime import datetime\n",
    "import sqlite3\n",
    "\n",
    "# import sqlalchemy\n",
    "import pyexasol\n",
    "import pandas as pd\n",
    "import numpy as np\n",
    "\n",
    "from credentials import Credentials\n",
    "from helper import SimulateID, analyze_sim_kpi\n",
    "import config"
   ]
  },
  {
   "cell_type": "code",
   "execution_count": 2,
   "id": "bc954321",
   "metadata": {},
   "outputs": [],
   "source": [
    "assert os.getcwd().rsplit(\"/\", 1)[-1] == '_create'"
   ]
  },
  {
   "cell_type": "code",
   "execution_count": 3,
   "id": "5a39ba15",
   "metadata": {},
   "outputs": [],
   "source": [
    "sys.path.append(\"./sql\")\n",
    "import sql.broadcast, sql.target_group, sql.cdm, sql.broadcast_target_group_cdm"
   ]
  },
  {
   "cell_type": "code",
   "execution_count": 4,
   "id": "ac8a6b68",
   "metadata": {},
   "outputs": [
    {
     "name": "stdout",
     "output_type": "stream",
     "text": [
      "\n",
      "SELECT\n",
      "    -- ## broadcast\n",
      "    aus.run_key,  -- need to transform this\n",
      "    titel,\n",
      "    sender,\n",
      "    startzeit_ts,\n",
      "    endezeit_ts,\n",
      "    startzeit_ts_dr,\n",
      "    endezeit_ts_dr,\n",
      "    wochentag,\n",
      "    dauer,  -- in seconds (?)\n",
      "    titelid, -- need to tranform this!\n",
      "    genre_1,\n",
      "    genre_2,\n",
      "    genre_3,\n",
      "    WIEDERHOLUNG -- ?\n",
      "    ,\n",
      "\n",
      "    -- ## target group\n",
      "    zg.zielgruppe,\n",
      "    zg.sehb,\n",
      "    zg.tvg\n",
      "    -- zg.sehd\n",
      "    ,\n",
      "\n",
      "    g2c.ID_PROMAMS,\n",
      "\n",
      "    -- ## cdm\n",
      "      -- ## ausstrahlungs-ebene\n",
      "    cdm.A_ID, -- Eindeutige Nummer (Primärschlüssel) der Datenbank AnalyticsCube. Die Ausstrahlung ist die unterste für uns relevante Ebene einer in ProMams angelegten Plan- bzw. Ist-Lizenz oder eines Plan- bzw. Ist-Contents. Beispielsweise ist es im Falle eines Spielfilms ein Run/Ausstrahlung des Films selbst, bei einer Serie ist es ein Run/Ausstrahlung der Episode.\n",
      "    cdm.A_BESTSELLER_WIEVIELTE, -- A_INTERNAL_REPETITION_NUMBER Dieses Feld zählt die interne chronologische Ausstrahlungsreihenfolge der Content-ID innerhalb der aktuellen TVD Free-TV Sender durch, unabhängig von den Verträgen\n",
      "    -- cdm.A_CONTENTAUSSTRAHLUNG_WIEVIELTE_FREE_TV, -- A_REPETITION_NUMBER Sollen die Studenten das selbst erstellen? Erfassung die wievielte Free TV Ausstrahlung des Contents es ist. Die Erfassung erfolgt inkl. Konkurrenzdaten, aber unterschiedliche Erfassungskriterien (z.B. Erfassung nur gewisser Sender, bei RTL II wird nur Content in der PrimeTime erfasst etc.)\n",
      "    -- ## content/episoden-ebene (ein content kann mehrmals ausgestrahlt erden), diese ebene gibt es nicht in der bidb\n",
      "    cdm.C_ID, -- eindeutige Nummer des Content; UJ: ProMams hat eine Dimension Content. Content ist die unterste für uns relevante Ebene eines Formats. Im Falle eines Spielsfilms ist es der Film selbst, bei einer Serie ist es die Episode\n",
      "    cdm.C_CONTENT,  -- ist der jeweils aktuelle Haupttitel eines Content, am Schluss dann der Titel, unter dem die Produktion gesendet wird (Format: Artikel nachgestellt, außer bei Episoden). Der Haupttitel kann sich ändern, es gibt aber zu jedem Zeitpunkt senderübergreifend nur einen eindeutigen Haupttitel pro Content.\n",
      "    cdm.C_SERIE_ID,\n",
      "    cdm.C_SERIE,\n",
      "    cdm.C_ORIGINALTITEL, -- ORIGINAL_TITLE Ist der Contenttitel der ersten bekannten Aufführung (Format: Artikel nachgestellt, außer bei Episoden). Außerdem Titel in der Originalsprache der Produktion. Titel, den der Lizenzgeber als Originaltitel definiert.\n",
      "    cdm.C_AUFLISTREIHENF,  -- EPISODE_NUMBER Einordnung einer Episode innerhalb einer Serie mit Hilfe einer aufsteigenden Nummer; UJ: Festgelegte Reihenfolge von Episoden innerhalb einer Serie\n",
      "      -- ## staffel-ebene\n",
      "    cdm.C_PRODUKTIONSSTAFFEL_STAFFEL_NR, -- SEASON_NUMBER Beschreibt numerisch um welche Staffel es sich handelt. Bei Redaktion Info & Magazine und Nachrichten werden hier die Jahreszahlen hinterlegt\n",
      "    cdm.C_PRODJAHR_VON,  -- YEAR_OF_PRODUCTION Jahr des Produktionsbeginns\n",
      "    cdm.C_SERIE_KATEGORIE, -- SERIES_CATEGORY_1 Die Serien Kategorie ist die strukturelle Bezeichnung einer Content Serie.  Für den Content Datamart sind folgende Werte enthalten \"Gameshow\"; \"Aktuelles\"; \"TV Movie Reihe\"; \"News-Magazin\"; \"Magazin\"; \"Talkshow\"; \"Nachrichten-Serie\"; \"Sport\"; \"Reportage\"; \"Nachrichten\"; \"Lizenzprogramm-Neutral-Serie\"; \"TV Movie\"; \"Dokumentation\"; \"Dauerwerbesendung\"; \"Spielfilm\"; \"Zeichentrick\", \"Serie\"; \"Show\"; \"Sondersendung-Serie\"; \"Teleshopping\".\n",
      "    cdm.C_ERSTESPRODUKTIONSLAND, -- COUNTRY_OF_PRODUCTION Land/Staat, in dem sich der Sitz der Produktionsfirma befindet.\n",
      "    cdm.C_SERIE_VERWENDBARKEIT, -- SERIES_CATEGORY_2 Kategorisierung von Serien in Serial/Procedural/High Concept/Sitcom. Feld befindet sich auf der Ebene Content/Serie.Die Kategorisierung, ob Serie einen durchgehenden Handlungsstrang (serial) hat oder nicht, beeinflusst die Aufteilung der Anschaffungskosten auf die Anzahl der Runs. Rückfragen zu Einteilung oder fehlenden Einteilung Martin Mötsch oder Asset Valuation Team.\n",
      "    cdm.C_FSK, -- Einstufung eines Content in eine altersmäßige Freigabe gemäß Einstufung des Verbandes „Freiwillige Selbstkontrolle\".\n",
      "    cdm.C_HOECHSTE_BESUCHERZAHL_D, -- highest number of visitors germany\n",
      "      -- ## lizenz-ebene\n",
      "    cdm.L_ID,\n",
      "    cdm.A_REDAKTION_BESTOF, -- für nutzungsdauer -> brauche ich nicht?\n",
      "    cdm.L_BEGINN, -- simulate\n",
      "    cdm.L_ENDE, -- simulate\n",
      "    cdm.L_IST_AUS, -- simulate\n",
      "    cdm.A_WIEVIELTE, -- Gibt an, um die wievielte Ausstrahlung lt. Abschreibungsgrid innerhalb einer Lizenz es sich handelt. Die wievielte zählt pro Vertrag und beginnt bei einem neuen Vertrag wieder mit 1\n",
      "    cdm.A_WIEVIELTER_RUN, -- Feld gibt die ausstrahlungsfolge innerhalb einer Lizenz wieder. In der Regel sollte die wievielte und der wievielte Run übereinstimmen, jedoch gibt es bei den kleinen Sendern Ausnahmen, bei denen die Ausstrahlungen \"von hinten\" abgespielt werden können. Das Feld wird auf der Verbrauchsebene gepflegt und bei Weitergaben fängt die Zählung von vorne an.\n",
      "    cdm.A_WH -- Ist war A Feld, aber nur für Lizenzbetrachtung relevant und sensibel, deshalb zu Lizenz gepackt: Kurzfristige und kostenfreie Wiederholung im Rahmen der jeweiligen vertraglichen Möglichkeiten\n",
      "\n",
      "    -- wenn A_WH == 1, dann haben A_WIEVIELE und A_WIEVIELTER_RUN, duplikate (also den gleichen Wert für 2 verschiedene A_IDs), bestseller wievielte is dann Missing für die A_ID wo A_WH == 1 und ansonsten gefüllt\n",
      "\n",
      "-- A) Broadcasts\n",
      "FROM (\n",
      "SELECT\n",
      "    aus.run_key, --  as RUN_ID,  -- need to transform this\n",
      "    titel, -- AS title,\n",
      "    aus.sender, -- AS channel,\n",
      "    aus.datum, -- gut für filtern, da tag hier um 3 Uhr früh endet\n",
      "    aus.startzeit_ts,\n",
      "    (aus.DATUM || '-' || SUBSTR(aus.ENDEZEIT, 12, 15)) AS endezeit_ts,  -- gibt es nicht in der bidb (wieso auch immer)\n",
      "    -- startzeit, -- jahr passt hier nicht\n",
      "    aus.startzeit_ts_dr, --  AS start_time,  -- tag endet um 12 a.m.\n",
      "    endezeit_ts_dr, -- AS end_time,\n",
      "    wochentag, -- AS weekday,\n",
      "    dauer, -- AS duration,  -- in seconds (?)\n",
      "    titelid, -- as title_id, -- need to tranform this!\n",
      "    genre_1,\n",
      "    genre_2,\n",
      "    genre_3,\n",
      "    WIEDERHOLUNG -- ?\n",
      "FROM bids_universe_source_gfk.ausstrahlungen aus\n",
      "WHERE\n",
      "    aus.datum >= '2012-01-01'  -- hier nicht datum_real benutzen, war zuerst 2015-01-01\n",
      "    -- AND aus.datum <= '2020-12-31'\n",
      "    AND aus.datum <= '2022-08-31'\n",
      "    AND aus.sender IN ('ProSieben', 'SAT.1', 'Kabel Eins', 'VOX', 'RTL', 'RTL_ZWEI', 'ARD Das Erste', 'ZDF')\n",
      ") aus\n",
      "\n",
      "-- B) Target Groups\n",
      "LEFT JOIN (\n",
      "SELECT\n",
      "    datum,\n",
      "    run_key,\n",
      "    zielgruppe,\n",
      "    sehb,\n",
      "    tvg\n",
      "    -- sender,\n",
      "    -- datum,\n",
      "    -- sehd\n",
      "    -- , startzeit_ts_dr\n",
      "FROM\n",
      "    BIDS_UNIVERSE_SOURCE_GFK.ZIELGRUPPEN\n",
      "WHERE\n",
      "    ZIELGRUPPE IN ('Erw. 14-49', 'Männer 14-29', 'Männer 30-49', 'Frauen 14-29', 'Frauen 30-49')\n",
      ") zg\n",
      "ON\n",
      "    aus.run_key = zg.run_key\n",
      "\n",
      "-- C) Content Data Mart\n",
      "LEFT JOIN (\n",
      "    SELECT\n",
      "        run_key, -- alias required because otherwise pyexasol.connect().execute complains because of duplicate columns when I use select * at the beginning\n",
      "        ID_PROMAMS\n",
      "    FROM\n",
      "        BIDS_UNIVERSE_MAPPING.GFK2CUBE_MATCH\n",
      ") g2c\n",
      "ON\n",
      "    aus.run_key = g2c.run_key\n",
      "LEFT JOIN (\n",
      "SELECT\n",
      "    -- ########\n",
      "    -- ausstrahlungs-ebene\n",
      "    -- ########\n",
      "    -- aus.run_key,\n",
      "    -- g2c.ID_PROMAMS,  -- entspricht A_ID\n",
      "    cdm.A_ID, -- Eindeutige Nummer (Primärschlüssel) der Datenbank AnalyticsCube. Die Ausstrahlung ist die unterste für uns relevante Ebene einer in ProMams angelegten Plan- bzw. Ist-Lizenz oder eines Plan- bzw. Ist-Contents. Beispielsweise ist es im Falle eines Spielfilms ein Run/Ausstrahlung des Films selbst, bei einer Serie ist es ein Run/Ausstrahlung der Episode.\n",
      "    cdm.A_BESTSELLER_WIEVIELTE, -- Dieses Feld zählt die interne chronologische Ausstrahlungsreihenfolge der Content-ID innerhalb der aktuellen TVD Free-TV Sender durch, unabhängig von den Verträgen\n",
      "    cdm.A_CONTENTAUSSTRAHLUNG_WIEVIELTE_FREE_TV, -- Sollen die Studenten das selbst erstellen? Erfassung die wievielte Free TV Ausstrahlung des Contents es ist. Die Erfassung erfolgt inkl. Konkurrenzdaten, aber unterschiedliche Erfassungskriterien (z.B. Erfassung nur gewisser Sender, bei RTL II wird nur Content in der PrimeTime erfasst etc.)\n",
      "\n",
      "    -- ########\n",
      "    -- content/episoden-ebene (ein content kann mehrmals ausgestrahlt erden), diese ebene gibt es nicht in der bidb\n",
      "    -- ########\n",
      "    cdm.C_ID, -- eindeutige Nummer des Content; UJ: ProMams hat eine Dimension Content. Content ist die unterste für uns relevante Ebene eines Formats. Im Falle eines Spielsfilms ist es der Film selbst, bei einer Serie ist es die Episode\n",
      "    -- g2c.CONTENT_ID_PROMAMS,  -- entspricht C_ID\n",
      "    cdm.C_CONTENT,  -- ist der jeweils aktuelle Haupttitel eines Content, am Schluss dann der Titel, unter dem die Produktion gesendet wird (Format: Artikel nachgestellt, außer bei Episoden). Der Haupttitel kann sich ändern, es gibt aber zu jedem Zeitpunkt senderübergreifend nur einen eindeutigen Haupttitel pro Content.\n",
      "    cdm.C_ORIGINALTITEL, -- Ist der Contenttitel der ersten bekannten Aufführung (Format: Artikel nachgestellt, außer bei Episoden). Außerdem Titel in der Originalsprache der Produktion. Titel, den der Lizenzgeber als Originaltitel definiert.\n",
      "    cdm.C_AUFLISTREIHENF,  -- Einordnung einer Episode innerhalb einer Serie mit Hilfe einer aufsteigenden Nummer; UJ: Festgelegte Reihenfolge von Episoden innerhalb einer Serie\n",
      "\n",
      "    -- #########\n",
      "    -- staffel-ebene\n",
      "    -- #########\n",
      "    -- aus.titel,  -- raus weil aus\n",
      "    -- aus.TITELID,  - raus weil aus\n",
      "    cdm.C_SERIE, -- Brauch ich vermutlich nicht aus.titel die Info schon hat (?) Dies ist der Serientitel wie er von ProMams für die Ausstrahlung des Contents ausgewiesen wird. Entspricht dem Serientitel der Ausstrahlung.\n",
      "    cdm.C_SERIE_ID, -- Brauch ich vermutlich nicht da aus.titleid die Info schon hat (?) Eindeutige Nummer der Serie. Fasst Episoden, Staffeln, Piloten oder Serienspecials zusammen.\n",
      "\n",
      "    cdm.C_PRODUKTIONSSTAFFEL_STAFFEL_NR, -- Beschreibt numerisch um welche Staffel es sich handelt. Bei Redaktion Info & Magazine und Nachrichten werden hier die Jahreszahlen hinterlegt\n",
      "    cdm.C_PRODJAHR_VON,  -- Jahr des Produktionsbeginns\n",
      "    cdm.C_SERIE_KATEGORIE, -- Die Serien Kategorie ist die strukturelle Bezeichnung einer Content Serie.  Für den Content Datamart sind folgende Werte enthalten \"Gameshow\"; \"Aktuelles\"; \"TV Movie Reihe\"; \"News-Magazin\"; \"Magazin\"; \"Talkshow\"; \"Nachrichten-Serie\"; \"Sport\"; \"Reportage\"; \"Nachrichten\"; \"Lizenzprogramm-Neutral-Serie\"; \"TV Movie\"; \"Dokumentation\"; \"Dauerwerbesendung\"; \"Spielfilm\"; \"Zeichentrick\", \"Serie\"; \"Show\"; \"Sondersendung-Serie\"; \"Teleshopping\".\n",
      "    -- cdm.C_Produktionsstaffel_ID, -- Brauch ich vermutlich nicht, da ich mir diese id auch zusammenbauen kann -- Eindeutige ID für Staffeln in ProMams. In der Contenthierarchie Serien ID - Staffel ID - Content ID.\n",
      "    -- cdm.C_SERIE_A_NUMMER, -- In diesem Feld wird seit 2017 die Qualität einer Serie beschrieben um daraus die Kategorisierung von Lizenzserien abzuleiten (z.B. Drama A, Sitcom C, etc.)\n",
      "    cdm.C_ERSTESPRODUKTIONSLAND, -- Land/Staat, in dem sich der Sitz der Produktionsfirma befindet.\n",
      "    cdm.C_SERIE_VERWENDBARKEIT, -- Kategorisierung von Serien in Serial/Procedural/High Concept/Sitcom. Feld befindet sich auf der Ebene Content/Serie.Die Kategorisierung, ob Serie einen durchgehenden Handlungsstrang (serial) hat oder nicht, beeinflusst die Aufteilung der Anschaffungskosten auf die Anzahl der Runs. Rückfragen zu Einteilung oder fehlenden Einteilung Martin Mötsch oder Asset Valuation Team.\n",
      "    cdm.C_FSK, -- Einstufung eines Content in eine altersmäßige Freigabe gemäß Einstufung des Verbandes „Freiwillige Selbstkontrolle\".\n",
      "    cdm.C_HOECHSTE_BESUCHERZAHL_D,\n",
      "\n",
      "    -- #########\n",
      "    -- LIZENZ-ebene\n",
      "    -- #########\n",
      "    cdm.L_ID,\n",
      "    cdm.A_REDAKTION_BESTOF, -- für nutzungsdauer\n",
      "    cdm.L_BEGINN, -- simulate\n",
      "    cdm.L_ENDE, -- simulate\n",
      "    cdm.L_IST_AUS, -- simulate\n",
      "    cdm.A_WIEVIELTE, -- Gibt an, um die wievielte Ausstrahlung lt. Abschreibungsgrid innerhalb einer Lizenz es sich handelt. Die wievielte zählt pro Vertrag und beginnt bei einem neuen Vertrag wieder mit 1\n",
      "    cdm.A_WIEVIELTER_RUN, -- Feld gibt die ausstrahlungsfolge innerhalb einer Lizenz wieder. In der Regel sollte die wievielte und der wievielte Run übereinstimmen, jedoch gibt es bei den kleinen Sendern Ausnahmen, bei denen die Ausstrahlungen \"von hinten\" abgespielt werden können. Das Feld wird auf der Verbrauchsebene gepflegt und bei Weitergaben fängt die Zählung von vorne an.\n",
      "    cdm.A_WH -- Ist war A Feld, aber nur für Lizenzbetrachtung relevant und sensibel, deshalb zu Lizenz gepackt: Kurzfristige und kostenfreie Wiederholung im Rahmen der jeweiligen vertraglichen Möglichkeiten\n",
      "\n",
      "    -- wenn A_WH == 1, dann haben A_WIEVIELE und A_WIEVIELTER_RUN, duplikate (also den gleichen Wert für 2 verschiedene A_IDs), bestseller wievielte is dann Missing für die A_ID wo A_WH == 1 und ansonsten gefüllt\n",
      "\n",
      "\n",
      "FROM\n",
      "    BIDS_UNIVERSE_SOURCE_CUBE.DI_CONTENT_DATAMART_V cdm\n",
      "WHERE\n",
      "    cdm.A_PERSPEKTIVE_VERBRAUCH = 1\n",
      "    -- AND cdm.A_ID IS NOT NULL -- no effect if used at this place\n",
      "    AND cdm.A_GENRE_1 IN ('Serie', 'Animation', 'Spielfilm')\n",
      ") cdm\n",
      "ON\n",
      "    g2c.ID_PROMAMS = cdm.A_ID\n",
      "\n",
      "ORDER BY aus.startzeit_ts_dr, aus.sender, zg.zielgruppe\n",
      "\n"
     ]
    }
   ],
   "source": [
    "print(sql.broadcast_target_group_cdm.query)"
   ]
  },
  {
   "cell_type": "code",
   "execution_count": 5,
   "id": "79067b8e",
   "metadata": {},
   "outputs": [],
   "source": [
    "credentials = Credentials(path=\"/mnt/c/Users/spa0001f/.hasselhoff\")"
   ]
  },
  {
   "cell_type": "code",
   "execution_count": 6,
   "id": "62c1f739",
   "metadata": {},
   "outputs": [
    {
     "name": "stdout",
     "output_type": "stream",
     "text": [
      "connected to exasol\n"
     ]
    }
   ],
   "source": [
    "not_connected = True\n",
    "count = 0\n",
    "while not_connected:\n",
    "    try:\n",
    "        connection = pyexasol.connect(dsn=credentials.exasol.dsn,\n",
    "                             user=credentials.exasol.write.user,\n",
    "                             password=credentials.exasol.write.key, compression=True)\n",
    "    except:\n",
    "        count = count + 1\n",
    "        print(f\"connection attempt {count} to exasol was not succesful\")\n",
    "    else:\n",
    "        print(\"connected to exasol\")\n",
    "        not_connected = False"
   ]
  },
  {
   "cell_type": "code",
   "execution_count": 7,
   "id": "a27ad7e6",
   "metadata": {},
   "outputs": [],
   "source": [
    "# df = connection.export_to_pandas(\"SELECT DISTINCT sender FROM bids_universe_source_gfk.ausstrahlungen\")"
   ]
  },
  {
   "cell_type": "code",
   "execution_count": 8,
   "id": "eb700602",
   "metadata": {},
   "outputs": [],
   "source": [
    "# full_.columns()"
   ]
  },
  {
   "cell_type": "markdown",
   "id": "c4e62919",
   "metadata": {},
   "source": [
    "# directly export to pandas -> full\n",
    "- not advise because I get pandas warning of mixed types, the reason is that pyexsol.connect().export_to_pandas exports to a csv and then uses pd.read_csv -> update: it works now"
   ]
  },
  {
   "cell_type": "code",
   "execution_count": 9,
   "id": "2c7109d7",
   "metadata": {},
   "outputs": [
    {
     "name": "stdout",
     "output_type": "stream",
     "text": [
      "\n",
      "SELECT\n",
      "    -- ## broadcast\n",
      "    aus.run_key,  -- need to transform this\n",
      "    titel,\n",
      "    sender,\n",
      "    startzeit_ts,\n",
      "    endezeit_ts,\n",
      "    startzeit_ts_dr,\n",
      "    endezeit_ts_dr,\n",
      "    wochentag,\n",
      "    dauer,  -- in seconds (?)\n",
      "    titelid, -- need to tranform this!\n",
      "    genre_1,\n",
      "    genre_2,\n",
      "    genre_3,\n",
      "    WIEDERHOLUNG -- ?\n",
      "    ,\n",
      "\n",
      "    -- ## target group\n",
      "    zg.zielgruppe,\n",
      "    zg.sehb,\n",
      "    zg.tvg\n",
      "    -- zg.sehd\n",
      "    ,\n",
      "\n",
      "    g2c.ID_PROMAMS,\n",
      "\n",
      "    -- ## cdm\n",
      "      -- ## ausstrahlungs-ebene\n",
      "    cdm.A_ID, -- Eindeutige Nummer (Primärschlüssel) der Datenbank AnalyticsCube. Die Ausstrahlung ist die unterste für uns relevante Ebene einer in ProMams angelegten Plan- bzw. Ist-Lizenz oder eines Plan- bzw. Ist-Contents. Beispielsweise ist es im Falle eines Spielfilms ein Run/Ausstrahlung des Films selbst, bei einer Serie ist es ein Run/Ausstrahlung der Episode.\n",
      "    cdm.A_BESTSELLER_WIEVIELTE, -- A_INTERNAL_REPETITION_NUMBER Dieses Feld zählt die interne chronologische Ausstrahlungsreihenfolge der Content-ID innerhalb der aktuellen TVD Free-TV Sender durch, unabhängig von den Verträgen\n",
      "    -- cdm.A_CONTENTAUSSTRAHLUNG_WIEVIELTE_FREE_TV, -- A_REPETITION_NUMBER Sollen die Studenten das selbst erstellen? Erfassung die wievielte Free TV Ausstrahlung des Contents es ist. Die Erfassung erfolgt inkl. Konkurrenzdaten, aber unterschiedliche Erfassungskriterien (z.B. Erfassung nur gewisser Sender, bei RTL II wird nur Content in der PrimeTime erfasst etc.)\n",
      "    -- ## content/episoden-ebene (ein content kann mehrmals ausgestrahlt erden), diese ebene gibt es nicht in der bidb\n",
      "    cdm.C_ID, -- eindeutige Nummer des Content; UJ: ProMams hat eine Dimension Content. Content ist die unterste für uns relevante Ebene eines Formats. Im Falle eines Spielsfilms ist es der Film selbst, bei einer Serie ist es die Episode\n",
      "    cdm.C_CONTENT,  -- ist der jeweils aktuelle Haupttitel eines Content, am Schluss dann der Titel, unter dem die Produktion gesendet wird (Format: Artikel nachgestellt, außer bei Episoden). Der Haupttitel kann sich ändern, es gibt aber zu jedem Zeitpunkt senderübergreifend nur einen eindeutigen Haupttitel pro Content.\n",
      "    cdm.C_SERIE_ID,\n",
      "    cdm.C_SERIE,\n",
      "    cdm.C_ORIGINALTITEL, -- ORIGINAL_TITLE Ist der Contenttitel der ersten bekannten Aufführung (Format: Artikel nachgestellt, außer bei Episoden). Außerdem Titel in der Originalsprache der Produktion. Titel, den der Lizenzgeber als Originaltitel definiert.\n",
      "    cdm.C_AUFLISTREIHENF,  -- EPISODE_NUMBER Einordnung einer Episode innerhalb einer Serie mit Hilfe einer aufsteigenden Nummer; UJ: Festgelegte Reihenfolge von Episoden innerhalb einer Serie\n",
      "      -- ## staffel-ebene\n",
      "    cdm.C_PRODUKTIONSSTAFFEL_STAFFEL_NR, -- SEASON_NUMBER Beschreibt numerisch um welche Staffel es sich handelt. Bei Redaktion Info & Magazine und Nachrichten werden hier die Jahreszahlen hinterlegt\n",
      "    cdm.C_PRODJAHR_VON,  -- YEAR_OF_PRODUCTION Jahr des Produktionsbeginns\n",
      "    cdm.C_SERIE_KATEGORIE, -- SERIES_CATEGORY_1 Die Serien Kategorie ist die strukturelle Bezeichnung einer Content Serie.  Für den Content Datamart sind folgende Werte enthalten \"Gameshow\"; \"Aktuelles\"; \"TV Movie Reihe\"; \"News-Magazin\"; \"Magazin\"; \"Talkshow\"; \"Nachrichten-Serie\"; \"Sport\"; \"Reportage\"; \"Nachrichten\"; \"Lizenzprogramm-Neutral-Serie\"; \"TV Movie\"; \"Dokumentation\"; \"Dauerwerbesendung\"; \"Spielfilm\"; \"Zeichentrick\", \"Serie\"; \"Show\"; \"Sondersendung-Serie\"; \"Teleshopping\".\n",
      "    cdm.C_ERSTESPRODUKTIONSLAND, -- COUNTRY_OF_PRODUCTION Land/Staat, in dem sich der Sitz der Produktionsfirma befindet.\n",
      "    cdm.C_SERIE_VERWENDBARKEIT, -- SERIES_CATEGORY_2 Kategorisierung von Serien in Serial/Procedural/High Concept/Sitcom. Feld befindet sich auf der Ebene Content/Serie.Die Kategorisierung, ob Serie einen durchgehenden Handlungsstrang (serial) hat oder nicht, beeinflusst die Aufteilung der Anschaffungskosten auf die Anzahl der Runs. Rückfragen zu Einteilung oder fehlenden Einteilung Martin Mötsch oder Asset Valuation Team.\n",
      "    cdm.C_FSK, -- Einstufung eines Content in eine altersmäßige Freigabe gemäß Einstufung des Verbandes „Freiwillige Selbstkontrolle\".\n",
      "    cdm.C_HOECHSTE_BESUCHERZAHL_D, -- highest number of visitors germany\n",
      "      -- ## lizenz-ebene\n",
      "    cdm.L_ID,\n",
      "    cdm.A_REDAKTION_BESTOF, -- für nutzungsdauer -> brauche ich nicht?\n",
      "    cdm.L_BEGINN, -- simulate\n",
      "    cdm.L_ENDE, -- simulate\n",
      "    cdm.L_IST_AUS, -- simulate\n",
      "    cdm.A_WIEVIELTE, -- Gibt an, um die wievielte Ausstrahlung lt. Abschreibungsgrid innerhalb einer Lizenz es sich handelt. Die wievielte zählt pro Vertrag und beginnt bei einem neuen Vertrag wieder mit 1\n",
      "    cdm.A_WIEVIELTER_RUN, -- Feld gibt die ausstrahlungsfolge innerhalb einer Lizenz wieder. In der Regel sollte die wievielte und der wievielte Run übereinstimmen, jedoch gibt es bei den kleinen Sendern Ausnahmen, bei denen die Ausstrahlungen \"von hinten\" abgespielt werden können. Das Feld wird auf der Verbrauchsebene gepflegt und bei Weitergaben fängt die Zählung von vorne an.\n",
      "    cdm.A_WH -- Ist war A Feld, aber nur für Lizenzbetrachtung relevant und sensibel, deshalb zu Lizenz gepackt: Kurzfristige und kostenfreie Wiederholung im Rahmen der jeweiligen vertraglichen Möglichkeiten\n",
      "\n",
      "    -- wenn A_WH == 1, dann haben A_WIEVIELE und A_WIEVIELTER_RUN, duplikate (also den gleichen Wert für 2 verschiedene A_IDs), bestseller wievielte is dann Missing für die A_ID wo A_WH == 1 und ansonsten gefüllt\n",
      "\n",
      "-- A) Broadcasts\n",
      "FROM (\n",
      "SELECT\n",
      "    aus.run_key, --  as RUN_ID,  -- need to transform this\n",
      "    titel, -- AS title,\n",
      "    aus.sender, -- AS channel,\n",
      "    aus.datum, -- gut für filtern, da tag hier um 3 Uhr früh endet\n",
      "    aus.startzeit_ts,\n",
      "    (aus.DATUM || '-' || SUBSTR(aus.ENDEZEIT, 12, 15)) AS endezeit_ts,  -- gibt es nicht in der bidb (wieso auch immer)\n",
      "    -- startzeit, -- jahr passt hier nicht\n",
      "    aus.startzeit_ts_dr, --  AS start_time,  -- tag endet um 12 a.m.\n",
      "    endezeit_ts_dr, -- AS end_time,\n",
      "    wochentag, -- AS weekday,\n",
      "    dauer, -- AS duration,  -- in seconds (?)\n",
      "    titelid, -- as title_id, -- need to tranform this!\n",
      "    genre_1,\n",
      "    genre_2,\n",
      "    genre_3,\n",
      "    WIEDERHOLUNG -- ?\n",
      "FROM bids_universe_source_gfk.ausstrahlungen aus\n",
      "WHERE\n",
      "    aus.datum >= '2012-01-01'  -- hier nicht datum_real benutzen, war zuerst 2015-01-01\n",
      "    -- AND aus.datum <= '2020-12-31'\n",
      "    AND aus.datum <= '2022-08-31'\n",
      "    AND aus.sender IN ('ProSieben', 'SAT.1', 'Kabel Eins', 'VOX', 'RTL', 'RTL_ZWEI', 'ARD Das Erste', 'ZDF')\n",
      ") aus\n",
      "\n",
      "-- B) Target Groups\n",
      "LEFT JOIN (\n",
      "SELECT\n",
      "    datum,\n",
      "    run_key,\n",
      "    zielgruppe,\n",
      "    sehb,\n",
      "    tvg\n",
      "    -- sender,\n",
      "    -- datum,\n",
      "    -- sehd\n",
      "    -- , startzeit_ts_dr\n",
      "FROM\n",
      "    BIDS_UNIVERSE_SOURCE_GFK.ZIELGRUPPEN\n",
      "WHERE\n",
      "    ZIELGRUPPE IN ('Erw. 14-49', 'Männer 14-29', 'Männer 30-49', 'Frauen 14-29', 'Frauen 30-49')\n",
      ") zg\n",
      "ON\n",
      "    aus.run_key = zg.run_key\n",
      "\n",
      "-- C) Content Data Mart\n",
      "LEFT JOIN (\n",
      "    SELECT\n",
      "        run_key, -- alias required because otherwise pyexasol.connect().execute complains because of duplicate columns when I use select * at the beginning\n",
      "        ID_PROMAMS\n",
      "    FROM\n",
      "        BIDS_UNIVERSE_MAPPING.GFK2CUBE_MATCH\n",
      ") g2c\n",
      "ON\n",
      "    aus.run_key = g2c.run_key\n",
      "LEFT JOIN (\n",
      "SELECT\n",
      "    -- ########\n",
      "    -- ausstrahlungs-ebene\n",
      "    -- ########\n",
      "    -- aus.run_key,\n",
      "    -- g2c.ID_PROMAMS,  -- entspricht A_ID\n",
      "    cdm.A_ID, -- Eindeutige Nummer (Primärschlüssel) der Datenbank AnalyticsCube. Die Ausstrahlung ist die unterste für uns relevante Ebene einer in ProMams angelegten Plan- bzw. Ist-Lizenz oder eines Plan- bzw. Ist-Contents. Beispielsweise ist es im Falle eines Spielfilms ein Run/Ausstrahlung des Films selbst, bei einer Serie ist es ein Run/Ausstrahlung der Episode.\n",
      "    cdm.A_BESTSELLER_WIEVIELTE, -- Dieses Feld zählt die interne chronologische Ausstrahlungsreihenfolge der Content-ID innerhalb der aktuellen TVD Free-TV Sender durch, unabhängig von den Verträgen\n",
      "    cdm.A_CONTENTAUSSTRAHLUNG_WIEVIELTE_FREE_TV, -- Sollen die Studenten das selbst erstellen? Erfassung die wievielte Free TV Ausstrahlung des Contents es ist. Die Erfassung erfolgt inkl. Konkurrenzdaten, aber unterschiedliche Erfassungskriterien (z.B. Erfassung nur gewisser Sender, bei RTL II wird nur Content in der PrimeTime erfasst etc.)\n",
      "\n",
      "    -- ########\n",
      "    -- content/episoden-ebene (ein content kann mehrmals ausgestrahlt erden), diese ebene gibt es nicht in der bidb\n",
      "    -- ########\n",
      "    cdm.C_ID, -- eindeutige Nummer des Content; UJ: ProMams hat eine Dimension Content. Content ist die unterste für uns relevante Ebene eines Formats. Im Falle eines Spielsfilms ist es der Film selbst, bei einer Serie ist es die Episode\n",
      "    -- g2c.CONTENT_ID_PROMAMS,  -- entspricht C_ID\n",
      "    cdm.C_CONTENT,  -- ist der jeweils aktuelle Haupttitel eines Content, am Schluss dann der Titel, unter dem die Produktion gesendet wird (Format: Artikel nachgestellt, außer bei Episoden). Der Haupttitel kann sich ändern, es gibt aber zu jedem Zeitpunkt senderübergreifend nur einen eindeutigen Haupttitel pro Content.\n",
      "    cdm.C_ORIGINALTITEL, -- Ist der Contenttitel der ersten bekannten Aufführung (Format: Artikel nachgestellt, außer bei Episoden). Außerdem Titel in der Originalsprache der Produktion. Titel, den der Lizenzgeber als Originaltitel definiert.\n",
      "    cdm.C_AUFLISTREIHENF,  -- Einordnung einer Episode innerhalb einer Serie mit Hilfe einer aufsteigenden Nummer; UJ: Festgelegte Reihenfolge von Episoden innerhalb einer Serie\n",
      "\n",
      "    -- #########\n",
      "    -- staffel-ebene\n",
      "    -- #########\n",
      "    -- aus.titel,  -- raus weil aus\n",
      "    -- aus.TITELID,  - raus weil aus\n",
      "    cdm.C_SERIE, -- Brauch ich vermutlich nicht aus.titel die Info schon hat (?) Dies ist der Serientitel wie er von ProMams für die Ausstrahlung des Contents ausgewiesen wird. Entspricht dem Serientitel der Ausstrahlung.\n",
      "    cdm.C_SERIE_ID, -- Brauch ich vermutlich nicht da aus.titleid die Info schon hat (?) Eindeutige Nummer der Serie. Fasst Episoden, Staffeln, Piloten oder Serienspecials zusammen.\n",
      "\n",
      "    cdm.C_PRODUKTIONSSTAFFEL_STAFFEL_NR, -- Beschreibt numerisch um welche Staffel es sich handelt. Bei Redaktion Info & Magazine und Nachrichten werden hier die Jahreszahlen hinterlegt\n",
      "    cdm.C_PRODJAHR_VON,  -- Jahr des Produktionsbeginns\n",
      "    cdm.C_SERIE_KATEGORIE, -- Die Serien Kategorie ist die strukturelle Bezeichnung einer Content Serie.  Für den Content Datamart sind folgende Werte enthalten \"Gameshow\"; \"Aktuelles\"; \"TV Movie Reihe\"; \"News-Magazin\"; \"Magazin\"; \"Talkshow\"; \"Nachrichten-Serie\"; \"Sport\"; \"Reportage\"; \"Nachrichten\"; \"Lizenzprogramm-Neutral-Serie\"; \"TV Movie\"; \"Dokumentation\"; \"Dauerwerbesendung\"; \"Spielfilm\"; \"Zeichentrick\", \"Serie\"; \"Show\"; \"Sondersendung-Serie\"; \"Teleshopping\".\n",
      "    -- cdm.C_Produktionsstaffel_ID, -- Brauch ich vermutlich nicht, da ich mir diese id auch zusammenbauen kann -- Eindeutige ID für Staffeln in ProMams. In der Contenthierarchie Serien ID - Staffel ID - Content ID.\n",
      "    -- cdm.C_SERIE_A_NUMMER, -- In diesem Feld wird seit 2017 die Qualität einer Serie beschrieben um daraus die Kategorisierung von Lizenzserien abzuleiten (z.B. Drama A, Sitcom C, etc.)\n",
      "    cdm.C_ERSTESPRODUKTIONSLAND, -- Land/Staat, in dem sich der Sitz der Produktionsfirma befindet.\n",
      "    cdm.C_SERIE_VERWENDBARKEIT, -- Kategorisierung von Serien in Serial/Procedural/High Concept/Sitcom. Feld befindet sich auf der Ebene Content/Serie.Die Kategorisierung, ob Serie einen durchgehenden Handlungsstrang (serial) hat oder nicht, beeinflusst die Aufteilung der Anschaffungskosten auf die Anzahl der Runs. Rückfragen zu Einteilung oder fehlenden Einteilung Martin Mötsch oder Asset Valuation Team.\n",
      "    cdm.C_FSK, -- Einstufung eines Content in eine altersmäßige Freigabe gemäß Einstufung des Verbandes „Freiwillige Selbstkontrolle\".\n",
      "    cdm.C_HOECHSTE_BESUCHERZAHL_D,\n",
      "\n",
      "    -- #########\n",
      "    -- LIZENZ-ebene\n",
      "    -- #########\n",
      "    cdm.L_ID,\n",
      "    cdm.A_REDAKTION_BESTOF, -- für nutzungsdauer\n",
      "    cdm.L_BEGINN, -- simulate\n",
      "    cdm.L_ENDE, -- simulate\n",
      "    cdm.L_IST_AUS, -- simulate\n",
      "    cdm.A_WIEVIELTE, -- Gibt an, um die wievielte Ausstrahlung lt. Abschreibungsgrid innerhalb einer Lizenz es sich handelt. Die wievielte zählt pro Vertrag und beginnt bei einem neuen Vertrag wieder mit 1\n",
      "    cdm.A_WIEVIELTER_RUN, -- Feld gibt die ausstrahlungsfolge innerhalb einer Lizenz wieder. In der Regel sollte die wievielte und der wievielte Run übereinstimmen, jedoch gibt es bei den kleinen Sendern Ausnahmen, bei denen die Ausstrahlungen \"von hinten\" abgespielt werden können. Das Feld wird auf der Verbrauchsebene gepflegt und bei Weitergaben fängt die Zählung von vorne an.\n",
      "    cdm.A_WH -- Ist war A Feld, aber nur für Lizenzbetrachtung relevant und sensibel, deshalb zu Lizenz gepackt: Kurzfristige und kostenfreie Wiederholung im Rahmen der jeweiligen vertraglichen Möglichkeiten\n",
      "\n",
      "    -- wenn A_WH == 1, dann haben A_WIEVIELE und A_WIEVIELTER_RUN, duplikate (also den gleichen Wert für 2 verschiedene A_IDs), bestseller wievielte is dann Missing für die A_ID wo A_WH == 1 und ansonsten gefüllt\n",
      "\n",
      "\n",
      "FROM\n",
      "    BIDS_UNIVERSE_SOURCE_CUBE.DI_CONTENT_DATAMART_V cdm\n",
      "WHERE\n",
      "    cdm.A_PERSPEKTIVE_VERBRAUCH = 1\n",
      "    -- AND cdm.A_ID IS NOT NULL -- no effect if used at this place\n",
      "    AND cdm.A_GENRE_1 IN ('Serie', 'Animation', 'Spielfilm')\n",
      ") cdm\n",
      "ON\n",
      "    g2c.ID_PROMAMS = cdm.A_ID\n",
      "\n",
      "ORDER BY aus.startzeit_ts_dr, aus.sender, zg.zielgruppe\n",
      "\n"
     ]
    }
   ],
   "source": [
    "print(sql.broadcast_target_group_cdm.query)"
   ]
  },
  {
   "cell_type": "code",
   "execution_count": 10,
   "id": "caf45324",
   "metadata": {},
   "outputs": [
    {
     "data": {
      "text/plain": [
       "{'A_ID': {'type': 'DECIMAL', 'precision': 18, 'scale': 0},\n",
       " 'A_BESTSELLER_WIEVIELTE': {'type': 'DECIMAL', 'precision': 18, 'scale': 0},\n",
       " 'A_CONTENTAUSSTRAHLUNG_WIEVIELTE_FREE_TV': {'type': 'DECIMAL',\n",
       "  'precision': 18,\n",
       "  'scale': 0},\n",
       " 'C_ID': {'type': 'DECIMAL', 'precision': 18, 'scale': 0},\n",
       " 'C_CONTENT': {'type': 'VARCHAR', 'size': 500, 'characterSet': 'UTF8'},\n",
       " 'C_ORIGINALTITEL': {'type': 'VARCHAR', 'size': 500, 'characterSet': 'UTF8'},\n",
       " 'C_AUFLISTREIHENF': {'type': 'DECIMAL', 'precision': 18, 'scale': 0},\n",
       " 'C_SERIE': {'type': 'VARCHAR', 'size': 500, 'characterSet': 'UTF8'},\n",
       " 'C_SERIE_ID': {'type': 'DECIMAL', 'precision': 18, 'scale': 0},\n",
       " 'C_PRODUKTIONSSTAFFEL_STAFFEL_NR': {'type': 'DECIMAL',\n",
       "  'precision': 18,\n",
       "  'scale': 0},\n",
       " 'C_PRODJAHR_VON': {'type': 'DECIMAL', 'precision': 18, 'scale': 0},\n",
       " 'C_SERIE_KATEGORIE': {'type': 'VARCHAR', 'size': 100, 'characterSet': 'UTF8'},\n",
       " 'C_ERSTESPRODUKTIONSLAND': {'type': 'VARCHAR',\n",
       "  'size': 100,\n",
       "  'characterSet': 'UTF8'},\n",
       " 'C_SERIE_VERWENDBARKEIT': {'type': 'VARCHAR',\n",
       "  'size': 50,\n",
       "  'characterSet': 'UTF8'},\n",
       " 'C_FSK': {'type': 'VARCHAR', 'size': 200, 'characterSet': 'UTF8'},\n",
       " 'C_HOECHSTE_BESUCHERZAHL_D': {'type': 'DECIMAL',\n",
       "  'precision': 36,\n",
       "  'scale': 18},\n",
       " 'L_ID': {'type': 'DECIMAL', 'precision': 18, 'scale': 0},\n",
       " 'A_REDAKTION_BESTOF': {'type': 'VARCHAR',\n",
       "  'size': 255,\n",
       "  'characterSet': 'UTF8'},\n",
       " 'L_BEGINN': {'type': 'TIMESTAMP', 'withLocalTimeZone': False, 'size': 8},\n",
       " 'L_ENDE': {'type': 'TIMESTAMP', 'withLocalTimeZone': False, 'size': 8},\n",
       " 'L_IST_AUS': {'type': 'DECIMAL', 'precision': 18, 'scale': 0},\n",
       " 'A_WIEVIELTE': {'type': 'DECIMAL', 'precision': 18, 'scale': 0},\n",
       " 'A_WIEVIELTER_RUN': {'type': 'DECIMAL', 'precision': 18, 'scale': 0},\n",
       " 'A_WH': {'type': 'DECIMAL', 'precision': 18, 'scale': 0}}"
      ]
     },
     "execution_count": 10,
     "metadata": {},
     "output_type": "execute_result"
    }
   ],
   "source": [
    "connection.execute(sql.cdm.query).columns()"
   ]
  },
  {
   "cell_type": "code",
   "execution_count": 11,
   "id": "96507536",
   "metadata": {},
   "outputs": [],
   "source": [
    "full = connection.export_to_pandas(sql.broadcast_target_group_cdm.query)"
   ]
  },
  {
   "cell_type": "code",
   "execution_count": 12,
   "id": "e8498f83",
   "metadata": {},
   "outputs": [
    {
     "name": "stdout",
     "output_type": "stream",
     "text": [
      "<class 'pandas.core.frame.DataFrame'>\n",
      "RangeIndex: 4828805 entries, 0 to 4828804\n",
      "Data columns (total 41 columns):\n",
      " #   Column                           Dtype  \n",
      "---  ------                           -----  \n",
      " 0   RUN_KEY                          object \n",
      " 1   TITEL                            object \n",
      " 2   SENDER                           object \n",
      " 3   STARTZEIT_TS                     object \n",
      " 4   ENDEZEIT_TS                      object \n",
      " 5   STARTZEIT_TS_DR                  object \n",
      " 6   ENDEZEIT_TS_DR                   object \n",
      " 7   WOCHENTAG                        object \n",
      " 8   DAUER                            int64  \n",
      " 9   TITELID                          int64  \n",
      " 10  GENRE_1                          object \n",
      " 11  GENRE_2                          object \n",
      " 12  GENRE_3                          object \n",
      " 13  WIEDERHOLUNG                     object \n",
      " 14  ZIELGRUPPE                       object \n",
      " 15  SEHB                             float64\n",
      " 16  TVG                              float64\n",
      " 17  ID_PROMAMS                       float64\n",
      " 18  A_ID                             float64\n",
      " 19  A_BESTSELLER_WIEVIELTE           float64\n",
      " 20  C_ID                             float64\n",
      " 21  C_CONTENT                        object \n",
      " 22  C_SERIE_ID                       float64\n",
      " 23  C_SERIE                          object \n",
      " 24  C_ORIGINALTITEL                  object \n",
      " 25  C_AUFLISTREIHENF                 float64\n",
      " 26  C_PRODUKTIONSSTAFFEL_STAFFEL_NR  float64\n",
      " 27  C_PRODJAHR_VON                   float64\n",
      " 28  C_SERIE_KATEGORIE                object \n",
      " 29  C_ERSTESPRODUKTIONSLAND          object \n",
      " 30  C_SERIE_VERWENDBARKEIT           object \n",
      " 31  C_FSK                            object \n",
      " 32  C_HOECHSTE_BESUCHERZAHL_D        float64\n",
      " 33  L_ID                             float64\n",
      " 34  A_REDAKTION_BESTOF               object \n",
      " 35  L_BEGINN                         object \n",
      " 36  L_ENDE                           object \n",
      " 37  L_IST_AUS                        float64\n",
      " 38  A_WIEVIELTE                      float64\n",
      " 39  A_WIEVIELTER_RUN                 float64\n",
      " 40  A_WH                             float64\n",
      "dtypes: float64(16), int64(2), object(23)\n",
      "memory usage: 1.5+ GB\n"
     ]
    }
   ],
   "source": [
    "full.info()"
   ]
  },
  {
   "cell_type": "markdown",
   "id": "a6eaba21",
   "metadata": {},
   "source": [
    "## lower case columns -> oder sollen das die studenten machen? sie sollen dann ein mapping erstellen, die spalte an dieser stelle nicht verändern sondern konsistent mit quelle lassen"
   ]
  },
  {
   "cell_type": "markdown",
   "id": "6271172c",
   "metadata": {},
   "source": [
    "## compute market share"
   ]
  },
  {
   "cell_type": "code",
   "execution_count": 13,
   "id": "8909ccb3",
   "metadata": {},
   "outputs": [],
   "source": [
    "full = full.assign(MARKET_SHARE = lambda x: (x['SEHB'] / x['TVG']) * 100)"
   ]
  },
  {
   "cell_type": "markdown",
   "id": "995773de",
   "metadata": {},
   "source": [
    "## new keys: full -> df: INPUT REQUIRED\n",
    "- run_id\n",
    "- title_id\n",
    "- a_id\n",
    "- c_id\n",
    "- l_id"
   ]
  },
  {
   "cell_type": "code",
   "execution_count": 14,
   "id": "e7fd0b26",
   "metadata": {},
   "outputs": [],
   "source": [
    "if False:\n",
    "    import importlib\n",
    "    import helper\n",
    "    importlib.reload(helper)\n",
    "    from helper import SimulateID, analyze_sim_kpi"
   ]
  },
  {
   "cell_type": "code",
   "execution_count": 15,
   "id": "8cc888f1",
   "metadata": {},
   "outputs": [],
   "source": [
    "simulate_id = (\n",
    "    SimulateID(full)\n",
    "    .assign_sim_id('RUN_KEY', 100000)\n",
    "    .assign_sim_id('TITELID', 30000)\n",
    "    .assign_sim_id('A_ID', 5000)\n",
    "    .assign_sim_id('C_ID', 7000)\n",
    "    .assign_sim_id('C_SERIE_ID', 4000)\n",
    "    # .assign_sim_id('L_ID', 3000)\n",
    ")"
   ]
  },
  {
   "cell_type": "code",
   "execution_count": 16,
   "id": "5e9fcce2",
   "metadata": {},
   "outputs": [],
   "source": [
    "df = simulate_id.df"
   ]
  },
  {
   "cell_type": "code",
   "execution_count": 17,
   "id": "ec9667eb",
   "metadata": {},
   "outputs": [
    {
     "data": {
      "text/plain": [
       "Index(['RUN_KEY', 'TITEL', 'SENDER', 'STARTZEIT_TS', 'ENDEZEIT_TS',\n",
       "       'STARTZEIT_TS_DR', 'ENDEZEIT_TS_DR', 'WOCHENTAG', 'DAUER', 'TITELID',\n",
       "       'GENRE_1', 'GENRE_2', 'GENRE_3', 'WIEDERHOLUNG', 'ZIELGRUPPE', 'SEHB',\n",
       "       'TVG', 'ID_PROMAMS', 'A_ID', 'A_BESTSELLER_WIEVIELTE', 'C_ID',\n",
       "       'C_CONTENT', 'C_SERIE_ID', 'C_SERIE', 'C_ORIGINALTITEL',\n",
       "       'C_AUFLISTREIHENF', 'C_PRODUKTIONSSTAFFEL_STAFFEL_NR', 'C_PRODJAHR_VON',\n",
       "       'C_SERIE_KATEGORIE', 'C_ERSTESPRODUKTIONSLAND',\n",
       "       'C_SERIE_VERWENDBARKEIT', 'C_FSK', 'C_HOECHSTE_BESUCHERZAHL_D', 'L_ID',\n",
       "       'A_REDAKTION_BESTOF', 'L_BEGINN', 'L_ENDE', 'L_IST_AUS', 'A_WIEVIELTE',\n",
       "       'A_WIEVIELTER_RUN', 'A_WH', 'MARKET_SHARE', 'RUN_KEY_SIM',\n",
       "       'TITELID_SIM', 'A_ID_SIM', 'C_ID_SIM', 'C_SERIE_ID_SIM'],\n",
       "      dtype='object')"
      ]
     },
     "execution_count": 17,
     "metadata": {},
     "output_type": "execute_result"
    }
   ],
   "source": [
    "df.columns"
   ]
  },
  {
   "cell_type": "code",
   "execution_count": 18,
   "id": "fc9c9b41",
   "metadata": {},
   "outputs": [
    {
     "data": {
      "text/html": [
       "<div>\n",
       "<style scoped>\n",
       "    .dataframe tbody tr th:only-of-type {\n",
       "        vertical-align: middle;\n",
       "    }\n",
       "\n",
       "    .dataframe tbody tr th {\n",
       "        vertical-align: top;\n",
       "    }\n",
       "\n",
       "    .dataframe thead th {\n",
       "        text-align: right;\n",
       "    }\n",
       "</style>\n",
       "<table border=\"1\" class=\"dataframe\">\n",
       "  <thead>\n",
       "    <tr style=\"text-align: right;\">\n",
       "      <th></th>\n",
       "      <th>RUN_KEY</th>\n",
       "      <th>TITELID</th>\n",
       "      <th>A_ID</th>\n",
       "      <th>C_ID</th>\n",
       "      <th>RUN_KEY_SIM</th>\n",
       "      <th>TITELID_SIM</th>\n",
       "      <th>A_ID_SIM</th>\n",
       "      <th>C_ID_SIM</th>\n",
       "    </tr>\n",
       "    <tr>\n",
       "      <th>index</th>\n",
       "      <th></th>\n",
       "      <th></th>\n",
       "      <th></th>\n",
       "      <th></th>\n",
       "      <th></th>\n",
       "      <th></th>\n",
       "      <th></th>\n",
       "      <th></th>\n",
       "    </tr>\n",
       "  </thead>\n",
       "  <tbody>\n",
       "    <tr>\n",
       "      <th>40</th>\n",
       "      <td>201201010304431069310559359</td>\n",
       "      <td>559359</td>\n",
       "      <td>24779377.0</td>\n",
       "      <td>511792.0</td>\n",
       "      <td>100021</td>\n",
       "      <td>33542</td>\n",
       "      <td>33347.0</td>\n",
       "      <td>10759.0</td>\n",
       "    </tr>\n",
       "    <tr>\n",
       "      <th>41</th>\n",
       "      <td>201201010304431069310559359</td>\n",
       "      <td>559359</td>\n",
       "      <td>24779377.0</td>\n",
       "      <td>511792.0</td>\n",
       "      <td>100021</td>\n",
       "      <td>33542</td>\n",
       "      <td>33347.0</td>\n",
       "      <td>10759.0</td>\n",
       "    </tr>\n",
       "    <tr>\n",
       "      <th>42</th>\n",
       "      <td>201201010304431069310559359</td>\n",
       "      <td>559359</td>\n",
       "      <td>24779377.0</td>\n",
       "      <td>511792.0</td>\n",
       "      <td>100021</td>\n",
       "      <td>33542</td>\n",
       "      <td>33347.0</td>\n",
       "      <td>10759.0</td>\n",
       "    </tr>\n",
       "    <tr>\n",
       "      <th>43</th>\n",
       "      <td>201201010304431069310559359</td>\n",
       "      <td>559359</td>\n",
       "      <td>24779377.0</td>\n",
       "      <td>511792.0</td>\n",
       "      <td>100021</td>\n",
       "      <td>33542</td>\n",
       "      <td>33347.0</td>\n",
       "      <td>10759.0</td>\n",
       "    </tr>\n",
       "    <tr>\n",
       "      <th>44</th>\n",
       "      <td>201201010304431069310559359</td>\n",
       "      <td>559359</td>\n",
       "      <td>24779377.0</td>\n",
       "      <td>511792.0</td>\n",
       "      <td>100021</td>\n",
       "      <td>33542</td>\n",
       "      <td>33347.0</td>\n",
       "      <td>10759.0</td>\n",
       "    </tr>\n",
       "    <tr>\n",
       "      <th>60</th>\n",
       "      <td>201201010325181069310000045</td>\n",
       "      <td>45</td>\n",
       "      <td>24779358.0</td>\n",
       "      <td>20143.0</td>\n",
       "      <td>100025</td>\n",
       "      <td>30001</td>\n",
       "      <td>33338.0</td>\n",
       "      <td>7701.0</td>\n",
       "    </tr>\n",
       "    <tr>\n",
       "      <th>61</th>\n",
       "      <td>201201010325181069310000045</td>\n",
       "      <td>45</td>\n",
       "      <td>24779358.0</td>\n",
       "      <td>20143.0</td>\n",
       "      <td>100025</td>\n",
       "      <td>30001</td>\n",
       "      <td>33338.0</td>\n",
       "      <td>7701.0</td>\n",
       "    </tr>\n",
       "    <tr>\n",
       "      <th>62</th>\n",
       "      <td>201201010325181069310000045</td>\n",
       "      <td>45</td>\n",
       "      <td>24779358.0</td>\n",
       "      <td>20143.0</td>\n",
       "      <td>100025</td>\n",
       "      <td>30001</td>\n",
       "      <td>33338.0</td>\n",
       "      <td>7701.0</td>\n",
       "    </tr>\n",
       "    <tr>\n",
       "      <th>63</th>\n",
       "      <td>201201010325181069310000045</td>\n",
       "      <td>45</td>\n",
       "      <td>24779358.0</td>\n",
       "      <td>20143.0</td>\n",
       "      <td>100025</td>\n",
       "      <td>30001</td>\n",
       "      <td>33338.0</td>\n",
       "      <td>7701.0</td>\n",
       "    </tr>\n",
       "    <tr>\n",
       "      <th>64</th>\n",
       "      <td>201201010325181069310000045</td>\n",
       "      <td>45</td>\n",
       "      <td>24779358.0</td>\n",
       "      <td>20143.0</td>\n",
       "      <td>100025</td>\n",
       "      <td>30001</td>\n",
       "      <td>33338.0</td>\n",
       "      <td>7701.0</td>\n",
       "    </tr>\n",
       "  </tbody>\n",
       "</table>\n",
       "</div>"
      ],
      "text/plain": [
       "                           RUN_KEY  TITELID        A_ID      C_ID  \\\n",
       "index                                                               \n",
       "40     201201010304431069310559359   559359  24779377.0  511792.0   \n",
       "41     201201010304431069310559359   559359  24779377.0  511792.0   \n",
       "42     201201010304431069310559359   559359  24779377.0  511792.0   \n",
       "43     201201010304431069310559359   559359  24779377.0  511792.0   \n",
       "44     201201010304431069310559359   559359  24779377.0  511792.0   \n",
       "60     201201010325181069310000045       45  24779358.0   20143.0   \n",
       "61     201201010325181069310000045       45  24779358.0   20143.0   \n",
       "62     201201010325181069310000045       45  24779358.0   20143.0   \n",
       "63     201201010325181069310000045       45  24779358.0   20143.0   \n",
       "64     201201010325181069310000045       45  24779358.0   20143.0   \n",
       "\n",
       "       RUN_KEY_SIM  TITELID_SIM  A_ID_SIM  C_ID_SIM  \n",
       "index                                                \n",
       "40          100021        33542   33347.0   10759.0  \n",
       "41          100021        33542   33347.0   10759.0  \n",
       "42          100021        33542   33347.0   10759.0  \n",
       "43          100021        33542   33347.0   10759.0  \n",
       "44          100021        33542   33347.0   10759.0  \n",
       "60          100025        30001   33338.0    7701.0  \n",
       "61          100025        30001   33338.0    7701.0  \n",
       "62          100025        30001   33338.0    7701.0  \n",
       "63          100025        30001   33338.0    7701.0  \n",
       "64          100025        30001   33338.0    7701.0  "
      ]
     },
     "execution_count": 18,
     "metadata": {},
     "output_type": "execute_result"
    }
   ],
   "source": [
    "IDS = ['RUN_KEY', 'TITELID', 'A_ID', 'C_ID'] # , 'L_ID']\n",
    "\n",
    "(\n",
    "    df\n",
    "    [IDS + [f\"{k}_SIM\" for k in IDS]]\n",
    "    .dropna()\n",
    "    .head(10))"
   ]
  },
  {
   "cell_type": "markdown",
   "id": "1b640da8",
   "metadata": {},
   "source": [
    "## simulate sehb, tvg, kinobesucher"
   ]
  },
  {
   "cell_type": "markdown",
   "id": "2c83dcd2",
   "metadata": {},
   "source": [
    "### no grouping w.r.t. movies and series: obsolete (?)"
   ]
  },
  {
   "cell_type": "code",
   "execution_count": 19,
   "id": "e4a9e0f2",
   "metadata": {
    "code_folding": [
     0
    ]
   },
   "outputs": [],
   "source": [
    "if False:\n",
    "    import numpy as np\n",
    "    from numpy.random import default_rng\n",
    "    rng = default_rng()\n",
    "\n",
    "    scale = 0.25\n",
    "    rnd = lambda x: rng.beta(0.5, 0.5, len(df))\n",
    "    \"\"\"\n",
    "    a_ = rng.random(len(df)) * scale - scale / 2\n",
    "    w_ = rng.random(len(df)) * scale * a_ - (scale * a_) / 2\n",
    "    (w_/a_).min()\n",
    "\n",
    "    a = 1 + a_\n",
    "    w = 1 + w_\n",
    "    \"\"\"\n",
    "    a = 1 + rnd(0) * scale - scale / 2\n",
    "    w_a = 1 + rnd(0) * scale - scale / 2  #  = df['MARKET_SHARE']/df['MARKET_SHARE_SIM']\n",
    "    w = a / w_a\n",
    "    print(f\"{(w_a).max()=}, {(w_a).min()=}\")\n",
    "    print(f\"{w.min()=}, {w.max()=}\")\n",
    "\n"
   ]
  },
  {
   "cell_type": "code",
   "execution_count": 20,
   "id": "7ff1a875",
   "metadata": {
    "code_folding": [
     0
    ]
   },
   "outputs": [],
   "source": [
    "if False:\n",
    "    df['TVG_SIM'] = df['TVG'] * a\n",
    "    df['SEHB_SIM'] = df['SEHB'] * w  # SEHB_SIM darf nicht größer als tvg sein, kann passieren\n",
    "    cond = df['SEHB_SIM'] > df['TVG_SIM']\n",
    "    df.loc[cond, 'SEHB_SIM'] = df.loc[cond, 'TVG_SIM']\n",
    "    df['MARKET_SHARE_SIM'] = (df['SEHB_SIM'] / df['TVG_SIM']) * 100"
   ]
  },
  {
   "cell_type": "code",
   "execution_count": 21,
   "id": "bd891bf3",
   "metadata": {},
   "outputs": [],
   "source": [
    "# analyze_sim_kpi(df, 'MARKET_SHARE')"
   ]
  },
  {
   "cell_type": "code",
   "execution_count": 22,
   "id": "b15c528b",
   "metadata": {},
   "outputs": [],
   "source": [
    "# analyze_sim_kpi(df, 'SEHB', round_ = 3)"
   ]
  },
  {
   "cell_type": "code",
   "execution_count": 23,
   "id": "a4212480",
   "metadata": {},
   "outputs": [],
   "source": [
    "# analyze_sim_kpi(df, 'TVG', round_ = 3)"
   ]
  },
  {
   "cell_type": "markdown",
   "id": "ee6bc48c",
   "metadata": {},
   "source": [
    "### group w.r.t. TITELID"
   ]
  },
  {
   "cell_type": "code",
   "execution_count": 24,
   "id": "a3381482",
   "metadata": {},
   "outputs": [],
   "source": [
    "from typing import Callable\n",
    "from numpy.random import default_rng\n",
    "\n",
    "rng = default_rng()\n",
    "scale = 0.25  # determines the spread of the random data around the true data\n",
    "rnd = lambda n: (1 + rng.beta(0.5, 0.5, 1) * scale - scale / 2).squeeze()\n",
    "multiply_sehb = 0.9  # decrease sehb sim and ma sim\n",
    "\n",
    "def get_sim_kpis(df, rnd: Callable[int, float], scale: int = 1.74):  # rnd returns a random number\n",
    "    a = rnd(1) * scale\n",
    "    w_a = rnd(1)\n",
    "    w = w_a * a\n",
    "    \n",
    "    df = df.copy() # do not mutate within apply https://pandas.pydata.org/docs/user_guide/gotchas.html#mutating-with-user-defined-function-udf-methods\n",
    "    df['TVG_SIM'] = df['TVG'] * a \n",
    "\n",
    "    df['SEHB_SIM'] = df['SEHB'] * w  * multiply_sehb # SEHB_SIM darf nicht größer als tvg sein, kann passieren\n",
    "    cond = df['SEHB_SIM'] > df['TVG_SIM']\n",
    "    df.loc[cond, 'SEHB_SIM'] = df.loc[cond, 'TVG_SIM']\n",
    "\n",
    "    df['MARKET_SHARE_SIM'] = (df['SEHB_SIM'] / df['TVG_SIM']) * 100\n",
    "    df['C_HOECHSTE_BESUCHERZAHL_D_SIM'] = df['C_HOECHSTE_BESUCHERZAHL_D'] * w_a\n",
    "    df['a'] = a\n",
    "    df['w_a'] = w_a\n",
    "    df['w'] = w\n",
    "    \n",
    "    return df"
   ]
  },
  {
   "cell_type": "code",
   "execution_count": 25,
   "id": "ff5eb00b",
   "metadata": {},
   "outputs": [],
   "source": [
    "df = (\n",
    "    df\n",
    "    .groupby(['TITELID'])  # do not group w.r.t TARGET_GROUP here, not necessary (?)\n",
    "    .apply(lambda x: get_sim_kpis(x, rnd)))"
   ]
  },
  {
   "cell_type": "code",
   "execution_count": 26,
   "id": "237c96fd",
   "metadata": {},
   "outputs": [],
   "source": [
    "# df.iloc[:, -20:].head(10)"
   ]
  },
  {
   "cell_type": "code",
   "execution_count": 27,
   "id": "c80c34bd",
   "metadata": {},
   "outputs": [],
   "source": [
    "# df[df['TITELID'] == 1024716]['C_ID']"
   ]
  },
  {
   "cell_type": "code",
   "execution_count": 28,
   "id": "bbf28968",
   "metadata": {},
   "outputs": [],
   "source": [
    "if False:\n",
    "    cond_movies_and_series = df['GENRE_1'].isin(['Spielfilm', 'Serie', 'Animation'])\n",
    "    movies_and_series = df[cond_movies_and_series].copy() # 37%\n",
    "    other = df[~cond_movies_and_series].copy() # 63%"
   ]
  },
  {
   "cell_type": "code",
   "execution_count": 29,
   "id": "6c7bf6cd",
   "metadata": {},
   "outputs": [
    {
     "data": {
      "text/html": [
       "<div>\n",
       "<style scoped>\n",
       "    .dataframe tbody tr th:only-of-type {\n",
       "        vertical-align: middle;\n",
       "    }\n",
       "\n",
       "    .dataframe tbody tr th {\n",
       "        vertical-align: top;\n",
       "    }\n",
       "\n",
       "    .dataframe thead th {\n",
       "        text-align: right;\n",
       "    }\n",
       "</style>\n",
       "<table border=\"1\" class=\"dataframe\">\n",
       "  <thead>\n",
       "    <tr style=\"text-align: right;\">\n",
       "      <th></th>\n",
       "      <th>SEHB</th>\n",
       "      <th>SEHB_SIM</th>\n",
       "      <th>abs_diff</th>\n",
       "      <th>rel_diff</th>\n",
       "    </tr>\n",
       "  </thead>\n",
       "  <tbody>\n",
       "    <tr>\n",
       "      <th>count</th>\n",
       "      <td>4828780.000</td>\n",
       "      <td>4828780.000</td>\n",
       "      <td>4828780.000</td>\n",
       "      <td>4593914.000</td>\n",
       "    </tr>\n",
       "    <tr>\n",
       "      <th>mean</th>\n",
       "      <td>0.110</td>\n",
       "      <td>0.172</td>\n",
       "      <td>-0.062</td>\n",
       "      <td>-56.823</td>\n",
       "    </tr>\n",
       "    <tr>\n",
       "      <th>std</th>\n",
       "      <td>0.193</td>\n",
       "      <td>0.305</td>\n",
       "      <td>0.116</td>\n",
       "      <td>18.325</td>\n",
       "    </tr>\n",
       "    <tr>\n",
       "      <th>min</th>\n",
       "      <td>0.000</td>\n",
       "      <td>0.000</td>\n",
       "      <td>-11.006</td>\n",
       "      <td>-98.196</td>\n",
       "    </tr>\n",
       "    <tr>\n",
       "      <th>25%</th>\n",
       "      <td>0.016</td>\n",
       "      <td>0.025</td>\n",
       "      <td>-0.069</td>\n",
       "      <td>-65.961</td>\n",
       "    </tr>\n",
       "    <tr>\n",
       "      <th>50%</th>\n",
       "      <td>0.051</td>\n",
       "      <td>0.079</td>\n",
       "      <td>-0.027</td>\n",
       "      <td>-58.278</td>\n",
       "    </tr>\n",
       "    <tr>\n",
       "      <th>75%</th>\n",
       "      <td>0.125</td>\n",
       "      <td>0.195</td>\n",
       "      <td>-0.008</td>\n",
       "      <td>-45.584</td>\n",
       "    </tr>\n",
       "    <tr>\n",
       "      <th>max</th>\n",
       "      <td>15.018</td>\n",
       "      <td>25.092</td>\n",
       "      <td>0.000</td>\n",
       "      <td>-19.901</td>\n",
       "    </tr>\n",
       "  </tbody>\n",
       "</table>\n",
       "</div>"
      ],
      "text/plain": [
       "              SEHB     SEHB_SIM     abs_diff     rel_diff\n",
       "count  4828780.000  4828780.000  4828780.000  4593914.000\n",
       "mean         0.110        0.172       -0.062      -56.823\n",
       "std          0.193        0.305        0.116       18.325\n",
       "min          0.000        0.000      -11.006      -98.196\n",
       "25%          0.016        0.025       -0.069      -65.961\n",
       "50%          0.051        0.079       -0.027      -58.278\n",
       "75%          0.125        0.195       -0.008      -45.584\n",
       "max         15.018       25.092        0.000      -19.901"
      ]
     },
     "execution_count": 29,
     "metadata": {},
     "output_type": "execute_result"
    },
    {
     "data": {
      "image/png": "[encoded data removed]",
      "text/plain": [
       "<Figure size 640x480 with 1 Axes>"
      ]
     },
     "metadata": {},
     "output_type": "display_data"
    }
   ],
   "source": [
    "analyze_sim_kpi(df, 'SEHB', round_ = 3)"
   ]
  },
  {
   "cell_type": "code",
   "execution_count": 30,
   "id": "37b74c50",
   "metadata": {},
   "outputs": [
    {
     "data": {
      "text/html": [
       "<div>\n",
       "<style scoped>\n",
       "    .dataframe tbody tr th:only-of-type {\n",
       "        vertical-align: middle;\n",
       "    }\n",
       "\n",
       "    .dataframe tbody tr th {\n",
       "        vertical-align: top;\n",
       "    }\n",
       "\n",
       "    .dataframe thead th {\n",
       "        text-align: right;\n",
       "    }\n",
       "</style>\n",
       "<table border=\"1\" class=\"dataframe\">\n",
       "  <thead>\n",
       "    <tr style=\"text-align: right;\">\n",
       "      <th></th>\n",
       "      <th>TVG</th>\n",
       "      <th>TVG_SIM</th>\n",
       "      <th>abs_diff</th>\n",
       "      <th>rel_diff</th>\n",
       "    </tr>\n",
       "  </thead>\n",
       "  <tbody>\n",
       "    <tr>\n",
       "      <th>count</th>\n",
       "      <td>4828780.000</td>\n",
       "      <td>4828780.000</td>\n",
       "      <td>4828780.000</td>\n",
       "      <td>4828771.000</td>\n",
       "    </tr>\n",
       "    <tr>\n",
       "      <th>mean</th>\n",
       "      <td>1.334</td>\n",
       "      <td>2.323</td>\n",
       "      <td>-0.988</td>\n",
       "      <td>-74.227</td>\n",
       "    </tr>\n",
       "    <tr>\n",
       "      <th>std</th>\n",
       "      <td>1.705</td>\n",
       "      <td>2.974</td>\n",
       "      <td>1.293</td>\n",
       "      <td>15.190</td>\n",
       "    </tr>\n",
       "    <tr>\n",
       "      <th>min</th>\n",
       "      <td>0.000</td>\n",
       "      <td>0.000</td>\n",
       "      <td>-15.744</td>\n",
       "      <td>-95.750</td>\n",
       "    </tr>\n",
       "    <tr>\n",
       "      <th>25%</th>\n",
       "      <td>0.362</td>\n",
       "      <td>0.626</td>\n",
       "      <td>-1.159</td>\n",
       "      <td>-88.747</td>\n",
       "    </tr>\n",
       "    <tr>\n",
       "      <th>50%</th>\n",
       "      <td>0.737</td>\n",
       "      <td>1.285</td>\n",
       "      <td>-0.544</td>\n",
       "      <td>-75.624</td>\n",
       "    </tr>\n",
       "    <tr>\n",
       "      <th>75%</th>\n",
       "      <td>1.562</td>\n",
       "      <td>2.719</td>\n",
       "      <td>-0.255</td>\n",
       "      <td>-58.156</td>\n",
       "    </tr>\n",
       "    <tr>\n",
       "      <th>max</th>\n",
       "      <td>17.170</td>\n",
       "      <td>32.331</td>\n",
       "      <td>0.000</td>\n",
       "      <td>-52.250</td>\n",
       "    </tr>\n",
       "  </tbody>\n",
       "</table>\n",
       "</div>"
      ],
      "text/plain": [
       "               TVG      TVG_SIM     abs_diff     rel_diff\n",
       "count  4828780.000  4828780.000  4828780.000  4828771.000\n",
       "mean         1.334        2.323       -0.988      -74.227\n",
       "std          1.705        2.974        1.293       15.190\n",
       "min          0.000        0.000      -15.744      -95.750\n",
       "25%          0.362        0.626       -1.159      -88.747\n",
       "50%          0.737        1.285       -0.544      -75.624\n",
       "75%          1.562        2.719       -0.255      -58.156\n",
       "max         17.170       32.331        0.000      -52.250"
      ]
     },
     "execution_count": 30,
     "metadata": {},
     "output_type": "execute_result"
    },
    {
     "data": {
      "image/png": "[encoded data removed]",
      "text/plain": [
       "<Figure size 640x480 with 1 Axes>"
      ]
     },
     "metadata": {},
     "output_type": "display_data"
    }
   ],
   "source": [
    "analyze_sim_kpi(df, 'TVG', round_ = 3)"
   ]
  },
  {
   "cell_type": "code",
   "execution_count": 31,
   "id": "e3965ff6",
   "metadata": {},
   "outputs": [
    {
     "data": {
      "text/html": [
       "<div>\n",
       "<style scoped>\n",
       "    .dataframe tbody tr th:only-of-type {\n",
       "        vertical-align: middle;\n",
       "    }\n",
       "\n",
       "    .dataframe tbody tr th {\n",
       "        vertical-align: top;\n",
       "    }\n",
       "\n",
       "    .dataframe thead th {\n",
       "        text-align: right;\n",
       "    }\n",
       "</style>\n",
       "<table border=\"1\" class=\"dataframe\">\n",
       "  <thead>\n",
       "    <tr style=\"text-align: right;\">\n",
       "      <th></th>\n",
       "      <th>MARKET_SHARE</th>\n",
       "      <th>MARKET_SHARE_SIM</th>\n",
       "      <th>abs_diff</th>\n",
       "      <th>rel_diff</th>\n",
       "    </tr>\n",
       "  </thead>\n",
       "  <tbody>\n",
       "    <tr>\n",
       "      <th>count</th>\n",
       "      <td>4828771.000</td>\n",
       "      <td>4828771.000</td>\n",
       "      <td>4828771.000</td>\n",
       "      <td>4593914.000</td>\n",
       "    </tr>\n",
       "    <tr>\n",
       "      <th>mean</th>\n",
       "      <td>8.029</td>\n",
       "      <td>7.250</td>\n",
       "      <td>0.778</td>\n",
       "      <td>9.892</td>\n",
       "    </tr>\n",
       "    <tr>\n",
       "      <th>std</th>\n",
       "      <td>7.262</td>\n",
       "      <td>6.632</td>\n",
       "      <td>1.065</td>\n",
       "      <td>7.773</td>\n",
       "    </tr>\n",
       "    <tr>\n",
       "      <th>min</th>\n",
       "      <td>0.000</td>\n",
       "      <td>0.000</td>\n",
       "      <td>-1.087</td>\n",
       "      <td>-1.250</td>\n",
       "    </tr>\n",
       "    <tr>\n",
       "      <th>25%</th>\n",
       "      <td>3.290</td>\n",
       "      <td>2.927</td>\n",
       "      <td>0.011</td>\n",
       "      <td>1.177</td>\n",
       "    </tr>\n",
       "    <tr>\n",
       "      <th>50%</th>\n",
       "      <td>6.342</td>\n",
       "      <td>5.678</td>\n",
       "      <td>0.451</td>\n",
       "      <td>10.998</td>\n",
       "    </tr>\n",
       "    <tr>\n",
       "      <th>75%</th>\n",
       "      <td>10.694</td>\n",
       "      <td>9.672</td>\n",
       "      <td>1.144</td>\n",
       "      <td>17.126</td>\n",
       "    </tr>\n",
       "    <tr>\n",
       "      <th>max</th>\n",
       "      <td>100.000</td>\n",
       "      <td>99.383</td>\n",
       "      <td>19.816</td>\n",
       "      <td>21.250</td>\n",
       "    </tr>\n",
       "  </tbody>\n",
       "</table>\n",
       "</div>"
      ],
      "text/plain": [
       "       MARKET_SHARE  MARKET_SHARE_SIM     abs_diff     rel_diff\n",
       "count   4828771.000       4828771.000  4828771.000  4593914.000\n",
       "mean          8.029             7.250        0.778        9.892\n",
       "std           7.262             6.632        1.065        7.773\n",
       "min           0.000             0.000       -1.087       -1.250\n",
       "25%           3.290             2.927        0.011        1.177\n",
       "50%           6.342             5.678        0.451       10.998\n",
       "75%          10.694             9.672        1.144       17.126\n",
       "max         100.000            99.383       19.816       21.250"
      ]
     },
     "execution_count": 31,
     "metadata": {},
     "output_type": "execute_result"
    },
    {
     "data": {
      "image/png": "[encoded data removed]",
      "text/plain": [
       "<Figure size 640x480 with 1 Axes>"
      ]
     },
     "metadata": {},
     "output_type": "display_data"
    }
   ],
   "source": [
    "analyze_sim_kpi(df, 'MARKET_SHARE', round_ = 3)"
   ]
  },
  {
   "cell_type": "code",
   "execution_count": 32,
   "id": "283109c6",
   "metadata": {},
   "outputs": [
    {
     "data": {
      "text/html": [
       "<div>\n",
       "<style scoped>\n",
       "    .dataframe tbody tr th:only-of-type {\n",
       "        vertical-align: middle;\n",
       "    }\n",
       "\n",
       "    .dataframe tbody tr th {\n",
       "        vertical-align: top;\n",
       "    }\n",
       "\n",
       "    .dataframe thead th {\n",
       "        text-align: right;\n",
       "    }\n",
       "</style>\n",
       "<table border=\"1\" class=\"dataframe\">\n",
       "  <thead>\n",
       "    <tr style=\"text-align: right;\">\n",
       "      <th></th>\n",
       "      <th>C_HOECHSTE_BESUCHERZAHL_D</th>\n",
       "      <th>C_HOECHSTE_BESUCHERZAHL_D_SIM</th>\n",
       "      <th>abs_diff</th>\n",
       "      <th>rel_diff</th>\n",
       "    </tr>\n",
       "  </thead>\n",
       "  <tbody>\n",
       "    <tr>\n",
       "      <th>count</th>\n",
       "      <td>8.850500e+04</td>\n",
       "      <td>8.850500e+04</td>\n",
       "      <td>88505.000</td>\n",
       "      <td>88505.000</td>\n",
       "    </tr>\n",
       "    <tr>\n",
       "      <th>mean</th>\n",
       "      <td>1.422924e+06</td>\n",
       "      <td>1.427692e+06</td>\n",
       "      <td>-4768.438</td>\n",
       "      <td>0.006</td>\n",
       "    </tr>\n",
       "    <tr>\n",
       "      <th>std</th>\n",
       "      <td>1.979746e+06</td>\n",
       "      <td>2.010930e+06</td>\n",
       "      <td>193781.602</td>\n",
       "      <td>8.877</td>\n",
       "    </tr>\n",
       "    <tr>\n",
       "      <th>min</th>\n",
       "      <td>1.700000e+01</td>\n",
       "      <td>1.888700e+01</td>\n",
       "      <td>-1346346.819</td>\n",
       "      <td>-12.500</td>\n",
       "    </tr>\n",
       "    <tr>\n",
       "      <th>25%</th>\n",
       "      <td>2.765860e+05</td>\n",
       "      <td>2.786095e+05</td>\n",
       "      <td>-46168.063</td>\n",
       "      <td>-9.029</td>\n",
       "    </tr>\n",
       "    <tr>\n",
       "      <th>50%</th>\n",
       "      <td>7.194510e+05</td>\n",
       "      <td>7.176555e+05</td>\n",
       "      <td>257.763</td>\n",
       "      <td>0.216</td>\n",
       "    </tr>\n",
       "    <tr>\n",
       "      <th>75%</th>\n",
       "      <td>1.697128e+06</td>\n",
       "      <td>1.675906e+06</td>\n",
       "      <td>52147.678</td>\n",
       "      <td>8.815</td>\n",
       "    </tr>\n",
       "    <tr>\n",
       "      <th>max</th>\n",
       "      <td>1.799210e+07</td>\n",
       "      <td>1.758208e+07</td>\n",
       "      <td>1106688.691</td>\n",
       "      <td>12.500</td>\n",
       "    </tr>\n",
       "  </tbody>\n",
       "</table>\n",
       "</div>"
      ],
      "text/plain": [
       "       C_HOECHSTE_BESUCHERZAHL_D  C_HOECHSTE_BESUCHERZAHL_D_SIM     abs_diff  \\\n",
       "count               8.850500e+04                   8.850500e+04    88505.000   \n",
       "mean                1.422924e+06                   1.427692e+06    -4768.438   \n",
       "std                 1.979746e+06                   2.010930e+06   193781.602   \n",
       "min                 1.700000e+01                   1.888700e+01 -1346346.819   \n",
       "25%                 2.765860e+05                   2.786095e+05   -46168.063   \n",
       "50%                 7.194510e+05                   7.176555e+05      257.763   \n",
       "75%                 1.697128e+06                   1.675906e+06    52147.678   \n",
       "max                 1.799210e+07                   1.758208e+07  1106688.691   \n",
       "\n",
       "        rel_diff  \n",
       "count  88505.000  \n",
       "mean       0.006  \n",
       "std        8.877  \n",
       "min      -12.500  \n",
       "25%       -9.029  \n",
       "50%        0.216  \n",
       "75%        8.815  \n",
       "max       12.500  "
      ]
     },
     "execution_count": 32,
     "metadata": {},
     "output_type": "execute_result"
    },
    {
     "data": {
      "image/png": "[encoded data removed]",
      "text/plain": [
       "<Figure size 640x480 with 1 Axes>"
      ]
     },
     "metadata": {},
     "output_type": "display_data"
    }
   ],
   "source": [
    "analyze_sim_kpi(df, 'C_HOECHSTE_BESUCHERZAHL_D', round_ = 3)"
   ]
  },
  {
   "cell_type": "markdown",
   "id": "33da6835",
   "metadata": {},
   "source": [
    "# NEW: Simulate licenses"
   ]
  },
  {
   "cell_type": "code",
   "execution_count": 33,
   "id": "e770fea5",
   "metadata": {},
   "outputs": [],
   "source": [
    "# df['L_BEGINN'] = pd.to_datetime(df['L_BEGINN'])\n",
    "# df['L_ENDE'] = pd.to_datetime(df['L_ENDE'])\n",
    "# df['STARTZEIT_TS_DR'] = pd.to_datetime(df['STARTZEIT_TS_DR'])"
   ]
  },
  {
   "cell_type": "markdown",
   "id": "8533f9b7",
   "metadata": {},
   "source": [
    "## current"
   ]
  },
  {
   "cell_type": "code",
   "execution_count": 34,
   "id": "719baf73",
   "metadata": {},
   "outputs": [],
   "source": [
    "_df = df"
   ]
  },
  {
   "cell_type": "code",
   "execution_count": 35,
   "id": "7201b142",
   "metadata": {},
   "outputs": [],
   "source": [
    "max_ld_id_sim = df['L_ID'].max()\n",
    "max_runs = _df['L_IST_AUS'].drop_duplicates().squeeze()\n",
    "cols = ['L_ID', 'A_WIEVIELTER_RUN', 'L_BEGINN', 'L_ENDE', 'L_IST_AUS']\n",
    "\n",
    "\n",
    "def first_runs(_df):\n",
    "    max_runs = _df['A_WIEVIELTER_RUN'].max()\n",
    "    one_run = max_runs == 1\n",
    "    first_runs = _df['A_WIEVIELTER_RUN'] < max_runs\n",
    "    if one_run:\n",
    "        _df1 = _df.assign(L_IST_AUS_SIM = 1, L_STATUS = 'one_run')\n",
    "    else:\n",
    "        _df1 = (\n",
    "            _df\n",
    "            [first_runs]\n",
    "            .assign(\n",
    "                L_IST_AUS_SIM = max_runs - 1, L_STATUS = 'first_runs'))\n",
    "    return _df1\n",
    "\n",
    "def last_runs(_df):\n",
    "    max_runs = _df['A_WIEVIELTER_RUN'].max()\n",
    "    one_run = max_runs == 1\n",
    "    last_run = _df['A_WIEVIELTER_RUN'] == _df['A_WIEVIELTER_RUN'].max()\n",
    "    if one_run:\n",
    "        return pd.DataFrame(columns=_df.columns)\n",
    "    else:\n",
    "        _df2 = _df[last_run].assign(L_IST_AUS_SIM = 1, L_STATUS = 'last_run')\n",
    "        return _df2\n",
    "\n",
    "\n",
    "_temp = ( # for each unique run_key get first_runs and last_runs\n",
    "    _df\n",
    "    .dropna(subset=['L_ID'])\n",
    "    .drop_duplicates(['RUN_KEY'])  # [L_ID, A_WIEVIELTER_RUN, A_WH] statt RUN_KEY? -> eher nicht\n",
    "    .sort_values(['A_WIEVIELTER_RUN']))\n",
    "_grouped = _temp.groupby(['L_ID'])\n",
    "\n",
    "_df1 = _grouped.apply(first_runs).reset_index(level=0, drop=True)  # drop index 'L_ID' so that the index is the old index\n",
    "_df2 = _grouped.apply(last_runs).reset_index(level=0, drop=True)  # drop index 'L_ID' so that the index is the old index\n",
    "\n",
    "assert _temp.shape[0] == _df1.shape[0] + _df2.shape[0]"
   ]
  },
  {
   "cell_type": "code",
   "execution_count": 36,
   "id": "5deb66a3",
   "metadata": {},
   "outputs": [],
   "source": [
    "# _df1"
   ]
  },
  {
   "cell_type": "code",
   "execution_count": 37,
   "id": "d128c4c9",
   "metadata": {
    "code_folding": [
     0
    ]
   },
   "outputs": [],
   "source": [
    "def transform_l_ende(col: pd.Series):\n",
    "    col = col.copy()\n",
    "    cond1 = col.str.startswith('9999-12-31')\n",
    "    cond2 = col.isna()\n",
    "    cond = cond1 | cond2\n",
    "    col[~cond] = (pd.to_datetime(col[~cond]) + pd.to_timedelta(rng.integers(1, 33) + 17, unit='D')).astype(str)\n",
    "    return col\n",
    "\n",
    "# after groupby\n",
    "_df1 = _df1.assign(\n",
    "        # L_STATUS = 'first_runs',\n",
    "        L_ID_NEW = lambda x: x['L_ID'],\n",
    "        L_BEGINN_SIM = lambda x: (pd.to_datetime(x['L_BEGINN']) - pd.to_timedelta(rng.geometric(0.2, x.shape[0]) + 63, unit='D')).astype(str),  \n",
    "        L_ENDE_SIM = lambda x: transform_l_ende(x['L_ENDE']),\n",
    "        A_WIEVIELTER_RUN_SIM = lambda x: x['A_WIEVIELTER_RUN'])\n",
    "_df2 = _df2.assign(\n",
    "        # L_STATUS = 'last_run',\n",
    "        L_ID_NEW = lambda x: x['L_ID'] + max_ld_id_sim, # need new ld_id_sim\n",
    "        L_BEGINN_SIM = lambda x: (pd.to_datetime(x['STARTZEIT_TS_DR']) - pd.to_timedelta(rng.geometric(0.2, x.shape[0]) + 72, unit='D')).dt.floor('D').astype(str),\n",
    "        L_ENDE_SIM = lambda x: (pd.to_datetime(x['STARTZEIT_TS_DR']) + pd.to_timedelta(rng.geometric(0.2, x.shape[0]) + 13, unit='D')).dt.floor('D').astype(str), # need to this this here because L_ENDE has values that are too large to be converted into a pd.Timestamp\n",
    "        A_WIEVIELTER_RUN_SIM = 1)\n",
    "    \n",
    "_combined = pd.concat([_df1, _df2])  # drop index 'L_ID'\n",
    "_index = _combined.index\n",
    "# \n",
    "_out = (\n",
    "    SimulateID(\n",
    "        _combined.sort_values(by=['STARTZEIT_TS_DR', 'SENDER', 'ZIELGRUPPE']))\n",
    "    .assign_sim_id('L_ID_NEW', 3000)\n",
    "    .df\n",
    ")\n",
    "assert _out['L_ID_NEW_SIM'].notna().all() # important, otherwise the following merge explodes because L_ID has missings"
   ]
  },
  {
   "cell_type": "code",
   "execution_count": 38,
   "id": "9bbfc44e",
   "metadata": {},
   "outputs": [],
   "source": [
    "license_cols2collect = [\n",
    "    'L_ID_NEW', 'L_ID_NEW_SIM', 'L_STATUS', 'L_BEGINN_SIM', 'L_ENDE_SIM', 'A_WIEVIELTER_RUN_SIM', 'L_IST_AUS_SIM']\n",
    "license_cols = ['RUN_KEY', 'TITEL', 'SENDER', 'ZIELGRUPPE', 'STARTZEIT_TS_DR',\n",
    "    'L_ID', 'A_REDAKTION_BESTOF', 'L_BEGINN', 'L_ENDE', 'L_IST_AUS', 'A_WIEVIELTE', 'A_WIEVIELTER_RUN', 'A_WH',\n",
    "]"
   ]
  },
  {
   "cell_type": "code",
   "execution_count": 39,
   "id": "486d70eb",
   "metadata": {},
   "outputs": [
    {
     "data": {
      "text/html": [
       "<div>\n",
       "<style scoped>\n",
       "    .dataframe tbody tr th:only-of-type {\n",
       "        vertical-align: middle;\n",
       "    }\n",
       "\n",
       "    .dataframe tbody tr th {\n",
       "        vertical-align: top;\n",
       "    }\n",
       "\n",
       "    .dataframe thead th {\n",
       "        text-align: right;\n",
       "    }\n",
       "</style>\n",
       "<table border=\"1\" class=\"dataframe\">\n",
       "  <thead>\n",
       "    <tr style=\"text-align: right;\">\n",
       "      <th></th>\n",
       "      <th>RUN_KEY</th>\n",
       "      <th>TITEL</th>\n",
       "      <th>SENDER</th>\n",
       "      <th>ZIELGRUPPE</th>\n",
       "      <th>STARTZEIT_TS_DR</th>\n",
       "      <th>L_ID</th>\n",
       "      <th>A_REDAKTION_BESTOF</th>\n",
       "      <th>L_BEGINN</th>\n",
       "      <th>L_ENDE</th>\n",
       "      <th>L_IST_AUS</th>\n",
       "      <th>A_WIEVIELTE</th>\n",
       "      <th>A_WIEVIELTER_RUN</th>\n",
       "      <th>A_WH</th>\n",
       "      <th>L_ID_NEW</th>\n",
       "      <th>L_ID_NEW_SIM</th>\n",
       "      <th>L_STATUS</th>\n",
       "      <th>L_BEGINN_SIM</th>\n",
       "      <th>L_ENDE_SIM</th>\n",
       "      <th>A_WIEVIELTER_RUN_SIM</th>\n",
       "      <th>L_IST_AUS_SIM</th>\n",
       "    </tr>\n",
       "    <tr>\n",
       "      <th>index</th>\n",
       "      <th></th>\n",
       "      <th></th>\n",
       "      <th></th>\n",
       "      <th></th>\n",
       "      <th></th>\n",
       "      <th></th>\n",
       "      <th></th>\n",
       "      <th></th>\n",
       "      <th></th>\n",
       "      <th></th>\n",
       "      <th></th>\n",
       "      <th></th>\n",
       "      <th></th>\n",
       "      <th></th>\n",
       "      <th></th>\n",
       "      <th></th>\n",
       "      <th></th>\n",
       "      <th></th>\n",
       "      <th></th>\n",
       "      <th></th>\n",
       "    </tr>\n",
       "  </thead>\n",
       "  <tbody>\n",
       "    <tr>\n",
       "      <th>40</th>\n",
       "      <td>201201010304431069310559359</td>\n",
       "      <td>Meine wilden Töchter</td>\n",
       "      <td>Kabel Eins</td>\n",
       "      <td>Erw. 14-49</td>\n",
       "      <td>2012-01-01 03:04:43.000000</td>\n",
       "      <td>637798.0</td>\n",
       "      <td>Serie</td>\n",
       "      <td>2006-09-01 00:00:00.000000</td>\n",
       "      <td>2015-01-31 00:00:00.000000</td>\n",
       "      <td>10.0</td>\n",
       "      <td>6.0</td>\n",
       "      <td>7.0</td>\n",
       "      <td>1.0</td>\n",
       "      <td>637798.0</td>\n",
       "      <td>3428</td>\n",
       "      <td>first_runs</td>\n",
       "      <td>2006-06-19</td>\n",
       "      <td>2015-02-21</td>\n",
       "      <td>7.0</td>\n",
       "      <td>8.0</td>\n",
       "    </tr>\n",
       "    <tr>\n",
       "      <th>60</th>\n",
       "      <td>201201010325181069310000045</td>\n",
       "      <td>BILL COSBY SHOW</td>\n",
       "      <td>Kabel Eins</td>\n",
       "      <td>Erw. 14-49</td>\n",
       "      <td>2012-01-01 03:25:18.000000</td>\n",
       "      <td>1528764.0</td>\n",
       "      <td>Serie</td>\n",
       "      <td>2010-09-01 00:00:00.000000</td>\n",
       "      <td>2014-12-31 00:00:00.000000</td>\n",
       "      <td>6.0</td>\n",
       "      <td>3.0</td>\n",
       "      <td>3.0</td>\n",
       "      <td>1.0</td>\n",
       "      <td>1528764.0</td>\n",
       "      <td>4676</td>\n",
       "      <td>first_runs</td>\n",
       "      <td>2010-06-27</td>\n",
       "      <td>2015-01-21</td>\n",
       "      <td>3.0</td>\n",
       "      <td>4.0</td>\n",
       "    </tr>\n",
       "    <tr>\n",
       "      <th>65</th>\n",
       "      <td>201201010349141069310000045</td>\n",
       "      <td>BILL COSBY SHOW</td>\n",
       "      <td>Kabel Eins</td>\n",
       "      <td>Erw. 14-49</td>\n",
       "      <td>2012-01-01 03:49:14.000000</td>\n",
       "      <td>1528765.0</td>\n",
       "      <td>Serie</td>\n",
       "      <td>2010-09-01 00:00:00.000000</td>\n",
       "      <td>2014-12-31 00:00:00.000000</td>\n",
       "      <td>6.0</td>\n",
       "      <td>3.0</td>\n",
       "      <td>3.0</td>\n",
       "      <td>1.0</td>\n",
       "      <td>1528765.0</td>\n",
       "      <td>4677</td>\n",
       "      <td>first_runs</td>\n",
       "      <td>2010-06-02</td>\n",
       "      <td>2015-01-21</td>\n",
       "      <td>3.0</td>\n",
       "      <td>4.0</td>\n",
       "    </tr>\n",
       "    <tr>\n",
       "      <th>80</th>\n",
       "      <td>201201010412591069310782322</td>\n",
       "      <td>Short Time - Nichts als Ärger mit dem Kamikaze...</td>\n",
       "      <td>Kabel Eins</td>\n",
       "      <td>Erw. 14-49</td>\n",
       "      <td>2012-01-01 04:12:59.000000</td>\n",
       "      <td>518840.0</td>\n",
       "      <td>Spielfilm</td>\n",
       "      <td>2008-01-01 00:00:00.000000</td>\n",
       "      <td>2013-12-31 00:00:00.000000</td>\n",
       "      <td>6.0</td>\n",
       "      <td>3.0</td>\n",
       "      <td>3.0</td>\n",
       "      <td>0.0</td>\n",
       "      <td>518840.0</td>\n",
       "      <td>3159</td>\n",
       "      <td>first_runs</td>\n",
       "      <td>2007-10-29</td>\n",
       "      <td>2014-01-21</td>\n",
       "      <td>3.0</td>\n",
       "      <td>4.0</td>\n",
       "    </tr>\n",
       "    <tr>\n",
       "      <th>145</th>\n",
       "      <td>201201010542371069310007501</td>\n",
       "      <td>CAT BALLOU - HAENGEN SOLLST DUIN WYOMING</td>\n",
       "      <td>Kabel Eins</td>\n",
       "      <td>Erw. 14-49</td>\n",
       "      <td>2012-01-01 05:42:37.000000</td>\n",
       "      <td>841599.0</td>\n",
       "      <td>Spielfilm</td>\n",
       "      <td>2008-05-01 00:00:00.000000</td>\n",
       "      <td>2012-03-30 00:00:00.000000</td>\n",
       "      <td>4.0</td>\n",
       "      <td>2.0</td>\n",
       "      <td>2.0</td>\n",
       "      <td>0.0</td>\n",
       "      <td>4095193.0</td>\n",
       "      <td>44244</td>\n",
       "      <td>last_run</td>\n",
       "      <td>2011-10-18</td>\n",
       "      <td>2012-01-15</td>\n",
       "      <td>1.0</td>\n",
       "      <td>1.0</td>\n",
       "    </tr>\n",
       "  </tbody>\n",
       "</table>\n",
       "</div>"
      ],
      "text/plain": [
       "                           RUN_KEY  \\\n",
       "index                                \n",
       "40     201201010304431069310559359   \n",
       "60     201201010325181069310000045   \n",
       "65     201201010349141069310000045   \n",
       "80     201201010412591069310782322   \n",
       "145    201201010542371069310007501   \n",
       "\n",
       "                                                   TITEL      SENDER  \\\n",
       "index                                                                  \n",
       "40                                  Meine wilden Töchter  Kabel Eins   \n",
       "60                                       BILL COSBY SHOW  Kabel Eins   \n",
       "65                                       BILL COSBY SHOW  Kabel Eins   \n",
       "80     Short Time - Nichts als Ärger mit dem Kamikaze...  Kabel Eins   \n",
       "145             CAT BALLOU - HAENGEN SOLLST DUIN WYOMING  Kabel Eins   \n",
       "\n",
       "       ZIELGRUPPE             STARTZEIT_TS_DR       L_ID A_REDAKTION_BESTOF  \\\n",
       "index                                                                         \n",
       "40     Erw. 14-49  2012-01-01 03:04:43.000000   637798.0              Serie   \n",
       "60     Erw. 14-49  2012-01-01 03:25:18.000000  1528764.0              Serie   \n",
       "65     Erw. 14-49  2012-01-01 03:49:14.000000  1528765.0              Serie   \n",
       "80     Erw. 14-49  2012-01-01 04:12:59.000000   518840.0          Spielfilm   \n",
       "145    Erw. 14-49  2012-01-01 05:42:37.000000   841599.0          Spielfilm   \n",
       "\n",
       "                         L_BEGINN                      L_ENDE  L_IST_AUS  \\\n",
       "index                                                                      \n",
       "40     2006-09-01 00:00:00.000000  2015-01-31 00:00:00.000000       10.0   \n",
       "60     2010-09-01 00:00:00.000000  2014-12-31 00:00:00.000000        6.0   \n",
       "65     2010-09-01 00:00:00.000000  2014-12-31 00:00:00.000000        6.0   \n",
       "80     2008-01-01 00:00:00.000000  2013-12-31 00:00:00.000000        6.0   \n",
       "145    2008-05-01 00:00:00.000000  2012-03-30 00:00:00.000000        4.0   \n",
       "\n",
       "       A_WIEVIELTE  A_WIEVIELTER_RUN  A_WH   L_ID_NEW  L_ID_NEW_SIM  \\\n",
       "index                                                                 \n",
       "40             6.0               7.0   1.0   637798.0          3428   \n",
       "60             3.0               3.0   1.0  1528764.0          4676   \n",
       "65             3.0               3.0   1.0  1528765.0          4677   \n",
       "80             3.0               3.0   0.0   518840.0          3159   \n",
       "145            2.0               2.0   0.0  4095193.0         44244   \n",
       "\n",
       "         L_STATUS L_BEGINN_SIM  L_ENDE_SIM  A_WIEVIELTER_RUN_SIM  \\\n",
       "index                                                              \n",
       "40     first_runs   2006-06-19  2015-02-21                   7.0   \n",
       "60     first_runs   2010-06-27  2015-01-21                   3.0   \n",
       "65     first_runs   2010-06-02  2015-01-21                   3.0   \n",
       "80     first_runs   2007-10-29  2014-01-21                   3.0   \n",
       "145      last_run   2011-10-18  2012-01-15                   1.0   \n",
       "\n",
       "       L_IST_AUS_SIM  \n",
       "index                 \n",
       "40               8.0  \n",
       "60               4.0  \n",
       "65               4.0  \n",
       "80               4.0  \n",
       "145              1.0  "
      ]
     },
     "execution_count": 39,
     "metadata": {},
     "output_type": "execute_result"
    }
   ],
   "source": [
    "_out[license_cols + license_cols2collect].head()"
   ]
  },
  {
   "cell_type": "code",
   "execution_count": 40,
   "id": "2cd13be5",
   "metadata": {
    "code_folding": [
     0
    ]
   },
   "outputs": [],
   "source": [
    "if False:\n",
    "    license_sim = (\n",
    "         _df.dropna(subset=['L_ID'])\n",
    "        .join(\n",
    "            _out[license_cols2collect],\n",
    "        ))\n",
    "    license_sim.index.name = None\n",
    "    assert license_sim.shape[0] == _df.loc[_df['L_ID'].notna()].shape[0]\n",
    "    license_sim"
   ]
  },
  {
   "cell_type": "code",
   "execution_count": 41,
   "id": "0f51964f",
   "metadata": {
    "code_folding": []
   },
   "outputs": [],
   "source": [
    "if True:\n",
    "    license_sim = (\n",
    "     _df.dropna(subset=['L_ID'])[['RUN_KEY']].reset_index()\n",
    "    .merge(\n",
    "        _out[['RUN_KEY'] + license_cols2collect],\n",
    "        how='left',\n",
    "        on=['RUN_KEY'])\n",
    "    .set_index('index'))\n",
    "    license_sim.index.name = None\n",
    "    assert license_sim.shape[0] == _df.loc[_df['L_ID'].notna()].shape[0]\n",
    "    license_sim"
   ]
  },
  {
   "cell_type": "code",
   "execution_count": 42,
   "id": "6d57b394",
   "metadata": {},
   "outputs": [],
   "source": [
    "fully_merged = df.join(\n",
    "    license_sim,\n",
    "    rsuffix=\"_\")\n",
    "assert fully_merged.shape[0] == df.shape[0]"
   ]
  },
  {
   "cell_type": "code",
   "execution_count": 43,
   "id": "50ced095",
   "metadata": {},
   "outputs": [],
   "source": [
    "if False:\n",
    "    fully_merged = df.join(\n",
    "    _out[['L_ID_NEW', 'RUN_KEY'] + license_cols2collect],\n",
    "    rsuffix=\"_\")\n",
    "    assert fully_merged.shape[0] == df.shape[0]"
   ]
  },
  {
   "cell_type": "code",
   "execution_count": 44,
   "id": "0414544d",
   "metadata": {},
   "outputs": [],
   "source": [
    "_check = fully_merged.dropna(subset=['L_ID'])\n",
    "pd.testing.assert_series_equal(\n",
    "    _check['RUN_KEY'],\n",
    "    _check['RUN_KEY_'],\n",
    "    check_names=False)"
   ]
  },
  {
   "cell_type": "code",
   "execution_count": 45,
   "id": "32bb448a",
   "metadata": {},
   "outputs": [],
   "source": [
    "df = fully_merged"
   ]
  },
  {
   "cell_type": "code",
   "execution_count": 46,
   "id": "5f67258e",
   "metadata": {},
   "outputs": [],
   "source": [
    "if False:\n",
    "    _check[license_cols + license_cols2collect].drop_duplicates('RUN_KEY')"
   ]
  },
  {
   "cell_type": "code",
   "execution_count": 47,
   "id": "01a5d5e8",
   "metadata": {},
   "outputs": [],
   "source": [
    "if False:\n",
    "    _a = _check[license_cols + license_cols2collect].drop_duplicates('RUN_KEY')\n",
    "    _a[_a['L_ID'] == 2330030.0]"
   ]
  },
  {
   "cell_type": "code",
   "execution_count": 48,
   "id": "b09a82f0",
   "metadata": {},
   "outputs": [],
   "source": [
    "if False:\n",
    "    cond = _a['A_WIEVIELTER_RUN'] > _a['L_IST_AUS']\n",
    "    cond.sum() / cond.shape[0]  # knapp 5%"
   ]
  },
  {
   "cell_type": "code",
   "execution_count": 49,
   "id": "1ca7ad2d",
   "metadata": {},
   "outputs": [],
   "source": [
    "if False:\n",
    "    cond = _a['A_WIEVIELTER_RUN'] != _a['A_WIEVIELTE'] \n",
    "    cond.sum() / cond.shape[0]"
   ]
  },
  {
   "cell_type": "code",
   "execution_count": 50,
   "id": "5b4a63c4",
   "metadata": {},
   "outputs": [],
   "source": [
    "if False:\n",
    "    _a.set_index('L_ID').loc[3073513.0]"
   ]
  },
  {
   "cell_type": "code",
   "execution_count": 51,
   "id": "fbb34688",
   "metadata": {},
   "outputs": [],
   "source": [
    "if False:\n",
    "    _a[cond][_a[cond]['L_ID'].duplicated(keep=False)].sort_values(['L_ID']).set_index('L_ID') # .loc[1654681.0]"
   ]
  },
  {
   "cell_type": "code",
   "execution_count": 52,
   "id": "88a33d61",
   "metadata": {},
   "outputs": [],
   "source": [
    "if False:\n",
    "    cond = _a['A_WIEVIELTE'] > _a['L_IST_AUS']\n",
    "    cond.sum() / cond.shape[0]  # 0 "
   ]
  },
  {
   "cell_type": "markdown",
   "id": "895a01af",
   "metadata": {},
   "source": [
    "# save full tables as csv:df -> df_export -> table_dc"
   ]
  },
  {
   "cell_type": "code",
   "execution_count": 53,
   "id": "842295b2",
   "metadata": {},
   "outputs": [],
   "source": [
    "# df.columns"
   ]
  },
  {
   "cell_type": "code",
   "execution_count": 54,
   "id": "77d529b8",
   "metadata": {
    "code_folding": [
     0
    ]
   },
   "outputs": [],
   "source": [
    "if False:\n",
    "    mapping = {\n",
    "        'RUN_KEY': 'RUN_KEY_SIM',\n",
    "        'TITELID': 'TITELID_SIM',\n",
    "        'C_ID': 'C_ID_SIM'\n",
    "    }"
   ]
  },
  {
   "cell_type": "code",
   "execution_count": 55,
   "id": "bce678a3",
   "metadata": {
    "code_folding": []
   },
   "outputs": [],
   "source": [
    "# tables = ['broadcast', 'target_group', 'cdm', 'mapping', 'joined']\n",
    "today = datetime.now().strftime(\"%Y_%m_%d\")"
   ]
  },
  {
   "cell_type": "code",
   "execution_count": 56,
   "id": "10ceb3ce",
   "metadata": {
    "code_folding": [
     0
    ]
   },
   "outputs": [],
   "source": [
    "if False:\n",
    "    format_ = 'csv'\n",
    "    tables = ['broadcast', 'target_group', 'cdm', 'mapping', 'joined']\n",
    "    today = datetime.now().strftime(\"%Y_%m_%d\")\n",
    "    for table in tables:\n",
    "        if table == 'joined':\n",
    "            cols = df.columns\n",
    "        elif table == 'mapping':\n",
    "            cols = list(mapping.values())\n",
    "        else:\n",
    "            cols = list(connection.execute(getattr(sql, table).query).columns().keys())\n",
    "            for k, v in mapping.items():\n",
    "                if k in cols:\n",
    "                    cols = cols + [v]\n",
    "        path = f\"./csv/{today}/{table}.{format_}\"\n",
    "        os.makedirs(f\"./csv/{today}\", exist_ok=True) \n",
    "        df.to_csv(path, columns=cols, sep=\";\", index=False, compression=format_)"
   ]
  },
  {
   "cell_type": "code",
   "execution_count": 57,
   "id": "8a325372",
   "metadata": {
    "code_folding": [
     0
    ]
   },
   "outputs": [],
   "source": [
    "if False:\n",
    "    # zip\n",
    "    format_ = 'zip'\n",
    "    tables = ['broadcast', 'target_group', 'cdm', 'mapping_gfk_cdm', 'joined']\n",
    "    today = datetime.now().strftime(\"%Y_%m_%d\")\n",
    "    for table in tables:\n",
    "        if table == 'joined':\n",
    "            cols = df.columns\n",
    "        elif table == 'mapping':\n",
    "            cols = list(mapping.values())\n",
    "        else:\n",
    "            cols = list(connection.execute(getattr(sql, table).query).columns().keys())\n",
    "            for k, v in mapping.items():\n",
    "                if k in cols:\n",
    "                    cols = cols + [v]\n",
    "        path = f\"./csv/{today}/{table}.{format_}\"\n",
    "        os.makedirs(f\"./csv/{today}\", exist_ok=True) \n",
    "        df.to_csv(path, columns=cols, sep=\";\", index=False, compression=format_)"
   ]
  },
  {
   "cell_type": "markdown",
   "id": "7f8f1fad",
   "metadata": {},
   "source": [
    "## column_mapping: INPUT REQUIRED"
   ]
  },
  {
   "cell_type": "code",
   "execution_count": 58,
   "id": "05662f30",
   "metadata": {
    "code_folding": []
   },
   "outputs": [],
   "source": [
    "column_mapping = {\n",
    "    # broadcast\n",
    "    'RUN_KEY': 'RUN_ID_TRUE',\n",
    "    'RUN_KEY_SIM': 'RUN_ID',\n",
    "    'TITELID': 'TITLE_ID_TRUE',\n",
    "    'TITELID_SIM': 'TITLE_ID',\n",
    "    'TITEL': 'TITLE',\n",
    "    'SENDER': 'CHANNEL',\n",
    "    'STARTZEIT_TS_DR': 'START_TIME',\n",
    "    'ENDEZEIT_TS_DR': 'END_TIME',\n",
    "    'STARTZEIT_TS': 'START_TIME_AGF',\n",
    "    'ENDEZEIT_TS': 'END_TIME_AGF',\n",
    "    'WOCHENTAG': 'WEEKDAY',\n",
    "    'DAUER': 'DURATION',\n",
    "    'GENRE_1': 'GENRE',\n",
    "    # 'GENRE_2': 'GENRE_2',\n",
    "    # 'GENRE_3': 'GENRE_3',\n",
    "    'WIEDERHOLUNG': 'REPETITION',\n",
    "    # target_group\n",
    "    'ZIELGRUPPE': 'TARGET_GROUP',\n",
    "    'SEHB': 'SEHB_TRUE',\n",
    "    'TVG': 'TVG_TRUE',\n",
    "    'MARKET_SHARE': 'MARKET_TRUE',\n",
    "    'SEHB_SIM': 'SEHB',\n",
    "    'TVG_SIM': 'TVG',\n",
    "    'MARKET_SHARE_SIM': 'MARKET_SHARE',\n",
    "    # cdm\n",
    "    'A_ID': 'A_ID_TRUE',\n",
    "    'A_ID_SIM': 'A_ID',\n",
    "    'A_BESTSELLER_WIEVIELTE': 'A_INTERNAL_REPETITION_NUMBER',\n",
    "    'C_ID': 'C_ID_TRUE',\n",
    "    'C_ID_SIM': 'C_ID',\n",
    "    'C_CONTENT': 'C_CONTENT',\n",
    "    'C_SERIE_ID': 'C_SERIES_ID_TRUE',\n",
    "    'C_SERIE_ID_SIM': 'C_SERIES_ID',\n",
    "    'C_SERIE': 'C_SERIES',\n",
    "    'C_ORIGINALTITEL': 'C_ORIGINAL_TITLE',\n",
    "    'C_AUFLISTREIHENF': 'C_EPISODE_NUMBER',\n",
    "    'C_PRODUKTIONSSTAFFEL_STAFFEL_NR': 'C_SEASON_NUMBER',\n",
    "    'C_PRODJAHR_VON': 'C_YEAR_OF_PRODUCTION',\n",
    "    'C_SERIE_KATEGORIE': 'C_SERIES_CATEGORY_1',\n",
    "    'C_SERIE_VERWENDBARKEIT': 'C_SERIES_CATEGORY_2',\n",
    "    'C_ERSTESPRODUKTIONSLAND': 'C_COUNTRY_OF_PRODUCTION',\n",
    "    'C_HOECHSTE_BESUCHERZAHL_D': 'C_HIGHEST_NUMBER_OF_VISITORS_GERMANY_TRUE',\n",
    "    'C_HOECHSTE_BESUCHERZAHL_D_SIM': 'C_HIGHEST_NUMBER_OF_VISITORS_GERMANY',\n",
    "    'L_ID': 'L_ID_TRUE',\n",
    "    'L_BEGINN': 'L_START_TRUE',\n",
    "    'L_ENDE': 'L_END_TRUE',\n",
    "    'A_WIEVIELTER_RUN': 'A_WIEVIELTER_RUN_TRUE',\n",
    "    'A_WIEVIELTE': 'A_WIEVIELTE',\n",
    "    'A_REDAKTION_BESTOF': 'A_REDAKTION_BESTOF',\n",
    "    'L_IST_AUS': 'L_IST_AUS_TRUE',\n",
    "    'L_ID_NEW_SIM': 'L_ID',\n",
    "    'L_BEGINN_SIM' : 'L_START',\n",
    "    'L_ENDE_SIM': 'L_END',\n",
    "    'A_WIEVIELTER_RUN_SIM': 'A_LICENSE_RUN',\n",
    "    'L_IST_AUS_SIM': 'L_NUMBER_OF_RUNS',\n",
    "    'A_WH': 'A_WH',\n",
    "    #\n",
    "    'a': 'WEIGHT_SEHB',\n",
    "    'w': 'WEIGHT_TVG',\n",
    "    'w_a': 'WEIGHT_MA'\n",
    "}"
   ]
  },
  {
   "cell_type": "code",
   "execution_count": 59,
   "id": "e19ef348",
   "metadata": {
    "code_folding": [
     0
    ]
   },
   "outputs": [],
   "source": [
    "if False:\n",
    "    flat_table_columns = {}\n",
    "    for k, v in column_mapping.items():\n",
    "        if 'TRUE' in v:\n",
    "            continue\n",
    "        else:\n",
    "            flat_table_columns[k] = v\n",
    "    flat_table_columns"
   ]
  },
  {
   "cell_type": "code",
   "execution_count": 60,
   "id": "9f858fc5",
   "metadata": {},
   "outputs": [
    {
     "data": {
      "text/plain": [
       "Index(['RUN_ID_TRUE', 'TITLE', 'CHANNEL', 'START_TIME_AGF', 'END_TIME_AGF',\n",
       "       'START_TIME', 'END_TIME', 'WEEKDAY', 'DURATION', 'TITLE_ID_TRUE',\n",
       "       'GENRE', 'GENRE_2', 'GENRE_3', 'REPETITION', 'TARGET_GROUP',\n",
       "       'SEHB_TRUE', 'TVG_TRUE', 'ID_PROMAMS', 'A_ID_TRUE',\n",
       "       'A_INTERNAL_REPETITION_NUMBER', 'C_ID_TRUE', 'C_CONTENT',\n",
       "       'C_SERIES_ID_TRUE', 'C_SERIES', 'C_ORIGINAL_TITLE', 'C_EPISODE_NUMBER',\n",
       "       'C_SEASON_NUMBER', 'C_YEAR_OF_PRODUCTION', 'C_SERIES_CATEGORY_1',\n",
       "       'C_COUNTRY_OF_PRODUCTION', 'C_SERIES_CATEGORY_2', 'C_FSK',\n",
       "       'C_HIGHEST_NUMBER_OF_VISITORS_GERMANY_TRUE', 'L_ID_TRUE',\n",
       "       'A_REDAKTION_BESTOF', 'L_START_TRUE', 'L_END_TRUE', 'L_IST_AUS_TRUE',\n",
       "       'A_WIEVIELTE', 'A_WIEVIELTER_RUN_TRUE', 'A_WH', 'MARKET_TRUE', 'RUN_ID',\n",
       "       'TITLE_ID', 'A_ID', 'C_ID', 'C_SERIES_ID', 'TVG', 'SEHB',\n",
       "       'MARKET_SHARE', 'C_HIGHEST_NUMBER_OF_VISITORS_GERMANY', 'WEIGHT_SEHB',\n",
       "       'WEIGHT_MA', 'WEIGHT_TVG', 'RUN_KEY_', 'L_ID_NEW', 'L_ID', 'L_STATUS',\n",
       "       'L_START', 'L_END', 'A_LICENSE_RUN', 'L_NUMBER_OF_RUNS'],\n",
       "      dtype='object')"
      ]
     },
     "execution_count": 60,
     "metadata": {},
     "output_type": "execute_result"
    }
   ],
   "source": [
    "df_export = df.rename(columns=column_mapping)\n",
    "df_export.columns"
   ]
  },
  {
   "cell_type": "code",
   "execution_count": 61,
   "id": "8daa3020",
   "metadata": {},
   "outputs": [
    {
     "name": "stdout",
     "output_type": "stream",
     "text": [
      "<class 'pandas.core.frame.DataFrame'>\n",
      "Int64Index: 4828805 entries, 0 to 4828804\n",
      "Data columns (total 62 columns):\n",
      " #   Column                                     Dtype  \n",
      "---  ------                                     -----  \n",
      " 0   RUN_ID_TRUE                                object \n",
      " 1   TITLE                                      object \n",
      " 2   CHANNEL                                    object \n",
      " 3   START_TIME_AGF                             object \n",
      " 4   END_TIME_AGF                               object \n",
      " 5   START_TIME                                 object \n",
      " 6   END_TIME                                   object \n",
      " 7   WEEKDAY                                    object \n",
      " 8   DURATION                                   int64  \n",
      " 9   TITLE_ID_TRUE                              int64  \n",
      " 10  GENRE                                      object \n",
      " 11  GENRE_2                                    object \n",
      " 12  GENRE_3                                    object \n",
      " 13  REPETITION                                 object \n",
      " 14  TARGET_GROUP                               object \n",
      " 15  SEHB_TRUE                                  float64\n",
      " 16  TVG_TRUE                                   float64\n",
      " 17  ID_PROMAMS                                 float64\n",
      " 18  A_ID_TRUE                                  float64\n",
      " 19  A_INTERNAL_REPETITION_NUMBER               float64\n",
      " 20  C_ID_TRUE                                  float64\n",
      " 21  C_CONTENT                                  object \n",
      " 22  C_SERIES_ID_TRUE                           float64\n",
      " 23  C_SERIES                                   object \n",
      " 24  C_ORIGINAL_TITLE                           object \n",
      " 25  C_EPISODE_NUMBER                           float64\n",
      " 26  C_SEASON_NUMBER                            float64\n",
      " 27  C_YEAR_OF_PRODUCTION                       float64\n",
      " 28  C_SERIES_CATEGORY_1                        object \n",
      " 29  C_COUNTRY_OF_PRODUCTION                    object \n",
      " 30  C_SERIES_CATEGORY_2                        object \n",
      " 31  C_FSK                                      object \n",
      " 32  C_HIGHEST_NUMBER_OF_VISITORS_GERMANY_TRUE  float64\n",
      " 33  L_ID_TRUE                                  float64\n",
      " 34  A_REDAKTION_BESTOF                         object \n",
      " 35  L_START_TRUE                               object \n",
      " 36  L_END_TRUE                                 object \n",
      " 37  L_IST_AUS_TRUE                             float64\n",
      " 38  A_WIEVIELTE                                float64\n",
      " 39  A_WIEVIELTER_RUN_TRUE                      float64\n",
      " 40  A_WH                                       float64\n",
      " 41  MARKET_TRUE                                float64\n",
      " 42  RUN_ID                                     int64  \n",
      " 43  TITLE_ID                                   int64  \n",
      " 44  A_ID                                       float64\n",
      " 45  C_ID                                       float64\n",
      " 46  C_SERIES_ID                                float64\n",
      " 47  TVG                                        float64\n",
      " 48  SEHB                                       float64\n",
      " 49  MARKET_SHARE                               float64\n",
      " 50  C_HIGHEST_NUMBER_OF_VISITORS_GERMANY       float64\n",
      " 51  WEIGHT_SEHB                                float64\n",
      " 52  WEIGHT_MA                                  float64\n",
      " 53  WEIGHT_TVG                                 float64\n",
      " 54  RUN_KEY_                                   object \n",
      " 55  L_ID_NEW                                   float64\n",
      " 56  L_ID                                       float64\n",
      " 57  L_STATUS                                   object \n",
      " 58  L_START                                    object \n",
      " 59  L_END                                      object \n",
      " 60  A_LICENSE_RUN                              float64\n",
      " 61  L_NUMBER_OF_RUNS                           float64\n",
      "dtypes: float64(31), int64(4), object(27)\n",
      "memory usage: 2.4+ GB\n"
     ]
    }
   ],
   "source": [
    "df_export.info()"
   ]
  },
  {
   "cell_type": "code",
   "execution_count": 62,
   "id": "027f02a4",
   "metadata": {
    "code_folding": [
     0
    ]
   },
   "outputs": [],
   "source": [
    "if False:\n",
    "    table = {}\n",
    "    table['flat_table'] = df_export[flat_table_columns.values()]\n",
    "    table['mapping_gfk_cdm'] = df[['RUN_KEY_SIM', 'A_ID_SIM']].rename(columns=column_mapping)\n",
    "    table['mapping_sim'] = df_export[IDS + [f\"{k}_TRUE\" for k in IDS] + ['WEIGHT_SEHB', 'WEIGHT_TVG', 'WEIGHT_MA']]\n",
    "\n",
    "    temp = list(connection.execute(getattr(sql, table).query).columns().keys())\n",
    "    table['broadcast'] = df[temp + ['RUN_KEY_SIM', 'TITELID_SIM']].rename(columns=column_mapping)\n",
    "\n",
    "    table_columns['target_group'] = list(connection.execute(getattr(sql, table).query).columns().keys())"
   ]
  },
  {
   "cell_type": "markdown",
   "id": "65436eb5",
   "metadata": {},
   "source": [
    "## table_columns mapping: INPUT REQUIRED"
   ]
  },
  {
   "cell_type": "code",
   "execution_count": 63,
   "id": "5d5c623b",
   "metadata": {},
   "outputs": [],
   "source": [
    "table_columns = {}\n",
    "table_columns['broadcast'] = ['RUN_ID', 'TITLE_ID', 'TITLE', 'CHANNEL', 'START_TIME', 'END_TIME',\n",
    "                              'START_TIME_AGF', 'END_TIME_AGF',\n",
    "       'WEEKDAY', 'DURATION', 'GENRE', \n",
    "                              # 'GENRE_2', 'GENRE_3', \n",
    "                              'REPETITION']\n",
    "table_columns['target_group'] = ['RUN_ID'] + ['TARGET_GROUP', 'SEHB', 'TVG']\n",
    "table_columns['cdm'] = [\n",
    "        'A_ID', 'A_INTERNAL_REPETITION_NUMBER', 'A_LICENSE_RUN', 'A_WH',\n",
    "        # 'B_ID', 'B_INTERNAL_REPETITION_NUMBER', \n",
    "        'C_ID', 'C_CONTENT', \n",
    "        'C_SERIES_ID', 'C_SERIES',\n",
    "                        # 'C_ORIGINAL_TITLE', \n",
    "                        'C_EPISODE_NUMBER',\n",
    "       'C_SEASON_NUMBER', 'C_YEAR_OF_PRODUCTION', 'C_SERIES_CATEGORY_1',\n",
    "       'C_SERIES_CATEGORY_2', 'C_COUNTRY_OF_PRODUCTION',\n",
    "       'C_HIGHEST_NUMBER_OF_VISITORS_GERMANY',\n",
    "       'L_ID', 'L_START', 'L_END', 'L_NUMBER_OF_RUNS']\n",
    "new_ids = ['RUN_ID', 'TITLE_ID', 'A_ID', 'C_ID', 'C_SERIES_ID']\n",
    "table_columns['mapping_gfk_cdm'] = ['RUN_ID', 'A_ID']\n",
    "table_columns['mapping_sim'] = ['RUN_ID'] + [f\"{k}_TRUE\" for k in new_ids] + ['WEIGHT_SEHB', 'WEIGHT_TVG', 'WEIGHT_MA']\n",
    "table_columns['flat_table'] = df_export.columns  # list(flat_table_columns.values())"
   ]
  },
  {
   "cell_type": "code",
   "execution_count": 64,
   "id": "404ead0f",
   "metadata": {},
   "outputs": [
    {
     "data": {
      "text/plain": [
       "0.1996709330776455"
      ]
     },
     "execution_count": 64,
     "metadata": {},
     "output_type": "execute_result"
    }
   ],
   "source": [
    "(\n",
    "    df_export[table_columns['broadcast']].drop_duplicates('RUN_ID').shape[0]\n",
    "    / df_export[table_columns['broadcast']].shape[0])  # 0.199"
   ]
  },
  {
   "cell_type": "code",
   "execution_count": 65,
   "id": "1d1c0e78",
   "metadata": {},
   "outputs": [
    {
     "data": {
      "text/plain": [
       "964172"
      ]
     },
     "execution_count": 65,
     "metadata": {},
     "output_type": "execute_result"
    }
   ],
   "source": [
    "df_export[table_columns['broadcast']].drop_duplicates('RUN_ID').shape[0]  # 688124"
   ]
  },
  {
   "cell_type": "code",
   "execution_count": 66,
   "id": "15ec61dc",
   "metadata": {},
   "outputs": [
    {
     "data": {
      "text/plain": [
       "4828805"
      ]
     },
     "execution_count": 66,
     "metadata": {},
     "output_type": "execute_result"
    }
   ],
   "source": [
    "df_export[table_columns['target_group']].shape[0]  # 3448515"
   ]
  },
  {
   "cell_type": "code",
   "execution_count": 67,
   "id": "e0cd9455",
   "metadata": {},
   "outputs": [
    {
     "data": {
      "text/plain": [
       "0.19806839905738025"
      ]
     },
     "execution_count": 67,
     "metadata": {},
     "output_type": "execute_result"
    }
   ],
   "source": [
    "(\n",
    "    df_export.dropna(subset='A_ID').drop_duplicates('A_ID').shape[0]\n",
    "    / df_export.dropna(subset='A_ID').shape[0])  # 0.197"
   ]
  },
  {
   "cell_type": "code",
   "execution_count": 68,
   "id": "a4a31ede",
   "metadata": {},
   "outputs": [
    {
     "data": {
      "text/plain": [
       "211050"
      ]
     },
     "execution_count": 68,
     "metadata": {},
     "output_type": "execute_result"
    }
   ],
   "source": [
    "df_export.dropna(subset='A_ID').drop_duplicates('A_ID').shape[0]  # 151834"
   ]
  },
  {
   "cell_type": "code",
   "execution_count": 69,
   "id": "9d7183ed",
   "metadata": {},
   "outputs": [
    {
     "data": {
      "text/plain": [
       "0.19806839905738025"
      ]
     },
     "execution_count": 69,
     "metadata": {},
     "output_type": "execute_result"
    }
   ],
   "source": [
    "(\n",
    "    df_export.dropna(subset='A_ID').drop_duplicates('A_ID').shape[0]\n",
    "    / df_export.dropna(subset='A_ID').shape[0])  # 0.19732"
   ]
  },
  {
   "cell_type": "markdown",
   "id": "9760ecbf",
   "metadata": {},
   "source": [
    "## drop duplicates and missings: (df_export, table_columns) -> table_dc"
   ]
  },
  {
   "cell_type": "code",
   "execution_count": 70,
   "id": "39ed576d",
   "metadata": {},
   "outputs": [],
   "source": [
    "table_dc = {}"
   ]
  },
  {
   "cell_type": "code",
   "execution_count": 71,
   "id": "79f2f581",
   "metadata": {},
   "outputs": [],
   "source": [
    "# 688124*5"
   ]
  },
  {
   "cell_type": "code",
   "execution_count": 72,
   "id": "95698321",
   "metadata": {},
   "outputs": [],
   "source": [
    "# df_export.shape[0] / 5"
   ]
  },
  {
   "cell_type": "code",
   "execution_count": 73,
   "id": "378b30b9",
   "metadata": {},
   "outputs": [],
   "source": [
    "# table_dc['broadcast'].shape[0]"
   ]
  },
  {
   "cell_type": "code",
   "execution_count": 74,
   "id": "0de01c67",
   "metadata": {},
   "outputs": [],
   "source": [
    "# df_export.drop_duplicates(subset=['RUN_ID']).shape"
   ]
  },
  {
   "cell_type": "code",
   "execution_count": 75,
   "id": "301bde22",
   "metadata": {},
   "outputs": [],
   "source": [
    "# df_export.drop_duplicates(subset=['RUN_ID', 'A_ID']).shape"
   ]
  },
  {
   "cell_type": "code",
   "execution_count": 76,
   "id": "454d488c",
   "metadata": {},
   "outputs": [],
   "source": [
    "# unique_a_id = (df_export.groupby(['RUN_ID'])['A_ID'].size() == 5)"
   ]
  },
  {
   "cell_type": "code",
   "execution_count": 77,
   "id": "b6f59466",
   "metadata": {},
   "outputs": [],
   "source": [
    "# unique_a_id[~unique_a_id]"
   ]
  },
  {
   "cell_type": "code",
   "execution_count": 78,
   "id": "40b391fd",
   "metadata": {},
   "outputs": [],
   "source": [
    "# full[full['RUN_KEY'] == '202012072347421072110641319']"
   ]
  },
  {
   "cell_type": "code",
   "execution_count": 79,
   "id": "468d5084",
   "metadata": {},
   "outputs": [],
   "source": [
    "# df_export[df_export['RUN_ID'] == 637116]"
   ]
  },
  {
   "cell_type": "code",
   "execution_count": 80,
   "id": "f3c17835",
   "metadata": {},
   "outputs": [],
   "source": [
    "# c_ = df_export.drop_duplicates(subset=['RUN_ID', 'A_ID']).duplicated(keep=False, subset=['RUN_ID'])"
   ]
  },
  {
   "cell_type": "code",
   "execution_count": 81,
   "id": "627af326",
   "metadata": {},
   "outputs": [],
   "source": [
    "# df_export.drop_duplicates(subset=['RUN_ID', 'A_ID'])[c_]"
   ]
  },
  {
   "cell_type": "code",
   "execution_count": 82,
   "id": "08525bbd",
   "metadata": {},
   "outputs": [],
   "source": [
    "table_dc['broadcast'] =  (\n",
    "    df_export\n",
    "    .drop_duplicates('RUN_ID')  # duplicates because left join with target group\n",
    "    [table_columns['broadcast']])\n",
    "assert table_dc['broadcast']['RUN_ID'].notna().all()"
   ]
  },
  {
   "cell_type": "code",
   "execution_count": 83,
   "id": "6f30968f",
   "metadata": {},
   "outputs": [],
   "source": [
    "# new\n",
    "if False:\n",
    "    table_dc['broadcast'] =  (\n",
    "        df_export\n",
    "        .drop_duplicates(['RUN_ID', 'A_ID'])  # duplicates because left join with target group\n",
    "        [table_columns['broadcast']])\n",
    "    assert table_dc['broadcast']['RUN_ID'].notna().all()"
   ]
  },
  {
   "cell_type": "code",
   "execution_count": 84,
   "id": "fd3b8de8",
   "metadata": {},
   "outputs": [],
   "source": [
    "table_dc['target_group'] = df_export[table_columns['target_group']]"
   ]
  },
  {
   "cell_type": "code",
   "execution_count": 85,
   "id": "f9fde5c4",
   "metadata": {},
   "outputs": [],
   "source": [
    "table_dc['mapping_gfk_cdm'] = (\n",
    "    df_export\n",
    "    .dropna(subset=['A_ID']) # missing because broadcast is left joined with cdm and cdm is filtered for spielfilm, serie & animation\n",
    "    .drop_duplicates('RUN_ID')\n",
    "    [table_columns['mapping_gfk_cdm']])"
   ]
  },
  {
   "cell_type": "code",
   "execution_count": 86,
   "id": "d2bbd5ce",
   "metadata": {},
   "outputs": [],
   "source": [
    "# new\n",
    "if False:\n",
    "    table_dc['mapping_gfk_cdm'] = (\n",
    "    df_export\n",
    "    .dropna(subset=['A_ID']) # missing because broadcast is left joined with cdm and cdm is filtered for spielfilm, serie & animation\n",
    "    .drop_duplicates(['RUN_ID', 'A_ID'])\n",
    "    [table_columns['mapping_gfk_cdm']])"
   ]
  },
  {
   "cell_type": "code",
   "execution_count": 87,
   "id": "c4713f4f",
   "metadata": {},
   "outputs": [],
   "source": [
    "table_dc['cdm'] = (\n",
    "    df_export\n",
    "    .dropna(subset=['A_ID']) # missing because broadcast is left joined with cdm and cdm is filtered for spielfilm, serie & animation\n",
    "    .drop_duplicates('A_ID') # we could have duplicate A_IDs if a run contains 3 a.m.\n",
    "    [table_columns['cdm']])"
   ]
  },
  {
   "cell_type": "code",
   "execution_count": 88,
   "id": "0bb1ec85",
   "metadata": {},
   "outputs": [],
   "source": [
    "table_dc['mapping_sim'] = (\n",
    "    df_export\n",
    "    .drop_duplicates('RUN_ID')\n",
    "    [table_columns['mapping_sim']])"
   ]
  },
  {
   "cell_type": "code",
   "execution_count": 89,
   "id": "3e35971f",
   "metadata": {},
   "outputs": [],
   "source": [
    "# table_dc['flat_table'] = df_export[table_columns['flat_table']]  # no need to save flat table because I can reproduce ft below"
   ]
  },
  {
   "cell_type": "code",
   "execution_count": 90,
   "id": "92cf36ce",
   "metadata": {},
   "outputs": [],
   "source": [
    "# table_dc['flat_table'].shape"
   ]
  },
  {
   "cell_type": "code",
   "execution_count": 91,
   "id": "40d473d4",
   "metadata": {},
   "outputs": [],
   "source": [
    "ft = (\n",
    "    table_dc['broadcast']\n",
    "    .merge(table_dc['target_group'], on=['RUN_ID'], how='left')  # passt\n",
    "    .merge(table_dc['mapping_gfk_cdm'], on=['RUN_ID'], how='left') # passt\n",
    "    .merge(table_dc['cdm'], on='A_ID', how='left') # passt\n",
    "    .merge(table_dc['mapping_sim'], on='RUN_ID', how='left')\n",
    "    .sort_values(['START_TIME', 'CHANNEL', 'TARGET_GROUP'])\n",
    ")"
   ]
  },
  {
   "cell_type": "code",
   "execution_count": 92,
   "id": "0c7f1ce2",
   "metadata": {},
   "outputs": [],
   "source": [
    "assert ft.shape[0] == df_export.shape[0]"
   ]
  },
  {
   "cell_type": "code",
   "execution_count": 93,
   "id": "799dcabe",
   "metadata": {},
   "outputs": [],
   "source": [
    "assert (ft['RUN_ID'] == df_export['RUN_ID']).all()"
   ]
  },
  {
   "cell_type": "code",
   "execution_count": 94,
   "id": "b8e772bb",
   "metadata": {},
   "outputs": [],
   "source": [
    "# assert (ft['A_ID'] == df_export['A_ID']).all()  # does not hold because of duplicates in matching_gfk_cdm"
   ]
  },
  {
   "cell_type": "code",
   "execution_count": 95,
   "id": "d4e8a90a",
   "metadata": {},
   "outputs": [],
   "source": [
    "# c_ = df_export['A_ID'].isin(ft['A_ID'])"
   ]
  },
  {
   "cell_type": "code",
   "execution_count": 96,
   "id": "9ae4443e",
   "metadata": {},
   "outputs": [],
   "source": [
    "# c_ = ft['A_ID'].fillna(0) == df_export['A_ID'].fillna(0)"
   ]
  },
  {
   "cell_type": "code",
   "execution_count": 97,
   "id": "82192ed0",
   "metadata": {},
   "outputs": [],
   "source": [
    "# df_export[~c_]"
   ]
  },
  {
   "cell_type": "code",
   "execution_count": 98,
   "id": "16501b6a",
   "metadata": {},
   "outputs": [],
   "source": [
    "# df_export.dropna(subset=['A_ID']).head()"
   ]
  },
  {
   "cell_type": "markdown",
   "id": "0ae4a622",
   "metadata": {},
   "source": [
    "## export"
   ]
  },
  {
   "cell_type": "code",
   "execution_count": 99,
   "id": "5af74207",
   "metadata": {},
   "outputs": [],
   "source": [
    "# path_csv = \"/home/spa0001f/github/dsc/data/create/csv\"\n",
    "# today = lambda: datetime.now().strftime(\"%Y_%m_%d\")"
   ]
  },
  {
   "cell_type": "code",
   "execution_count": 100,
   "id": "da38a568",
   "metadata": {},
   "outputs": [],
   "source": [
    "# config.save_csv = False"
   ]
  },
  {
   "cell_type": "code",
   "execution_count": 101,
   "id": "6d270fc1",
   "metadata": {},
   "outputs": [],
   "source": [
    "# table_dc.keys()"
   ]
  },
  {
   "cell_type": "code",
   "execution_count": 102,
   "id": "8784dcd8",
   "metadata": {},
   "outputs": [
    {
     "data": {
      "text/plain": [
       "'2022_10_11'"
      ]
     },
     "execution_count": 102,
     "metadata": {},
     "output_type": "execute_result"
    }
   ],
   "source": [
    "today"
   ]
  },
  {
   "cell_type": "code",
   "execution_count": 103,
   "id": "0b0fb885",
   "metadata": {},
   "outputs": [
    {
     "name": "stdout",
     "output_type": "stream",
     "text": [
      "/home/spa0001f/github/teach/dsc/data/_create/csv/2022_10_11/broadcast.zip created\n",
      "/home/spa0001f/github/teach/dsc/data/_create/csv/2022_10_11/target_group.zip created\n",
      "/home/spa0001f/github/teach/dsc/data/_create/csv/2022_10_11/mapping_gfk_cdm.zip created\n",
      "/home/spa0001f/github/teach/dsc/data/_create/csv/2022_10_11/cdm.zip created\n",
      "/home/spa0001f/github/teach/dsc/data/_create/csv/2022_10_11/mapping_sim.zip created\n"
     ]
    }
   ],
   "source": [
    "# format_ = 'zip'  # compression\n",
    "format_ = config.format_\n",
    "if config.save_csv:\n",
    "    os.makedirs(os.path.join(config.path_csv, today), exist_ok=True) \n",
    "for name, df_ in table_dc.items():\n",
    "    path_ = os.path.join(config.path_csv, today, f\"{name}.{format_}\")\n",
    "    if config.save_csv:\n",
    "        df_.to_csv(path_, sep=\";\", index=False, compression=format_)\n",
    "        print(f\"{path_} created\")\n",
    "    else:\n",
    "        print(f\"{path_} is not created\")"
   ]
  },
  {
   "cell_type": "markdown",
   "id": "5b7aa811",
   "metadata": {},
   "source": [
    "# Load data"
   ]
  },
  {
   "cell_type": "code",
   "execution_count": 149,
   "id": "52577c7f",
   "metadata": {},
   "outputs": [],
   "source": [
    "load_data = False  # set this only manually to True"
   ]
  },
  {
   "cell_type": "code",
   "execution_count": 150,
   "id": "9f8c47a0",
   "metadata": {},
   "outputs": [],
   "source": [
    "# load_data = True\n",
    "# config.path_load_csv = '/home/spa0001f/github/teach/dsc/data/_create/csv/2022_10_11'"
   ]
  },
  {
   "cell_type": "code",
   "execution_count": 151,
   "id": "eba3fc55",
   "metadata": {},
   "outputs": [
    {
     "name": "stdout",
     "output_type": "stream",
     "text": [
      "loading broadcast /home/spa0001f/github/teach/dsc/data/_create/csv/2022_10_11/broadcast.zip\n",
      "loading cdm /home/spa0001f/github/teach/dsc/data/_create/csv/2022_10_11/cdm.zip\n",
      "loading mapping_gfk_cdm /home/spa0001f/github/teach/dsc/data/_create/csv/2022_10_11/mapping_gfk_cdm.zip\n",
      "loading mapping_sim /home/spa0001f/github/teach/dsc/data/_create/csv/2022_10_11/mapping_sim.zip\n",
      "loading target_group /home/spa0001f/github/teach/dsc/data/_create/csv/2022_10_11/target_group.zip\n"
     ]
    }
   ],
   "source": [
    "if load_data:\n",
    "    table_dc = {}\n",
    "    for _file in os.listdir(config.path_load_csv):\n",
    "        _name = _file.rsplit(\".\", maxsplit=1)[0]\n",
    "        _path = os.path.join(config.path_load_csv, _file)\n",
    "        print(\"loading\", _name, _path)\n",
    "        table_dc[_name] = pd.read_csv(_path, sep=\";\", compression=config.format_)"
   ]
  },
  {
   "cell_type": "code",
   "execution_count": 152,
   "id": "a9588e44",
   "metadata": {},
   "outputs": [
    {
     "name": "stdout",
     "output_type": "stream",
     "text": [
      "2012-01-01 03:00:00.000000 \n",
      " 2012-01-01 00:00:30.000000\n"
     ]
    }
   ],
   "source": [
    "print(\n",
    "table_dc['broadcast']['START_TIME'].min(),\"\\n\",\n",
    "table_dc['broadcast']['START_TIME_AGF'].min())"
   ]
  },
  {
   "cell_type": "code",
   "execution_count": 153,
   "id": "7fddb126",
   "metadata": {},
   "outputs": [
    {
     "name": "stdout",
     "output_type": "stream",
     "text": [
      "2022-09-01 02:50:55.000000 \n",
      " 2022-08-31 23:28:06.000000\n"
     ]
    }
   ],
   "source": [
    "print(\n",
    "table_dc['broadcast']['START_TIME'].max(),\"\\n\",\n",
    "table_dc['broadcast']['START_TIME_AGF'].max())"
   ]
  },
  {
   "cell_type": "code",
   "execution_count": 154,
   "id": "7e3ac461",
   "metadata": {},
   "outputs": [
    {
     "data": {
      "text/html": [
       "<div>\n",
       "<style scoped>\n",
       "    .dataframe tbody tr th:only-of-type {\n",
       "        vertical-align: middle;\n",
       "    }\n",
       "\n",
       "    .dataframe tbody tr th {\n",
       "        vertical-align: top;\n",
       "    }\n",
       "\n",
       "    .dataframe thead th {\n",
       "        text-align: right;\n",
       "    }\n",
       "</style>\n",
       "<table border=\"1\" class=\"dataframe\">\n",
       "  <thead>\n",
       "    <tr style=\"text-align: right;\">\n",
       "      <th></th>\n",
       "      <th>START_TIME</th>\n",
       "      <th>START_TIME_AGF</th>\n",
       "    </tr>\n",
       "  </thead>\n",
       "  <tbody>\n",
       "    <tr>\n",
       "      <th>0</th>\n",
       "      <td>2012-01-01 03:00:00.000000</td>\n",
       "      <td>2012-01-01 03:00:00.000000</td>\n",
       "    </tr>\n",
       "    <tr>\n",
       "      <th>1</th>\n",
       "      <td>2012-01-01 03:00:00.000000</td>\n",
       "      <td>2012-01-01 03:00:00.000000</td>\n",
       "    </tr>\n",
       "    <tr>\n",
       "      <th>2</th>\n",
       "      <td>2012-01-01 03:00:00.000000</td>\n",
       "      <td>2012-01-01 03:00:00.000000</td>\n",
       "    </tr>\n",
       "    <tr>\n",
       "      <th>3</th>\n",
       "      <td>2012-01-01 03:00:00.000000</td>\n",
       "      <td>2012-01-01 03:00:00.000000</td>\n",
       "    </tr>\n",
       "    <tr>\n",
       "      <th>4</th>\n",
       "      <td>2012-01-01 03:00:00.000000</td>\n",
       "      <td>2012-01-01 03:00:00.000000</td>\n",
       "    </tr>\n",
       "    <tr>\n",
       "      <th>...</th>\n",
       "      <td>...</td>\n",
       "      <td>...</td>\n",
       "    </tr>\n",
       "    <tr>\n",
       "      <th>964167</th>\n",
       "      <td>2022-09-01 02:20:25.000000</td>\n",
       "      <td>2022-08-31 02:20:25.000000</td>\n",
       "    </tr>\n",
       "    <tr>\n",
       "      <th>964168</th>\n",
       "      <td>2022-09-01 02:21:09.000000</td>\n",
       "      <td>2022-08-31 02:21:09.000000</td>\n",
       "    </tr>\n",
       "    <tr>\n",
       "      <th>964169</th>\n",
       "      <td>2022-09-01 02:40:56.000000</td>\n",
       "      <td>2022-08-31 02:40:56.000000</td>\n",
       "    </tr>\n",
       "    <tr>\n",
       "      <th>964170</th>\n",
       "      <td>2022-09-01 02:44:25.000000</td>\n",
       "      <td>2022-08-31 02:44:25.000000</td>\n",
       "    </tr>\n",
       "    <tr>\n",
       "      <th>964171</th>\n",
       "      <td>2022-09-01 02:50:55.000000</td>\n",
       "      <td>2022-08-31 02:50:55.000000</td>\n",
       "    </tr>\n",
       "  </tbody>\n",
       "</table>\n",
       "<p>964172 rows × 2 columns</p>\n",
       "</div>"
      ],
      "text/plain": [
       "                        START_TIME              START_TIME_AGF\n",
       "0       2012-01-01 03:00:00.000000  2012-01-01 03:00:00.000000\n",
       "1       2012-01-01 03:00:00.000000  2012-01-01 03:00:00.000000\n",
       "2       2012-01-01 03:00:00.000000  2012-01-01 03:00:00.000000\n",
       "3       2012-01-01 03:00:00.000000  2012-01-01 03:00:00.000000\n",
       "4       2012-01-01 03:00:00.000000  2012-01-01 03:00:00.000000\n",
       "...                            ...                         ...\n",
       "964167  2022-09-01 02:20:25.000000  2022-08-31 02:20:25.000000\n",
       "964168  2022-09-01 02:21:09.000000  2022-08-31 02:21:09.000000\n",
       "964169  2022-09-01 02:40:56.000000  2022-08-31 02:40:56.000000\n",
       "964170  2022-09-01 02:44:25.000000  2022-08-31 02:44:25.000000\n",
       "964171  2022-09-01 02:50:55.000000  2022-08-31 02:50:55.000000\n",
       "\n",
       "[964172 rows x 2 columns]"
      ]
     },
     "execution_count": 154,
     "metadata": {},
     "output_type": "execute_result"
    }
   ],
   "source": [
    "table_dc['broadcast'].drop_duplicates('RUN_ID')[['START_TIME', 'START_TIME_AGF']]"
   ]
  },
  {
   "cell_type": "code",
   "execution_count": 155,
   "id": "8d132455",
   "metadata": {},
   "outputs": [],
   "source": [
    "# table_dc['broadcast']['START_TIME'].min()"
   ]
  },
  {
   "cell_type": "markdown",
   "id": "d4352fee",
   "metadata": {},
   "source": [
    "# Quick fix: Remove rows from CDM where L_ID is missing"
   ]
  },
  {
   "cell_type": "code",
   "execution_count": 156,
   "id": "4e8a1d2e",
   "metadata": {},
   "outputs": [],
   "source": [
    "table_dc['cdm'] = table_dc['cdm'].dropna(subset=['L_ID'])"
   ]
  },
  {
   "cell_type": "code",
   "execution_count": 157,
   "id": "42824490",
   "metadata": {},
   "outputs": [],
   "source": [
    "assert table_dc['cdm']['L_ID'].notna().all()\n",
    "assert table_dc['broadcast']['RUN_ID'].notna().all()"
   ]
  },
  {
   "cell_type": "markdown",
   "id": "d08cef81",
   "metadata": {},
   "source": [
    "# filter broadcast, target_group, mapping_gfk_cdm, cdm w.r.t. date: table_dc -> table_filtered"
   ]
  },
  {
   "cell_type": "code",
   "execution_count": 158,
   "id": "9410b47d",
   "metadata": {},
   "outputs": [],
   "source": [
    "table_dc['broadcast']['START_TIME'] = (\n",
    "    pd.to_datetime(table_dc['broadcast']['START_TIME']))  # do not use .dt.date because this becomes an object dtyp\n",
    "\n",
    "table_dc['broadcast']['END_TIME'] = (\n",
    "    pd.to_datetime(table_dc['broadcast']['END_TIME']))  # do not use .dt.date because this becomes an object dtype"
   ]
  },
  {
   "cell_type": "code",
   "execution_count": 159,
   "id": "443d7be1",
   "metadata": {},
   "outputs": [],
   "source": [
    "bounds = [\n",
    "    table_dc['broadcast']['START_TIME'].min() - pd.Timedelta(seconds=1), # should start at 02:59:59\n",
    "    pd.Timestamp('2019-12-31 23:59:59') + pd.Timedelta(hours=3),\n",
    "    pd.Timestamp('2020-12-31 23:59:59') + pd.Timedelta(hours=3),\n",
    "    pd.Timestamp('2021-12-31 23:59:59') + pd.Timedelta(hours=3),\n",
    "    table_dc['broadcast']['END_TIME'].max(),  # this end at 02:59:59\n",
    "]"
   ]
  },
  {
   "cell_type": "code",
   "execution_count": 160,
   "id": "e42f49b9",
   "metadata": {},
   "outputs": [
    {
     "data": {
      "text/plain": [
       "[(Timestamp('2012-01-01 02:59:59'), Timestamp('2020-01-01 02:59:59')),\n",
       " (Timestamp('2020-01-01 02:59:59'), Timestamp('2021-01-01 02:59:59')),\n",
       " (Timestamp('2021-01-01 02:59:59'), Timestamp('2022-01-01 02:59:59')),\n",
       " (Timestamp('2022-01-01 02:59:59'), Timestamp('2022-09-01 02:59:59'))]"
      ]
     },
     "execution_count": 160,
     "metadata": {},
     "output_type": "execute_result"
    }
   ],
   "source": [
    "lower_upper = list(zip(bounds[:-1], bounds[1:]))\n",
    "lower_upper"
   ]
  },
  {
   "cell_type": "markdown",
   "id": "94f69d57",
   "metadata": {},
   "source": [
    "## table_filtered"
   ]
  },
  {
   "cell_type": "code",
   "execution_count": 161,
   "id": "fbf8abcd",
   "metadata": {},
   "outputs": [],
   "source": [
    "table_filtered = {}\n",
    "a_id = []\n",
    "for lb, ub in lower_upper:\n",
    "    bound_str = ub.date().strftime(\"%Y_%m_%d\")\n",
    "    bound_str = (ub - pd.Timedelta(days=1)).date().strftime(\"%Y_%m_%d\")  # data goes until this day and 3 a.m.\n",
    "    cond_lb = table_dc['broadcast']['START_TIME'] > lb\n",
    "    cond_ub = table_dc['broadcast']['END_TIME'] <= ub\n",
    "    cond = cond_lb & cond_ub\n",
    "\n",
    "    table_filtered[bound_str] = {}\n",
    "    table_filtered[bound_str]['broadcast'] = table_dc['broadcast'][cond].copy()\n",
    "    filtered_run_ids = table_filtered[bound_str]['broadcast']['RUN_ID']\n",
    "\n",
    "    table_filtered[bound_str]['target_group'] = (\n",
    "        table_dc['target_group']\n",
    "        [table_dc['target_group']['RUN_ID'].isin(filtered_run_ids)]).copy()\n",
    "    table_filtered[bound_str]['mapping_gfk_cdm'] = (\n",
    "        table_dc['mapping_gfk_cdm']\n",
    "        [table_dc['mapping_gfk_cdm']['RUN_ID'].isin(filtered_run_ids)]).copy()\n",
    "    table_filtered[bound_str]['cdm'] = (\n",
    "        table_dc['cdm']\n",
    "        [table_dc['cdm']['A_ID'].isin(table_filtered[bound_str]['mapping_gfk_cdm']['A_ID'])]).copy()\n",
    "    a_id.extend(table_filtered[bound_str]['cdm']['A_ID'].tolist())"
   ]
  },
  {
   "cell_type": "markdown",
   "id": "8de66e49",
   "metadata": {},
   "source": [
    "## checks"
   ]
  },
  {
   "cell_type": "code",
   "execution_count": 162,
   "id": "3a267593",
   "metadata": {},
   "outputs": [
    {
     "data": {
      "text/html": [
       "<div>\n",
       "<style scoped>\n",
       "    .dataframe tbody tr th:only-of-type {\n",
       "        vertical-align: middle;\n",
       "    }\n",
       "\n",
       "    .dataframe tbody tr th {\n",
       "        vertical-align: top;\n",
       "    }\n",
       "\n",
       "    .dataframe thead th {\n",
       "        text-align: right;\n",
       "    }\n",
       "</style>\n",
       "<table border=\"1\" class=\"dataframe\">\n",
       "  <thead>\n",
       "    <tr style=\"text-align: right;\">\n",
       "      <th></th>\n",
       "      <th>2019_12_31</th>\n",
       "      <th>2020_12_31</th>\n",
       "      <th>2021_12_31</th>\n",
       "      <th>2022_08_31</th>\n",
       "    </tr>\n",
       "  </thead>\n",
       "  <tbody>\n",
       "    <tr>\n",
       "      <th>broadcast</th>\n",
       "      <td>729302</td>\n",
       "      <td>89216</td>\n",
       "      <td>87912</td>\n",
       "      <td>57742</td>\n",
       "    </tr>\n",
       "    <tr>\n",
       "      <th>target_group</th>\n",
       "      <td>3651476</td>\n",
       "      <td>449059</td>\n",
       "      <td>439560</td>\n",
       "      <td>288710</td>\n",
       "    </tr>\n",
       "    <tr>\n",
       "      <th>mapping_gfk_cdm</th>\n",
       "      <td>162837</td>\n",
       "      <td>19661</td>\n",
       "      <td>18504</td>\n",
       "      <td>11198</td>\n",
       "    </tr>\n",
       "    <tr>\n",
       "      <th>cdm</th>\n",
       "      <td>162396</td>\n",
       "      <td>19570</td>\n",
       "      <td>17826</td>\n",
       "      <td>10763</td>\n",
       "    </tr>\n",
       "  </tbody>\n",
       "</table>\n",
       "</div>"
      ],
      "text/plain": [
       "                 2019_12_31  2020_12_31  2021_12_31  2022_08_31\n",
       "broadcast            729302       89216       87912       57742\n",
       "target_group        3651476      449059      439560      288710\n",
       "mapping_gfk_cdm      162837       19661       18504       11198\n",
       "cdm                  162396       19570       17826       10763"
      ]
     },
     "execution_count": 162,
     "metadata": {},
     "output_type": "execute_result"
    }
   ],
   "source": [
    "ls_ = []\n",
    "for k, v in table_filtered.items():\n",
    "    ls_.append(pd.Series(list(map(lambda x: x.shape[0], v.values()))))\n",
    "check_ = pd.concat(ls_, axis=1)\n",
    "check_.index = ['broadcast', 'target_group', 'mapping_gfk_cdm', 'cdm']\n",
    "check_.columns = table_filtered.keys()\n",
    "check_"
   ]
  },
  {
   "cell_type": "code",
   "execution_count": 163,
   "id": "fafb3faa",
   "metadata": {},
   "outputs": [],
   "source": [
    "if False:\n",
    "    ls_ = []\n",
    "    for k, v in table_filtered.items():\n",
    "        ls_.append(pd.Series(list(map(lambda x: x.shape[0], v.values()))))\n",
    "    check_ = pd.concat(ls_, axis=1)\n",
    "    check_.index = ['broadcast', 'target_group', 'mapping_gfk_cdm', 'cdm']\n",
    "    check_.columns = table_filtered.keys()\n",
    "    check_"
   ]
  },
  {
   "cell_type": "code",
   "execution_count": 164,
   "id": "7731097d",
   "metadata": {},
   "outputs": [],
   "source": [
    "if False:\n",
    "    check_ = check_.assign(\n",
    "    sum=check_.sum(axis=1),\n",
    "    true=[table_dc[k].shape[0] for k in check_.index],\n",
    "    diff=lambda x: x['true'] - x['sum'],\n",
    "    rel_diff=lambda x: x['diff']/x['true'])\n",
    "    check_"
   ]
  },
  {
   "cell_type": "code",
   "execution_count": 165,
   "id": "2bdcae8c",
   "metadata": {},
   "outputs": [
    {
     "data": {
      "text/html": [
       "<div>\n",
       "<style scoped>\n",
       "    .dataframe tbody tr th:only-of-type {\n",
       "        vertical-align: middle;\n",
       "    }\n",
       "\n",
       "    .dataframe tbody tr th {\n",
       "        vertical-align: top;\n",
       "    }\n",
       "\n",
       "    .dataframe thead th {\n",
       "        text-align: right;\n",
       "    }\n",
       "</style>\n",
       "<table border=\"1\" class=\"dataframe\">\n",
       "  <thead>\n",
       "    <tr style=\"text-align: right;\">\n",
       "      <th></th>\n",
       "      <th>2019_12_31</th>\n",
       "      <th>2020_12_31</th>\n",
       "      <th>2021_12_31</th>\n",
       "      <th>2022_08_31</th>\n",
       "      <th>sum</th>\n",
       "      <th>true</th>\n",
       "      <th>diff</th>\n",
       "      <th>rel_diff</th>\n",
       "    </tr>\n",
       "  </thead>\n",
       "  <tbody>\n",
       "    <tr>\n",
       "      <th>broadcast</th>\n",
       "      <td>729302</td>\n",
       "      <td>89216</td>\n",
       "      <td>87912</td>\n",
       "      <td>57742</td>\n",
       "      <td>964172</td>\n",
       "      <td>964172</td>\n",
       "      <td>0</td>\n",
       "      <td>0.0</td>\n",
       "    </tr>\n",
       "    <tr>\n",
       "      <th>target_group</th>\n",
       "      <td>3651476</td>\n",
       "      <td>449059</td>\n",
       "      <td>439560</td>\n",
       "      <td>288710</td>\n",
       "      <td>4828805</td>\n",
       "      <td>4828805</td>\n",
       "      <td>0</td>\n",
       "      <td>0.0</td>\n",
       "    </tr>\n",
       "    <tr>\n",
       "      <th>mapping_gfk_cdm</th>\n",
       "      <td>162837</td>\n",
       "      <td>19661</td>\n",
       "      <td>18504</td>\n",
       "      <td>11198</td>\n",
       "      <td>212200</td>\n",
       "      <td>212200</td>\n",
       "      <td>0</td>\n",
       "      <td>0.0</td>\n",
       "    </tr>\n",
       "    <tr>\n",
       "      <th>cdm</th>\n",
       "      <td>162396</td>\n",
       "      <td>19570</td>\n",
       "      <td>17826</td>\n",
       "      <td>10763</td>\n",
       "      <td>210555</td>\n",
       "      <td>210555</td>\n",
       "      <td>0</td>\n",
       "      <td>0.0</td>\n",
       "    </tr>\n",
       "  </tbody>\n",
       "</table>\n",
       "</div>"
      ],
      "text/plain": [
       "                 2019_12_31  2020_12_31  2021_12_31  2022_08_31      sum  \\\n",
       "broadcast            729302       89216       87912       57742   964172   \n",
       "target_group        3651476      449059      439560      288710  4828805   \n",
       "mapping_gfk_cdm      162837       19661       18504       11198   212200   \n",
       "cdm                  162396       19570       17826       10763   210555   \n",
       "\n",
       "                    true  diff  rel_diff  \n",
       "broadcast         964172     0       0.0  \n",
       "target_group     4828805     0       0.0  \n",
       "mapping_gfk_cdm   212200     0       0.0  \n",
       "cdm               210555     0       0.0  "
      ]
     },
     "execution_count": 165,
     "metadata": {},
     "output_type": "execute_result"
    }
   ],
   "source": [
    "check_ = check_.assign(\n",
    "    sum=check_.sum(axis=1),\n",
    "    true=[table_dc[k].shape[0] for k in check_.index],\n",
    "    diff=lambda x: x['true'] - x['sum'],\n",
    "    rel_diff=lambda x: x['diff']/x['true'])\n",
    "check_"
   ]
  },
  {
   "cell_type": "code",
   "execution_count": 166,
   "id": "ce39e413",
   "metadata": {},
   "outputs": [],
   "source": [
    "assert (abs(check_['rel_diff']) < 0.01).all()"
   ]
  },
  {
   "cell_type": "code",
   "execution_count": 167,
   "id": "d524b58e",
   "metadata": {},
   "outputs": [
    {
     "data": {
      "text/html": [
       "<div>\n",
       "<style scoped>\n",
       "    .dataframe tbody tr th:only-of-type {\n",
       "        vertical-align: middle;\n",
       "    }\n",
       "\n",
       "    .dataframe tbody tr th {\n",
       "        vertical-align: top;\n",
       "    }\n",
       "\n",
       "    .dataframe thead th {\n",
       "        text-align: right;\n",
       "    }\n",
       "</style>\n",
       "<table border=\"1\" class=\"dataframe\">\n",
       "  <thead>\n",
       "    <tr style=\"text-align: right;\">\n",
       "      <th></th>\n",
       "      <th>START_TIME</th>\n",
       "      <th>END_TIME</th>\n",
       "    </tr>\n",
       "  </thead>\n",
       "  <tbody>\n",
       "    <tr>\n",
       "      <th>count</th>\n",
       "      <td>729302</td>\n",
       "      <td>729302</td>\n",
       "    </tr>\n",
       "    <tr>\n",
       "      <th>unique</th>\n",
       "      <td>NaN</td>\n",
       "      <td>NaN</td>\n",
       "    </tr>\n",
       "    <tr>\n",
       "      <th>top</th>\n",
       "      <td>NaN</td>\n",
       "      <td>NaN</td>\n",
       "    </tr>\n",
       "    <tr>\n",
       "      <th>freq</th>\n",
       "      <td>NaN</td>\n",
       "      <td>NaN</td>\n",
       "    </tr>\n",
       "    <tr>\n",
       "      <th>mean</th>\n",
       "      <td>2015-12-22 22:59:39.145188352</td>\n",
       "      <td>2015-12-22 23:40:11.477654784</td>\n",
       "    </tr>\n",
       "    <tr>\n",
       "      <th>min</th>\n",
       "      <td>2012-01-01 03:00:00</td>\n",
       "      <td>2012-01-01 03:02:46</td>\n",
       "    </tr>\n",
       "    <tr>\n",
       "      <th>25%</th>\n",
       "      <td>2013-12-18 09:33:07</td>\n",
       "      <td>2013-12-18 10:28:17.750000128</td>\n",
       "    </tr>\n",
       "    <tr>\n",
       "      <th>50%</th>\n",
       "      <td>2015-12-21 04:39:37</td>\n",
       "      <td>2015-12-21 05:05:00.500000</td>\n",
       "    </tr>\n",
       "    <tr>\n",
       "      <th>75%</th>\n",
       "      <td>2017-12-19 08:54:26</td>\n",
       "      <td>2017-12-19 09:27:45</td>\n",
       "    </tr>\n",
       "    <tr>\n",
       "      <th>max</th>\n",
       "      <td>2020-01-01 02:41:16</td>\n",
       "      <td>2020-01-01 02:59:59</td>\n",
       "    </tr>\n",
       "    <tr>\n",
       "      <th>std</th>\n",
       "      <td>NaN</td>\n",
       "      <td>NaN</td>\n",
       "    </tr>\n",
       "  </tbody>\n",
       "</table>\n",
       "</div>"
      ],
      "text/plain": [
       "                           START_TIME                       END_TIME\n",
       "count                          729302                         729302\n",
       "unique                            NaN                            NaN\n",
       "top                               NaN                            NaN\n",
       "freq                              NaN                            NaN\n",
       "mean    2015-12-22 22:59:39.145188352  2015-12-22 23:40:11.477654784\n",
       "min               2012-01-01 03:00:00            2012-01-01 03:02:46\n",
       "25%               2013-12-18 09:33:07  2013-12-18 10:28:17.750000128\n",
       "50%               2015-12-21 04:39:37     2015-12-21 05:05:00.500000\n",
       "75%               2017-12-19 08:54:26            2017-12-19 09:27:45\n",
       "max               2020-01-01 02:41:16            2020-01-01 02:59:59\n",
       "std                               NaN                            NaN"
      ]
     },
     "execution_count": 167,
     "metadata": {},
     "output_type": "execute_result"
    }
   ],
   "source": [
    "table_filtered['2019_12_31']['broadcast'].describe(include='all', datetime_is_numeric=True)[['START_TIME', 'END_TIME']]"
   ]
  },
  {
   "cell_type": "code",
   "execution_count": 168,
   "id": "62c1e976",
   "metadata": {},
   "outputs": [
    {
     "data": {
      "text/html": [
       "<div>\n",
       "<style scoped>\n",
       "    .dataframe tbody tr th:only-of-type {\n",
       "        vertical-align: middle;\n",
       "    }\n",
       "\n",
       "    .dataframe tbody tr th {\n",
       "        vertical-align: top;\n",
       "    }\n",
       "\n",
       "    .dataframe thead th {\n",
       "        text-align: right;\n",
       "    }\n",
       "</style>\n",
       "<table border=\"1\" class=\"dataframe\">\n",
       "  <thead>\n",
       "    <tr style=\"text-align: right;\">\n",
       "      <th></th>\n",
       "      <th>START_TIME</th>\n",
       "      <th>END_TIME</th>\n",
       "    </tr>\n",
       "  </thead>\n",
       "  <tbody>\n",
       "    <tr>\n",
       "      <th>count</th>\n",
       "      <td>87912</td>\n",
       "      <td>87912</td>\n",
       "    </tr>\n",
       "    <tr>\n",
       "      <th>unique</th>\n",
       "      <td>NaN</td>\n",
       "      <td>NaN</td>\n",
       "    </tr>\n",
       "    <tr>\n",
       "      <th>top</th>\n",
       "      <td>NaN</td>\n",
       "      <td>NaN</td>\n",
       "    </tr>\n",
       "    <tr>\n",
       "      <th>freq</th>\n",
       "      <td>NaN</td>\n",
       "      <td>NaN</td>\n",
       "    </tr>\n",
       "    <tr>\n",
       "      <th>mean</th>\n",
       "      <td>2021-07-01 21:01:02.614227712</td>\n",
       "      <td>2021-07-01 21:43:05.758428928</td>\n",
       "    </tr>\n",
       "    <tr>\n",
       "      <th>min</th>\n",
       "      <td>2021-01-01 03:00:00</td>\n",
       "      <td>2021-01-01 03:24:46</td>\n",
       "    </tr>\n",
       "    <tr>\n",
       "      <th>25%</th>\n",
       "      <td>2021-03-31 15:04:21.750000128</td>\n",
       "      <td>2021-03-31 15:57:27.249999872</td>\n",
       "    </tr>\n",
       "    <tr>\n",
       "      <th>50%</th>\n",
       "      <td>2021-07-02 09:57:30.500000</td>\n",
       "      <td>2021-07-02 10:48:36</td>\n",
       "    </tr>\n",
       "    <tr>\n",
       "      <th>75%</th>\n",
       "      <td>2021-09-30 16:58:35</td>\n",
       "      <td>2021-09-30 17:29:59.249999872</td>\n",
       "    </tr>\n",
       "    <tr>\n",
       "      <th>max</th>\n",
       "      <td>2022-01-01 02:37:27</td>\n",
       "      <td>2022-01-01 02:59:59</td>\n",
       "    </tr>\n",
       "    <tr>\n",
       "      <th>std</th>\n",
       "      <td>NaN</td>\n",
       "      <td>NaN</td>\n",
       "    </tr>\n",
       "  </tbody>\n",
       "</table>\n",
       "</div>"
      ],
      "text/plain": [
       "                           START_TIME                       END_TIME\n",
       "count                           87912                          87912\n",
       "unique                            NaN                            NaN\n",
       "top                               NaN                            NaN\n",
       "freq                              NaN                            NaN\n",
       "mean    2021-07-01 21:01:02.614227712  2021-07-01 21:43:05.758428928\n",
       "min               2021-01-01 03:00:00            2021-01-01 03:24:46\n",
       "25%     2021-03-31 15:04:21.750000128  2021-03-31 15:57:27.249999872\n",
       "50%        2021-07-02 09:57:30.500000            2021-07-02 10:48:36\n",
       "75%               2021-09-30 16:58:35  2021-09-30 17:29:59.249999872\n",
       "max               2022-01-01 02:37:27            2022-01-01 02:59:59\n",
       "std                               NaN                            NaN"
      ]
     },
     "execution_count": 168,
     "metadata": {},
     "output_type": "execute_result"
    }
   ],
   "source": [
    "table_filtered['2021_12_31']['broadcast'].describe(include='all', datetime_is_numeric=True)[['START_TIME', 'END_TIME']]"
   ]
  },
  {
   "cell_type": "markdown",
   "id": "cbfdac4f",
   "metadata": {},
   "source": [
    "## quick fixes"
   ]
  },
  {
   "cell_type": "markdown",
   "id": "14e6eb95",
   "metadata": {},
   "source": [
    "### remove start_time and end_time from broacasts"
   ]
  },
  {
   "cell_type": "code",
   "execution_count": 169,
   "id": "a5c55246",
   "metadata": {
    "scrolled": true
   },
   "outputs": [],
   "source": [
    "for key in table_filtered.keys():\n",
    "    table_filtered[key]['broadcast'] = table_filtered[key]['broadcast'].drop(columns = ['START_TIME', 'END_TIME'])"
   ]
  },
  {
   "cell_type": "markdown",
   "id": "f64cc3ae",
   "metadata": {},
   "source": [
    "### rename A_ID to B_ID and A_INTERNAL_REPETITION_NUMBER, REPETITION, A_WH, A_LICENSE_RUN"
   ]
  },
  {
   "cell_type": "code",
   "execution_count": 170,
   "id": "f343617e",
   "metadata": {},
   "outputs": [],
   "source": [
    "for key in table_filtered.keys():\n",
    "    table_filtered[key]['cdm'] = table_filtered[key]['cdm'].rename(\n",
    "        columns = {\n",
    "            'A_ID': 'B_ID',\n",
    "            'A_INTERNAL_REPETITION_NUMBER': 'B_INTERNAL_REPETITION_NUMBER',\n",
    "            'A_LICENSE_RUN': 'B_LICENSE_RUN',\n",
    "            'A_WH': 'B_QUICK_REPEAT'})\n",
    "    table_filtered[key]['mapping_gfk_cdm'] = table_filtered[key]['mapping_gfk_cdm'].rename(\n",
    "        columns = {'A_ID': 'B_ID'})\n",
    "    table_filtered[key]['broadcast'] = table_filtered[key]['broadcast'].rename(\n",
    "        columns = {'REPETITION': 'REPEAT'})"
   ]
  },
  {
   "cell_type": "markdown",
   "id": "a0a699c1",
   "metadata": {},
   "source": [
    "## add event & holiday"
   ]
  },
  {
   "cell_type": "code",
   "execution_count": 171,
   "id": "931f2944",
   "metadata": {},
   "outputs": [],
   "source": [
    "first_date = list(table_filtered.keys())[0]"
   ]
  },
  {
   "cell_type": "code",
   "execution_count": 172,
   "id": "4e443b0b",
   "metadata": {},
   "outputs": [],
   "source": [
    "table_filtered[first_date]['event'] = connection.export_to_pandas(\"SELECT * FROM BIDS_UNIVERSE_SOURCE_MANUELL.EVENTS\")\n",
    "table_filtered[first_date]['holiday'] = connection.export_to_pandas(\"SELECT * FROM BIDS_UNIVERSE_SOURCE_MANUELL.FEIERTAGE\")"
   ]
  },
  {
   "cell_type": "markdown",
   "id": "edd0169b",
   "metadata": {},
   "source": [
    "## NEW: round datetime column downwards to 5 minutes"
   ]
  },
  {
   "cell_type": "code",
   "execution_count": 173,
   "id": "d687bd68",
   "metadata": {},
   "outputs": [],
   "source": [
    "for key in table_filtered.keys():\n",
    "    table_filtered[key]['broadcast']['START_TIME_AGF_5MIN'] = (\n",
    "        pd.to_datetime(table_filtered[key]['broadcast']['START_TIME_AGF']).dt.floor('5min').astype(str))\n",
    "    table_filtered[key]['broadcast']['END_TIME_AGF_5MIN'] = (\n",
    "        pd.to_datetime(table_filtered[key]['broadcast']['END_TIME_AGF']).dt.floor('5min').astype(str))"
   ]
  },
  {
   "cell_type": "code",
   "execution_count": 174,
   "id": "20bb6499",
   "metadata": {},
   "outputs": [
    {
     "data": {
      "text/html": [
       "<div>\n",
       "<style scoped>\n",
       "    .dataframe tbody tr th:only-of-type {\n",
       "        vertical-align: middle;\n",
       "    }\n",
       "\n",
       "    .dataframe tbody tr th {\n",
       "        vertical-align: top;\n",
       "    }\n",
       "\n",
       "    .dataframe thead th {\n",
       "        text-align: right;\n",
       "    }\n",
       "</style>\n",
       "<table border=\"1\" class=\"dataframe\">\n",
       "  <thead>\n",
       "    <tr style=\"text-align: right;\">\n",
       "      <th></th>\n",
       "      <th>END_TIME_AGF</th>\n",
       "      <th>END_TIME_AGF_5MIN</th>\n",
       "    </tr>\n",
       "  </thead>\n",
       "  <tbody>\n",
       "    <tr>\n",
       "      <th>906430</th>\n",
       "      <td>2022-01-01-03:32:08.000000</td>\n",
       "      <td>2022-01-01 03:30:00</td>\n",
       "    </tr>\n",
       "    <tr>\n",
       "      <th>906431</th>\n",
       "      <td>2022-01-01-04:24:00.000000</td>\n",
       "      <td>2022-01-01 04:20:00</td>\n",
       "    </tr>\n",
       "    <tr>\n",
       "      <th>906432</th>\n",
       "      <td>2022-01-01-03:57:53.000000</td>\n",
       "      <td>2022-01-01 03:55:00</td>\n",
       "    </tr>\n",
       "    <tr>\n",
       "      <th>906433</th>\n",
       "      <td>2022-01-01-07:52:22.000000</td>\n",
       "      <td>2022-01-01 07:50:00</td>\n",
       "    </tr>\n",
       "    <tr>\n",
       "      <th>906434</th>\n",
       "      <td>2022-01-01-03:58:38.000000</td>\n",
       "      <td>2022-01-01 03:55:00</td>\n",
       "    </tr>\n",
       "    <tr>\n",
       "      <th>...</th>\n",
       "      <td>...</td>\n",
       "      <td>...</td>\n",
       "    </tr>\n",
       "    <tr>\n",
       "      <th>964167</th>\n",
       "      <td>2022-08-31-02:59:59.000000</td>\n",
       "      <td>2022-08-31 02:55:00</td>\n",
       "    </tr>\n",
       "    <tr>\n",
       "      <th>964168</th>\n",
       "      <td>2022-08-31-02:50:54.000000</td>\n",
       "      <td>2022-08-31 02:50:00</td>\n",
       "    </tr>\n",
       "    <tr>\n",
       "      <th>964169</th>\n",
       "      <td>2022-08-31-02:43:27.000000</td>\n",
       "      <td>2022-08-31 02:40:00</td>\n",
       "    </tr>\n",
       "    <tr>\n",
       "      <th>964170</th>\n",
       "      <td>2022-08-31-02:59:59.000000</td>\n",
       "      <td>2022-08-31 02:55:00</td>\n",
       "    </tr>\n",
       "    <tr>\n",
       "      <th>964171</th>\n",
       "      <td>2022-08-31-02:59:59.000000</td>\n",
       "      <td>2022-08-31 02:55:00</td>\n",
       "    </tr>\n",
       "  </tbody>\n",
       "</table>\n",
       "<p>57742 rows × 2 columns</p>\n",
       "</div>"
      ],
      "text/plain": [
       "                      END_TIME_AGF    END_TIME_AGF_5MIN\n",
       "906430  2022-01-01-03:32:08.000000  2022-01-01 03:30:00\n",
       "906431  2022-01-01-04:24:00.000000  2022-01-01 04:20:00\n",
       "906432  2022-01-01-03:57:53.000000  2022-01-01 03:55:00\n",
       "906433  2022-01-01-07:52:22.000000  2022-01-01 07:50:00\n",
       "906434  2022-01-01-03:58:38.000000  2022-01-01 03:55:00\n",
       "...                            ...                  ...\n",
       "964167  2022-08-31-02:59:59.000000  2022-08-31 02:55:00\n",
       "964168  2022-08-31-02:50:54.000000  2022-08-31 02:50:00\n",
       "964169  2022-08-31-02:43:27.000000  2022-08-31 02:40:00\n",
       "964170  2022-08-31-02:59:59.000000  2022-08-31 02:55:00\n",
       "964171  2022-08-31-02:59:59.000000  2022-08-31 02:55:00\n",
       "\n",
       "[57742 rows x 2 columns]"
      ]
     },
     "execution_count": 174,
     "metadata": {},
     "output_type": "execute_result"
    }
   ],
   "source": [
    "table_filtered[key]['broadcast'][['END_TIME_AGF', 'END_TIME_AGF_5MIN']]"
   ]
  },
  {
   "cell_type": "code",
   "execution_count": 175,
   "id": "70128543",
   "metadata": {},
   "outputs": [],
   "source": [
    "for key in table_filtered.keys():\n",
    "    table_filtered[key]['broadcast']['START_TIME_AGF'] = table_filtered[key]['broadcast']['START_TIME_AGF_5MIN'].copy()\n",
    "    table_filtered[key]['broadcast']['END_TIME_AGF'] = table_filtered[key]['broadcast']['END_TIME_AGF_5MIN'].copy()\n",
    "    table_filtered[key]['broadcast'] = table_filtered[key]['broadcast'].drop(columns = ['START_TIME_AGF_5MIN', 'END_TIME_AGF_5MIN'])\n",
    "    # table_filtered[key]['broadcast'] = table_filtered[key]['broadcast'].drop(columns = ['START_TIME_AGF', 'END_TIME_AGF'])"
   ]
  },
  {
   "cell_type": "markdown",
   "id": "aab46bf9",
   "metadata": {},
   "source": [
    "## NEW: Multiply Sehb & TVG and cast to int\n",
    "- Note: since SEHB and TVG is simulated the number of decimal places is not 7 but more"
   ]
  },
  {
   "cell_type": "code",
   "execution_count": 176,
   "id": "c4d81725",
   "metadata": {},
   "outputs": [],
   "source": [
    "for key in table_filtered.keys():\n",
    "    table_filtered[key]['target_group']['SEHB_'] = (table_filtered[key]['target_group']['SEHB'] * 1e6).round()\n",
    "    table_filtered[key]['target_group']['TVG_'] = (table_filtered[key]['target_group']['TVG'] * 1e6).round()"
   ]
  },
  {
   "cell_type": "code",
   "execution_count": 177,
   "id": "a6a9bbbd",
   "metadata": {},
   "outputs": [],
   "source": [
    "for key in table_filtered.keys():\n",
    "    table_filtered[key]['target_group']['SEHB'] = table_filtered[key]['target_group']['SEHB_']\n",
    "    table_filtered[key]['target_group']['TVG'] = table_filtered[key]['target_group']['TVG_']\n",
    "    table_filtered[key]['target_group'] = table_filtered[key]['target_group'].drop(columns = ['SEHB_', 'TVG_'])"
   ]
  },
  {
   "cell_type": "markdown",
   "id": "684d7161",
   "metadata": {},
   "source": [
    "## NEW: ROUND Kinobesucher"
   ]
  },
  {
   "cell_type": "code",
   "execution_count": 178,
   "id": "17d5db84",
   "metadata": {},
   "outputs": [],
   "source": [
    "for key in table_filtered.keys():\n",
    "    table_filtered[key]['cdm']['C_HIGHEST_NUMBER_OF_VISITORS_GERMANY'] = (\n",
    "        table_filtered[key]['cdm']['C_HIGHEST_NUMBER_OF_VISITORS_GERMANY'].round())"
   ]
  },
  {
   "cell_type": "markdown",
   "id": "1ad64108",
   "metadata": {},
   "source": [
    "# save partial tables as csv"
   ]
  },
  {
   "cell_type": "code",
   "execution_count": 179,
   "id": "3bb37356",
   "metadata": {},
   "outputs": [],
   "source": [
    "path_csv_public = config.path_csv_public"
   ]
  },
  {
   "cell_type": "code",
   "execution_count": 185,
   "id": "79eb2a33",
   "metadata": {},
   "outputs": [],
   "source": [
    "# config.save_csv_public = True\n",
    "config.path_csv_public = \"/home/spa0001f/github/teach/dsc/data/csv/\""
   ]
  },
  {
   "cell_type": "code",
   "execution_count": 186,
   "id": "1239b247",
   "metadata": {},
   "outputs": [
    {
     "name": "stdout",
     "output_type": "stream",
     "text": [
      "/home/spa0001f/github/teach/dsc/data/csv/2019_12_31/broadcast.zip created\n",
      "/home/spa0001f/github/teach/dsc/data/csv/2019_12_31/target_group.zip created\n",
      "/home/spa0001f/github/teach/dsc/data/csv/2019_12_31/mapping_gfk_cdm.zip created\n",
      "/home/spa0001f/github/teach/dsc/data/csv/2019_12_31/cdm.zip created\n",
      "/home/spa0001f/github/teach/dsc/data/csv/2019_12_31/event.zip created\n",
      "/home/spa0001f/github/teach/dsc/data/csv/2019_12_31/holiday.zip created\n",
      "/home/spa0001f/github/teach/dsc/data/csv/2020_12_31/broadcast.zip created\n",
      "/home/spa0001f/github/teach/dsc/data/csv/2020_12_31/target_group.zip created\n",
      "/home/spa0001f/github/teach/dsc/data/csv/2020_12_31/mapping_gfk_cdm.zip created\n",
      "/home/spa0001f/github/teach/dsc/data/csv/2020_12_31/cdm.zip created\n",
      "/home/spa0001f/github/teach/dsc/data/csv/2021_12_31/broadcast.zip created\n",
      "/home/spa0001f/github/teach/dsc/data/csv/2021_12_31/target_group.zip created\n",
      "/home/spa0001f/github/teach/dsc/data/csv/2021_12_31/mapping_gfk_cdm.zip created\n",
      "/home/spa0001f/github/teach/dsc/data/csv/2021_12_31/cdm.zip created\n",
      "/home/spa0001f/github/teach/dsc/data/csv/2022_08_31/broadcast.zip created\n",
      "/home/spa0001f/github/teach/dsc/data/csv/2022_08_31/target_group.zip created\n",
      "/home/spa0001f/github/teach/dsc/data/csv/2022_08_31/mapping_gfk_cdm.zip created\n",
      "/home/spa0001f/github/teach/dsc/data/csv/2022_08_31/cdm.zip created\n"
     ]
    }
   ],
   "source": [
    "format_ = config.format_  # compression\n",
    "for _date, _dc in table_filtered.items():\n",
    "    for _name, _df in _dc.items():\n",
    "        _folder = os.path.join(path_csv_public, _date)\n",
    "        if config.save_csv_public:\n",
    "            os.makedirs(_folder, exist_ok=True)\n",
    "        _path = os.path.join(_folder, f\"{_name}.{format_}\")\n",
    "        if config.save_csv_public:\n",
    "            _df.to_csv(_path, sep=\";\", index=False, compression=format_)\n",
    "            print(f\"{_path} created\")\n",
    "        else:\n",
    "            print(f\"{_path} was not created\")"
   ]
  },
  {
   "cell_type": "markdown",
   "id": "f12d1ad0",
   "metadata": {},
   "source": [
    "# build database"
   ]
  },
  {
   "cell_type": "code",
   "execution_count": null,
   "id": "dc783b81",
   "metadata": {},
   "outputs": [],
   "source": [
    "os.getcwd()"
   ]
  },
  {
   "cell_type": "code",
   "execution_count": null,
   "id": "e14ae66a",
   "metadata": {},
   "outputs": [],
   "source": [
    "os.chdir(\"/home/spa0001f/github/teach/dsc\")"
   ]
  },
  {
   "cell_type": "code",
   "execution_count": null,
   "id": "b58d0286",
   "metadata": {},
   "outputs": [],
   "source": [
    "assert os.getcwd() =='/home/spa0001f/github/teach/dsc'"
   ]
  },
  {
   "cell_type": "code",
   "execution_count": null,
   "id": "dbf0a350",
   "metadata": {},
   "outputs": [],
   "source": [
    "os.system(\"python3 ./data/create_database.py\")"
   ]
  },
  {
   "cell_type": "markdown",
   "id": "16d65d08",
   "metadata": {},
   "source": [
    "# STOP"
   ]
  },
  {
   "cell_type": "code",
   "execution_count": null,
   "id": "3a7dad38",
   "metadata": {},
   "outputs": [],
   "source": [
    "assert False, \"stop here\""
   ]
  },
  {
   "cell_type": "markdown",
   "id": "fcc1d47d",
   "metadata": {},
   "source": [
    "# build databases"
   ]
  },
  {
   "cell_type": "code",
   "execution_count": null,
   "id": "e3a4debc",
   "metadata": {},
   "outputs": [],
   "source": [
    "if False:\n",
    "    import zipfile\n",
    "    path = f\"./csv/{today}/mapping.{format_}\"\n",
    "    zf = zipfile.ZipFile(path) \n",
    "    dfm = pd.read_csv(zf.open('mapping'), sep=\";\")"
   ]
  },
  {
   "cell_type": "code",
   "execution_count": null,
   "id": "8957f187",
   "metadata": {},
   "outputs": [],
   "source": [
    "path"
   ]
  },
  {
   "cell_type": "code",
   "execution_count": null,
   "id": "e41ba286",
   "metadata": {},
   "outputs": [],
   "source": [
    "table_names = list(table_columns.keys())\n",
    "table_names.remove('flat_table')\n",
    "table_names.remove('mapping_sim')\n",
    "table_names.remove('broadcast')\n",
    "table_names = [broadcast_filtered] + table_names\n",
    "table_names"
   ]
  },
  {
   "cell_type": "markdown",
   "id": "95d067a8",
   "metadata": {},
   "source": [
    "## read csv"
   ]
  },
  {
   "cell_type": "code",
   "execution_count": null,
   "id": "ca2372fe",
   "metadata": {},
   "outputs": [],
   "source": [
    "path2csv = './csv/2022_09_12'\n",
    "format_ = \"zip\"\n",
    "tables_dc = {}\n",
    "for table in table_names:\n",
    "    path = f\"./csv/{today}/{table}.{format_}\"\n",
    "    tables_dc[table] = pd.read_csv(path, sep=\";\", compression=format_)"
   ]
  },
  {
   "cell_type": "code",
   "execution_count": null,
   "id": "a2dfa768",
   "metadata": {},
   "outputs": [],
   "source": []
  },
  {
   "cell_type": "code",
   "execution_count": null,
   "id": "5ae1174c",
   "metadata": {},
   "outputs": [],
   "source": [
    "# today = datetime.now().strftime(\"%Y_%m_%d\")\n",
    "s_connection = sqlite3.connect(\"./database/dsc.db\")"
   ]
  },
  {
   "cell_type": "code",
   "execution_count": null,
   "id": "a523bcf0",
   "metadata": {},
   "outputs": [],
   "source": [
    "# continue here, use simulated keys and kpis and drop original kpis -> do this before the csvs are created, need to create a mapping table then\n",
    "# also rename columns"
   ]
  },
  {
   "cell_type": "code",
   "execution_count": null,
   "id": "9a446de3",
   "metadata": {},
   "outputs": [],
   "source": [
    "for table in tables:\n",
    "    tables_dc[table].to_sql(table, con=s_connection, index=False)"
   ]
  },
  {
   "cell_type": "code",
   "execution_count": null,
   "id": "40d4f3c0",
   "metadata": {},
   "outputs": [],
   "source": [
    "cursor = s_connection.cursor()\n",
    "cursor.execute(\"SELECT name FROM sqlite_master WHERE type='table';\")  # query and print all the tables in the database engine\n",
    "print(cursor.fetchall())"
   ]
  },
  {
   "cell_type": "markdown",
   "id": "2f97c0fe",
   "metadata": {},
   "source": [
    "# sqlite"
   ]
  },
  {
   "cell_type": "code",
   "execution_count": null,
   "id": "89d05cff",
   "metadata": {},
   "outputs": [],
   "source": [
    "df.columns"
   ]
  },
  {
   "cell_type": "code",
   "execution_count": null,
   "id": "7a4dcb55",
   "metadata": {},
   "outputs": [],
   "source": [
    "s_connection = sqlite3.connect(\"./database/dsc.db\")"
   ]
  },
  {
   "cell_type": "markdown",
   "id": "92ee8534",
   "metadata": {},
   "source": [
    "## broadcasts"
   ]
  },
  {
   "cell_type": "code",
   "execution_count": null,
   "id": "ccc05dbb",
   "metadata": {},
   "outputs": [],
   "source": [
    "cols = connection.execute(sql.broadcast.query).columns()\n",
    "list(cols.keys())\n",
    "list(cols.values())\n",
    "\n",
    "type_ = {}\n",
    "for key, value in cols.items():\n",
    "    type_[key] = value['type']\n",
    "type_\n",
    "\n",
    "for key, value in type_.items():\n",
    "    if value in ['DECIMAL']:\n",
    "        type_[key] = 'REAL'\n",
    "    else:\n",
    "        type_[key] = 'TEXT'\n",
    "        \n",
    "type_"
   ]
  },
  {
   "cell_type": "code",
   "execution_count": null,
   "id": "7e539ea2",
   "metadata": {},
   "outputs": [],
   "source": [
    "df.columns"
   ]
  },
  {
   "cell_type": "code",
   "execution_count": null,
   "id": "1a6306a5",
   "metadata": {},
   "outputs": [],
   "source": [
    "cursor = s_connection.cursor()"
   ]
  },
  {
   "cell_type": "code",
   "execution_count": null,
   "id": "36c3a3e1",
   "metadata": {},
   "outputs": [],
   "source": [
    "sqlite_query = \"\"\" CREATE TABLE IF NOT EXISTS TEST\n",
    "    (RUN_ID INTEGER, TITLE TEXT)\"\"\"\n",
    "cursor.execute(sqlite_query)\n",
    "s_connection.commit()\n",
    "s_connection.close()"
   ]
  },
  {
   "cell_type": "code",
   "execution_count": null,
   "id": "3fd6d549",
   "metadata": {},
   "outputs": [],
   "source": [
    "s_values = list(df.iloc[:, :2].head().replace(np.nan, None).itertuples(index=False, name=None))\n",
    "s_values"
   ]
  },
  {
   "cell_type": "code",
   "execution_count": null,
   "id": "7c417ef2",
   "metadata": {},
   "outputs": [],
   "source": [
    "s_connection = sqlite3.connect(\"./database/dsc.db\")\n",
    "cursor = s_connection.cursor()\n",
    "# cursor.execute(\"INSERT INTO TEST VALUES (1, 'ABC')\")\n",
    "cursor.executemany(\"INSERT INTO TEST VALUES (?, ?)\", s_values)  # always need a tuple of ? here, so use (?,) if only one value should be inserted\n",
    "# s_connection.commit()  # if I do not commit then the changes do not remain if the connection is closed"
   ]
  },
  {
   "cell_type": "code",
   "execution_count": null,
   "id": "ecc0ddf6",
   "metadata": {},
   "outputs": [],
   "source": [
    "select_all = cursor.execute(\"SELECT * FROM TEST\")  # this is an iterator"
   ]
  },
  {
   "cell_type": "code",
   "execution_count": null,
   "id": "e40d4bed",
   "metadata": {},
   "outputs": [],
   "source": [
    "select_all.fetchall()"
   ]
  },
  {
   "cell_type": "code",
   "execution_count": null,
   "id": "35957b92",
   "metadata": {},
   "outputs": [],
   "source": [
    "cursor.execute(\"SELECT name FROM sqlite_master WHERE type='table';\")  # query and print all the tables in the database engine\n",
    "print(cursor.fetchall())"
   ]
  },
  {
   "cell_type": "code",
   "execution_count": null,
   "id": "ede062e4",
   "metadata": {},
   "outputs": [],
   "source": [
    "s_connection.close()"
   ]
  },
  {
   "cell_type": "markdown",
   "id": "0fd3ec09",
   "metadata": {},
   "source": [
    "# sqlalchemy"
   ]
  },
  {
   "cell_type": "code",
   "execution_count": null,
   "id": "a6d43970",
   "metadata": {},
   "outputs": [],
   "source": [
    "import sqlalchemy as db"
   ]
  },
  {
   "cell_type": "code",
   "execution_count": null,
   "id": "d5d24408",
   "metadata": {},
   "outputs": [],
   "source": [
    "engine = db.create_engine(\"sqlite:///database/dsc.db\") #  three slashes for a relative path https://stackoverflow.com/a/70834382, can create multiple connections"
   ]
  },
  {
   "cell_type": "code",
   "execution_count": null,
   "id": "cc340274",
   "metadata": {},
   "outputs": [],
   "source": [
    "a_connection = engine.connect()"
   ]
  },
  {
   "cell_type": "code",
   "execution_count": null,
   "id": "56c00d52",
   "metadata": {},
   "outputs": [],
   "source": [
    "metadata = db.MetaData()\n",
    "test = db.Table('Test', metadata, autoload=True, autoload_with=engine)\n",
    "query = db.select([test])\n",
    "result_proxy = a_connection.execute(query)\n",
    "result_set = result_proxy.fetchall()"
   ]
  },
  {
   "cell_type": "code",
   "execution_count": null,
   "id": "a83b2953",
   "metadata": {},
   "outputs": [],
   "source": [
    "result_set"
   ]
  },
  {
   "cell_type": "code",
   "execution_count": null,
   "id": "b24e33ea",
   "metadata": {},
   "outputs": [],
   "source": [
    "query2 = test.insert().values(RUN_ID=2, TITLE='YXZ')  # see 7:30 how to insert several rows: https://www.linkedin.com/learning/advanced-python-working-with-databases/solution-create-an-sqlite-database?autoSkip=true&autoplay=true&resume=false&u=70943858\n",
    "a_connection.execute(query2)\n",
    "result_proxy = a_connection.execute(query)\n",
    "result_set = result_proxy.fetchall()\n",
    "result_set"
   ]
  },
  {
   "cell_type": "code",
   "execution_count": null,
   "id": "6a261252",
   "metadata": {},
   "outputs": [],
   "source": []
  },
  {
   "cell_type": "code",
   "execution_count": null,
   "id": "a2df80db",
   "metadata": {},
   "outputs": [],
   "source": []
  },
  {
   "cell_type": "markdown",
   "id": "1c92f31e",
   "metadata": {},
   "source": [
    "# use execute and fetch"
   ]
  },
  {
   "cell_type": "code",
   "execution_count": null,
   "id": "10785b45",
   "metadata": {},
   "outputs": [],
   "source": [
    "full_ = connection.execute(sql.broadcast_target_group_cdm.query)"
   ]
  },
  {
   "cell_type": "code",
   "execution_count": null,
   "id": "58f2cc73",
   "metadata": {},
   "outputs": [],
   "source": [
    "a = full_.fetchall()"
   ]
  },
  {
   "cell_type": "code",
   "execution_count": null,
   "id": "055fd35f",
   "metadata": {},
   "outputs": [],
   "source": [
    "pd.DataFrame(a[0:10]).fillna(np.nan) # .dtypes"
   ]
  },
  {
   "cell_type": "markdown",
   "id": "97075932",
   "metadata": {},
   "source": [
    "## column info for each query (might be useful later on)"
   ]
  },
  {
   "cell_type": "code",
   "execution_count": null,
   "id": "65284022",
   "metadata": {},
   "outputs": [],
   "source": [
    "connection.execute(sql.broadcast.query).columns()"
   ]
  },
  {
   "cell_type": "code",
   "execution_count": null,
   "id": "350e0b69",
   "metadata": {},
   "outputs": [],
   "source": [
    "connection.execute(sql.target_group.query).columns()"
   ]
  }
 ],
 "metadata": {
  "jupytext": {
   "comment_magics": false
  },
  "kernelspec": {
   "display_name": "Python [conda env:dsc]",
   "language": "python",
   "name": "conda-env-dsc-py"
  },
  "language_info": {
   "codemirror_mode": {
    "name": "ipython",
    "version": 3
   },
   "file_extension": ".py",
   "mimetype": "text/x-python",
   "name": "python",
   "nbconvert_exporter": "python",
   "pygments_lexer": "ipython3",
   "version": "3.10.6"
  },
  "toc": {
   "base_numbering": 1,
   "nav_menu": {},
   "number_sections": true,
   "sideBar": true,
   "skip_h1_title": false,
   "title_cell": "Table of Contents",
   "title_sidebar": "Contents",
   "toc_cell": false,
   "toc_position": {
    "height": "calc(100% - 180px)",
    "left": "10px",
    "top": "150px",
    "width": "384px"
   },
   "toc_section_display": true,
   "toc_window_display": true
  }
 },
 "nbformat": 4,
 "nbformat_minor": 5
}
