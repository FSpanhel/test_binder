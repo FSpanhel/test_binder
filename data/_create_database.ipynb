{
 "cells": [
  {
   "cell_type": "code",
   "execution_count": 1,
   "id": "1c7762ba",
   "metadata": {},
   "outputs": [],
   "source": [
    "import os\n",
    "os.chdir(os.path.dirname(os.getcwd()))"
   ]
  },
  {
   "cell_type": "code",
   "execution_count": 2,
   "id": "1b7f7903",
   "metadata": {},
   "outputs": [],
   "source": [
    "from create_database import DataBase"
   ]
  },
  {
   "cell_type": "code",
   "execution_count": 3,
   "id": "d072e091",
   "metadata": {},
   "outputs": [],
   "source": [
    "data_base = DataBase()"
   ]
  },
  {
   "cell_type": "code",
   "execution_count": 4,
   "id": "12d33592",
   "metadata": {},
   "outputs": [
    {
     "name": "stdout",
     "output_type": "stream",
     "text": [
      "> deleted ./data/dsc.db\n"
     ]
    }
   ],
   "source": [
    "data_base.delete()"
   ]
  },
  {
   "cell_type": "code",
   "execution_count": 5,
   "id": "ebccd66a",
   "metadata": {},
   "outputs": [
    {
     "name": "stdout",
     "output_type": "stream",
     "text": [
      "> there is no connection\n"
     ]
    }
   ],
   "source": [
    "data_base.close()"
   ]
  },
  {
   "cell_type": "code",
   "execution_count": 6,
   "id": "802f804a",
   "metadata": {},
   "outputs": [
    {
     "name": "stdout",
     "output_type": "stream",
     "text": [
      "> created ./data/dsc.db\n",
      "> connected to ./data/dsc.db\n"
     ]
    }
   ],
   "source": [
    "data_base.connect()"
   ]
  },
  {
   "cell_type": "code",
   "execution_count": 12,
   "id": "d0fe33dc",
   "metadata": {},
   "outputs": [
    {
     "name": "stdout",
     "output_type": "stream",
     "text": [
      "> closed connection to ./data/dsc.db\n",
      "> deleted ./data/dsc.db\n",
      "> connected to ./data/dsc.db\n"
     ]
    }
   ],
   "source": [
    "data_base.delete()\n",
    "data_base.connect()"
   ]
  },
  {
   "cell_type": "code",
   "execution_count": 13,
   "id": "fb85ca3c",
   "metadata": {},
   "outputs": [
    {
     "name": "stdout",
     "output_type": "stream",
     "text": [
      "> closed connection to ./data/dsc.db\n",
      "> connected to ./data/dsc.db\n"
     ]
    }
   ],
   "source": [
    "data_base.close()\n",
    "data_base.connect()"
   ]
  },
  {
   "cell_type": "markdown",
   "id": "7cb398b6",
   "metadata": {},
   "source": [
    "## read tables"
   ]
  },
  {
   "cell_type": "code",
   "execution_count": 14,
   "id": "83b4f4bb",
   "metadata": {},
   "outputs": [
    {
     "name": "stdout",
     "output_type": "stream",
     "text": [
      "> appended 453254 records into ./data/csv/2019_12_31/broadcast until 2019_12_31\n",
      "> appended 103599 records into ./data/csv/2019_12_31/cdm until 2019_12_31\n",
      "> appended 1122 records into ./data/csv/2019_12_31/event until 2019_12_31\n",
      "> appended 650 records into ./data/csv/2019_12_31/holiday until 2019_12_31\n",
      "> appended 103619 records into ./data/csv/2019_12_31/mapping_gfk_cdm until 2019_12_31\n",
      "> appended 2271186 records into ./data/csv/2019_12_31/target_group until 2019_12_31\n"
     ]
    }
   ],
   "source": [
    "tables = data_base._read_tables_from_date_folder(folder=\"./data/csv/2019_12_31\")"
   ]
  },
  {
   "cell_type": "code",
   "execution_count": 76,
   "id": "a444aba9",
   "metadata": {},
   "outputs": [
    {
     "data": {
      "text/plain": [
       "dict_keys(['broadcast', 'cdm', 'event', 'holiday', 'mapping_gfk_cdm', 'target_group'])"
      ]
     },
     "execution_count": 76,
     "metadata": {},
     "output_type": "execute_result"
    }
   ],
   "source": [
    "tables.keys()"
   ]
  },
  {
   "cell_type": "code",
   "execution_count": 77,
   "id": "679f5880",
   "metadata": {},
   "outputs": [
    {
     "data": {
      "text/plain": [
       "(453254, 12)"
      ]
     },
     "execution_count": 77,
     "metadata": {},
     "output_type": "execute_result"
    }
   ],
   "source": [
    "tables['broadcast'].shape"
   ]
  },
  {
   "cell_type": "markdown",
   "id": "bf8cef2e",
   "metadata": {},
   "source": [
    "## append records"
   ]
  },
  {
   "cell_type": "code",
   "execution_count": 82,
   "id": "595eab73",
   "metadata": {},
   "outputs": [],
   "source": [
    "data_base.append_records_from_folder(folder=\"./csv/2019_12_31\")"
   ]
  },
  {
   "cell_type": "markdown",
   "id": "efaddcc7",
   "metadata": {},
   "source": [
    "## create full tables"
   ]
  },
  {
   "cell_type": "code",
   "execution_count": 5,
   "id": "6c434c81",
   "metadata": {},
   "outputs": [
    {
     "name": "stdout",
     "output_type": "stream",
     "text": [
      "> created ./data/dsc.db\n",
      "> connected to ./data/dsc.db\n",
      "> reading folder: ./data/csv/2019_12_31\n",
      "> appended 453254 records into ./data/dsc.db/broadcast until 2019_12_31\n",
      "> appended 103599 records into ./data/dsc.db/cdm until 2019_12_31\n",
      "> appended 1122 records into ./data/dsc.db/event until 2019_12_31\n",
      "> appended 650 records into ./data/dsc.db/holiday until 2019_12_31\n",
      "> appended 103619 records into ./data/dsc.db/mapping_gfk_cdm until 2019_12_31\n",
      "> appended 2271186 records into ./data/dsc.db/target_group until 2019_12_31\n",
      "> reading folder: ./data/csv/2020_12_31\n",
      "> appended 89216 records into ./data/dsc.db/broadcast until 2020_12_31\n",
      "> appended 19591 records into ./data/dsc.db/cdm until 2020_12_31\n",
      "> appended 19661 records into ./data/dsc.db/mapping_gfk_cdm until 2020_12_31\n",
      "> appended 449059 records into ./data/dsc.db/target_group until 2020_12_31\n",
      "> reading folder: ./data/csv/2021_12_31\n",
      "> appended 87912 records into ./data/dsc.db/broadcast until 2021_12_31\n",
      "> appended 17863 records into ./data/dsc.db/cdm until 2021_12_31\n",
      "> appended 18502 records into ./data/dsc.db/mapping_gfk_cdm until 2021_12_31\n",
      "> appended 439560 records into ./data/dsc.db/target_group until 2021_12_31\n",
      "> reading folder: ./data/csv/2022_08_31\n",
      "> appended 57742 records into ./data/dsc.db/broadcast until 2022_08_31\n",
      "> appended 10778 records into ./data/dsc.db/cdm until 2022_08_31\n",
      "> appended 11198 records into ./data/dsc.db/mapping_gfk_cdm until 2022_08_31\n",
      "> appended 288710 records into ./data/dsc.db/target_group until 2022_08_31\n",
      "> done!\n"
     ]
    }
   ],
   "source": [
    "data_base.create()"
   ]
  }
 ],
 "metadata": {
  "interpreter": {
   "hash": "7b7b5a5c5ebb6a47d8a312dbeeda80a870b0a052e00c7e649f6d55f1bf1a1d03"
  },
  "kernelspec": {
   "display_name": "Python 3.10.6 ('dsc')",
   "language": "python",
   "name": "python3"
  },
  "language_info": {
   "codemirror_mode": {
    "name": "ipython",
    "version": 3
   },
   "file_extension": ".py",
   "mimetype": "text/x-python",
   "name": "python",
   "nbconvert_exporter": "python",
   "pygments_lexer": "ipython3",
   "version": "3.10.6"
  }
 },
 "nbformat": 4,
 "nbformat_minor": 5
}
