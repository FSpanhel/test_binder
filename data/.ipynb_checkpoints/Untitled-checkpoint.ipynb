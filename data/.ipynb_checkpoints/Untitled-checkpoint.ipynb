{
 "cells": [
  {
   "cell_type": "code",
   "execution_count": 24,
   "id": "adaca7de",
   "metadata": {},
   "outputs": [],
   "source": [
    "import sys, os\n",
    "import sqlite3\n",
    "# import sqlalchemy\n",
    "import pyexasol\n",
    "import pandas as pd\n",
    "from credentials import Credentials"
   ]
  },
  {
   "cell_type": "code",
   "execution_count": 31,
   "id": "bc954321",
   "metadata": {},
   "outputs": [],
   "source": [
    "assert os.getcwd().rsplit(\"/\", 1)[-1] == 'data'"
   ]
  },
  {
   "cell_type": "code",
   "execution_count": 11,
   "id": "79067b8e",
   "metadata": {},
   "outputs": [],
   "source": [
    "credentials = Credentials(path=\"/mnt/c/Users/spa0001f/.hasselhoff\")"
   ]
  },
  {
   "cell_type": "code",
   "execution_count": 20,
   "id": "62c1f739",
   "metadata": {},
   "outputs": [],
   "source": [
    "connection = pyexasol.connect(dsn=credentials.exasol.dsn,\n",
    "                     user=credentials.exasol.write.user,\n",
    "                     password=credentials.exasol.write.key, compression=True)"
   ]
  },
  {
   "cell_type": "code",
   "execution_count": 21,
   "id": "8ba3f306",
   "metadata": {},
   "outputs": [],
   "source": [
    "query = \"SELECT DISTINCT sender FROM bids_universe_source_gfk.ausstrahlungen\""
   ]
  },
  {
   "cell_type": "code",
   "execution_count": 22,
   "id": "a27ad7e6",
   "metadata": {},
   "outputs": [],
   "source": [
    "df = connection.export_to_pandas(\"SELECT * FROM EXA_ALL_USERS\")"
   ]
  },
  {
   "cell_type": "code",
   "execution_count": 25,
   "id": "af8e9532",
   "metadata": {},
   "outputs": [
    {
     "data": {
      "text/plain": [
       "'/home/spa0001f/github/dsc/data'"
      ]
     },
     "execution_count": 25,
     "metadata": {},
     "output_type": "execute_result"
    }
   ],
   "source": []
  },
  {
   "cell_type": "code",
   "execution_count": 32,
   "id": "2a02a76e",
   "metadata": {},
   "outputs": [],
   "source": [
    "sys.path.append(\"./sql\")"
   ]
  },
  {
   "cell_type": "code",
   "execution_count": 34,
   "id": "c9329ef4",
   "metadata": {},
   "outputs": [
    {
     "ename": "ModuleNotFoundError",
     "evalue": "No module named 'sql'",
     "output_type": "error",
     "traceback": [
      "\u001b[0;31m---------------------------------------------------------------------------\u001b[0m",
      "\u001b[0;31mModuleNotFoundError\u001b[0m                       Traceback (most recent call last)",
      "Input \u001b[0;32mIn [34]\u001b[0m, in \u001b[0;36m<cell line: 1>\u001b[0;34m()\u001b[0m\n\u001b[0;32m----> 1\u001b[0m \u001b[38;5;28;01mimport\u001b[39;00m \u001b[38;5;21;01msql\u001b[39;00m\u001b[38;5;21;01m.\u001b[39;00m\u001b[38;5;21;01mconfig\u001b[39;00m\n",
      "\u001b[0;31mModuleNotFoundError\u001b[0m: No module named 'sql'"
     ]
    }
   ],
   "source": [
    "import sql.config"
   ]
  }
 ],
 "metadata": {
  "kernelspec": {
   "display_name": "Python [conda env:dsc] *",
   "language": "python",
   "name": "conda-env-dsc-py"
  },
  "language_info": {
   "codemirror_mode": {
    "name": "ipython",
    "version": 3
   },
   "file_extension": ".py",
   "mimetype": "text/x-python",
   "name": "python",
   "nbconvert_exporter": "python",
   "pygments_lexer": "ipython3",
   "version": "3.10.6"
  },
  "toc": {
   "base_numbering": 1,
   "nav_menu": {},
   "number_sections": true,
   "sideBar": true,
   "skip_h1_title": false,
   "title_cell": "Table of Contents",
   "title_sidebar": "Contents",
   "toc_cell": false,
   "toc_position": {},
   "toc_section_display": true,
   "toc_window_display": false
  }
 },
 "nbformat": 4,
 "nbformat_minor": 5
}
