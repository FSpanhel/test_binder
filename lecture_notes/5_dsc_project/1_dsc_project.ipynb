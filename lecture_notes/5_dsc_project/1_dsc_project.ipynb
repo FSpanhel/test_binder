{
 "cells": [
  {
   "cell_type": "markdown",
   "id": "25ada77e",
   "metadata": {
    "slideshow": {
     "slide_type": "slide"
    }
   },
   "source": [
    "# The data science challenge project"
   ]
  },
  {
   "cell_type": "markdown",
   "id": "d22e3253",
   "metadata": {
    "slideshow": {
     "slide_type": "slide"
    }
   },
   "source": [
    "## Information about the GitLab project"
   ]
  },
  {
   "cell_type": "markdown",
   "id": "7de7124e",
   "metadata": {
    "slideshow": {
     "slide_type": "slide"
    }
   },
   "source": [
    "### Branches and permissons\n",
    "- Each student has a developer role.\n",
    "- I am the maintainer of the project repo.\n",
    "- Each project repo starts with the branches `main` and `submission` and the following permissions\n",
    "<br>\n",
    "<div>\n",
    "<img src=\"./figures/permission.png\" alt=\"Permissions\" width=700/>\n",
    "<div/>\n",
    "<br>\n",
    "\n",
    "- That is, you can only integrate changes on `main` and `submission` by creating a MR. \n",
    "    - You can perform the merge into `main`.\n",
    "    - Only I can perform the merge into `submission`."
   ]
  },
  {
   "cell_type": "markdown",
   "id": "554f608f",
   "metadata": {
    "slideshow": {
     "slide_type": "slide"
    }
   },
   "source": [
    "### The Git workflow\n",
    "[#TODO Needs update]\n",
    "- For data science projects which focus on analyses and experimentation, I think that the a simple feature branch workflow is adequate.\n",
    "- The Git workflow for your project is a simple feature branch workflow with an additional branch to which you submit your code for grading.\n",
    "\n",
    "    1. In general, you create a feature branch from the (up-to-date) branch `main`.\n",
    "    1. When a feature branch is completed, create a MR with the target being `main` and **assign @Fabian Spanhel as reviewer** (!).\n",
    "        1. If you don't assign me, I will not be notified and may not see this MR.\n",
    "        2. If have reviewed the MR I will add approve the MR.\n",
    "        3. You don't have to wait for my review before you merge. You can merge whenever you want. \n",
    "        4. I might give you feedback on the MR after it has been merged.\n",
    "            1. If a change is required, I will open an issue and you can consider the change in a different MR.\n",
    "        5. If you just want feedback to an MR which is work-in-progress, do not assign me as a reviewer but refer to @Fabian Spanhel in a comment\n",
    "    1. You close the MR by performing the merge into `main` and deleting the feature branch (enabled by default).\n",
    "    1. Whenever you feel ready, you can create a MR of `main` into `submission` to submit your work.\n",
    "        1. Note that only I can perform the merge.\n",
    "        1. You should create all MRs with the target beeing `submission` before Sunday, January 15th, 2023, see [COURSE.md](../../COURSE.md#submission) for details."
   ]
  },
  {
   "cell_type": "markdown",
   "id": "43162b37",
   "metadata": {
    "slideshow": {
     "slide_type": "slide"
    }
   },
   "source": [
    "### Merge requests\n",
    "- The project uses the a [merge commit with semi-linear history](https://gitlab.lrz.de/help/user/project/merge_requests/methods/index.md#merge-commit-with-semi-linear-history) as merge method.\n",
    "- Moreover, squashing of commits is not possible.\n",
    "- I recommend to create a branch and a MR via the corresponding issue because then the issue and MR are linked.\n",
    "    - As a result, the issue is directly close when the merge of the MR is performed.\n",
    "- If you first create a branch directly, you should use the terminal to (interactively) rebase your (local) branch on `main` and then push it to the remote before you create the MR. \n",
    "- In the MR, it may happen that you see the following note  \n",
    "\n",
    "<div align=\"left\">\n",
    "<img src=\"./figures/merge_blocked.png\" alt=\"Merge blocked\" width=700/>\n",
    "<div/>\n",
    "\n",
    "- You can then rebase the (remote) branch on `main` by clicking on `Rebase` or `Rebase without pipeline`.\n",
    "    - However, if there are any merge conflicts you have to rebase your (local) branch using the terminal.\n",
    "- Note that an explicit merge commit is always created even when a fast-forward merge is possible."
   ]
  },
  {
   "cell_type": "markdown",
   "id": "d858fb83",
   "metadata": {
    "slideshow": {
     "slide_type": "slide"
    }
   },
   "source": [
    "## Recommendations"
   ]
  },
  {
   "cell_type": "markdown",
   "id": "39968193",
   "metadata": {
    "slideshow": {
     "slide_type": "-"
    }
   },
   "source": [
    "### General\n",
    "- Make use of all the tools that we have discussed in this course.\n",
    "- Start with a very simple model and focus on getting results.\n",
    "- You can always iterate and improve later but it is important that the basic structure is in place.\n",
    "- Ask questions and discuss."
   ]
  },
  {
   "cell_type": "markdown",
   "id": "9e3a77a0",
   "metadata": {
    "slideshow": {
     "slide_type": "slide"
    }
   },
   "source": [
    "## Working with GitLab\n",
    "### Branches\n",
    "- First of all, create a milestone which can then be divided into several issues.\n",
    "- In general, create an issue for each significant feature. Then create the branch and the MR.\n",
    "    - You can shorten the name of the feature branch as long as it starts with the issue number.\n",
    "    - Use [kebab case](https://en.wikipedia.org/wiki/Letter_case#Kebab_case) for formatting branch names. \n",
    "- Ideally, one person should work on one branch.\n",
    "- Rather use short-lived branches which focus on one feature than developing several features on one branch.\n",
    "    - Reduces the likelihood of merge conflicts.\n",
    "    - I can give feedback more frequently. "
   ]
  },
  {
   "cell_type": "markdown",
   "id": "2113bb41",
   "metadata": {
    "slideshow": {
     "slide_type": "slide"
    }
   },
   "source": [
    "### Merge requests\n",
    "<!-- Use merge requests for significant changes instead of pushing directly to `main` so that code can be discussed during development and a code review is possible when the branch is finished.  -->\n",
    "- Use merge requests for discussion and code reviews.\n",
    "- **I only know what you are doing if you create an issue or a MR where I am mentioned/assigned**.\n",
    "- Besides me, let each merge request be approved from at least one person who was not involved in the development of the feature branch (the author of the MR cannot approve but people who have added commits can).\n",
    "- You can also refer to me in the MR description or in the comment if you want feedback during a merge request for `main`.\n",
    "- You can leave the MR description empty if it refers to an issue that explains everything. GitLab will automatically refer to this issue."
   ]
  },
  {
   "cell_type": "markdown",
   "id": "156328a2",
   "metadata": {
    "slideshow": {
     "slide_type": "slide"
    }
   },
   "source": [
    "[#TODO update link]\n",
    "- [This merge request](https://gitlab.lrz.de/fspanhel/dsc_gitlab_playground/-/merge_requests/1) illustrates how a merge request with a referenced issue should look like  \n",
    "\n",
    "<div>\n",
    "<img src=\"./figures/mr_form.png\" alt=\"MR\" width=900/>\n",
    "<div/>"
   ]
  },
  {
   "cell_type": "markdown",
   "id": "4978a383",
   "metadata": {
    "slideshow": {
     "slide_type": "slide"
    }
   },
   "source": [
    "- If you use a MR in your code review process, don't use git rebase after creating the MR unless you have discussed this with your colleagues.\n",
    "- As soon as you make the MR, other developers will be investigating your commits, which means that it’s a public branch. \n",
    "- Re-writing its history will make it impossible for Git and your teammates to track any follow-up commits\n",
    "- However, before you perform the merge of the MR, you could discuss whether you rebase the feature branch on the main branch to tidy up. At this point, a rebase is fine if no further commits are done on the feature branch."
   ]
  }
 ],
 "metadata": {
  "celltoolbar": "Slideshow",
  "jupytext": {
   "comment_magics": false
  },
  "kernelspec": {
   "display_name": "Python [conda env:dsc_dev] *",
   "language": "python",
   "name": "conda-env-dsc_dev-py"
  },
  "language_info": {
   "codemirror_mode": {
    "name": "ipython",
    "version": 3
   },
   "file_extension": ".py",
   "mimetype": "text/x-python",
   "name": "python",
   "nbconvert_exporter": "python",
   "pygments_lexer": "ipython3",
   "version": "3.10.12"
  },
  "toc": {
   "base_numbering": 1,
   "nav_menu": {},
   "number_sections": true,
   "sideBar": false,
   "skip_h1_title": false,
   "title_cell": "Table of Contents",
   "title_sidebar": "Contents",
   "toc_cell": false,
   "toc_position": {
    "height": "calc(100% - 180px)",
    "left": "0px",
    "top": "200px",
    "width": "360px"
   },
   "toc_section_display": true,
   "toc_window_display": true
  }
 },
 "nbformat": 4,
 "nbformat_minor": 5
}
