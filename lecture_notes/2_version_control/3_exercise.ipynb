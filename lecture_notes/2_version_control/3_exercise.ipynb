{
 "cells": [
  {
   "cell_type": "markdown",
   "id": "742d1974",
   "metadata": {
    "slideshow": {
     "slide_type": "slide"
    },
    "solution": "hidden"
   },
   "source": [
    "# Questions regarding the next topic (Python project setup)"
   ]
  },
  {
   "cell_type": "markdown",
   "id": "4ee93064",
   "metadata": {
    "slideshow": {
     "slide_type": "-"
    }
   },
   "source": [
    "Click [here](https://partici.fi/26194946), or scan the QR code below, to answer the questions about setting up your Python project.\n",
    "<div align=\"center\">\n",
    "<img src=\"./figures/p_2.png\" alt=\"drawing\" width=\"1200\"/>\n",
    "</div>\n",
    "\n",
    "<div align=\"left\">\n",
    "<div/>"
   ]
  },
  {
   "cell_type": "markdown",
   "id": "61a788fd",
   "metadata": {},
   "source": [
    "# Git\n",
    "- **Cd into your folder of the playground repo** that you have created in the issue with the title `[name]: First task`, where [name] is your full name, e.g., \"Fabian Spanhel\".\n",
    "- For some exercises you can run ```python3 -m dsc.version_control.exercise_git [<arg>]``` where arg can be first, second, or third, to set up the necessary commits in Git.\n",
    "    - Note that the `dsc` environment must be activated for these commands.\n",
    "    - You can activate the `dsc` environment using `mamba activate dsc`.\n",
    "- In these cases, you can try to run ```python3 -m dsc.version_control.exercise_git reset``` to undo these commits. If this doesn't work you have to undo the commits manually.\n",
    "- Don't be afraid to use ```git status``` frequently to see on which branch you are and what changes Git is tracking.\n",
    "- Before you start with one exercise, verify that your **working directory is clean**, i.e., you have no uncommitted changes.\n"
   ]
  },
  {
   "cell_type": "markdown",
   "id": "2a36da57",
   "metadata": {},
   "source": [
    "## Exercise\n",
    "- Create an issue in the [playground repo](https://gitlab.lrz.de/dsc/2023/playground) with the title \"[name]: Exercise 3.2.1\", where [name] is your full name, and create a corresponding branch and MR.\n",
    "- You can use \"Tackle Exercise 3.2.1\" as issue description.\n",
    "- Add the file `AUTHOR.md`.  to your folder that contains your name in the first line.\n",
    "- Rename this file into `AUTHORS.md` and add your HM email address after your name."
   ]
  },
  {
   "cell_type": "markdown",
   "id": "732e9cfd",
   "metadata": {
    "slideshow": {
     "slide_type": "slide"
    }
   },
   "source": [
    "## Exercise\n",
    "Run ```python3 -m dsc.version_control.exercise_git first``` or the following commands in the terminal:\n",
    "```bash\n",
    "git checkout -b _target && echo '123' > a.py && git add a.py && git commit -m 'Add a.py' &&\n",
    "git checkout main &&\n",
    "git checkout -b _source && echo '123' > b.py && git add b.py && git commit -m 'Add b.py'\n",
    "```\n",
    "Have a look at the commit history/log (using ```git log``` or GitGraph in VSCode).  \n",
    "\n",
    "1) Perform operations so that the commit history looks as follows (note that the order of the last two commits is arbitary here and might be reversed in your GitGraph):  \n",
    "![commit history](./figures/0_exercise.png)\n",
    "<br>\n",
    "2) Run ```python3 -m dsc.version_control.exercise_git reset``` or checkout to main and delete all branches manually."
   ]
  },
  {
   "cell_type": "markdown",
   "id": "8a19dbf2",
   "metadata": {
    "slideshow": {
     "slide_type": "slide"
    }
   },
   "source": [
    "## Exercise\n",
    "Run ```python3 -m dsc.version_control.exercise_git second``` or the following commands in the terminal:\n",
    "```bash\n",
    "git checkout -b _target && echo '123' > a.py && git add a.py && git commit -m 'Add a.py' &&\n",
    "git checkout main &&\n",
    "git checkout -b _source && echo '123' > b.py && git add b.py && git commit -m 'Add b.py'\n",
    "```\n",
    "Have a look at the commit history/log (using ```git log``` or GitGraph in VSCode). \n",
    "\n",
    "1) Perform operations so that the log looks as follows:  \n",
    "![commit history](./figures/1_exercise.png)\n",
    "<br>\n",
    "2) Run ```python3 -m dsc.version_control.exercise_git reset``` or checkout to main and delete all branches manually."
   ]
  },
  {
   "cell_type": "markdown",
   "id": "ca6f2db0",
   "metadata": {
    "slideshow": {
     "slide_type": "slide"
    }
   },
   "source": [
    "## Exercise\n",
    "1. Create two new branches called `_source` and `_target`. Checkout the branch `_source`.\n",
    "1. Add a `text.md` with the following commits:\n",
    "    - Add \"abc\" as first line and commit \"Add abc to the first line\".\n",
    "    - Add \"def\" as second line and commit \"Add def to the second line\".\n",
    "    - Add \"ghi\" as third line and commit \"Add ghi to the third line\".    \n",
    "    - Add \"jkl\" as fourth line and commit \"Add jkl to the fourth line\".\n",
    "    \n",
    "   Alternatively, you can run ```python3 -m dsc.version_control.exercise_git third``` to execute the commits but I recommend to do the commits manually at least once. \n",
    "1. Do the following changes\n",
    "    1. Combine the first and second commit and adjust the commit message accordingly to \"Add abc to the first line and def to the second line\".   \n",
    "    1. Add \"jkl\" and not \"ghi\" as third line in the third commit.  \n",
    "    1. Drop the fourth commit.\n",
    "1. Merge `_source` into `_target` and delete `_source`.\n",
    "1. Checkout to `main` and delete `_target`."
   ]
  },
  {
   "cell_type": "markdown",
   "id": "909337d1",
   "metadata": {
    "slideshow": {
     "slide_type": "slide"
    }
   },
   "source": [
    "## Exercise\n",
    "1. Create a new branch named by your name. \n",
    "1. Commit a text file name `animal.md` that contains the name of your favorite animal.\n",
    "1. Undo the previous commit using an interactive rebase so that `animal.md` contains your second favorite animal.\n",
    "1. Push `animal.md` to a remote with the same name.\n",
    "1. Assuming that the remote might be investigate by somebody else, undo the previous commit on the remote so that `animal.md` contains your favorite animal again.\n",
    "1. Checkout to main and delete the local and remote branch named by your name."
   ]
  },
  {
   "cell_type": "markdown",
   "id": "3d5a1016",
   "metadata": {
    "slideshow": {
     "slide_type": "slide"
    }
   },
   "source": [
    "# Versioning Jupyter notebooks\n",
    "1. Checkout the (new) branch `_jupytext`. \n",
    "1. Copy this notebook to the root of your local playground repo and commit it to the (local) `_jupytext` branch.\n",
    "1. Create a .py script (with the same name) of this notebook .ipynb file using Jupytext.\n",
    "1. Commit the the .py script to Git.\n",
    "1. Execute the following code cell and save the notebook.\n",
    "1. Run git status. Does it make sense to commit the change?\n",
    "1. Delete the following code cell below.\n",
    "1. Convert the modified notebook .ipynb file again to a .py script (with the same name) using Jupytext.\n",
    "1. What does ```git status``` tell you? What changes should you commit?\n",
    "1. Delete the branch `_jupytext` and checkout to `main`."
   ]
  },
  {
   "cell_type": "markdown",
   "id": "2c0a0124",
   "metadata": {
    "slideshow": {
     "slide_type": "slide"
    }
   },
   "source": [
    "# DVC\n",
    "1. Create a new branch `_dvc_exercise`.\n",
    "1. Using the broadcast table of `data/dsc.db`, put all distinct movie titles that were broadcasted in 2018 into `movies_2018.csv` which you save in `data/`.\n",
    "1. Track movies_2018.csv with DVC and Git.\n",
    "1. Push movies_2018.csv to your Gdrive account. \n",
    "1. Overwrite movies_2018.csv with all distinct movie titles from the broadcast table of data/dsc.db that were broadcasted in 2018 and 2019.\n",
    "1. Rename movies_2018.csv to movies_2018_2019.csv.\n",
    "1. Push movies_2018_2019.csv to your Gdrive account.\n",
    "1. Locate movies_2018.csv and movies_2018_2019.csv on your Gdrive account.\n",
    "1. Roll back to step 4.\n",
    "1. Checkout to main and tidy up."
   ]
  }
 ],
 "metadata": {
  "celltoolbar": "Tags",
  "jupytext": {
   "comment_magics": false
  },
  "kernelspec": {
   "display_name": "Python [conda env:dsc] *",
   "language": "python",
   "name": "conda-env-dsc-py"
  },
  "language_info": {
   "codemirror_mode": {
    "name": "ipython",
    "version": 3
   },
   "file_extension": ".py",
   "mimetype": "text/x-python",
   "name": "python",
   "nbconvert_exporter": "python",
   "pygments_lexer": "ipython3",
   "version": "3.11.4"
  },
  "rise": {
   "footer": "<h3>Dr. Fabian Spanhel</h3>",
   "header": "<h3>DSC: 2.3 EXERCISE</h3>"
  },
  "toc": {
   "base_numbering": 1,
   "nav_menu": {},
   "number_sections": true,
   "sideBar": false,
   "skip_h1_title": false,
   "title_cell": "Table of Contents",
   "title_sidebar": "Contents",
   "toc_cell": false,
   "toc_position": {
    "height": "calc(100% - 180px)",
    "left": "0px",
    "top": "200px",
    "width": "360px"
   },
   "toc_section_display": true,
   "toc_window_display": true
  }
 },
 "nbformat": 4,
 "nbformat_minor": 5
}
