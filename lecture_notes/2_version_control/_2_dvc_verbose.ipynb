{
 "cells": [
  {
   "cell_type": "code",
   "execution_count": 1,
   "id": "a7b94827",
   "metadata": {
    "slideshow": {
     "slide_type": "skip"
    }
   },
   "outputs": [],
   "source": [
    "from dsc.notebook import embed_website"
   ]
  },
  {
   "cell_type": "markdown",
   "id": "56fc0365",
   "metadata": {
    "slideshow": {
     "slide_type": "slide"
    }
   },
   "source": [
    "# What is DVC?\n",
    "<br>\n",
    "<div align=\"left\">\n",
    "<img src=\"./figures/3_what_is_dvc.png\" alt=\"What is DVC\" width=800/>\n",
    "<div/>"
   ]
  },
  {
   "cell_type": "markdown",
   "id": "09c1ebca",
   "metadata": {
    "slideshow": {
     "slide_type": "slide"
    }
   },
   "source": [
    "- DVC extends Git to use it for data science. \n",
    "- A [popular and established](https://hn.algolia.com/?q=dvc) tool for data versioning although there are alternatives.\n",
    "- Its commits are pointers to data sets.\n",
    "    - The actual data is added to .gitignore and thus not commited to Git but to a storage location.\n",
    "    - For file that is put into a storage location, DVC creates .dvc files wich are pointers to the data that are tracked by Git.\n",
    "- Storage is not GitHub or GitLab but can be local or a remote storage like S3 oder Google drive\n"
   ]
  },
  {
   "cell_type": "markdown",
   "id": "d1be856f",
   "metadata": {
    "slideshow": {
     "slide_type": "slide"
    }
   },
   "source": [
    "<br>\n",
    "<div align=\"left\">\n",
    "<figcaption>DVC Overview (Source: DVC) </figcaption>\n",
    "<img src=\"./figures/4_dvc_overview.png\" alt=\"DVC Overview\" width=800/>\n",
    "<div/>"
   ]
  },
  {
   "cell_type": "markdown",
   "id": "3259eb84",
   "metadata": {
    "slideshow": {
     "slide_type": "slide"
    }
   },
   "source": [
    "**Differences to Git**\n",
    "- DVC is technically **not a version control system** \n",
    "    - DVC creates .dvc files\n",
    "    - .dvc file contents determine data versions\n",
    "    - .dvc files are versioned by Git\n",
    "    - DVC checkouts working copies of data \n",
    "- **Merging or comparing changes of data not possible**, but merging/comparing changes of .dvc files possible\n",
    "- The command **dvc add also commits** (in the sense of DVC), so dvc commit is not required\n",
    "- The command **dvc pull does a fetch and a checkout** but not a merge"
   ]
  },
  {
   "cell_type": "markdown",
   "id": "c609e121",
   "metadata": {
    "slideshow": {
     "slide_type": "slide"
    }
   },
   "source": [
    "## Installation & resources\n",
    "[Installation](https://dvc.org/doc/install) -> **Please install DVC now!**\n",
    "\n",
    "**Resources**\n",
    "- [Official docs](https://dvc.org/doc/start) (pretty amazing!)\n",
    "- [Short video that motivates DVC](https://www.youtube.com/watch?v=UbL7VUpv1Bs)\n",
    "- [Official video introduction to DVC for data versioning](https://www.youtube.com/watch?v=kLKBcPonMYw) \n",
    "- [Plugin for VSCode](https://marketplace.visualstudio.com/items?itemName=Iterative.dvc)\n",
    "- Also interesting...\n",
    "    - https://dvcfan.com/2021/04/14/some-hard-truths-about-dvc/\n",
    "    - https://www.youtube.com/watch?v=VttqJE-Vcjg"
   ]
  },
  {
   "cell_type": "markdown",
   "id": "07f54193",
   "metadata": {
    "slideshow": {
     "slide_type": "slide"
    }
   },
   "source": [
    "## Important commands\n",
    "- [init](https://dvc.org/doc/command-reference/init): init dvc, should be run in git repo root\n",
    "- [add](https://dvc.org/doc/command-reference/add): in contrast to Git, this also commits\n",
    "- [status](https://dvc.org/doc/command-reference/status): show file differences either between the cache and workspace, or between the cache and remote storage.\n",
    "- [move](https://dvc.org/doc/command-reference/move): files that are tracked by DVC should be renamed using this command\n",
    "- [checkout](https://dvc.org/doc/command-reference/checkout): update DVC-tracked files in the workspace based on current .dvc files.\n",
    "- [fetch](https://dvc.org/doc/command-reference/fetch): download files from remote storage to the cache based on .dvc files\n",
    "- [pull](https://dvc.org/doc/command-reference/pull): fetches files and makes them visible in the workspace\n",
    "- [push](https://dvc.org/doc/command-reference/push): upload tracked files to remote storage based on .dvc files.\n",
    "- [destroy](https://dvc.org/doc/command-reference/destroy): remove all DVC files and internals from a Git repo."
   ]
  },
  {
   "cell_type": "markdown",
   "id": "bc183486",
   "metadata": {
    "slideshow": {
     "slide_type": "slide"
    }
   },
   "source": [
    "# Preparation in order to run this notebook: TODO"
   ]
  },
  {
   "cell_type": "markdown",
   "id": "99969793",
   "metadata": {
    "slideshow": {
     "slide_type": "-"
    }
   },
   "source": [
    "TODO\n",
    "- Since the data that is `tracked' by DVC is put to .gitignore, we do not checkout a new branch for illustration, it is best to illustrate DVC in an isolated directory so that we can easily remove the created data.\n",
    "- Let's move to the level of the dvc directory, create a new directory named dvc_lecture_tmp, cd into it and init git."
   ]
  },
  {
   "cell_type": "code",
   "execution_count": 3,
   "id": "1e5979eb",
   "metadata": {
    "slideshow": {
     "slide_type": "-"
    }
   },
   "outputs": [],
   "source": [
    "# dvc_dir = \"../../..\""
   ]
  },
  {
   "cell_type": "code",
   "execution_count": 4,
   "id": "d106d3a1",
   "metadata": {
    "slideshow": {
     "slide_type": "-"
    }
   },
   "outputs": [],
   "source": [
    "if False:\n",
    "    import os\n",
    "    os.chdir(dvc_dir)\n",
    "    os.getcwd()"
   ]
  },
  {
   "cell_type": "code",
   "execution_count": 5,
   "id": "9f64c63d",
   "metadata": {
    "slideshow": {
     "slide_type": "-"
    }
   },
   "outputs": [],
   "source": [
    "# !mkdir dvc_lecture_tmp"
   ]
  },
  {
   "cell_type": "code",
   "execution_count": 6,
   "id": "673b5a8f",
   "metadata": {
    "slideshow": {
     "slide_type": "-"
    }
   },
   "outputs": [],
   "source": [
    "if False:\n",
    "    os.chdir(\"./dvc_lecture_tmp\")\n",
    "    os.getcwd()"
   ]
  },
  {
   "cell_type": "code",
   "execution_count": 7,
   "id": "e59de02d",
   "metadata": {
    "slideshow": {
     "slide_type": "-"
    }
   },
   "outputs": [
    {
     "name": "stdout",
     "output_type": "stream",
     "text": [
      "M\tlecture_notes/1_version_control/2_dvc.ipynb\r\n",
      "M\tlecture_notes/1_version_control/notebook_as_py/2_dvc.py\r\n",
      "Switched to a new branch '_dvc_illustration'\r\n"
     ]
    }
   ],
   "source": [
    "!git checkout -b _dvc_illustration"
   ]
  },
  {
   "cell_type": "markdown",
   "id": "a63c87d0",
   "metadata": {
    "hide_input": true,
    "slideshow": {
     "slide_type": "-"
    }
   },
   "source": [
    "Let's also create some dummy data that should be tracked by DVC later on."
   ]
  },
  {
   "cell_type": "code",
   "execution_count": 8,
   "id": "adcf2380",
   "metadata": {
    "slideshow": {
     "slide_type": "-"
    }
   },
   "outputs": [],
   "source": [
    "!echo \"This is a really big data set\" > big_data.txt"
   ]
  },
  {
   "cell_type": "markdown",
   "id": "28969c6e",
   "metadata": {
    "slideshow": {
     "slide_type": "slide"
    }
   },
   "source": [
    "# Initialization: dvc init"
   ]
  },
  {
   "cell_type": "markdown",
   "id": "f0b98393",
   "metadata": {
    "slideshow": {
     "slide_type": "-"
    }
   },
   "source": [
    "Let's initialize the DVC repository from the Git repository root."
   ]
  },
  {
   "cell_type": "code",
   "execution_count": 11,
   "id": "71d1e25c",
   "metadata": {},
   "outputs": [],
   "source": [
    "import os\n",
    "os.getcwd()\n",
    "os.chdir(\"../..\")"
   ]
  },
  {
   "cell_type": "code",
   "execution_count": 12,
   "id": "bccedb76",
   "metadata": {
    "slideshow": {
     "slide_type": "-"
    }
   },
   "outputs": [
    {
     "name": "stdout",
     "output_type": "stream",
     "text": [
      "\u001b[31mERROR\u001b[39m: failed to initiate DVC - '.dvc' exists. Use `-f` to force.\r\n",
      "\u001b[0m"
     ]
    }
   ],
   "source": [
    "!dvc init"
   ]
  },
  {
   "cell_type": "markdown",
   "id": "5a8b8311",
   "metadata": {
    "slideshow": {
     "slide_type": "-"
    }
   },
   "source": [
    "The previous command creates the file .dvcignore and the directory .dvc that are also put in the staging area of Git.\n",
    "\n",
    "You have to commit them to Git so that DVC is read to use."
   ]
  },
  {
   "cell_type": "code",
   "execution_count": 27,
   "id": "3d4cbbd0",
   "metadata": {
    "slideshow": {
     "slide_type": "-"
    }
   },
   "outputs": [
    {
     "name": "stdout",
     "output_type": "stream",
     "text": [
      "On branch dvc\r\n",
      "Changes to be committed:\r\n",
      "  (use \"git reset HEAD <file>...\" to unstage)\r\n",
      "\r\n",
      "\t\u001b[32mnew file:   .dvc/.gitignore\u001b[m\r\n",
      "\t\u001b[32mnew file:   .dvc/config\u001b[m\r\n",
      "\t\u001b[32mnew file:   .dvcignore\u001b[m\r\n",
      "\r\n",
      "Untracked files:\r\n",
      "  (use \"git add <file>...\" to include in what will be committed)\r\n",
      "\r\n",
      "\t\u001b[31mbig_data.txt\u001b[m\r\n",
      "\r\n"
     ]
    }
   ],
   "source": [
    "!git status"
   ]
  },
  {
   "cell_type": "code",
   "execution_count": 28,
   "id": "86452b7c",
   "metadata": {
    "scrolled": true,
    "slideshow": {
     "slide_type": "-"
    }
   },
   "outputs": [
    {
     "name": "stdout",
     "output_type": "stream",
     "text": [
      "[dvc a4809f8] Init dvc\r\n",
      " 3 files changed, 6 insertions(+)\r\n",
      " create mode 100644 .dvc/.gitignore\r\n",
      " create mode 100644 .dvc/config\r\n",
      " create mode 100644 .dvcignore\r\n"
     ]
    }
   ],
   "source": [
    "!git commit -m \"Init dvc\""
   ]
  },
  {
   "cell_type": "markdown",
   "id": "55563f2e",
   "metadata": {
    "slideshow": {
     "slide_type": "slide"
    }
   },
   "source": [
    "# Local usage"
   ]
  },
  {
   "cell_type": "markdown",
   "id": "f4811432",
   "metadata": {
    "slideshow": {
     "slide_type": "-"
    }
   },
   "source": [
    "## Start tracking: dvc add\n",
    "- Files that are already tracked by Git can not be tracked by DVC (and will raise an error).\n",
    "- To track files with DVC use dvc add."
   ]
  },
  {
   "cell_type": "code",
   "execution_count": 29,
   "id": "5e87383b",
   "metadata": {
    "slideshow": {
     "slide_type": "-"
    }
   },
   "outputs": [
    {
     "name": "stdout",
     "output_type": "stream",
     "text": [
      "\u001b[2K\u001b[32m⠋\u001b[0m Checking graph                                                   \u001b[32m⠋\u001b[0m Checking graph\n",
      "Adding...                                                                       \n",
      "!\u001b[A\n",
      "  0% Checking cache in '/home/spa0001f/github/teach/dvc_lecture_tmp/.dvc/cache'|\u001b[A\n",
      "                                                                                \u001b[A\n",
      "!\u001b[A\n",
      "  0%|          |Transferring                          0/1 [00:00<?,     ?file/s]\u001b[A\n",
      "                                                                                \u001b[A\n",
      "!\u001b[A\n",
      "  0%|          |04fddcd2be2fb72fa1900327927423     0.00/? [00:00<?,        ?B/s]\u001b[A\n",
      "  0%|          |04fddcd2be2fb72fa1900327927423  0.00/30.0 [00:00<?,        ?B/s]\u001b[A\n",
      "100% Adding...|████████████████████████████████████████|1/1 [00:00,  8.90file/s]\u001b[A\n",
      "\n",
      "To track the changes with git, run:\n",
      "\n",
      "\tgit add big_data.txt.dvc .gitignore\n",
      "\n",
      "To enable auto staging, run:\n",
      "\n",
      "\tdvc config core.autostage true\n",
      "\u001b[0m"
     ]
    }
   ],
   "source": [
    "!dvc add big_data.txt"
   ]
  },
  {
   "cell_type": "markdown",
   "id": "8a63a9a0",
   "metadata": {
    "slideshow": {
     "slide_type": "slide"
    }
   },
   "source": [
    "- DVC stores information about the added file in a .dvc file \n",
    "named big_data.txt.dvc.\n",
    "- This metadata file is human-readable and a placeholder for the original data.\n",
    "- Like source code it can be easily versioned  with Git. \n",
    "- **Do not modify .dvc files**, otherwise DVC gets confused/breaks!\n",
    "- **If you want to move data** that is tracked by DVC use dvc move so that the corresponding .dvc file is also updated!"
   ]
  },
  {
   "cell_type": "code",
   "execution_count": 30,
   "id": "c0da4e30",
   "metadata": {
    "slideshow": {
     "slide_type": "-"
    }
   },
   "outputs": [
    {
     "name": "stdout",
     "output_type": "stream",
     "text": [
      "outs:\r\n",
      "- md5: b404fddcd2be2fb72fa1900327927423\r\n",
      "  size: 30\r\n",
      "  path: big_data.txt\r\n"
     ]
    }
   ],
   "source": [
    "!cat big_data.txt.dvc"
   ]
  },
  {
   "cell_type": "markdown",
   "id": "8d017301",
   "metadata": {
    "slideshow": {
     "slide_type": "-"
    }
   },
   "source": [
    "The data, meanwhile, is listed in .gitignore."
   ]
  },
  {
   "cell_type": "code",
   "execution_count": 31,
   "id": "648da6bb",
   "metadata": {
    "slideshow": {
     "slide_type": "-"
    }
   },
   "outputs": [
    {
     "name": "stdout",
     "output_type": "stream",
     "text": [
      "/big_data.txt\r\n"
     ]
    }
   ],
   "source": [
    "!cat .gitignore"
   ]
  },
  {
   "cell_type": "markdown",
   "id": "f3cb6703",
   "metadata": {
    "slideshow": {
     "slide_type": "slide"
    }
   },
   "source": [
    "### The cache\n",
    "- Moreover, the data is committed (!) in the sense that the current \n",
    "state of files and directories tracked by DVC are moved to the cache.\n",
    "\n",
    "- Use the --no-commit option to avoid this, and dvc commit to store the data in the cache.\n",
    "\n",
    "- The cache consists of directories\n",
    "    - The first two entries of the md5 hash of a corresponding .dvc file is the name of a directory\n",
    "    - The following entries of the md5 hash constitue the name of the files in such a directory "
   ]
  },
  {
   "cell_type": "code",
   "execution_count": 34,
   "id": "d33c19eb",
   "metadata": {
    "slideshow": {
     "slide_type": "-"
    }
   },
   "outputs": [
    {
     "name": "stdout",
     "output_type": "stream",
     "text": [
      "\u001b[01;34m./.dvc/cache/\u001b[00m\r\n",
      "└── \u001b[01;34mb4\u001b[00m\r\n",
      "    └── 04fddcd2be2fb72fa1900327927423\r\n",
      "\r\n",
      "1 directory, 1 file\r\n"
     ]
    }
   ],
   "source": [
    "!tree ./.dvc/cache/"
   ]
  },
  {
   "cell_type": "markdown",
   "id": "f75601b1",
   "metadata": {
    "slideshow": {
     "slide_type": "fragment"
    }
   },
   "source": [
    "- Each file in the cache is a copy of the original data and DVC tries to replace the original data with a link to this copy."
   ]
  },
  {
   "cell_type": "code",
   "execution_count": 35,
   "id": "055be11e",
   "metadata": {
    "slideshow": {
     "slide_type": "-"
    }
   },
   "outputs": [
    {
     "name": "stdout",
     "output_type": "stream",
     "text": [
      "this is a really big data set\r\n"
     ]
    }
   ],
   "source": [
    "!cat ./.dvc/cache/*/*"
   ]
  },
  {
   "cell_type": "markdown",
   "id": "577899b2",
   "metadata": {
    "slideshow": {
     "slide_type": "slide"
    }
   },
   "source": [
    "To version big_data.txt with Git, we add and commit the corresponding .dvc file and \n",
    "put the underlying data to Git's ignore list."
   ]
  },
  {
   "cell_type": "code",
   "execution_count": 36,
   "id": "2ec77942",
   "metadata": {},
   "outputs": [
    {
     "name": "stdout",
     "output_type": "stream",
     "text": [
      "On branch dvc\r\n",
      "Untracked files:\r\n",
      "  (use \"git add <file>...\" to include in what will be committed)\r\n",
      "\r\n",
      "\t\u001b[31m.gitignore\u001b[m\r\n",
      "\t\u001b[31mbig_data.txt.dvc\u001b[m\r\n",
      "\r\n",
      "nothing added to commit but untracked files present (use \"git add\" to track)\r\n"
     ]
    }
   ],
   "source": [
    "!git status"
   ]
  },
  {
   "cell_type": "code",
   "execution_count": 37,
   "id": "535eda0c",
   "metadata": {
    "slideshow": {
     "slide_type": "-"
    }
   },
   "outputs": [
    {
     "name": "stdout",
     "output_type": "stream",
     "text": [
      "[dvc e1d90a8] Add big_data.txt.dvc\r\n",
      " 2 files changed, 5 insertions(+)\r\n",
      " create mode 100644 .gitignore\r\n",
      " create mode 100644 big_data.txt.dvc\r\n"
     ]
    }
   ],
   "source": [
    "!git add big_data.txt.dvc .gitignore && git commit -m \"Add big_data.txt.dvc\"  # I prefer to add big_data.txt.dvc and not big_data.txt so that it is clear that DVC is involved"
   ]
  },
  {
   "cell_type": "markdown",
   "id": "a55f6faa",
   "metadata": {
    "slideshow": {
     "slide_type": "slide"
    }
   },
   "source": [
    "## View status: dvc (data) status"
   ]
  },
  {
   "cell_type": "markdown",
   "id": "bebc581f",
   "metadata": {
    "slideshow": {
     "slide_type": "-"
    }
   },
   "source": [
    "We will add a new text file named git_change.txt and add data to big_data.txt."
   ]
  },
  {
   "cell_type": "code",
   "execution_count": 38,
   "id": "99de6b9e",
   "metadata": {
    "slideshow": {
     "slide_type": "-"
    }
   },
   "outputs": [],
   "source": [
    "!echo \"This file should be versioned by Git\" >> git_change.txt"
   ]
  },
  {
   "cell_type": "code",
   "execution_count": 39,
   "id": "024cd410",
   "metadata": {
    "slideshow": {
     "slide_type": "-"
    }
   },
   "outputs": [],
   "source": [
    "!echo \"It gets even bigger!\" >> big_data.txt"
   ]
  },
  {
   "cell_type": "markdown",
   "id": "2e9aa342",
   "metadata": {
    "slideshow": {
     "slide_type": "slide"
    }
   },
   "source": [
    "Using git status we see that the change in big_data.txt is not visible because dvc has put it on .gitignore after we used dvc add big_data.txt.\n",
    "\n",
    "Only the creation of git_change.txt is visible."
   ]
  },
  {
   "cell_type": "code",
   "execution_count": 40,
   "id": "3c2bdadd",
   "metadata": {
    "slideshow": {
     "slide_type": "-"
    }
   },
   "outputs": [
    {
     "name": "stdout",
     "output_type": "stream",
     "text": [
      "On branch dvc\r\n",
      "Untracked files:\r\n",
      "  (use \"git add <file>...\" to include in what will be committed)\r\n",
      "\r\n",
      "\t\u001b[31mgit_change.txt\u001b[m\r\n",
      "\r\n",
      "nothing added to commit but untracked files present (use \"git add\" to track)\r\n"
     ]
    }
   ],
   "source": [
    "!git status"
   ]
  },
  {
   "cell_type": "markdown",
   "id": "9f5d4ac4",
   "metadata": {
    "slideshow": {
     "slide_type": "slide"
    }
   },
   "source": [
    "- There is no direct equivalent of git status in dvc.\n",
    "- But we can use **dvc data status** to show changes in the data tracked by DVC in the workspace.\n",
    "- Moreover, **dvc data** shows file mismatches either between the cache and workspace, or between the cache and remote storage.\n",
    "- As with Git it's a good practice to check the state of your DVC repository before doing something like dvc commit.\n"
   ]
  },
  {
   "cell_type": "code",
   "execution_count": 41,
   "id": "e2363cf6",
   "metadata": {
    "slideshow": {
     "slide_type": "-"
    }
   },
   "outputs": [
    {
     "name": "stdout",
     "output_type": "stream",
     "text": [
      "\u001b[?25l\u001b[32m⠋\u001b[0m Calculating diff for big_data.txt between index/workspace\n",
      "\u001b[1A\u001b[2K\u001b[?25l\u001b[32m⠋\u001b[0m Calculating diff for big_data.txt between head/index\n",
      "\u001b[1A\u001b[2KDVC uncommitted changes:\n",
      "  (use \"dvc commit <file>...\" to track changes)\n",
      "  (use \"dvc checkout <file>...\" to discard changes)\n",
      "\u001b[33m        modified: big_data.txt\u001b[0m\n",
      "\u001b[0m"
     ]
    }
   ],
   "source": [
    "!dvc data status  # files which are untracked by dvc and git can be shown by using the option --untracked-files)"
   ]
  },
  {
   "cell_type": "code",
   "execution_count": 42,
   "id": "6ec0b777",
   "metadata": {
    "slideshow": {
     "slide_type": "-"
    }
   },
   "outputs": [
    {
     "name": "stdout",
     "output_type": "stream",
     "text": [
      "big_data.txt.dvc:                                                     core\u001b[39m>\n",
      "\tchanged outs:\n",
      "\t\tmodified:           big_data.txt\n",
      "\u001b[0m"
     ]
    }
   ],
   "source": [
    "!dvc status  # compares files between the cache (local copy of the remote, files that are tracked) and workspace"
   ]
  },
  {
   "cell_type": "markdown",
   "id": "abd91f22",
   "metadata": {
    "slideshow": {
     "slide_type": "-"
    }
   },
   "source": [
    "You can also use dvc diff."
   ]
  },
  {
   "cell_type": "code",
   "execution_count": 43,
   "id": "1d9483f3",
   "metadata": {
    "slideshow": {
     "slide_type": "-"
    }
   },
   "outputs": [
    {
     "name": "stdout",
     "output_type": "stream",
     "text": [
      "\u001b[33mModified\u001b[0m:                                                    core\u001b[39m>\n",
      "    big_data.txt\n",
      "\n",
      "files summary: 1 modified\n",
      "\u001b[0m"
     ]
    }
   ],
   "source": [
    "!dvc diff"
   ]
  },
  {
   "cell_type": "markdown",
   "id": "3ca28f05",
   "metadata": {
    "slideshow": {
     "slide_type": "slide"
    }
   },
   "source": [
    "## Committing: dvc add"
   ]
  },
  {
   "cell_type": "markdown",
   "id": "ac56e7ad",
   "metadata": {
    "slideshow": {
     "slide_type": "-"
    }
   },
   "source": [
    "- We can now commit the changes to DVC using add (or dvc commit)\n",
    "- Note that dvc add also commits the data."
   ]
  },
  {
   "cell_type": "code",
   "execution_count": 44,
   "id": "452ef2a5",
   "metadata": {
    "slideshow": {
     "slide_type": "-"
    }
   },
   "outputs": [
    {
     "name": "stdout",
     "output_type": "stream",
     "text": [
      "\u001b[2K\u001b[32m⠋\u001b[0m Checking graph                                                   \u001b[32m⠋\u001b[0m Checking graph\n",
      "Adding...                                                                       \n",
      "!\u001b[A\n",
      "  0% Checking cache in '/home/spa0001f/github/teach/dvc_lecture_tmp/.dvc/cache'|\u001b[A\n",
      "                                                                                \u001b[A\n",
      "!\u001b[A\n",
      "  0%|          |Transferring                          0/1 [00:00<?,     ?file/s]\u001b[A\n",
      "                                                                                \u001b[A\n",
      "!\u001b[A\n",
      "  0%|          |37ff23a79b8ba94a069445cd1de711     0.00/? [00:00<?,        ?B/s]\u001b[A\n",
      "  0%|          |37ff23a79b8ba94a069445cd1de711  0.00/51.0 [00:00<?,        ?B/s]\u001b[A\n",
      "100% Adding...|████████████████████████████████████████|1/1 [00:00, 10.69file/s]\u001b[A\n",
      "\n",
      "To track the changes with git, run:\n",
      "\n",
      "\tgit add big_data.txt.dvc\n",
      "\n",
      "To enable auto staging, run:\n",
      "\n",
      "\tdvc config core.autostage true\n",
      "\u001b[0m"
     ]
    }
   ],
   "source": [
    "!dvc add big_data.txt"
   ]
  },
  {
   "cell_type": "code",
   "execution_count": 45,
   "id": "074c9807",
   "metadata": {
    "slideshow": {
     "slide_type": "-"
    }
   },
   "outputs": [
    {
     "name": "stdout",
     "output_type": "stream",
     "text": [
      "\u001b[?25l\u001b[32m⠋\u001b[0m Calculating diff for big_data.txt between index/workspace\n",
      "\u001b[1A\u001b[2K\u001b[?25l\u001b[32m⠋\u001b[0m Calculating diff for big_data.txt between head/index\n",
      "\u001b[1A\u001b[2KDVC committed changes:\n",
      "  (git commit the corresponding dvc files to update the repo)\n",
      "\u001b[32m        modified: big_data.txt\u001b[0m\n",
      "\u001b[1;34m(\u001b[0m\u001b[34mthere are other changes not tracked by dvc, use \u001b[0m\u001b[34m\"git status\"\u001b[0m\u001b[34m to see\u001b[0m\u001b[1;34m)\u001b[0m\n",
      "\u001b[0m"
     ]
    }
   ],
   "source": [
    "!dvc data status"
   ]
  },
  {
   "cell_type": "markdown",
   "id": "1c3a59b5",
   "metadata": {
    "slideshow": {
     "slide_type": "-"
    }
   },
   "source": [
    "Executing dvc add also changes the correspond .dvc file which should be committed to git."
   ]
  },
  {
   "cell_type": "code",
   "execution_count": 46,
   "id": "554dac81",
   "metadata": {
    "slideshow": {
     "slide_type": "-"
    }
   },
   "outputs": [
    {
     "name": "stdout",
     "output_type": "stream",
     "text": [
      "On branch dvc\r\n",
      "Changes not staged for commit:\r\n",
      "  (use \"git add <file>...\" to update what will be committed)\r\n",
      "  (use \"git checkout -- <file>...\" to discard changes in working directory)\r\n",
      "\r\n",
      "\t\u001b[31mmodified:   big_data.txt.dvc\u001b[m\r\n",
      "\r\n",
      "Untracked files:\r\n",
      "  (use \"git add <file>...\" to include in what will be committed)\r\n",
      "\r\n",
      "\t\u001b[31mgit_change.txt\u001b[m\r\n",
      "\r\n",
      "no changes added to commit (use \"git add\" and/or \"git commit -a\")\r\n"
     ]
    }
   ],
   "source": [
    "!git status"
   ]
  },
  {
   "cell_type": "code",
   "execution_count": 47,
   "id": "aa9050bf",
   "metadata": {
    "slideshow": {
     "slide_type": "-"
    }
   },
   "outputs": [
    {
     "name": "stdout",
     "output_type": "stream",
     "text": [
      "[dvc 7ddc191] Update big_data.txt.dvc\r\n",
      " 1 file changed, 2 insertions(+), 2 deletions(-)\r\n"
     ]
    }
   ],
   "source": [
    "!git add \"big_data.txt.dvc\" && git commit -m \"Update big_data.txt.dvc\""
   ]
  },
  {
   "cell_type": "markdown",
   "id": "6c793ab2",
   "metadata": {
    "slideshow": {
     "slide_type": "slide"
    }
   },
   "source": [
    "## Renaming files: dvc move"
   ]
  },
  {
   "cell_type": "markdown",
   "id": "f341214d",
   "metadata": {
    "slideshow": {
     "slide_type": "-"
    }
   },
   "source": [
    "If you want to rename data use dvc move.\n",
    "\n",
    "This deletes big_data.txt and the corresponding .dvc file and replaces them by massive_data.txt and a corresponding .dvc file."
   ]
  },
  {
   "cell_type": "code",
   "execution_count": 48,
   "id": "17060dfb",
   "metadata": {
    "slideshow": {
     "slide_type": "-"
    }
   },
   "outputs": [
    {
     "name": "stdout",
     "output_type": "stream",
     "text": [
      "                                                                                \n",
      "To track the changes with git, run:\n",
      "\n",
      "\tgit add massive_data.txt.dvc .gitignore\n",
      "\n",
      "To enable auto staging, run:\n",
      "\n",
      "\tdvc config core.autostage true\n",
      "\u001b[0m"
     ]
    }
   ],
   "source": [
    "!dvc move big_data.txt massive_data.txt"
   ]
  },
  {
   "cell_type": "code",
   "execution_count": 49,
   "id": "4a87ac56",
   "metadata": {
    "slideshow": {
     "slide_type": "-"
    }
   },
   "outputs": [
    {
     "name": "stdout",
     "output_type": "stream",
     "text": [
      "outs:\r\n",
      "- md5: e737ff23a79b8ba94a069445cd1de711\r\n",
      "  size: 51\r\n",
      "  path: massive_data.txt\r\n"
     ]
    }
   ],
   "source": [
    "!cat massive_data.txt.dvc"
   ]
  },
  {
   "cell_type": "markdown",
   "id": "ea1655e5",
   "metadata": {
    "slideshow": {
     "slide_type": "slide"
    }
   },
   "source": [
    "Having a look at the dvc data status shows that dvc move has also added and committed the changes to DVC (but not to Git)."
   ]
  },
  {
   "cell_type": "code",
   "execution_count": 50,
   "id": "89846605",
   "metadata": {
    "slideshow": {
     "slide_type": "-"
    }
   },
   "outputs": [
    {
     "name": "stdout",
     "output_type": "stream",
     "text": [
      "\u001b[?25l\u001b[32m⠋\u001b[0m Calculating diff for massive_data.txt between index/workspace\n",
      "\u001b[1A\u001b[2K\u001b[?25l\u001b[32m⠋\u001b[0m Calculating diff for massive_data.txt between head/index\n",
      "\u001b[1A\u001b[2K\u001b[?25l\u001b[32m⠋\u001b[0m Calculating diff for big_data.txt between head/index\n",
      "\u001b[1A\u001b[2KDVC committed changes:\n",
      "  (git commit the corresponding dvc files to update the repo)\n",
      "\u001b[32m        added: massive_data.txt\n",
      "        deleted: big_data.txt\u001b[0m\n",
      "\u001b[1;34m(\u001b[0m\u001b[34mthere are other changes not tracked by dvc, use \u001b[0m\u001b[34m\"git status\"\u001b[0m\u001b[34m to see\u001b[0m\u001b[1;34m)\u001b[0m\n",
      "\u001b[0m"
     ]
    }
   ],
   "source": [
    "!dvc data status"
   ]
  },
  {
   "cell_type": "code",
   "execution_count": 51,
   "id": "155b96c3",
   "metadata": {
    "slideshow": {
     "slide_type": "-"
    }
   },
   "outputs": [
    {
     "name": "stdout",
     "output_type": "stream",
     "text": [
      "Data and pipelines are up to date.                                    core\u001b[39m>\n",
      "\u001b[0m"
     ]
    }
   ],
   "source": [
    "!dvc status"
   ]
  },
  {
   "cell_type": "markdown",
   "id": "d6c7b811",
   "metadata": {
    "slideshow": {
     "slide_type": "slide"
    }
   },
   "source": [
    "Committing to Git."
   ]
  },
  {
   "cell_type": "code",
   "execution_count": 52,
   "id": "a9832a38",
   "metadata": {
    "slideshow": {
     "slide_type": "-"
    }
   },
   "outputs": [
    {
     "name": "stdout",
     "output_type": "stream",
     "text": [
      "[dvc 92a5899] Renamed big_data.txt.dvc into massive_data.txt.dvc\r\n",
      " 2 files changed, 4 insertions(+), 2 deletions(-)\r\n",
      " rename big_data.txt.dvc => massive_data.txt.dvc (69%)\r\n"
     ]
    }
   ],
   "source": [
    "!git add massive_data.txt.dvc big_data.txt.dvc .gitignore && git commit -m \"Renamed big_data.txt.dvc into massive_data.txt.dvc\""
   ]
  },
  {
   "cell_type": "markdown",
   "id": "84dcd3b6",
   "metadata": {
    "slideshow": {
     "slide_type": "-"
    }
   },
   "source": [
    "Calling dvc data status does not show DVC committed changes anymore if the corresponding .dvc files have been committed to Git."
   ]
  },
  {
   "cell_type": "code",
   "execution_count": 53,
   "id": "6886f311",
   "metadata": {},
   "outputs": [
    {
     "name": "stdout",
     "output_type": "stream",
     "text": [
      "\u001b[?25l\u001b[32m⠋\u001b[0m Calculating diff for massive_data.txt between index/workspace\n",
      "\u001b[1A\u001b[2K\u001b[?25l\u001b[32m⠋\u001b[0m Calculating diff for massive_data.txt between head/index\n",
      "\u001b[1A\u001b[2KNo changes.\n",
      "\u001b[0m"
     ]
    }
   ],
   "source": [
    "!dvc data status"
   ]
  },
  {
   "cell_type": "markdown",
   "id": "37c744ae",
   "metadata": {
    "slideshow": {
     "slide_type": "slide"
    }
   },
   "source": [
    "## Returning to previous data: dvc checkout\n",
    "- Versions of files are determined by the appropriate .dvc files that store their md5 checksums. \n",
    "- Thus, data files are fully determined by the version of the corresponding .dvc files which are tracked by Git.\n",
    "\n",
    "- ```dvc checkout``` is ofter needed after ```git checkout```, ```git clone``` or other operations that change the current state\n",
    "of the .dvc files. \n",
    "- It restores the corresponding versions of all DVC-tracked data files and directories from the cache to the workspace.\n",
    "\n",
    "- Let's checkout the previous commit."
   ]
  },
  {
   "cell_type": "code",
   "execution_count": 54,
   "id": "01e28f6d",
   "metadata": {},
   "outputs": [
    {
     "name": "stdout",
     "output_type": "stream",
     "text": [
      "\u001b[33mcommit 92a58994b3ca07406cfb3632be451533ae62fdc4\u001b[m\u001b[33m (\u001b[m\u001b[1;36mHEAD -> \u001b[m\u001b[1;32mdvc\u001b[m\u001b[33m)\u001b[m\n",
      "Author: spa0001f <fabian.spanhel@seven.one>\n",
      "Date:   Tue Oct 18 20:20:11 2022 +0200\n",
      "\n",
      "    Renamed big_data.txt.dvc into massive_data.txt.dvc\n",
      "\n",
      "\u001b[33mcommit 7ddc19188d36aa3d1318de20cca1d0cdccd1b291\u001b[m\n",
      "Author: spa0001f <fabian.spanhel@seven.one>\n",
      "Date:   Tue Oct 18 20:19:25 2022 +0200\n",
      "\n",
      "    Update big_data.txt.dvc\n",
      "\n",
      "\u001b[33mcommit e1d90a8418b6e74eb9d0d39cb2032975e7f25913\u001b[m\n",
      "Author: spa0001f <fabian.spanhel@seven.one>\n",
      "Date:   Tue Oct 18 20:13:50 2022 +0200\n",
      "\n",
      "    Add big_data.txt.dvc\n",
      "\n",
      "\u001b[33mcommit a4809f84c5a5630efba3eb24992b435053762ad0\u001b[m\n",
      "Author: spa0001f <fabian.spanhel@seven.one>\n",
      "Date:   Tue Oct 18 20:12:54 2022 +0200\n",
      "\n",
      "    Init dvc\n",
      "\n",
      "\u001b[33mcommit 13c99bb7e40f824680c7e8510e36392c1c7af2ef\u001b[m\u001b[33m (\u001b[m\u001b[1;32mmain\u001b[m\u001b[33m)\u001b[m\n",
      "Author: spa0001f <fabian.spanhel@seven.one>\n",
      "Date:   Tue Oct 18 20:09:31 2022 +0200\n",
      "\n",
      "    Update\n",
      "\n",
      "\u001b[33mcommit 309044cb0baba1f40733977dfd821d16af5dbef7\u001b[m\n",
      "Author: spa0001f <fabian.spanhel@seven.one>\n",
      "Date:   Tue Oct 18 20:08:32 2022 +0200\n",
      "\n",
      "    update\n",
      "\n",
      "\u001b[33mcommit ffa228018d00603a041b146fc114c99e9077649c\u001b[m\n",
      "Author: spa0001f <fabian.spanhel@seven.one>\n",
      "Date:   Tue Oct 18 20:06:18 2022 +0200\n",
      "\n",
      "    add big_data.txt.dvc\n",
      "\n",
      "\u001b[33mcommit 9a0fa5f071224679eba6b11290c1d2817ac6962a\u001b[m\n",
      "Author: spa0001f <fabian.spanhel@seven.one>\n",
      "Date:   Tue Oct 18 19:57:20 2022 +0200\n",
      "\n",
      "    track haha with Git\n",
      "\n",
      "\u001b[33mcommit b621df915fcf62b28e21b0ef0650fb1bf15b663b\u001b[m\n",
      "Author: spa0001f <fabian.spanhel@seven.one>\n",
      "Date:   Tue Oct 18 19:56:32 2022 +0200\n",
      "\n",
      "    init dvc\n"
     ]
    }
   ],
   "source": [
    "!git log"
   ]
  },
  {
   "cell_type": "code",
   "execution_count": 65,
   "id": "2be13f27",
   "metadata": {
    "slideshow": {
     "slide_type": "-"
    }
   },
   "outputs": [
    {
     "name": "stdout",
     "output_type": "stream",
     "text": [
      "Note: checking out 'HEAD~1'.\r\n",
      "\r\n",
      "You are in 'detached HEAD' state. You can look around, make experimental\r\n",
      "changes and commit them, and you can discard any commits you make in this\r\n",
      "state without impacting any branches by performing another checkout.\r\n",
      "\r\n",
      "If you want to create a new branch to retain commits you create, you may\r\n",
      "do so (now or later) by using -b with the checkout command again. Example:\r\n",
      "\r\n",
      "  git checkout -b <new-branch-name>\r\n",
      "\r\n",
      "HEAD is now at 7ddc191 Update big_data.txt.dvc\r\n"
     ]
    }
   ],
   "source": [
    "!git checkout HEAD~1"
   ]
  },
  {
   "cell_type": "markdown",
   "id": "fcca78c5",
   "metadata": {
    "slideshow": {
     "slide_type": "slide"
    }
   },
   "source": [
    "Let's investigate the status of Git."
   ]
  },
  {
   "cell_type": "code",
   "execution_count": 66,
   "id": "56aa2279",
   "metadata": {
    "slideshow": {
     "slide_type": "-"
    }
   },
   "outputs": [
    {
     "name": "stdout",
     "output_type": "stream",
     "text": [
      "\u001b[31mHEAD detached at \u001b[m7ddc191\r\n",
      "Untracked files:\r\n",
      "  (use \"git add <file>...\" to include in what will be committed)\r\n",
      "\r\n",
      "\t\u001b[31mgit_change.txt\u001b[m\r\n",
      "\t\u001b[31mmassive_data.txt\u001b[m\r\n",
      "\r\n",
      "nothing added to commit but untracked files present (use \"git add\" to track)\r\n"
     ]
    }
   ],
   "source": [
    "!git status"
   ]
  },
  {
   "cell_type": "markdown",
   "id": "229c51bd",
   "metadata": {
    "slideshow": {
     "slide_type": "fragment"
    }
   },
   "source": [
    " - Note that massive_data.txt was never added or committed to Git but put on .gitignore by dvc add.\n",
    " - By checking out the previous commit we have also revoked putting massive_data.txt on .gitignore.\n",
    " - Thus, massive_data.txt is now untracked by git."
   ]
  },
  {
   "cell_type": "markdown",
   "id": "ef13a680",
   "metadata": {
    "slideshow": {
     "slide_type": "slide"
    }
   },
   "source": [
    "Let's have a look at the data status of DVC."
   ]
  },
  {
   "cell_type": "code",
   "execution_count": 67,
   "id": "2eba4ff1",
   "metadata": {
    "slideshow": {
     "slide_type": "-"
    }
   },
   "outputs": [
    {
     "name": "stdout",
     "output_type": "stream",
     "text": [
      "\u001b[?25l\u001b[32m⠋\u001b[0m Calculating diff for big_data.txt between index/workspace\n",
      "\u001b[1A\u001b[2K\u001b[?25l\u001b[32m⠋\u001b[0m Calculating diff for big_data.txt between head/index\n",
      "\u001b[1A\u001b[2KDVC uncommitted changes:\n",
      "  (use \"dvc commit <file>...\" to track changes)\n",
      "  (use \"dvc checkout <file>...\" to discard changes)\n",
      "\u001b[33m        deleted: big_data.txt\u001b[0m\n",
      "\u001b[0m"
     ]
    }
   ],
   "source": [
    "!dvc data status"
   ]
  },
  {
   "cell_type": "markdown",
   "id": "71ca52e1",
   "metadata": {
    "slideshow": {
     "slide_type": "fragment"
    }
   },
   "source": [
    "- ```dvc data status``` now shows that big_data.txt is deleted (which was the effect of dvc move)\n",
    "- This makes sense because in the next Git commit DVC replaces big_data.txt by massive_data.txt but Git isn't ware of this.\n",
    "- Thus, the current Head in Git just recognizes that massive_data.txt is untracked."
   ]
  },
  {
   "cell_type": "markdown",
   "id": "ee0e9061",
   "metadata": {
    "slideshow": {
     "slide_type": "slide"
    }
   },
   "source": [
    "The file big_data.txt.dvc (which has been modified by git checkout) contains the information to restore the data."
   ]
  },
  {
   "cell_type": "code",
   "execution_count": 68,
   "id": "782e9111",
   "metadata": {
    "slideshow": {
     "slide_type": "-"
    }
   },
   "outputs": [
    {
     "name": "stdout",
     "output_type": "stream",
     "text": [
      "outs:\r\n",
      "- md5: e737ff23a79b8ba94a069445cd1de711\r\n",
      "  size: 51\r\n",
      "  path: big_data.txt\r\n"
     ]
    }
   ],
   "source": [
    "!cat big_data.txt.dvc"
   ]
  },
  {
   "cell_type": "markdown",
   "id": "4a137ce9",
   "metadata": {
    "slideshow": {
     "slide_type": "-"
    }
   },
   "source": [
    "- To restore big_data.txt we have to use dvc checkout.\n",
    "- This also deletes massive_data.txt (although massive_data.txt.dvc does not exist)."
   ]
  },
  {
   "cell_type": "code",
   "execution_count": 69,
   "id": "b149fe2a",
   "metadata": {
    "slideshow": {
     "slide_type": "-"
    }
   },
   "outputs": [
    {
     "name": "stdout",
     "output_type": "stream",
     "text": [
      "  0% Checkout|                                       |0/1 [00:00<?,     ?file/s]\n",
      "!\u001b[A\n",
      "  0%|          |37ff23a79b8ba94a069445cd1de711     0.00/? [00:00<?,        ?B/s]\u001b[A\n",
      "  0%|          |37ff23a79b8ba94a069445cd1de711  0.00/51.0 [00:00<?,        ?B/s]\u001b[A\n",
      "\u001b[32mA\u001b[0m       big_data.txt                                                   \u001b[A\n",
      "\u001b[31mD\u001b[0m       massive_data.txt\n",
      "\u001b[0m"
     ]
    }
   ],
   "source": [
    "!dvc checkout"
   ]
  },
  {
   "cell_type": "markdown",
   "id": "1c40a4f9",
   "metadata": {
    "slideshow": {
     "slide_type": "slide"
    }
   },
   "source": [
    "# Working with remotes\n",
    "- Working with remote is similar to Git. \n",
    "- You first have to specify a remote storate location for the data.\n",
    "- The remote is typically not a sofware based on Git like GitHub or GitLab.\n",
    "- The following storage types are supported to serve as a remote storage location."
   ]
  },
  {
   "cell_type": "code",
   "execution_count": 73,
   "id": "7c1eedf2",
   "metadata": {
    "slideshow": {
     "slide_type": "-"
    }
   },
   "outputs": [
    {
     "data": {
      "text/html": [
       "\n",
       "        <iframe\n",
       "            width=\"900\"\n",
       "            height=\"500\"\n",
       "            src=\"https://dvc.org/doc/command-reference/remote/add#supported-storage-types\"\n",
       "            frameborder=\"0\"\n",
       "            allowfullscreen\n",
       "            \n",
       "        ></iframe>\n",
       "        "
      ],
      "text/plain": [
       "<IPython.lib.display.IFrame at 0x7fae8811a5c0>"
      ]
     },
     "execution_count": 73,
     "metadata": {},
     "output_type": "execute_result"
    }
   ],
   "source": [
    "embed_website(\"https://dvc.org/doc/command-reference/remote/add#supported-storage-types\")"
   ]
  },
  {
   "cell_type": "markdown",
   "id": "73f33983",
   "metadata": {
    "slideshow": {
     "slide_type": "slide"
    }
   },
   "source": [
    "## Setting up a remote storage location: dvc remote add"
   ]
  },
  {
   "cell_type": "markdown",
   "id": "fb1202e3",
   "metadata": {
    "slideshow": {
     "slide_type": "-"
    }
   },
   "source": [
    "- You can add a local remote store using ```remote add -d myremote path2store```, where myremote is the name of the remote and path2store its location\n",
    "- In this course, will be using a Google drive as DVC remote because it is the simplest way to do it.\n",
    "- To do so, we have to extract the **folder id** of the Google drive folder which is given by the letters after folders/\n",
    "- For instance, the folder id of https://drive.google.com/drive/u/2/folders/1YIKU5fNFeBkDOUo4OOlhOIhftd-sj24k is 1YIKU5fNFeBkDOUo4OOlhOIhftd-sj24k\n",
    "\n",
    "Note the Google [drive limits on storage and uploads](https://support.google.com/a/users/answer/7338880?visit_id=637995289613302718-2725308169&rd=1)"
   ]
  },
  {
   "cell_type": "markdown",
   "id": "a8fb6774",
   "metadata": {
    "slideshow": {
     "slide_type": "slide"
    }
   },
   "source": [
    "To add the Google drive remote we use the following command.\n",
    "\n",
    "    - With the flag -d this becomes the default remote.\n",
    "    - With the flag -f this add the remote even if it has already been added."
   ]
  },
  {
   "cell_type": "code",
   "execution_count": 79,
   "id": "671cbcbd",
   "metadata": {
    "slideshow": {
     "slide_type": "-"
    }
   },
   "outputs": [
    {
     "name": "stdout",
     "output_type": "stream",
     "text": [
      "Setting 'dvc_gdrive' as a default remote.\n",
      "\u001b[0m"
     ]
    }
   ],
   "source": [
    "!dvc remote add -d -f dvc_gdrive gdrive://1YIKU5fNFeBkDOUo4OOlhOIhftd-sj24k"
   ]
  },
  {
   "cell_type": "markdown",
   "id": "978452d2",
   "metadata": {
    "slideshow": {
     "slide_type": "-"
    }
   },
   "source": [
    "Before we push, we **need to share the corresponding Google Drive folder to at least one other person or group** (!)"
   ]
  },
  {
   "cell_type": "markdown",
   "id": "1f08d6d8",
   "metadata": {
    "slideshow": {
     "slide_type": "slide"
    }
   },
   "source": [
    "We can also investigate file differences between the cache and the remote storage."
   ]
  },
  {
   "cell_type": "code",
   "execution_count": 80,
   "id": "44b17663",
   "metadata": {
    "slideshow": {
     "slide_type": "-"
    }
   },
   "outputs": [
    {
     "name": "stdout",
     "output_type": "stream",
     "text": [
      "\tnew:                big_data.txt                                               \n",
      "\u001b[0m"
     ]
    }
   ],
   "source": [
    "!dvc status -c"
   ]
  },
  {
   "cell_type": "markdown",
   "id": "7059713c",
   "metadata": {
    "slideshow": {
     "slide_type": "slide"
    }
   },
   "source": [
    "## Push data to remotes: dvc push"
   ]
  },
  {
   "cell_type": "code",
   "execution_count": 81,
   "id": "2ea5a66d",
   "metadata": {
    "slideshow": {
     "slide_type": "-"
    }
   },
   "outputs": [
    {
     "name": "stdout",
     "output_type": "stream",
     "text": [
      "  0% Transferring|                                   |0/1 [00:00<?,     ?file/s]\n",
      "!\u001b[A\n",
      "  0%|          |37ff23a79b8ba94a069445cd1de711     0.00/? [00:00<?,        ?B/s]\u001b[A\n",
      "  0%|          |37ff23a79b8ba94a069445cd1de711  0.00/51.0 [00:00<?,        ?B/s]\u001b[A\n",
      "100%|██████████|37ff23a79b8ba94a069445cd1de751.0/51.0 [00:01<00:00,     34.1B/s]\u001b[A\n",
      "1 file pushed                                                                   \u001b[A\n",
      "\u001b[0m"
     ]
    }
   ],
   "source": [
    "!dvc push"
   ]
  },
  {
   "cell_type": "markdown",
   "id": "11be3417",
   "metadata": {
    "slideshow": {
     "slide_type": "slide"
    }
   },
   "source": [
    "Typically, we should now push the Git commited .dvc files to a Git remote - but we don't do it in this illustration."
   ]
  },
  {
   "cell_type": "markdown",
   "id": "0f4ead91",
   "metadata": {
    "slideshow": {
     "slide_type": "-"
    }
   },
   "source": [
    "```bash\n",
    "git remote add git_remote_url\n",
    "git push -u origin dvc_lecture_temp\n",
    "```"
   ]
  },
  {
   "cell_type": "markdown",
   "id": "d09288ca",
   "metadata": {
    "slideshow": {
     "slide_type": "slide"
    }
   },
   "source": [
    "## Retrieve data from remote: dvc pull"
   ]
  },
  {
   "cell_type": "markdown",
   "id": "3d4924ab",
   "metadata": {
    "slideshow": {
     "slide_type": "-"
    }
   },
   "source": [
    "Let's delete big_data.txt and pull it from the remote storage."
   ]
  },
  {
   "cell_type": "code",
   "execution_count": 84,
   "id": "0b54feb3",
   "metadata": {
    "slideshow": {
     "slide_type": "-"
    }
   },
   "outputs": [
    {
     "name": "stdout",
     "output_type": "stream",
     "text": [
      "\u001b[?25l\u001b[32m⠋\u001b[0m Calculating diff for big_data.txt between index/workspace\n",
      "\u001b[1A\u001b[2K\u001b[?25l\u001b[32m⠋\u001b[0m Calculating diff for big_data.txt between head/index\n",
      "\u001b[1A\u001b[2KDVC uncommitted changes:\n",
      "  (use \"dvc commit <file>...\" to track changes)\n",
      "  (use \"dvc checkout <file>...\" to discard changes)\n",
      "\u001b[33m        deleted: big_data.txt\u001b[0m\n",
      "\u001b[1;34m(\u001b[0m\u001b[34mthere are other changes not tracked by dvc, use \u001b[0m\u001b[34m\"git status\"\u001b[0m\u001b[34m to see\u001b[0m\u001b[1;34m)\u001b[0m\n",
      "\u001b[0m"
     ]
    }
   ],
   "source": [
    "!rm big_data.txt && dvc data status"
   ]
  },
  {
   "cell_type": "markdown",
   "id": "e222d4a5",
   "metadata": {
    "slideshow": {
     "slide_type": "-"
    }
   },
   "source": [
    "Comparing files between the cache and the remote storage shows no difference.\n",
    "That is, because the same version of big_data.txt exists both in the cache and the remote storage."
   ]
  },
  {
   "cell_type": "code",
   "execution_count": 85,
   "id": "02feed52",
   "metadata": {
    "slideshow": {
     "slide_type": "-"
    }
   },
   "outputs": [
    {
     "name": "stdout",
     "output_type": "stream",
     "text": [
      "Cache and remote 'dvc_gdrive' are in sync.                                      \n",
      "\u001b[0m"
     ]
    }
   ],
   "source": [
    "!dvc status -c"
   ]
  },
  {
   "cell_type": "markdown",
   "id": "df6eb4cb",
   "metadata": {
    "slideshow": {
     "slide_type": "-"
    }
   },
   "source": [
    "By pulling the data, we fetch the data the from the remote storage that corresponds to the current commit\n",
    "and checkout its version."
   ]
  },
  {
   "cell_type": "code",
   "execution_count": 87,
   "id": "a3dce83c",
   "metadata": {
    "slideshow": {
     "slide_type": "-"
    }
   },
   "outputs": [
    {
     "name": "stdout",
     "output_type": "stream",
     "text": [
      "  0% Checkout|                                       |0/1 [00:00<?,     ?file/s]\n",
      "!\u001b[A\n",
      "  0%|          |37ff23a79b8ba94a069445cd1de711     0.00/? [00:00<?,        ?B/s]\u001b[A\n",
      "  0%|          |37ff23a79b8ba94a069445cd1de711  0.00/51.0 [00:00<?,        ?B/s]\u001b[A\n",
      "\u001b[32mA\u001b[0m       big_data.txt                                                   \u001b[A\n",
      "1 file added\n",
      "\u001b[0m"
     ]
    }
   ],
   "source": [
    "!dvc pull"
   ]
  },
  {
   "cell_type": "markdown",
   "id": "4f310594",
   "metadata": {
    "slideshow": {
     "slide_type": "slide"
    }
   },
   "source": [
    "# Remove dvc from git repo: dvc destroy\n",
    "- Let us remove all DVC files and internals.\n",
    "- This does not remove the actual data.\n",
    "- To recover DVC you can checkout the corresponding Git commit, pull from the remote and checkout."
   ]
  },
  {
   "cell_type": "code",
   "execution_count": 88,
   "id": "0f4868dc",
   "metadata": {},
   "outputs": [
    {
     "name": "stdout",
     "output_type": "stream",
     "text": [
      "This will destroy all information about your pipelines, all data files, as well \n",
      "as cache in .dvc/cache.\n",
      "\u001b[0m                                                                  core\u001b[39m>yes: standard output: Broken pipe\n"
     ]
    }
   ],
   "source": [
    "!yes | dvc destroy"
   ]
  },
  {
   "cell_type": "markdown",
   "id": "1722dad1",
   "metadata": {},
   "source": [
    "- Note that big_data.txt will remain."
   ]
  },
  {
   "cell_type": "code",
   "execution_count": 89,
   "id": "afb4fec5",
   "metadata": {},
   "outputs": [
    {
     "name": "stdout",
     "output_type": "stream",
     "text": [
      "big_data.txt  git_change.txt\r\n"
     ]
    }
   ],
   "source": [
    "!ls"
   ]
  },
  {
   "cell_type": "markdown",
   "id": "26372e62",
   "metadata": {
    "slideshow": {
     "slide_type": "slide"
    }
   },
   "source": [
    "# Clean up\n",
    "Let's delete the directory dvc_lecture_tmp"
   ]
  },
  {
   "cell_type": "code",
   "execution_count": 59,
   "id": "3f04d4a7",
   "metadata": {
    "slideshow": {
     "slide_type": "-"
    }
   },
   "outputs": [],
   "source": [
    "if False:\n",
    "    os.getcwd()\n",
    "    os.chdir(\"..\")"
   ]
  },
  {
   "cell_type": "code",
   "execution_count": 61,
   "id": "9a3f01d6",
   "metadata": {
    "slideshow": {
     "slide_type": "slide"
    }
   },
   "outputs": [
    {
     "name": "stdout",
     "output_type": "stream",
     "text": [
      "rm: remove write-protected regular file 'dvc_lecture_tmp/.dvc/cache/5e/95c4f3e26fc2e940b2478c840e9bb4'? ^C\n"
     ]
    }
   ],
   "source": [
    "!rm big_data.txt && git checkout main"
   ]
  }
 ],
 "metadata": {
  "celltoolbar": "Slideshow",
  "jupytext": {
   "comment_magics": false
  },
  "kernelspec": {
   "display_name": "Python [conda env:dsc]",
   "language": "python",
   "name": "conda-env-dsc-py"
  },
  "language_info": {
   "codemirror_mode": {
    "name": "ipython",
    "version": 3
   },
   "file_extension": ".py",
   "mimetype": "text/x-python",
   "name": "python",
   "nbconvert_exporter": "python",
   "pygments_lexer": "ipython3",
   "version": "3.10.6"
  },
  "rise": {
   "footer": "<h3>Dr. Fabian Spanhel</h3>",
   "header": "<h3>DSC: 1.2 DVC</h3>"
  },
  "toc": {
   "base_numbering": 1,
   "nav_menu": {},
   "number_sections": true,
   "sideBar": true,
   "skip_h1_title": false,
   "title_cell": "Table of Contents",
   "title_sidebar": "Contents",
   "toc_cell": false,
   "toc_position": {
    "height": "calc(100% - 180px)",
    "left": "10px",
    "top": "150px",
    "width": "384px"
   },
   "toc_section_display": true,
   "toc_window_display": true
  }
 },
 "nbformat": 4,
 "nbformat_minor": 5
}
