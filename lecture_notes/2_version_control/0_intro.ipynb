{
 "cells": [
  {
   "cell_type": "code",
   "execution_count": 2,
   "metadata": {
    "slideshow": {
     "slide_type": "notes"
    }
   },
   "outputs": [],
   "source": [
    "from dsc.notebook import embed_website"
   ]
  },
  {
   "cell_type": "markdown",
   "metadata": {
    "slideshow": {
     "slide_type": "slide"
    }
   },
   "source": [
    "<div align=\"center\" style=\"font-size:70px;\">\n",
    "VERSION CONTROL\n",
    "<div/>\n",
    "    \n",
    "<div align=\"left\" style=\"font-size:16px;\">\n",
    "<div/>\n",
    "<div align=\"center\">\n",
    "<img src=\"./figures/vc_intro_commitstrip.png\" alt=\"VC\" width=700/>\n",
    "<div/>\n",
    "<div align=\"left\">\n",
    "<div/>"
   ]
  },
  {
   "cell_type": "markdown",
   "metadata": {
    "slideshow": {
     "slide_type": "slide"
    }
   },
   "source": [
    "# Agenda\n",
    "- Review of [Q&A](https://partici.fi/30119096).\n",
    "\n",
    "<div align=\"center\">\n",
    "<img src=\"../0_introduction/figures/2_p.png\" alt=\"drawing\" width=\"1200\"/>\n",
    "</div>\n",
    "\n",
    "<div align=\"left\" style=\"font-size:16px;\">\n",
    "<div/>"
   ]
  },
  {
   "cell_type": "markdown",
   "metadata": {
    "slideshow": {
     "slide_type": "slide"
    }
   },
   "source": [
    "**Agenda**\n",
    "- In this lecture we won't discuss the basics of Git. \n",
    "- You (hopefully) have used Git already in your study and during your intership in the 4th semester.\n",
    "- However, we will consider some points that **facilitate collaboration with Git** and that you might not know.\n",
    "- We will also address **how to version Jupyter notebooks**\n",
    "- After that we will consider **data versioning with a focus on DVC**.\n",
    "- The tracking of models will be discussed in a later chapter when we consider MLflow. "
   ]
  },
  {
   "cell_type": "markdown",
   "metadata": {
    "slideshow": {
     "slide_type": "slide"
    }
   },
   "source": [
    "# Introduction"
   ]
  },
  {
   "cell_type": "markdown",
   "metadata": {
    "slideshow": {
     "slide_type": "-"
    }
   },
   "source": [
    "- **Source code is the heart and soul** of almost all software projects.\n",
    "\n",
    "- To protect, develop and manage source code, **version control systems** are used and help to\n",
    "    - track every individual change by each contributor\n",
    "    - allow simultaenous work \n",
    "    while preventing concurrent work from conflicting\n",
    "    - compare and roll back to earlier versions of the code to fix mistakes\n",
    "    - build the fundament for other tools that improve software development (e.g., CICD, data versioning, issues for project management)\n",
    "\n",
    "- Version control is **essential for modern professional collaborative software development** but \n",
    "also provides **high value for small solo projects and even non-software projects**.\n",
    "\n"
   ]
  },
  {
   "cell_type": "markdown",
   "metadata": {
    "slideshow": {
     "slide_type": "slide"
    }
   },
   "source": [
    "**Version control and data science**\n",
    "\n",
    "- A lot of **classical software** mainly consists of **text files** which can be tracked by classical version control systems.\n",
    "- However, these version control systems are not sufficient for data science.\n",
    "\n",
    "- **In data science the application is not specified by the code**:\n",
    "    - We also have input data and fitted models.  \n",
    "    - **The code, data and model determine the output of the application**. \n",
    "    - All of them might change.\n",
    "    - Each state of code, data and model is an experiment that we want to track and share.\n"
   ]
  },
  {
   "cell_type": "markdown",
   "metadata": {
    "slideshow": {
     "slide_type": "slide"
    }
   },
   "source": [
    "# Code versioning with Git"
   ]
  },
  {
   "cell_type": "markdown",
   "metadata": {
    "slideshow": {
     "slide_type": "-"
    }
   },
   "source": [
    "- There are many [version control systems for code](https://en.wikipedia.org/wiki/List_of_version-control_software)\n",
    "- [Git](https://git-scm.com/) is the **most popular version control system for code** and offers\n",
    "a [strong set of features](https://www.atlassian.com/git/tutorials/what-is-git) for developers\n",
    "- [Wikipedia](https://en.wikipedia.org/wiki/Git): \"Git is a free and open source software for **distributed version control**: **tracking changes** in any set of (text) files, \n",
    "usually used for coordinating work among programmers **collaboratively developing \n",
    "source code** during software development.\"\n",
    "- Files that contain credentials should not be versioned with Git (!)\n",
    "- Git is **not designed to serve as a backup tool or for storing binary or large files**\n",
    "    - Versioning non-text files (no code) is not meanigful with Git\n",
    "    - Git **repositories should be small**, ideally less than 1 GB and providers also have a push limit ([100 MB for GitHub](https://docs.github.com/en/repositories/working-with-files/managing-large-files/about-large-files-on-github))\n",
    "- For larger files, it is not recommended to use Git and instead use **tools for data versioning**.\n",
    "\n",
    "\n",
    "\n"
   ]
  },
  {
   "cell_type": "markdown",
   "metadata": {
    "slideshow": {
     "slide_type": "subslide"
    }
   },
   "source": [
    "**But can I add small binary files (presentations, figures, data) to Git?**\n",
    "\n",
    "- In principle yes.\n",
    "- But note that, e.g., if you commit a 10 MB binary file and then commit a change that doesn't change the file size, you will be adding 10 MB to the repository.\n",
    "- As a result, **the size of your repository can quickly blow up if you are making a lot of changes to the binary files**. "
   ]
  },
  {
   "cell_type": "markdown",
   "metadata": {
    "slideshow": {
     "slide_type": "slide"
    }
   },
   "source": [
    "# Tools for data versioning"
   ]
  },
  {
   "cell_type": "markdown",
   "metadata": {
    "slideshow": {
     "slide_type": "-"
    }
   },
   "source": [
    "- There is a **handful of tools that provide versioning for data science** with each tool focussing\n",
    "on different aspects."
   ]
  },
  {
   "cell_type": "markdown",
   "metadata": {
    "slideshow": {
     "slide_type": "-"
    }
   },
   "source": [
    "|                 | Database queries |       Files      | Databases      |   |\n",
    "|:---------------:|:----------------:|:----------------:|:--------------:|---|\n",
    "| **Git-centric** |        Git       | Git-LFS, DVC,... |         x      |   |\n",
    "|  **De-coupled** |         x        |    MLflow, ...    | DataLake, Dolt |   |"
   ]
  },
  {
   "cell_type": "markdown",
   "metadata": {
    "slideshow": {
     "slide_type": "-"
    }
   },
   "source": [
    "- **Git-centric**:\n",
    "    - Assuming you have the required database infrastructure, you can **version sql queries** with Git.\n",
    "    - Other tools **version data on the file level**, e.g., binary files or (big) .csv-files, and **connect the version to a Git commit**\n",
    "        - We will discuss **Git-LFS** shortly, but focus on **DVC** in this course."
   ]
  },
  {
   "cell_type": "markdown",
   "metadata": {
    "slideshow": {
     "slide_type": "-"
    }
   },
   "source": [
    "- **De-coupled**:\n",
    "    - You can \"misuse\" tools like [MLflow](https://mlflow.org/) or [Tensorboard](https://www.tensorflow.org/tensorboard) to track data as a hyperparameter.\n",
    "    - There a tools to directly **version databases**, e.g., [(Databricks) Delta Lake](https://delta.io/), or [Dolt](https://github.com/dolthub/dolt) for MySql."
   ]
  },
  {
   "cell_type": "code",
   "execution_count": 7,
   "metadata": {
    "slideshow": {
     "slide_type": "slide"
    }
   },
   "outputs": [
    {
     "data": {
      "text/html": [
       "\n",
       "        <iframe\n",
       "            width=\"900\"\n",
       "            height=\"400\"\n",
       "            src=\"https://neptune.ai/blog/best-data-version-control-tools\"\n",
       "            frameborder=\"0\"\n",
       "            allowfullscreen\n",
       "            \n",
       "        ></iframe>\n",
       "        "
      ],
      "text/plain": [
       "<IPython.lib.display.IFrame at 0x7f5a76692110>"
      ]
     },
     "execution_count": 7,
     "metadata": {},
     "output_type": "execute_result"
    }
   ],
   "source": [
    "embed_website(\"https://neptune.ai/blog/best-data-version-control-tools\", height=400)"
   ]
  },
  {
   "cell_type": "markdown",
   "metadata": {
    "slideshow": {
     "slide_type": "slide"
    }
   },
   "source": [
    "## Git-LFS"
   ]
  },
  {
   "cell_type": "code",
   "execution_count": 4,
   "metadata": {
    "slideshow": {
     "slide_type": "-"
    }
   },
   "outputs": [
    {
     "data": {
      "text/html": [
       "\n",
       "        <iframe\n",
       "            width=\"900\"\n",
       "            height=\"300\"\n",
       "            src=\"https://git-lfs.github.com/\"\n",
       "            frameborder=\"0\"\n",
       "            allowfullscreen\n",
       "            \n",
       "        ></iframe>\n",
       "        "
      ],
      "text/plain": [
       "<IPython.lib.display.IFrame at 0x7f5a7667a410>"
      ]
     },
     "execution_count": 4,
     "metadata": {},
     "output_type": "execute_result"
    }
   ],
   "source": [
    "embed_website(\"https://git-lfs.github.com/\", height=300)"
   ]
  },
  {
   "cell_type": "markdown",
   "metadata": {
    "slideshow": {
     "slide_type": "slide"
    }
   },
   "source": [
    "- Git-LFS **handles large files by storing pointers to the file in the repository**,\n",
    "but not the actual file itself. \n",
    "- The files content are stored on a remote server like GitHub or GitLab.\n",
    "\n",
    "- **Almost works like normal Git** except that\n",
    "    - One has to specify which files are tracked by Git-LFS\n",
    "    - One needs to convert LFS pointers to the actual data to access it (depends on the version?)\n",
    "    - It primarily stores data, there is no easy way of resolving binary merge conflicts (but files can be locked)\n",
    "    - Users that work with the repo need Git-LFS installed, otherwise they can only fetch the pointer files but not the actual data (depends on the version?)"
   ]
  },
  {
   "cell_type": "markdown",
   "metadata": {
    "slideshow": {
     "slide_type": "fragment"
    }
   },
   "source": [
    "- Remote servers have a **limit on storage and bandwith consumption**.\n",
    "- Using GitLab you can also store on external services like S3 (?).\n",
    "- But **GitHub has a strong limit on storage and bandwith consumption**, so that you have to buy more storage if you files and the number of transfers is not small. \n",
    "- Thus, Git-LFS might be best for files that do not exceed 1 GB and do not change too much. \n",
    "- Details:\n",
    "    - [GitLab pricing](https://about.gitlab.com/pricing/)\n",
    "    - [GitHub and Git-LFS](https://docs.github.com/en/repositories/working-with-files/managing-large-files/about-git-large-file-storage) and [GitHub Git-LFS storage and bandwith usage](https://docs.github.com/en/repositories/working-with-files/managing-large-files/about-storage-and-bandwidth-usage)"
   ]
  },
  {
   "cell_type": "markdown",
   "metadata": {
    "slideshow": {
     "slide_type": "slide"
    }
   },
   "source": [
    "**Resources**\n",
    "- https://git-lfs.github.com/\n",
    "- https://about.gitlab.com/blog/2017/01/30/getting-started-with-git-lfs-tutorial/\n",
    "- https://github.com/git-lfs/git-lfs/wiki/Tutorial\n",
    "- https://github.com/git-lfs/git-lfs/tree/main/docs/man\n",
    "- https://www.youtube.com/watch?v=YQzNfb4IwEY\n",
    "\n",
    "**Similar tool**\n",
    "- [Git Annex](https://git-annex.branchable.com/) which can be self hosted"
   ]
  },
  {
   "cell_type": "markdown",
   "metadata": {
    "slideshow": {
     "slide_type": "slide"
    }
   },
   "source": [
    "## DVC"
   ]
  },
  {
   "cell_type": "code",
   "execution_count": 5,
   "metadata": {
    "slideshow": {
     "slide_type": "-"
    }
   },
   "outputs": [
    {
     "data": {
      "text/html": [
       "\n",
       "        <iframe\n",
       "            width=\"900\"\n",
       "            height=\"500\"\n",
       "            src=\"https://dvc.org/\"\n",
       "            frameborder=\"0\"\n",
       "            allowfullscreen\n",
       "            \n",
       "        ></iframe>\n",
       "        "
      ],
      "text/plain": [
       "<IPython.lib.display.IFrame at 0x7f5a76691790>"
      ]
     },
     "execution_count": 5,
     "metadata": {},
     "output_type": "execute_result"
    }
   ],
   "source": [
    "embed_website(\"https://dvc.org/\")"
   ]
  },
  {
   "cell_type": "markdown",
   "metadata": {
    "slideshow": {
     "slide_type": "slide"
    }
   },
   "source": [
    "- DVC **extends Git (and Git-LFS) for data science usage**. \n",
    "- Probably the most popular tool for file versioning.\n",
    "- **Its commits are pointers to data sets**.\n",
    "    - The actual data is added to .gitignore and thus not commited to Git but to a storage location\n",
    "    - For each data that is put into a storage location, DVC creates .dvc files wich are pointers to the data that are tracked by Git\n",
    "- **Storage can be local or a remote storage like S3, Google drive,** ...\n",
    "- Other features:\n",
    "    - Pipelines which connect versioned datasets, model and code\n",
    "    - Compare metrics and view plots across different commits \n",
    "    - CICD\n",
    "    - [Python API](https://dvc.org/doc/api-reference)"
   ]
  },
  {
   "cell_type": "markdown",
   "metadata": {
    "slideshow": {
     "slide_type": "slide"
    }
   },
   "source": [
    "DVC is a **good solution** \n",
    "- To keep data or other binary files tightly in **sync with Git** and for sharing data.\n",
    "- For **smaller projects** where speed and scaling is not important.\n",
    "- When you cannot or don't want to version a database.\n",
    "- When versioning sql queries as a means to version data is not possible.\n",
    "\n",
    "We will later discuss data versioning with DVC in more detail."
   ]
  }
 ],
 "metadata": {
  "celltoolbar": "Slideshow",
  "jupytext": {
   "comment_magics": false
  },
  "kernelspec": {
   "display_name": "Python 3 (ipykernel)",
   "language": "python",
   "name": "python3"
  },
  "language_info": {
   "codemirror_mode": {
    "name": "ipython",
    "version": 3
   },
   "file_extension": ".py",
   "mimetype": "text/x-python",
   "name": "python",
   "nbconvert_exporter": "python",
   "pygments_lexer": "ipython3",
   "version": "3.11.4"
  },
  "rise": {
   "footer": "<h3>Dr. Fabian Spanhel</h3>",
   "header": "<h3>DSC: 2.0 INTRO</h3>"
  },
  "toc": {
   "base_numbering": 1,
   "nav_menu": {},
   "number_sections": true,
   "sideBar": false,
   "skip_h1_title": false,
   "title_cell": "Table of Contents",
   "title_sidebar": "Contents",
   "toc_cell": false,
   "toc_position": {},
   "toc_section_display": true,
   "toc_window_display": false
  }
 },
 "nbformat": 4,
 "nbformat_minor": 2
}
