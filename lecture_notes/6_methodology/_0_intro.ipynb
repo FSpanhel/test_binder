{
 "cells": [
  {
   "cell_type": "code",
   "execution_count": null,
   "metadata": {},
   "outputs": [],
   "source": [
    "# Methodology"
   ]
  },
  {
   "cell_type": "code",
   "execution_count": null,
   "metadata": {},
   "outputs": [],
   "source": [
    "https://www.reddit.com/r/datascience/comments/vlpi4u/what_are_the_most_common_mistakes_you_see_junior/?utm_source=share&utm_medium=ios_app&utm_name=iossmf\n",
    "\n",
    "https://arxiv.org/abs/2108.02497 How to avoid machine learning pitfalls: a guide for academic researchers\n",
    "\n",
    "https://www.google.de/search?q=optuna&source=hp&ei=76JGY7ijPKS_xc8P38CK6AQ&iflsig=AJiK0e8AAAAAY0axABvkk4uJ4eBBPJEBJFEUi6L6-kpi&ved=0ahUKEwj41umdydr6AhWkX_EDHV-gAk0Q4dUDCAk&uact=5&oq=optuna&gs_lcp=Cgdnd3Mtd2l6EAMyCwgAEIAEELEDEIMBMgUIABCABDIFCAAQgAQyBQgAEIAEMgUIABCABDIFCAAQgAQyBQgAEIAEMgUIABCABDIFCAAQgAQyBQgAEIAEOhEILhCABBCxAxCDARDHARDRAzoOCC4QgAQQsQMQxwEQ0QM6CwguEIAEEMcBEK8BOhQILhCABBCxAxCDARDHARDRAxDUAjoLCC4QgAQQxwEQ0QM6DgguELEDEIMBEMcBENEDOggIABCxAxCDAToICAAQgAQQsQM6CAguEIAEELEDOggIABCABBDJAzoHCAAQgAQQClAAWLkIYMkJaABwAHgAgAGUAogB5QaSAQUxLjQuMZgBAKABAQ&sclient=gws-wiz\n"
   ]
  },
  {
   "cell_type": "markdown",
   "metadata": {},
   "source": [
    "# Which algorithm should I choose?"
   ]
  },
  {
   "cell_type": "code",
   "execution_count": null,
   "metadata": {},
   "outputs": [],
   "source": [
    "- Word notizen dazu beachten\n",
    "- Just use AutoML? Well no! \n",
    "- wie schnell müssen prognosen sein\n",
    "- welches themenfeld\n",
    "- intrapolation/extrapolation (show increasing deterministic trend, what is the output of the forecast? everybody show know this when the have completed their studies here, I would not hire them)\n",
    "- prognose vs. causality\n",
    "- interpretability "
   ]
  },
  {
   "cell_type": "markdown",
   "metadata": {},
   "source": [
    "## About neural nets"
   ]
  },
  {
   "cell_type": "code",
   "execution_count": null,
   "metadata": {},
   "outputs": [],
   "source": [
    "- Why are neural nets so awesome? Because https://en.wikipedia.org/wiki/Universal_approximation_theorem\n",
    "- You often hear: (WIth one layer etc.) They are universal function approximators. \n",
    "- Loosely speaking: Meaning we can approach any function arbitarily well by increasing the sample size\n",
    "- Isn't that freaking awesome? \n",
    "- Well, there are a lot of universal function approximators (use fragments for these bullet points or only for the linear model)\n",
    "- Decision trees\n",
    "- SVMs\n",
    "- NN, Kernel-density\n",
    "- Linear models (taylor expansion)\n",
    "\n",
    "- Their predictions are fast (one reason why SVMs are probably not used so much...)\n",
    "- You can pre-train them (one can also pre-train other algorithms, but the data structures they ared used for make pre-training meaningful, it is not so sensible to pre-train a neural net in the US to explain inflation and then use it for germany)"
   ]
  },
  {
   "cell_type": "code",
   "execution_count": null,
   "metadata": {},
   "outputs": [],
   "source": [
    "# Curse of dimensions\n",
    "- use slides from my uni presentation\n",
    "- main message should be: we need to impose structure on the data\n",
    "- neural nets provide many ways that are useful for some specific types of data (language, images)\n",
    "- but this doesn't mean the are generally good\n",
    "- no free lunch theorem -> not clear how this relates to practical problems because we do not draw randomly from the uniform distribution, i would rather say that there is some structure but not so that neural perform any time well"
   ]
  }
 ],
 "metadata": {
  "jupytext": {
   "comment_magics": false
  },
  "kernelspec": {
   "display_name": "Python 3 (ipykernel)",
   "language": "python",
   "name": "python3"
  },
  "language_info": {
   "codemirror_mode": {
    "name": "ipython",
    "version": 3
   },
   "file_extension": ".py",
   "mimetype": "text/x-python",
   "name": "python",
   "nbconvert_exporter": "python",
   "pygments_lexer": "ipython3",
   "version": "3.10.6"
  },
  "toc": {
   "base_numbering": 1,
   "nav_menu": {},
   "number_sections": true,
   "sideBar": true,
   "skip_h1_title": false,
   "title_cell": "Table of Contents",
   "title_sidebar": "Contents",
   "toc_cell": false,
   "toc_position": {},
   "toc_section_display": true,
   "toc_window_display": false
  }
 },
 "nbformat": 4,
 "nbformat_minor": 2
}
