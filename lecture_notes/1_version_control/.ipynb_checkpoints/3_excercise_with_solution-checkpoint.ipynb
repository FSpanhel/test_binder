{
 "cells": [
  {
   "cell_type": "markdown",
   "id": "742d1974",
   "metadata": {},
   "source": [
    "# Questions regarding next week's topic (Python project setup)"
   ]
  },
  {
   "cell_type": "markdown",
   "id": "4ee93064",
   "metadata": {},
   "source": [
    "Click [here](https://partici.fi/26194946), or scan the QR code below, to answer the questions about setting up your Python project."
   ]
  },
  {
   "cell_type": "markdown",
   "id": "0fdfaabd",
   "metadata": {},
   "source": [
    "<div align=\"center\">\n",
    "<img src=\"./figures/p_2.png\" alt=\"drawing\" width=\"1200\"/>\n",
    "</div>\n",
    "\n",
    "<div align=\"left\">\n",
    "<div/>"
   ]
  },
  {
   "cell_type": "markdown",
   "id": "2e31265b",
   "metadata": {},
   "source": [
    "# Git\n",
    "Before you start with the exercises, **please create a new branch called _exercise_main**."
   ]
  },
  {
   "cell_type": "markdown",
   "id": "ca6f2db0",
   "metadata": {},
   "source": [
    "## Exercise A"
   ]
  },
  {
   "cell_type": "markdown",
   "id": "d17afb0c",
   "metadata": {},
   "source": [
    "1. Checkout a new branch called _temp.\n",
    "1. Add a text.md:\n",
    "    - Add \"abc\" as first line and commit \"Add abc to the first line\".\n",
    "    - Add \"def\" as second line and commit \"Add def to the second line\".\n",
    "    - Add \"ghi\" as third line and commit \"Add ghi to the third line\".    \n",
    "    - Add \"jkl\" as fourth line and commit \"Add jkl to the fourth line\".\n",
    "1. Combine the first and third commit and adjust the commit message accordingly to \"Add jkl to the first line and ghi to the second line\".   \n",
    "1. Add \"jkl\" and not \"ghi\" as first line in the third commit.  \n",
    "1. Drop the fourth commit.\n",
    "1. Merge _temp into _exercise_main and delete _temp."
   ]
  },
  {
   "cell_type": "markdown",
   "id": "0661f2b5",
   "metadata": {},
   "source": [
    "**Solution:** This exercise is intended to practice the use of an interactive rebase. "
   ]
  },
  {
   "cell_type": "markdown",
   "id": "d585a590",
   "metadata": {},
   "source": [
    "Run the following commands in the terminal.  \n",
    "1. \n",
    "```bash\n",
    "git checkout -b _temp\n",
    "```\n",
    "1. \n",
    "```bash\n",
    "echo \"abc\" > text.md && git add text.md && git commit -m \"Add abc to the first line\" &&\n",
    "echo \"def\" >> text.md && git add text.md && git commit -m \"Add def to the second line\" &&\n",
    "echo \"ghi\" >> text.md && git add text.md && git commit -m \"Add ghi to the third line\" &&\n",
    "echo \"jkl\" >> text.md && git add text.md && git commit -m \"Add jkl to the fourth line\";\n",
    "```\n",
    "1.  \n",
    "```bash\n",
    "git rebase -i HEAD~4\n",
    "```\n",
    "and edit the git-rebase-todo file as follows\n",
    "```bash\n",
    "pick 193caaf Add abc to the first line\n",
    "squash 49bdf42 Add def to the second line\n",
    "edit 02ea624 Add ghi to the third line\n",
    "drop 1da20a1 Add ghi to the fourth line\n",
    "```\n",
    "and conduct the rebase by \n",
    "    - performing the squash of 49bdf42 into 193caaf by changing the commit message to\n",
    "        \"Add abc to the first line and def to the second lin.\"\n",
    "    - During the edit of the third commit change text.md into\n",
    "```\n",
    "abc\n",
    "def\n",
    "jkl\n",
    "``` \n",
    "and then run ```git add```, ```git commend --amend```, change the commit message to \"Add jkl to the third line\" when your text editor is opened, and finally, git ```rebase --continue```.\n",
    "\n",
    "4. ```bash\n",
    "git checkout _exercise_main &&\n",
    "git merge _temp &&\n",
    "git branch -D _temp;\n",
    "```"
   ]
  },
  {
   "cell_type": "markdown",
   "id": "8780713e",
   "metadata": {},
   "source": [
    "## Exercise B"
   ]
  },
  {
   "cell_type": "markdown",
   "id": "72215e5c",
   "metadata": {},
   "source": [
    "Rebase:\n",
    "    \n",
    "- Add the following two (separate) commits to your 'wrong' branch:\n",
    "    - a text file named 'animal.txt' that contains the name of your favorite animal\n",
    "    - a text file that 'color.txt' contains the name of your favorite color\n",
    "- Create a new branch named 'this_is_the_right_one'\n",
    "    - transfers the commits of 'wrong' to the branch 'right' without using a merge\n",
    "    - undo the first commit on the branch 'right'\n",
    "    \n",
    "Solution:\n",
    "git checkout -b wrong\n",
    "git commit\n",
    "git commit\n",
    "git checkout -b this_is_the_right_one\n",
    "git checkout main\n",
    "git rebase -i HEAD~2\n",
    "\n"
   ]
  },
  {
   "cell_type": "markdown",
   "id": "909337d1",
   "metadata": {},
   "source": [
    "## Exercise C "
   ]
  },
  {
   "cell_type": "markdown",
   "id": "fa9c7b6e",
   "metadata": {},
   "source": [
    "1) Create a new branch named by your name  \n",
    "2) Commit and push a text file name 'animal.txt' that contains the name of your favorite animal to the remote branch  \n",
    "3) Undo the push of 'animal.txt'   \n",
    "4) Undo all commits"
   ]
  },
  {
   "cell_type": "markdown",
   "id": "732e9cfd",
   "metadata": {},
   "source": [
    "## Exercise D"
   ]
  },
  {
   "cell_type": "markdown",
   "id": "33762183",
   "metadata": {},
   "source": [
    "1) Run the following commands in the terminal:\n",
    "```bash\n",
    "git branch B;\n",
    "git branch B_remote;\n",
    "git branch A;\n",
    "git branch A_remote; \n",
    "\n",
    "# work on B\n",
    "git checkout B;\n",
    "echo \"123\" > b.txt && git add b.txt && git commit -m \"Add b.txt\";\n",
    "\n",
    "# work on B_remote\n",
    "git checkout B_remote;\n",
    "echo \"123\" > b_remote.txt && git add b_remote.txt && git commit -m \"Add b_remote.txt\";\n",
    "\n",
    "# work on A\n",
    "git checkout A;\n",
    "echo \"123\" > a.txt && git add a.txt && git commit -m \"Add a.txt\";\n",
    "\n",
    "# work on A_remote\n",
    "git checkout A_remote;\n",
    "echo \"123\" > a_remote.txt && git add a_remote.txt && git commit -m \"Add a_remote.txt\";\n",
    "```"
   ]
  },
  {
   "cell_type": "markdown",
   "id": "be6a55b4",
   "metadata": {},
   "source": [
    "2) Have a look at the log.  \n",
    "3) Add commits so that the log looks as follows:  \n",
    "![commit history](./figures/0_exercise.png)"
   ]
  },
  {
   "cell_type": "markdown",
   "id": "b5afb712",
   "metadata": {},
   "source": [
    "4) Reset the commits to the status of 2)  \n",
    "5) Add commits so that the log looks as follows:  \n",
    "![commit history](./figures/1_exercise.png)\n",
    "6) Undo all commits."
   ]
  },
  {
   "cell_type": "markdown",
   "id": "3d5a1016",
   "metadata": {},
   "source": [
    "# Versioning Jupyter notebooks"
   ]
  },
  {
   "cell_type": "markdown",
   "id": "0d82a403",
   "metadata": {},
   "source": [
    "## Exercise A"
   ]
  },
  {
   "cell_type": "markdown",
   "id": "60e83f10",
   "metadata": {},
   "source": [
    "1. Check that your working directory is clean, i.e., you have no uncommitted changes.\n",
    "1. Checkout the (new) branch _temp. \n",
    "2. Execute the next cell of this notebook (click into the cell and press enter)"
   ]
  },
  {
   "cell_type": "code",
   "execution_count": 36,
   "id": "ef7b7805",
   "metadata": {},
   "outputs": [
    {
     "name": "stdout",
     "output_type": "stream",
     "text": [
      "The current time is 2022-10-17 19:11:13\n"
     ]
    }
   ],
   "source": [
    "print(\"\")"
   ]
  },
  {
   "cell_type": "markdown",
   "id": "c191b375",
   "metadata": {},
   "source": [
    "3. Save the notebook.\n",
    "4. Run git status. Does it make sense to commit the change?\n",
    "4. Delete the branch _temp.M"
   ]
  },
  {
   "cell_type": "markdown",
   "id": "b505feae",
   "metadata": {},
   "source": [
    "**Solution**:\n",
    "1. ```bash\n",
    "git checkout -b _temp\n",
    "```\n",
    "2. Executing the code cell should result in a new cell output.\n",
    "3. "
   ]
  },
  {
   "cell_type": "markdown",
   "id": "e628d343",
   "metadata": {},
   "source": [
    "## Exercise B"
   ]
  },
  {
   "cell_type": "markdown",
   "id": "ce68d6f9",
   "metadata": {},
   "source": [
    "1. Checkout the (new) branch _jupytext. \n",
    "1. Create a .py script of this notebook .ipynb file using Jupytext.\n",
    "1. Commit the the .ipynb file and .py script to Git.\n",
    "1. Execute the code cell above of the previous exercise.\n",
    "1. What does git status tell you?\n"
   ]
  },
  {
   "cell_type": "code",
   "execution_count": null,
   "id": "4cc7bbcf",
   "metadata": {
    "solution": "hidden",
    "solution_first": true
   },
   "outputs": [],
   "source": [
    "create a copy of this notebook. \n",
    "add your "
   ]
  },
  {
   "cell_type": "code",
   "execution_count": 5,
   "id": "cf45eb22",
   "metadata": {
    "solution": "hidden"
   },
   "outputs": [
    {
     "data": {
      "text/plain": [
       "1"
      ]
     },
     "execution_count": 5,
     "metadata": {},
     "output_type": "execute_result"
    }
   ],
   "source": [
    "1"
   ]
  },
  {
   "cell_type": "code",
   "execution_count": 4,
   "id": "02e87a21",
   "metadata": {
    "solution": "shown",
    "solution_first": true
   },
   "outputs": [],
   "source": [
    "def a():\n",
    "    return 1 + 1"
   ]
  },
  {
   "cell_type": "markdown",
   "id": "2c0a0124",
   "metadata": {},
   "source": [
    "# DVC"
   ]
  },
  {
   "cell_type": "markdown",
   "id": "17c85b97",
   "metadata": {},
   "source": [
    "1. Set up your own Gdrive account.  \n",
    "1. Create a new git branch dvc_exercise and put all movies from ./data/dsc.db/broadcast that were broadcasted in 2018 into movies_2018.csv.\n",
    "1. Track movies_2018.csv with DVC.\n",
    "1. Push movies_2018.csv to your Gdrive account. \n",
    "1. Append all movies from ./data/dsc.db/broadcast that were broadcasted in 2019 to movies_2018.csv.\n",
    "1. Rename movies_2018.csv to movies_2018_2019.csv.\n",
    "1. Push movies_2018_2019.csv to your Gdrive account.\n",
    "1. Locate movies_2018.csv and movies_2018_2019.csv on your Gdrive account. \n",
    "1. Delete the last row of movies_2018_2019.csv on your Gdrive account.\n",
    "1. Pull the changes on your remote to your working space.\n",
    "1. Roll back to 4."
   ]
  }
 ],
 "metadata": {
  "celltoolbar": "Slideshow",
  "jupytext": {
   "comment_magics": false
  },
  "kernelspec": {
   "display_name": "Python [conda env:dsc]",
   "language": "python",
   "name": "conda-env-dsc-py"
  },
  "language_info": {
   "codemirror_mode": {
    "name": "ipython",
    "version": 3
   },
   "file_extension": ".py",
   "mimetype": "text/x-python",
   "name": "python",
   "nbconvert_exporter": "python",
   "pygments_lexer": "ipython3",
   "version": "3.10.6"
  },
  "rise": {
   "footer": "<h3>Dr. Fabian Spanhel</h3>",
   "header": "<h3>DSC: 1.3 EXERCISE</h3>"
  },
  "toc": {
   "base_numbering": 1,
   "nav_menu": {},
   "number_sections": true,
   "sideBar": true,
   "skip_h1_title": false,
   "title_cell": "Table of Contents",
   "title_sidebar": "Contents",
   "toc_cell": false,
   "toc_position": {},
   "toc_section_display": true,
   "toc_window_display": false
  }
 },
 "nbformat": 4,
 "nbformat_minor": 5
}
