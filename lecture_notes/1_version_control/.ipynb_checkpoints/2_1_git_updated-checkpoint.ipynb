{
 "cells": [
  {
   "cell_type": "markdown",
   "id": "c8c670f7",
   "metadata": {},
   "source": [
    "# Squash commit"
   ]
  },
  {
   "cell_type": "markdown",
   "id": "d8874aff",
   "metadata": {},
   "source": [
    "- https://www.google.de/search?q=git+merge+squash&source=hp&ei=26t_Y53QOcSX8gLFwoaoBg&iflsig=AJiK0e8AAAAAY3-56_TKIJBnr79Xm5te0WsrmSvXvEWK&ved=0ahUKEwjdqfPgrcf7AhXEi1wKHUWhAWUQ4dUDCAo&uact=5&oq=git+merge+squash&gs_lcp=Cgdnd3Mtd2l6EAMyBQgAEIAEMgUIABCABDIGCAAQFhAeMgYIABAWEB4yBggAEBYQHjIGCAAQFhAeMgYIABAWEB4yBggAEBYQHjIGCAAQFhAeMgYIABAWEB46EQguEIAEELEDEIMBEMcBENEDOgsIABCABBCxAxCDAToICC4QsQMQgwE6CwguEIAEEMcBEK8BOggILhCABBCxAzoOCC4QgAQQsQMQgwEQ1AI6BQguEIAEOggIABCABBCxAzoOCC4QgAQQsQMQxwEQrwE6BwgAEIAEEBM6CQgAEIAEEAoQEzoICAAQFhAeEBM6CggAEBYQHhAKEBNQAFjiG2DTHmgEcAB4AIABiwKIAeMRkgEGNS4xMi4xmAEAoAEB&sclient=gws-wiz\n",
    "- https://stackoverflow.com/questions/5308816/how-can-i-merge-multiple-commits-onto-another-branch-as-a-single-squashed-commit\n",
    "- https://levelup.gitconnected.com/do-you-know-how-to-use-git-merge-squash-7d96c1191fd5\n",
    "- https://blog.mergify.com/what-is-the-difference-between-a-merge-commit-a-squash/\n",
    "- https://stackoverflow.com/questions/9599411/differences-between-git-merge-squash-and-no-commit?noredirect=1&lq=1\n",
    "- Note that GitLab [does the following when using a squash merge](https://docs.gitlab.com/ee/user/project/merge_requests/methods/)\n",
    "```\n",
    "git checkout `git merge-base <source-branch> <target-branch>`\n",
    "git merge --squash <source-branch>\n",
    "SOURCE_SHA=`git rev-parse HEAD`\n",
    "git checkout <target-branch>\n",
    "git merge --no-ff $SOURCE_SHA\n",
    "```\n",
    "So this is different from ```git merge --squash```?"
   ]
  },
  {
   "cell_type": "markdown",
   "id": "876924ef",
   "metadata": {},
   "source": []
  }
 ],
 "metadata": {
  "jupytext": {
   "comment_magics": false
  },
  "kernelspec": {
   "display_name": "Python [conda env:dsc_2022] *",
   "language": "python",
   "name": "conda-env-dsc_2022-py"
  },
  "language_info": {
   "codemirror_mode": {
    "name": "ipython",
    "version": 3
   },
   "file_extension": ".py",
   "mimetype": "text/x-python",
   "name": "python",
   "nbconvert_exporter": "python",
   "pygments_lexer": "ipython3",
   "version": "3.10.6"
  },
  "toc": {
   "base_numbering": 1,
   "nav_menu": {},
   "number_sections": true,
   "sideBar": true,
   "skip_h1_title": false,
   "title_cell": "Table of Contents",
   "title_sidebar": "Contents",
   "toc_cell": false,
   "toc_position": {},
   "toc_section_display": true,
   "toc_window_display": false
  }
 },
 "nbformat": 4,
 "nbformat_minor": 5
}
