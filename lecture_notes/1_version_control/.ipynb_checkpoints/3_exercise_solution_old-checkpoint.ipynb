{
 "cells": [
  {
   "cell_type": "markdown",
   "id": "742d1974",
   "metadata": {
    "slideshow": {
     "slide_type": "slide"
    }
   },
   "source": [
    "# Questions regarding next week's topic (Python project setup)"
   ]
  },
  {
   "cell_type": "markdown",
   "id": "4ee93064",
   "metadata": {
    "slideshow": {
     "slide_type": "-"
    }
   },
   "source": [
    "Click [here](https://partici.fi/26194946), or scan the QR code below, to answer the questions about setting up your Python project.\n",
    "<div align=\"center\">\n",
    "<img src=\"./figures/p_2.png\" alt=\"drawing\" width=\"1200\"/>\n",
    "</div>\n",
    "\n",
    "<div align=\"left\">\n",
    "<div/>"
   ]
  },
  {
   "cell_type": "markdown",
   "id": "2e31265b",
   "metadata": {
    "slideshow": {
     "slide_type": "slide"
    }
   },
   "source": [
    "# Git\n",
    "Before you start with one exercises, verify that your **working directory is clean**, i.e., you have no uncommitted changes."
   ]
  },
  {
   "cell_type": "markdown",
   "id": "732e9cfd",
   "metadata": {
    "slideshow": {
     "slide_type": "slide"
    }
   },
   "source": [
    "## Exercise\n",
    "Run ```python3 -m dsc.version_control.exercise```or the following commands in the terminal:\n",
    "```bash\n",
    "git checkout -b B && echo \"123\" > b.txt &&  git add b.txt && git commit -m \"Add b.txt\" &&\n",
    "git checkout -b B_remote && echo \"123\" > b_remote.txt && git add b_remote.txt && git commit -m \"Add b_remote.txt\" &&\n",
    "git checkout -b A && echo \"123\" > a.txt && git add a.txt && git commit -m \"Add a.txt\" &&\n",
    "git checkout -b A_remote && echo \"123\" > a_remote.txt && git add a_remote.txt && git commit -m \"Add a_remote.txt\"\n",
    "```\n",
    "Have a look at the commit history/log (using ```git log``` or GitGraph in VSCode).  \n",
    "\n",
    "1) Add commits so that the commit history looks as follows:  \n",
    "![commit history](./figures/0_exercise.png)\n",
    "2) Run ```python3 -m dsc.version_control.exercise reset``` or checkout to main and delete all branches manually."
   ]
  },
  {
   "cell_type": "markdown",
   "id": "8615d402",
   "metadata": {
    "slideshow": {
     "slide_type": "slide"
    },
    "solution": "shown"
   },
   "source": [
    "**Solution**: This exercises demonstrates ```git merge```.\n",
    "1. Integrate B into B_remote\n",
    "```bash\n",
    "    git checkout B &&\n",
    "    git merge B_remote --no-edit\n",
    "```\n",
    "2. Integrate B into A\n",
    "```bash\n",
    "    git checkout A &&\n",
    "    git merge B --no-edit\n",
    "```\n",
    "3. Integrate A into A_remote\n",
    "```bash\n",
    "    git checkout A_remote &&\n",
    "    git merge A --no-edit\n",
    "```\n",
    "```\n",
    "1. ```bash\n",
    "git checkout main &&\n",
    "git branch -D A B A_remote B_remote\n",
    "```"
   ]
  },
  {
   "cell_type": "markdown",
   "id": "8a19dbf2",
   "metadata": {
    "slideshow": {
     "slide_type": "slide"
    }
   },
   "source": [
    "## Exercise\n",
    "Run ```python3 -m dsc.version_control.exercise```or the following commands in the terminal:\n",
    "```bash\n",
    "git checkout -b B && echo \"123\" > b.txt &&  git add b.txt && git commit -m \"Add b.txt\" &&\n",
    "git checkout -b B_remote && echo \"123\" > b_remote.txt && git add b_remote.txt && git commit -m \"Add b_remote.txt\" &&\n",
    "git checkout -b A && echo \"123\" > a.txt && git add a.txt && git commit -m \"Add a.txt\" &&\n",
    "git checkout -b A_remote && echo \"123\" > a_remote.txt && git add a_remote.txt && git commit -m \"Add a_remote.txt\"\n",
    "```\n",
    "Have a look at the commit history/log (using ```git log``` or GitGraph in VSCode). \n",
    "\n",
    "1) Add commits so that the log looks as follows:  \n",
    "![commit history](./figures/1_exercise.png)\n",
    "2) Return to main and delete the four branches of this exercise."
   ]
  },
  {
   "cell_type": "markdown",
   "id": "5b045d56",
   "metadata": {
    "slideshow": {
     "slide_type": "slide"
    }
   },
   "source": [
    "**Solution**: This exercise demonstrates ```git rebase```.\n",
    "1. Integrate B into B_remote\n",
    "```bash\n",
    "    git checkout B &&\n",
    "    git rebase B_remote\n",
    "```\n",
    "2. Integrate B into A\n",
    "```bash\n",
    "    git checkout A &&\n",
    "    git rebase B\n",
    "```\n",
    "3. Integrate A into A_remote\n",
    "```bash\n",
    "    git checkout A_remote &&\n",
    "    git rebase A\n",
    "```\n",
    "```\n",
    "1. ```bash\n",
    "git checkout main &&\n",
    "git branch -D A B A_remote B_remote\n",
    "```"
   ]
  },
  {
   "cell_type": "markdown",
   "id": "ca6f2db0",
   "metadata": {
    "slideshow": {
     "slide_type": "slide"
    }
   },
   "source": [
    "## Exercise\n",
    "1. Create two new branches called _temp and _exercise_main. Checkout _temp.\n",
    "1. Add a text.md:\n",
    "    - Add \"abc\" as first line and commit \"Add abc to the first line\".\n",
    "    - Add \"def\" as second line and commit \"Add def to the second line\".\n",
    "    - Add \"ghi\" as third line and commit \"Add ghi to the third line\".    \n",
    "    - Add \"jkl\" as fourth line and commit \"Add jkl to the fourth line\".\n",
    "1. Do the following changes\n",
    "    1. Combine the first and third commit and adjust the commit message accordingly to \"Add jkl to the first line and ghi to the second line\".   \n",
    "    1. Add \"jkl\" and not \"ghi\" as first line in the third commit.  \n",
    "    1. Drop the fourth commit.\n",
    "1. Merge _temp into _exercise_main and delete _temp.\n",
    "1. Delete _exercise_main."
   ]
  },
  {
   "cell_type": "markdown",
   "id": "0661f2b5",
   "metadata": {
    "slideshow": {
     "slide_type": "slide"
    },
    "solution": "shown"
   },
   "source": [
    "**Solution** In this exercise, the use of an interactive rebase is practiced.\n",
    "Run the following commands in the terminal.  \n",
    "1. \n",
    "```bash\n",
    "git branch _exercise_main && git checkout -b _temp\n",
    "```\n",
    "1. \n",
    "```bash\n",
    "echo \"abc\" > text.md && git add text.md && git commit -m \"Add abc to the first line\" &&\n",
    "echo \"def\" >> text.md && git add text.md && git commit -m \"Add def to the second line\" &&\n",
    "echo \"ghi\" >> text.md && git add text.md && git commit -m \"Add ghi to the third line\" &&\n",
    "echo \"jkl\" >> text.md && git add text.md && git commit -m \"Add jkl to the fourth line\"\n",
    "```\n",
    "1.  \n",
    "```bash\n",
    "git rebase -i HEAD~4\n",
    "```\n",
    "and edit the git-rebase-todo file as follows\n",
    "```bash\n",
    "pick 193caaf Add abc to the first line\n",
    "squash 49bdf42 Add def to the second line\n",
    "edit 02ea624 Add ghi to the third line\n",
    "drop 1da20a1 Add ghi to the fourth line\n",
    "```\n",
    "and conduct the rebase by \n",
    "    - performing the squash of 49bdf42 into 193caaf by changing the commit message to\n",
    "        \"Add abc to the first line and def to the second lin.\"\n",
    "    - During the edit of the third commit change text.md into\n",
    "```\n",
    "abc\n",
    "def\n",
    "jkl\n",
    "``` \n",
    "and then run ```git add```, ```git commend --amend```, change the commit message to \"Add jkl to the third line\" when your text editor is opened, and finally execute ```git rebase --continue```.\n",
    "\n",
    "4. ```bash\n",
    "git checkout _exercise_main &&\n",
    "git merge _temp &&\n",
    "git branch -d _temp\n",
    "```\n",
    "5. ```bash\n",
    "git checkout main && git branch -D _exercise_main\n",
    "```"
   ]
  },
  {
   "cell_type": "markdown",
   "id": "909337d1",
   "metadata": {
    "slideshow": {
     "slide_type": "slide"
    }
   },
   "source": [
    "## Exercise\n",
    "1. Create a new branch named by your name. Commit a text file name 'animal.txt' that contains the name of your favorite animal.\n",
    "1. Undo the previous commit use an interactive rebase so that 'animal.txt' contains your second favorite animal.\n",
    "1. Push 'animal.txt' to a remote with the same name.\n",
    "1. Assuming that the remote might be investigate by somebody else, undo the previous commit on the remote so that 'animal.txt' contains your favorite animal.\n",
    "1. Checkout to main and delete the local and remote branch named by your name."
   ]
  },
  {
   "cell_type": "markdown",
   "id": "793fa56b",
   "metadata": {
    "slideshow": {
     "slide_type": "slide"
    }
   },
   "source": [
    "**Solution**\n",
    "\n",
    "1. We start with committing animal.txt\n",
    "```bash\n",
    "git checkout -b my_name\n",
    "echo \"cat\" > animal.txt &&\n",
    "git add animal.txt && git commit -m \"Add animal.txt which contains my favorite animal\"\n",
    "```\n",
    "1. We start an interactive rebase using\n",
    "```bash\n",
    "git rebase -i HEAD~1\"\n",
    "```\n",
    "and edit the git-rebase-todo file as follows\n",
    "```bash\n",
    "edit 193caaf Add abc to the first line\n",
    "```\n",
    "and change animal.txt into\n",
    "```\n",
    "crocodile\n",
    "``` \n",
    "and then run ```git add```, ```git commend --amend```, change the commit message to \"Add animal.txt which contains my second favorite animal\" when your text editor is opened, and finally execute ```git rebase --continue```.\n",
    "1. We now push to the remote\n",
    "```bash\n",
    "git push -u origin my_name\n",
    "```\n",
    "1. Since the remote branch is not private you should not rebase your local branch and then push to the remote. Instead you should add a new commit to your local branch and then push the changes as follows.\n",
    "```bash\n",
    "rm animal.txt &&\n",
    "echo \"cat\" > animal.txt &&\n",
    "git add animal.txt && git commit -m \"Add animal.txt which contains my favorite animal\" &&\n",
    "git push\n",
    "```\n",
    "1.\n",
    "```bash\n",
    "git checkout main &&\n",
    "git push -d origin my_name &&\n",
    "git branch -D my_name\n",
    "```"
   ]
  },
  {
   "cell_type": "markdown",
   "id": "3d5a1016",
   "metadata": {
    "slideshow": {
     "slide_type": "slide"
    },
    "solution": "hidden"
   },
   "source": [
    "# Versioning Jupyter notebooks\n",
    "1. Check that your working directory is clean, i.e., you have no uncommitted changes.\n",
    "1. Checkout the (new) branch _jupytext. \n",
    "1. Create a .py script (with the same name) of this notebook .ipynb file using Jupytext.\n",
    "1. Commit the the .py script to Git.\n",
    "1. Execute the code cell above of the previous exercise.\n",
    "1. Run git status. Does it make sense to commit the change?\n",
    "1. Delete the code cell above in the .py script.\n",
    "1. Convert the .py script to a notebook.\n",
    "1. What does ```git status``` tell you? What changes should you commit?\n",
    "1. Delete the branch _temp."
   ]
  },
  {
   "cell_type": "markdown",
   "id": "828ff5f2",
   "metadata": {
    "slideshow": {
     "slide_type": "slide"
    }
   },
   "source": [
    "**Solution**:\n",
    "1. ```bash\n",
    "git checkout -b _temp\n",
    "```\n",
    "1. From the root directory of this project run\n",
    "```bash\n",
    "cd lecture_notes/1_version_control/\n",
    "&& jupytext --to py:percent --out 3_exercise.py 3_exercise_with_solution.ipynb\n",
    "```\n",
    "1. ```bash\n",
    "git add 3_exercise.py && commit -m \"add .py script of lecture_notes/1_version_control/3_exercise.ipynb\"\n",
    "```\n",
    "1. Executing the code cell should change the cell counter.\n",
    "1. After saving the notebook, ```git status``` shows that this notebook has been changed, but the .py script is unchanged.\n",
    "    - The notebook has been changed because the cell counter has increased, but this is no meanigful change.\n",
    "    - The .py script has not changed because it only contains the input of the notebooks cells (and the notebook meta data).\n",
    "    - Thus, we should not commit the change.  \n",
    "\n",
    "1. We now delete the following code cell in the .py script.\n",
    "```\n",
    "# %%\n",
    "print(\"\")\n",
    "```\n",
    "1. Run \n",
    "```bash\n",
    "jupytext --to notebook 3_exercise.py.py\n",
    "```\n",
    "to convert the .py script back to a notebook.\n",
    "1. Running ```git status```now shows that the .ipynb and .py file of the notebook have been changed. Since the .py file has been changed, the input of the notebook has been changed. Thus, we commit both the modified .iypnb and .py file.\n",
    "1. ```bash\n",
    "cd ../..\n",
    "&& git checkout main\n",
    "&& git branch -D _temp\n",
    "```"
   ]
  },
  {
   "cell_type": "markdown",
   "id": "2c0a0124",
   "metadata": {
    "slideshow": {
     "slide_type": "slide"
    }
   },
   "source": [
    "# DVC: TODO\n",
    "1. Set up your own Gdrive account.  \n",
    "1. Create a new git branch dvc_exercise and put all movies from ./data/dsc.db/broadcast that were broadcasted in 2018 into movies_2018.csv.\n",
    "1. Track movies_2018.csv with DVC.\n",
    "1. Push movies_2018.csv to your Gdrive account. \n",
    "1. Append all movies from ./data/dsc.db/broadcast that were broadcasted in 2019 to movies_2018.csv.\n",
    "1. Rename movies_2018.csv to movies_2018_2019.csv.\n",
    "1. Push movies_2018_2019.csv to your Gdrive account.\n",
    "1. Locate movies_2018.csv and movies_2018_2019.csv on your Gdrive account. \n",
    "1. Delete the last row of movies_2018_2019.csv on your Gdrive account.\n",
    "1. Pull the changes on your remote to your working space.\n",
    "1. Roll back to 4."
   ]
  },
  {
   "cell_type": "markdown",
   "id": "17c85b97",
   "metadata": {
    "slideshow": {
     "slide_type": "slide"
    }
   },
   "source": []
  },
  {
   "cell_type": "markdown",
   "id": "221ab1c6",
   "metadata": {},
   "source": [
    "# Unused: TODO"
   ]
  },
  {
   "cell_type": "markdown",
   "id": "0d82a403",
   "metadata": {},
   "source": [
    "## Exercise A"
   ]
  },
  {
   "cell_type": "markdown",
   "id": "60e83f10",
   "metadata": {},
   "source": [
    "1. Check that your working directory is clean, i.e., you have no uncommitted changes.\n",
    "1. Checkout the (new) branch _temp. \n",
    "2. Execute the next cell of this notebook (click into the cell and press enter)"
   ]
  },
  {
   "cell_type": "code",
   "execution_count": 36,
   "id": "ef7b7805",
   "metadata": {},
   "outputs": [
    {
     "name": "stdout",
     "output_type": "stream",
     "text": [
      "The current time is 2022-10-17 19:11:13\n"
     ]
    }
   ],
   "source": [
    "print(\"\")"
   ]
  },
  {
   "cell_type": "markdown",
   "id": "c191b375",
   "metadata": {},
   "source": [
    "3. Save the notebook.\n",
    "4. Run git status. Does it make sense to commit the change?\n",
    "4. Delete the branch _temp."
   ]
  },
  {
   "cell_type": "markdown",
   "id": "b505feae",
   "metadata": {},
   "source": [
    "**Solution**:\n",
    "1. ```bash\n",
    "git checkout -b _temp\n",
    "```\n",
    "2. Executing the code cell should change the cell counter.\n",
    "3. After saving the notebook, ```git status``` shows that this notebook has been changed. \n",
    "    - However, this change is only due to the cell counter increase and no meanigful change. \n",
    "    - Thus, we should not commit the change.\n",
    "4. ```bash\n",
    "git branch -D _temp\n",
    "```"
   ]
  }
 ],
 "metadata": {
  "celltoolbar": "Slideshow",
  "jupytext": {
   "comment_magics": false
  },
  "kernelspec": {
   "display_name": "Python [conda env:dsc]",
   "language": "python",
   "name": "conda-env-dsc-py"
  },
  "language_info": {
   "codemirror_mode": {
    "name": "ipython",
    "version": 3
   },
   "file_extension": ".py",
   "mimetype": "text/x-python",
   "name": "python",
   "nbconvert_exporter": "python",
   "pygments_lexer": "ipython3",
   "version": "3.10.6"
  },
  "rise": {
   "footer": "<h3>Dr. Fabian Spanhel</h3>",
   "header": "<h3>DSC: 1.3 EXERCISE</h3>"
  },
  "toc": {
   "base_numbering": 1,
   "nav_menu": {},
   "number_sections": true,
   "sideBar": true,
   "skip_h1_title": false,
   "title_cell": "Table of Contents",
   "title_sidebar": "Contents",
   "toc_cell": false,
   "toc_position": {},
   "toc_section_display": true,
   "toc_window_display": true
  }
 },
 "nbformat": 4,
 "nbformat_minor": 5
}
