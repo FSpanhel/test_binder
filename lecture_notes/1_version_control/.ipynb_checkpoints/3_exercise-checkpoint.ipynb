{
 "cells": [
  {
   "cell_type": "markdown",
   "id": "742d1974",
   "metadata": {
    "slideshow": {
     "slide_type": "slide"
    },
    "solution": "hidden"
   },
   "source": [
    "# Questions regarding next week's topic (Python project setup)"
   ]
  },
  {
   "cell_type": "markdown",
   "id": "4ee93064",
   "metadata": {
    "slideshow": {
     "slide_type": "-"
    }
   },
   "source": [
    "Click [here](https://partici.fi/26194946), or scan the QR code below, to answer the questions about setting up your Python project.\n",
    "<div align=\"center\">\n",
    "<img src=\"./figures/p_2.png\" alt=\"drawing\" width=\"1200\"/>\n",
    "</div>\n",
    "\n",
    "<div align=\"left\">\n",
    "<div/>"
   ]
  },
  {
   "cell_type": "markdown",
   "id": "2e31265b",
   "metadata": {
    "slideshow": {
     "slide_type": "slide"
    }
   },
   "source": [
    "# Git\n",
    "- Before you start with one exercise, verify that your **working directory is clean**, i.e., you have no uncommitted changes.\n",
    "- For the first three exercise you can run ```python3 -m dsc.version_control.exercise_git [<arg>]``` where arg can be first, second, or third, to set up the necessary commits in Git.\n",
    "- You can try to run ```python3 -m dsc.version_control.exercise_git reset``` to undo these commits. If this doesn't work you have to undo the commits manually.\n",
    "- Don't be afraid to use ```git status``` frequently to see on which branch you are and what changes Git is tracking."
   ]
  },
  {
   "cell_type": "markdown",
   "id": "732e9cfd",
   "metadata": {
    "slideshow": {
     "slide_type": "slide"
    }
   },
   "source": [
    "## Exercise\n",
    "Run ```python3 -m dsc.version_control.exercise_git first``` or the following commands in the terminal:\n",
    "```bash\n",
    "git checkout -b _target && echo '123' > a.py && git add a.py && git commit -m 'Add a.py' &&\n",
    "git checkout main &&\n",
    "git checkout -b _source && echo '123' > b.py && git add b.py && git commit -m 'Add b.py'\n",
    "```\n",
    "Have a look at the commit history/log (using ```git log``` or GitGraph in VSCode).  \n",
    "\n",
    "1) Perform operations so that the commit history looks as follows (note that the order of the last two commits is arbitary here and might be reversed in your GitGraph):  \n",
    "![commit history](./figures/0_exercise.png)\n",
    "<br>\n",
    "2) Run ```python3 -m dsc.version_control.exercise_git reset``` or checkout to main and delete all branches manually."
   ]
  },
  {
   "cell_type": "markdown",
   "id": "8a19dbf2",
   "metadata": {
    "slideshow": {
     "slide_type": "slide"
    }
   },
   "source": [
    "## Exercise\n",
    "Run ```python3 -m dsc.version_control.exercise_git second``` or the following commands in the terminal:\n",
    "```bash\n",
    "git checkout -b _target && echo '123' > a.py && git add a.py && git commit -m 'Add a.py' &&\n",
    "git checkout main &&\n",
    "git checkout -b _source && echo '123' > b.py && git add b.py && git commit -m 'Add b.py'\n",
    "```\n",
    "Have a look at the commit history/log (using ```git log``` or GitGraph in VSCode). \n",
    "\n",
    "1) Perform operations so that the log looks as follows:  \n",
    "![commit history](./figures/1_exercise.png)\n",
    "<br>\n",
    "2) Run ```python3 -m dsc.version_control.exercise_git reset``` or checkout to main and delete all branches manually."
   ]
  },
  {
   "cell_type": "markdown",
   "id": "ca6f2db0",
   "metadata": {
    "slideshow": {
     "slide_type": "slide"
    }
   },
   "source": [
    "## Exercise\n",
    "1. Create two new branches called _source and _target. Checkout _source.\n",
    "1. Add a **text.md** with the following commits:\n",
    "    - Add \"abc\" as first line and commit \"Add abc to the first line\".\n",
    "    - Add \"def\" as second line and commit \"Add def to the second line\".\n",
    "    - Add \"ghi\" as third line and commit \"Add ghi to the third line\".    \n",
    "    - Add \"jkl\" as fourth line and commit \"Add jkl to the fourth line\".\n",
    "    \n",
    "   Alternatively, you can run ```python3 -m dsc.version_control.exercise_git third``` to execute the commits but I recommend to do the commits manually at least once. \n",
    "<br><br>\n",
    "1. Do the following changes\n",
    "    1. Combine the first and second commit and adjust the commit message accordingly to \"Add abc to the first line and def to the second line\".   \n",
    "    1. Add \"jkl\" and not \"ghi\" as third line in the third commit.  \n",
    "    1. Drop the fourth commit.\n",
    "<br><br>\n",
    "1. Merge _source into _target and delete _source.\n",
    "1. Checkout to main and delete _target."
   ]
  },
  {
   "cell_type": "markdown",
   "id": "909337d1",
   "metadata": {
    "slideshow": {
     "slide_type": "slide"
    }
   },
   "source": [
    "## Exercise\n",
    "1. Create a new branch named by your name. \n",
    "1. Commit a text file name 'animal.txt' that contains the name of your favorite animal.\n",
    "1. Undo the previous commit using an interactive rebase so that 'animal.txt' contains your second favorite animal.\n",
    "1. Push 'animal.txt' to a remote with the same name.\n",
    "1. Assuming that the remote might be investigate by somebody else, undo the previous commit on the remote so that 'animal.txt' contains your favorite animal.\n",
    "1. Checkout to main and delete the local and remote branch named by your name."
   ]
  },
  {
   "cell_type": "markdown",
   "id": "3d5a1016",
   "metadata": {
    "slideshow": {
     "slide_type": "slide"
    }
   },
   "source": [
    "# Versioning Jupyter notebooks\n",
    "1. Checkout the (new) branch _jupytext. \n",
    "1. Create a .py script (with the same name) of this notebook .ipynb file using Jupytext.\n",
    "1. Commit the the .py script to Git.\n",
    "1. Execute the following code cell and save the notebook.\n",
    "1. Run git status. Does it make sense to commit the change?\n",
    "1. Delete the following code cell below.\n",
    "1. Convert the modified notebook .ipynb file again to a .py script (with the same name) using Jupytext.\n",
    "1. What does ```git status``` tell you? What changes should you commit?\n",
    "1. Delete the branch _temp."
   ]
  },
  {
   "cell_type": "code",
   "execution_count": 1,
   "id": "8bdf3057",
   "metadata": {},
   "outputs": [
    {
     "data": {
      "text/plain": [
       "1"
      ]
     },
     "execution_count": 1,
     "metadata": {},
     "output_type": "execute_result"
    }
   ],
   "source": [
    "# code cell\n",
    "1"
   ]
  },
  {
   "cell_type": "markdown",
   "id": "2c0a0124",
   "metadata": {
    "slideshow": {
     "slide_type": "slide"
    }
   },
   "source": [
    "# DVC\n",
    "1. Set up your own Gdrive account. You can share files of this Gdrive with spanhel@hm.edu.\n",
    "1. Create a new git branch _dvc_exercise\n",
    "1. Using the broadcast table of data/dsc.db, put all distinct movie titles that were broadcasted in 2018 into movies_2018.csv which you save in data/.\n",
    "1. Track movies_2018.csv with DVC and Git.\n",
    "1. Push movies_2018.csv to your Gdrive account. \n",
    "1. Overwrite movies_2018.csv with all distinct movie titles from the broadcast table of data/dsc.db that were broadcasted in 2018 and 2019.\n",
    "1. Rename movies_2018.csv to movies_2018_2019.csv.\n",
    "1. Push movies_2018_2019.csv to your Gdrive account.\n",
    "1. Locate movies_2018.csv and movies_2018_2019.csv on your Gdrive account.\n",
    "1. Roll back to 4.\n",
    "1. Checkout to main and tidy up."
   ]
  }
 ],
 "metadata": {
  "celltoolbar": "Tags",
  "jupytext": {
   "comment_magics": false
  },
  "kernelspec": {
   "display_name": "Python [conda env:dsc]",
   "language": "python",
   "name": "conda-env-dsc-py"
  },
  "language_info": {
   "codemirror_mode": {
    "name": "ipython",
    "version": 3
   },
   "file_extension": ".py",
   "mimetype": "text/x-python",
   "name": "python",
   "nbconvert_exporter": "python",
   "pygments_lexer": "ipython3",
   "version": "3.10.6"
  },
  "rise": {
   "footer": "<h3>Dr. Fabian Spanhel</h3>",
   "header": "<h3>DSC: 1.3 EXERCISE</h3>"
  },
  "toc": {
   "base_numbering": 1,
   "nav_menu": {},
   "number_sections": true,
   "sideBar": true,
   "skip_h1_title": false,
   "title_cell": "Table of Contents",
   "title_sidebar": "Contents",
   "toc_cell": false,
   "toc_position": {
    "height": "calc(100% - 180px)",
    "left": "10px",
    "top": "150px",
    "width": "384px"
   },
   "toc_section_display": true,
   "toc_window_display": true
  }
 },
 "nbformat": 4,
 "nbformat_minor": 5
}
