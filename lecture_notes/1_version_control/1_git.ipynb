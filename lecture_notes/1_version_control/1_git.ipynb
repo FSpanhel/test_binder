{
 "cells": [
  {
   "cell_type": "code",
   "execution_count": 3,
   "metadata": {
    "slideshow": {
     "slide_type": "notes"
    }
   },
   "outputs": [],
   "source": [
    "import os\n",
    "\n",
    "from dsc.notebook import embed_website"
   ]
  },
  {
   "cell_type": "markdown",
   "metadata": {
    "slideshow": {
     "slide_type": "slide"
    }
   },
   "source": [
    "# Intro\n",
    "<div align=\"left\">\n",
    "<img src=\"https://imgs.xkcd.com/comics/git.png\" alt=\"Git...\" width=600/>\n",
    "<div/>\n",
    "<div align=\"left\">\n",
    "<div/>"
   ]
  },
  {
   "cell_type": "markdown",
   "metadata": {
    "slideshow": {
     "slide_type": "slide"
    }
   },
   "source": [
    "<div align=\"left\">\n",
    "<img src=\"./figures/git_intro.png\" alt=\"Dropbox\" width=1200/>\n",
    "<div/>\n",
    "<div align=\"left\">\n",
    "<div/>"
   ]
  },
  {
   "cell_type": "markdown",
   "metadata": {
    "slideshow": {
     "slide_type": "slide"
    }
   },
   "source": [
    "## Prerequisites and scope\n",
    "- It is assumed that you know the **basics of Git**\n",
    "    - Adding and committing changes to Git\n",
    "    - Working with remotes, e.g., the difference between fetch and pull\n",
    "    - Working with branches, e.g., checkout branches and merging\n",
    "- If you lack some knowledge or want to deepen you knowledge please have a look at the [resources](#Resources)\n",
    "- This chapter starts with **minor notes on Git that might be helpful**.\n",
    "- We then discuss how to make **good commits**\n",
    "    - How to write good commit messages.\n",
    "    - How to do atomic commits.\n",
    "    - How to rebase your commits to integrate changes of another branch.\n",
    "    - How to use an interactive rebase to obtain a concise commit history.\n",
    "- Finally, we consider Git workflows and how to version Jupyter notebooks.\n",
    "- If you want to know how to use a Git management application with Git please have a look at [lecture_notes/1_collaboration_and_project_management/1_collaboration_and_project_management.ipynb](../1_collaboration_and_project_management/1_collaboration_and_project_management.ipynb)"
   ]
  },
  {
   "cell_type": "markdown",
   "metadata": {
    "slideshow": {
     "slide_type": "skip"
    }
   },
   "source": [
    "<!--\n",
    "\n",
    "## How did Git get its name?\n",
    "\n",
    "Source: https://initialcommit.com/blog/How-Did-Git-Get-Its-Name\n",
    "\n",
    "\n",
    "- When Linus Torvalds made his initial commit of Git's code on April 7th 2005, he supplied the commit message:  \n",
    "    ```Initial revision of \"git\", the information manager from hell```\n",
    "    \n",
    "- In this commit, he included a file called README. The first paragraph in this file reads:\n",
    "\n",
    "```\n",
    "GIT - the stupid content tracker\n",
    "\n",
    "\"git\" can mean anything, depending on your mood.\n",
    "\n",
    " - random three-letter combination that is pronounceable, and not \n",
    "   actually used by any common UNIX command.  The fact that it is a\n",
    "   mispronunciation of \"get\" may or may not be relevant.\n",
    " - stupid. contemptible and despicable. simple. Take your pick from the \n",
    "   dictionary of slang.\n",
    " - \"global information tracker\": you're in a good mood, and it actually\n",
    "   works for you. Angels sing, and a light suddenly fills the room. \n",
    " - \"goddamn idiotic truckload of sh*t\": when it breaks\n",
    "\n",
    "This is a stupid (but extremely fast) directory content manager.  It  \n",
    "doesn't do a whole lot, but what it _does_ do is track directory\n",
    "contents efficiently.\n",
    "```\n",
    "\n",
    "- First commit of Git: https://bitbucket.org/jacobstopak/baby-git/src/master/\n",
    "- Written in the C programming language and consists of about 1,000 lines of code and a total of 7 commands\n",
    "\n",
    "-->"
   ]
  },
  {
   "cell_type": "markdown",
   "metadata": {
    "slideshow": {
     "slide_type": "slide"
    }
   },
   "source": [
    "## Master vs. main\n",
    "\n",
    "- Historically, Git has named the initial branch master.\n",
    "\n",
    "- The master/slave terminology has a [long history in computing](https://en.wikipedia.org/wiki/Master/slave_(technology)), especially in reference to hardware such as disk drives. \n",
    "- Other version control systems such as BitKeeper, a predecessor to Git, have used this terminology.\n",
    "- This terminology is somewhat outdated as it is associated with colonialism.\n",
    "- Current versions of Git (>= 2.28) display the following message when you create a new repository using git init:  \n",
    "    ```Using 'master' as the name for the initial branch. This default branch name is subject to change. To configure the initial branch name to use in all of your new repositories, which will suppress this warning, call: git config --global init.defaultBranch <name> Names commonly chosen instead of 'master' are 'main', 'trunk' and 'development'. The just-created branch can be renamed via this command: git branch -m <name>```\n",
    "- Git maintainers are [actively working](https://lore.kernel.org/git/pull.656.v4.git.1593009996.gitgitgadget@gmail.com/) toward a permanent change for the default name from master to main\n"
   ]
  },
  {
   "cell_type": "markdown",
   "metadata": {
    "slideshow": {
     "slide_type": "subslide"
    }
   },
   "source": [
    "**Git providers**\n",
    "- Starting [October 1 2020](https://github.blog/changelog/2020-10-01-the-default-branch-for-newly-created-repositories-is-now-main/), the initial branch name of **new GitHub repositories** is main.\n",
    "- Since [May 24 2021](https://about.gitlab.com/blog/2021/03/10/new-git-default-branch-name/), the initial branch the name of **new GitLab repositorries** is main.\n",
    "- Thus, any new project that its hosted on GitHub or GitLab and expects a master branch might run into problems.\n",
    "- Therefore, I recommend to rename the initial branch to main if you use git init and not get clone."
   ]
  },
  {
   "cell_type": "markdown",
   "metadata": {
    "slideshow": {
     "slide_type": "subslide"
    }
   },
   "source": [
    "- Git 2.28, released in July 2020, added init.defaultBranch to the configuration\n",
    "- This allows to name the name of the default branch other than master, e.g.,  \n",
    "    ```git config --global init.defaultBranch main ```\n",
    "- Alternatively, one can manually rename master each time you have initialized a repo and made the first commit using  \n",
    "```git branch -m main```  \n",
    "- Or just run  ```git checkout -b main``` after initializing a repo but before the first commit\n",
    "to switch the unborn branch name to main\n",
    "- For renaming a remote branch see [here](https://stackoverflow.com/questions/30590083/how-do-i-rename-both-a-git-local-and-remote-branch-name)."
   ]
  },
  {
   "cell_type": "markdown",
   "metadata": {
    "slideshow": {
     "slide_type": "slide"
    }
   },
   "source": [
    "## GUIs and tools that facilitate the working with Git\n",
    "- While I think it is very useful if one can perform essential Git operations in the terminal, there are tools that make working with Git and learning Git much more enjoyable. \n",
    "- In particular, a tool might come in very handy, if you want to\n",
    "    - Investigate the commit history\n",
    "    - Compare changes between commits\n",
    "    - Compare differences between your working directory and the current commit\n",
    "    - Merge commits\n",
    "    - Want to visualizes commits across different branches  \n",
    "\n"
   ]
  },
  {
   "cell_type": "markdown",
   "metadata": {
    "slideshow": {
     "slide_type": "slide"
    }
   },
   "source": [
    "### General GUIs\n",
    "- [GitKraken](https://www.gitkraken.com/)\n",
    "- [SourceTree](https://www.sourcetreeapp.com/)\n",
    "- ..."
   ]
  },
  {
   "cell_type": "markdown",
   "metadata": {
    "slideshow": {
     "slide_type": "slide"
    }
   },
   "source": [
    "### VSCode\n",
    "- VSCode has a fairly minimal Git integration by default.\n",
    "- But there are a [lot of extensions](https://dev.to/jamieswift90/the-best-vs-code-extensions-to-supercharge-git-yes-there-s-more-than-gitlens-4588) to make using Git more comfortable\n",
    "- In particular, [GitLens](https://gitlens.amod.io/) and [GitGraph](https://marketplace.visualstudio.com/items?itemName=mhutchie.git-graph) are very helpful (more information on the next slides)"
   ]
  },
  {
   "cell_type": "markdown",
   "metadata": {
    "slideshow": {
     "slide_type": "subslide"
    }
   },
   "source": [
    "    \n",
    "**GitLens** (by GitKraken)\n",
    "- GitLens is with over 17 millions installs (September 2022) and the most popular extension for working with Git in VS Code. \n",
    "    - Revision navigation\n",
    "    - Current line blame\n",
    "    - Side Bar views\n",
    "    - interactive rebase editor\n",
    "    - Commit Graph (only + version)\n",
    "- Resources:\n",
    "    - [Official website](https://gitlens.amod.io/)\n",
    "    - [Tips on utilizing features](https://www.reddit.com/r/vscode/comments/ueydoi/gitlens_is_by_far_my_favorite_vs_code_extension/?utm_source=share&utm_medium=ios_app&utm_name=iossmf)"
   ]
  },
  {
   "cell_type": "markdown",
   "metadata": {
    "slideshow": {
     "slide_type": "subslide"
    }
   },
   "source": [
    "**GitGraph**\n",
    "- GitGraph (over 3 millions installs September 2022) provides a commit graph of your repository, and easily performs Git actions from the graph. \n",
    "- It is very useful if you don't have the GitLens +.\n",
    "- Note that, especially if you rebase you may have to manually refresh GitGraph so that the correct graph is shown (!).\n",
    "- [Download extension](https://marketplace.visualstudio.com/items?itemName=mhutchie.git-graph)\n",
    "\n",
    "**GItHistory**\n",
    "- An alternative to GitLens with less features.\n",
    "- [Download extension](https://marketplace.visualstudio.com/items?itemName=donjayamanne.githistory)"
   ]
  },
  {
   "cell_type": "code",
   "execution_count": null,
   "metadata": {},
   "outputs": [],
   "source": [
    "### Git"
   ]
  },
  {
   "cell_type": "markdown",
   "metadata": {
    "slideshow": {
     "slide_type": "slide"
    }
   },
   "source": [
    "### Le-git\n",
    "[Le-git](https://frostming.github.io/legit/) is a complementary command-line interface for Git.\n",
    "It simplifies the use of Git for newcomers by making certain assumptions about the Git workflow."
   ]
  },
  {
   "cell_type": "markdown",
   "metadata": {
    "slideshow": {
     "slide_type": "slide"
    }
   },
   "source": [
    "### Python APIs\n",
    "- [GitPython](https://gitpython.readthedocs.io/en/stable/tutorial.html) enables you to use Python to interact with Git repositories.\n",
    "- [Python-GitLab](https://github.com/python-gitlab/python-gitlab) is python wrapper for the GitLab API."
   ]
  },
  {
   "cell_type": "markdown",
   "metadata": {
    "slideshow": {
     "slide_type": "slide"
    }
   },
   "source": [
    "### Git filter-repo\n",
    "- [git filter-repo](https://github.com/newren/git-filter-repo) rewrites Git history and filters repository content.\n",
    "- It is primarily used for creating smaller or more focused repositories from larger ones.\n",
    "- For instance, assume your repo structure looks like\n",
    "    ```bash\n",
    "    src/package\n",
    "       foo.py\n",
    "    other/\n",
    "       config.yaml\n",
    "   ```\n",
    "- Using git filter-repo you can filter the repo as follows\n",
    "    ```bash\n",
    "   foo.py\n",
    "    ```\n",
    "- In this new repo structure, the commit history is adjusted accordingly\n",
    "    - Commits that are not related to `foo.py` are discarded and commits that involve `foo.py` and other files are adjusted\n",
    "- More examples are available in the examples section of the [documentation](https://htmlpreview.github.io/?https://github.com/newren/git-filter-repo/blob/docs/html/git-filter-repo.html).\n"
   ]
  },
  {
   "cell_type": "markdown",
   "metadata": {
    "slideshow": {
     "slide_type": "slide"
    }
   },
   "source": [
    "## How to change the default editor\n",
    "- The default editor that Git uses is Vim which you probably don't want to use. \n",
    "<div align=\"left\">\n",
    "<img src=\"./figures/vim.png\" alt=\"Vim\" width=600 height=100/>\n",
    "<div/>\n",
    "<div align=\"left\">\n",
    "<div/>\n",
    "- To change the default editor run in the terminal\n",
    "\n",
    "```bash\n",
    "git config --global core.editor 'code --wait' # code (for VSCode), or e.g., nano, pycharm or full path to executable\n",
    "```\n"
   ]
  },
  {
   "cell_type": "markdown",
   "metadata": {
    "slideshow": {
     "slide_type": "slide"
    }
   },
   "source": [
    "## Git alias\n",
    "- Defining Git aliases shortens frequently used commands and simplifies long commands with many options.\n",
    "- Git aliases are created through the git config command or Git configuration files.\n",
    "- For instance, to globally create the alias git st for git status\n",
    "    - Run ```git config --global alias.st 'status'``` in the terminal\n",
    "    - Or edit ~/.gitconfig (on unix-like systems)\n",
    "- You can also use shell commands in aliases using !, e.g., ```git config --global alias.list '!ls -a | head -n 4'```\n",
    "- You can also create aliases in your favorite shell using 'alias gs='git status', however\n",
    "    - The alias is bound to the shell.\n",
    "    - May pollute shell commands."
   ]
  },
  {
   "cell_type": "markdown",
   "metadata": {
    "slideshow": {
     "slide_type": "subslide"
    }
   },
   "source": [
    "**Some useful git aliases**\n",
    "\n",
    "```bash\n",
    "# show all aliases\n",
    "git config --global alias.alias \"! git config --get-regexp ^alias\\. | sed -e s/^alias\\.// -e s/\\ /\\ =\\ /\";\n",
    "\n",
    "# config\n",
    "git config --global alias.clv 'config --list --show-origin'; # verbose overview of config\n",
    "\n",
    "# status\n",
    "git config --global alias.st 'status';\n",
    "git config --global alias.stc 'status -sb'; # concise git status, does not show untracked files\n",
    "git config --global alias.ftst '!git fetch && git status';  # in principle, you should always fetch before getting the status\n",
    "\n",
    "# log\n",
    "git config --global alias.lo 'log --oneline'; # concise log\n",
    "git config --global alias.lc 'log -1 HEAD --stat'; # details about the last commit \n",
    "git config --global alias.lg 'log --graph --oneline --decorate'; # simple and concise log graph which also shows branches\n",
    "git config --global alias.lgv \"log --graph --pretty='format:%C(red)%d%C(reset) %C(yellow)%h%C(reset) %cd %C(green)%aN%C(reset) %s'  --date=format:'%a %y-%m-%d %H:%M'\"; # verbose log graph with date and author\n",
    "```"
   ]
  },
  {
   "cell_type": "markdown",
   "metadata": {
    "slideshow": {
     "slide_type": "subslide"
    }
   },
   "source": [
    "**Some useful git aliases cont'd**\n",
    "```bash\n",
    "# changing\n",
    "git config --global alias.cm 'commit -m';\n",
    "git config --global alias.rbi 'rebase -i';\n",
    "git config --global alias.cmad 'git commit --amend --date \"$(date)\"';  # set date of current commit to today, useful for rebase\n",
    "\n",
    "# checkout and branches\n",
    "git config --global alias.cob 'checkout -b';\n",
    "git config --global alias.com 'checkout main';\n",
    "git config --global alias.br branch;\n",
    "git config --global alias.brr 'branch -r';\n",
    "git config --global alias.co checkout;\n",
    "git config --global alias.brst \"branch --format='%(HEAD) %(color:yellow)%(refname:short)%(color:reset) - %(contents:subject) %(color:green)(%(committerdate:relative)) [%(authorname)]' --sort=-committerdate\"; # show last commit of each branch\n",
    "git config --global alias.brdm \"!git branch --merged | grep -v '*' | xargs -n 1 git branch -d\"; # delete all merged branches\n",
    "\n",
    "# merge\n",
    "git config --global alias.mg 'merge';\n",
    "git config --global alias.mgff 'merge --ff-only';  # abort if no fast-forward merge is possible \n",
    "git config --global alias.mgnoff 'merge --no-ff'; # always perform 3-way merge\n",
    "git config --global alias.mgi 'merge --no-ff --no-commit'; # 'interactive' 3-way merge, i.e., add merged files to the staging are but do not commit, useful for inspecting changes (note that --no-commit has no no effect if --no-ff is ommitted and ff is possible)\n",
    "git config --global alias.ma 'merge --abort';\n",
    "git config --global alias.mc 'merge --continue';\n",
    "\n",
    "# remote\n",
    "git config --global alias.ft 'fetch -p';  # fetch and prune \n",
    "git config --global alias.pl 'pull'; \n",
    "git config --global alias.plff 'pull --ff-only'; # abort if no fast-forward merge is possible\n",
    "git config --global alias.plr 'pull --rebase'; # do not merge but rebase after fetch\n",
    "git config --global alias.ipl 'pull --no-ff --no-commit'; # inspect and further tweak the merge result before merging (it is not recommend to finish the merge if a ff would be possible due to the creation of a new commit, use git merge --abort to abort the merge)\n",
    "```"
   ]
  },
  {
   "cell_type": "markdown",
   "metadata": {
    "slideshow": {
     "slide_type": "slide"
    }
   },
   "source": [
    "## Why use branches?\n",
    "- In short, branches in Git provide a powerful mechanism for managing and organizing your codebase, enabling efficient collaboration and development while maintaining version control.\n",
    "    - Isolation: A particular feature can be developed without affecting the main codebase.\n",
    "        - Organization: Branches can help you to structure your development tasks. \n",
    "        - Rewriting: Interactive rebases are simpler and safer to perform.\n",
    "        - Experimentation: You can create branches to experiment with new ideas or test changes without affecting the main code. If the experiment fails, you can simply discard the branch.\n",
    "    - Parallelization: Multiple team members can work on different branches simultaneously.\n",
    "    - Collaboration: Pull and merge requests are possible to initiate discussions and code reviews before new code is integrating into the main codebase.\n",
    "\n",
    "\n",
    "- Note that you can always make a backup of the currently checked out branch by executing the command `git branch [name of the backup]`\n",
    "    - This is particulary useful if you want to perform an interactive rebase of a branch"
   ]
  },
  {
   "cell_type": "markdown",
   "metadata": {
    "slideshow": {
     "slide_type": "skip"
    }
   },
   "source": [
    "<!--\n",
    "## Naming branches\n",
    "- Use [kebab-case](https://en.wikipedia.org/wiki/Letter_case#Kebab_case) for formatting branch names.\n",
    "- You can also use forward slashes to express hierarchies, e.g., `milestone-1/6-feature-branch`.\n",
    "- If the branch name does not start with a corresponding issue of a Git management application, use a descriptive name for the branch.\n",
    "    - Click [here](https://stackoverflow.com/a/11886179) if you want to want to add a describtion to a local branch. However, referring to issues is a better way.\n",
    "-->"
   ]
  },
  {
   "cell_type": "markdown",
   "metadata": {
    "slideshow": {
     "slide_type": "slide"
    }
   },
   "source": [
    "## Resources\n",
    "- [One of best introductions to using Git by Atlassian](https://www.atlassian.com/git/tutorials/what-is-version-control)\n",
    "- [Official website](https://git-scm.com/about)\n",
    "- [The pro Git book](https://git-scm.com/book/en/v2)\n",
    "- [A visual Git reference](https://marklodato.github.io/visual-git-guide/index-en.html)\n",
    "- Interactive games:\n",
    "    - https://ohmygit.org/: needs installation\n",
    "    - https://learngitbranching.js.org: very nice to learn branching\n",
    "- [Cheat sheet](https://wac-cdn.atlassian.com/dam/jcr:e7e22f25-bba2-4ef1-a197-53f46b6df4a5/SWTM-2088_Atlassian-Git-Cheatsheet.pdf?cdnVersion=543)"
   ]
  },
  {
   "cell_type": "code",
   "execution_count": 4,
   "metadata": {
    "slideshow": {
     "slide_type": "subslide"
    }
   },
   "outputs": [
    {
     "data": {
      "text/html": [
       "\n",
       "        <iframe\n",
       "            width=\"900\"\n",
       "            height=\"500\"\n",
       "            src=\"https://learngitbranching.js.org/?locale=de_DE&NODEMO\"\n",
       "            frameborder=\"0\"\n",
       "            allowfullscreen\n",
       "            \n",
       "        ></iframe>\n",
       "        "
      ],
      "text/plain": [
       "<IPython.lib.display.IFrame at 0x7f8a96f3d2d0>"
      ]
     },
     "execution_count": 4,
     "metadata": {},
     "output_type": "execute_result"
    }
   ],
   "source": [
    "embed_website(\"https://learngitbranching.js.org/?locale=de_DE&NODEMO\")"
   ]
  },
  {
   "cell_type": "markdown",
   "metadata": {
    "slideshow": {
     "slide_type": "slide"
    }
   },
   "source": [
    "# Making good commits\n",
    "- You don't need to care about the content of your commits and their messages if you \n",
    "    - Never look back.\n",
    "    - Don't use ```git log```.\n",
    "    - Don't collaborate.\n",
    "- However, if you are interested in why something happened and want to maintain a project over a long period of time, you should definitely try to\n",
    "    - Write [good commit messages]((https://cbea.ms/git-commit/).\n",
    "    - Make [atomic commits](https://www.freshconsulting.com/insights/blog/atomic-commits/).\n",
    "    - Rebase to tidy up your commit history."
   ]
  },
  {
   "cell_type": "markdown",
   "metadata": {
    "slideshow": {
     "slide_type": "slide"
    }
   },
   "source": [
    "## Writing commit messages"
   ]
  },
  {
   "cell_type": "markdown",
   "metadata": {
    "slideshow": {
     "slide_type": "-"
    }
   },
   "source": [
    "- Recall that using Git alone does not result in good version control...\n",
    "<div align=\"left\">\n",
    "<img src=\"./figures/vc_intro_commitstrip.png\" alt=\"VC\" width=700/>\n",
    "<div/>"
   ]
  },
  {
   "cell_type": "markdown",
   "metadata": {
    "slideshow": {
     "slide_type": "slide"
    }
   },
   "source": [
    "- Like naming variables, writing good commit messages is hard and often neglected. \n",
    "- [How to Write a Git Commit Message](https://cbea.ms/git-commit/): \"A well-crafted Git commit message is the best way to communicate context about a change to fellow developers (and indeed to their future selves). A diff will tell you what changed, but only the commit message can properly tell you why.\"\n",
    "- [Peter Hutterer](http://who-t.blogspot.com/2009/12/on-commit-messages.html): \"A commit message shows whether a developer is a good collaborator\".\n",
    "- Writing descriptive commit messages is crucial for code reviews and future development.\n",
    "- There are two popular style guidelines for writing good Git commit messages.\n",
    "    - [\"7 rules of commit messages\"](https://cbea.ms/git-commit/)\n",
    "    - [Convential commits](https://www.conventionalcommits.org/en/v1.0.0/) which are useful for developing software and [semantic versioning](https://semver.org/). See [here](https://medium.com/neudesic-innovation/conventional-commits-a-better-way-78d6785c2e08) and [here](https://nitayneeman.com/posts/understanding-semantic-commit-messages-using-git-and-angular/) for more information.\n",
    "- Both styles are almost identical except for the subject line.\n",
    "- https://confluence.atlassian.com/fisheye/using-smart-commits-960155400.html\n",
    "- We will consider the \"standard\" style in this course."
   ]
  },
  {
   "cell_type": "markdown",
   "metadata": {
    "slideshow": {
     "slide_type": "slide"
    }
   },
   "source": [
    "- According to the [\"7 rules of commit messages\"](https://cbea.ms/git-commit/) you should consider the following points when writing a commit message.\n",
    "- Separate the subject from the (optional) body with a blank line\n",
    "- The subject line should be\n",
    "    - Capitalized\n",
    "    - Limited to 50 characters (72 is the hard limit)\n",
    "    - Not be ended with a period\n",
    "    - Written in the imperative (which is Git's convention, e.g., ```Merge branch x into y```)\n",
    "- Wrap the body at 72 characters\n",
    "- If required, use the body to explain\n",
    "    - What is done in the commit.\n",
    "    - Why it is done.\n",
    "    - Why you chose this way and no other.  \n",
    "- If possible, **refer to a pull/merge request, issue, or comment** that explains the commit in more detail."
   ]
  },
  {
   "cell_type": "markdown",
   "metadata": {
    "slideshow": {
     "slide_type": "slide"
    }
   },
   "source": [
    "- An example:\n",
    "    \n",
    "```\n",
    "Add load and store functions to the data module\n",
    "\n",
    "If we modularize the notebook into scripts, we need functions that\n",
    "store and load processed data.\n",
    "The pyscaffold_test.data module has been extended by these functions\n",
    "so that\n",
    "- scripts/fit.py stores the data that it processes.\n",
    "- scripts/predict.py loads the processed data.\n",
    "\n",
    "Resolves: #4\n",
    "```"
   ]
  },
  {
   "cell_type": "markdown",
   "metadata": {
    "slideshow": {
     "slide_type": "slide"
    }
   },
   "source": [
    "- When writing commit messages with a body, you should use ```git commit``` to open the text editor and not ```git commit -m```\n",
    "- The subject line of a commit is displayed in GitHub/GitLab or if you use ```git log --oneline```\n",
    "- There are also some [VsCode extensions](https://zhauniarovich.com/post/2020/2020-03-using-vscode-as-git-editor/) that help to format a commit message.\n",
    "- To assign a commit to an author it is important that you configure Git in your project repo to use \n",
    "    - As ```user.email``` your @hm.edu eMail.\n",
    "    - As ```user.name``` your first name followed by your last name, e.g, Fabian Spanhel. \n",
    "    - The `user.name` should be identical to your profile name on GitLab."
   ]
  },
  {
   "cell_type": "markdown",
   "metadata": {
    "slideshow": {
     "slide_type": "slide"
    }
   },
   "source": [
    "## The initial commit\n",
    "- The initial commit should contain now files or only generic project files like a `README.md` or a `.gitignore` file.\n",
    "- Personally, I like to make an empty initial commit using `git commit --allow-empty`since this makes it easier to rewrite the history\n",
    "- The commit message for the initial commit should be \"Initial commit\""
   ]
  },
  {
   "cell_type": "markdown",
   "metadata": {
    "slideshow": {
     "slide_type": "slide"
    }
   },
   "source": [
    "## Doing [atomic commits](https://www.aleksandrhovhannisyan.com/blog/atomic-git-commits/) \n",
    "\n",
    "- Avoid being lazy and making a single comprehensive commit for all your day's work or completing your entire project in one go before committing.\n",
    "- Instead, make atomic commits.\n",
    "- **Atomic commits are tiny, focused commits. Each should achieve a single, simple task, regardless of the edited code's size, which can be described in one short sentence**.\n",
    "- That is,\n",
    "    - Keep commits as small as possible, with each commit dedicated to a single, straightforward task that can be explained in a concise sentence.\n",
    "    - The size of the code change is irrelevant. Whether it's a minor edit or a substantial modification spanning thousands of lines, it should be summarizable in a brief sentence.\n",
    "    - Don't base commit scope on individual files. It's both possible and frequently beneficial to commit multiple files together in Git.\n",
    "    - If possible, a commit should leave the code in a workable state.\n",
    "   \n",
    "- As a result, the Git commit history becomes cleaner and so easier to understand and to revert."
   ]
  },
  {
   "cell_type": "markdown",
   "metadata": {
    "slideshow": {
     "slide_type": "slide"
    }
   },
   "source": [
    "While the idea of atomic commits may sound obvious, applying them requires practicing and consistent application."
   ]
  },
  {
   "cell_type": "markdown",
   "metadata": {
    "slideshow": {
     "slide_type": "-"
    }
   },
   "source": [
    "How can I make atomic commits in practice?\n",
    "- When working with Git, do not start by making some code changes and then think about what should be committed to Git.\n",
    "- Instead, begin with thinking about the atomic commits you want do and then edit the code correspondigly.\n",
    "<!-- - Each commit achieves a single task that can be described in one short sentence.-->\n",
    "- Ideally, you start your work by opening a text file in which you write the subject lines of the messages for the commits you want to perform.\n",
    "- When you edit the code for the next commit you can add more information below the corresponding subject line which will later become the body of the commit message.\n",
    "- You can then use this text file to write the next commit message."
   ]
  },
  {
   "cell_type": "markdown",
   "metadata": {
    "slideshow": {
     "slide_type": "-"
    }
   },
   "source": [
    "It may not always be possible to make atomic commits in the first try.\n",
    "- For instance, one makes one commit to add the `environment.yml` file and only later finds out that an additional package is required.\n",
    "- In this case, you can use an interactive rebase to edit your commit history afterwards to make the commits atomic."
   ]
  },
  {
   "cell_type": "markdown",
   "metadata": {
    "slideshow": {
     "slide_type": "slide"
    }
   },
   "source": [
    "### Exercise: Make atomic commits [#TODO]\n",
    "- In your personal folder that you have created in [#TODO insert link]\n",
    "- Add two files named blabla that has the content blabla.\n",
    "- The README.md should contain section #files that gives a description of these files."
   ]
  },
  {
   "cell_type": "markdown",
   "metadata": {
    "slideshow": {
     "slide_type": "slide"
    }
   },
   "source": [
    "## Rebase the commits of your feature branch\n",
    "- With rebase you can **use another branch or commit as the new base** for your work.\n",
    "- Like merge it **integrate changes from one branch into another branch** - just in a very different way\n",
    "- In combination with fast-forward merges, this \n",
    "    - Allows for a linear commit history \n",
    "    - Eliminates the possibly superfluous 3-way merge commit (depends on the use case and preferences)\n",
    "    - Makes it easier to navigate your project with commands like git log or git bisect.\n",
    "- If used **interactively**, rebase allows you to **rewrite history and tidy up commits** before integrating them in another branch.\n",
    "- A concise commit history is helpful for understanding and reviewing changes.\n",
    "- However, you should rebase only on your own private branch but not on public branches, see the [golden rule of rebasing](https://www.atlassian.com/git/tutorials/merging-vs-rebasing#the-golden-rule-of-rebasing).\n",
    "- To illustrate the use of rebase, let's consider a motivating example."
   ]
  },
  {
   "cell_type": "markdown",
   "metadata": {
    "slideshow": {
     "slide_type": "slide"
    }
   },
   "source": [
    "### Motivation"
   ]
  },
  {
   "cell_type": "markdown",
   "metadata": {
    "slideshow": {
     "slide_type": "subslide"
    }
   },
   "source": [
    "Assume your main branch is '_target' and contains the main application for your very secret project.\n",
    "```bash\n",
    "git checkout -b _target &&\n",
    "echo \"print(1)\" > main.py &&\n",
    "git add main.py && git commit -m \"add main.py\";\n",
    "```"
   ]
  },
  {
   "cell_type": "markdown",
   "metadata": {
    "slideshow": {
     "slide_type": "fragment"
    }
   },
   "source": [
    "To create a module for your main program you checkout the branch '_messy_branch'.\n",
    "```bash\n",
    "git checkout -b _messy_branch &&\n",
    "echo 'print(\"this is the frist line\")' > module_a.py &&\n",
    "git add module_a.py && git commit -m \"add module_a.py\";\n",
    "```"
   ]
  },
  {
   "cell_type": "markdown",
   "metadata": {
    "slideshow": {
     "slide_type": "fragment"
    }
   },
   "source": [
    "You recognize the spelling error in module_a.py and correct it.\n",
    "```bash\n",
    "rm messy_readme.md &&\n",
    "echo 'print(\"this is the first line\")' > module_a.py &&\n",
    "git add module_a.py && git commit -m \"fix spelling error in module_a.py\";\n",
    "```"
   ]
  },
  {
   "cell_type": "markdown",
   "metadata": {
    "slideshow": {
     "slide_type": "fragment"
    }
   },
   "source": [
    "After some elaborate thinking you put more details to module_a.py.\n",
    "```bash\n",
    "echo 'print(\"this is the second line\")' >> module_a.py &&\n",
    "git add module_a.py && git commit -m \"add more details to module_a.py\";\n",
    "```"
   ]
  },
  {
   "cell_type": "markdown",
   "metadata": {
    "slideshow": {
     "slide_type": "subslide"
    }
   },
   "source": [
    "In the meantime you have to update main.py on the branch _target.\n",
    "```bash\n",
    "echo \"print(2)\" >> main.py &&\n",
    "git add main.py && git commit -m \"update main.py\";\n",
    "```"
   ]
  },
  {
   "cell_type": "markdown",
   "metadata": {
    "slideshow": {
     "slide_type": "-"
    }
   },
   "source": [
    "Since the module_a.py depends on main.py you have to consider its update on '_messy_branch'.\n",
    "\n",
    "For this purpose, you merge the '_target' branch into '_messy_branch':\n",
    "```bash\n",
    "git merge _target\n",
    "```\n",
    "Your text editor opens and displays the following file:"
   ]
  },
  {
   "cell_type": "markdown",
   "metadata": {
    "slideshow": {
     "slide_type": "-"
    }
   },
   "source": [
    "<div align=\"left\">\n",
    "<img src=\"./figures/merge_conflict.png\" alt=\"merge conflict\" width=1200/>\n",
    "<div/>\n",
    "<div align=\"left\">\n",
    "<div/>"
   ]
  },
  {
   "cell_type": "markdown",
   "metadata": {
    "slideshow": {
     "slide_type": "subslide"
    }
   },
   "source": [
    "You edit (or don't edit) the merge message and perform the merge.   \n",
    "\n",
    "You finish module_a.py accordingly,\n",
    "```bash\n",
    "echo 'print(\"this is the third line\")' >> module_a.py &&\n",
    "git add module_a.py && git commit -m \"consider update of main.py in module_a.py\";\n",
    "```\n",
    "and merge your branch into '_target' and delete the obsolete '_messy_branch'.\n",
    "```bash\n",
    "git checkout _target;\n",
    "git merge _messy_branch;\n",
    "git branch -d _messy_branch;\n",
    "```\n",
    "\n",
    "\n",
    "Note:  \n",
    "- You can reproduce these commits by running\n",
    "```python3 -m dsc.version_control.git merge merge``` in the terminal.  \n",
    "- To undo all changes use ```python3 -m dsc.version_control.git reset```"
   ]
  },
  {
   "cell_type": "markdown",
   "metadata": {
    "slideshow": {
     "slide_type": "subslide"
    }
   },
   "source": [
    "Using  GitGraph in VSCode (or ```git log --graph --oneline --decorate```) we can investigate the \n",
    "the commit history of '_target' which now looks as follows."
   ]
  },
  {
   "cell_type": "markdown",
   "metadata": {
    "slideshow": {
     "slide_type": "-"
    }
   },
   "source": [
    "<div align=\"left\">\n",
    "<img src=\"./figures/r_0_messy.png\" alt=\"messy commit history\" width=1000 />\n",
    "<div/>\n",
    "<div align=\"left\">\n",
    "<div/>"
   ]
  },
  {
   "cell_type": "markdown",
   "metadata": {
    "slideshow": {
     "slide_type": "fragment"
    }
   },
   "source": [
    "How do we read this history?\n",
    "- Three squential commits (blue) were based on commit \"add main.py\"\n",
    "- One commit (pink) was also based on commit \"add main.py\"\n",
    "- A merge occured: _target (pink) was merged into _messy_branch (blue)\n",
    "- As a result, both branches are identical after the merge\n",
    "- Since _messy_branch is missing from the history it has been removed\n"
   ]
  },
  {
   "cell_type": "markdown",
   "metadata": {
    "slideshow": {
     "slide_type": "slide"
    }
   },
   "source": [
    "What's not so nice about this commit history?"
   ]
  },
  {
   "cell_type": "markdown",
   "metadata": {
    "slideshow": {
     "slide_type": "-"
    }
   },
   "source": [
    "<div align=\"left\">\n",
    "<figcaption>A: Messy commit history with merge</figcaption>\n",
    "<img src=\"./figures/r_0_messy.png\" alt=\"messy commit history\" width=1000/>\n",
    "<div/>\n",
    "<div align=\"left\">\n",
    "<div/>"
   ]
  },
  {
   "cell_type": "markdown",
   "metadata": {
    "slideshow": {
     "slide_type": "fragment"
    }
   },
   "source": [
    "- The history does not really reflect the essence of the changes, namely:\n",
    "    - main.py was added and updated\n",
    "    - module_a.py was created on the basis of the current main.py\n",
    "- The commit \"Merge branch '_target' into _messy_branch\" is distracting \n",
    "- The fix of spelling errors and the adding of more detail is also superfluous \n"
   ]
  },
  {
   "cell_type": "markdown",
   "metadata": {
    "slideshow": {
     "slide_type": "slide"
    }
   },
   "source": [
    "Wouldn't it be nice if we had a more concise commit history?"
   ]
  },
  {
   "cell_type": "markdown",
   "metadata": {
    "slideshow": {
     "slide_type": "-"
    }
   },
   "source": [
    "<div align=\"left\">\n",
    "<figcaption>B: Clean commit history with merge</figcaption>\n",
    "<img src=\"./figures/r_3_squash_no_ff.png\" alt=\"clean commit history with merge\" width=1000/>\n",
    "<div/>\n",
    "<div align=\"left\">\n",
    "<div/>"
   ]
  },
  {
   "cell_type": "markdown",
   "metadata": {
    "slideshow": {
     "slide_type": "fragment"
    }
   },
   "source": [
    "Or even a commit history without a merge commit?"
   ]
  },
  {
   "cell_type": "markdown",
   "metadata": {
    "slideshow": {
     "slide_type": "-"
    }
   },
   "source": [
    "<div align=\"left\">\n",
    "<figcaption>C: Clean linear commit history</figcaption>\n",
    "<img src=\"./figures/r_3_squash.png\" alt=\"clean linear commit history\" width=1000/>\n",
    "<div/>\n",
    "<div align=\"left\">\n",
    "<div/>"
   ]
  },
  {
   "cell_type": "markdown",
   "metadata": {
    "slideshow": {
     "slide_type": "fragment"
    }
   },
   "source": [
    "Instead of "
   ]
  },
  {
   "cell_type": "markdown",
   "metadata": {
    "slideshow": {
     "slide_type": "-"
    }
   },
   "source": [
    "<div align=\"left\">\n",
    "<figcaption>A: Messy commit history with merge</figcaption>\n",
    "<img src=\"./figures/r_0_messy.png\" alt=\"messy commit history\" width=1000/>\n",
    "<div/>\n",
    "<div align=\"left\">\n",
    "<div/>"
   ]
  },
  {
   "cell_type": "markdown",
   "metadata": {
    "slideshow": {
     "slide_type": "slide"
    }
   },
   "source": [
    "### Fast-forward and three-way merge\n",
    "- With Git rebase you can rewrite the commit history into a linear commit history by allowing for fast-forward merges.\n",
    "- To understand this, let's first discuss the two different merge types in Git."
   ]
  },
  {
   "cell_type": "markdown",
   "metadata": {
    "slideshow": {
     "slide_type": "fragment"
    }
   },
   "source": [
    "- In the most frequent use case, git merge is used to combine two branches.\n",
    "- Once Git finds a common base commit it integrates the deviating commit sequence of the source branch, i.e., the branch to be integrated, into the current branch:\n",
    "    - **Fast-forward**: If there is a linear path from the current branch tip to the source branch tip, Git only has to move (i.e., “fast forward”) the current branch tip up to the tip of the source branch\n",
    "    <div align=\"left\">\n",
    "    <img src=\"./figures/merge_ff_0.png\" alt=\"clean commit history with merge\" width=600/>\n",
    "    <img src=\"./figures/merge_ff_1.png\" alt=\"clean commit history with merge\" width=600/>\n",
    "    <div/>\n",
    "    <div align=\"left\">\n",
    "    <div/>\n",
    "    - **3-way**: Otherwise, Git uses the two branch tips and their common ancestor to create a new commit to integrate the source branch into the current branch.\n",
    "    - 3-way merge commits differ from other commits in that they have **two parent commits**. \n",
    "    <div align=\"left\">\n",
    "    <img src=\"./figures/merge_0.png\" alt=\"clean commit history with merge\" width=600/>\n",
    "    <img src=\"./figures/merge_1.png\" alt=\"clean commit history with merge\" width=600/>\n",
    "    <div/>\n",
    "    <div align=\"left\">\n",
    "    <div/>\n",
    "\n",
    "Figure source: https://www.atlassian.com/git/tutorials/using-branches/git-merge"
   ]
  },
  {
   "cell_type": "markdown",
   "metadata": {
    "slideshow": {
     "slide_type": "slide"
    }
   },
   "source": [
    "### (Non-interactive) rebase\n",
    "- With rebase you can use another branch as the new base for your work.\n",
    "- By rebasing on another branch, you are effectively copying all commits that have taken place on the other branch to your recent branch to create a linear commit history \n",
    "- Because of a linear commit history you can merge your recent branch into the other branch using a fast-forward merge\n",
    "- However, you lose the commit message of a 3-way merge and can't see when changes from another branch were incorporated\n",
    "- Note that rebasing produces **new commits** \n",
    "<div align=\"left\">\n",
    "<img src=\"./figures/at_rebase_0.png\" alt=\"clean commit history with merge\" width=600/>\n",
    "<img src=\"./figures/at_rebase_2.png\" alt=\"clean commit history with merge\" width=600/>\n",
    "<div/>\n",
    "<div align=\"left\">\n",
    "<div/>"
   ]
  },
  {
   "cell_type": "markdown",
   "metadata": {
    "slideshow": {
     "slide_type": "slide"
    }
   },
   "source": [
    "#### Illustration"
   ]
  },
  {
   "cell_type": "markdown",
   "metadata": {
    "slideshow": {
     "slide_type": "subslide"
    }
   },
   "source": [
    "Let's return to our motivation and to the commit when main.py is updated.\n",
    "\n",
    "For this purpose, you can run \n",
    "```python3 -m dsc.version_control.git```\n",
    "\n",
    "We have the following commit history before integrating the changes of _target into _messy_branch"
   ]
  },
  {
   "cell_type": "markdown",
   "metadata": {
    "slideshow": {
     "slide_type": "-"
    }
   },
   "source": [
    "<div align=\"left\">\n",
    "<img src=\"./figures/r_0_before_merge.png\" alt=\"Before integrating changes of _target into _messy_branch\" width=1000/>\n",
    "<div/>\n",
    "<div align=\"left\">\n",
    "<div/>"
   ]
  },
  {
   "cell_type": "markdown",
   "metadata": {
    "slideshow": {
     "slide_type": "subslide"
    }
   },
   "source": [
    "- We can now rebase to get a linear commit history and avoid the superfluous merge if we use (on _messy_branch)  \n",
    "```git rebase _target```  \n",
    "instead of  \n",
    "```git merge _target```\n",
    "- ```git rebase <branch>``` automatically takes the commits in your current working branch and applies them to the tip of the passed branch.\n",
    "-  In this case, _messy_branch is rebased on the _target commit ```1609999b``` that has the description \"add main.py\".\n",
    "- Alternatively, you can use ```git rebase 1609999b``` to base the commits in your current working branch on the _target commit ```1609999b```\n",
    "- Running ```git rebase _target``` in the terminal yields"
   ]
  },
  {
   "cell_type": "markdown",
   "metadata": {
    "slideshow": {
     "slide_type": "-"
    }
   },
   "source": [
    "<div align=\"left\">\n",
    "<img src=\"./figures/r_after_rebase.png\" alt=\"After rebasing _messy_branch on _target\" width=1000/>\n",
    "<div/>\n",
    "<div align=\"left\">\n",
    "<div/>"
   ]
  },
  {
   "cell_type": "markdown",
   "metadata": {
    "slideshow": {
     "slide_type": "subslide"
    }
   },
   "source": [
    "- Finishing module_a and merging our commits into _target yields then the following linear commit history.\n",
    "- You can also run ```python3 -m dsc.version_control.git rebase merge``` to produce the following commit history."
   ]
  },
  {
   "cell_type": "markdown",
   "metadata": {
    "slideshow": {
     "slide_type": "-"
    }
   },
   "source": [
    "<div align=\"left\">\n",
    "<img src=\"./figures/r_1_rebased.png\" alt=\"After rebasing _messy_branch on _target\" width=1000/>\n",
    "<div/>\n",
    "<div align=\"left\">\n",
    "<div/>"
   ]
  },
  {
   "cell_type": "markdown",
   "metadata": {
    "slideshow": {
     "slide_type": "-"
    }
   },
   "source": [
    "- We now have gotten rid of the superfluous merge but still do not have a concise commit history.\n",
    "- To get a concise commit history we can use interactive rebasing which we will discuss next."
   ]
  },
  {
   "cell_type": "markdown",
   "metadata": {
    "slideshow": {
     "slide_type": "slide"
    }
   },
   "source": [
    "#### Exercise: Integrating commits from one branch into another branch\n",
    "- Complete Exercise 2.1 and Exercise 2.2 of [lecture_notes/1_version_control/3_exercise.ipynb](3_exercise.ipynb)."
   ]
  },
  {
   "cell_type": "markdown",
   "metadata": {
    "slideshow": {
     "slide_type": "slide"
    }
   },
   "source": [
    "### Interactive rebase\n",
    "- An interactive rebase allows you to **rewrite history**. \n",
    "- This allows you to make commits without worrying whether they meanigful enough, you can fix them later with rebase.\n",
    "- The only thing other developers will see is your finished commit history, which should be a concise and simple branch history.\n",
    "- You can start and interactive rebase using ```git rebase -i <branch/commit>``` which opens the git-rebase-todo file.\n",
    "- Note that, in contrast to a non-interactive rebase, it makes sense to use an interactive rebase on a commit of the current branch to rewrite its history.\n",
    "- If you do a more complex rebase, I recommend to **backup the branch to be rebased** using ```git branch [<name>]```, where name have the format backup_branch_YYYY_MM_DD."
   ]
  },
  {
   "cell_type": "markdown",
   "metadata": {
    "slideshow": {
     "slide_type": "slide"
    }
   },
   "source": [
    "**Options during interactive rebase**  \n",
    "- When an interactive rebase is started, the text file git-rebase-todo is opened\n",
    "- The file git-rebase-todo lists all commits that are about to be moved to the new base.\n",
    "- This listing defines exactly what the branch will look like after the rebase is performed.\n",
    "\n",
    "- For each commit you can apply one of the following commands \n",
    "    - p, **pick**: use this commit\n",
    "    - d, **drop**: remove commit (you can also delete the line of the commit)\n",
    "    - r, **reword**: use this commit, but edit its commit message\n",
    "    - e, **edit**: temporarily stops the rebase after applying the chosen commit\n",
    "        - Makes it possible to edit commits using ```git add``` and ```git commit –amend```.  \n",
    "        - Use ```git rebase --continue``` to continue applying other commits.\n",
    "    - s, **squash**: include this commit in the previous commit that is considered\n",
    "        - The suggested commit message for the folded commit is the combination of the first commit and those with the squash command.\n",
    "        - Note that the folded commit is always a new commit with a new SHA\n",
    "    - f, **fixup**: like squash, but don't consider its commit message\n",
    "    - x, **exec**: run command (the rest of the line) using shell"
   ]
  },
  {
   "cell_type": "markdown",
   "metadata": {
    "slideshow": {
     "slide_type": "subslide"
    }
   },
   "source": [
    "**Abort and conflicts**\n",
    "- To abort the rebase, enter ctrl + c in the terminal and run ```git rebase --abort```.\n",
    "- If there are merge errors during rebase the process will stop. \n",
    "    - If you are done resolving the conflicts you can proceed with ```git rebase --continue```.\n",
    "    - If you want to start another rebase use ```git rebase --abort``` before!\n",
    "    "
   ]
  },
  {
   "cell_type": "markdown",
   "metadata": {
    "slideshow": {
     "slide_type": "slide"
    }
   },
   "source": [
    "#### Illustration"
   ]
  },
  {
   "cell_type": "markdown",
   "metadata": {
    "slideshow": {
     "slide_type": "-"
    }
   },
   "source": [
    "Let's return to our motivation and to the commit when main.py is updated.\n",
    "\n",
    "For this purpose, you can run \n",
    "```python3 -m dsc.version_control.git```\n",
    "\n",
    "We have the following commit history before integrating the changes of _target into _messy_branch."
   ]
  },
  {
   "cell_type": "markdown",
   "metadata": {
    "slideshow": {
     "slide_type": "-"
    }
   },
   "source": [
    "<div align=\"left\">\n",
    "<img src=\"./figures/r_0_before_merge.png\" alt=\"Before integrating changes of _target into _messy_branch\" width=1000/>\n",
    "<div/>\n",
    "<div align=\"left\">\n",
    "<div/>"
   ]
  },
  {
   "cell_type": "markdown",
   "metadata": {
    "slideshow": {
     "slide_type": "slide"
    }
   },
   "source": [
    "- Instead of merging _target into _messy_branch we can also rebase _messy_branch on _target using  \n",
    "```git rebase -i _target```\n",
    "-  Just like for a (non-interactive) rebase,  _messy_branch is rebased on the tip of _messy_branch which is the commit\n",
    "with the description \"add main.py\".\n",
    "- Executing ```git rebase -i _target``` opens the git-rebase-todo text file with the following first three lines  \n",
    "```bash\n",
    "pick cf0091e add module_a.py\n",
    "pick e3516ab fix spelling error in module_a.py\n",
    "pick edf1942 add more details to module_a.py\n",
    "```"
   ]
  },
  {
   "cell_type": "markdown",
   "metadata": {
    "slideshow": {
     "slide_type": "slide"
    }
   },
   "source": [
    "* We can tidy up our commit history by modifying the git-rebase-todo text file as follows\n",
    "```bash\n",
    "pick cf0091e add module_a.py\n",
    "fixup e3516ab fix spelling error in module_a.py\n",
    "fixup edf1942 add more details to module_a.py\n",
    "```\n",
    "* Closing the git-rebase-todo text file starts the rebase and results in the following linear commit history"
   ]
  },
  {
   "cell_type": "markdown",
   "metadata": {
    "slideshow": {
     "slide_type": "fragment"
    }
   },
   "source": [
    "<div align=\"left\">\n",
    "<img src=\"./figures/r_first_i_rebase.png\" alt=\"After interactively rebasing _messy_branch on _target\" width=1000/>\n",
    "<div/>\n",
    "<div align=\"left\">\n",
    "<div/>"
   ]
  },
  {
   "cell_type": "markdown",
   "metadata": {
    "slideshow": {
     "slide_type": "slide"
    }
   },
   "source": [
    "* We now add the updates to module_a.py that are required due to the update of main.py"
   ]
  },
  {
   "cell_type": "markdown",
   "metadata": {
    "slideshow": {
     "slide_type": "-"
    }
   },
   "source": [
    "<div align=\"left\">\n",
    "<img src=\"./figures/r_before_second_rebase.png\" alt=\"Before interactive rebase of _messy_branch on itself\" width=1000>\n",
    "<div/>\n",
    "<div align=\"left\">\n",
    "<div/>"
   ]
  },
  {
   "cell_type": "markdown",
   "metadata": {
    "slideshow": {
     "slide_type": "fragment"
    }
   },
   "source": [
    "* We can now start another interactive rebase to squash the last commit into the previous commit\n",
    "* Running ```git rebase -i HEAD~2``` or ```git rebase -i cbe58462``` in the terminal yields the following two lines for the git-rebase-todo file\n",
    "```bash\n",
    "pick 06dd804 add module_a.py\n",
    "pick 05373dd consider update of main.py in module_a.py\n",
    "```\n",
    "* Changing the git-rebase-to file to\n",
    "```bash\n",
    "pick 06dd804 add module_a.py\n",
    "fixup 05373dd consider update of main.py in module_a.py\n",
    "```\n",
    "yields"
   ]
  },
  {
   "cell_type": "markdown",
   "metadata": {
    "slideshow": {
     "slide_type": "-"
    }
   },
   "source": [
    "<div align=\"left\">\n",
    "<figcaption>After interactive rebase of _messy_branch on itself</figcaption>\n",
    "<img src=\"./figures/r_after_second_i_rebase.png\" alt=\"After interactive rebase of _messy_branch on itself\" width=1000/>\n",
    "<div/>\n",
    "<div align=\"left\">\n",
    "<div/>"
   ]
  },
  {
   "cell_type": "markdown",
   "metadata": {
    "slideshow": {
     "slide_type": "slide"
    }
   },
   "source": [
    "* We are now free to merge _messy_branch into _target using \n",
    "    - or a three-way merge with an additional merge message\n",
    "    ```bash\n",
    "        git checkout _target;\n",
    "        git merge _messy_branch --no-ff\n",
    "    ```\n",
    "    - a fast-forward merge\n",
    "    ```bash\n",
    "        git checkout _target;\n",
    "        git merge _messy_branch\n",
    "    ```"
   ]
  },
  {
   "cell_type": "markdown",
   "metadata": {
    "cell_style": "split",
    "slideshow": {
     "slide_type": "-"
    }
   },
   "source": [
    "<div align=\"left\">\n",
    "<figcaption>B: Clean commit history with explicit 3-way merge</figcaption>\n",
    "<img src=\"./figures/r_3_squash_no_ff.png\" alt=\"clean commit history with merge\" width=1000/>\n",
    "<div/>\n",
    "<div align=\"left\">\n",
    "<div/>"
   ]
  },
  {
   "cell_type": "markdown",
   "metadata": {
    "cell_style": "split"
   },
   "source": [
    "<div align=\"left\">\n",
    "<figcaption>C: Clean linear commit history</figcaption>\n",
    "<img src=\"./figures/r_3_squash.png\" alt=\"clean linear commit history\" width=1000/>\n",
    "<div/>\n",
    "<div align=\"left\">\n",
    "<div/>"
   ]
  },
  {
   "cell_type": "markdown",
   "metadata": {
    "slideshow": {
     "slide_type": "slide"
    }
   },
   "source": [
    "#### Exercise: Perform interactive rebasing\n",
    "- Complete Exercise 2.3 and Exercise 2.4 of [lecture_notes/1_version_control/3_exercise.ipynb](3_exercise.ipynb)."
   ]
  },
  {
   "cell_type": "markdown",
   "metadata": {
    "slideshow": {
     "slide_type": "slide"
    }
   },
   "source": [
    "### Concluding remarks and what commits not to rebase\n",
    "- (Interactive) rebasing helps to **obtain a concise and linear commit history** for your project. \n",
    "- Especially if you want to integrate updates from another branch into you private branch, rebase allows you to avoid 3-way merges.\n",
    "- Many developers like to use fast-forward merges (facilitated through rebasing) for small features or bug fixes, while reserving 3-way merges for the integration of longer-running features.\n",
    "- Moreover, you should **try to avoid 3-way merges in feature branches**.\n",
    "- Alternatively, you can also use merge squashes to avoid 3-way merges. \n",
    "- **There is no rule** what should be a 3-way merge, a squash, or a fast-forward merge, it depends on the team.\n",
    "- However, **I recommend to use git pull --rebase** in general. In most circumstances, this is more intuitive than synchronizing with the remote branch via a merge commit."
   ]
  },
  {
   "cell_type": "markdown",
   "metadata": {
    "slideshow": {
     "slide_type": "slide"
    }
   },
   "source": [
    "- Moreover, there is the rule that **'public' commits should not be rebased**.\n",
    "<div align=\"left\">\n",
    "<img src=\"./figures/spiderman.png\" alt=\"With great power\" width=600/>\n",
    "<div/>"
   ]
  },
  {
   "cell_type": "markdown",
   "metadata": {
    "slideshow": {
     "slide_type": "subslide"
    }
   },
   "source": [
    "- Recall that rebase rewrites history yielding new commits \n",
    "<div align=\"left\">\n",
    "<img src=\"./figures/at_rebase_0.png\" alt=\"Before rebase\" width=800/>\n",
    "<div/>\n",
    "<div align=\"left\">\n",
    "<div/>\n",
    "- What would happen if you rebase main on feature?\n",
    "<div align=\"left\">\n",
    "<img src=\"./figures/at_rebase_3.png\" alt=\"Rebasing main\" width=800/>\n",
    "<div/>\n",
    "<div align=\"left\">\n",
    "<div/>\n",
    "\n",
    "- As a result, Git will think that your main branch’s history has diverged from the corresponding remote\n",
    "    - Consequently, you can't push to the remote unless you specify --force\n",
    "    - This overwrites the remote branch to match the local rebased one and makes things very confusing for other people if they try to integrate these changes\n",
    "    - You should only push --force if the branch is 'private'\n",
    "- If your branch is 'public', i.e., anybody else might work with it, **do not rebase**!\n",
    "    - Do not rebase pull/merge requests (more about this later)\n",
    "\n",
    "Figures source: https://www.atlassian.com/git/tutorials/merging-vs-rebasing"
   ]
  },
  {
   "cell_type": "markdown",
   "metadata": {
    "slideshow": {
     "slide_type": "slide"
    }
   },
   "source": [
    "# Workflows"
   ]
  },
  {
   "cell_type": "markdown",
   "metadata": {
    "slideshow": {
     "slide_type": "-"
    }
   },
   "source": [
    "The following workflow is recommend for integrating data from one remote into another.\n",
    "\n",
    "**Merging and rebasing**\n",
    "- Confirm that the source branch that should be merged is up-to-date\n",
    "    - If required, checkout the source branch, tidy the local commit history and integrate data from a remote \n",
    "- Confirm the HEAD points to the receiving branch which is up-to-date: \n",
    "    - If not done already, checkout the receiving branch, tidy the local commit history and integrate data from a remote\n",
    "- Integrate the source branch into the current branch using\n",
    "    - ```git merge <source branch>``` to ff-merge if possible, otherwise 3-way merge\n",
    "    - ```git merge --ff-only <source branch>``` to only allow a ff-merge\n",
    "    - ```git merge --no-ff <source branch>``` to enforce a 3-way merge\n",
    "    - ```git merge --squash <source branch>``` to squash\n",
    "        - It is recommended to delete the source branch after a squash to avoid duplication of commits if data from this branch is integrated in the receiving branch again\n",
    "    - ```rebase <source branch>``` to perform a rebase on the source branch\n",
    "    - ```rebase -i <source branch>``` to perform an interactive rebase on the source branch\n",
    "    \n",
    "See also https://www.atlassian.com/git/tutorials/merging-vs-rebasing#conceptual-overview"
   ]
  },
  {
   "cell_type": "markdown",
   "metadata": {
    "slideshow": {
     "slide_type": "slide"
    }
   },
   "source": [
    "**Checking out new branch that tracks a remote branch `feature-branch`**\n",
    "- `git fetch && git checkout feature-branch`\n",
    "\n",
    "**Integrating data from a remote into a local branch**\n",
    "- Optional, but useful: fetch data from the remote and have a look at its commits using `git log origin/branch_name`\n",
    "    - Instead of ```git pull origin <source branch>``` you can then use ```git merge origin/branch_name```\n",
    "    - Instead of ```git pull --rebase origin <source branch>``` you can then use ```git rebase origin/branch_name```\n",
    "- Merge data into you local branch using ```git pull origin <source branch>```, you can use the same options here as for merge\n",
    "- Rebase your local branch on the remote using ```git pull --rebase origin <source branch>```: In most circumstances, this is more intuitive than synchronizing with the remote branch via a merge commit.\n",
    "    \n",
    "**Pushing data to a remote**\n",
    "- If required, start an interactive rebase to tidy the part of the commit history that has not been pushed to the remote\n",
    "- Never ever change commits that have already been pushed to a remote from which other people might fetch (!)\n",
    "- Integrate data from the remote into your local branch\n",
    "- Push to the remote"
   ]
  },
  {
   "cell_type": "markdown",
   "metadata": {
    "slideshow": {
     "slide_type": "slide"
    }
   },
   "source": [
    "# Git (branching) workflows"
   ]
  },
  {
   "cell_type": "markdown",
   "metadata": {
    "slideshow": {
     "slide_type": "slide"
    }
   },
   "source": [
    "- Git does not dictate how to interact with it but offers a high degree of freedom in how it can be used.\n",
    "- If your team has no convention how to work with Git, working with Git may be more cumbersome than it should be.\n",
    "- A Git workflow is a guideline how to use Git consistently and efficiently.\n",
    "- In particular, it often provides guidance for managing, creating, and combining branches.\n",
    "- There is no workflow that works best for all teams and projects.\n",
    "- As a result, may workflows have been proposed."
   ]
  },
  {
   "cell_type": "markdown",
   "metadata": {
    "slideshow": {
     "slide_type": "slide"
    }
   },
   "source": [
    "## [Archetypical flows](https://www.atlassian.com/git/tutorials/comparing-workflows)\n",
    "- [Centralized workflow](https://www.atlassian.com/git/tutorials/comparing-workflows#centralized-workflow)\n",
    "    - One central remote repo.\n",
    "    - There are not branches and everybody pushes to the main branch.\n",
    "- [Feature branch workflow](https://www.atlassian.com/git/tutorials/comparing-workflows/feature-branch-workflow): (read this at least once!)\n",
    "    - Uses one central remote repo and multiple branches.\n",
    "    - The main branch is the official project history in which all relevent changes eventually get merged into and which should never contain broken code. \n",
    "<!-- This is the project repository at GitHub, GitLab, ... -->\n",
    "    - The development of each feature should be encapsulated in a corresponding feature branch that is branched off from the main branch.\n",
    "    - Feature branchs are developed locally and pushed to the corresponding feature branch of the remote repo.\n",
    "    - A pull/merge request is then submitted to integrate the feature branch into the main branch.e main branch.\n",
    "- [Forking workflow](https://www.atlassian.com/git/tutorials/comparing-workflows/forking-workflow)\n",
    "    - Each developer has its own remote repo. \n",
    "    - Often used for open-source projects. \n",
    "    - A developer forks the official remote repo of the project maintainer, i.e., (s)he, or a Git hosting service, creates a own copy of the remote repo on a remote, and pushes changes to his/her private remote repo. \n",
    "    - Pull/merge requests are used to integrate changes from a forked repo into the official remote repo."
   ]
  },
  {
   "cell_type": "markdown",
   "metadata": {
    "slideshow": {
     "slide_type": "slide"
    }
   },
   "source": [
    "## [Concrete flows](https://www.gitkraken.com/learn/git/best-practices/git-branch-strategy)\n",
    "- [Git flow](https://www.atlassian.com/git/tutorials/comparing-workflows/gitflow-workflow): Sophisticated feature branch workflow. \n",
    "    - The first popular workflow. \n",
    "    - Assigns specific roles to different branches and how and when they should interact. \n",
    "    - May result in merge hell. \n",
    "    - Click [here](https://www.atlassian.com/git/tutorials/comparing-workflows/gitflow-workflow) and [here](https://www.youtube.com/watch?v=_w6TwnLCFwA) for more information.\n",
    "- [GitHub flow](https://docs.github.com/en/get-started/quickstart/github-flow): Proposes to fork a repo before working on it with the feature branch workflow. \n",
    "- [Atlassian flow](https://www.atlassian.com/blog/git/simple-git-workflow-is-simple): Like GitHub flow but rebases feature branches before merging so that the actual merge commit is just a marker for the feature branch and does not include any changed files.\n",
    "- [GitLab flow](https://docs.gitlab.com/ee/topics/gitlab_flow.html#mergepull-requests-with-gitlab-flow): Click [here](https://www.youtube.com/watch?v=InKNIvky2KE&feature=youtu.be) for a video.\n",
    "- [Trunk-based flow](https://www.atlassian.com/continuous-delivery/continuous-integration/trunk-based-development). Feature branch workflow with very short-lived branches that are integrated into the main branch potentially several times a day. \n",
    "    - Common practice among DevOps teams who use [CI/CD](https://www.atlassian.com/continuous-delivery).\n",
    "    - Click [here](https://cloud.google.com/architecture/devops/devops-tech-trunk-based-development) for more information.\n",
    "-  Click [here](https://docs.gitlab.com/ee/topics/gitlab_flow.html) and  [here](https://www.gitkraken.com/learn/git/best-practices/git-branch-strategy) for a comparions of some flows.\n"
   ]
  },
  {
   "cell_type": "markdown",
   "metadata": {},
   "source": [
    "## Git flow\n",
    "- Uses two main branches to record the history of the project\n",
    "    - The branch `main` is the official release history and contains the production-ready code.\n",
    "    - The `dev` branch contains additional development changes for the next release.\n",
    "- The other branches have a limited life time, since they will be merged into `main` and `dev` and removed eventually and are categorized as\n",
    "    - Feature branches: Branches off from and is integrated back into `dev`.\n",
    "    - Release branches: Branches off from `dev`, is integrated back into `main`.\n",
    "    - Hotfix branches: Branches off from `main`, is integrated back into `main` and `dev`.\n",
    "- Note:\n",
    "    - If `dev`is considered to be the main branch, then the feature branch workflow is used for `dev` and the feature branches.\n",
    "    - If something is merged into `main` it must also be merged into `dev. \n",
    "- See [here](https://nvie.com/posts/a-successful-git-branching-model) and [here](https://www.atlassian.com/git/tutorials/comparing-workflows/gitflow-workflow) for more details."
   ]
  },
  {
   "cell_type": "markdown",
   "metadata": {
    "slideshow": {
     "slide_type": "slide"
    }
   },
   "source": [
    "Source: http://nvie.com/posts/a-succesful-git-branching-model\n",
    "<div>\n",
    "<img src=\"./figures/gitflow.png\" alt=\"Git flow\" width=700/>\n",
    "<div/>"
   ]
  },
  {
   "cell_type": "code",
   "execution_count": null,
   "metadata": {},
   "outputs": [],
   "source": []
  },
  {
   "cell_type": "markdown",
   "metadata": {
    "slideshow": {
     "slide_type": "slide"
    }
   },
   "source": [
    "# Versioning Jupyter notebooks"
   ]
  },
  {
   "cell_type": "markdown",
   "metadata": {
    "slideshow": {
     "slide_type": "fragment"
    }
   },
   "source": [
    "- Notebooks are .json files which contain metadata, input and output of cells\n",
    "- For instance, the first 31 lines of lecture_notes/1_version_control/0_intro.ipynb are given by"
   ]
  },
  {
   "cell_type": "code",
   "execution_count": 26,
   "metadata": {
    "slideshow": {
     "slide_type": "fragment"
    }
   },
   "outputs": [
    {
     "name": "stdout",
     "output_type": "stream",
     "text": [
      "{\r\n",
      " \"cells\": [\r\n",
      "  {\r\n",
      "   \"cell_type\": \"code\",\r\n",
      "   \"execution_count\": 1,\r\n",
      "   \"metadata\": {\r\n",
      "    \"slideshow\": {\r\n",
      "     \"slide_type\": \"notes\"\r\n",
      "    }\r\n",
      "   },\r\n",
      "   \"outputs\": [],\r\n",
      "   \"source\": [\r\n",
      "    \"from dsc.notebook import embed_website\"\r\n",
      "   ]\r\n",
      "  },\r\n",
      "  {\r\n",
      "   \"cell_type\": \"markdown\",\r\n",
      "   \"metadata\": {\r\n",
      "    \"slideshow\": {\r\n",
      "     \"slide_type\": \"slide\"\r\n",
      "    }\r\n",
      "   },\r\n",
      "   \"source\": [\r\n",
      "    \"<div align=\\\"center\\\" style=\\\"font-size:70px;\\\">\\n\",\r\n",
      "    \"VERSION CONTROL\\n\",\r\n",
      "    \"<div/>\\n\",\r\n",
      "    \"    \\n\",\r\n",
      "    \"<div align=\\\"left\\\" style=\\\"font-size:16px;\\\">\\n\",\r\n",
      "    \"<div/>\"\r\n",
      "   ]\r\n",
      "  },\r\n"
     ]
    }
   ],
   "source": [
    "!cat 0_intro.ipynb | head -n 31"
   ]
  },
  {
   "cell_type": "markdown",
   "metadata": {
    "slideshow": {
     "slide_type": "slide"
    }
   },
   "source": [
    "- It is **confusing to track notebooks (metadata, input and output of cells) as .json files** with Git because\n",
    "    - Diffs are hard to investigate because of the nested structure of .json files\n",
    "    - Executing the notebook, without changing the input of cells, may change the underlying .json file\n",
    "    - As a result, it is often not clear what has changed and if this change has something to do with the underlying code of the notebook\n",
    "    - Merging .json files directly is a nightmare\n",
    "- [NbDime](https://github.com/jupyter/nbdime) and [nbdev2](https://www.fast.ai/posts/2022-08-25-jupyter-git.html)  can be used to **diff and merge notebooks**\n",
    "- I recommend [Jupytext](https://github.com/mwouts/jupytext) for **tracking metadata and input of notebooks** with Git\n",
    "    - Converts metadata and input of a notebook to markdown or scripts, e.g., a .py-file\n",
    "    - These text files can be normally tracked with Git\n",
    "    - Converting a notebook to a script is very handy for restructuring or modularizing notebook code using your favorite text editor\n",
    "    - Notebooks can be automatically synced with script files\n",
    "    - You can also start with a text file and convert it to a Jupyter notebook\n",
    "    - See [examples](https://jupytext.readthedocs.io/en/latest/examples.html) for more details"
   ]
  },
  {
   "cell_type": "markdown",
   "metadata": {
    "slideshow": {
     "slide_type": "slide"
    }
   },
   "source": [
    "**Jupytext workflow**\n",
    "- Using Jupytext you can version Jupyter notebooks as follows:\n",
    "    - Only **version the corresponding .py-file**\n",
    "        - If you only want to version the **cell inputs**, e.g., the underyling code of the notebook\n",
    "        - If you are not interested in sharing the cell outputs, e.g., you don't want to share\n",
    "          notebooks as documentation or visualization tool\n",
    "    - **Version both the .json and .py-file**\n",
    "        - If you want to version the **cell inputs and outputs** of your notebook"
   ]
  },
  {
   "cell_type": "markdown",
   "metadata": {
    "slideshow": {
     "slide_type": "slide"
    }
   },
   "source": [
    "**Jupytext formats**\n",
    "- Jupytext provides several [formats](https://jupytext.readthedocs.io/en/latest/formats.html) when a notebook is converted to a script\n",
    "- The most important formats are percent and light\n",
    "    - **Percent**: All cells are explicitly delimited with a commented double percent sign # %%. This is supported by many editors, e.g., VS Code, PyCharm.\n",
    "    ```python\n",
    "    # %% [markdown]\n",
    "    # This is a multiline\n",
    "    # Markdown cell\n",
    "\n",
    "    # %%\n",
    "    # This is a code cell\n",
    "    def one():\n",
    "        return 1\n",
    "\n",
    "    ```\n",
    "    - **Light** (default): This format was created for Jupytext and can be used to convert scripts into notebooks which were never prepared to become a notebook.\n",
    "    ```python\n",
    "    # This is a multiline\n",
    "    # Markdown cell\n",
    "\n",
    "    # This is a code cell\n",
    "    def one():\n",
    "        return 1\n",
    "    ```\n"
   ]
  },
  {
   "cell_type": "markdown",
   "metadata": {
    "slideshow": {
     "slide_type": "slide"
    }
   },
   "source": [
    "**Jupytext illustration**\n",
    "- Cd into the directory of this notebook\n",
    "- Checkout a new branch"
   ]
  },
  {
   "cell_type": "code",
   "execution_count": 53,
   "metadata": {},
   "outputs": [
    {
     "name": "stdout",
     "output_type": "stream",
     "text": [
      "/home/spa0001f/github/teach/dsc/lecture_notes/1_version_control\r\n"
     ]
    }
   ],
   "source": [
    "!pwd"
   ]
  },
  {
   "cell_type": "code",
   "execution_count": 54,
   "metadata": {
    "slideshow": {
     "slide_type": "-"
    }
   },
   "outputs": [
    {
     "name": "stdout",
     "output_type": "stream",
     "text": [
      "M\tlecture_notes/1_version_control/1_git.ipynb\r\n",
      "M\tlecture_notes/1_version_control/2_dvc.ipynb\r\n",
      "M\tlecture_notes/1_version_control/notebook_as_py/1_git.py\r\n",
      "M\tlecture_notes/1_version_control/notebook_as_py/2_dvc.py\r\n",
      "Switched to a new branch '_jupytext'\r\n"
     ]
    }
   ],
   "source": [
    "!git checkout -b _jupytext"
   ]
  },
  {
   "cell_type": "markdown",
   "metadata": {
    "slideshow": {
     "slide_type": "slide"
    }
   },
   "source": [
    "* Convert this notebook into a .py script named '1_git_percent.py' using the percent format"
   ]
  },
  {
   "cell_type": "code",
   "execution_count": 56,
   "metadata": {
    "slideshow": {
     "slide_type": "-"
    }
   },
   "outputs": [
    {
     "name": "stdout",
     "output_type": "stream",
     "text": [
      "[jupytext] Reading 1_git.ipynb in format ipynb\n",
      "[jupytext] Writing 1_git_percent.py in format py:percent\n",
      "# ---\n",
      "# jupyter:\n",
      "#   jupytext:\n",
      "#     comment_magics: false\n",
      "#     text_representation:\n",
      "#       extension: .py\n",
      "#       format_name: percent\n",
      "#       format_version: '1.3'\n",
      "#       jupytext_version: 1.14.0\n",
      "#   kernelspec:\n",
      "#     display_name: Python 3 (ipykernel)\n",
      "#     language: python\n",
      "#     name: python3\n",
      "# ---\n",
      "\n",
      "# %% slideshow={\"slide_type\": \"notes\"}\n",
      "import os\n",
      "\n",
      "from dsc.notebook import embed_website\n",
      "\n",
      "# %% [markdown] slideshow={\"slide_type\": \"slide\"}\n",
      "# # Intro\n",
      "# <div align=\"left\">\n",
      "# <img src=\"https://imgs.xkcd.com/comics/git.png\" alt=\"Vim\" width=600/>\n",
      "# <div/>\n"
     ]
    }
   ],
   "source": [
    "!jupytext --to py:percent --out 1_git_percent.py 1_git.ipynb\n",
    "!cat 1_git_percent.py | head -n 25"
   ]
  },
  {
   "cell_type": "markdown",
   "metadata": {
    "slideshow": {
     "slide_type": "slide"
    }
   },
   "source": [
    "- Convert this notebook into a .py script named '1_git_light.py' using the default light format"
   ]
  },
  {
   "cell_type": "code",
   "execution_count": 55,
   "metadata": {
    "slideshow": {
     "slide_type": "-"
    }
   },
   "outputs": [
    {
     "name": "stdout",
     "output_type": "stream",
     "text": [
      "[jupytext] Reading 1_git.ipynb in format ipynb\n",
      "[jupytext] Writing 1_git_light.py\n",
      "# ---\n",
      "# jupyter:\n",
      "#   jupytext:\n",
      "#     comment_magics: false\n",
      "#     text_representation:\n",
      "#       extension: .py\n",
      "#       format_name: light\n",
      "#       format_version: '1.5'\n",
      "#       jupytext_version: 1.14.0\n",
      "#   kernelspec:\n",
      "#     display_name: Python 3 (ipykernel)\n",
      "#     language: python\n",
      "#     name: python3\n",
      "# ---\n",
      "\n",
      "# + slideshow={\"slide_type\": \"notes\"}\n",
      "import os\n",
      "\n",
      "from dsc.notebook import embed_website\n",
      "\n",
      "# + [markdown] slideshow={\"slide_type\": \"slide\"}\n",
      "# # Intro\n",
      "# <div align=\"left\">\n",
      "# <img src=\"https://imgs.xkcd.com/comics/git.png\" alt=\"Vim\" width=600/>\n",
      "# <div/>\n"
     ]
    }
   ],
   "source": [
    "!jupytext --out 1_git_light.py 1_git.ipynb\n",
    "!cat 1_git_light.py | head -n 25"
   ]
  },
  {
   "cell_type": "markdown",
   "metadata": {
    "slideshow": {
     "slide_type": "slide"
    }
   },
   "source": [
    "- Convert both scripts back to notebooks"
   ]
  },
  {
   "cell_type": "code",
   "execution_count": 42,
   "metadata": {
    "slideshow": {
     "slide_type": "-"
    }
   },
   "outputs": [
    {
     "name": "stdout",
     "output_type": "stream",
     "text": [
      "[jupytext] Reading 1_git_light.py in format py\n",
      "[jupytext] Writing 1_git_light.ipynb\n",
      "[jupytext] Reading 1_git_percent.py in format py\n",
      "[jupytext] Writing 1_git_percent.ipynb (destination file replaced [use --update to preserve cell outputs and ids])\n"
     ]
    }
   ],
   "source": [
    "!jupytext --to notebook 1_git_light.py\n",
    "!jupytext --to notebook 1_git_percent.py"
   ]
  },
  {
   "cell_type": "markdown",
   "metadata": {
    "slideshow": {
     "slide_type": "-"
    }
   },
   "source": [
    "- Checkout main and delete the temporary branch"
   ]
  },
  {
   "cell_type": "code",
   "execution_count": 43,
   "metadata": {
    "slideshow": {
     "slide_type": "-"
    }
   },
   "outputs": [
    {
     "name": "stdout",
     "output_type": "stream",
     "text": [
      "M\tlecture_notes/1_version_control/1_git.ipynb\n",
      "M\tlecture_notes/1_version_control/notebook_as_py/1_git.py\n",
      "Switched to branch 'main'\n",
      "Your branch is up to date with 'origin/main'.\n",
      "Deleted branch _jupytext (was ed17f26).\n"
     ]
    }
   ],
   "source": [
    "!git checkout main\n",
    "!git branch -D _jupytext"
   ]
  },
  {
   "cell_type": "markdown",
   "metadata": {
    "slideshow": {
     "slide_type": "-"
    }
   },
   "source": [
    "- Delete the created files"
   ]
  },
  {
   "cell_type": "code",
   "execution_count": 48,
   "metadata": {
    "slideshow": {
     "slide_type": "-"
    }
   },
   "outputs": [],
   "source": [
    "for file in ['1_git_light.ipynb', '1_git_light.py', '1_git_percent.ipynb', '1_git_percent.py']:\n",
    "    if os.path.exists(file):\n",
    "        os.remove(file)"
   ]
  },
  {
   "cell_type": "markdown",
   "metadata": {
    "slideshow": {
     "slide_type": "slide"
    }
   },
   "source": [
    "Hint:  \n",
    "\n",
    "If you want to automatically convert a notebook to a .py script with percent format in the subfolder notebook_as_py whenever you save it do the following.  \n",
    "\n",
    "Create the file **jupytext.toml** in the root directory of your project with the following content.\n",
    "```\n",
    "formats = \"ipynb,notebook_as_py//py:percent\"\n",
    "``` "
   ]
  },
  {
   "cell_type": "markdown",
   "metadata": {
    "slideshow": {
     "slide_type": "slide"
    }
   },
   "source": [
    "## Exercise\n",
    "- Complete Exercise 3 [lecture_notes/1_version_control/3_exercise.ipynb](3_exercise.ipynb)."
   ]
  }
 ],
 "metadata": {
  "celltoolbar": "Slideshow",
  "jupytext": {
   "comment_magics": false
  },
  "kernelspec": {
   "display_name": "Python 3 (ipykernel)",
   "language": "python",
   "name": "python3"
  },
  "language_info": {
   "codemirror_mode": {
    "name": "ipython",
    "version": 3
   },
   "file_extension": ".py",
   "mimetype": "text/x-python",
   "name": "python",
   "nbconvert_exporter": "python",
   "pygments_lexer": "ipython3",
   "version": "3.10.12"
  },
  "rise": {
   "footer": "<h3>Dr. Fabian Spanhel</h3>",
   "header": "<h3>DSC: 1.1 GIT</h3>"
  },
  "toc": {
   "base_numbering": 1,
   "nav_menu": {},
   "number_sections": true,
   "sideBar": false,
   "skip_h1_title": false,
   "title_cell": "Table of Contents",
   "title_sidebar": "Contents",
   "toc_cell": false,
   "toc_position": {
    "height": "calc(100% - 180px)",
    "left": "0px",
    "top": "200px",
    "width": "360px"
   },
   "toc_section_display": true,
   "toc_window_display": true
  }
 },
 "nbformat": 4,
 "nbformat_minor": 2
}
