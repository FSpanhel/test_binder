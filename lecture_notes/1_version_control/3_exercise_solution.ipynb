{
 "cells": [
  {
   "cell_type": "markdown",
   "id": "742d1974",
   "metadata": {
    "slideshow": {
     "slide_type": "slide"
    },
    "solution": "hidden"
   },
   "source": [
    "# Questions regarding next week's topic (Python project setup)"
   ]
  },
  {
   "cell_type": "markdown",
   "id": "4ee93064",
   "metadata": {
    "slideshow": {
     "slide_type": "-"
    }
   },
   "source": [
    "Click [here](https://partici.fi/26194946), or scan the QR code below, to answer the questions about setting up your Python project.\n",
    "<div align=\"center\">\n",
    "<img src=\"./figures/p_2.png\" alt=\"drawing\" width=\"1200\"/>\n",
    "</div>\n",
    "\n",
    "<div align=\"left\">\n",
    "<div/>"
   ]
  },
  {
   "cell_type": "markdown",
   "id": "2e31265b",
   "metadata": {
    "slideshow": {
     "slide_type": "slide"
    }
   },
   "source": [
    "# Git\n",
    "- Before you start with one exercise, verify that your **working directory is clean**, i.e., you have no uncommitted changes.\n",
    "- For the first three exercise you can run ```python3 -m dsc.version_control.exercise_git [<arg>]``` where arg can be first, second, or third, to set up the necessary commits in Git.\n",
    "- You can try to run ```python3 -m dsc.version_control.exercise_git reset``` to undo these commits. If this doesn't work you have to undo the commits manually.\n",
    "- Don't be afraid to use ```git status``` frequently to see on which branch you are and what changes Git is tracking."
   ]
  },
  {
   "cell_type": "markdown",
   "id": "732e9cfd",
   "metadata": {
    "slideshow": {
     "slide_type": "slide"
    }
   },
   "source": [
    "## Exercise\n",
    "Run ```python3 -m dsc.version_control.exercise_git first``` or the following commands in the terminal:\n",
    "```bash\n",
    "git checkout -b _target && echo '123' > a.py && git add a.py && git commit -m 'Add a.py' &&\n",
    "git checkout main &&\n",
    "git checkout -b _source && echo '123' > b.py && git add b.py && git commit -m 'Add b.py'\n",
    "```\n",
    "Have a look at the commit history/log (using ```git log``` or GitGraph in VSCode).  \n",
    "\n",
    "1) Perform operations so that the commit history looks as follows (note that the order of the last two commits is arbitary here and might be reversed in your GitGraph):  \n",
    "![commit history](./figures/0_exercise.png)\n",
    "<br>\n",
    "2) Run ```python3 -m dsc.version_control.exercise_git reset``` or checkout to main and delete all branches manually."
   ]
  },
  {
   "cell_type": "markdown",
   "id": "8615d402",
   "metadata": {
    "slideshow": {
     "slide_type": "slide"
    },
    "tags": [
     "solution"
    ]
   },
   "source": [
    "[//]: <> (s)\n",
    "### Solution\n",
    "This exercise demonstrates ```git merge```.\n",
    "1. Integrating _source into _target by (3-way) merging _source into _target:\n",
    "```bash\n",
    "   git checkout _target && \n",
    "   git merge _source --no-edit\n",
    "```\n",
    "1. ```bash\n",
    "git checkout main &&\n",
    "git branch -D _source _target\n",
    "```"
   ]
  },
  {
   "cell_type": "markdown",
   "id": "8a19dbf2",
   "metadata": {
    "slideshow": {
     "slide_type": "slide"
    }
   },
   "source": [
    "## Exercise\n",
    "Run ```python3 -m dsc.version_control.exercise_git second``` or the following commands in the terminal:\n",
    "```bash\n",
    "git checkout -b _target && echo '123' > a.py && git add a.py && git commit -m 'Add a.py' &&\n",
    "git checkout main &&\n",
    "git checkout -b _source && echo '123' > b.py && git add b.py && git commit -m 'Add b.py'\n",
    "```\n",
    "Have a look at the commit history/log (using ```git log``` or GitGraph in VSCode). \n",
    "\n",
    "1) Perform operations so that the log looks as follows:  \n",
    "![commit history](./figures/1_exercise.png)\n",
    "<br>\n",
    "2) Run ```python3 -m dsc.version_control.exercise_git reset``` or checkout to main and delete all branches manually."
   ]
  },
  {
   "cell_type": "markdown",
   "id": "5b045d56",
   "metadata": {
    "slideshow": {
     "slide_type": "slide"
    },
    "tags": [
     "solution"
    ]
   },
   "source": [
    "[//]: <> (s)\n",
    "### Solution\n",
    "This exercise demonstrates ```git rebase```.\n",
    "1. Integrating _source into _target by rebasing _target on _source:\n",
    "```bash\n",
    "   git checkout _target && \n",
    "   git rebase _source\n",
    "```\n",
    "1. ```bash\n",
    "git checkout main &&\n",
    "git branch -D _source _target\n",
    "```"
   ]
  },
  {
   "cell_type": "markdown",
   "id": "ca6f2db0",
   "metadata": {
    "slideshow": {
     "slide_type": "slide"
    }
   },
   "source": [
    "## Exercise\n",
    "1. Create two new branches called _source and _target. Checkout _source.\n",
    "1. Add a **text.md** with the following commits:\n",
    "    - Add \"abc\" as first line and commit \"Add abc to the first line\".\n",
    "    - Add \"def\" as second line and commit \"Add def to the second line\".\n",
    "    - Add \"ghi\" as third line and commit \"Add ghi to the third line\".    \n",
    "    - Add \"jkl\" as fourth line and commit \"Add jkl to the fourth line\".\n",
    "    \n",
    "   Alternatively, you can run ```python3 -m dsc.version_control.exercise_git third``` to execute the commits but I recommend to do the commits manually at least once. \n",
    "<br><br>\n",
    "1. Do the following changes\n",
    "    1. Combine the first and second commit and adjust the commit message accordingly to \"Add abc to the first line and def to the second line\".   \n",
    "    1. Add \"jkl\" and not \"ghi\" as third line in the third commit.  \n",
    "    1. Drop the fourth commit.\n",
    "<br><br>\n",
    "1. Merge _source into _target and delete _source.\n",
    "1. Checkout to main and delete _target."
   ]
  },
  {
   "cell_type": "markdown",
   "id": "9d4c5b2f",
   "metadata": {
    "slideshow": {
     "slide_type": "slide"
    },
    "tags": [
     "solution"
    ]
   },
   "source": [
    "[//]: <> (s)\n",
    "### Solution\n",
    "In this exercise, the use of an interactive rebase is practiced.\n",
    "Run the following commands in the terminal.  \n",
    "1. \n",
    "```bash\n",
    "git branch _target &&\n",
    "git checkout -b _source\n",
    "```\n",
    "1. Do the commits manually or run ```python3 -m dsc.version_control.exercise_git third```.\n",
    "1. Start an interactive rebase on the commit which has been done 4 commits ago.\n",
    "    ```bash\n",
    "    git rebase -i HEAD~4\n",
    "    ```\n",
    "    and edit the git-rebase-todo file as follows\n",
    "\n",
    "    ```bash\n",
    "    pick   193caaf Add abc to the first line\n",
    "    squash 49bdf42 Add def to the second line\n",
    "    edit   02ea624 Add ghi to the third line\n",
    "    drop   1da20a1 Add jkl to the fourth line\n",
    "    ```\n",
    "    and conduct the rebase by \n",
    "        - performing the squash of 49bdf42 into 193caaf by changing the commit message to\n",
    "            \"Add abc to the first line and def to the second line.\"\n",
    "        - During the edit of the third commit change text.md into\n",
    "    ```\n",
    "    abc\n",
    "    def\n",
    "    jkl\n",
    "    ``` \n",
    "    and then run ```git add```, ```git commit --amend```, change the commit message to \"Add jkl to the third line\" when your text editor is opened, and finally execute ```git rebase --continue```.\n",
    "\n",
    "4. ```bash\n",
    "git checkout _target &&\n",
    "git merge _source &&\n",
    "git branch -d _source\n",
    "```\n",
    "5. ```bash\n",
    "git checkout main &&\n",
    "git branch -D _target\n",
    "```"
   ]
  },
  {
   "cell_type": "markdown",
   "id": "909337d1",
   "metadata": {
    "slideshow": {
     "slide_type": "slide"
    }
   },
   "source": [
    "## Exercise\n",
    "1. Create a new branch named by your name. \n",
    "1. Commit a text file name 'animal.txt' that contains the name of your favorite animal.\n",
    "1. Undo the previous commit using an interactive rebase so that 'animal.txt' contains your second favorite animal.\n",
    "1. Push 'animal.txt' to a remote with the same name.\n",
    "1. Assuming that the remote might be investigate by somebody else, undo the previous commit on the remote so that 'animal.txt' contains your favorite animal.\n",
    "1. Checkout to main and delete the local and remote branch named by your name."
   ]
  },
  {
   "cell_type": "markdown",
   "id": "b2fecfbb",
   "metadata": {
    "slideshow": {
     "slide_type": "slide"
    },
    "tags": [
     "solution"
    ]
   },
   "source": [
    "[//]: <> (s)\n",
    "### Solution\n",
    "1. ```bash\n",
    "git checkout -b my_name\n",
    "```\n",
    "1.\n",
    "```bash\n",
    "echo \"cat\" > animal.txt &&\n",
    "git add animal.txt &&\n",
    "git commit -m \"Add animal.txt which contains my favorite animal\"\n",
    "```\n",
    "1. We start an interactive rebase using\n",
    "```bash\n",
    "git rebase -i HEAD~1\n",
    "```\n",
    "and edit the git-rebase-todo file as follows\n",
    "```bash\n",
    "edit 193caaf Add animal.txt which contains my favorite animal\n",
    "```\n",
    "and change animal.txt into\n",
    "```\n",
    "crocodile\n",
    "``` \n",
    "and then run ```git add```, ```git commit --amend```, change the commit message to \"Add animal.txt which contains my second favorite animal\" when your text editor is opened, and finally execute ```git rebase --continue```.\n",
    "1. We now push to the remote\n",
    "```bash\n",
    "git push -u origin my_name\n",
    "```\n",
    "1. Since the remote branch is not private you should not rebase your local branch and then push to the remote. Instead you should add a new commit to your local branch and then push the changes as follows.\n",
    "```bash\n",
    "rm animal.txt &&\n",
    "echo \"cat\" > animal.txt &&\n",
    "git add animal.txt && \n",
    "git commit -m \"Add animal.txt which contains my favorite animal\" &&\n",
    "git push\n",
    "```\n",
    "1.\n",
    "```bash\n",
    "git checkout main &&\n",
    "git push -d origin my_name &&\n",
    "git branch -D my_name\n",
    "```"
   ]
  },
  {
   "cell_type": "markdown",
   "id": "3d5a1016",
   "metadata": {
    "slideshow": {
     "slide_type": "slide"
    }
   },
   "source": [
    "# Versioning Jupyter notebooks\n",
    "1. Checkout the (new) branch _jupytext. \n",
    "1. Create a .py script (with the same name) of this notebook .ipynb file using Jupytext.\n",
    "1. Commit the the .py script to Git.\n",
    "1. Execute the following code cell and save the notebook.\n",
    "1. Run git status. Does it make sense to commit the change?\n",
    "1. Delete the following code cell below.\n",
    "1. Convert the modified notebook .ipynb file again to a .py script (with the same name) using Jupytext.\n",
    "1. What does ```git status``` tell you? What changes should you commit?\n",
    "1. Delete the branch _temp."
   ]
  },
  {
   "cell_type": "code",
   "execution_count": 1,
   "id": "8bdf3057",
   "metadata": {},
   "outputs": [
    {
     "data": {
      "text/plain": [
       "1"
      ]
     },
     "execution_count": 1,
     "metadata": {},
     "output_type": "execute_result"
    }
   ],
   "source": [
    "# code cell\n",
    "1"
   ]
  },
  {
   "cell_type": "markdown",
   "id": "5fac7dc1",
   "metadata": {
    "slideshow": {
     "slide_type": "slide"
    },
    "tags": [
     "solution"
    ]
   },
   "source": [
    "[//]: <> (s)\n",
    "## Solution\n",
    "1. ```bash\n",
    "git checkout -b _jupytext\n",
    "```\n",
    "1. From the root directory of this project run\n",
    "```bash\n",
    "cd lecture_notes/1_version_control/ &&\n",
    "jupytext --to py:percent --out 3_exercise.py 3_exercise.ipynb\n",
    "```\n",
    "1. ```bash\n",
    "git add 3_exercise.py &&\n",
    "git commit -m \"add .py script of lecture_notes/1_version_control/3_exercise.ipynb\"\n",
    "```\n",
    "1. Executing the code cell above should change the cell counter.\n",
    "1. After saving the notebook, ```git status``` shows that this notebook has been changed, but the .py script is unchanged.\n",
    "    - The notebook has been changed because the cell counter has increased, but this is no meanigful change.\n",
    "    - The .py script has not changed because it only contains the input of the notebook cells (and the notebook meta data).\n",
    "    - Thus, we should not commit the change.<br><br>\n",
    "1. Select the cell in command mode and press dd to delete the code cell or use the context menu.\n",
    "1. Run \n",
    "```bash\n",
    "jupytext --to py:percent --out 3_exercise.py 3_exercise.ipynb\n",
    "```\n",
    "to convert the notebook once again to a .py script.\n",
    "1. Running ```git status```now shows that the .ipynb and .py file of the notebook have been changed. Since the .py file has been changed, the input of the notebook has been changed. Thus, we commit both the modified .iypnb and .py file.\n",
    "1. ```bash\n",
    "cd ../.. &&\n",
    "git checkout main &&\n",
    "git branch -D _jupytext\n",
    "```"
   ]
  },
  {
   "cell_type": "markdown",
   "id": "2c0a0124",
   "metadata": {
    "slideshow": {
     "slide_type": "slide"
    }
   },
   "source": [
    "# DVC\n",
    "1. Set up your own Gdrive account. You can share files of this Gdrive with spanhel@hm.edu.\n",
    "1. Create a new git branch _dvc_exercise\n",
    "1. Using the broadcast table of data/dsc.db, put all distinct movie titles that were broadcasted in 2018 into movies_2018.csv which you save in data/.\n",
    "1. Track movies_2018.csv with DVC and Git.\n",
    "1. Push movies_2018.csv to your Gdrive account. \n",
    "1. Overwrite movies_2018.csv with all distinct movie titles from the broadcast table of data/dsc.db that were broadcasted in 2018 and 2019.\n",
    "1. Rename movies_2018.csv to movies_2018_2019.csv.\n",
    "1. Push movies_2018_2019.csv to your Gdrive account.\n",
    "1. Locate movies_2018.csv and movies_2018_2019.csv on your Gdrive account.\n",
    "1. Roll back to 4.\n",
    "1. Checkout to main and tidy up."
   ]
  },
  {
   "cell_type": "markdown",
   "id": "dc9e8b7b",
   "metadata": {
    "slideshow": {
     "slide_type": "slide"
    },
    "tags": [
     "solution"
    ]
   },
   "source": [
    "[//]: <> (s)\n",
    "## Solution \n",
    "For this exercise it is helpful to create the following Python program which should be saved as src/dsc/version_control/exercise_dvc.py\n",
    "```python\n",
    "\"\"\" Helper for the DVC exercise in\n",
    "    lecture_notes/1_version_control/3_exercise.ipynb.\n",
    "\n",
    "    Creates the file 'movies_2018.csv' which contains\n",
    "    all distinct movies titles from 2018-01-01 until\n",
    "    {arg}-12-31, where arg is the first argument that\n",
    "    is provided to this program when it is run.\n",
    "\n",
    "    Program should be run from the root directory of\n",
    "    the project using python3 -m dsc.version_control.exercise_dvc YYYY\n",
    "\"\"\"\n",
    "if __name__ == '__main__':\n",
    "    import sys\n",
    "    import sqlite3\n",
    "\n",
    "    import pandas as pd\n",
    "\n",
    "    until = sys.argv[1]\n",
    "    connection = sqlite3.connect(\"data/dsc.db\")\n",
    "    cursor = connection.cursor()\n",
    "    output = \"data/movies_2018.csv\"\n",
    "\n",
    "    def execute_query(query: str):\n",
    "        return pd.read_sql_query(query, connection)\n",
    "\n",
    "    movies = execute_query(f\"\"\"\n",
    "    SELECT DISTINCT(title)\n",
    "    FROM broadcast\n",
    "    WHERE genre = 'Spielfilm'\n",
    "        AND start_time_agf >= '2018-01-01'\n",
    "        AND end_time_agf <= '{until}-12-31'\n",
    "    \"\"\")\n",
    "\n",
    "    movies.to_csv(output, index=False)\n",
    "    print(f\"> created {output}, with data until {until}-12-31\")\n",
    "\n",
    "\n",
    "```"
   ]
  },
  {
   "cell_type": "markdown",
   "id": "17c85b97",
   "metadata": {
    "slideshow": {
     "slide_type": "slide"
    },
    "tags": [
     "solution"
    ]
   },
   "source": [
    "[//]: <> (s)\n",
    "1. Go to https://www.google.com/intl/de/drive/ and open Gdrive. If you don't have a Google account create one. Don't forget to to share the corresponding Google Drive folder to at least one other person or group. For instance, you can share it with spanhel@hm.edu.\n",
    "1. In the terminal, run \n",
    "```bash\n",
    "    git checkout -b _dvc_exercise\n",
    "```\n",
    "1. To create movies_2018.csv you can either export the corresponding query result from DBeaver (using the sql editor to query the database and then exporting the result as csv by right-clicking on the resulting table in DBeaver) or run ```python3 -m dsc.version_control.exercise_dvc 2018```\n",
    "1. If DVC has not been initialized in your project, run the following command from the root of your Git repo\n",
    "```bash\n",
    "    dvc init\n",
    "```\n",
    "   Run\n",
    "```bash\n",
    "    dvc add data/movies_2018.csv &&\n",
    "    git add data/movies_2018.csv.dvc data/.gitignore &&\n",
    "    git commit -m \"Add movies_2018.csv.dvc\" \n",
    "```\n",
    "1. Run\n",
    "```bash\n",
    "    dvc remote add -d -f dvc_gdrive path2gdrive_folder &&\n",
    "    dvc push\n",
    "```\n",
    "where path2gdrive_folder is the path of your gdrive folder created in 1.\n",
    "1. You can either export and append the corresponding query result from DBeaver or run ```python3 -m dsc.version_control.exercise_dvc 2019```\n",
    "1. Run\n",
    "```bash\n",
    "dvc move data/movies_2018.csv data/movies_2018_2019.csv &&\n",
    "git add data/movies_2018_2019.csv.dvc data/movies_2018.csv.dvc data/.gitignore && \n",
    "git commit -m \"Add movies from 2019 to movies_2018.csv.dvc and rename movies_2018.csv.dvc to movies_2018_2019.csv.dvc\"\n",
    "```\n",
    "1. Run\n",
    "```bash\n",
    "    dvc push\n",
    "```\n",
    "1. The md5 hash of the corresponding .dvc files can be used to identify the folders, see the [cache section](./2_dvc.ipynb#The-cache) in lecture_notes/1_version_control/2_dvc.ipynb.\n",
    "1. ```bash\n",
    "    git checkout HEAD~1 &&\n",
    "    dvc checkout\n",
    "```\n",
    "1. ```bash\n",
    "    git checkout main &&\n",
    "    git branch -D _dvc_exercise && \n",
    "    dvc destroy &&\n",
    "    rm data/movies_2018.csv\n",
    "```"
   ]
  }
 ],
 "metadata": {
  "celltoolbar": "Tags",
  "jupytext": {
   "comment_magics": false
  },
  "kernelspec": {
   "display_name": "Python [conda env:dsc]",
   "language": "python",
   "name": "conda-env-dsc-py"
  },
  "language_info": {
   "codemirror_mode": {
    "name": "ipython",
    "version": 3
   },
   "file_extension": ".py",
   "mimetype": "text/x-python",
   "name": "python",
   "nbconvert_exporter": "python",
   "pygments_lexer": "ipython3",
   "version": "3.10.6"
  },
  "rise": {
   "footer": "<h3>Dr. Fabian Spanhel</h3>",
   "header": "<h3>DSC: 1.3 EXERCISE</h3>"
  },
  "toc": {
   "base_numbering": 1,
   "nav_menu": {},
   "number_sections": true,
   "sideBar": true,
   "skip_h1_title": false,
   "title_cell": "Table of Contents",
   "title_sidebar": "Contents",
   "toc_cell": false,
   "toc_position": {
    "height": "calc(100% - 180px)",
    "left": "10px",
    "top": "150px",
    "width": "384px"
   },
   "toc_section_display": true,
   "toc_window_display": true
  }
 },
 "nbformat": 4,
 "nbformat_minor": 5
}
