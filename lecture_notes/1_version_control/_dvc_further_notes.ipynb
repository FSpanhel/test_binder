{
 "cells": [
  {
   "cell_type": "markdown",
   "id": "7c5c74c3",
   "metadata": {},
   "source": [
    "## getting data from remote storage: dvc get"
   ]
  },
  {
   "cell_type": "markdown",
   "id": "11255800",
   "metadata": {},
   "source": [
    "We download the latest version of the data.xml file from the dataset registry repo as the data source."
   ]
  },
  {
   "cell_type": "code",
   "execution_count": null,
   "id": "402f05ac",
   "metadata": {},
   "outputs": [],
   "source": [
    "!dvc get https://github.com/iterative/dataset-registry get-started/data.xml -o dvc/data.xml  # ./dvc/data.xml can also be used"
   ]
  },
  {
   "cell_type": "code",
   "execution_count": null,
   "id": "04231357",
   "metadata": {},
   "outputs": [],
   "source": [
    "Note that get-started/data.xml does not exist in the remote repo \n",
    "https://github.com/iterative/example-get-started/tree/main/data\n",
    "but just meta data https://github.com/iterative/example-get-started/blob/main/data/data.xml.dvc \n",
    "that points to the actual file."
   ]
  },
  {
   "cell_type": "markdown",
   "id": "419209de",
   "metadata": {},
   "source": [
    "How to avoid data duplication between cache and workspace"
   ]
  },
  {
   "cell_type": "code",
   "execution_count": null,
   "id": "2f529e87",
   "metadata": {},
   "outputs": [],
   "source": [
    "https://discuss.dvc.org/t/how-to-avoid-data-duplication-between-cache-and-workspace/1340"
   ]
  }
 ],
 "metadata": {
  "jupytext": {
   "comment_magics": false
  },
  "kernelspec": {
   "display_name": "Python [conda env:dsc] *",
   "language": "python",
   "name": "conda-env-dsc-py"
  },
  "language_info": {
   "codemirror_mode": {
    "name": "ipython",
    "version": 3
   },
   "file_extension": ".py",
   "mimetype": "text/x-python",
   "name": "python",
   "nbconvert_exporter": "python",
   "pygments_lexer": "ipython3",
   "version": "3.10.6"
  },
  "toc": {
   "base_numbering": 1,
   "nav_menu": {},
   "number_sections": true,
   "sideBar": true,
   "skip_h1_title": false,
   "title_cell": "Table of Contents",
   "title_sidebar": "Contents",
   "toc_cell": false,
   "toc_position": {},
   "toc_section_display": true,
   "toc_window_display": false
  }
 },
 "nbformat": 4,
 "nbformat_minor": 5
}
