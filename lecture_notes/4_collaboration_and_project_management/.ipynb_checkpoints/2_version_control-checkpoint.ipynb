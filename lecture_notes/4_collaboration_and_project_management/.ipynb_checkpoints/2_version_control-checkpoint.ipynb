{
 "cells": [
  {
   "cell_type": "code",
   "execution_count": 15,
   "id": "c89e414e",
   "metadata": {
    "slideshow": {
     "slide_type": "notes"
    }
   },
   "outputs": [],
   "source": [
    "from dsc.notebook import embed_website\n"
   ]
  },
  {
   "cell_type": "markdown",
   "id": "4be00838",
   "metadata": {
    "slideshow": {
     "slide_type": "slide"
    }
   },
   "source": [
    "# Good Git commit messages"
   ]
  },
  {
   "cell_type": "markdown",
   "id": "8e5d0e82",
   "metadata": {
    "slideshow": {
     "slide_type": "-"
    }
   },
   "source": [
    "- Recall that using Git alone does not result in good version control...\n",
    "<div align=\"left\">\n",
    "<img src=\"./figures/vc_intro_commitstrip.png\" alt=\"VC\" width=700/>\n",
    "<div/>"
   ]
  },
  {
   "cell_type": "markdown",
   "id": "4632c34f",
   "metadata": {
    "slideshow": {
     "slide_type": "slide"
    }
   },
   "source": [
    "- You don't need to care about the content of your commits and their messages if you \n",
    "    - Never look back.\n",
    "    - Don't use ```git log```.\n",
    "    - Don't collaborate.\n",
    "- However, if you are interested in why something happened and want to maintain a project over a long period of time, you should definitely try to make [atomic commits](https://www.freshconsulting.com/insights/blog/atomic-commits/), use rebase to tidy up your commit history, and try to write good commit messages.  \n",
    "- Writing good commit messages is hard and often neglected. \n",
    "- [How to Write a Git Commit Message](https://cbea.ms/git-commit/): \"A well-crafted Git commit message is the best way to communicate context about a change to fellow developers (and indeed to their future selves). A diff will tell you what changed, but only the commit message can properly tell you why.\"\n",
    "- [Peter Hutterer](http://who-t.blogspot.com/2009/12/on-commit-messages.html): \"A commit message shows whether a developer is a good collaborator\".\n",
    "- Writing descriptive commit messages is useful for code reviews and future development."
   ]
  },
  {
   "cell_type": "markdown",
   "id": "13015501",
   "metadata": {
    "slideshow": {
     "slide_type": "slide"
    }
   },
   "source": [
    "- Similar to source code, there are some [style guidelines](https://cbea.ms/git-commit/) that you should consider when writing a commit message.\n",
    "- Separate the subject from the (optional) body with a blank line\n",
    "- The subject line should be\n",
    "    - Capitalized\n",
    "    - Limited to 50 characters (72 is the hard limit)\n",
    "    - Not be ended with a period\n",
    "    - Written in the imperative (which is Git's convention, e.g., ```Merge branch x into y```)\n",
    "- Wrap the body at 72 characters\n",
    "- If required, use the body to explain\n",
    "    - What is done in the commit.\n",
    "    - Why it is done.\n",
    "    - Why you chose this way and no other.  \n",
    "- Do not explain how the update was done. This is documented by the commit itself.\n",
    "- If possible, refer to a pull/merge request, issue, or comment that explains the commit."
   ]
  },
  {
   "cell_type": "markdown",
   "id": "9090c43e",
   "metadata": {
    "slideshow": {
     "slide_type": "subslide"
    }
   },
   "source": [
    "- An example:\n",
    "    \n",
    "```\n",
    "Add load and store functions to the data module\n",
    "\n",
    "If we modularize the notebook into scripts, we need functions that\n",
    "store and load processed data.\n",
    "The pyscaffold_test.data module has been extended by these functions\n",
    "so that\n",
    "- scripts/fit.py stores the data that it processes.\n",
    "- scripts/predict.py loads the processed data.\n",
    "\n",
    "Resolves: #4\n",
    "```"
   ]
  },
  {
   "cell_type": "markdown",
   "id": "e04ef58d",
   "metadata": {
    "slideshow": {
     "slide_type": "slide"
    }
   },
   "source": [
    "- When writing commit messages with a body, you should use ```git commit``` to open the text editor and not ```git commit -m```\n",
    "- The subject line of a commit is displayed in GitHub/GitLab or if you use ```git log --oneline```\n",
    "- There are also some [VsCode extensions](https://zhauniarovich.com/post/2020/2020-03-using-vscode-as-git-editor/) that help to formate a commit message.\n",
    "- To assign a commit to an author it is important that you configure Git in your project repo to use \n",
    "    - As ```user.email``` your @hm.edu eMail.\n",
    "    - As ```user.name``` the first letter of your first name followed by your last name, e.g, fspanhel."
   ]
  },
  {
   "cell_type": "markdown",
   "id": "a21496cd",
   "metadata": {
    "slideshow": {
     "slide_type": "slide"
    }
   },
   "source": [
    "# Working on a collaborative project with a Git management application "
   ]
  },
  {
   "cell_type": "markdown",
   "id": "0e7942c0",
   "metadata": {
    "slideshow": {
     "slide_type": "slide"
    }
   },
   "source": [
    "## Motivation\n",
    "- A Git management application is a hosting service for software development and Git version control.\n",
    "- Popular examples are \n",
    "    - [GitHub](https://github.com): The largest source code host. Best for public repos. Owned by Microsoft.\n",
    "    - [GitLab](https://gitlab.com/gitlab-org/gitlab): Must be self-hosted (?). Best for private repos.\n",
    "    - [BitBucket](https://bitbucket.org/product): From Atlassian with Jira integration. Best for private repos.\n",
    "- A Git management application hosts remote Git repos that you can use to perform pull and push operations.\n",
    "- Moreover, it simplifies the collaboration using Git and improves code developement by providing\n",
    "    - Access control.\n",
    "    - Issues to describe and discuss code changes and their tracking.\n",
    "    - Merge/Pull requests to discuss, review and approve code changes.\n",
    "    - Wikis for documentation.\n",
    "    - An easy way to fork repos.\n",
    "    - CI/CD.\n",
    "- We will discuss issues and merge/pull requests later in detail."
   ]
  },
  {
   "cell_type": "markdown",
   "id": "69d28233",
   "metadata": {
    "slideshow": {
     "slide_type": "slide"
    }
   },
   "source": [
    "## Workflow overview\n",
    "- Each fundamental change to the code should start with an **issue** that describes the task or feature.\n",
    "- Such an **issue** can be created in the browser user interface of the Git management application.\n",
    "- An issue is assigned to someone to work on it. \n",
    "- Every code change related to this issue is done in a specifc **feature branch**.\n",
    "- A a **merge/pull request** is submitted by the developer if he/she wants to discuss or has finished his/her work on the feature.\n",
    "- A merge/pull request is a browser user interface provided by the Git management application to discuss, review, and integrate code changes.\n",
    "- When the code changes on the feature branch are completed, a reviewer is assigned.\n",
    "- If the reviewer agrees that the code is finished, the browser user interface can be used to merge the feature branch into the target branch.\n",
    "- Click [here](https://docs.gitlab.com/ee/topics/gitlab_flow.html) for a more detailed overview of how to use GitLab for collaboration."
   ]
  },
  {
   "cell_type": "markdown",
   "id": "87079d6e",
   "metadata": {
    "slideshow": {
     "slide_type": "slide"
    }
   },
   "source": [
    "## Playground\n",
    "- In the following, you can use the [playground](https://gitlab.lrz.de/fspanhel/dsc_gitlab_playground) to get to know Gitlab and how it can be used for your project."
   ]
  },
  {
   "cell_type": "markdown",
   "id": "5aa08abe",
   "metadata": {
    "slideshow": {
     "slide_type": "slide"
    }
   },
   "source": [
    "## [Issues](https://docs.gitlab.com/ee/user/project/issues/ )\n",
    "- Each fundamental change to the code should start with an issue that describes the task or feature.\n",
    "- By creating an issue you \n",
    "    - Inform your team about what should be dicussed or be done.\n",
    "    - Avoid that feature branches get too big because you have to think about the scope when writing the issue.\n",
    "    - Assign responsibilities. \n",
    "    - Improve your workflow by\n",
    "        - Making use of the issue board to easily see what should be done and has be done. \n",
    "        - Refering to it when making commit messages or merge/pull requests. \n",
    "- It is necessary that every issue is addressed. You can also close them without modifying your code. In this case, the issue should contain information why it is not addressed."
   ]
  },
  {
   "cell_type": "markdown",
   "id": "4dcc8f26",
   "metadata": {
    "slideshow": {
     "slide_type": "slide"
    }
   },
   "source": [
    "### Creating an issue\n",
    "- To create an issue click on `Issues` on the left sidebar of your Gitlab project and use the resulting site to create a new issue.\n",
    "- Click [here](https://gitlab.lrz.de/fspanhel/dsc_gitlab_playground/-/issues/1) to see an issue of the [playground](https://gitlab.lrz.de/fspanhel/dsc_gitlab_playground).\n",
    "- The issue title should describe the outcome of the issue. For instance, prefer \"Cross validation should consider more than one fold\" to \"Cross validation considers only one fold\".\n",
    "- Create a [label](https://docs.gitlab.com/ee/user/project/labels.html) for this issue, e.g., to create a corresponding column for the issue board.\n",
    "- When it is clear who should work on the issue, assign the issue to this person.\n",
    "- Create a branch for the issue from the main branch to work on it. \n",
    "- For each issue there should be only one branch. But there can be one branch for several issues.\n",
    "- You can also use tasks to break the issue down into smaller parts and create a pull/merge request."
   ]
  },
  {
   "cell_type": "markdown",
   "id": "36f88746",
   "metadata": {
    "slideshow": {
     "slide_type": "slide"
    }
   },
   "source": [
    "## [Issue board](https://docs.gitlab.com/ee/user/project/issue_board.html)\n",
    "- With the issue board you can plan, organize, and visualize your workflow and manage your project.\n",
    "- It shows the issues your team is working on, the status of each issue and who the issue is assigned to.\n",
    "- You can use it as a [SCRUM](https://en.wikipedia.org/wiki/Scrum_(software_development) or [KANBAN](https://en.wikipedia.org/wiki/Kanban_(development) board. \n",
    "- Regarding Data Science projects I recommend to use it as a KANBAN board.\n",
    "- You can create a new [list](https://docs.gitlab.com/ee/user/project/issue_board.html#issue-board-terminology) (a column on the issue board that displays issues matching certain attribute) by referrring to a [label](https://docs.gitlab.com/ee/user/project/labels.html)\n",
    "- You can also use multiple issue boards (e.g., one for data processing, one for modeling...).\n",
    "- Click [here](https://www.youtube.com/watch?v=vjccjHI7aGI&feature=youtu.be) to watch a video presentation of the issue board."
   ]
  },
  {
   "cell_type": "code",
   "execution_count": 16,
   "id": "e0946b67",
   "metadata": {
    "slideshow": {
     "slide_type": "slide"
    }
   },
   "outputs": [
    {
     "data": {
      "text/html": [
       "\n",
       "        <iframe\n",
       "            width=\"900\"\n",
       "            height=\"500\"\n",
       "            src=\"https://docs.gitlab.com/ee/user/project/issue_board.html\"\n",
       "            frameborder=\"0\"\n",
       "            allowfullscreen\n",
       "            \n",
       "        ></iframe>\n",
       "        "
      ],
      "text/plain": [
       "<IPython.lib.display.IFrame at 0x7f9590716320>"
      ]
     },
     "execution_count": 16,
     "metadata": {},
     "output_type": "execute_result"
    }
   ],
   "source": [
    "embed_website(\"https://docs.gitlab.com/ee/user/project/issue_board.html\")"
   ]
  },
  {
   "cell_type": "markdown",
   "id": "00064a2e",
   "metadata": {
    "slideshow": {
     "slide_type": "slide"
    }
   },
   "source": [
    "## [Pull/merge requests](https://docs.gitlab.com/ee/user/project/merge_requests/creating_merge_requests.html)\n",
    "- A pull request (PR) or merge request (MR) is the same concept. \n",
    "    - GitHub and Bitbucket call this process a pull request because the first manual action is to pull the feature branch.\n",
    "    - GitLab call this process a merge request because the final action is to merge the feature branch.\n",
    "- Open a MR when you have **completed** your work on the feature branch or would like to **discuss** the work in progress.\n",
    "- A MR is a browser user interface to **discuss** and **review** code changes and to **merge** the feature branch into another branch.\n",
    "- For instance, if you would like to have feedback or need help, you can create a MR request, comment your code and notify corresponding persons to see the comments right to the corresponding commit. \n",
    "- In this case, you don't assign the MR to anyone and start the title of the MR with \"Draft: \" to prevent an unintended merge.\n",
    "- Note that your feature branch is public when there is a corresponding MR.\n",
    "- If the code is ready to be merged, assign the MR/PR to a reviewer which can then merge the changes.\n",
    "- However, it might happen that the reviewer asks you to add further changes to the feature branch before he/she accepts the MR. "
   ]
  },
  {
   "cell_type": "markdown",
   "id": "60ba7145",
   "metadata": {
    "slideshow": {
     "slide_type": "slide"
    }
   },
   "source": [
    "### Creating a MR\n",
    "- You can create a MR directly from and [issue](https://gitlab.lrz.de/fspanhel/dsc_gitlab_playground/-/issues/1).\n",
    "- To see the resulting MR click [here](https://gitlab.lrz.de/fspanhel/dsc_gitlab_playground/-/merge_requests/1).\n",
    "- When you create a MR, include a summary of the changes and what problem do they solve. Refer to corresponding issues and also refer to the MR in these issues. \n",
    "- If you use [appropriate keywords](https://docs.gitlab.com/ee/user/project/issues/managing_issues.html#closing-issues-automatically), the referenced issues will automatically be close when the MR merges. \n",
    "- If you want a review for this MR select a reviewer on the right sidebar who can approve the MR."
   ]
  },
  {
   "cell_type": "markdown",
   "id": "96d7f6ef",
   "metadata": {
    "slideshow": {
     "slide_type": "slide"
    }
   },
   "source": [
    "An example pull request from the [GitHub docs](https://docs.github.com/assets/cb-155985/images/help/pull_requests/pull-request-body.png):\n",
    "<div align=\"left\">\n",
    "<img src=\"https://docs.github.com/assets/cb-155985/images/help/pull_requests/pull-request-body.png\" alt=\"PR example\" width=1000/>\n",
    "<div/>"
   ]
  },
  {
   "cell_type": "markdown",
   "id": "aff42e3e",
   "metadata": {
    "slideshow": {
     "slide_type": "slide"
    }
   },
   "source": [
    "### Discussing and reviewing\n",
    "- You can use the body of the MR for a general discussion. \n",
    "- If you want to point something out to the reviews you can add comments directly to specific lines of changed files. \n",
    "\n",
    "<div align=\"left\">\n",
    "<img src=\"https://docs.github.com/assets/cb-37772/images/help/pull_requests/pull-request-comment.png\" alt=\"Comment example\" width=1000/>\n",
    "<div/>\n",
    "\n",
    "- Conversely, reviewers can comment on the whole MR or add comments to specific lines to ask questions or provide suggestions.\n",
    "- When commenting you can choose to start a review which bundles commits. \n",
    "- Resolve the commit when the discussion about it is finished.\n",
    "- Note: In order to check whether the code of the MR is running you can fetch and then checkout the corresponding remote feature branch, e.g., ```git fetch --all && git checkout origin/feature_branch```"
   ]
  },
  {
   "cell_type": "markdown",
   "id": "555934a4",
   "metadata": {
    "slideshow": {
     "slide_type": "slide"
    }
   },
   "source": [
    "### Updating\n",
    "- If new commits are added to the branch of the MR, the MR is updated accordingly. \n",
    "- This is also necessary, if improvements are required before the MR can be approved.\n",
    "- Besides adding a commit directly with Git, you can also use comments in the browser user interface to make direct [suggestions](https://docs.gitlab.com/ee/user/project/merge_requests/reviews/suggestions.html).\n",
    "    - This is especially useful for small commits, e.g., typos.\n",
    "- When you resolve one comment with a commit, you should refer to the comment link in the commit message (so that we can see which commits resolve comments in the MR)\n",
    "- If you resolve a comment with a commit you should mention the corresponding commit hash, e.g, \"Resolve by [commit hash]\"."
   ]
  },
  {
   "cell_type": "markdown",
   "id": "e122e2cf",
   "metadata": {
    "slideshow": {
     "slide_type": "slide"
    }
   },
   "source": [
    "### Approving\n",
    "- The assigned reviewers can approve the MR.\n",
    "- Depending on the settings, approval might be required so that the merge of the MR can be performed."
   ]
  },
  {
   "cell_type": "markdown",
   "id": "4ecd4ac5",
   "metadata": {
    "slideshow": {
     "slide_type": "slide"
    }
   },
   "source": [
    "### Merging\n",
    "- After each comment has been resolved or approval has been given, the code of the feature branch can be integrated into the target branch. \n",
    "- Depending on the settings, GitLab uses different [strategies](https://gitlab.lrz.de/help/user/project/merge_requests/methods/index.md) to merge the branches. \n",
    "- By default, a merge commit is always created, even if a fast-forward merge is possible. \n",
    "- It is also possible to [squash merges](https://gitlab.lrz.de/help/user/project/merge_requests/squash_and_merge.md) and delete the feature branch automatically. \n",
    "- In general, you should delete the feature branch when it is no longer needed. "
   ]
  },
  {
   "cell_type": "markdown",
   "id": "e71fefbf",
   "metadata": {
    "slideshow": {
     "slide_type": "slide"
    }
   },
   "source": [
    "# Code reviews\n",
    "- [Google's best practicses for good reviews](https://github.com/google/eng-practices/blob/master/review/index.md)\n",
    "    - Design: Is the code well-designed and appropriate for your system?\n",
    "    - Functionality: Does the code behave as the author likely intended? Is the way the code behaves good for its users?\n",
    "    - Complexity: Could the code be made simpler? Would another developer be able to easily understand and use this code when they come across it in the future?\n",
    "    - Tests: Does the code have correct and well-designed automated tests?\n",
    "    - Naming: Did the developer choose clear names for variables, classes, methods, etc.?\n",
    "    - Comments: Are the comments clear and useful?\n",
    "    - Style: Does the code follow our style guides?\n",
    "    - Documentation: Did the developer also update relevant documentation?"
   ]
  },
  {
   "cell_type": "markdown",
   "id": "df02a93b",
   "metadata": {
    "slideshow": {
     "slide_type": "slide"
    }
   },
   "source": [
    "# Git workflows\n"
   ]
  },
  {
   "cell_type": "markdown",
   "id": "0e8d788e",
   "metadata": {
    "slideshow": {
     "slide_type": "slide"
    }
   },
   "source": [
    "- Git does not dictate how to interact with it but offers a high degree of freedom in how it can be used.\n",
    "- If your team has no convention how to work with Git, working with Git may be more cumbersome than it should be.\n",
    "- A Git workflow is a guideline how to use Git consistently and efficiently.\n",
    "- In particular, it often provides guidance for managing, creating, and combining branches.\n",
    "- There is no workflow that works best for all teams and projects.\n",
    "- As a result, may workflows have been proposed."
   ]
  },
  {
   "cell_type": "markdown",
   "id": "b5048884",
   "metadata": {
    "slideshow": {
     "slide_type": "slide"
    }
   },
   "source": [
    "## [Archetypical flows](https://www.atlassian.com/git/tutorials/comparing-workflows)\n",
    "- [Centralized workflow](https://www.atlassian.com/git/tutorials/comparing-workflows#centralized-workflow)\n",
    "    - One central remote repo.\n",
    "    - There are not branches and everybody pushes to the main branch.\n",
    "- [Feature branch workflow](https://www.atlassian.com/git/tutorials/comparing-workflows/feature-branch-workflow): (read this at least once!)\n",
    "    - Uses one central remote repo and multiple branches.\n",
    "    - The main branch is the official project history in which all relevent changes eventually get merged into and which should never contain broken code. \n",
    "<!-- This is the project repository at GitHub, GitLab, ... -->\n",
    "    - The development of each feature should be encapsulated in a corresponding feature branch that is branched off from the main branch.\n",
    "    - Feature branchs are developed locally and pushed to the corresponding feature branch of the remote repo.\n",
    "    - A pull/merge request is then submitted to integrate the feature branch into the main branch.e main branch.\n",
    "- [Forking workflow](https://www.atlassian.com/git/tutorials/comparing-workflows/forking-workflow)\n",
    "    - Each developer has its own remote repo. \n",
    "    - Often used for open-source projects. \n",
    "    - A developer forks the official remote repo of the project maintainer, i.e., (s)he, or a Git hosting service, creates a own copy of the remote repo on a remote, and pushes changes to his/her private remote repo. \n",
    "    - Pull/merge requests are used to integrate changes from a forked repo into the official remote repo."
   ]
  },
  {
   "cell_type": "markdown",
   "id": "b9c2b2e5",
   "metadata": {
    "slideshow": {
     "slide_type": "slide"
    }
   },
   "source": [
    "## [Concrete flows](https://www.gitkraken.com/learn/git/best-practices/git-branch-strategy)\n",
    "- [Git flow](https://www.atlassian.com/git/tutorials/comparing-workflows/gitflow-workflow): Sophisticated feature branch workflow. \n",
    "    - The first popular workflow. \n",
    "    - Assigns specific roles to different branches and how and when they should interact. \n",
    "    - May result in merge hell. \n",
    "    - Click [here](https://www.atlassian.com/git/tutorials/comparing-workflows/gitflow-workflow) and [here](https://www.youtube.com/watch?v=_w6TwnLCFwA) for more information.\n",
    "- [GitHub flow](https://docs.github.com/en/get-started/quickstart/github-flow): Proposes to fork a repo before working on it with the feature branch workflow. \n",
    "- [Atlassian flow](https://www.atlassian.com/blog/git/simple-git-workflow-is-simple): Like GitHub flow but rebases feature branches before merging so that the actual merge commit is just a marker for the feature branch and does not include any changed files.\n",
    "- [GitLab flow](https://docs.gitlab.com/ee/topics/gitlab_flow.html#mergepull-requests-with-gitlab-flow): Click [here](https://www.youtube.com/watch?v=InKNIvky2KE&feature=youtu.be) for a video.\n",
    "- [Trunk-based flow](https://www.atlassian.com/continuous-delivery/continuous-integration/trunk-based-development). Feature branch workflow with very short-lived branches that are integrated into the main branch potentially several times a day. \n",
    "    - Common practice among DevOps teams who use [CI/CD](https://www.atlassian.com/continuous-delivery).\n",
    "    - Click [here](https://cloud.google.com/architecture/devops/devops-tech-trunk-based-development) for more information.\n",
    "-  Click [here](https://docs.gitlab.com/ee/topics/gitlab_flow.html) and  [here](https://www.gitkraken.com/learn/git/best-practices/git-branch-strategy) for a comparions of some flows.\n"
   ]
  },
  {
   "cell_type": "markdown",
   "id": "134330ec",
   "metadata": {
    "slideshow": {
     "slide_type": "slide"
    }
   },
   "source": [
    "## Git flow\n",
    "- Uses two main branches to record the history of the project\n",
    "    - The branch `main` is the official release history and contains the production-ready code.\n",
    "    - The `dev` branch contains additional development changes for the next release.\n",
    "- The other branches have a limited life time, since they will be merged into `main` and `dev` and removed eventually and are categorized as\n",
    "    - Feature branches: Branches off from and is integrated back into `dev`.\n",
    "    - Release branches: Branches off from `dev`, is integrated back into `main`.\n",
    "    - Hotfix branches: Branches off from `main`, is integrated back into `main` and `dev`.\n",
    "- Note:\n",
    "    - If `dev`is considered to be the main branch, then the feature branch workflow is used for `dev` and the feature branches.\n",
    "    - If something is merged into `main` it must also be merged into `dev. \n",
    "- See [here](https://nvie.com/posts/a-successful-git-branching-model) and [here](https://www.atlassian.com/git/tutorials/comparing-workflows/gitflow-workflow) for more details."
   ]
  },
  {
   "cell_type": "markdown",
   "id": "cfdf5cca",
   "metadata": {
    "slideshow": {
     "slide_type": "slide"
    }
   },
   "source": [
    "Source: http://nvie.com/posts/a-succesful-git-branching-model\n",
    "<div>\n",
    "<img src=\"./figures/gitflow.png\" alt=\"Git flow\" width=700/>\n",
    "<div/>"
   ]
  },
  {
   "cell_type": "markdown",
   "id": "949e3ad3",
   "metadata": {
    "slideshow": {
     "slide_type": "slide"
    }
   },
   "source": [
    "# Your data science challenge project"
   ]
  },
  {
   "cell_type": "markdown",
   "id": "87b07e5b",
   "metadata": {
    "slideshow": {
     "slide_type": "slide"
    }
   },
   "source": [
    "## The Git workflow"
   ]
  },
  {
   "cell_type": "markdown",
   "id": "bc809eeb",
   "metadata": {
    "slideshow": {
     "slide_type": "-"
    }
   },
   "source": [
    "- For data science projects which focus on analyses and experimentation I think that a simple feature branch workflow is adequate.\n",
    "- However, for this course I suggest to use a simplified Git flow for the project work that is basically a feature branch workflow with two branches `main` and `submission` that record the project's history.  \n",
    "<!--  -->\n",
    "    1. In general, you create a feature branch from the (up-to-date) branch `main`.\n",
    "    1. When a feature branch is completed, create two merge requests, each with the target branch being\n",
    "        1. `main`. \n",
    "        2. `submission`.\n",
    "    1. You close the merge request by performing the merge into `main` without deleting the feature branch (!).\n",
    "    1. After I have merged the feature branch into `submission`, you merge `submission` back into `main`.\n",
    "<br>\n",
    "<!--  -->\n",
    "<br>  \n",
    "- Using this Git flow I hope that\n",
    "    1. It is ensured that I regularly check your code and give you feedback when I review the MR for the submission branch.\n",
    "    2. Further development of your code is possible even if I have not yet performed the MR for the submission branch. "
   ]
  },
  {
   "cell_type": "markdown",
   "id": "ddbd8afd",
   "metadata": {
    "slideshow": {
     "slide_type": "slide"
    }
   },
   "source": [
    "## Branches and permissons\n",
    "- I am the maintainer of the project repo and you have a developer role.\n",
    "- Each project repo will start with the branches `main` and `submission` and the following permissions\n",
    "<br>\n",
    "<div>\n",
    "<img src=\"./figures/permission.png\" alt=\"Permissions\" width=700/>\n",
    "<div/>\n",
    "<br>\n",
    "\n",
    "- That is, you can only integrate changes on `main` and `submission` by creating a MR. \n",
    "    - You can perform the merge into `main`.\n",
    "    - Only I can perform the merge into `submission`."
   ]
  },
  {
   "cell_type": "markdown",
   "id": "02656c7f",
   "metadata": {
    "slideshow": {
     "slide_type": "slide"
    }
   },
   "source": [
    "## Merge method\n",
    "- The project uses the [default merge commit](https://gitlab.lrz.de/help/user/project/merge_requests/methods/index.md#merge-commit) to perform the merge of a MR.\n",
    "- Moreover, commits are automatically [squashed](https://gitlab.lrz.de/help/user/project/merge_requests/methods/index.md) when merging is done.\n",
    "    - Note that an explicit merge commit is always done.\n",
    "    - This is contrary to ```git merge --squash``` which does not add a merge commit.\n"
   ]
  },
  {
   "cell_type": "markdown",
   "id": "5a8a8021",
   "metadata": {
    "slideshow": {
     "slide_type": "slide"
    }
   },
   "source": [
    "## Recommendations"
   ]
  },
  {
   "cell_type": "markdown",
   "id": "ff248377",
   "metadata": {
    "slideshow": {
     "slide_type": "-"
    }
   },
   "source": [
    "### General \n",
    "- Make use of all the tools that we have discussed in this course.\n",
    "- Start with a very simple model and focus on getting results.\n",
    "- You can always iterate and improve later but it is important that the basic structure is in place.\n",
    "- Ask questions and discuss."
   ]
  },
  {
   "cell_type": "markdown",
   "id": "98acedfe",
   "metadata": {
    "slideshow": {
     "slide_type": "slide"
    }
   },
   "source": [
    "### Branches\n",
    "- First, create an issue for each significant feature. Then create the branch.\n",
    "- You don't have to create an issue if you are just fixing a bug and this is evident from the MR.\n",
    "- Ideally, one person should work on one branch.\n",
    "- Rather use short-lived branches which focus on one feature than developing several features on one feature branch.\n",
    "    - Reduces the likelihood of merge conflicts.\n",
    "    - I can give feedback more frequently. \n",
    "    - Always create at least one issue for a merge request and refer to this issue in the merge commit message. \n",
    "- Rebase private feature branches to tidy the commit history so that each commit contains an isolated and complete change.\n",
    "- Never ever rebase `main` or other public branches.\n",
    "- Use descriptive names for feature branches, like ```<author>__<branch-name>``` or ```<author>_#<issue-number>```.\n",
    "    - Click [here](https://stackoverflow.com/a/11886179) if you want to describe branches locally. However, referring to issues is a better way."
   ]
  },
  {
   "cell_type": "markdown",
   "id": "1c35a4ce",
   "metadata": {
    "slideshow": {
     "slide_type": "slide"
    }
   },
   "source": [
    "### Merge requests\n",
    "<!-- Use merge requests for significant changes instead of pushing directly to `main` so that code can be discussed during development and a code review is possible when the branch is finished.  -->\n",
    "- Use merge requests for discussion and code reviews.\n",
    "- Do not delete the feature branch before it is merged into `submission` (!)\n",
    "    - I will delete the feature branch after it is merged into `submission`.\n",
    "    - If you have deleted the feature branch you can checkout a new branch from the commit before the corresponding merge commit on `main` and use this branch as the source for the MR into `submission`.\n",
    "- Let each merge request be approved from at least one person who was not involved in the development of the feature branch (the author of the MR cannot approve but people who have added commits can).\n",
    "- You can also refer to me if you want feedback during a merge request for `main`.\n",
    "- You can leave the MR description empty if it refers to an issue that explains everything.\n",
    "- Don't forget to create a merge request to integrate the changes into `submission` (!)"
   ]
  },
  {
   "cell_type": "markdown",
   "id": "2eb1acf5",
   "metadata": {
    "slideshow": {
     "slide_type": "slide"
    }
   },
   "source": [
    "- [This merge request](https://gitlab.lrz.de/fspanhel/dsc_gitlab_playground/-/merge_requests/1) illustrates how a merge request with a referenced issue should look like  \n",
    "\n",
    "<div>\n",
    "<img src=\"./figures/mr_form.png\" alt=\"MR\" width=900/>\n",
    "<div/>"
   ]
  },
  {
   "cell_type": "markdown",
   "id": "b971d568",
   "metadata": {
    "slideshow": {
     "slide_type": "slide"
    }
   },
   "source": [
    "- If you use pull or merge requests in your code review process, don't use git rebase after creating the pull request\n",
    "- As soon as you make the pull or merge request, other developers will be investigating your commits, which means that it’s a public branch. \n",
    "- Re-writing its history will make it impossible for Git and your teammates to track any follow-up commits\n",
    "- Before you perform the pull or merge request, you could rebase the target feature onto the main branch. However, the project settings anyway imply that commits are squashed automatically and that the merge is always a [three-way merge with an explicit merge commit](https://gitlab.lrz.de/help/user/project/merge_requests/methods/index.md#merge-commit)."
   ]
  }
 ],
 "metadata": {
  "celltoolbar": "Slideshow",
  "jupytext": {
   "comment_magics": false
  },
  "kernelspec": {
   "display_name": "Python [conda env:dsc]",
   "language": "python",
   "name": "conda-env-dsc-py"
  },
  "language_info": {
   "codemirror_mode": {
    "name": "ipython",
    "version": 3
   },
   "file_extension": ".py",
   "mimetype": "text/x-python",
   "name": "python",
   "nbconvert_exporter": "python",
   "pygments_lexer": "ipython3",
   "version": "3.10.6"
  },
  "toc": {
   "base_numbering": 1,
   "nav_menu": {},
   "number_sections": true,
   "sideBar": true,
   "skip_h1_title": false,
   "title_cell": "Table of Contents",
   "title_sidebar": "Contents",
   "toc_cell": false,
   "toc_position": {
    "height": "calc(100% - 180px)",
    "left": "10px",
    "top": "150px",
    "width": "370px"
   },
   "toc_section_display": true,
   "toc_window_display": false
  }
 },
 "nbformat": 4,
 "nbformat_minor": 5
}
