{
 "cells": [
  {
   "cell_type": "markdown",
   "id": "3d8f7426",
   "metadata": {},
   "source": [
    "# Description of your first issue\n",
    "The following cell contains the body of your first issue\n",
    "1. [ ] Assign the label `Warm-up` to the issue.\n",
    "1. [ ] Set up a feature-branch and a merge request from the issue with the source being the `main` branch.\n",
    "    1. [ ] When setting up the merge request mark it as a draft and assign yourself.\n",
    "1. [ ] Have a look at Git graph in VS Code and investigate the Git branches.\n",
    "1. [ ] Use the `cd` command to set the current working directory of the terminal to the root of your local copy of the playground repo.\n",
    "1. [ ] Fetch the remote by running `git fetch` in your terminal.\n",
    "1. [ ] Checkout the branch by running `git checkout feature-branch` in your terminal.\n",
    "1. [ ] Have a look at Git graph in VS Code. What has changed?\n",
    "1. [ ] Create folder with a name give by your full name, e.g., `fabian_spanhel`.\n",
    "1. [ ] Create a `README.md` inside the folder created in the previous step.\n",
    "1. [ ] Insert the following text to the `README.md`\n",
    "    ```\n",
    "    This is my personal folder in the playground created according to [insert issue url here].\n",
    "    ```\n",
    "1. [ ] Commit the changes to Git using `git add . && git commit`.\n",
    "1. [ ] Push the changes to the remote using `git push -u origin feature-branch`.\n",
    "1. [ ] Have a look at the merge request of this issue.\n",
    "1. [ ] If you are happy with the merge request mark it as ready.\n",
    "1. [ ] Add the comment \"@fspanhel It's ready, please review.\" to the merge request and assign `fspanhel` as reviewer.\n",
    "1. [ ] Address possible comments that occur during the review.\n",
    "    1. In case you create a commit to address a particular comment, please refer to this comment in the commit message.\n",
    "1. [ ] After the merge request has been approved, merge it.\n",
    "1. [ ] Checkout to the main branch using `git checkout main`.\n",
    "1. [ ] Have a look at Git graph in VS Code. What has changed?\n",
    "1. [ ] Run `git fetch --prune` to delete the references to the remote feature-branch that should already been deleted by the previous merge.\n",
    "1. [ ] Delete the local branch using `git branch -d feature-branch`.\n",
    "1. [ ] Have a look at Git graph in VS Code. What has changed?"
   ]
  },
  {
   "cell_type": "markdown",
   "id": "ce454c7b",
   "metadata": {},
   "source": [
    "## Exercise: Create your first issue\n",
    "1. Create an issue in the [playground](https://gitlab.lrz.de/dsc/2023/playground/-/issues/1) with the title `[name]: First task `, where [name] is your full name e.g., `Fabian Spanhel: First task`.\n",
    "1. Use the content of the previous cell as issue description.\n",
    "1. Address the first point mentioned in the issue description.\n",
    "1. Please check off an item if you have completed it."
   ]
  },
  {
   "cell_type": "markdown",
   "id": "5381c957",
   "metadata": {},
   "source": [
    "## Exercise: Create a feature branch and the corresponding MR\n",
    "- Consider the issue in the [playground](https://gitlab.lrz.de/dsc/2023/playground/-/issues/1) with the title `[name]: First task`, where [name] is your full name.\n",
    "- Address the second and third point.\n",
    "- Please check off an item if you have completed it."
   ]
  },
  {
   "cell_type": "markdown",
   "id": "d0dc1fc6",
   "metadata": {},
   "source": [
    "## Exercise: Work on your MR\n",
    "- Consider the issue in the [playground](https://gitlab.lrz.de/dsc/2023/playground/-/issues/1) with the title `[name]: First task`, where [name] is your full name.\n",
    "- Address the points 4 to 12."
   ]
  },
  {
   "cell_type": "markdown",
   "id": "bbee81df",
   "metadata": {},
   "source": [
    "## Exercise: Discussion and reviewing of the MR\n",
    "- Consider the issue in the [playground](https://gitlab.lrz.de/dsc/2023/playground/-/issues/1) with the title `[name]: First task`, where [name] is your full name.\n",
    "- Address the points 13 to 16.\n",
    "- Please check off an item if you have completed it."
   ]
  },
  {
   "cell_type": "markdown",
   "id": "b9273de6",
   "metadata": {},
   "source": [
    "## Exercise: Merge the MR\n",
    "- Consider the issue in the [playground](https://gitlab.lrz.de/dsc/2023/playground/-/issues/1) with the title `[name]: First task`, where [name] is your full name.\n",
    "- Address the remaining points.\n",
    "- Please check off an item if you have completed it."
   ]
  }
 ],
 "metadata": {
  "jupytext": {
   "comment_magics": false
  },
  "kernelspec": {
   "display_name": "Python [conda env:dsc_dev] *",
   "language": "python",
   "name": "conda-env-dsc_dev-py"
  },
  "language_info": {
   "codemirror_mode": {
    "name": "ipython",
    "version": 3
   },
   "file_extension": ".py",
   "mimetype": "text/x-python",
   "name": "python",
   "nbconvert_exporter": "python",
   "pygments_lexer": "ipython3",
   "version": "3.10.12"
  },
  "toc": {
   "base_numbering": 1,
   "nav_menu": {},
   "number_sections": true,
   "sideBar": false,
   "skip_h1_title": false,
   "title_cell": "Table of Contents",
   "title_sidebar": "Contents",
   "toc_cell": false,
   "toc_position": {
    "height": "calc(100% - 180px)",
    "left": "10px",
    "top": "200px",
    "width": "360px"
   },
   "toc_section_display": true,
   "toc_window_display": true
  }
 },
 "nbformat": 4,
 "nbformat_minor": 5
}
