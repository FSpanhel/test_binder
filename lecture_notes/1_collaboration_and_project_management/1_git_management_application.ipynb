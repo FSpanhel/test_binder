{
 "cells": [
  {
   "cell_type": "code",
   "execution_count": 5,
   "id": "c89e414e",
   "metadata": {
    "lines_to_next_cell": 2,
    "slideshow": {
     "slide_type": "notes"
    }
   },
   "outputs": [],
   "source": [
    "from dsc.notebook import embed_website"
   ]
  },
  {
   "cell_type": "markdown",
   "id": "a21496cd",
   "metadata": {
    "slideshow": {
     "slide_type": "slide"
    }
   },
   "source": [
    "# Working on a collaborative project with Git and a Git management application "
   ]
  },
  {
   "cell_type": "markdown",
   "id": "601acec3",
   "metadata": {
    "slideshow": {
     "slide_type": "slide"
    }
   },
   "source": [
    "## Introduction\n",
    "- [Git](https://git-scm.com/) is commonly introduced as a tool to version source code.\n",
    "- However, due to its branching capatibilites Git is also a tool that helps to develop code.\n",
    "- **Together with Git management platforms like [GitHub](https://github.com) or [GitLab](https://gitlab.com/gitlab-org/gitlab), Git becomes the predominant choice for (collaborative) code development.**\n",
    "- As a result, our initial focus will be on Git in conjunction with a Git management platform, with a more detailed discussion of plain Git to follow later on."
   ]
  },
  {
   "cell_type": "markdown",
   "id": "0e7942c0",
   "metadata": {
    "slideshow": {
     "slide_type": "slide"
    }
   },
   "source": [
    "- A **Git management application** is a hosting service for software development and Git version control.\n",
    "- Popular examples are \n",
    "    - [GitHub](https://github.com): The largest source code host. Best for public repos. Owned by Microsoft.\n",
    "    - [GitLab](https://gitlab.com/gitlab-org/gitlab): Best for private repos.\n",
    "    - [BitBucket](https://bitbucket.org/product): From Atlassian with Jira integration. Best for private repos.\n",
    "- A Git management application **hosts remote Git repos** that you can use to perform pull and push operations.\n",
    "- Moreover, it **simplifies the collaboration using Git** and improves code developement by providing\n",
    "    - Access control.\n",
    "    - Issues to describe and discuss code changes and their tracking.\n",
    "    - Merge/Pull requests to discuss, review and approve code changes.\n",
    "    - Wikis for documentation.\n",
    "    - An easy way to fork repos.\n",
    "    - CI/CD.\n",
    "- We will discuss issues and merge/pull requests later in detail."
   ]
  },
  {
   "cell_type": "markdown",
   "id": "69d28233",
   "metadata": {
    "slideshow": {
     "slide_type": "slide"
    }
   },
   "source": [
    "## Workflow overview\n",
    "- Each fundamental change to the code should start with an **issue** that describes the task or feature.\n",
    "- Such an **issue** can be created in the browser user interface of the Git management application.\n",
    "- An issue is assigned to someone to work on it. \n",
    "- Every code change related to this issue is done in a specifc **feature branch**.\n",
    "- A a **merge/pull request** is submitted by the developer if he/she wants to discuss or has finished his/her work on the feature.\n",
    "- A merge/pull request is a browser user interface provided by the Git management application to discuss, review, and integrate code changes.\n",
    "- When the code changes on the feature branch are completed, a reviewer is assigned.\n",
    "- If the reviewer agrees that the code is finished, the browser user interface can be used to merge the feature branch into the target branch.\n",
    "- Click [here](https://docs.gitlab.com/ee/topics/gitlab_flow.html) for a more detailed overview of how to use GitLab for collaboration."
   ]
  },
  {
   "cell_type": "markdown",
   "id": "87079d6e",
   "metadata": {
    "slideshow": {
     "slide_type": "slide"
    }
   },
   "source": [
    "## Playground\n",
    "- In the following, you can use the [playground](https://gitlab.lrz.de/dsc/2023/playground) to get to know Gitlab and how it can be used for your project."
   ]
  },
  {
   "cell_type": "markdown",
   "id": "5aa08abe",
   "metadata": {
    "slideshow": {
     "slide_type": "slide"
    }
   },
   "source": [
    "# [Issues](https://docs.gitlab.com/ee/user/project/issues/ )\n",
    "- Each fundamental change to the code should start with an issue that describes the task or feature.\n",
    "- By creating an issue you \n",
    "    - Inform your team about what should be discussed or be done.\n",
    "    - Avoid that feature branches get too big because you have to think about the scope when writing the issue.\n",
    "    - Assign responsibilities. \n",
    "    - Improve your workflow by\n",
    "        - Making use of the issue board to easily see what should be done and has be done. \n",
    "        - Refering to it when making commit messages or merge/pull requests. \n",
    "- Every issue should be addressed. You can also close them without modifying your code. In this case, the issue should contain information why it is not addressed (!)"
   ]
  },
  {
   "cell_type": "markdown",
   "id": "4dcc8f26",
   "metadata": {
    "slideshow": {
     "slide_type": "slide"
    }
   },
   "source": [
    "## Creating an issue\n",
    "- To create an issue click on `Issues` on the left sidebar of your Gitlab project and use the resulting site to create a new issue.\n",
    "- Click [here](https://gitlab.lrz.de/dsc/2023/playground/-/issues/1) to see an issue of the [playground](https://gitlab.lrz.de/dsc/2023/playground).\n",
    "- The issue title should describe the outcome of the issue. For instance, prefer \"Cross validation should consider more than one fold\" to \"Cross validation considers only one fold\".\n",
    "- Create a [label](https://docs.gitlab.com/ee/user/project/labels.html) for this issue, e.g., to create a corresponding column for the issue board.\n",
    "- When it is clear who should work on the issue, assign the issue to this person.\n",
    "- Create a branch for the issue from the main branch to work on it. \n",
    "- For each issue there should be only one branch. But there can be one branch for several issues.\n",
    "- You can also use tasks to break the issue down into smaller parts or use a milestone to group several issues.\n",
    "- You can als create a pull/merge request from an issue."
   ]
  },
  {
   "cell_type": "markdown",
   "id": "6656d449",
   "metadata": {
    "slideshow": {
     "slide_type": "slide"
    }
   },
   "source": [
    "## Exercise: Create your first issue\n",
    "1. Create an issue in the [playground](https://gitlab.lrz.de/dsc/2023/playground/-/issues/1) with the title `[name]: First task `, where [name] is your full name e.g., `Fabian Spanhel: First task`.\n",
    "1. Insert the content of [first_task.md](first_task.md) as issue description.\n",
    "1. Address the first point mentioned in the issue description.\n",
    "1. Please check off an item if you have completed it."
   ]
  },
  {
   "cell_type": "markdown",
   "id": "36f88746",
   "metadata": {
    "slideshow": {
     "slide_type": "slide"
    }
   },
   "source": [
    "## [Issue board](https://docs.gitlab.com/ee/user/project/issue_board.html)\n",
    "- With the issue board you can plan, organize, and visualize your workflow and manage your project.\n",
    "- It shows the issues your team is working on, the status of each issue and who the issue is assigned to.\n",
    "- You can use it as a [SCRUM](https://en.wikipedia.org/wiki/Scrum_(software_development) or [KANBAN](https://en.wikipedia.org/wiki/Kanban_(development) board. \n",
    "- Regarding Data Science projects I recommend to use it as a KANBAN board.\n",
    "- You can create a new [list](https://docs.gitlab.com/ee/user/project/issue_board.html#issue-board-terminology) (a column on the issue board that displays issues matching certain attribute) by referrring to a [label](https://docs.gitlab.com/ee/user/project/labels.html)\n",
    "- You can also use multiple issue boards (e.g., one for data processing, one for modeling...).\n",
    "- Click [here](https://www.youtube.com/watch?v=vjccjHI7aGI&feature=youtu.be) to watch a video presentation of the issue board.\n",
    "- The issue board of the playground can be found [here](https://gitlab.lrz.de/dsc/2023/playground/-/boards)"
   ]
  },
  {
   "cell_type": "code",
   "execution_count": 6,
   "id": "e0946b67",
   "metadata": {
    "slideshow": {
     "slide_type": "slide"
    }
   },
   "outputs": [
    {
     "data": {
      "text/html": [
       "\n",
       "        <iframe\n",
       "            width=\"900\"\n",
       "            height=\"500\"\n",
       "            src=\"https://docs.gitlab.com/ee/user/project/issue_board.html\"\n",
       "            frameborder=\"0\"\n",
       "            allowfullscreen\n",
       "            \n",
       "        ></iframe>\n",
       "        "
      ],
      "text/plain": [
       "<IPython.lib.display.IFrame at 0x7f4d50350220>"
      ]
     },
     "execution_count": 6,
     "metadata": {},
     "output_type": "execute_result"
    }
   ],
   "source": [
    "embed_website(\"https://docs.gitlab.com/ee/user/project/issue_board.html\")"
   ]
  },
  {
   "cell_type": "markdown",
   "id": "25002522",
   "metadata": {
    "slideshow": {
     "slide_type": "slide"
    }
   },
   "source": [
    "# [Pull/merge requests](https://docs.gitlab.com/ee/user/project/merge_requests/creating_merge_requests.html)\n",
    "- A **pull request (PR)** or **merge request (MR)** is the same concept. \n",
    "    - GitHub and Bitbucket call this process a pull request because the first action is to pull the feature branch.\n",
    "    - GitLab call this process a merge request because the final action is to merge the feature branch.\n",
    "- A MR is a website to **discuss** and **review** code changes done in a feature branch and to **merge** it into another branch.\n",
    "    - Open a MR when you would like to **discuss** the work in progress or have **completed** your work on the feature branch.\n",
    "    - After discussion and review, the code of the branch of the MR can be **merged** into a target branch.\n",
    "- The underlying process of a MR is designed to **maintain code quality**, **prevent errors**, and ensure that the **changes align with the repo's goals and standards**.\n",
    "- Note that your feature branch is considered to be public when it is attached to a corresponding MR, so **be careful with rebasing the branch of a MR**"
   ]
  },
  {
   "cell_type": "markdown",
   "id": "60ba7145",
   "metadata": {
    "slideshow": {
     "slide_type": "slide"
    }
   },
   "source": [
    "## Creating a MR\n",
    "- It's best to create a MR with corresponding branch directly from an [issue](https://gitlab.lrz.de/fspanhel/dsc_gitlab_playground/-/issues/1).\n",
    "    - It's fine if several issues can be resolved by a MR but there shouldn't be several MRs that resolve one issue.\n",
    "- To see the resulting MR click [here](https://gitlab.lrz.de/dsc/2023/playground/-/merge_requests/2).\n",
    "- When you create a MR, include in its description at least one of the following points\n",
    "    - A summary of the changes and what problem they solve.\n",
    "    - References to the corresponding issues.\n",
    "        - Gitab will then automatically refer to the MR in the reference issue.\n",
    "        - If you use [appropriate keywords](https://docs.gitlab.com/ee/user/project/issues/managing_issues.html#closing-issues-automatically), the referenced issues will automatically be closed when the branch of the MR is merged to the default branch.\n",
    "- If you would like to have feedback or need help\n",
    "    - Start the title of the MR with \"Draft: \" to signal this and to prevent an unintended merge.\n",
    "    - Add general comments below the MR description or on specific lines of code, and alert persons by mentioning them using the \"@\" symbol followed by their alias, e.g. `@fspanhel`."
   ]
  },
  {
   "cell_type": "markdown",
   "id": "a5cf79ee",
   "metadata": {
    "slideshow": {
     "slide_type": "slide"
    }
   },
   "source": [
    "### Exercise: Create a feature branch and the corresponding MR\n",
    "- Consider the issue in the [playground](https://gitlab.lrz.de/dsc/2023/playground/-/issues/1) with the title `[name]: First task`, where [name] is your full name, e.g., \"Fabian Spanhel\".\n",
    "- Address the second and third point.\n",
    "- Please check off an item if you have completed it."
   ]
  },
  {
   "cell_type": "markdown",
   "id": "8e841cea",
   "metadata": {
    "slideshow": {
     "slide_type": "slide"
    }
   },
   "source": [
    "## Working on a MR\n",
    "- For simple commits that only involve one text file, you can use GitLab to edit the source code of the remote feature-branch.\n",
    "- However, in general, you edit the source code on your local copy of the remote feature-branch.\n",
    "-  In order to get this local copy\n",
    "    1. Run `git fetch` in your terminal.\n",
    "    1. Checkout the branch by running `git checkout feature-branch` in your terminal.\n",
    "    1. You can now commit changes to your local feature-branch.\n",
    "- Push the changes to the remote using `git push -u origin feature-branch`."
   ]
  },
  {
   "cell_type": "markdown",
   "id": "e55d0dfa",
   "metadata": {
    "slideshow": {
     "slide_type": "slide"
    }
   },
   "source": [
    "### Exercise: Work on your MR\n",
    "- Consider the issue in the [playground](https://gitlab.lrz.de/dsc/2023/playground/-/issues/1) with the title `[name]: First task`, where [name] is your full name.\n",
    "- Address the points 4 to 12."
   ]
  },
  {
   "cell_type": "markdown",
   "id": "aff42e3e",
   "metadata": {
    "slideshow": {
     "slide_type": "slide"
    }
   },
   "source": [
    "## [Discussing and reviewing](https://gitlab.lrz.de/help/user/project/merge_requests/reviews/index.md#checkout-merge-requests-locally-through-the-head-ref)\n",
    "- You can use comments and threads below the MR for a general discussion.\n",
    "- Resolve a thread when the discussion about it is finished.\n",
    "- If you want to point something out you can add comments directly on specific lines of changed files or start an review which bundles comments\n",
    "    - Note that the comments are not viewable by others if the review is not finished (!).\n",
    "- If you want a review for this MR, select a reviewer on the right sidebar who can approve and merge the MR.\n",
    "- Conversely, reviewers can comment on the whole MR or add comments to specific lines to ask questions or provide suggestions.\n",
    "\n",
    "- Note: If you are an reviewer and want to check whether the code of the MR is running you can fetch and then checkout the corresponding feature branch, e.g., `git fetch && git checkout feature-branch`"
   ]
  },
  {
   "cell_type": "markdown",
   "id": "555934a4",
   "metadata": {
    "slideshow": {
     "slide_type": "slide"
    }
   },
   "source": [
    "### Updating\n",
    "- If a discussion or review reveals shortcomings, anyone can commit and push a fix. However, the person to do this is isually the creator of the MR.\n",
    "- If new commits are added to the branch of an open MR, the MR is updated accordingly. \n",
    "- If the merged request has been closed, updates on the branch will not be considered in the merge request.\n",
    "- New commits or other updates in the MR (such as comments) are displayed at the bottom of the MR overview in the activity section.\n",
    "- Besides adding a commit directly with Git, you can also use comments in the browser user interface to make direct [suggestions](https://docs.gitlab.com/ee/user/project/merge_requests/reviews/suggestions.html).\n",
    "    - This is especially useful for small commits, e.g., typos, or when you are not the creator of the MR.\n",
    "- When you resolve one comment with a commit, you should refer to the comment link in the body of the commit message.\n",
    "- If you resolve a comment with a commit you should mention the corresponding commit hash, e.g, \"Resolved by [commit hash]\"."
   ]
  },
  {
   "cell_type": "markdown",
   "id": "e122e2cf",
   "metadata": {
    "slideshow": {
     "slide_type": "slide"
    }
   },
   "source": [
    "### Approving\n",
    "- The assigned reviewers can approve the MR.\n",
    "- Depending on the settings, approval might be required so that the merge of the MR can be performed."
   ]
  },
  {
   "cell_type": "markdown",
   "id": "123d1d9b",
   "metadata": {
    "slideshow": {
     "slide_type": "slide"
    }
   },
   "source": [
    "### Exercise: Discussion and reviewing of the MR\n",
    "- Consider the issue in the [playground](https://gitlab.lrz.de/dsc/2023/playground/-/issues/1) with the title `[name]: First task`, where [name] is your full name.\n",
    "- Address the points 13 to 16.\n",
    "- Please check off an item if you have completed it."
   ]
  },
  {
   "cell_type": "markdown",
   "id": "4ecd4ac5",
   "metadata": {
    "slideshow": {
     "slide_type": "slide"
    }
   },
   "source": [
    "## Merging\n",
    "- After each comment has been resolved or approval has been given, the code of the feature branch can be integrated into the target branch. \n",
    "- The decision on who merges a MR depends on the project's structure, size, and guidelines.\n",
    "    - In open source projects, it is typical that only repo maintainers can perform merges.\n",
    "    - In smaller projects, creators of the MR can merge after.\n",
    "- Depending on the settings, GitLab uses different [strategies](https://gitlab.lrz.de/help/user/project/merge_requests/methods/index.md) to merge the branches. \n",
    "- By default, a merge commit is always created, even if a fast-forward merge is possible. \n",
    "- It is also possible to [squash merges](https://gitlab.lrz.de/help/user/project/merge_requests/squash_and_merge.md) and delete the feature branch automatically. \n",
    "- In general, you should delete the feature branch when it is no longer needed.\n",
    "    - By default, the remote feature branch is automatically deleted by GitLab after the merge.\n",
    "    - However, a corresponding local feature branch must be deleted manually, e.g., using `git branch -d feature-branch`.\n",
    "    - Note that deleted remote branches are still visible in Git unless you fetch with the flag `--prune`."
   ]
  },
  {
   "cell_type": "markdown",
   "id": "a952ab64",
   "metadata": {
    "slideshow": {
     "slide_type": "slide"
    }
   },
   "source": [
    "### Exercise: Merge the MR\n",
    "- Consider the issue in the [playground](https://gitlab.lrz.de/dsc/2023/playground/-/issues/1) with the title `[name]: First task`, where [name] is your full name.\n",
    "- Address the remaining points.\n",
    "- Please check off an item if you have completed it."
   ]
  },
  {
   "cell_type": "markdown",
   "id": "32654583",
   "metadata": {
    "slideshow": {
     "slide_type": "slide"
    }
   },
   "source": [
    "Let's have a look at the [issue board](https://gitlab.lrz.de/dsc/2023/playground/-/boards) again."
   ]
  }
 ],
 "metadata": {
  "celltoolbar": "Slideshow",
  "jupytext": {
   "comment_magics": false
  },
  "kernelspec": {
   "display_name": "Python [conda env:dsc] *",
   "language": "python",
   "name": "conda-env-dsc-py"
  },
  "language_info": {
   "codemirror_mode": {
    "name": "ipython",
    "version": 3
   },
   "file_extension": ".py",
   "mimetype": "text/x-python",
   "name": "python",
   "nbconvert_exporter": "python",
   "pygments_lexer": "ipython3",
   "version": "3.11.4"
  },
  "rise": {
   "footer": "<h3>Dr. Fabian Spanhel</h3>",
   "header": "<h3>DSC: 1.1 GIT MANAGEMENT APP</h3>"
  },
  "toc": {
   "base_numbering": 1,
   "nav_menu": {},
   "number_sections": true,
   "sideBar": false,
   "skip_h1_title": false,
   "title_cell": "Table of Contents",
   "title_sidebar": "Contents",
   "toc_cell": false,
   "toc_position": {
    "height": "calc(100% - 180px)",
    "left": "0px",
    "top": "200px",
    "width": "360px"
   },
   "toc_section_display": true,
   "toc_window_display": true
  }
 },
 "nbformat": 4,
 "nbformat_minor": 5
}
