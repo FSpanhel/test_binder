{
 "cells": [
  {
   "cell_type": "code",
   "execution_count": null,
   "id": "f87a6a82",
   "metadata": {},
   "outputs": [],
   "source": [
    "# jupyter notebook --generate-config\n",
    "# > generates config in /home/spa0001f/.jupyter/jupyter_notebook_config.py\n"
   ]
  },
  {
   "cell_type": "markdown",
   "id": "f285b70c",
   "metadata": {},
   "source": [
    "# Formatting"
   ]
  },
  {
   "cell_type": "markdown",
   "id": "e87bf57a",
   "metadata": {},
   "source": [
    "## display all outputs"
   ]
  },
  {
   "cell_type": "code",
   "execution_count": 1,
   "id": "20d24ec6",
   "metadata": {},
   "outputs": [],
   "source": [
    "from IPython.core.interactiveshell import InteractiveShell\n",
    "\n",
    "InteractiveShell.ast_node_interactivity = \"all\" # ‘all’, ‘last’, ‘last_expr’ or ‘none’, ‘last_expr_or_assign’"
   ]
  },
  {
   "cell_type": "markdown",
   "id": "93833f0f",
   "metadata": {},
   "source": [
    "## footnotes"
   ]
  },
  {
   "cell_type": "markdown",
   "id": "0c106e39",
   "metadata": {},
   "source": [
    "Just a footnote[<sup id=\"fn2-back\">2</sup>](#fn2).\n",
    "\n",
    "[<sup id=\"fn2\">2</sup>](#fn2-back) footnote 2"
   ]
  },
  {
   "cell_type": "code",
   "execution_count": null,
   "id": "08f181c3",
   "metadata": {},
   "outputs": [],
   "source": [
    "Just a footnote[<sup id=\"fn2-back\">2</sup>](#fn2).\n",
    "\n",
    "[<sup id=\"fn2\">2</sup>](#fn2-back) footnote 2"
   ]
  },
  {
   "cell_type": "markdown",
   "id": "1be28542",
   "metadata": {},
   "source": [
    "## details"
   ]
  },
  {
   "cell_type": "markdown",
   "id": "ebb420ce",
   "metadata": {},
   "source": [
    "<details>\n",
    "\n",
    "\n",
    "Let's say we obtained more data from some external source. We can pretend this\n",
    "is the case by doubling the dataset:\n",
    "\n",
    "\n",
    "</details>"
   ]
  },
  {
   "cell_type": "markdown",
   "id": "2763b2a6",
   "metadata": {},
   "source": [
    "# Trust notebook"
   ]
  },
  {
   "cell_type": "code",
   "execution_count": null,
   "id": "4de3f550",
   "metadata": {},
   "outputs": [],
   "source": [
    "# https://stackoverflow.com/questions/66509195/how-to-mark-jupyter-notebook-trusted-when-generating-the-notebook-with-papermill\n",
    "# jupyter trust mynotebook.ipynb"
   ]
  },
  {
   "cell_type": "code",
   "execution_count": 1,
   "id": "4d45a81d",
   "metadata": {},
   "outputs": [
    {
     "name": "stdout",
     "output_type": "stream",
     "text": [
      "/home/spa0001f/github/dsc/lecture_notes\r\n"
     ]
    }
   ],
   "source": [
    "!pwd"
   ]
  },
  {
   "cell_type": "markdown",
   "id": "8951e836",
   "metadata": {},
   "source": [
    "# set notebook starting dir -> has no effect, starting working directory is still the directory of the notebook, maybe an IPython thin?"
   ]
  },
  {
   "cell_type": "code",
   "execution_count": null,
   "id": "f2ae2e1c",
   "metadata": {},
   "outputs": [],
   "source": [
    "jupyter notebook --notebook-dir=\".\""
   ]
  },
  {
   "cell_type": "markdown",
   "id": "7460c26e",
   "metadata": {},
   "source": [
    "# embed html"
   ]
  },
  {
   "cell_type": "code",
   "execution_count": 3,
   "id": "0a070e38",
   "metadata": {},
   "outputs": [
    {
     "data": {
      "text/html": [
       "<h1>Hello, world!</h1>"
      ],
      "text/plain": [
       "<IPython.core.display.HTML object>"
      ]
     },
     "metadata": {},
     "output_type": "display_data"
    }
   ],
   "source": [
    "from IPython.display import display, HTML\n",
    "display(HTML('<h1>Hello, world!</h1>'))\n",
    "HTML?"
   ]
  },
  {
   "cell_type": "markdown",
   "id": "8b43d759",
   "metadata": {},
   "source": [
    "# embed website"
   ]
  },
  {
   "cell_type": "code",
   "execution_count": 1,
   "id": "0a862cb2",
   "metadata": {},
   "outputs": [
    {
     "data": {
      "text/html": [
       "\n",
       "        <iframe\n",
       "            width=\"900\"\n",
       "            height=\"500\"\n",
       "            src=\"https://www.openasapp.com/embedding-an-iframe-step-by-step/\"\n",
       "            frameborder=\"0\"\n",
       "            allowfullscreen\n",
       "            \n",
       "        ></iframe>\n",
       "        "
      ],
      "text/plain": [
       "<IPython.lib.display.IFrame at 0x7fba4e2eb460>"
      ]
     },
     "execution_count": 1,
     "metadata": {},
     "output_type": "execute_result"
    }
   ],
   "source": [
    "from IPython.display import IFrame\n",
    "IFrame(\"https://www.openasapp.com/embedding-an-iframe-step-by-step/\", 900,500)"
   ]
  }
 ],
 "metadata": {
  "jupytext": {
   "comment_magics": false
  },
  "kernelspec": {
   "display_name": "Python [conda env:dsc]",
   "language": "python",
   "name": "conda-env-dsc-py"
  },
  "language_info": {
   "codemirror_mode": {
    "name": "ipython",
    "version": 3
   },
   "file_extension": ".py",
   "mimetype": "text/x-python",
   "name": "python",
   "nbconvert_exporter": "python",
   "pygments_lexer": "ipython3",
   "version": "3.10.6"
  },
  "toc": {
   "base_numbering": 1,
   "nav_menu": {},
   "number_sections": true,
   "sideBar": true,
   "skip_h1_title": false,
   "title_cell": "Table of Contents",
   "title_sidebar": "Contents",
   "toc_cell": false,
   "toc_position": {},
   "toc_section_display": true,
   "toc_window_display": false
  }
 },
 "nbformat": 4,
 "nbformat_minor": 5
}
