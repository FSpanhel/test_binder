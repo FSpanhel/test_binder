{
 "cells": [
  {
   "cell_type": "code",
   "execution_count": 1,
   "id": "d9108e30",
   "metadata": {
    "slideshow": {
     "slide_type": "notes"
    }
   },
   "outputs": [],
   "source": [
    "import sys\n",
    "\n",
    "from dsc.setup_python_project.virtual_environment import (\n",
    "    conda_env,\n",
    "    site_packages,\n",
    "    python,\n",
    "    pandas,\n",
    "    path)"
   ]
  },
  {
   "cell_type": "markdown",
   "id": "4d750148",
   "metadata": {
    "slideshow": {
     "slide_type": "slide"
    }
   },
   "source": [
    "# Agenda\n",
    "- In this chapter, we will see why we should always use an virtual environment and what a virtual environment actually is.\n",
    "- Moreover, we address package management and environment management with conda.\n",
    "- Please start this notebook from an activated `dsc` environment."
   ]
  },
  {
   "cell_type": "markdown",
   "id": "09134ef2",
   "metadata": {
    "slideshow": {
     "slide_type": "slide"
    }
   },
   "source": [
    "# (Virtual) environments and package management"
   ]
  },
  {
   "cell_type": "markdown",
   "id": "b5650d96",
   "metadata": {
    "slideshow": {
     "slide_type": "slide"
    }
   },
   "source": [
    "## Why should you use a virtual environment?\n",
    "\n",
    "- If you’re not specific, **pip (or other package managers) will place all Python packages that you install in a folder called site-packages located in your operating system’s global Python installation**.\n",
    "- Placing all your packages in the same folder as your global Python installation results in the following **issues**\n",
    "    - Your packages can **mix with system-relevant packages** that operating systems such as Linux or macOS use, resulting in unexpected side effects on your operating system’s normal behavior.\n",
    "    - Your packages might get overwritten and lost if you update your OS.\n",
    "    - You can only use **one version of a package**. \n",
    "        - Quite frequently, projects require different package versions. \n",
    "        - You have to overwrite the package by its required version whenever you switch projects.\n",
    "    - You might run into a **dependency conflict** when you want to install a new package.\n",
    "        - Package A might require package B v1.3. But the new package C might require package B v.1.0.\n",
    "    - It is **difficult to know what project requires which packages**.\n",
    "    - The previous three points make it **practically impossible to collaborate with others**. \n",
    "    - You may not be able to globally install packages because you need admin privileges.\n",
    "            \n"
   ]
  },
  {
   "cell_type": "markdown",
   "id": "1b9ac0dc",
   "metadata": {
    "slideshow": {
     "slide_type": "slide"
    }
   },
   "source": [
    "- Using virtual environments\n",
    "    - Your packages don't interfere with system-relevant packages.\n",
    "    - Your global site-packages directory is not polluted by packages which you might only need for one project.\n",
    "    - You can simply activate one environment to use specific package versions without reinstalling packages.\n",
    "    - Provided you use a virtual environment for each separate project\n",
    "        - You can make your project self-contained and reproducible by capturing all package in a environment file.\n",
    "        - You can easily share your project and collaborate with others because they can easily install the required packages and reproduce your setup.\n",
    "- As a result, you should use virtual environments for all your Python projects (**no exception!**)."
   ]
  },
  {
   "cell_type": "markdown",
   "id": "b541ed34",
   "metadata": {
    "slideshow": {
     "slide_type": "slide"
    }
   },
   "source": [
    "## What is a virtual environment?\n",
    "- In a nutshell, a virtual environment is just\n",
    "    - An isolated installation of Python and its installed third-party modules.\n",
    "    - A bunch of activation scripts that modify your PATH variable when you activate the environment.\n",
    "- Let's have a detailed look at this in the following."
   ]
  },
  {
   "cell_type": "markdown",
   "id": "b4d5b9be",
   "metadata": {
    "slideshow": {
     "slide_type": "slide"
    }
   },
   "source": [
    "###  It stores a Python interpreter and packages into a separate folder"
   ]
  },
  {
   "cell_type": "markdown",
   "id": "5658e4aa",
   "metadata": {
    "slideshow": {
     "slide_type": "-"
    }
   },
   "source": [
    "- A virtual environment is a separate folder that, among other things, contains an isolated site-packages folder and either\n",
    "    - A copy of or symlink to the global Python executable.\n",
    "    - A separate Python executable with a possibly different version than the global Python executable.\n",
    "- This seperate folder provides an isolated Python environment that reproduces the folder structure of the global Python installation.\n",
    "- The exact location and structure of this separate folder depends on the tool that you use to create a virtual environment.\n",
    "- In the following we consider **conda** which has been used to set up the virtual environment `dsc` of this project by executing ```conda env create -f environment.yml```  from the root directory of this project. \n",
    "- The base environment of conda is given by the location where conda is installed and also contains all other environments.\n",
    "- The `dsc` environment of conda is located in the env folder of this base environment and located at"
   ]
  },
  {
   "cell_type": "code",
   "execution_count": 2,
   "id": "7c3e8ba1",
   "metadata": {
    "slideshow": {
     "slide_type": "-"
    }
   },
   "outputs": [
    {
     "data": {
      "text/plain": [
       "'/home/spa0001f/mambaforge/envs/dsc'"
      ]
     },
     "execution_count": 2,
     "metadata": {},
     "output_type": "execute_result"
    }
   ],
   "source": [
    "conda_env"
   ]
  },
  {
   "cell_type": "markdown",
   "id": "1e44c0c2",
   "metadata": {
    "slideshow": {
     "slide_type": "slide"
    }
   },
   "source": [
    "- The structure of the virtual conda environment is complex..."
   ]
  },
  {
   "cell_type": "code",
   "execution_count": 3,
   "id": "81b9a99f",
   "metadata": {
    "slideshow": {
     "slide_type": "-"
    }
   },
   "outputs": [
    {
     "name": "stdout",
     "output_type": "stream",
     "text": [
      "\u001b[01;34m/home/spa0001f/mambaforge/envs/dsc\u001b[00m\r\n",
      "├── \u001b[01;34mbin\u001b[00m\r\n",
      "├── \u001b[01;34mcmake\u001b[00m\r\n",
      "├── \u001b[01;34mcompiler_compat\u001b[00m\r\n",
      "├── \u001b[01;34mconda-meta\u001b[00m\r\n",
      "├── \u001b[01;34mdoc\u001b[00m\r\n",
      "├── \u001b[01;34mdocs\u001b[00m\r\n",
      "├── \u001b[01;34metc\u001b[00m\r\n",
      "├── \u001b[01;34mfonts\u001b[00m\r\n",
      "├── \u001b[01;34minclude\u001b[00m\r\n",
      "├── \u001b[01;34mlib\u001b[00m\r\n",
      "├── \u001b[01;34mlibexec\u001b[00m\r\n",
      "├── \u001b[01;34mman\u001b[00m\r\n",
      "├── \u001b[01;34mmkspecs\u001b[00m\r\n",
      "├── \u001b[01;34mphrasebooks\u001b[00m\r\n",
      "├── \u001b[01;34mplugins\u001b[00m\r\n",
      "├── \u001b[01;34mqml\u001b[00m\r\n",
      "├── \u001b[01;34msbin\u001b[00m\r\n",
      "├── \u001b[01;34mshare\u001b[00m\r\n",
      "├── \u001b[01;34mssl\u001b[00m\r\n",
      "├── \u001b[01;34mtranslations\u001b[00m\r\n",
      "├── \u001b[01;34mvar\u001b[00m\r\n",
      "├── \u001b[01;34mx86_64-conda-linux-gnu\u001b[00m\r\n",
      "└── \u001b[01;34mx86_64-conda_cos6-linux-gnu\u001b[00m\r\n",
      "\r\n",
      "23 directories, 0 files\r\n"
     ]
    }
   ],
   "source": [
    "!tree -L 1 {conda_env}"
   ]
  },
  {
   "cell_type": "markdown",
   "id": "0b31319b",
   "metadata": {
    "slideshow": {
     "slide_type": "slide"
    }
   },
   "source": [
    "- (Non-built-in) packages are installed in a subdirectory of the lib folder"
   ]
  },
  {
   "cell_type": "code",
   "execution_count": 4,
   "id": "abf50583",
   "metadata": {
    "slideshow": {
     "slide_type": "-"
    }
   },
   "outputs": [
    {
     "data": {
      "text/plain": [
       "'/home/spa0001f/mambaforge/envs/dsc/lib/python3.10/site-packages'"
      ]
     },
     "execution_count": 4,
     "metadata": {},
     "output_type": "execute_result"
    }
   ],
   "source": [
    "site_packages"
   ]
  },
  {
   "cell_type": "code",
   "execution_count": 5,
   "id": "47466d57",
   "metadata": {
    "slideshow": {
     "slide_type": "-"
    }
   },
   "outputs": [
    {
     "name": "stdout",
     "output_type": "stream",
     "text": [
      "\u001b[01;34m/home/spa0001f/mambaforge/envs/dsc/lib/python3.10/site-packages\u001b[00m\r\n",
      "├── \u001b[01;32m74cdc94b2b24dafac2a2__mypyc.cpython-310-x86_64-linux-gnu.so\u001b[00m\r\n",
      "├── \u001b[01;34mIPython\u001b[00m\r\n",
      "├── \u001b[01;34mJinja2-3.1.2.dist-info\u001b[00m\r\n",
      "├── \u001b[01;34mMarkupSafe-2.1.1.dist-info\u001b[00m\r\n",
      "├── \u001b[01;34mOpenSSL\u001b[00m\r\n",
      "├── \u001b[01;34mPIL\u001b[00m\r\n",
      "├── \u001b[01;34mPillow-9.4.0.dist-info\u001b[00m\r\n",
      "├── \u001b[01;34mPyQt5\u001b[00m\r\n",
      "├── \u001b[01;34mPyQt5-5.15.7.dist-info\u001b[00m\r\n",
      "├── \u001b[01;34mPyQt5_sip-12.11.0-py3.10-linux-x86_64.egg-info\u001b[00m\r\n",
      "├── \u001b[01;34mPyYAML-6.0.dist-info\u001b[00m\r\n",
      "├── \u001b[01;34mPygments-2.14.0.dist-info\u001b[00m\r\n",
      "├── \u001b[01;34mQtPy-2.3.0.dist-info\u001b[00m\r\n",
      "├── README.txt\r\n",
      "├── \u001b[01;34mSend2Trash-1.8.0.dist-info\u001b[00m\r\n",
      "├── __editable__.dsc-0.0.post1.dev142+g7af71ff.d20230115.pth\r\n",
      "├── \u001b[01;34m__pycache__\u001b[00m\r\n",
      "├── \u001b[01;34m_argon2_cffi_bindings\u001b[00m\r\n",
      "├── \u001b[01;32m_cffi_backend.cpython-310-x86_64-linux-gnu.so\u001b[00m\r\n",
      "├── \u001b[01;34m_distutils_hack\u001b[00m\r\n",
      "├── _pyrsistent_version.py\r\n",
      "├── \u001b[01;32m_ukkonen.abi3.so\u001b[00m\r\n",
      "├── \u001b[01;34m_yaml\u001b[00m\r\n",
      "├── \u001b[01;34manyio\u001b[00m\r\n",
      "├── \u001b[01;34manyio-3.6.2.dist-info\u001b[00m\r\n",
      "├── \u001b[01;34margon2\u001b[00m\r\n",
      "├── \u001b[01;34margon2_cffi-21.3.0.dist-info\u001b[00m\r\n",
      "├── \u001b[01;34margon2_cffi_bindings-21.2.0.dist-info\u001b[00m\r\n",
      "├── \u001b[01;34marrow\u001b[00m\r\n",
      "├── \u001b[01;34marrow-1.2.3.dist-info\u001b[00m\r\n",
      "├── \u001b[01;34masttokens\u001b[00m\r\n",
      "├── \u001b[01;34masttokens-2.2.1.dist-info\u001b[00m\r\n",
      "├── \u001b[01;34mattr\u001b[00m\r\n",
      "├── \u001b[01;34mattrs\u001b[00m\r\n",
      "├── \u001b[01;34mattrs-22.2.0.dist-info\u001b[00m\r\n",
      "├── \u001b[01;34mbackcall\u001b[00m\r\n",
      "├── \u001b[01;34mbackcall-0.2.0.dist-info\u001b[00m\r\n",
      "├── \u001b[01;34mbackports\u001b[00m\r\n",
      "├── \u001b[01;34mbackports.functools_lru_cache-1.6.4.dist-info\u001b[00m\r\n",
      "├── \u001b[01;34mbeautifulsoup4-4.11.1.dist-info\u001b[00m\r\n",
      "├── \u001b[01;34mbleach\u001b[00m\r\n",
      "├── \u001b[01;34mbleach-5.0.1.dist-info\u001b[00m\r\n",
      "├── \u001b[01;34mbs4\u001b[00m\r\n",
      "├── \u001b[01;34mcertifi\u001b[00m\r\n",
      "├── \u001b[01;34mcertifi-2022.12.7-py3.11.egg-info\u001b[00m\r\n",
      "├── \u001b[01;34mcffi\u001b[00m\r\n",
      "├── \u001b[01;34mcffi-1.15.1.dist-info\u001b[00m\r\n",
      "├── \u001b[01;34mcfgv-3.3.1.dist-info\u001b[00m\r\n",
      "├── cfgv.py\r\n",
      "├── \u001b[01;34mcomm\u001b[00m\r\n",
      "├── \u001b[01;34mcomm-0.1.2.dist-info\u001b[00m\r\n",
      "├── \u001b[01;34mcontourpy\u001b[00m\r\n",
      "├── \u001b[01;34mcontourpy-1.0.7.dist-info\u001b[00m\r\n",
      "├── \u001b[01;34mcryptography\u001b[00m\r\n",
      "├── \u001b[01;34mcryptography-39.0.0.dist-info\u001b[00m\r\n",
      "├── \u001b[01;34mcycler-0.11.0.dist-info\u001b[00m\r\n",
      "├── cycler.py\r\n",
      "├── \u001b[01;34mdateutil\u001b[00m\r\n",
      "├── \u001b[01;34mdebugpy\u001b[00m\r\n",
      "├── \u001b[01;34mdebugpy-1.6.5.dist-info\u001b[00m\r\n",
      "├── \u001b[01;34mdecorator-5.1.1.dist-info\u001b[00m\r\n",
      "├── decorator.py\r\n",
      "├── \u001b[01;34mdefusedxml\u001b[00m\r\n",
      "├── \u001b[01;34mdefusedxml-0.7.1.dist-info\u001b[00m\r\n",
      "├── \u001b[01;34mdistlib\u001b[00m\r\n",
      "├── \u001b[01;34mdistlib-0.3.6.dist-info\u001b[00m\r\n",
      "├── distutils-precedence.pth\r\n",
      "├── \u001b[01;34mdsc-0.0.post1.dev142+g7af71ff.d20230115.dist-info\u001b[00m\r\n",
      "├── \u001b[01;34mentrypoints-0.4.dist-info\u001b[00m\r\n",
      "├── entrypoints.py\r\n",
      "├── \u001b[01;34mexecuting\u001b[00m\r\n",
      "├── \u001b[01;34mexecuting-1.2.0.dist-info\u001b[00m\r\n",
      "├── \u001b[01;34mfastjsonschema\u001b[00m\r\n",
      "├── \u001b[01;34mfastjsonschema-2.16.2.dist-info\u001b[00m\r\n",
      "├── \u001b[01;34mfilelock\u001b[00m\r\n",
      "├── \u001b[01;34mfilelock-3.9.0.dist-info\u001b[00m\r\n",
      "├── \u001b[01;34mflake8\u001b[00m\r\n",
      "├── \u001b[01;34mflake8-6.0.0.dist-info\u001b[00m\r\n",
      "├── \u001b[01;34mflit_core\u001b[00m\r\n",
      "├── \u001b[01;34mflit_core-3.8.0.dist-info\u001b[00m\r\n",
      "├── \u001b[01;34mfontTools\u001b[00m\r\n",
      "├── \u001b[01;34mfonttools-4.38.0.dist-info\u001b[00m\r\n",
      "├── \u001b[01;34mfqdn\u001b[00m\r\n",
      "├── \u001b[01;34mfqdn-1.5.1.dist-info\u001b[00m\r\n",
      "├── \u001b[01;34midentify\u001b[00m\r\n",
      "├── \u001b[01;34midentify-2.5.13.dist-info\u001b[00m\r\n",
      "├── \u001b[01;34midna\u001b[00m\r\n",
      "├── \u001b[01;34midna-3.4.dist-info\u001b[00m\r\n",
      "├── \u001b[01;34mimportlib_metadata\u001b[00m\r\n",
      "├── \u001b[01;34mimportlib_metadata-6.0.0.dist-info\u001b[00m\r\n",
      "├── \u001b[01;34mimportlib_resources\u001b[00m\r\n",
      "├── \u001b[01;34mimportlib_resources-5.10.2.dist-info\u001b[00m\r\n",
      "├── \u001b[01;34mipykernel\u001b[00m\r\n",
      "├── \u001b[01;34mipykernel-6.20.1.dist-info\u001b[00m\r\n",
      "├── ipykernel_launcher.py\r\n",
      "├── \u001b[01;34mipython-8.8.0.dist-info\u001b[00m\r\n",
      "├── \u001b[01;34mipython_genutils\u001b[00m\r\n",
      "├── \u001b[01;34mipython_genutils-0.2.0-py2.7.egg-info\u001b[00m\r\n",
      "├── \u001b[01;34mipywidgets\u001b[00m\r\n",
      "├── \u001b[01;34mipywidgets-8.0.4.dist-info\u001b[00m\r\n",
      "├── \u001b[01;34misoduration\u001b[00m\r\n",
      "├── \u001b[01;34misoduration-20.11.0.dist-info\u001b[00m\r\n",
      "├── \u001b[01;34mjedi\u001b[00m\r\n",
      "├── \u001b[01;34mjedi-0.18.2.dist-info\u001b[00m\r\n",
      "├── \u001b[01;34mjinja2\u001b[00m\r\n",
      "├── \u001b[01;34mjsonpointer-2.3.dist-info\u001b[00m\r\n",
      "├── jsonpointer.py\r\n",
      "├── \u001b[01;34mjsonschema\u001b[00m\r\n",
      "├── \u001b[01;34mjsonschema-4.17.3.dist-info\u001b[00m\r\n",
      "├── \u001b[01;34mjupyter-1.0.0.dist-info\u001b[00m\r\n",
      "├── jupyter.py\r\n",
      "├── \u001b[01;34mjupyter_client\u001b[00m\r\n",
      "├── \u001b[01;34mjupyter_client-7.4.9.dist-info\u001b[00m\r\n",
      "├── \u001b[01;34mjupyter_console\u001b[00m\r\n",
      "├── \u001b[01;34mjupyter_console-6.4.4.dist-info\u001b[00m\r\n",
      "├── \u001b[01;34mjupyter_contrib_core\u001b[00m\r\n",
      "├── \u001b[01;34mjupyter_contrib_core-0.4.0.dist-info\u001b[00m\r\n",
      "├── \u001b[01;34mjupyter_contrib_nbextensions\u001b[00m\r\n",
      "├── \u001b[01;34mjupyter_contrib_nbextensions-0.7.0.dist-info\u001b[00m\r\n",
      "├── \u001b[01;34mjupyter_core\u001b[00m\r\n",
      "├── \u001b[01;34mjupyter_core-5.1.3.dist-info\u001b[00m\r\n",
      "├── \u001b[01;34mjupyter_events\u001b[00m\r\n",
      "├── \u001b[01;34mjupyter_events-0.6.3.dist-info\u001b[00m\r\n",
      "├── \u001b[01;34mjupyter_highlight_selected_word\u001b[00m\r\n",
      "├── \u001b[01;34mjupyter_highlight_selected_word-0.2.0.dist-info\u001b[00m\r\n",
      "├── \u001b[01;34mjupyter_latex_envs-1.4.6.dist-info\u001b[00m\r\n",
      "├── \u001b[01;34mjupyter_nbextensions_configurator\u001b[00m\r\n",
      "├── \u001b[01;34mjupyter_nbextensions_configurator-0.6.1.dist-info\u001b[00m\r\n",
      "├── \u001b[01;34mjupyter_server\u001b[00m\r\n",
      "├── \u001b[01;34mjupyter_server-2.1.0.dist-info\u001b[00m\r\n",
      "├── \u001b[01;34mjupyter_server_terminals\u001b[00m\r\n",
      "├── \u001b[01;34mjupyter_server_terminals-0.4.4.dist-info\u001b[00m\r\n",
      "├── \u001b[01;34mjupyterlab_pygments\u001b[00m\r\n",
      "├── \u001b[01;34mjupyterlab_pygments-0.2.2.dist-info\u001b[00m\r\n",
      "├── \u001b[01;34mjupyterlab_widgets\u001b[00m\r\n",
      "├── \u001b[01;34mjupyterlab_widgets-3.0.5.dist-info\u001b[00m\r\n",
      "├── \u001b[01;34mjupytext\u001b[00m\r\n",
      "├── \u001b[01;34mjupytext-1.14.4.dist-info\u001b[00m\r\n",
      "├── \u001b[01;34mkiwisolver\u001b[00m\r\n",
      "├── \u001b[01;34mkiwisolver-1.4.4.dist-info\u001b[00m\r\n",
      "├── \u001b[01;34mlatex_envs\u001b[00m\r\n",
      "├── \u001b[01;34mlxml\u001b[00m\r\n",
      "├── \u001b[01;34mlxml-4.9.2.dist-info\u001b[00m\r\n",
      "├── \u001b[01;34mmarkdown_it\u001b[00m\r\n",
      "├── \u001b[01;34mmarkdown_it_py-2.1.0.dist-info\u001b[00m\r\n",
      "├── \u001b[01;34mmarkupsafe\u001b[00m\r\n",
      "├── \u001b[01;34mmatplotlib\u001b[00m\r\n",
      "├── matplotlib-3.6.2-py3.10-nspkg.pth\r\n",
      "├── \u001b[01;34mmatplotlib-3.6.2.dist-info\u001b[00m\r\n",
      "├── \u001b[01;34mmatplotlib_inline\u001b[00m\r\n",
      "├── \u001b[01;34mmatplotlib_inline-0.1.6.dist-info\u001b[00m\r\n",
      "├── \u001b[01;34mmccabe-0.7.0.dist-info\u001b[00m\r\n",
      "├── mccabe.py\r\n",
      "├── \u001b[01;34mmdit_py_plugins\u001b[00m\r\n",
      "├── \u001b[01;34mmdit_py_plugins-0.3.3.dist-info\u001b[00m\r\n",
      "├── \u001b[01;34mmdurl\u001b[00m\r\n",
      "├── \u001b[01;34mmdurl-0.1.0.dist-info\u001b[00m\r\n",
      "├── \u001b[01;34mmistune\u001b[00m\r\n",
      "├── \u001b[01;34mmistune-2.0.4.dist-info\u001b[00m\r\n",
      "├── \u001b[01;34mmpl_toolkits\u001b[00m\r\n",
      "├── \u001b[01;34mmunkres-1.1.4-py3.6.egg-info\u001b[00m\r\n",
      "├── munkres.py\r\n",
      "├── \u001b[01;34mmypy\u001b[00m\r\n",
      "├── \u001b[01;34mmypy-0.991.dist-info\u001b[00m\r\n",
      "├── \u001b[01;34mmypy_extensions-0.4.3.dist-info\u001b[00m\r\n",
      "├── mypy_extensions.py\r\n",
      "├── \u001b[01;34mmypyc\u001b[00m\r\n",
      "├── \u001b[01;34mnb_conda\u001b[00m\r\n",
      "├── \u001b[01;34mnb_conda-2.2.1.dist-info\u001b[00m\r\n",
      "├── \u001b[01;34mnb_conda_kernels\u001b[00m\r\n",
      "├── \u001b[01;34mnb_conda_kernels-2.3.1.dist-info\u001b[00m\r\n",
      "├── \u001b[01;34mnbclassic\u001b[00m\r\n",
      "├── \u001b[01;34mnbclassic-0.4.8.dist-info\u001b[00m\r\n",
      "├── \u001b[01;34mnbclient\u001b[00m\r\n",
      "├── \u001b[01;34mnbclient-0.7.2.dist-info\u001b[00m\r\n",
      "├── \u001b[01;34mnbconvert\u001b[00m\r\n",
      "├── \u001b[01;34mnbconvert-7.2.7.dist-info\u001b[00m\r\n",
      "├── \u001b[01;34mnbformat\u001b[00m\r\n",
      "├── \u001b[01;34mnbformat-5.7.3.dist-info\u001b[00m\r\n",
      "├── \u001b[01;34mnest_asyncio-1.5.6.dist-info\u001b[00m\r\n",
      "├── nest_asyncio.py\r\n",
      "├── \u001b[01;34mnodeenv-1.7.0.dist-info\u001b[00m\r\n",
      "├── nodeenv.py\r\n",
      "├── \u001b[01;34mnotebook\u001b[00m\r\n",
      "├── \u001b[01;34mnotebook-6.5.2.dist-info\u001b[00m\r\n",
      "├── \u001b[01;34mnotebook_shim\u001b[00m\r\n",
      "├── \u001b[01;34mnotebook_shim-0.2.2.dist-info\u001b[00m\r\n",
      "├── \u001b[01;34mnumpy\u001b[00m\r\n",
      "├── \u001b[01;34mnumpy-1.24.1.dist-info\u001b[00m\r\n",
      "├── \u001b[01;34mpackaging\u001b[00m\r\n",
      "├── \u001b[01;34mpackaging-23.0.dist-info\u001b[00m\r\n",
      "├── \u001b[01;34mpandas\u001b[00m\r\n",
      "├── \u001b[01;34mpandas-1.5.2-py3.10.egg-info\u001b[00m\r\n",
      "├── \u001b[01;34mpandas-stubs\u001b[00m\r\n",
      "├── \u001b[01;34mpandas_stubs-1.5.2.230105.dist-info\u001b[00m\r\n",
      "├── \u001b[01;34mpandocfilters-1.5.0.dist-info\u001b[00m\r\n",
      "├── pandocfilters.py\r\n",
      "├── \u001b[01;34mparso\u001b[00m\r\n",
      "├── \u001b[01;34mparso-0.8.3.dist-info\u001b[00m\r\n",
      "├── \u001b[01;34mpexpect\u001b[00m\r\n",
      "├── \u001b[01;34mpexpect-4.8.0.dist-info\u001b[00m\r\n",
      "├── \u001b[01;34mpickleshare-0.7.5.dist-info\u001b[00m\r\n",
      "├── pickleshare.py\r\n",
      "├── \u001b[01;34mpip\u001b[00m\r\n",
      "├── \u001b[01;34mpip-22.3.1-py3.11.egg-info\u001b[00m\r\n",
      "├── \u001b[01;34mpkg_resources\u001b[00m\r\n",
      "├── \u001b[01;34mpkgutil_resolve_name-1.3.10.dist-info\u001b[00m\r\n",
      "├── pkgutil_resolve_name.py\r\n",
      "├── \u001b[01;34mplatformdirs\u001b[00m\r\n",
      "├── \u001b[01;34mplatformdirs-2.6.2.dist-info\u001b[00m\r\n",
      "├── \u001b[01;34mply\u001b[00m\r\n",
      "├── \u001b[01;34mply-3.11-py2.7.egg-info\u001b[00m\r\n",
      "├── \u001b[01;34mpre_commit\u001b[00m\r\n",
      "├── \u001b[01;34mpre_commit-2.21.0.dist-info\u001b[00m\r\n",
      "├── \u001b[01;34mprometheus_client\u001b[00m\r\n",
      "├── \u001b[01;34mprometheus_client-0.15.0.dist-info\u001b[00m\r\n",
      "├── \u001b[01;34mprompt_toolkit\u001b[00m\r\n",
      "├── \u001b[01;34mprompt_toolkit-3.0.36.dist-info\u001b[00m\r\n",
      "├── \u001b[01;34mpsutil\u001b[00m\r\n",
      "├── \u001b[01;34mpsutil-5.9.4.dist-info\u001b[00m\r\n",
      "├── \u001b[01;34mptyprocess\u001b[00m\r\n",
      "├── \u001b[01;34mptyprocess-0.7.0.dist-info\u001b[00m\r\n",
      "├── \u001b[01;34mpure_eval\u001b[00m\r\n",
      "├── \u001b[01;34mpure_eval-0.2.2.dist-info\u001b[00m\r\n",
      "├── \u001b[01;32mpvectorc.cpython-310-x86_64-linux-gnu.so\u001b[00m\r\n",
      "├── \u001b[01;34mpyOpenSSL-23.0.0.dist-info\u001b[00m\r\n",
      "├── \u001b[01;34mpyasn1\u001b[00m\r\n",
      "├── \u001b[01;34mpyasn1-0.4.8.dist-info\u001b[00m\r\n",
      "├── \u001b[01;34mpycodestyle-2.10.0.dist-info\u001b[00m\r\n",
      "├── pycodestyle.py\r\n",
      "├── \u001b[01;34mpycparser\u001b[00m\r\n",
      "├── \u001b[01;34mpycparser-2.21.dist-info\u001b[00m\r\n",
      "├── \u001b[01;34mpyexasol\u001b[00m\r\n",
      "├── \u001b[01;34mpyexasol-0.25.1.dist-info\u001b[00m\r\n",
      "├── \u001b[01;34mpyexasol_utils\u001b[00m\r\n",
      "├── \u001b[01;34mpyflakes\u001b[00m\r\n",
      "├── \u001b[01;34mpyflakes-3.0.1.dist-info\u001b[00m\r\n",
      "├── \u001b[01;34mpygments\u001b[00m\r\n",
      "├── pylab.py\r\n",
      "├── \u001b[01;34mpyparsing\u001b[00m\r\n",
      "├── \u001b[01;34mpyparsing-3.0.9.dist-info\u001b[00m\r\n",
      "├── \u001b[01;34mpyrsistent\u001b[00m\r\n",
      "├── \u001b[01;34mpyrsistent-0.19.3.dist-info\u001b[00m\r\n",
      "├── \u001b[01;34mpython_dateutil-2.8.2.dist-info\u001b[00m\r\n",
      "├── \u001b[01;34mpython_json_logger-2.0.4.dist-info\u001b[00m\r\n",
      "├── \u001b[01;34mpython_rapidjson-1.9.dist-info\u001b[00m\r\n",
      "├── \u001b[01;34mpythonjsonlogger\u001b[00m\r\n",
      "├── \u001b[01;34mpytz\u001b[00m\r\n",
      "├── \u001b[01;34mpytz-2022.7.dist-info\u001b[00m\r\n",
      "├── \u001b[01;34mpytz-stubs\u001b[00m\r\n",
      "├── \u001b[01;34mpyzmq-25.0.0.dist-info\u001b[00m\r\n",
      "├── \u001b[01;34mqtconsole\u001b[00m\r\n",
      "├── \u001b[01;34mqtconsole-5.4.0.dist-info\u001b[00m\r\n",
      "├── \u001b[01;34mqtpy\u001b[00m\r\n",
      "├── \u001b[01;32mrapidjson.cpython-310-x86_64-linux-gnu.so\u001b[00m\r\n",
      "├── \u001b[01;34mrfc3339_validator-0.1.4.dist-info\u001b[00m\r\n",
      "├── rfc3339_validator.py\r\n",
      "├── \u001b[01;34mrfc3986_validator-0.1.1.dist-info\u001b[00m\r\n",
      "├── rfc3986_validator.py\r\n",
      "├── \u001b[01;34mrise\u001b[00m\r\n",
      "├── \u001b[01;34mrise-5.7.1.dist-info\u001b[00m\r\n",
      "├── \u001b[01;34mrsa\u001b[00m\r\n",
      "├── \u001b[01;34mrsa-4.9.dist-info\u001b[00m\r\n",
      "├── \u001b[01;34msend2trash\u001b[00m\r\n",
      "├── \u001b[01;34msetuptools\u001b[00m\r\n",
      "├── \u001b[01;34msetuptools-65.6.3-py3.11.egg-info\u001b[00m\r\n",
      "├── \u001b[01;34msip-6.7.5.dist-info\u001b[00m\r\n",
      "├── \u001b[01;34msipbuild\u001b[00m\r\n",
      "├── \u001b[01;34msix-1.16.0.dist-info\u001b[00m\r\n",
      "├── six.py\r\n",
      "├── \u001b[01;34msniffio\u001b[00m\r\n",
      "├── \u001b[01;34msniffio-1.3.0.dist-info\u001b[00m\r\n",
      "├── \u001b[01;34msoupsieve\u001b[00m\r\n",
      "├── \u001b[01;34msoupsieve-2.3.2.post1.dist-info\u001b[00m\r\n",
      "├── \u001b[01;34mstack_data\u001b[00m\r\n",
      "├── \u001b[01;34mstack_data-0.6.2.dist-info\u001b[00m\r\n",
      "├── \u001b[01;34mterminado\u001b[00m\r\n",
      "├── \u001b[01;34mterminado-0.17.1.dist-info\u001b[00m\r\n",
      "├── \u001b[01;34mtinycss2\u001b[00m\r\n",
      "├── \u001b[01;34mtinycss2-1.2.1.dist-info\u001b[00m\r\n",
      "├── \u001b[01;34mtoml\u001b[00m\r\n",
      "├── \u001b[01;34mtoml-0.10.2.dist-info\u001b[00m\r\n",
      "├── \u001b[01;34mtomli\u001b[00m\r\n",
      "├── \u001b[01;34mtomli-2.0.1.dist-info\u001b[00m\r\n",
      "├── \u001b[01;34mtornado\u001b[00m\r\n",
      "├── \u001b[01;34mtornado-6.2.dist-info\u001b[00m\r\n",
      "├── \u001b[01;34mtraitlets\u001b[00m\r\n",
      "├── \u001b[01;34mtraitlets-5.8.1.dist-info\u001b[00m\r\n",
      "├── \u001b[01;34mtypes_pytz-2022.7.1.0.dist-info\u001b[00m\r\n",
      "├── \u001b[01;34mtyping_extensions-4.4.0.dist-info\u001b[00m\r\n",
      "├── typing_extensions.py\r\n",
      "├── \u001b[01;34mukkonen-1.0.1.dist-info\u001b[00m\r\n",
      "├── ukkonen.py\r\n",
      "├── \u001b[01;34municodedata2-15.0.0.dist-info\u001b[00m\r\n",
      "├── \u001b[01;32municodedata2.cpython-310-x86_64-linux-gnu.so\u001b[00m\r\n",
      "├── \u001b[01;34muri_template\u001b[00m\r\n",
      "├── \u001b[01;34muri_template-1.2.0.dist-info\u001b[00m\r\n",
      "├── \u001b[01;34mvirtualenv\u001b[00m\r\n",
      "├── \u001b[01;34mvirtualenv-20.17.1.dist-info\u001b[00m\r\n",
      "├── \u001b[01;34mwcwidth\u001b[00m\r\n",
      "├── \u001b[01;34mwcwidth-0.2.5.dist-info\u001b[00m\r\n",
      "├── \u001b[01;34mwebcolors-1.12.dist-info\u001b[00m\r\n",
      "├── webcolors.py\r\n",
      "├── \u001b[01;34mwebencodings\u001b[00m\r\n",
      "├── \u001b[01;34mwebencodings-0.5.1-py2.7.egg-info\u001b[00m\r\n",
      "├── \u001b[01;34mwebsocket\u001b[00m\r\n",
      "├── \u001b[01;34mwebsocket_client-1.4.2.dist-info\u001b[00m\r\n",
      "├── \u001b[01;34mwheel\u001b[00m\r\n",
      "├── \u001b[01;34mwheel-0.38.4-py3.11.egg-info\u001b[00m\r\n",
      "├── \u001b[01;34mwidgetsnbextension\u001b[00m\r\n",
      "├── \u001b[01;34mwidgetsnbextension-4.0.5.dist-info\u001b[00m\r\n",
      "├── \u001b[01;34myaml\u001b[00m\r\n",
      "├── \u001b[01;34mzipp\u001b[00m\r\n",
      "├── \u001b[01;34mzipp-3.11.0.dist-info\u001b[00m\r\n",
      "└── \u001b[01;34mzmq\u001b[00m\r\n",
      "\r\n",
      "281 directories, 34 files\r\n"
     ]
    }
   ],
   "source": [
    "!tree -L 1 {site_packages}"
   ]
  },
  {
   "cell_type": "markdown",
   "id": "d35f628b",
   "metadata": {
    "slideshow": {
     "slide_type": "subslide"
    }
   },
   "source": [
    "- For instance, the first level of the pandas package looks as follows"
   ]
  },
  {
   "cell_type": "code",
   "execution_count": 6,
   "id": "eb034b9e",
   "metadata": {
    "slideshow": {
     "slide_type": "-"
    }
   },
   "outputs": [
    {
     "name": "stdout",
     "output_type": "stream",
     "text": [
      "\u001b[01;34m/home/spa0001f/mambaforge/envs/dsc/lib/python3.10/site-packages/pandas\u001b[00m\r\n",
      "├── __init__.py\r\n",
      "├── \u001b[01;34m__pycache__\u001b[00m\r\n",
      "├── \u001b[01;34m_config\u001b[00m\r\n",
      "├── \u001b[01;34m_libs\u001b[00m\r\n",
      "├── \u001b[01;34m_testing\u001b[00m\r\n",
      "├── _typing.py\r\n",
      "├── _version.py\r\n",
      "├── \u001b[01;34mapi\u001b[00m\r\n",
      "├── \u001b[01;34marrays\u001b[00m\r\n",
      "├── \u001b[01;34mcompat\u001b[00m\r\n",
      "├── conftest.py\r\n",
      "├── \u001b[01;34mcore\u001b[00m\r\n",
      "├── \u001b[01;34merrors\u001b[00m\r\n",
      "├── \u001b[01;34mio\u001b[00m\r\n",
      "├── \u001b[01;34mplotting\u001b[00m\r\n",
      "├── testing.py\r\n",
      "├── \u001b[01;34mtests\u001b[00m\r\n",
      "├── \u001b[01;34mtseries\u001b[00m\r\n",
      "└── \u001b[01;34mutil\u001b[00m\r\n",
      "\r\n",
      "14 directories, 5 files\r\n"
     ]
    }
   ],
   "source": [
    "!tree -L 1 {pandas}"
   ]
  },
  {
   "cell_type": "markdown",
   "id": "31f9bc25",
   "metadata": {
    "slideshow": {
     "slide_type": "slide"
    }
   },
   "source": [
    "- The Python interpreter of the conda environment is located at"
   ]
  },
  {
   "cell_type": "code",
   "execution_count": 7,
   "id": "09f8a09d",
   "metadata": {
    "slideshow": {
     "slide_type": "-"
    }
   },
   "outputs": [
    {
     "data": {
      "text/plain": [
       "'/home/spa0001f/mambaforge/envs/dsc/bin/python'"
      ]
     },
     "execution_count": 7,
     "metadata": {},
     "output_type": "execute_result"
    }
   ],
   "source": [
    "python "
   ]
  },
  {
   "cell_type": "markdown",
   "id": "cc3d5520",
   "metadata": {
    "slideshow": {
     "slide_type": "-"
    }
   },
   "source": [
    "- This Python interpreter can be executed by specifying the full path to the executable"
   ]
  },
  {
   "cell_type": "code",
   "execution_count": 8,
   "id": "32fa0184",
   "metadata": {
    "slideshow": {
     "slide_type": "-"
    }
   },
   "outputs": [
    {
     "name": "stdout",
     "output_type": "stream",
     "text": [
      "Hello from the Python interpreter located at /home/spa0001f/mambaforge/envs/dsc/bin/python\r\n"
     ]
    }
   ],
   "source": [
    "!{python} -c \"import sys; print(f'Hello from the Python interpreter located at {sys.executable}')\""
   ]
  },
  {
   "cell_type": "markdown",
   "id": "b2f9420b",
   "metadata": {
    "slideshow": {
     "slide_type": "slide"
    }
   },
   "source": [
    "### It modifies its Python interpreter, in particular its sys.path"
   ]
  },
  {
   "cell_type": "markdown",
   "id": "bfa1da4c",
   "metadata": {
    "slideshow": {
     "slide_type": "-"
    }
   },
   "source": [
    "- We can also see that the Python interpreter of the `dsc` environment is aware of the location of the corresponding site-packages directory"
   ]
  },
  {
   "cell_type": "code",
   "execution_count": 9,
   "id": "5194842d",
   "metadata": {
    "slideshow": {
     "slide_type": "-"
    }
   },
   "outputs": [
    {
     "name": "stdout",
     "output_type": "stream",
     "text": [
      "['/home/spa0001f/mambaforge/envs/dsc/lib/python3.10/site-packages']\r\n"
     ]
    }
   ],
   "source": [
    "!{python} -c \"import site; print(site.getsitepackages())\""
   ]
  },
  {
   "cell_type": "markdown",
   "id": "84cfa323",
   "metadata": {
    "slideshow": {
     "slide_type": "fragment"
    }
   },
   "source": [
    "- If we import a module during a Python session which has been started in an activated environment the corresponding module of the environment is loaded"
   ]
  },
  {
   "cell_type": "code",
   "execution_count": 10,
   "id": "933fa824",
   "metadata": {
    "slideshow": {
     "slide_type": "-"
    }
   },
   "outputs": [
    {
     "name": "stdout",
     "output_type": "stream",
     "text": [
      "<module 'pandas' from '/home/spa0001f/mambaforge/envs/dsc/lib/python3.10/site-packages/pandas/__init__.py'>\r\n"
     ]
    }
   ],
   "source": [
    "!{python} -c \"import pandas as pd; print(pd)\"  # you can see all imported modules using sys.modules"
   ]
  },
  {
   "cell_type": "markdown",
   "id": "79306929",
   "metadata": {
    "slideshow": {
     "slide_type": "slide"
    }
   },
   "source": [
    "- How does the Python interpreter know from which location a module should be imported?\n",
    "- When a Python interpreter imports a (non-built-in) module, the interpreter looks through the list of directories given in sys.path.\n",
    "- As already demonstrated, the Python interpreter of the environment knows the location of its site-packages directory and adjusts sys.path accordingly when the interpeter is started.\n",
    "- The following program returns sys.path and thus all directories from where modules can be imported (The empty string refers to the current working directory)."
   ]
  },
  {
   "cell_type": "code",
   "execution_count": 11,
   "id": "f3954da7",
   "metadata": {
    "slideshow": {
     "slide_type": "-"
    }
   },
   "outputs": [
    {
     "name": "stdout",
     "output_type": "stream",
     "text": [
      "['',\r\n",
      " '/home/spa0001f/mambaforge/envs/dsc/lib/python310.zip',\r\n",
      " '/home/spa0001f/mambaforge/envs/dsc/lib/python3.10',\r\n",
      " '/home/spa0001f/mambaforge/envs/dsc/lib/python3.10/lib-dynload',\r\n",
      " '/home/spa0001f/mambaforge/envs/dsc/lib/python3.10/site-packages',\r\n",
      " '/home/spa0001f/github/teach/dsc/src']\r\n"
     ]
    }
   ],
   "source": [
    "!{python} -c \"import sys; from pprint import pp; pp(sys.path)\"  # lib/python3.10' built-in packages"
   ]
  },
  {
   "cell_type": "markdown",
   "id": "3f4d1946",
   "metadata": {
    "slideshow": {
     "slide_type": "slide"
    }
   },
   "source": [
    "### It provides activation scripts to make them user-friendly\n",
    "- If virtual environments would only be a separate folder with a modified Python interpreter then...\n",
    "    - Running the ```python``` command would always start the global Python interpreter (if installed).\n",
    "    - We would always have to specify the absolute path to the executable to execute the Python program of the environment.\n",
    "-Therefore, virtual environments also provide **activation scripts** to \n",
    "run the corresponding executables as simple commands without having to specify the absolute paths."
   ]
  },
  {
   "cell_type": "markdown",
   "id": "12b32444",
   "metadata": {
    "slideshow": {
     "slide_type": "slide"
    }
   },
   "source": [
    "#### Activating an environment modifies the PATH variable"
   ]
  },
  {
   "cell_type": "markdown",
   "id": "16127b7f",
   "metadata": {
    "slideshow": {
     "slide_type": "-"
    }
   },
   "source": [
    "- If you activate the `dsc` environment and execute the command ```python3``` in the terminal, the corresponding Python program of this environment is executed.\n",
    "- How can this happen?\n",
    "- More general, what does happen when you execute commands like ```ls``` or ```python3``` in the terminal?\n",
    "- Obviously, these commands are located somewhere, but where are they?"
   ]
  },
  {
   "cell_type": "markdown",
   "id": "e6c0781d",
   "metadata": {
    "slideshow": {
     "slide_type": "slide"
    }
   },
   "source": [
    "- The unix command ```which <command>``` returns the full path of the executable of a command.\n",
    "- For instance, the following command shows that the exectuable for the command ```ls``` is located in the directory bin which is a subdirectory of the root directory /"
   ]
  },
  {
   "cell_type": "code",
   "execution_count": 12,
   "id": "68af2003",
   "metadata": {
    "slideshow": {
     "slide_type": "-"
    }
   },
   "outputs": [
    {
     "name": "stdout",
     "output_type": "stream",
     "text": [
      "/bin/ls\r\n"
     ]
    }
   ],
   "source": [
    "!which ls"
   ]
  },
  {
   "cell_type": "markdown",
   "id": "9a5c43ba",
   "metadata": {
    "slideshow": {
     "slide_type": "-"
    }
   },
   "source": [
    "- Thus, running the command ```ls``` actually executes ```/bin/ls``` to list files and directories.\n",
    "- How does your terminal know that ```/bin/ls``` should be executed when you execute the command ```ls```?\n",
    "- Whenever you don't specify the full path to the executable, the terminal investigates the PATH variable to locate the underyling executable of the command."
   ]
  },
  {
   "cell_type": "markdown",
   "id": "c4e8a543",
   "metadata": {
    "slideshow": {
     "slide_type": "slide"
    }
   },
   "source": [
    "- On many operations systems, the PATH variable is the search path where executable programs are located.\n",
    "- The PATH variable is an environment variable and consists of a colon-delimited list of directories.\n",
    "- In general, each executing process or user session has its own PATH variable.\n",
    "- When you run a command, the shell investigates each of these directories, from top to bottom, until it finds a directory where the executable is located.\n",
    "- You can set ```PATH=\"\"``` in a unix-like shell session. Commands which are not built-in can then only be called by specifying the full path to the executable."
   ]
  },
  {
   "cell_type": "markdown",
   "id": "0a46a470",
   "metadata": {
    "slideshow": {
     "slide_type": "slide"
    }
   },
   "source": [
    "- The first entries of the PATH variable of the activated environment are as follows"
   ]
  },
  {
   "cell_type": "code",
   "execution_count": 13,
   "id": "970f37a3",
   "metadata": {
    "slideshow": {
     "slide_type": "-"
    }
   },
   "outputs": [
    {
     "data": {
      "text/plain": [
       "['/home/spa0001f/mambaforge/envs/dsc/bin',\n",
       " '/home/spa0001f/mambaforge/condabin',\n",
       " '/home/spa0001f/.vscode-server/bin/252e5463d60e63238250799aef7375787f68b4ee/bin/remote-cli',\n",
       " '/usr/local/sbin',\n",
       " '/usr/local/bin',\n",
       " '/usr/sbin',\n",
       " '/usr/bin',\n",
       " '/sbin',\n",
       " '/bin']"
      ]
     },
     "execution_count": 13,
     "metadata": {},
     "output_type": "execute_result"
    }
   ],
   "source": [
    "path[0:9]"
   ]
  },
  {
   "cell_type": "markdown",
   "id": "d27ad1d2",
   "metadata": {
    "slideshow": {
     "slide_type": "-"
    }
   },
   "source": [
    "- Note that the first entry of the PATH variable\n",
    "    - Is a directory of the `dsc` environment.\n",
    "    - Contains the Python executable.\n",
    "- This first entry of the PATH variable has been **added by conda during the activation of the `dsc` environment**.\n",
    "- This first entry changes accordingly if you activate another conda environment."
   ]
  },
  {
   "cell_type": "markdown",
   "id": "38980251",
   "metadata": {
    "slideshow": {
     "slide_type": "slide"
    }
   },
   "source": [
    "- Thus, when the command ```python3``` is executed in the activated `dsc` environment, your terminal investigates the directory"
   ]
  },
  {
   "cell_type": "code",
   "execution_count": 14,
   "id": "17d173fc",
   "metadata": {
    "slideshow": {
     "slide_type": "-"
    }
   },
   "outputs": [
    {
     "data": {
      "text/plain": [
       "'/home/spa0001f/mambaforge/envs/dsc/bin'"
      ]
     },
     "execution_count": 14,
     "metadata": {},
     "output_type": "execute_result"
    }
   ],
   "source": [
    "path[0]"
   ]
  },
  {
   "cell_type": "markdown",
   "id": "60f7f637",
   "metadata": {
    "slideshow": {
     "slide_type": "-"
    }
   },
   "source": [
    "- and finds the Python executable located at"
   ]
  },
  {
   "cell_type": "code",
   "execution_count": 15,
   "id": "f052c916",
   "metadata": {
    "slideshow": {
     "slide_type": "-"
    }
   },
   "outputs": [
    {
     "name": "stdout",
     "output_type": "stream",
     "text": [
      "/home/spa0001f/mambaforge/envs/dsc/bin/python3\r\n"
     ]
    }
   ],
   "source": [
    "!which python3"
   ]
  },
  {
   "cell_type": "markdown",
   "id": "0b40fc81",
   "metadata": {
    "slideshow": {
     "slide_type": "-"
    }
   },
   "source": [
    "- which is then executed. "
   ]
  },
  {
   "cell_type": "markdown",
   "id": "58c7a20a",
   "metadata": {
    "slideshow": {
     "slide_type": "slide"
    }
   },
   "source": [
    "#### Activating an environment modifies the command prompt\n",
    "- If you activate an environment the name of the environment is put in parentheses at the beginning of your prompt, e.g., `(dsc)`.\n",
    "- This helps you to see which environment is activated."
   ]
  },
  {
   "cell_type": "markdown",
   "id": "66dd855e",
   "metadata": {
    "slideshow": {
     "slide_type": "slide"
    }
   },
   "source": [
    "#### Review question\n",
    "- What happens if you run ```pip install pandas``` from an activated environment?"
   ]
  },
  {
   "cell_type": "markdown",
   "id": "36d8e3e0",
   "metadata": {
    "slideshow": {
     "slide_type": "slide"
    }
   },
   "source": [
    "**Answer:** \n",
    "- [By default](https://conda.io/projects/conda/en/latest/user-guide/configuration/use-condarc.html#add-pip-as-python-dependency-add-pip-as-python-dependency), pip is always installed in a conda environment. \n",
    "- Thus, pandas is installed in the activated environment.\n",
    "    "
   ]
  },
  {
   "cell_type": "markdown",
   "id": "93be77f4",
   "metadata": {
    "slideshow": {
     "slide_type": "slide"
    }
   },
   "source": [
    "## Summary\n",
    "- A **virtual environment**\n",
    "    - Is **a folder** structure that mimics the structue of a global Python installation.\n",
    "    - Contains procedures that modify its Python interpreter so that the **corresponding Python modules of the environment are imported**.\n",
    "- For convenience, **its activation script modifies the PATH variable** so that applications look for the executables of the environment when a command is run.\n",
    "- With this change you don't need to provide the absolute paths of executables but can only type ```pip``` or ```python``` to run the respective programs of the virtual environment (provided the programs have been installed into the environment).\n",
    "- If you don't use virtual environments you can run into several problems.\n",
    "- Thus, **you should always use virtual environments** for all your Python projects (**no exception!**).\n"
   ]
  },
  {
   "cell_type": "markdown",
   "id": "4fb6fb2f",
   "metadata": {
    "slideshow": {
     "slide_type": "slide"
    }
   },
   "source": [
    "**Note!**\n",
    "\n",
    "- **The functionality of your Python project is determined by**\n",
    "    1. The activated environment.\n",
    "    1. The working directory.\n",
    "    1. The currently checked-out Git branch (plus possible uncommitted changes).\n",
    "<br><br>\n",
    "- Always check that you use the correct environment, working directory and Git branch (!)"
   ]
  },
  {
   "cell_type": "markdown",
   "id": "66290cc4",
   "metadata": {
    "slideshow": {
     "slide_type": "slide"
    }
   },
   "source": [
    "# Package management"
   ]
  },
  {
   "cell_type": "markdown",
   "id": "e453a81b",
   "metadata": {
    "slideshow": {
     "slide_type": "-"
    }
   },
   "source": [
    "- In this course we will use **conda** and **pip** for package management to install and manage packages that aren’t part of the Python standard library.\n",
    "- [pip](https://realpython.com/what-is-pip/) stands for Pip Install Packages and is the standard package manager for Python.\n",
    "- pip connects to **PyPi** (the [Python Package Index](https://en.wikipedia.org/wiki/Python_Package_Index)) which is the official third-party software repository for Python.\n",
    "- Assuming you have activate the correct environment (and pip installed!), you can install a package from PyPi into this environment via\n",
    "```pip install [<package>]```\n",
    "- It is also possible to install a package directly from other sources, e.g., GitHub, e.g., ```pip install git+https://github.com/googleapis/python-bigquery-pandas.git```\n",
    "- However, in the following we will focus on conda for installing packages which we will dicuss next."
   ]
  },
  {
   "cell_type": "markdown",
   "id": "9685cfc1",
   "metadata": {
    "slideshow": {
     "slide_type": "slide"
    }
   },
   "source": [
    "# Conda"
   ]
  },
  {
   "cell_type": "markdown",
   "id": "7caad2ec",
   "metadata": {
    "slideshow": {
     "slide_type": "-"
    }
   },
   "source": [
    "## Resources\n",
    "- [Offical documentation](https://conda.io/projects/conda/en/latest/index.html)\n",
    "    - [User guide](https://conda.io/projects/conda/en/latest/user-guide)\n",
    "    - [How to manage environments](https://conda.io/projects/conda/en/latest/user-guide/tasks/manage-environments.html)\n",
    "    - [Command reference](https://docs.conda.io/projects/conda/en/latest/commands.html): Note that this site does not mention ```conda env```. Use ```conda env -h``` for infos or [How to manage environments](https://conda.io/projects/conda/en/latest/user-guide/tasks/manage-environments.html).\n",
    "    - [Anaconda tasks](https://docs.anaconda.com/anaconda/user-guide/tasks/)\n",
    "    - [Cheat sheet](https://docs.conda.io/projects/conda/en/4.6.0/_downloads/52a95608c49671267e40c689e0bc00ca/conda-cheatsheet.pdf)\n",
    "    - [Comparison of pip, venv and conda commands](https://docs.conda.io/projects/conda/en/latest/commands.html#conda-vs-pip-vs-virtualenv-commands)\n",
    "- What is conda?\n",
    "    - [What is the difference between pip and conda](https://stackoverflow.com/questions/20994716/what-is-the-difference-between-pip-and-conda)\n",
    "    - [Conda myths and misconceptions](https://jakevdp.github.io/blog/2016/08/25/conda-myths-and-misconceptions)\n",
    "    - [The definitive guide to Python virtual environments with conda](https://whiteboxml.com/blog/the-definitive-guide-to-python-virtual-environments-with-conda)\n",
    "- How to use conda\n",
    "    - [A guide to conda environments](https://towardsdatascience.com/a-guide-to-conda-environments-bc6180fc533)\n",
    "- [How conda resolves dependencies](https://www.anaconda.com/blog/understanding-and-improving-condas-performance), see also [here](https://www.palantir.com/docs/foundry/transforms-python/environment-creation-overview/#performance)\n",
    "- [Using conda for commerical purposes](https://florianwilhelm.info/2021/09/Handling_Anaconda_without_getting_constricted/)\n",
    "\n",
    "\n"
   ]
  },
  {
   "cell_type": "markdown",
   "id": "521b95e6",
   "metadata": {
    "slideshow": {
     "slide_type": "slide"
    }
   },
   "source": [
    "## What is conda?"
   ]
  },
  {
   "cell_type": "markdown",
   "id": "71bbeb99",
   "metadata": {
    "slideshow": {
     "slide_type": "-"
    }
   },
   "source": [
    "- **Conda** is an open-source package and environment management system that\n",
    "    - Runs on  Windows, macOS, and Linux.\n",
    "    - Is language agnostic (Python, R, Ruby, Lua, Scala, Java, JavaScript...).\n",
    "    - Is written in Python.\n",
    "    - Was [initiated](https://jakevdp.github.io/blog/2016/08/25/conda-myths-and-misconceptions/#Myth-#4:-Creating-conda-in-the-first-place-was-irresponsible-&-divisive) by the NumPy community.\n",
    "    - Is owned and maintained by the conda open source community.\n",
    "- **Anaconda**\n",
    "    - Anaconda, previoulsy Continuum Analytics, is a commercial software organization providing the Anaconda **distribution** which includes conda, Python, an IDE, and 250+ open-source scientific packages including most common data science libraries.\n",
    "    - Includes the Anaconda Navigator, a GUI tool that helps you manage conda environments and packages without a command line interface &#128078;\n",
    "    - Requires about 3GB disk space.\n",
    "- **[Miniconda](https://github.com/conda/conda) (recommended)**\n",
    "    - Miniconda is a small, bootstrap version of Anaconda that includes only conda and a small number of packages.\n",
    "    - Requires about 400MB disk space.\n",
    "    \n",
    "    \n",
    "<!-- Anaconda, Inc. is one of a large team of maintainers in the conda package open source community. Anaconda hosts conda-forge-->"
   ]
  },
  {
   "cell_type": "markdown",
   "id": "2bdf60e2",
   "metadata": {
    "slideshow": {
     "slide_type": "slide"
    }
   },
   "source": [
    "## Using conda for commercial purposes\n",
    "- By default, conda is free for individual and educational purposes.\n",
    "- Note that, **by default, conda cannot be used for commercial purposes** if the company has more than 200 employees (!)\n",
    "    - See [here](https://www.anaconda.com/blog/anaconda-commercial-edition-faq) and [here](https://conda-forge.org/blog/posts/2020-11-20-anaconda-tos/).\n",
    "- The reason is that the **defaults [channel](https://conda.io/projects/conda/en/latest/user-guide/concepts/channels.html)** of conda uses the Anaconda repository (i.e. anaconda.com) to download packages. This repository is maintained by Anaconda and requires a license.\n",
    "- However, you **can use conda for commerical purposes if you remove this channel from your conda configuration and use the conda-forge repository (i.e. anaconda.org)**, see also [here](https://florianwilhelm.info/2021/09/Handling_Anaconda_without_getting_constricted/).\n",
    "- Or, directly use [miniforge](https://github.com/conda-forge/miniforge) or [mambaforge](https://github.com/conda-forge/miniforge#mambaforge) which use the conda-forge repo by default."
   ]
  },
  {
   "cell_type": "markdown",
   "id": "7a42bb7b",
   "metadata": {
    "slideshow": {
     "slide_type": "slide"
    }
   },
   "source": [
    "## Why conda?"
   ]
  },
  {
   "cell_type": "markdown",
   "id": "32a65fcd",
   "metadata": {
    "slideshow": {
     "slide_type": "-"
    }
   },
   "source": [
    "- There are a [lot of package and/or virtual environment managers in the wild](https://stackoverflow.com/questions/41573587/what-is-the-difference-between-venv-pyvenv-pyenv-virtualenv-virtualenvwrappe)\n",
    "    - easy_install\n",
    "    - pip\n",
    "    - pyenv\n",
    "    - venv\n",
    "    - virtualenv\n",
    "    - pyenv-virtualenv\n",
    "    - virtualenvwrapper\n",
    "    - pyenv-virtualenvwrapper \n",
    "    - pipenv \n",
    "    - conda\n",
    "    - mamba\n",
    "    - pdm\n",
    "    - poetry\n",
    "    - ..."
   ]
  },
  {
   "cell_type": "markdown",
   "id": "5bfdca31",
   "metadata": {
    "slideshow": {
     "slide_type": "slide"
    }
   },
   "source": [
    "**Why should one use conda?**\n",
    "\n",
    "- Conda provides a **unified approach of package and environment management**.\n",
    "    - Manages Python versions.\n",
    "    - Manages Python packages.\n",
    "    - Manages virtual environments.\n",
    "- You may need to use three tools, e.g., pip, virtualenv and pyenv to reproduce this subset of condas functionality\n",
    "- Conda **manages also non-Python libraries**. \n",
    "    - For instance, you can also install system libraries like glibc or the correct CUDA \n",
    "in your environment for neural network libraries that need a GPU/CUDA.\n",
    "    - Or other usefull programs like make, postgresql, aws-cli, ...\n",
    "    - If you cannot install a program due to insufficient rights, you can often used conda to install the program into an environment (!)<!-- Using https://docs.aws.amazon.com/cli/latest/userguide/getting-started-install.html one cannot install the aws-cli on Windows. With mamba it works-->\n",
    "- Conda environment directories are **self-contained** and can be moved to a different location. They are not dependent on any global python libraries, nor conda itself. \n",
    "- Supported by a lot of third-party packages.\n",
    "- In comparison with pip (the last two points will also be discussed on the next slides):\n",
    "    - Installing packages with conda can be very slow -> mamba is much faster than conda but still slower than pip (?)\n",
    "    - Installation of (data) science packages was much more straight forward with conda than with pip (still is?)\n",
    "    - Installation of packages resulted in less dependency conflicts (still true since pip 20.3?)\n",
    "\n",
    "\n"
   ]
  },
  {
   "cell_type": "markdown",
   "id": "7c57f9a4",
   "metadata": {
    "slideshow": {
     "slide_type": "slide"
    }
   },
   "source": [
    "### Comparison with Pip\n",
    "- Pip requires a global Python installation, conda not.\n",
    "- Conda only **installs binary packages**\n",
    "    - Originally, pip could only install from source and did not support binary packages.\n",
    "        - This is not a problem if the package is only written in Python.\n",
    "        - However, if the package includes C or FORTRAN code (which is often the case for (data) science packages) or other third-party dependencies that needs to be compiled, you need to have the tools to compile it [which can be quite painful](https://stackoverflow.com/questions/28413824/installing-numpy-on-windows) &#128557;\n",
    "        - This is especially true for Windows but can even be true for Unix systems.\n",
    "    -  Conda leaves the potentially difficult compilation step to the package maintainer so that the installation with pre-compiled binaries is straight forward.\n",
    "    - Nowadays, pip can install packages via the binary [wheel](https://realpython.com/python-wheels/) format, however [conda still handles non-Python dependencies better](https://jakevdp.github.io/blog/2016/08/25/conda-myths-and-misconceptions/#Myth-#6:-Now-that-pip-uses-wheels,-conda-is-no-longer-necessary)."
   ]
  },
  {
   "cell_type": "markdown",
   "id": "ec266334",
   "metadata": {
    "code_folding": [
     0
    ],
    "slideshow": {
     "slide_type": "slide"
    }
   },
   "source": [
    "**Comparison with Pip Cont'd**\n",
    "\n",
    "- [Conda has a true dependency resolver](https://www.anaconda.com/blog/understanding-conda-and-pip), something pip had been lacking for a long time or is [still lacking]((https://github.com/pypa/pip/issues/988)) (?)\n",
    "    - In the past, installing packages with pip could result in a broken environment (current status unknown to me since pip 20.3 introduced a new dependency solver).\n",
    "    - As long as package metadata about dependencies is correct, conda produces working environments with the downside of [taking more time](https://docs.conda.io/projects/conda/en/latest/dev-guide/deep-dives/solvers.html).\n",
    "- Not all, but almost all PyPi packages that you will need are available on conda channels."
   ]
  },
  {
   "cell_type": "markdown",
   "id": "93eb1057",
   "metadata": {
    "slideshow": {
     "slide_type": "-"
    }
   },
   "source": [
    "<table>\n",
    "<caption>This table is inspired by https://www.anaconda.com/blog/understanding-conda-and-pip </caption>\n",
    "        \n",
    "|                    |         conda         | pip                       |   |\n",
    "|:------------------:|:---------------------:|---------------------------|---|\n",
    "|      installs      |        binaries       |      from source or wheels      |   |\n",
    "|    package types   |          any          | Python                    |   |\n",
    "| create environment |          yes          | no                        |   |\n",
    "| dependency checks  | full                  | ? (was recursive in 2018) |   |\n",
    "| package sources    | Anaconda, conda-forge,... | PyPi, Github...           |   |\n",
    "\n",
    "</table>"
   ]
  },
  {
   "cell_type": "markdown",
   "id": "5ed5e70c",
   "metadata": {
    "slideshow": {
     "slide_type": "slide"
    }
   },
   "source": [
    "### So...?\n",
    "- If you are using complex Python environments (which is common in data science) I (still) recommend conda.\n",
    "- Otherwise you could just use pip, pyenv & venv/virtualenv or still just stick with conda.\n",
    "- Be aware, however, that many Python developers who don't do (data) science seem to reject conda, probably out of ignorance\n",
    "&#128529; See also the brilliant article [conda myths and misconceptions](https://jakevdp.github.io/blog/2016/08/25/conda-myths-and-misconceptions)."
   ]
  },
  {
   "cell_type": "markdown",
   "id": "2a49d346",
   "metadata": {
    "slideshow": {
     "slide_type": "slide"
    }
   },
   "source": [
    "## Conda's two command types\n",
    "- There are two types of conda commands\n",
    "    - Commands that start with ```conda env```, such as ```conda env list``` or ```conda env create```\n",
    "        - Information about these commands is (only) scattered in the section on [managing environments with conda](https://docs.conda.io/projects/conda/en/latest/user-guide/tasks/manage-environments.html#).\n",
    "    - All other commands.\n",
    "        - Information about these commands is available at [conda's command reference](https://docs.conda.io/projects/conda/en/latest/commands.html)\n",
    "- This can be a little bit confusing because, e.g.,\n",
    "    - ```conda env list``` and ```conda info --envs``` yield the same result.\n",
    "    - ```conda env remove --name myenv``` and ```conda remove --name myenv --all``` yield the same result (?).\n",
    "    - ```conda env export``` and ```conda list``` yield similar but not identical results. \n",
    "    - One can use ```conda env create -f environment.yml``` or ```conda create -n env -f environment.yml``` to create environments in a [certain way](https://stackoverflow.com/questions/65668913/can-i-create-a-conda-environment-from-multiple-yaml-files).\n",
    "- However, apart from manually creating an environment, most basic tasks can be done with commands that start with ```conda env```"
   ]
  },
  {
   "cell_type": "markdown",
   "id": "f2df94ef",
   "metadata": {
    "slideshow": {
     "slide_type": "slide"
    }
   },
   "source": [
    "## Creating an environment by hand\n",
    "<!--\n",
    "- You can create an empty environment called \"env\" by running \n",
    "```conda create -n env```\n",
    "     - There is nothing installed in this environment\n",
    "-->\n",
    "- Conda comes with a **base environment** which can be activated by executing the conda activation script or, provided the activation script is on the PATH variable, by running ```conda activate```\n",
    "- While you can install some packages in the base environment, you should **use a separate environment for each separate project** (both with the same name).\n",
    "- You can **create an environment** called ```env``` which contains packageA with version number 2.1. and the most current compatible version of packageB by running  \n",
    "```conda create -n env packageA=2.1 packageB```\n",
    "- This will also install the most recent compatible Python version, use  \n",
    "```conda create -n env python=3.X packageA packageB```\n",
    "to install a specific Python version.\n",
    "- Note that, by default, conda install packages only from the defaults channel (anaconda.com).\n",
    "    - Thus, if a package is not available on the defaults channel, it cannot be installed.\n",
    "    - Moreover, the use of the defaults channel requires a license for commercial purposes.\n",
    "    - **To install packages from other [channels](https://docs.conda.io/projects/conda/en/latest/glossary.html#channels), in particular [conda-forge](https://conda-forge.org/docs/user/introduction.html)**, read the documentation of the command ```conda create/install``` or modify the .condarc file.\n",
    "- It is also possible to install the conda environment into a [different location](https://conda.io/projects/conda/en/latest/user-guide/tasks/manage-environments.html#specifying-a-location-for-an-environment), e.g., as a subdirectory of your project.\n",
    " "
   ]
  },
  {
   "cell_type": "markdown",
   "id": "a938dd3c",
   "metadata": {
    "slideshow": {
     "slide_type": "slide"
    }
   },
   "source": [
    "## (De)activating an environment\n",
    "- You can **activate** the environment ```env``` by running  ```conda activate env``` (assuming the base environment had been activated before).\n",
    "- Running ```conda deactivate``` **deactivates** the current environment.\n",
    "- To see a list of the conda environments use ```conda env list```"
   ]
  },
  {
   "cell_type": "markdown",
   "id": "ed54c5f7",
   "metadata": {
    "slideshow": {
     "slide_type": "slide"
    }
   },
   "source": [
    "## Installing more packages\n",
    "- To add packages to the environment ```env``` run ```conda install -n env packageC packageD ...```\n",
    "- You should try to install all packages at once and not individually to save time and reduce the possibility of dependency conflicts.\n",
    "- That is, do not use  \n",
    "```\n",
    "conda create -n env packageA &&\n",
    "conda install -n env packageB &&\n",
    "conda install -n env packageC\n",
    "```\n",
    "but instead\n",
    "```\n",
    "conda install -n env packageA packageB packageC\n",
    "```\n"
   ]
  },
  {
   "cell_type": "markdown",
   "id": "ae36d849",
   "metadata": {
    "slideshow": {
     "slide_type": "slide"
    }
   },
   "source": [
    "## Creating an environment file\n",
    "- To make your environment reproducible and share it with others you can create **a file that lists the dependencies** of your project\n",
    "    - **Abstract** dependencies list libraries which are directly imported. They (often) do not pin the version of libraries.\n",
    "    - **Concrete** dependencies state all dependencies with exact version numbers.\n",
    "        - Ensures that the project runs on a different computer with the same operating system.\n",
    "        - The environment cannot be created on a different operating system using concrete dependencies.\n",
    "    - If some dependencies are only required for the development of a project but not for running the code, you can also put these dependencies in a separate file. To consider multiple files when building the environment, click [here](#multiple_envs).\n",
    "- In conda, dependencies should be put into an **environment.yml** file.\n",
    "    - Concrete dependencies (including pip) can be created via ```conda env export > environment.lock.yml``` \n",
    "    - Note that ```conda env export --from-history > environment.yml``` can only be used to obtain abstract dependencies if no package has been installed with pip.\n",
    "    - I recommend to create abstract dependencies manually. \n",
    "    - Each project should have an environment file with abstract dependencies."
   ]
  },
  {
   "cell_type": "markdown",
   "id": "9e85797f",
   "metadata": {
    "slideshow": {
     "slide_type": "slide"
    }
   },
   "source": [
    "- An (abstract) environment.yml file looks as follows\n",
    "```\n",
    "name: env\n",
    "channels:\n",
    "  - conda-forge\n",
    "  - nodefaults\n",
    "dependencies:\n",
    "  - numpy\n",
    "  - pandas\n",
    "  - pip:\n",
    "    - dateutil\n",
    "```\n",
    "    - The name in the first line is the name of the environment.\n",
    "    - The channels specify the channels from which packages are downloaded.\n",
    "    - The dependencies list the packages to be installed (via conda).\n",
    "    - If a dependency is ```pip:``` the next indented packages are installed via pip.\n",
    "- The environment.yml should be located in the project root.\n",
    "- Its file extension must be .yml (not .txt or something else)."
   ]
  },
  {
   "cell_type": "markdown",
   "id": "b443e5a7",
   "metadata": {
    "slideshow": {
     "slide_type": "slide"
    }
   },
   "source": [
    "- The content of the environment.yml of this project is"
   ]
  },
  {
   "cell_type": "code",
   "execution_count": 16,
   "id": "e32ad46e",
   "metadata": {
    "slideshow": {
     "slide_type": "-"
    }
   },
   "outputs": [
    {
     "name": "stdout",
     "output_type": "stream",
     "text": [
      "name: dsc_dev\r\n",
      "channels:\r\n",
      "  - conda-forge\r\n",
      "  - nodefaults\r\n",
      "dependencies:\r\n",
      "  - python\r\n",
      "  - pip\r\n",
      "  # -- data science\r\n",
      "  - pyexasol\r\n",
      "  - numpy\r\n",
      "  - pandas\r\n",
      "  - matplotlib\r\n",
      "  # - mlflow\r\n",
      "  # -- notebook\r\n",
      "  - nb_conda\r\n",
      "  - jupyter\r\n",
      "  - jupytext\r\n",
      "  - jupyter_contrib_nbextensions\r\n",
      "  # -- good code\r\n",
      "  - flake8\r\n",
      "  - mypy\r\n",
      "  - pandas-stubs  # required so that type hints for pandas work\r\n",
      "  - pre-commit\r\n",
      "  # -- the following 3 packages are only required when I use make to generate the docs\r\n",
      "  # - sphinx\r\n",
      "  # - myst-parser\r\n",
      "  # - linkify-it-py\r\n",
      "  # - sphinx_rtd_theme\r\n",
      "  # install custom package\r\n",
      "  - pip:\r\n",
      "    - rise  # dependencies not available on conda-forge\r\n",
      "    - -e .\r\n"
     ]
    }
   ],
   "source": [
    "!cat ../../environment.yml    "
   ]
  },
  {
   "cell_type": "markdown",
   "id": "d1b26b28",
   "metadata": {
    "slideshow": {
     "slide_type": "slide"
    }
   },
   "source": [
    "## Creating an environment from an environment file\n",
    "- To create a conda environment from an environment.yml file simply run  \n",
    "```conda env create -f environment.yml```  \n",
    "from the directory where the .yml file is located."
   ]
  },
  {
   "cell_type": "markdown",
   "id": "72a0595e",
   "metadata": {
    "slideshow": {
     "slide_type": "slide"
    }
   },
   "source": [
    "## Using Pip with Conda\n",
    "- Packages can also be installed with pip into conda environments, provided you have installed pip in the environment with ```conda install -n env pip```\n",
    "- You need to use pip if the package is unavailable through the conda channels (this should be an exception) or you want to install your own package in editable mode (which we will discuss later).\n",
    "- However, to maintain the environment integrity, you should **[only use pip after you have installed all packages with conda](https://docs.conda.io/projects/conda/en/latest/user-guide/tasks/manage-environments.html#using-pip-in-an-environment)**.\n",
    "- Otherwise, do not mix conda and pip.\n",
    "- If you need to install a conda package after you have installed a package with pip it's best to delete the environment and create it again by installing all conda packages first.\n",
    "- Alternatively, you may try an [experimental feature](https://conda.io/projects/conda/en/latest/user-guide/configuration/pip-interoperability.html) that improves the interoperability between conda and pip."
   ]
  },
  {
   "cell_type": "markdown",
   "id": "96c02519",
   "metadata": {
    "slideshow": {
     "slide_type": "slide"
    }
   },
   "source": [
    "## Mamba\n",
    "- See [here](https://www.anaconda.com/blog/understanding-and-improving-condas-performance) how to generally improve condas performance.\n",
    "- Still, conda might be too slow for you so you can use the drop-in replacement mamba.\n",
    "- From the [website](https://github.com/mamba-org/mamba)\n",
    "    - Mamba is a reimplementation of the conda package manager in C++.\n",
    "    - Parallel downloading of repository data and package files using multi-threading.\n",
    "    - Libsolv for much faster dependency solving, a state of the art library used in the RPM package manager of Red Hat, Fedora and OpenSUSE.\n",
    "    - Core parts of mamba are implemented in C++ for maximum efficiency.\n",
    "    - At the same time, mamba utilizes the same command line parser, package installation and deinstallation code and transaction verification routines as conda to stay as compatible as possible.\n",
    "- You can also [switch conda's solver to the same solver mamba uses](https://github.com/conda-incubator/conda-libmamba-solver). \n",
    "- **mambaforge** uses only the conda-forge channel by default, so you can always use it without a license, and can be downloaded [here](https://github.com/conda-forge/miniforge#mambaforge). \n",
    "- There is also **micromamba**: a pure C++-based CLI, self-contained in a single-file executable which does not depend on conda."
   ]
  },
  {
   "cell_type": "markdown",
   "id": "bc703ef7",
   "metadata": {
    "slideshow": {
     "slide_type": "slide"
    }
   },
   "source": [
    "## Supplementary material\n",
    "### How to use the base environment\n",
    "- Use the base environment to install common command-line utilities, e.g., [PyScaffold](https://pyscaffold.org/en/stable/), [tox](https://tox.wiki/en/latest/), or [conda-merge](https://github.com/amitbeka/conda-merge), that you use for all your projects.\n",
    "- The base environment should not be a dumping ground for packages.\n",
    "- Build a separate environment for adhoc analyses in which you install common Python packages, e.g., put pandas and numpy in an environment called datasciene.\n",
    "- If you install everything in the base environment\n",
    "    - Installing new packages takes a lot of time because more dependencies have to be checked.\n",
    "    - You might not be able to install a new package due to incompatibility.\n",
    "    - Since there is no usable environment file collaboration gets complicated.\n"
   ]
  },
  {
   "cell_type": "markdown",
   "id": "a0757a73",
   "metadata": {
    "slideshow": {
     "slide_type": "slide"
    }
   },
   "source": [
    "### Run an exectuable in a specific conda environment\n",
    "- Use ```conda run``` to run executables in activated environments, e.g.,  \n",
    "```conda run -n base python -c 'import sys; print(f\"The python executable of this environment is {sys.executable}\")'```"
   ]
  },
  {
   "cell_type": "markdown",
   "id": "6551d810",
   "metadata": {
    "slideshow": {
     "slide_type": "slide"
    }
   },
   "source": [
    "### Stacking environments:\n",
    "- By default, conda activate deactivates the current environment before it activates the new environment, and reactivates it when the new environment is deactivated. \n",
    "- Sometimes it is useful to access command-line utilities from the previous environment. This is especially true if you use the base environment to install command-line programs.\n",
    "- Use ```conda activate --stack myenv``` to append the PATH entries of the previous environment to the new PATH variable.\n",
    "- PATH entries from the previous environment have a lower priority, i.e., only the Python executable of the activated environment is considered.\n",
    "- Use ```conda config --set auto_stack 1``` to keep the PATH entries of the base environment."
   ]
  },
  {
   "cell_type": "markdown",
   "id": "a53f0f67",
   "metadata": {
    "slideshow": {
     "slide_type": "slide"
    }
   },
   "source": [
    "### Using multiple conda environment files to build one environment\n",
    "<a id=\"multiple_envs\"></a>\n",
    "- It is useful to distribute required packages to different environment files. \n",
    "    - For instance, the main environment file contains all packages that are required to run the code of a project.\n",
    "    - The dev environment file contains all additional packages that are useful to develop the project (e.g., running tests).\n",
    "- [At the moment](https://github.com/conda/conda/issues/9294#issuecomment-781347771) there is [no way](https://stackoverflow.com/a/74245058) to **directly** create an environment based on multiple .yml environment files that also takes into account that some packages require an installion with pip.\n",
    "    - ```conda env create``` is designed to take only one single .yml file.\n",
    "    - ```conda create``` accepts multiple [.txt requirement files that pip uses](https://pip.pypa.io/en/stable/reference/requirements-file-format/).\n",
    "        - For instance, ```conda create -n env --file=a.txt --file=b.txt```, where a.txt can be automatically created using ```conda list --explicit```.\n",
    "        - However, since these are not yml.files they do not specify which packages must be installed by pip (all packages are assumed to be installed with conda) "
   ]
  },
  {
   "cell_type": "markdown",
   "id": "4b9de5fc",
   "metadata": {
    "slideshow": {
     "slide_type": "slide"
    }
   },
   "source": [
    "**Using multiple conda environment files to build one environment: Cont'd**\n",
    "- However, you can use multiple .yml files to  **sequentially** create an environment by running ```conda env create -f env1.myl``` and then use ```conda env update -f env2.yml``` to update the environment with a new .yml file. \n",
    "    - This process is not efficient, because conda has to resolve the dependencies with each update.\n",
    "    - Moreover, as pointed out [here](https://github.com/amitbeka/conda-merge) this may reinstall package from the previous environment with a different version.\n",
    "- Alternatively, you can use [conda-merge](https://github.com/amitbeka/conda-merge) to **merge multiple .yml environment files into one .yml enviroment file** which can then be used with ```conda env create``` as follows\n",
    "```\n",
    "conda merge env1.yml env2.yml > env.yml\n",
    "conda env create -f env.yml\n",
    "```\n",
    "    - By defaulf, the name of the last environment is the environment name of the resulting .yml file\n",
    "    - To change the name you can use ```conda merge test1.yml test2.yml | sed 's/\\(name:\\).*/\\1 new_name/'```, where new_name is the evnironment name of the environment file"
   ]
  },
  {
   "cell_type": "markdown",
   "id": "747722db",
   "metadata": {
    "slideshow": {
     "slide_type": "slide"
    }
   },
   "source": [
    "### Updating an environment with a .yml file\n",
    "- See [here](https://stackoverflow.com/a/54825300) and [here](https://stackoverflow.com/a/54165945)."
   ]
  },
  {
   "cell_type": "markdown",
   "id": "ca98271c",
   "metadata": {
    "slideshow": {
     "slide_type": "slide"
    }
   },
   "source": [
    "# Summary\n",
    "- Conda ist the best choice for package and environment management if you are doing data science.\n",
    "- Without further configuration, conda requires a license for commercial purposes.\n",
    "- Use [mambaforge](https://github.com/conda-forge/miniforge#mambaforge) to speed up conda and not require a license.\n",
    "- Try to use a separate environment for each project.\n",
    "- If possible, install all packages at once into the environment. \n",
    "- Do not install packages with conda into an environment if you have already used pip to install packages.\n",
    "- Manually create an abstract .yml conda environment file for each environment. Concrete dependencies are only required if you put something into production.\n",
    "- To create an environment on the basis of multiple .yml environment files use conda-merge.\n"
   ]
  },
  {
   "cell_type": "markdown",
   "id": "115eafec",
   "metadata": {
    "slideshow": {
     "slide_type": "slide"
    }
   },
   "source": [
    "## Commands\n",
    "- Activate and deactivate an environment: ```conda activate env``` and ```conda deactivate env```\n",
    "- Creating an environment by hand: ```conda create -n env python=3.X packageA packageB```\n",
    "- Creating an environment from an environment file: ```conda env create -f environment.yml``` \n",
    "- Installing packages: ```conda create -n env packageA packageB```\n",
    "- Creating a .yml environment file with concrete dependencies (including pip): ```conda env export```\n",
    "- Creating a .yml environment file with abstract dependencies (excluding pip): ```conda env export --from-history```\n",
    "- Use ```conda run``` to run executables in activated environments\n",
    "- Use ```conda activate --stack myenv``` to stack environments\n",
    "- Use ```conda merge test1.yml test2.yml | sed 's/\\(name:\\).*/\\1 new_name/'``` to merge .yml environment files and name the environment to new_name"
   ]
  }
 ],
 "metadata": {
  "celltoolbar": "Slideshow",
  "jupytext": {
   "comment_magics": false
  },
  "kernelspec": {
   "display_name": "Python [conda env:dsc] *",
   "language": "python",
   "name": "conda-env-dsc-py"
  },
  "language_info": {
   "codemirror_mode": {
    "name": "ipython",
    "version": 3
   },
   "file_extension": ".py",
   "mimetype": "text/x-python",
   "name": "python",
   "nbconvert_exporter": "python",
   "pygments_lexer": "ipython3",
   "version": "3.10.8"
  },
  "rise": {
   "footer": "<h3>Dr. Fabian Spanhel</h3>",
   "header": "<h3>DSC: 2.1 ENVS & PACKAGES</h3>"
  },
  "toc": {
   "base_numbering": 1,
   "nav_menu": {},
   "number_sections": true,
   "sideBar": true,
   "skip_h1_title": false,
   "title_cell": "Table of Contents",
   "title_sidebar": "Contents",
   "toc_cell": false,
   "toc_position": {
    "height": "734px",
    "left": "679px",
    "top": "159.125px",
    "width": "366px"
   },
   "toc_section_display": true,
   "toc_window_display": true
  }
 },
 "nbformat": 4,
 "nbformat_minor": 5
}
