{
 "cells": [
  {
   "cell_type": "markdown",
   "id": "0e113625",
   "metadata": {},
   "source": [
    "# Setup"
   ]
  },
  {
   "cell_type": "markdown",
   "id": "a0bbbb8a",
   "metadata": {},
   "source": [
    "## Imports"
   ]
  },
  {
   "cell_type": "code",
   "execution_count": 10,
   "id": "06580870",
   "metadata": {},
   "outputs": [],
   "source": [
    "import pandas as pd\n",
    "\n",
    "from companion_module import (\n",
    "    query_data_from_db,\n",
    "    transform_data,\n",
    "    mean_target_per_group,\n",
    "    SimpleLinearRegression,\n",
    "    plot,\n",
    "    plot_x_vs_yy)"
   ]
  },
  {
   "cell_type": "markdown",
   "id": "b834603f",
   "metadata": {},
   "source": [
    "# Parameters"
   ]
  },
  {
   "cell_type": "markdown",
   "id": "04dbefee",
   "metadata": {},
   "source": [
    "## Data"
   ]
  },
  {
   "cell_type": "markdown",
   "id": "d14b7131",
   "metadata": {},
   "source": [
    "### Database connection"
   ]
  },
  {
   "cell_type": "code",
   "execution_count": 11,
   "id": "33e7168c",
   "metadata": {},
   "outputs": [],
   "source": [
    "path2db = \"../../../data/dsc.db\""
   ]
  },
  {
   "cell_type": "markdown",
   "id": "bfed0a26",
   "metadata": {},
   "source": [
    "### Sql query"
   ]
  },
  {
   "cell_type": "code",
   "execution_count": 12,
   "id": "a3b9315a",
   "metadata": {},
   "outputs": [],
   "source": [
    "sql_query = \"\"\"\n",
    "SELECT *\n",
    "FROM broadcast\n",
    "WHERE genre = 'Spielfilm'\n",
    "    AND start_time_agf >= '2018-01-01'\n",
    "    AND end_time_agf <= '2018-12-31'\n",
    "\"\"\""
   ]
  },
  {
   "cell_type": "markdown",
   "id": "47ea4b70",
   "metadata": {},
   "source": [
    "### Pd query"
   ]
  },
  {
   "cell_type": "code",
   "execution_count": 13,
   "id": "bd12d756",
   "metadata": {},
   "outputs": [],
   "source": [
    "pd_query = \"channel in 'RTL'\""
   ]
  },
  {
   "cell_type": "markdown",
   "id": "3992cd6f",
   "metadata": {},
   "source": [
    "### Target"
   ]
  },
  {
   "cell_type": "code",
   "execution_count": 14,
   "id": "5a53f44e",
   "metadata": {},
   "outputs": [],
   "source": [
    "target = 'duration'"
   ]
  },
  {
   "cell_type": "markdown",
   "id": "e2b301eb",
   "metadata": {},
   "source": [
    "### Feature"
   ]
  },
  {
   "cell_type": "code",
   "execution_count": 15,
   "id": "670b6688",
   "metadata": {},
   "outputs": [],
   "source": [
    "feature = 'month'"
   ]
  },
  {
   "cell_type": "markdown",
   "id": "2ff21d72",
   "metadata": {},
   "source": [
    "### Output"
   ]
  },
  {
   "cell_type": "code",
   "execution_count": 16,
   "id": "88d57c4b",
   "metadata": {},
   "outputs": [],
   "source": [
    "output = \"prediction.csv\""
   ]
  },
  {
   "cell_type": "markdown",
   "id": "c74df10d",
   "metadata": {},
   "source": [
    "## Model"
   ]
  },
  {
   "cell_type": "markdown",
   "id": "bca29f9d",
   "metadata": {},
   "source": [
    "### Model class"
   ]
  },
  {
   "cell_type": "code",
   "execution_count": 17,
   "id": "d610988f",
   "metadata": {},
   "outputs": [],
   "source": [
    "Model = SimpleLinearRegression"
   ]
  },
  {
   "cell_type": "markdown",
   "id": "faa0f3a1",
   "metadata": {},
   "source": [
    "# Data"
   ]
  },
  {
   "cell_type": "markdown",
   "id": "84f01196",
   "metadata": {},
   "source": [
    "## Load"
   ]
  },
  {
   "cell_type": "code",
   "execution_count": 18,
   "id": "df2a8f85",
   "metadata": {},
   "outputs": [],
   "source": [
    "df = query_data_from_db(sql_query, path2db)"
   ]
  },
  {
   "cell_type": "code",
   "execution_count": 19,
   "id": "f72fbf53",
   "metadata": {},
   "outputs": [
    {
     "data": {
      "text/html": [
       "<div>\n",
       "<style scoped>\n",
       "    .dataframe tbody tr th:only-of-type {\n",
       "        vertical-align: middle;\n",
       "    }\n",
       "\n",
       "    .dataframe tbody tr th {\n",
       "        vertical-align: top;\n",
       "    }\n",
       "\n",
       "    .dataframe thead th {\n",
       "        text-align: right;\n",
       "    }\n",
       "</style>\n",
       "<table border=\"1\" class=\"dataframe\">\n",
       "  <thead>\n",
       "    <tr style=\"text-align: right;\">\n",
       "      <th></th>\n",
       "      <th>RUN_ID</th>\n",
       "      <th>TITLE_ID</th>\n",
       "      <th>TITLE</th>\n",
       "      <th>CHANNEL</th>\n",
       "      <th>START_TIME_AGF</th>\n",
       "      <th>END_TIME_AGF</th>\n",
       "      <th>WEEKDAY</th>\n",
       "      <th>DURATION</th>\n",
       "      <th>GENRE</th>\n",
       "      <th>REPEAT</th>\n",
       "    </tr>\n",
       "  </thead>\n",
       "  <tbody>\n",
       "    <tr>\n",
       "      <th>0</th>\n",
       "      <td>649705</td>\n",
       "      <td>31400</td>\n",
       "      <td>Unternehmen Petticoat</td>\n",
       "      <td>ARD Das Erste</td>\n",
       "      <td>2018-01-01 03:00:00</td>\n",
       "      <td>2018-01-01 03:10:00</td>\n",
       "      <td>Mo</td>\n",
       "      <td>655</td>\n",
       "      <td>Spielfilm</td>\n",
       "      <td>nein</td>\n",
       "    </tr>\n",
       "    <tr>\n",
       "      <th>1</th>\n",
       "      <td>649708</td>\n",
       "      <td>31089</td>\n",
       "      <td>NOBODY IST DER GROESSTE</td>\n",
       "      <td>Kabel Eins</td>\n",
       "      <td>2018-01-01 03:00:00</td>\n",
       "      <td>2018-01-01 04:40:00</td>\n",
       "      <td>Mo</td>\n",
       "      <td>6126</td>\n",
       "      <td>Spielfilm</td>\n",
       "      <td>ja</td>\n",
       "    </tr>\n",
       "    <tr>\n",
       "      <th>2</th>\n",
       "      <td>649716</td>\n",
       "      <td>46257</td>\n",
       "      <td>Dallas Buyers Club</td>\n",
       "      <td>ARD Das Erste</td>\n",
       "      <td>2018-01-01 03:10:00</td>\n",
       "      <td>2018-01-01 05:00:00</td>\n",
       "      <td>Mo</td>\n",
       "      <td>6454</td>\n",
       "      <td>Spielfilm</td>\n",
       "      <td>nein</td>\n",
       "    </tr>\n",
       "    <tr>\n",
       "      <th>3</th>\n",
       "      <td>649723</td>\n",
       "      <td>43440</td>\n",
       "      <td>Sydney White - Campus Queen</td>\n",
       "      <td>ProSieben</td>\n",
       "      <td>2018-01-01 04:20:00</td>\n",
       "      <td>2018-01-01 06:00:00</td>\n",
       "      <td>Mo</td>\n",
       "      <td>5989</td>\n",
       "      <td>Spielfilm</td>\n",
       "      <td>ja</td>\n",
       "    </tr>\n",
       "    <tr>\n",
       "      <th>4</th>\n",
       "      <td>649725</td>\n",
       "      <td>31854</td>\n",
       "      <td>Die Superbullen</td>\n",
       "      <td>Kabel Eins</td>\n",
       "      <td>2018-01-01 04:40:00</td>\n",
       "      <td>2018-01-01 06:00:00</td>\n",
       "      <td>Mo</td>\n",
       "      <td>4675</td>\n",
       "      <td>Spielfilm</td>\n",
       "      <td>nein</td>\n",
       "    </tr>\n",
       "    <tr>\n",
       "      <th>...</th>\n",
       "      <td>...</td>\n",
       "      <td>...</td>\n",
       "      <td>...</td>\n",
       "      <td>...</td>\n",
       "      <td>...</td>\n",
       "      <td>...</td>\n",
       "      <td>...</td>\n",
       "      <td>...</td>\n",
       "      <td>...</td>\n",
       "      <td>...</td>\n",
       "    </tr>\n",
       "    <tr>\n",
       "      <th>5351</th>\n",
       "      <td>739275</td>\n",
       "      <td>54732</td>\n",
       "      <td>PASSAGIER 23 - VERSCHWUNDEN AUF HOHER SEE</td>\n",
       "      <td>RTL</td>\n",
       "      <td>2018-12-30 00:20:00</td>\n",
       "      <td>2018-12-30 02:35:00</td>\n",
       "      <td>So</td>\n",
       "      <td>6963</td>\n",
       "      <td>Spielfilm</td>\n",
       "      <td>nein</td>\n",
       "    </tr>\n",
       "    <tr>\n",
       "      <th>5352</th>\n",
       "      <td>739284</td>\n",
       "      <td>30589</td>\n",
       "      <td>EDGAR WALLACE: DAS INDISCHE TUCH</td>\n",
       "      <td>Kabel Eins</td>\n",
       "      <td>2018-12-30 01:40:00</td>\n",
       "      <td>2018-12-30 02:55:00</td>\n",
       "      <td>So</td>\n",
       "      <td>4237</td>\n",
       "      <td>Spielfilm</td>\n",
       "      <td>ja</td>\n",
       "    </tr>\n",
       "    <tr>\n",
       "      <th>5353</th>\n",
       "      <td>739285</td>\n",
       "      <td>36273</td>\n",
       "      <td>Ring 2</td>\n",
       "      <td>ProSieben</td>\n",
       "      <td>2018-12-30 01:55:00</td>\n",
       "      <td>2018-12-30 02:55:00</td>\n",
       "      <td>So</td>\n",
       "      <td>3038</td>\n",
       "      <td>Spielfilm</td>\n",
       "      <td>nein</td>\n",
       "    </tr>\n",
       "    <tr>\n",
       "      <th>5354</th>\n",
       "      <td>739290</td>\n",
       "      <td>48354</td>\n",
       "      <td>The Boy Next Door</td>\n",
       "      <td>RTL</td>\n",
       "      <td>2018-12-30 02:35:00</td>\n",
       "      <td>2018-12-30 02:55:00</td>\n",
       "      <td>So</td>\n",
       "      <td>1272</td>\n",
       "      <td>Spielfilm</td>\n",
       "      <td>ja</td>\n",
       "    </tr>\n",
       "    <tr>\n",
       "      <th>5355</th>\n",
       "      <td>739292</td>\n",
       "      <td>54838</td>\n",
       "      <td>Maria Wern, Kripo Gotland - In der Tiefe</td>\n",
       "      <td>ARD Das Erste</td>\n",
       "      <td>2018-12-30 02:40:00</td>\n",
       "      <td>2018-12-30 02:55:00</td>\n",
       "      <td>So</td>\n",
       "      <td>958</td>\n",
       "      <td>Spielfilm</td>\n",
       "      <td>nein</td>\n",
       "    </tr>\n",
       "  </tbody>\n",
       "</table>\n",
       "<p>5356 rows × 10 columns</p>\n",
       "</div>"
      ],
      "text/plain": [
       "      RUN_ID  TITLE_ID                                      TITLE  \\\n",
       "0     649705     31400                      Unternehmen Petticoat   \n",
       "1     649708     31089                    NOBODY IST DER GROESSTE   \n",
       "2     649716     46257                         Dallas Buyers Club   \n",
       "3     649723     43440                Sydney White - Campus Queen   \n",
       "4     649725     31854                            Die Superbullen   \n",
       "...      ...       ...                                        ...   \n",
       "5351  739275     54732  PASSAGIER 23 - VERSCHWUNDEN AUF HOHER SEE   \n",
       "5352  739284     30589           EDGAR WALLACE: DAS INDISCHE TUCH   \n",
       "5353  739285     36273                                     Ring 2   \n",
       "5354  739290     48354                          The Boy Next Door   \n",
       "5355  739292     54838   Maria Wern, Kripo Gotland - In der Tiefe   \n",
       "\n",
       "            CHANNEL       START_TIME_AGF         END_TIME_AGF WEEKDAY  \\\n",
       "0     ARD Das Erste  2018-01-01 03:00:00  2018-01-01 03:10:00      Mo   \n",
       "1        Kabel Eins  2018-01-01 03:00:00  2018-01-01 04:40:00      Mo   \n",
       "2     ARD Das Erste  2018-01-01 03:10:00  2018-01-01 05:00:00      Mo   \n",
       "3         ProSieben  2018-01-01 04:20:00  2018-01-01 06:00:00      Mo   \n",
       "4        Kabel Eins  2018-01-01 04:40:00  2018-01-01 06:00:00      Mo   \n",
       "...             ...                  ...                  ...     ...   \n",
       "5351            RTL  2018-12-30 00:20:00  2018-12-30 02:35:00      So   \n",
       "5352     Kabel Eins  2018-12-30 01:40:00  2018-12-30 02:55:00      So   \n",
       "5353      ProSieben  2018-12-30 01:55:00  2018-12-30 02:55:00      So   \n",
       "5354            RTL  2018-12-30 02:35:00  2018-12-30 02:55:00      So   \n",
       "5355  ARD Das Erste  2018-12-30 02:40:00  2018-12-30 02:55:00      So   \n",
       "\n",
       "      DURATION      GENRE REPEAT  \n",
       "0          655  Spielfilm   nein  \n",
       "1         6126  Spielfilm     ja  \n",
       "2         6454  Spielfilm   nein  \n",
       "3         5989  Spielfilm     ja  \n",
       "4         4675  Spielfilm   nein  \n",
       "...        ...        ...    ...  \n",
       "5351      6963  Spielfilm   nein  \n",
       "5352      4237  Spielfilm     ja  \n",
       "5353      3038  Spielfilm   nein  \n",
       "5354      1272  Spielfilm     ja  \n",
       "5355       958  Spielfilm   nein  \n",
       "\n",
       "[5356 rows x 10 columns]"
      ]
     },
     "execution_count": 19,
     "metadata": {},
     "output_type": "execute_result"
    }
   ],
   "source": [
    "df"
   ]
  },
  {
   "cell_type": "markdown",
   "id": "17101341",
   "metadata": {},
   "source": [
    "## Transform"
   ]
  },
  {
   "cell_type": "code",
   "execution_count": 20,
   "id": "7780c494",
   "metadata": {},
   "outputs": [],
   "source": [
    "df = transform_data(\n",
    "    df,\n",
    "    columns2lower=True,\n",
    "    freq_col=feature,\n",
    "    query=pd_query)"
   ]
  },
  {
   "cell_type": "markdown",
   "id": "462c238b",
   "metadata": {},
   "source": [
    "## Aggregate"
   ]
  },
  {
   "cell_type": "code",
   "execution_count": 21,
   "id": "9e046cae",
   "metadata": {},
   "outputs": [],
   "source": [
    "mean_duration_per_month = mean_target_per_group(\n",
    "    df,\n",
    "    group_cols=feature,\n",
    "    target=target)"
   ]
  },
  {
   "cell_type": "code",
   "execution_count": 22,
   "id": "cfe272be",
   "metadata": {},
   "outputs": [
    {
     "data": {
      "text/html": [
       "<div>\n",
       "<style scoped>\n",
       "    .dataframe tbody tr th:only-of-type {\n",
       "        vertical-align: middle;\n",
       "    }\n",
       "\n",
       "    .dataframe tbody tr th {\n",
       "        vertical-align: top;\n",
       "    }\n",
       "\n",
       "    .dataframe thead th {\n",
       "        text-align: right;\n",
       "    }\n",
       "</style>\n",
       "<table border=\"1\" class=\"dataframe\">\n",
       "  <thead>\n",
       "    <tr style=\"text-align: right;\">\n",
       "      <th></th>\n",
       "      <th>month</th>\n",
       "      <th>duration</th>\n",
       "    </tr>\n",
       "  </thead>\n",
       "  <tbody>\n",
       "    <tr>\n",
       "      <th>0</th>\n",
       "      <td>1</td>\n",
       "      <td>5232.111111</td>\n",
       "    </tr>\n",
       "    <tr>\n",
       "      <th>1</th>\n",
       "      <td>2</td>\n",
       "      <td>5786.000000</td>\n",
       "    </tr>\n",
       "    <tr>\n",
       "      <th>2</th>\n",
       "      <td>3</td>\n",
       "      <td>5496.611111</td>\n",
       "    </tr>\n",
       "    <tr>\n",
       "      <th>3</th>\n",
       "      <td>4</td>\n",
       "      <td>5371.708333</td>\n",
       "    </tr>\n",
       "    <tr>\n",
       "      <th>4</th>\n",
       "      <td>5</td>\n",
       "      <td>5386.458333</td>\n",
       "    </tr>\n",
       "    <tr>\n",
       "      <th>5</th>\n",
       "      <td>6</td>\n",
       "      <td>4301.666667</td>\n",
       "    </tr>\n",
       "    <tr>\n",
       "      <th>6</th>\n",
       "      <td>7</td>\n",
       "      <td>4719.040000</td>\n",
       "    </tr>\n",
       "    <tr>\n",
       "      <th>7</th>\n",
       "      <td>8</td>\n",
       "      <td>4566.000000</td>\n",
       "    </tr>\n",
       "    <tr>\n",
       "      <th>8</th>\n",
       "      <td>9</td>\n",
       "      <td>4958.571429</td>\n",
       "    </tr>\n",
       "    <tr>\n",
       "      <th>9</th>\n",
       "      <td>10</td>\n",
       "      <td>5384.272727</td>\n",
       "    </tr>\n",
       "    <tr>\n",
       "      <th>10</th>\n",
       "      <td>11</td>\n",
       "      <td>5666.000000</td>\n",
       "    </tr>\n",
       "    <tr>\n",
       "      <th>11</th>\n",
       "      <td>12</td>\n",
       "      <td>5052.323529</td>\n",
       "    </tr>\n",
       "  </tbody>\n",
       "</table>\n",
       "</div>"
      ],
      "text/plain": [
       "    month     duration\n",
       "0       1  5232.111111\n",
       "1       2  5786.000000\n",
       "2       3  5496.611111\n",
       "3       4  5371.708333\n",
       "4       5  5386.458333\n",
       "5       6  4301.666667\n",
       "6       7  4719.040000\n",
       "7       8  4566.000000\n",
       "8       9  4958.571429\n",
       "9      10  5384.272727\n",
       "10     11  5666.000000\n",
       "11     12  5052.323529"
      ]
     },
     "execution_count": 22,
     "metadata": {},
     "output_type": "execute_result"
    }
   ],
   "source": [
    "mean_duration_per_month"
   ]
  },
  {
   "cell_type": "markdown",
   "id": "fb4d4aa5",
   "metadata": {},
   "source": [
    "## Visualize"
   ]
  },
  {
   "cell_type": "code",
   "execution_count": 23,
   "id": "238fb52f",
   "metadata": {},
   "outputs": [
    {
     "data": {
      "image/png": "[encoded data removed]",
      "text/plain": [
       "<Figure size 432x288 with 1 Axes>"
      ]
     },
     "metadata": {
      "needs_background": "light"
     },
     "output_type": "display_data"
    }
   ],
   "source": [
    "plot(mean_duration_per_month[feature], mean_duration_per_month[target])"
   ]
  },
  {
   "cell_type": "markdown",
   "id": "632c6dc7",
   "metadata": {},
   "source": [
    "# Model"
   ]
  },
  {
   "cell_type": "markdown",
   "id": "94416a50",
   "metadata": {},
   "source": [
    "## Fit"
   ]
  },
  {
   "cell_type": "code",
   "execution_count": 24,
   "id": "e50fc1e4",
   "metadata": {},
   "outputs": [],
   "source": [
    "y = mean_duration_per_month[feature]\n",
    "X = mean_duration_per_month[target]"
   ]
  },
  {
   "cell_type": "code",
   "execution_count": 25,
   "id": "3f77a7aa",
   "metadata": {},
   "outputs": [],
   "source": [
    "model = Model().fit(X, y)"
   ]
  },
  {
   "cell_type": "markdown",
   "id": "335fdfe9",
   "metadata": {},
   "source": [
    "## Predict in-sample"
   ]
  },
  {
   "cell_type": "code",
   "execution_count": 26,
   "id": "911cafbe",
   "metadata": {},
   "outputs": [],
   "source": [
    "in_sample_pred = model.predict(X)"
   ]
  },
  {
   "cell_type": "markdown",
   "id": "cca30e49",
   "metadata": {},
   "source": [
    "## Visualize"
   ]
  },
  {
   "cell_type": "code",
   "execution_count": 27,
   "id": "7567feb4",
   "metadata": {},
   "outputs": [
    {
     "data": {
      "image/png": "[encoded data removed]",
      "text/plain": [
       "<Figure size 432x288 with 1 Axes>"
      ]
     },
     "metadata": {
      "needs_background": "light"
     },
     "output_type": "display_data"
    }
   ],
   "source": [
    "plot_x_vs_yy(X, y, in_sample_pred)"
   ]
  },
  {
   "cell_type": "markdown",
   "id": "df7457ad",
   "metadata": {},
   "source": [
    "## Predict out-of-sample"
   ]
  },
  {
   "cell_type": "code",
   "execution_count": 28,
   "id": "e2e31673",
   "metadata": {},
   "outputs": [
    {
     "name": "stdout",
     "output_type": "stream",
     "text": [
      "Mean duration for the 13th month is 0 minutes.\n"
     ]
    }
   ],
   "source": [
    "y_13 = model.predict(pd.Series([3]))\n",
    "print(f\"Mean {target} for the 13th month is {round(y_13.squeeze()/ (60))} minutes.\")"
   ]
  },
  {
   "cell_type": "markdown",
   "id": "29542385",
   "metadata": {},
   "source": [
    "# Export in-sample predictions"
   ]
  },
  {
   "cell_type": "code",
   "execution_count": 29,
   "id": "99875f73",
   "metadata": {},
   "outputs": [],
   "source": [
    "in_sample_pred.to_csv(output, index=False)"
   ]
  }
 ],
 "metadata": {
  "jupytext": {
   "comment_magics": false
  },
  "kernelspec": {
   "display_name": "Python [conda env:improcast]",
   "language": "python",
   "name": "conda-env-improcast-py"
  },
  "language_info": {
   "codemirror_mode": {
    "name": "ipython",
    "version": 3
   },
   "file_extension": ".py",
   "mimetype": "text/x-python",
   "name": "python",
   "nbconvert_exporter": "python",
   "pygments_lexer": "ipython3",
   "version": "3.10.4"
  },
  "toc": {
   "base_numbering": 1,
   "nav_menu": {},
   "number_sections": true,
   "sideBar": true,
   "skip_h1_title": false,
   "title_cell": "Table of Contents",
   "title_sidebar": "Contents",
   "toc_cell": false,
   "toc_position": {},
   "toc_section_display": true,
   "toc_window_display": true
  }
 },
 "nbformat": 4,
 "nbformat_minor": 5
}
