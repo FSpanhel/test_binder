{
 "cells": [
  {
   "cell_type": "code",
   "execution_count": 1,
   "id": "62df3ae9",
   "metadata": {
    "slideshow": {
     "slide_type": "notes"
    }
   },
   "outputs": [
    {
     "name": "stdout",
     "output_type": "stream",
     "text": [
      "> This file has been imported as a module.\n",
      " > Excluding folders which are always present on sys.path, the remaining entries of sys.path are\n",
      "  - /home/spa0001f/github/teach/dsc/lecture_notes/2_setup_python_project\n",
      "  - \n",
      "> Note that an empty entry of sys.path corresponds to the corresponding working directory\n",
      "  /home/spa0001f/github/teach/dsc/lecture_notes/2_setup_python_project\n"
     ]
    }
   ],
   "source": [
    "from dsc.notebook import embed_website\n",
    "from dsc.setup_python_project.sys_path import SysInfo\n",
    "sys_info = SysInfo()"
   ]
  },
  {
   "cell_type": "markdown",
   "id": "6b07bf5e",
   "metadata": {
    "slideshow": {
     "slide_type": "slide"
    }
   },
   "source": [
    "# Agenda\n",
    "- In this chapter we discuss how to setup your Python project after you have created a Git repo and a virtual environment\n",
    "- In particular, we will use [PyScaffold](https://github.com/pyscaffold) in combination with the [datascience template](https://github.com/drivendata/cookiecutter-data-science/) of [Cookiecutter](https://www.cookiecutter.io/) so that\n",
    "    - Obtain a sound folder structure for your project so that you know where to put\n",
    "        - Data\n",
    "        - Notebooks\n",
    "        - Modules\n",
    "        - Reports\n",
    "        - ...  \n",
    "    - You can easily pip-install your project package in editable mode\n",
    "- We talk about how you can rapidly develop prototypes and conduct analyses in Jupyter notebooks and when you should modularize your code into modules or a package."
   ]
  },
  {
   "cell_type": "markdown",
   "id": "1390f40d",
   "metadata": {
    "slideshow": {
     "slide_type": "slide"
    }
   },
   "source": [
    "# Using PyScaffold for setting up your Python project"
   ]
  },
  {
   "cell_type": "markdown",
   "id": "b0b62fbb",
   "metadata": {
    "slideshow": {
     "slide_type": "slide"
    }
   },
   "source": [
    "## What is PyScaffold?\n",
    "<!-- A Scaffold is a project template a.k.a. bootstrap, boilerplate or skeleton  -->\n",
    "From the [website](https://pyscaffold.org/en/stable/):\n",
    "\n",
    "- PyScaffold is a **project generator** for bootstrapping high-quality Python packages, ready to be shared on PyPI and installable via pip. \n",
    "- PyScaffold incentives its users to use the **best tools and practices** available in the Python ecosystem.\n",
    "\n",
    "    - A generated project will contain **sane default configurations** for \n",
    "        - Setuptools (the de facto standard for building Python packages)\n",
    "        - Sphinx (the one & only Python documentation tool)\n",
    "        - Pytest and tox (most commonly used Python testing framework & task runner)\n",
    "    -  PyScaffold can also bring **pre-commit** into the mix to run a set of prolific linters and automatic formatters in each commit in order to adhere to common coding standards like pep8 and black."
   ]
  },
  {
   "cell_type": "markdown",
   "id": "4b7e6d72",
   "metadata": {
    "slideshow": {
     "slide_type": "fragment"
    }
   },
   "source": [
    "\"Using PyScaffold is like having a Python Packaging Guru, who has spent a lot of time researching how to create the best project setups, as a friend that is helping you with your project.\" &#128515;"
   ]
  },
  {
   "cell_type": "markdown",
   "id": "4db7707e",
   "metadata": {
    "slideshow": {
     "slide_type": "slide"
    }
   },
   "source": [
    "- Moreover, there is a [PyScaffold extension tailored for Data Science projects](https://github.com/pyscaffold/pyscaffoldext-dsproject) \t&#128522;\n",
    "- This extension creates a folder structure that is inspired by [cookiecutter-data-science](https://github.com/drivendata/cookiecutter-data-science). \n",
    "- In contrast to cookiecutter-data-science alone it\n",
    "    1. Advocates a proper Python package structure that can be shipped and distributed.\n",
    "    2. Uses a conda environment instead of something virtualenv-based and is thus more suitable for data science projects.\n",
    "    3. More default configurations for Sphinx, pytest, pre-commit, etc. to foster clean coding and best practice.\n",
    "- Moreover, the scripts folder is added (cookiercutter-data-science proposes to put scripts inside src/package, which I would not suggest)\n",
    "\n",
    "<!-- Cookiecutter is a tool that allows the definition of templates \n",
    "for a broad range of software projects. On the other hand, PyScaffold focus is on developing distributable Python packages (exclusively) in a simple way\n",
    "-->"
   ]
  },
  {
   "cell_type": "markdown",
   "id": "8bc93f03",
   "metadata": {
    "slideshow": {
     "slide_type": "slide"
    }
   },
   "source": [
    "- In this course, we will only use a subset of the features that the standard PyScaffold (DataScience) provides:\n",
    "    - A sound folder structure\n",
    "    - Using it to easily install the project package in editable mode\n",
    "    - Settinp up documentation (will be discussed when we talk about good code)\n",
    "    - Setting up pre-commit hooks (will be discussed when we talk about collaboration)"
   ]
  },
  {
   "cell_type": "markdown",
   "id": "34b1ef3e",
   "metadata": {
    "slideshow": {
     "slide_type": "slide"
    }
   },
   "source": [
    "## Installing PyScaffold and creating a project with PyScaffold\n",
    "<a id=\"pyscaffold_test\"></a>"
   ]
  },
  {
   "cell_type": "markdown",
   "id": "8ec67c98",
   "metadata": {
    "slideshow": {
     "slide_type": "-"
    }
   },
   "source": [
    "- Cd to the parent directory of this project.\n",
    "- Run ```conda create -n pyscaffold_test -c conda-forge python=3.10 pyscaffoldext-dsproject pip pandas jupyter matplotlib```.\n",
    "<!-- The Python version is pinned to 3.10 because when a new version of Python is released, some packages might not be immediately compatible with this new version (according to their metadata). But you investigate whether not pinning the version works (which should be the case in 99.9% of the cases) -->\n",
    "- Activate the pyscaffold_test environment.\n",
    "- Run ```putup --dsproject pyscaffold_test``` to create a directory called pyscaffold_test which is set up by PyScaffold.\n",
    "    - If you use a unix-based OS, you can also add the flag ```--no-tox``` to the previous command and build your documentation later with make.\n",
    "- Note: You can only create a project with PyScaffold if the directory is not tracked by Git.\n",
    "    - If the parent directory of `dsc` is tracked by Git\n",
    "        - Either move the `dsc` project to a different directory that is not tracked by Git and run the previous  ```putup``` command in the new parent directory\n",
    "        - Or cd into the root of the Git repo that tracks the parent directory of `dsc` and run ```rm -rf .git``` to delete the Git repo (only do this if you don't need the Git repo!)"
   ]
  },
  {
   "cell_type": "markdown",
   "id": "75ba3f06",
   "metadata": {
    "slideshow": {
     "slide_type": "slide"
    }
   },
   "source": [
    "The resulting folder structure should look like this\n",
    "\n",
    "```\n",
    "├── AUTHORS.md              <- List of developers and maintainers.\n",
    "├── CHANGELOG.md            <- Changelog to keep track of new features and fixes.\n",
    "├── CONTRIBUTING.md         <- Guidelines for contributing to this project.\n",
    "├── Dockerfile              <- Build a docker container with `docker build .`.\n",
    "├── LICENSE.txt             <- License as chosen on the command-line.\n",
    "├── README.md               <- The top-level README for developers.\n",
    "├── configs                 <- Directory for configurations of model & application.\n",
    "├── data\n",
    "│   ├── external            <- Data from third party sources.\n",
    "│   ├── interim             <- Intermediate data that has been transformed.\n",
    "│   ├── processed           <- The final, canonical data sets for modeling.\n",
    "│   └── raw                 <- The original, immutable data dump.\n",
    "├── docs                    <- Directory for Sphinx documentation in rst or md.\n",
    "├── environment.yml         <- The conda environment file for reproducibility.\n",
    "├── models                  <- Trained and serialized models, model predictions,\n",
    "│                              or model summaries.\n",
    "├── notebooks               <- Jupyter notebooks. Naming convention is a number (for\n",
    "│                              ordering), the creator's initials and a description,\n",
    "│                              e.g. `1.0-fw-initial-data-exploration`.\n",
    "├── pyproject.toml          <- Build configuration. Don't change! Use `pip install -e .`\n",
    "│                              to install for development or to build `tox -e build`.\n",
    "├── references              <- Data dictionaries, manuals, and all other materials.\n",
    "├── reports                 <- Generated analysis as HTML, PDF, LaTeX, etc.\n",
    "│   └── figures             <- Generated plots and figures for reports.\n",
    "├── scripts                 <- Analysis and production scripts which import the\n",
    "│                              actual PYTHON_PKG, e.g. train_model.\n",
    "├── setup.cfg               <- Declarative configuration of your project.\n",
    "├── setup.py                <- [DEPRECATED] Use `python setup.py develop` to install for\n",
    "│                              development or `python setup.py bdist_wheel` to build.\n",
    "├── src\n",
    "│   └── PYTHON_PKG          <- Actual Python package where the main functionality goes.\n",
    "├── tests                   <- Unit tests which can be run with `pytest`.\n",
    "├── .coveragerc             <- Configuration for coverage reports of unit tests.\n",
    "├── .isort.cfg              <- Configuration for git hook that sorts imports.\n",
    "└── .pre-commit-config.yaml <- Configuration of pre-commit git hooks.\n",
    "```"
   ]
  },
  {
   "cell_type": "markdown",
   "id": "e53a742c",
   "metadata": {
    "slideshow": {
     "slide_type": "slide"
    }
   },
   "source": [
    "- Note that PyScaffold automatically turns pyscaffold_test into a git repo (please rename the initial branch).\n",
    "- The folders data, models, references, reports/figures are ignored by Git\n",
    "- Some folder also contain templates that you can investigate\n",
    "- You should also edit the environment.yml and files in uppercase letters, i.e.,README.md, AUTHORS.md, CONTRIBUTING.md, and LICENSE.txt\n",
    "- All configuration is done in setup.cfg"
   ]
  },
  {
   "cell_type": "markdown",
   "id": "e5b6e61a",
   "metadata": {
    "slideshow": {
     "slide_type": "slide"
    }
   },
   "source": [
    "Why is it important to use a tool like PyScaffold that setups a common folder structure that everybody use?"
   ]
  },
  {
   "cell_type": "markdown",
   "id": "08e771c5",
   "metadata": {
    "slideshow": {
     "slide_type": "fragment"
    },
    "tags": [
     "solution"
    ]
   },
   "source": [
    "- Starting a project without a template is cumbersome\n",
    "    - Everyone thinks differently and has their own idea of how files and folders should be organized.\n",
    "    - If you collaborate with others you have to make an agreement about how the project should look like.\n",
    "    - Still, it is possible that your project folder becomes a dumping ground for files because this agreement is never done or not taken into account.\n",
    "- Making these agreements for each project individually is time-consuming and may result in different agreements and thus different folder structures.\n",
    "- Imagine booting your computer and the folder structure is different every time.... &#128556;&#128556;&#128556;"
   ]
  },
  {
   "cell_type": "markdown",
   "id": "ad8db7f5",
   "metadata": {
    "code_folding": [],
    "slideshow": {
     "slide_type": "slide"
    },
    "tags": [
     "solution"
    ]
   },
   "source": [
    "- Using a sensible template for a project\n",
    "    - Saves time and helps you focus on the project without having to create folder and files manually from scratch every time\n",
    "    - Makes it easier for developers to do things right and enforce best practises by providing structure\n",
    "    - Recudes the likelihood that the project folder becomes a dumping ground for files\n",
    "    - Lowers the entry level for new collaborators\n",
    "    - Allows to expand the folder structure without having to reorganize it from time to time\n",
    "- Using one template for all projects with the same underlying structure (e.g., data science, web application, ...)\n",
    "    - Standardizes the workflow of projects and increases consistency and reproducibility across projects\n",
    "    - Helps developers to quickly find resources (modules, scripts, documentation...) with confidence\n",
    "    - Helps developers to store files in the right place, again with confidence\n",
    "\n",
    "<!-- Think about the Filesystem Hierarchy Standard for Unix-like systems\n",
    "    - The /etc directory has a very specific purpose, as does the /tmp folder, and everybody (more or less)\n",
    "agrees to honor that social contract.\n",
    "Not all developers start with a project, new developers may join the project when it is already running or junior people might work on the project, providing them guidelines with templates is very useful -->"
   ]
  },
  {
   "cell_type": "markdown",
   "id": "e2e36247",
   "metadata": {
    "slideshow": {
     "slide_type": "slide"
    }
   },
   "source": [
    "# Structuring your code"
   ]
  },
  {
   "cell_type": "markdown",
   "id": "b5242d58",
   "metadata": {
    "slideshow": {
     "slide_type": "-"
    }
   },
   "source": [
    "- A sound project template provides a good basis for your project because it provides guidelines how to structure your code into notebooks, scripts and modules\n",
    "- However, these guidelines are not strict and you have to decide how to structure your code\n",
    "- When doing data science, you might often start with a simple script or a Jupyter notebook to prototype quickly and do some analyses\n",
    "- But when your code grows it's important to think more about the structure of your code \n",
    "- In case of a Python, you can modularize your project code into scripts and different modules which can be organized in a package\n",
    "- Sometimes you even want to reuse your project code for other projects and make it installable with pip\n",
    "- On the following slides, we will consider these points in more detail"
   ]
  },
  {
   "cell_type": "markdown",
   "id": "18d6c19e",
   "metadata": {
    "slideshow": {
     "slide_type": "slide"
    }
   },
   "source": [
    "## Resources\n",
    "- [Scrips, Modules, Packages, Libraries](https://realpython.com/lessons/scripts-modules-packages-and-libraries/)\n",
    "    - [How to run your Python script](https://realpython.com/run-python-scripts/)\n",
    "    - [Python Modules and Packages – An Introduction](https://realpython.com/python-modules-packages)\n",
    "- Code structure\n",
    "    - [PyScaffold](https://florianwilhelm.info/2018/11/working_efficiently_with_jupyter_lab/)\n",
    "    - [Structuring Your Project](https://docs.python-guide.org/writing/structure/)\n",
    "- Jupyter notebooks \n",
    "    - [A Beginner’s Tutorial](https://www.dataquest.io/blog/jupyter-notebook-tutorial/)\n",
    "    - [Contributed extensions](https://jupyter-contrib-nbextensions.readthedocs.io/en/latest/install.html)\n",
    "    - [Conda environment and package access extension](https://github.com/Anaconda-Platform/nb_conda): Useful to change the kernel of the notebook.\n",
    "    - [NbConvert](https://nbconvert.readthedocs.io/en/latest/index.html): In contrast to Jupytext this includes the cell outputs.\n",
    "    - [Jupytext](https://jupytext.readthedocs.io/en/latest/install.html): Does not include the cell outputs. Useful for notebook versioning.\n",
    "    - [NbFormat](https://nbformat.readthedocs.io/en/latest/): Can be used to programmatically create notebooks.\n",
    "- [Comparing data dashboarding tools and frameworks](https://www.datarevenue.com/en-blog/data-dashboarding-streamlit-vs-dash-vs-shiny-vs-voila)\n"
   ]
  },
  {
   "cell_type": "markdown",
   "id": "ba1bbe95",
   "metadata": {
    "slideshow": {
     "slide_type": "slide"
    }
   },
   "source": [
    "## Jupyter Notebooks: The good, the bad, and the ugly."
   ]
  },
  {
   "cell_type": "markdown",
   "id": "6c07e794",
   "metadata": {
    "slideshow": {
     "slide_type": "-"
    }
   },
   "source": [
    "- Jupyter notebooks are heavily used in the data science community (industry, science, kaggle)\n",
    "- Notebooks are wonderful for prototyping, exploration, analyses (including visualizations) and sharing results.\n",
    "    - Combing markdown with source code of many programming languages\n",
    "    - Seperating of code blocks into cells\n",
    "    - Plotting\n",
    "    - \"Interactive debugger\"\n",
    "- There are even companies that \n",
    "    - Use Jupyter notebooks in production systems, e.g., [Netflix](https://netflixtechblog.com/notebook-innovation-591ee3221233)\n",
    "    - Provide [platforms](https://www.databricks.com/solutions/data-science) that productionize notebooks \n",
    "<!-- (but if you don't need Spark, Databricks might be too expensive)-->\n",
    "- However, the use of Jupyter notebooks for code that is actually deployed and runs in production is rather the exception.  "
   ]
  },
  {
   "cell_type": "markdown",
   "id": "b41767a7",
   "metadata": {
    "slideshow": {
     "slide_type": "fragment"
    }
   },
   "source": [
    "<div align=\"center\">\n",
    "And there are good reasons for that!\n",
    "</div>"
   ]
  },
  {
   "cell_type": "markdown",
   "id": "78cbd46e",
   "metadata": {
    "slideshow": {
     "slide_type": "slide"
    }
   },
   "source": [
    "<div>\n",
    "<img src=\"./figures/all_code_in_notebook_meme.png\" alt=\"Notebook meme\" width=1000/>\n",
    "<div/>"
   ]
  },
  {
   "cell_type": "markdown",
   "id": "e6417d85",
   "metadata": {
    "slideshow": {
     "slide_type": "slide"
    }
   },
   "source": [
    "The (in)famous talk [\"I don't like notebooks\"](https://docs.google.com/presentation/d/1n2RlMdmv1p25Xy5thJUhkKGvjtV-dkAIsUXP-AL4ffI/) given by Joel Grus at JupyterCon 2018 highlights possible drawbacks of Jupyter notebooks for coding."
   ]
  },
  {
   "cell_type": "code",
   "execution_count": 2,
   "id": "64a54276",
   "metadata": {
    "slideshow": {
     "slide_type": "-"
    }
   },
   "outputs": [],
   "source": [
    "# embed_website(\"https://docs.google.com/presentation/d/1n2RlMdmv1p25Xy5thJUhkKGvjtV-dkAIsUXP-AL4ffI/\")  # activating this might lag the presentation"
   ]
  },
  {
   "cell_type": "markdown",
   "id": "562cf818",
   "metadata": {
    "slideshow": {
     "slide_type": "slide"
    }
   },
   "source": [
    "<a id=\"nb_drawbacks\"><a/>   \n",
    "- In the talk the following **drawbacks of Jupyter notebooks** are mentioned:\n",
    "    1. **Reproducibility and hidden states** are a concern (slides 23, 24, 31, 42, 73-74)\n",
    "        - Re-running or running cells in different order give you much flexibility for exploring\n",
    "        - But it can be difficult to reproduce or understand results\n",
    "    1. Inspiring bad coding habits and **discouraging good coding habits** (slides 45-59, 76-90)\n",
    "        - No functions, abstractions or OOP, no writing of modules/packages\n",
    "        - Mixing \"library\" and \"excecution\" code\n",
    "        - Code is often not DRY and resuable\n",
    "        - No testing\n",
    "        - No type annotations\n",
    "<a id=\"ide_features\"><a/> \n",
    "    1. **Powerful features of IDEs are missing** (slides 60-70, this can be somewhat addressed in the meantime by opening a notebook directly in VSCode or PyCharm)\n",
    "        - Autosuggestion\n",
    "        - Automatic highlighting of possible errors by linters\n",
    "        - Code formatting using, e.g., black\n",
    "        - Type annotation checks\n",
    "        \n",
    "<!-- - The author also mentions in his notes that the Jupyter ecosystem consists of tools to work around people's bad habits so they don't have to fix them -->\n"
   ]
  },
  {
   "cell_type": "markdown",
   "id": "b7bb5d2e",
   "metadata": {
    "slideshow": {
     "slide_type": "slide"
    }
   },
   "source": [
    "- Drawbacks not mentioned in the talk:\n",
    "    - **Code versioning is difficult** (in the meantime, this can be addressed with Jupytext)\n",
    "    - **Collaboration is difficult** (everybody working on the same notebook? merge conflicts?)\n",
    "- See also [here](https://www.reddit.com/r/datascience/comments/nf47se/does_netflix_use_jupyter_notebooks_in_production/), [here](https://www.youtube.com/watch?v=9Q6sLbz37gk) and [here](https://www.reddit.com/r/datascience/comments/yfsxrn/a_critical_reflection_of_jupyter_notebooks/)\n",
    "for further discussions about using notebooks (in production)."
   ]
  },
  {
   "cell_type": "markdown",
   "id": "cb2e1396",
   "metadata": {
    "slideshow": {
     "slide_type": "slide"
    }
   },
   "source": [
    "- Jupyter notebooks and its extensions are tools. \n",
    "    - Many **projects try to extend Jupyter notebooks and make them ready for collaboration and production** (or e.g., writing books with them).\n",
    "    - Like any tool you can use a notebook for a purpose it was not designed for: [\"If Your Only Tool Is a Hammer Then Every Problem Looks Like a Nail\"](https://en.wikipedia.org/wiki/Law_of_the_instrument).\n",
    "- Much \"data science\" education appears to be limited to showing beginners how to use notebooks but does not develop their programming skills or teach best practices.\n",
    "- Instead of extending and productionizing notebooks **I think it makes more sense to empower data scientists to build production-ready code the way it is typically done in other areas**\n",
    "- Especially if you project becomes more mature or complex it is beneficial to move away from notebooks and modularize your\n",
    "  code and factor it into a package/module\n",
    "- When the time comes, you'll be much closer to production-grade code and can rather ensure scalability, maintainability and resiliency that long-lived production code needs to support"
   ]
  },
  {
   "cell_type": "markdown",
   "id": "47f60d2e",
   "metadata": {
    "slideshow": {
     "slide_type": "slide"
    }
   },
   "source": [
    "- **This does not mean that you shouldn't use notebooks at all**...\n",
    "    - It's perfectly fine to use notebooks for analyses and sharing insights or doing reports \n",
    "    - It's also okay to use them to execute code as long as it is \n",
    "      just a wrapper for functions/objects that are imported and then executed\n",
    "    - Notebooks are like an interactive debugger and can be used to rapidly prototype\n",
    "    - Using pandas without notebooks can be painful due to pandas inconsistencies\n",
    "    - Not all code is meant to be \"production code\"\n",
    "- But you shouldn't put all of your code in one notebook\n",
    "- Also note that some IDEs ([VS Code](https://code.visualstudio.com/docs/datascience/jupyter-notebooks), PyCharm) directly support notebooks\n",
    "- VS Code also provides an [interactive mode](https://code.visualstudio.com/docs/python/jupyter-support-py) that resembles notebooks but works with .py files\n",
    "    - The code of the .py file can be separated into Jupyter-like cells\n",
    "    - Output is sent to the interactive terminal\n",
    "    - Since the code is written in a .py file possible [drawbacks](#nb_drawbacks) of notebooks are avoided\n",
    "        - Can use all [features that VS Code provides for .py files](#ide_features)\n",
    "        - Outputs are not tracked by Git"
   ]
  },
  {
   "cell_type": "markdown",
   "id": "b781e35f",
   "metadata": {
    "slideshow": {
     "slide_type": "slide"
    }
   },
   "source": [
    "### How to structure notebooks?"
   ]
  },
  {
   "cell_type": "markdown",
   "id": "9058e000",
   "metadata": {
    "slideshow": {
     "slide_type": "-"
    }
   },
   "source": [
    "- In many cases, it's a good idea to start your data science project with Jupyter notebook to prototype quickly and do some analyses\n",
    "<a id=\"reco\"> </a>\n",
    "- I recommend that you\n",
    "    - Use the [table of contents extension](https://jupyter-contrib-nbextensions.readthedocs.io/en/latest/nbextensions/toc2/README.html) (which is also included by the [jupyter_contrib_nbextensions](https://jupyter-contrib-nbextensions.readthedocs.io/en/latest/install.html) which provides other useful extension)\n",
    "    - Separate your code not only by cells but by creating sections using markdown cells and headings\n",
    "    - Place all imports at the beginning of the notebook (unless the import is only temporary for a non-persistent analysis)\n",
    "    - Place all functions right after the imports\n",
    "    - Do not scatter variables, that determine the output of notebook cells, across many different cells, but place them at the beginning of the notebook, e.g., after the functions\n",
    "    - Only overwrite variables if new content is added to a the underyling object but not removed, e.g., do not drop cells from a dataframe and assign it to the same variable name\n",
    "    - All these steps make your notebook more understable and simplifies the modularization of notebooks cells into functions and modules later on (if required)"
   ]
  },
  {
   "cell_type": "markdown",
   "id": "074e60c3",
   "metadata": {
    "slideshow": {
     "slide_type": "slide"
    }
   },
   "source": [
    "### Exercise\n",
    "1. Move the notebook  \n",
    "[```dsc/lecture_notes/2_setup_python_project/code_structure/0_messy_notebook.ipynb```](./code_structure/0_messy_notebook.ipynb)  \n",
    "to the notebooks folder of your **pyscaffold_test project** that you have created [before](#pyscaffold_test).\n",
    "1. Rename the notebook to ```pyscaffold_test/notebooks/1_[<name>]_structured_notebook.ipynb```,  \n",
    "where ```[<name>]``` is a identifier of your name, e.g, your initials.\n",
    "1. Copy ```dsc/data/dsc.db``` to ```pyscaffold_test/data/raw/dsc.db```.\n",
    "<!-- - Add the folder ```pyscaffold_test/data/output```. -->\n",
    "1. Activate the corresponding environment of the **pyscaffold_test project** and cd into the **pyscaffold_test project**.\n",
    "1. Start a Jupyter notebook server, e.g., by running ```jupyter notebook``` in the terminal. Note that the notebook is running in the environment that is activated.\n",
    "\n",
    "1. Make the resulting notebook ```pyscaffold_test/notebooks/1_[<name>]_structured_notebook.ipynb``` runnable by\n",
    "    1. Adjusting the connection to the database.\n",
    "    1. Writing the output of this notebook to the folder ```pyscaffold_test/models/predictions```.\n",
    "1. Make this notebook more structured by considering the previously mentioned [recommendations](#reco)."
   ]
  },
  {
   "cell_type": "markdown",
   "id": "1c4f9664",
   "metadata": {
    "slideshow": {
     "slide_type": "subslide"
    }
   },
   "source": [
    "Some tips...\n",
    "- You can convert a code cell to a markdown cell in a Jupyter notebook by switching to command code (press esc) and the pressing ```m```\n",
    "- To write a heading in markdown use a hash \\# or multiple hashes in front of the text\n",
    "- After you have installed the [jupyter_contrib_nbextensions](https://jupyter-contrib-nbextensions.readthedocs.io/en/latest/install.html), you have to restart the notebook server so that the GUI is available at the top of the start page of the notebook server (look for Nbextensions and click it and then enable ```Table of Contents (2)```)\n",
    "    - In case the GUI does not appear (Windows?), you can install the extension via the terminal using ```jupyter nbextension enable toc2/main```\n",
    "- The table of contents is only available in the browser, but not in an IDE"
   ]
  },
  {
   "cell_type": "markdown",
   "id": "2656a49e",
   "metadata": {
    "slideshow": {
     "slide_type": "slide"
    }
   },
   "source": [
    "#### Solution\n",
    "- If the project `dsc` and pyscaffold_test are located in the same folder, run ```python3 -m  dsc.setup_python_project.pyscaffold_test``` to obtain a proposal for such a restructured notebook given by ```pyscaffold_test/notebooks/1_fs_structured_notebook.ipynb```. \n",
    "- Otherwise, run ```python3 -m  dsc.setup_python_project.pyscaffold_test [<path>]``` where ```[<path>]``` is the location of pyscaffold_test.\n",
    "- Note that \n",
    "    - The table of contents have been enabled for this notebook, see the first cells for instructions how to enable the table of contents.\n",
    "    - Markdown cells haven been added to the notebook to explain its flow.\n",
    "    - All imports have been placed at the beginning of the notebook in the section Setup/Imports\n",
    "    - All functions have been placed right after the imports in the section Setup/Functions\n",
    "    - Variables that determine the cell outputs are now collected in the section Parameters\n",
    "    - Data processing is done in the section Data\n",
    "    - Data fitting and predicting is perfomred in the section Model\n",
    "- Note that these are only suggestions. It is not a problem if your proposal is different as long as it is structured &#128521;\n",
    "- You don't know if your proposal is structured? Ask me or your fellow students."
   ]
  },
  {
   "cell_type": "markdown",
   "id": "a07f4f95",
   "metadata": {
    "slideshow": {
     "slide_type": "slide"
    }
   },
   "source": [
    "## Modules and Packages\n",
    "- When you notebook further evolves, it makes sense to put (some) variables, functions and classes into a module.\n",
    "- Therefore, let's have a look at Python modules/packages and how to import them."
   ]
  },
  {
   "cell_type": "markdown",
   "id": "6f81bcff",
   "metadata": {
    "slideshow": {
     "slide_type": "slide"
    }
   },
   "source": [
    "### Modules"
   ]
  },
  {
   "cell_type": "markdown",
   "id": "feeb5604",
   "metadata": {
    "slideshow": {
     "slide_type": "-"
    }
   },
   "source": [
    "- Import statements are typically the first thing you see at the top of any Python file.\n",
    "- The ```import [<module|package>]``` statement is used to import other .py files into the current interpreter session, e.g., the following lines import the built-in module sys and the third-party module numpy with the alias np\n",
    "```python\n",
    "    import sys\n",
    "    import numpy as np\n",
    "```\n",
    "- It can be used to re-use code and share it among different files and projects.\n",
    "- Note that a module is cached if it is imported, meaning changes to the module are not reflected in the Python interpreter unless\n",
    "    - You start a new Python session/restart the Jupyter kernel\n",
    "    - Use Jupyters [autoreload](https://ipython.readthedocs.io/en/stable/config/extensions/autoreload.html) magic, click [here](https://www.wrighters.io/using-autoreload-to-speed-up-ipython-and-jupyter-work/) for an illustration\n",
    "    - Reload the module using the built-in importlib.reload\n",
    "- Modules can also be run as script.\n",
    "- Any .py-file is a module.\n",
    "- Several modules can be organized in a package."
   ]
  },
  {
   "cell_type": "markdown",
   "id": "57924d3d",
   "metadata": {
    "slideshow": {
     "slide_type": "slide"
    }
   },
   "source": [
    "- Consider the following content of example.py\n",
    "```python\n",
    "    import sys\n",
    "\n",
    "    a = 1\n",
    "    def fun():\n",
    "        return 2\n",
    "```\n",
    "- [Assuming the module example can be imported](#import_modules), we can access its content as follows\n",
    "    - Import the module and access its attributes via dot notation \n",
    "    ```python\n",
    "    import example\n",
    "    example.sys  # returns the sys module\n",
    "    example.a  # returns 1\n",
    "    example.fun()  # returns 2\n",
    "    ```\n",
    "    - Directly import attributes using a \"from import\"\n",
    "    ```python\n",
    "    from example import sys, a, fun\n",
    "    sys  # returns the sys module\n",
    "    a  # returns 1\n",
    "    fun()  # returns 2\n",
    "    ```"
   ]
  },
  {
   "cell_type": "markdown",
   "id": "120afbb0",
   "metadata": {
    "slideshow": {
     "slide_type": "slide"
    }
   },
   "source": [
    "#### When can a module be imported?\n",
    "<a id=\"import_modules\"></a>"
   ]
  },
  {
   "cell_type": "markdown",
   "id": "fb3befb7",
   "metadata": {
    "slideshow": {
     "slide_type": "-"
    }
   },
   "source": [
    "- Every .py-script is a Python module and can be imported provided it is **accessible via sys.path**.\n",
    "- The following modules can always be imported\n",
    "    - **Built-in** modules because pythonX.YY is always on sys.path.\n",
    "    - **Pip- or conda-installed modules** because site-packages is always on sys.path.\n",
    "    - Moreover, packages that have been pip-installed in **editable mode** appear on sys.path.\n",
    "- Depending on how you invoke Python, (non-built-in or non-installed) modules might be accessible via sys.path or not."
   ]
  },
  {
   "cell_type": "markdown",
   "id": "499cb228",
   "metadata": {
    "slideshow": {
     "slide_type": "slide"
    }
   },
   "source": [
    "- If you start an **interactive Python session** using ```python3``` (or import a module during an interactive Python session) then \n",
    "    - The working directory from which the session has been started or (the module is imported) is added to sys.path\n",
    "    - ```''``` appears on sys.path, implying that modules inside the current working directory (accessible via os.getcwd()) can be imported\n",
    "- Note that an interactive Python session is started when you start a Jupyter notebook or run ```jupyter console```"
   ]
  },
  {
   "cell_type": "code",
   "execution_count": 3,
   "id": "20571430",
   "metadata": {
    "slideshow": {
     "slide_type": "-"
    }
   },
   "outputs": [
    {
     "name": "stdout",
     "output_type": "stream",
     "text": [
      " > Excluding folders which are always present on sys.path, the remaining entries of sys.path are\n",
      "  - /home/spa0001f/github/teach/dsc/lecture_notes/2_setup_python_project\n",
      "  - \n",
      "> Note that an empty entry of sys.path corresponds to the corresponding working directory\n",
      "  /home/spa0001f/github/teach/dsc/lecture_notes/2_setup_python_project\n"
     ]
    }
   ],
   "source": [
    "sys_info();  # information about sys.path of this interactive Python session"
   ]
  },
  {
   "cell_type": "markdown",
   "id": "94955747",
   "metadata": {
    "slideshow": {
     "slide_type": "slide"
    }
   },
   "source": [
    " <a id=\"sys_path_run\"></a>\n",
    " - If you **run a Python program** the directory in which the program is located is put on sys.path"
   ]
  },
  {
   "cell_type": "code",
   "execution_count": 4,
   "id": "0a39802b",
   "metadata": {
    "slideshow": {
     "slide_type": "-"
    }
   },
   "outputs": [
    {
     "name": "stdout",
     "output_type": "stream",
     "text": [
      "> This file has been run as a Python program.\r\n",
      " > Excluding folders which are always present on sys.path, the remaining entries of sys.path are\r\n",
      "  - /home/spa0001f/github/teach/dsc/src/dsc/setup_python_project\r\n"
     ]
    }
   ],
   "source": [
    "!cd ../.. && python3 src/dsc/setup_python_project/sys_path.py  # information about sys.path when a program is run"
   ]
  },
  {
   "cell_type": "markdown",
   "id": "aa010f76",
   "metadata": {
    "slideshow": {
     "slide_type": "fragment"
    }
   },
   "source": [
    "- If you **run a Python module as a script** using the ```m``` flag the directory from which the programm is called is put on sys.path (in this case the directory of this notebook)"
   ]
  },
  {
   "cell_type": "code",
   "execution_count": 5,
   "id": "9bd2823c",
   "metadata": {
    "slideshow": {
     "slide_type": "-"
    }
   },
   "outputs": [
    {
     "name": "stdout",
     "output_type": "stream",
     "text": [
      "> This file has been run as a Python program.\r\n",
      " > Excluding folders which are always present on sys.path, the remaining entries of sys.path are\r\n",
      "  - /home/spa0001f/github/teach/dsc\r\n"
     ]
    }
   ],
   "source": [
    "!cd ../.. && python3 -m dsc.setup_python_project.sys_path  # information about sys.path when a module is run as a script"
   ]
  },
  {
   "cell_type": "markdown",
   "id": "50598b66",
   "metadata": {
    "slideshow": {
     "slide_type": "slide"
    }
   },
   "source": [
    "- If you invoke Python with the ```c``` flag (e.g., ```python3 -c \"import sys; print(sys.path)\"```) then ```''``` is added to sys.path.\n",
    "- If you cannot import a module because it is not on sys.path, you can append its corresponding folder to sys.path, e.g.,\n",
    "```python\n",
    "    import sys\n",
    "\n",
    "    sys.path.append(\"path_of_new_folder\")  # add path_of_new_folder to sys.path\n",
    "```\n",
    "- Alternatively, you can change the working directory if it is on sys.path, e.g., \n",
    "```python\n",
    "    import os\n",
    "\n",
    "    os.setcwd(\"..\")  # set working directory to previous parent directory\n",
    "```\n",
    "- However, this is more like a quick fix and not robust (moving files breaks imports).\n",
    "- It is better to pip-install the package in editable mode (see [later](#editable)).\n"
   ]
  },
  {
   "cell_type": "markdown",
   "id": "9061789b",
   "metadata": {
    "slideshow": {
     "slide_type": "slide"
    }
   },
   "source": [
    "### Exercise"
   ]
  },
  {
   "cell_type": "markdown",
   "id": "48fba6cb",
   "metadata": {
    "slideshow": {
     "slide_type": "-"
    }
   },
   "source": [
    "1. Cd into your pyscaffold_test project that you have created [before](#pyscaffold_test).\n",
    "1. Make a copy of  \n",
    "```pyscaffold_test/notebooks/1_[<name>]_structured_notebook.ipynb``` \n",
    "and rename it to  \n",
    "```pyscaffold_test/notebooks/2_[<name>]_structured_notebook_with_module.ipynb```, where ```[<name>]``` is a identifier of your name.\n",
    "1. Think about what cells could be summarized (and possibly generalized) into functions that could be put into a module.\n",
    "1. Create the companion module  \n",
    "```pyscaffold_test/notebooks/companion_module.py```  \n",
    "and use it in  \n",
    "```pyscaffold_test/notebooks/2_[<name>]_structured_notebook_with_module.ipynb``` \n",
    "accordingly."
   ]
  },
  {
   "cell_type": "markdown",
   "id": "1907616c",
   "metadata": {
    "slideshow": {
     "slide_type": "slide"
    }
   },
   "source": [
    "#### Solution\n",
    "- Run ```python3 -m  dsc.setup_python_project.pyscaffold_test``` to obtain a proposal for such a restructured notebook and the companion module located in  \n",
    "```pyscaffold_test/notebooks/fs_companion_module.py``` and  \n",
    "```pyscaffold_test/notebooks/2_fs_structured_notebook_with_module.ipynb```\n",
    "- Note that\n",
    "    - The content of section Setup/Functions has been transferred to the companion module which is imported in the section Setup/Imports\n",
    "    - In addition,\n",
    "        - Operations that load or change the data have all been put into the companion module\n",
    "        - Plotting functions have been put into the companion module\n"
   ]
  },
  {
   "cell_type": "markdown",
   "id": "308ee545",
   "metadata": {
    "slideshow": {
     "slide_type": "slide"
    }
   },
   "source": [
    "## Packages\n",
    "- A package is a directory that contains multiple modules (or subpackages) and helps to organize them.\n",
    "- For data science projects, it might be useful to use separate your package into the following modules\n",
    "    - data\n",
    "    - features\n",
    "    - splits\n",
    "    - models\n",
    "    - visualization\n",
    "    - ..."
   ]
  },
  {
   "cell_type": "markdown",
   "id": "cf0a8703",
   "metadata": {
    "slideshow": {
     "slide_type": "slide"
    }
   },
   "source": [
    "### Structure\n",
    "- A **regular** package is a folder that contains a file named ```__init__.py``` and modules or (sub)packages, e.g.,\n",
    "```python\n",
    "my_package/\n",
    "        __init__.py\n",
    "        module_a.py\n",
    "        sub_package/\n",
    "                __init__.py\n",
    "                module_b.py\n",
    "                module_c.py\n",
    "                sub_sub_package/\n",
    "                        __init__.py\n",
    "                        module.d\n",
    "```\n",
    "- If you import a package, ```__init__.py``` is executed. This file can be empty. Each subpackage should have a ```__init__.py```.\n",
    "- With this package structure (and provided the package is importable):\n",
    "    - ```from my_package import module_a``` imports module_a\n",
    "    - ```from my_package.sub_package.sub_sub_package import module_d``` imports module_d\n",
    "    - ```from my_package.sub_package.module_b import attr``` imports the attribute attr from module_b"
   ]
  },
  {
   "cell_type": "markdown",
   "id": "382b03c3",
   "metadata": {
    "slideshow": {
     "slide_type": "slide"
    }
   },
   "source": [
    "### Pip-install a package in editable mode\n",
    "<a id=\"editable\"></a>"
   ]
  },
  {
   "cell_type": "markdown",
   "id": "d3d7ab30",
   "metadata": {
    "slideshow": {
     "slide_type": "-"
    }
   },
   "source": [
    "- To make a package importable, its parent directory must be located on sys.path.\n",
    "- If you put your package in the directory of the notebook (or script) on which you are working on, the package can be imported.\n",
    "- However, a single directory containing all notebooks and packages/modules becomes messy when your project evolves.\n",
    "- Restructuring you notebooks and modules requires adjusting sys.path or the working directory manually each time, which is not a good idea.\n",
    "- Therefore, I recommend to pip-install your package in **editable mode** so that it can always be imported within the corresponding activated environment.\n",
    "- If a project has been set up by PyScaffold, you can pip-install a package in editable mode using ```pip install -e [path]``` where path is the root folder of your project.\n",
    "- Note\n",
    "    - A package that is installed in editable mode is not put into the site-packages directory but directly on sys.path.\n",
    "    - There are some requirements to be satisfied so that you can pip-install a package, PyScaffold takes care of this.\n",
    "    - In an **environment.yml** you can specify that a package should be pip-installed in editable mode (e.g., see the environment.yml of the `dsc` project) when the conda environment is created"
   ]
  },
  {
   "cell_type": "markdown",
   "id": "309a589e",
   "metadata": {
    "slideshow": {
     "slide_type": "slide"
    }
   },
   "source": [
    "### Exercise"
   ]
  },
  {
   "cell_type": "markdown",
   "id": "a817ecac",
   "metadata": {
    "slideshow": {
     "slide_type": "-"
    }
   },
   "source": [
    "1. Cd into your pyscaffold_test project that you have created [before](#pyscaffold_test) and activate the corresponding environment.\n",
    "1. Make a package out of your ```pyscaffold_test/notebooks/companion_module.py```\n",
    "    1. Put all data-related functionality of this module into the file  \n",
    "    ```pyscaffold_test/src/pyscaffold_test/data.py```\n",
    "    1. Put all model-related functionality of this module into the file  \n",
    "    ```pyscaffold_test/src/pyscaffold_test/model.py```\n",
    "    1. Put all plot-related functionality of this module into the file  \n",
    "    ```pyscaffold_test/src/pyscaffold_test/plot.py```\n",
    "    1. Pip install the resulting package in editable mode\n",
    "1. Make a copy of  \n",
    "```pyscaffold_test/notebooks/2_[<name>]_structured_notebook_with_module.ipynb```,    \n",
    "rename it to  \n",
    "```pyscaffold_test/notebooks/3_[<name>]_structured_notebook_with_package.ipynb```,  \n",
    "where ```[<name>]``` is a identifier of your name,   \n",
    "and import the package accordingly.\n",
    "1. Save a copy of both notebooks in the root directory of pyscaffold_test.\n",
    "1. Execute the first code cell in which modules are imported. What do you observe?"
   ]
  },
  {
   "cell_type": "markdown",
   "id": "7e0769f6",
   "metadata": {
    "slideshow": {
     "slide_type": "slide"
    }
   },
   "source": [
    "#### Solution\n",
    "- Run ```python3 -m  dsc.setup_python_project.pyscaffold_test``` to obtain a proposal for such a package and the first notebook located at\n",
    "    - ```pyscaffold_test/src/pyscaffold_test_fs``` (if this package cannot be imported, run ```pip install -e .``` again)\n",
    "    - ```pyscaffold_test/notebooks/3_fs_structured_notebook_with_package.ipynb```\n",
    "- Note that the only difference between 3_fs_structured_notebook_with_package.ipynb and 2_fs_structured_notebook_with_module.ipynb is the first code cell where imports from the the companion module\n",
    "are replaced by imports from the pyscaffold_test package.\n",
    "- ```pyscaffold_test/2_fs_structured_notebook_with_module.ipynb``` does not run because the companion module is not on sys.path anymore (the working directory is ```pyscaffold_test```, but the module is located in the folder ```pyscaffold_test/notebooks```)\n",
    "- ```pyscaffold_test/3_fs_structured_notebook_with_package.ipynb``` runs everywhere because psyscaffold_test_fs is in a directory which has been pip-installed in editable mode (assuming the environment in which it has been installed is activated)"
   ]
  },
  {
   "cell_type": "markdown",
   "id": "6e7b7a09",
   "metadata": {
    "slideshow": {
     "slide_type": "slide"
    }
   },
   "source": [
    "## Scripts"
   ]
  },
  {
   "cell_type": "markdown",
   "id": "c9fcae62",
   "metadata": {
    "slideshow": {
     "slide_type": "-"
    }
   },
   "source": [
    "- A script is a Python file that should be run directly by using ```python3 [<script>]```, where ```[<script>]``` is the path of the script.\n",
    "- You should separate different steps of your project (e.g., training, prediction) into several scripts\n",
    "- For handing over your project code it is required that you provide\n",
    "    - A script for training a model that can be called from the command line which\n",
    "        - Loads a specified dataset\n",
    "        - Transforms the data and engineers the features\n",
    "        - Trains a model\n",
    "        - Stores the trained model (e.g., using MlFlow)\n",
    "    - A script for predicting data that can be called from the command line which\n",
    "        - Loads a trained model (e.g., using MlFLow)\n",
    "        - Predicts data on the basis of the specified dataset\n",
    "        - Stores the predicted data\n",
    "\n"
   ]
  },
  {
   "cell_type": "markdown",
   "id": "8c82ceaf",
   "metadata": {
    "slideshow": {
     "slide_type": "slide"
    }
   },
   "source": [
    "- Scripts should be run from the **project root**. \n",
    "    - In this case, the working directory of the executed script is the project root. \n",
    "    - The location of the script is available via sys.path if you run the script via ```python3 [<script>]```.\n",
    "- If you run a script from a different directory it probably won't complete.\n",
    "- In general, scripts that are specific to your project should not be put into a package but in the ```scripts``` folder.\n",
    "- Cookiecutter recommends that models and their predictions should be stored in ```models``` and we will do so in this chapter.\n",
    "    - Personally, I would store models and their predictions in ```data```.\n",
    "- There are two challenges that you have to adress when you split a notebook (or script) into separate scripts\n",
    "    - How to transfer data from one script to another?\n",
    "    - How to execute scripts in a specific order?\n",
    "    - How to write the command line interface?\n"
   ]
  },
  {
   "cell_type": "markdown",
   "id": "962583c1",
   "metadata": {
    "slideshow": {
     "slide_type": "slide"
    }
   },
   "source": [
    "### Orchestration\n",
    "- In order to transfer data from one program to another you need to load and store data. For this,\n",
    "    - You can write your own functions\n",
    "    - Use tools (e.g. Mlflow)\n",
    "- Moreover, if your pipeline gets more complicated and consists of several scripts that must be run in a specific order it is useful to use tools that orchestrate this workflow.\n",
    "- There are a lot of tools to manage workflows\n",
    "    - Make\n",
    "    - Airflow\n",
    "    - AWS step functions\n",
    "    - Metaflow\n",
    "    - ...\n",
    "- For this course, it is sufficient to run your scripts manually from the command line."
   ]
  },
  {
   "cell_type": "markdown",
   "id": "30ea2c79",
   "metadata": {
    "slideshow": {
     "slide_type": "slide"
    }
   },
   "source": [
    "### Comand line interface\n",
    "- The **command line interface** determines how the user interacts with a script and determines its output.\n",
    "- For instance, the unix command ```ls -a ~``` passes the flag ```a``` and the path of the home directory ```~``` to list directories and files of the home directory, including hidden objects.\n",
    "- There are several tools available in Python to simplify the writing of command line interfaces.\n",
    "    - [argparse](https://docs.python.org/3/library/argparse.html) (built-in): Gets the job done but pretty verbose and rather akward to use\n",
    "    - [click](https://click.palletsprojects.com/en/8.1.x/) (not maintained): Uses decorators for parsing command-line arguments\n",
    "    - [docopt](https://github.com/docopt/docopt) (not maintained): Implemented in several languages. Parses docstrings to parse command-line arguments\n",
    "    - [clize](https://clize.readthedocs.io/en/stable/index.html): Turns functions into command-line interfaces\n",
    "- For very simple programs, you can also just use ```sys.argv``` as it is done for the `dsc` package."
   ]
  },
  {
   "cell_type": "markdown",
   "id": "a21da416",
   "metadata": {
    "slideshow": {
     "slide_type": "slide"
    }
   },
   "source": [
    "- To simplify the interaction with a script one can use configuration files\n",
    "- For instance, instead of running\n",
    "```\n",
    "python3 fit.py \\\n",
    "  --path2db=\"data/raw/data.db\" \\\n",
    "  --sql_query=\"SELECT * from broadcast\" \\\n",
    "  --storage_interim=\"data/interim/data_interim.csv\" \\\n",
    "  --model=\"xgboost\"\n",
    "```\n",
    "you could proceed as follows\n",
    "- In the same directory as fit.py, create cfg.py with the following content\n",
    "```python3\n",
    "path2db = \"data/raw/data.db\"\n",
    "sql_query = \"SELECT * from broadcast\"\n",
    "storage_interim = \"data/interim/data_interim.csv\"\n",
    "model = \"xgboost\"\n",
    "```\n",
    "  and import the module cfg into fit.py and use its attributes correspondingly in fit.py\n",
    "- You can then run the program using only ```python3 fit.py```\n",
    "- Edit cfg.py if you want to use a different configuration (or pass a different configuration file)\n",
    "- You can also pass some arguments to a program via the command line and the rest via a configuration file"
   ]
  },
  {
   "cell_type": "markdown",
   "id": "5f26cd45",
   "metadata": {
    "slideshow": {
     "slide_type": "slide"
    }
   },
   "source": [
    "### Running a module as a script\n",
    "- You can run a module \n",
    "    1. As a normal Python script, e.g., ```python3 module_path```, where module_path is the path to a module, e.g., ```src/dsc/version_control/exercise_dvc.py```\n",
    "    2. **As a script** using its name by invoking the ```m``` flag, e.g., ```python3 -m module_name```, where module_name is the name of a module that is always located on sys.path, e.g., ```dsc.version_control/exercise_dvc```\n",
    "- Note that the sys.path of the program that is executed by 1. is [different](#sys_path_run) from a program executed by 2.!\n",
    "- However, in both cases the value of the Python variable ```__name__```  of the program is ```__main__```\n",
    "- If a module is imported by another program, the value of  ```__name__``` is the module's name\n",
    "- One can use this fact to execute some code only when the module is run as a program as the following example demonstrates"
   ]
  },
  {
   "cell_type": "markdown",
   "id": "1a2ae3aa",
   "metadata": {
    "slideshow": {
     "slide_type": "slide"
    }
   },
   "source": [
    "- Consider the following content of\n",
    "    - module_a.py\n",
    "```python\n",
    "    print(\"Hello from module a.\")  \n",
    "    \n",
    "    if __name__ == '__main__':\n",
    "        print(\"I am the main program.)\n",
    "    else:\n",
    "        print(\"I have been imported by another program.)\n",
    "```\n",
    "    - module_b.py\n",
    "```python\n",
    "    import module_a\n",
    "``` \n",
    "- Running ```python3 module_a.py``` or ```python3 -m module``` returns \"Hello from module a. I am the main program\"\n",
    "- Running ```python3 module_b.py``` returns \"Hello from module a. I have been imported by another program\""
   ]
  },
  {
   "cell_type": "markdown",
   "id": "c52e3c0a",
   "metadata": {
    "slideshow": {
     "slide_type": "slide"
    }
   },
   "source": [
    "### Running a package as a script\n",
    "- Recall that a package is just a folder containing an ```__init__.py``` file.\n",
    "- If you run a package, its ```__main__.py``` is executed (if available)."
   ]
  },
  {
   "cell_type": "markdown",
   "id": "fce28c5b",
   "metadata": {
    "slideshow": {
     "slide_type": "slide"
    }
   },
   "source": [
    "### Exercise\n",
    "- Make scripts of ```pyscaffold_test/notebooks/3_[<name>]_structured_notebook_with_package.ipynb```\n",
    "    - Create **```pyscaffold_test/scripts/cfg.py```** where you put your configuration that is imported in the following scripts.\n",
    "    - Create **```pyscaffold_test/scripts/fit.py```** to reproduce the part of ```pyscaffold_test/notebooks/3_[<name>]_structured_notebook_with_package.ipynb``` until a model has been fitted\n",
    "    - Also, update the pyscaffold_test package so that this script uses it along with the configuration to\n",
    "        - Store the *transformed dataframe* (after the column month has been added) as ```pyscaffold_test/data/interim/data_transformed.csv```\n",
    "        - Store *agg_df* as ```pyscaffold_test/data/processed/target_feature.csv```\n",
    "        - Store the *fitted model* as ```pyscaffold_test/model/models/model.pkl```\n",
    "    - Create **```pyscaffold_test/scripts/predict.py```** which reproduces the prediction of ```pyscaffold_test/notebooks/3_[<name>]_structured_notebook_with_package.ipynb```. For this purpose, use the configuration and an updated ```pyscaffold_test``` package to\n",
    "        - Load the *feature* from ```pyscaffold_test/data/processed/target_feature.csv```\n",
    "        - Load the *fitted model* from ```pyscaffold_test/model/models/model.pkl```\n",
    "        - Store the *predictions* in ```pyscaffold_test/model/predictions/prediction.csv```\n",
    "        \n",
    "- Note: To [debug](https://www.codementor.io/@stevek/advanced-python-debugging-with-pdb-g56gvmpfa) your script you can run ```python3 -m pdb [<script>]``` in the terminal or use your IDE"
   ]
  },
  {
   "cell_type": "markdown",
   "id": "5d179571",
   "metadata": {
    "slideshow": {
     "slide_type": "slide"
    }
   },
   "source": [
    "#### Solution\n",
    "- Run ```python3 -m  dsc.setup_python_project.pyscaffold_test``` to obtain a proposal for the scripts and the update package\n",
    "located at\n",
    "    - ```pyscaffold_test/src/fs_pyscaffold_test```\n",
    "    - ```pyscaffold_test/scripts_fs/cfg.py```\n",
    "    - ```pyscaffold_test/scripts_fs/fit.py```\n",
    "    - ```pyscaffold_test/scripts_fs/predict.py```\n",
    "- The scripts can then be run using\n",
    "    - ```python3 scripts_fs/fit.py```\n",
    "    - ```python3 scripts_fs/predict.py```\n",
    "- Moreover, you can get help for each script using the flag ```h```, e.g.,  ```python3 scripts_fs/fit.py -h```\n",
    "- Note that the solution gets the job done and is totally fine for this course but for more complex applications you might need more abstractions."
   ]
  },
  {
   "cell_type": "markdown",
   "id": "44044d60",
   "metadata": {
    "slideshow": {
     "slide_type": "slide"
    }
   },
   "source": [
    "## Reports, Dashboard and Apps\n",
    "- It is not unlikely, that your work is not done with the prediction, but you also have to report these predictions, build a dashboard, or provide an app with which (non-technical) stakeholders can interact and extract information.\n",
    "- There are a lot of tools that you can use to generate nice looking reports or dashboards\n",
    "    - Jupyter notebooks (in combination with [interactive browser controls](https://ipywidgets.readthedocs.io/en/stable/]) and [binder](https://jupyter.org/binder))\n",
    "    - [Quatro](https://quarto.org/): Scientific and technical publishing system for Python, R, and Julia.\n",
    "    - [Voila](https://github.com/voila-dashboards/voila): Turns Jupyter notebooks into standalone web applications.\n",
    "    - [Streamlit](https://streamlit.io/): Turns data scripts into shareable web apps in minutes.\n",
    "    - [Shiny](https://shiny.rstudio.com/): Build interactive web apps straight from R.\n",
    "    - [Plotly Dash](https://dash.plotly.com/): Low-code framework for rapidly building data apps in Python, R, and Julia.\n",
    "- If you want to build your own solution from the ground up then [Flask](https://flask.palletsprojects.com/en/2.2.x/), [Django](https://www.djangoproject.com/), or [FastAPI](https://fastapi.tiangolo.com/) might be helpful."
   ]
  },
  {
   "cell_type": "markdown",
   "id": "23497f0d",
   "metadata": {
    "slideshow": {
     "slide_type": "slide"
    }
   },
   "source": [
    "- It is not required that you include a report or dashboard in your code submission.\n",
    "- However, submitting functionality for creating a report or dashboard gets you some bonus points.\n",
    "- Running the script ```pyscaffold_test/scripts_fs/report.py``` creates a very simple Jupyter notebook report located at ```pyscaffold_test/reports/prediction.ipynb```\n"
   ]
  },
  {
   "cell_type": "markdown",
   "id": "1debf9fb",
   "metadata": {
    "slideshow": {
     "slide_type": "slide"
    }
   },
   "source": [
    "# Summary"
   ]
  },
  {
   "cell_type": "markdown",
   "id": "7c03181a",
   "metadata": {
    "slideshow": {
     "slide_type": "-"
    }
   },
   "source": [
    "- In this chapter we discussed how to setup your Python project\n",
    "- Your Python project is determined by its folder structure, the virtual environment, and the corresponding Git repo\n",
    "- To obtain a sound folder structure and simplify the development of your code you can use the PyScaffold DS extension\n",
    "- You should start prototyping in a Jupyter notebook and then modularize your code into modules or a package when the project gets too complex or/and you are sure what features you need.\n",
    "- Pip-installing your package in editable mode greatly simplifies your working process because you don't have to worry about getting your own modules imported\n",
    "- The final product of your work should be accessible via scripts that can be run from the command line to execute different tasks"
   ]
  },
  {
   "cell_type": "markdown",
   "id": "acf29862",
   "metadata": {
    "slideshow": {
     "slide_type": "slide"
    }
   },
   "source": [
    "# Questions regarding the next topic (Good code)"
   ]
  },
  {
   "cell_type": "markdown",
   "id": "62595eda",
   "metadata": {
    "slideshow": {
     "slide_type": "-"
    }
   },
   "source": [
    "Click [here](https://partici.fi/49867347), or scan the QR code below, to answer the questions about setting up your Python project.\n",
    "<div align=\"center\">\n",
    "<img src=\"./figures/p_3.png\" alt=\"drawing\" width=\"1200\"/>\n",
    "</div>\n",
    "<div align=\"left\">\n",
    "<div/>"
   ]
  }
 ],
 "metadata": {
  "celltoolbar": "Slideshow",
  "jupytext": {
   "comment_magics": false
  },
  "kernelspec": {
   "display_name": "Python [conda env:dsc] *",
   "language": "python",
   "name": "conda-env-dsc-py"
  },
  "language_info": {
   "codemirror_mode": {
    "name": "ipython",
    "version": 3
   },
   "file_extension": ".py",
   "mimetype": "text/x-python",
   "name": "python",
   "nbconvert_exporter": "python",
   "pygments_lexer": "ipython3",
   "version": "3.10.8"
  },
  "toc": {
   "base_numbering": 1,
   "nav_menu": {},
   "number_sections": true,
   "sideBar": true,
   "skip_h1_title": false,
   "title_cell": "Table of Contents",
   "title_sidebar": "Contents",
   "toc_cell": false,
   "toc_position": {
    "height": "calc(100% - 180px)",
    "left": "10px",
    "top": "150px",
    "width": "384px"
   },
   "toc_section_display": true,
   "toc_window_display": true
  }
 },
 "nbformat": 4,
 "nbformat_minor": 5
}
