{
 "cells": [
  {
   "cell_type": "code",
   "execution_count": 1,
   "id": "62df3ae9",
   "metadata": {
    "slideshow": {
     "slide_type": "notes"
    }
   },
   "outputs": [
    {
     "name": "stdout",
     "output_type": "stream",
     "text": [
      "> This file (/home/spa0001f/github/teach/dsc/src/dsc/setup_python_project/sys_path.py) has been imported as a module.\n",
      "> Excluding folders which are always present on sys.path, the remaining entries of sys.path are\n",
      "  - /home/spa0001f/github/teach/dsc/lecture_notes/2_setup_python_project\n",
      "  - \n",
      "> Note that an empty entry of sys.path corresponds to the corresponding working directory\n",
      "  /home/spa0001f/github/teach/dsc/lecture_notes/2_setup_python_project\n"
     ]
    }
   ],
   "source": [
    "from dsc.notebook import embed_website\n",
    "from dsc.setup_python_project.sys_path import SysInfo\n",
    "sys_info = SysInfo()"
   ]
  },
  {
   "cell_type": "markdown",
   "id": "6b07bf5e",
   "metadata": {
    "slideshow": {
     "slide_type": "slide"
    }
   },
   "source": [
    "# Agenda\n",
    "- In this chapter we discuss how to setup your Python project after you have created a Git repo and a virtual environment\n",
    "- In particular, we will use [PyScaffold](https://github.com/pyscaffold) in combination with the [datascience template](https://github.com/drivendata/cookiecutter-data-science/) of [Cookiecutter](https://www.cookiecutter.io/) so that\n",
    "    - Obtain a sound folder structure for your project so that you know where to put\n",
    "        - Data\n",
    "        - Notebooks\n",
    "        - Modules\n",
    "        - Reports\n",
    "        - ...  \n",
    "    - You can easily pip-install your project package in editable mode\n",
    "- We talk about how you can rapidly develop prototypes and conduct analyses in Jupyter notebooks and when you should modularize your code into modules or a package."
   ]
  },
  {
   "cell_type": "markdown",
   "id": "1390f40d",
   "metadata": {
    "slideshow": {
     "slide_type": "slide"
    }
   },
   "source": [
    "# Using PyScaffold for setting up your Python project"
   ]
  },
  {
   "cell_type": "markdown",
   "id": "b0b62fbb",
   "metadata": {
    "slideshow": {
     "slide_type": "slide"
    }
   },
   "source": [
    "## What is PyScaffold?\n",
    "<!-- A Scaffold is a project template a.k.a. bootstrap, boilerplate or skeleton  -->\n",
    "From the [website](https://pyscaffold.org/en/stable/):\n",
    "\n",
    "- PyScaffold is a **project generator** for bootstrapping high-quality Python packages, ready to be shared on PyPI and installable via pip. \n",
    "- PyScaffold incentives its users to use the **best tools and practices** available in the Python ecosystem.\n",
    "\n",
    "    - A generated project will contain **sane default configurations** for \n",
    "        - Setuptools (the de facto standard for building Python packages)\n",
    "        - Sphinx (the one & only Python documentation tool)\n",
    "        - Pytest and tox (most commonly used Python testing framework & task runner)\n",
    "    -  PyScaffold can also bring **pre-commit** into the mix to run a set of prolific linters and automatic formatters in each commit in order to adhere to common coding standards like pep8 and black."
   ]
  },
  {
   "cell_type": "markdown",
   "id": "4b7e6d72",
   "metadata": {
    "slideshow": {
     "slide_type": "fragment"
    }
   },
   "source": [
    "\"Using PyScaffold is like having a Python Packaging Guru, who has spent a lot of time researching how to create the best project setups, as a friend that is helping you with your project.\" &#128515;"
   ]
  },
  {
   "cell_type": "markdown",
   "id": "4db7707e",
   "metadata": {
    "slideshow": {
     "slide_type": "slide"
    }
   },
   "source": [
    "- Moreover, there is a [PyScaffold extension tailored for Data Science projects](https://github.com/pyscaffold/pyscaffoldext-dsproject) \t&#128522;\n",
    "- This extension creates a folder structure that is inspired by [cookiecutter-data-science](https://github.com/drivendata/cookiecutter-data-science). \n",
    "- In contrast to cookiecutter-data-science alone it\n",
    "    1. Advocates a proper Python package structure that can be shipped and distributed.\n",
    "    2. Uses a conda environment instead of something virtualenv-based and is thus more suitable for data science projects.\n",
    "    3. More default configurations for Sphinx, pytest, pre-commit, etc. to foster clean coding and best practice.\n",
    "\n",
    "<!-- Cookiecutter is a tool that allows the definition of templates \n",
    "for a broad range of software projects. On the other hand, PyScaffold focus is on developing distributable Python packages (exclusively) in a simple way\n",
    "-->"
   ]
  },
  {
   "cell_type": "markdown",
   "id": "8bc93f03",
   "metadata": {
    "slideshow": {
     "slide_type": "slide"
    }
   },
   "source": [
    "- In this course, we will only use a subset of the features that the standard PyScaffold (DataScience) provides:\n",
    "    - A sound folder structure\n",
    "    - Using it to easily install the project package in editable mode\n",
    "    - Settinp up documentation (will be discussed when we talk about good code)\n",
    "    - Setting up pre-commit hooks (will be discussed when we talk about collaboration)"
   ]
  },
  {
   "cell_type": "markdown",
   "id": "34b1ef3e",
   "metadata": {
    "slideshow": {
     "slide_type": "slide"
    }
   },
   "source": [
    "## Installing PyScaffold and creating a project with PyScaffold\n",
    "<a id=\"pyscaffold_test\"></a>"
   ]
  },
  {
   "cell_type": "markdown",
   "id": "8ec67c98",
   "metadata": {
    "slideshow": {
     "slide_type": "-"
    }
   },
   "source": [
    "- Cd into a location that is not a git repo (e.g., the parent folder of this project).\n",
    "- Run ```conda create -n pyscaffold -c conda-forge pyscaffoldext-dsproject pandas```.\n",
    "- Activate the pyscaffold_test environment.\n",
    "- Run ```putup --dsproject --no-tox pyscaffold_test``` to create a directory called pyscaffold_test which is set up by PyScaffold."
   ]
  },
  {
   "cell_type": "markdown",
   "id": "75ba3f06",
   "metadata": {
    "slideshow": {
     "slide_type": "slide"
    }
   },
   "source": [
    "The resulting folder structure should look like this\n",
    "\n",
    "```\n",
    "├── AUTHORS.md              <- List of developers and maintainers.\n",
    "├── CHANGELOG.md            <- Changelog to keep track of new features and fixes.\n",
    "├── CONTRIBUTING.md         <- Guidelines for contributing to this project.\n",
    "├── Dockerfile              <- Build a docker container with `docker build .`.\n",
    "├── LICENSE.txt             <- License as chosen on the command-line.\n",
    "├── README.md               <- The top-level README for developers.\n",
    "├── configs                 <- Directory for configurations of model & application.\n",
    "├── data\n",
    "│   ├── external            <- Data from third party sources.\n",
    "│   ├── interim             <- Intermediate data that has been transformed.\n",
    "│   ├── processed           <- The final, canonical data sets for modeling.\n",
    "│   └── raw                 <- The original, immutable data dump.\n",
    "├── docs                    <- Directory for Sphinx documentation in rst or md.\n",
    "├── environment.yml         <- The conda environment file for reproducibility.\n",
    "├── models                  <- Trained and serialized models, model predictions,\n",
    "│                              or model summaries.\n",
    "├── notebooks               <- Jupyter notebooks. Naming convention is a number (for\n",
    "│                              ordering), the creator's initials and a description,\n",
    "│                              e.g. `1.0-fw-initial-data-exploration`.\n",
    "├── pyproject.toml          <- Build configuration. Don't change! Use `pip install -e .`\n",
    "│                              to install for development or to build `tox -e build`.\n",
    "├── references              <- Data dictionaries, manuals, and all other materials.\n",
    "├── reports                 <- Generated analysis as HTML, PDF, LaTeX, etc.\n",
    "│   └── figures             <- Generated plots and figures for reports.\n",
    "├── scripts                 <- Analysis and production scripts which import the\n",
    "│                              actual PYTHON_PKG, e.g. train_model.\n",
    "├── setup.cfg               <- Declarative configuration of your project.\n",
    "├── setup.py                <- [DEPRECATED] Use `python setup.py develop` to install for\n",
    "│                              development or `python setup.py bdist_wheel` to build.\n",
    "├── src\n",
    "│   └── PYTHON_PKG          <- Actual Python package where the main functionality goes.\n",
    "├── tests                   <- Unit tests which can be run with `pytest`.\n",
    "├── .coveragerc             <- Configuration for coverage reports of unit tests.\n",
    "├── .isort.cfg              <- Configuration for git hook that sorts imports.\n",
    "└── .pre-commit-config.yaml <- Configuration of pre-commit git hooks.\n",
    "```"
   ]
  },
  {
   "cell_type": "markdown",
   "id": "e53a742c",
   "metadata": {
    "slideshow": {
     "slide_type": "slide"
    }
   },
   "source": [
    "- Note that PyScaffold automatically turns pyscaffold_test into a git repo (please rename the initial branch).\n",
    "- The folders data, models, references, reports/figures are ignored by Git\n",
    "- Some folder also contain templates that you can investigate\n",
    "- You should also edit the environment.yml and files in uppercase letters, i.e.,README.md, AUTHORS.md, CONTRIBUTING.md, and LICENSE.txt\n",
    "- All configuration is done in setup.cfg"
   ]
  },
  {
   "cell_type": "markdown",
   "id": "e5b6e61a",
   "metadata": {
    "slideshow": {
     "slide_type": "slide"
    }
   },
   "source": [
    "Why is it important to use a tool like PyScaffold that setups a common folder structure that everybody use?"
   ]
  },
  {
   "cell_type": "markdown",
   "id": "08e771c5",
   "metadata": {
    "slideshow": {
     "slide_type": "fragment"
    },
    "tags": [
     "solution"
    ]
   },
   "source": [
    "- Starting a project without a template is cumbersome\n",
    "    - Everyone thinks differently and has their own idea of how files and folders should be organized.\n",
    "    - If you collaborate with others you have to make an agreement about how the project should look like.\n",
    "    - Still, it is possible that your project folder becomes a dumping ground for files because this agreement is never done or not taken into account.\n",
    "- Making these agreements for each project individually is time-consuming and may result in different agreements and thus different folder structures.\n",
    "- Imagine booting your computer and the folder structure is different every time.... &#128556;&#128556;&#128556;"
   ]
  },
  {
   "cell_type": "markdown",
   "id": "ad8db7f5",
   "metadata": {
    "code_folding": [],
    "slideshow": {
     "slide_type": "slide"
    },
    "tags": [
     "solution"
    ]
   },
   "source": [
    "- Using a sensible template for a project\n",
    "    - Saves time and helps you focus on the project without having to create folder and files manually from scratch every time\n",
    "    - Makes it easier for developers to do things right and enforce best practises by providing structure\n",
    "    - Recudes the likelihood that the project folder becomes a dumping ground for files\n",
    "    - Lowers the entry level for new collaborators\n",
    "    - Allows to expand the folder structure without having to reorganize it from time to time\n",
    "- Using one template for all projects with the same underlying structure (e.g., data science, web application, ...)\n",
    "    - Standardizes the workflow of projects and increases consistency and reproducibility across projects\n",
    "    - Helps developers to quickly find resources (modules, scripts, documentation...) with confidence\n",
    "    - Helps developers to store files in the right place, again with confidence"
   ]
  },
  {
   "cell_type": "markdown",
   "id": "92fd73f4",
   "metadata": {
    "slideshow": {
     "slide_type": "notes"
    },
    "tags": [
     "note"
    ]
   },
   "source": [
    "- Think about the Filesystem Hierarchy Standard for Unix-like systems\n",
    "    - The /etc directory has a very specific purpose, as does the /tmp folder, and everybody (more or less)\n",
    "agrees to honor that social contract.\n",
    "- Not all developers start with a project, new developers may join the project when it is already running or junior people might work on the project, providing them guidelines with templates is very useful"
   ]
  },
  {
   "cell_type": "markdown",
   "id": "e2e36247",
   "metadata": {
    "slideshow": {
     "slide_type": "slide"
    }
   },
   "source": [
    "# Structuring your code"
   ]
  },
  {
   "cell_type": "markdown",
   "id": "b5242d58",
   "metadata": {
    "slideshow": {
     "slide_type": "-"
    }
   },
   "source": [
    "- A sound project template provides a good basis for your project because it provides guidelines how to structure your code into notebooks, scripts and modules\n",
    "- However, these guidelines are not strict and you have to decide how to structure your code\n",
    "- When doing data science, you might often start with a simple script or a Jupyter notebook to prototype quickly and do some analyses\n",
    "- But when your code grows it's important to think more about the structure of your code \n",
    "- In case of a Python, you can modularize your project code into scripts and different modules which can be organized in a package\n",
    "- Sometimes you even want to reuse your project code for other projects and make it installable with pip\n",
    "- On the following slides, we will consider these points in more detail"
   ]
  },
  {
   "cell_type": "markdown",
   "id": "ba1bbe95",
   "metadata": {
    "slideshow": {
     "slide_type": "slide"
    }
   },
   "source": [
    "## Jupyter Notebooks: The good, the bad, and the ugly."
   ]
  },
  {
   "cell_type": "markdown",
   "id": "6c07e794",
   "metadata": {
    "slideshow": {
     "slide_type": "-"
    }
   },
   "source": [
    "- Jupyter notebooks are heavily used in the data science community (industry, science, kaggle)\n",
    "- Notebooks are wonderful for prototyping, exploration, analyses (including visualizations) and sharing results.\n",
    "    - Combing markdown with source code of many programming languages\n",
    "    - Seperating of code blocks into cells\n",
    "    - Plotting\n",
    "    - \"Interactive debugger\"\n",
    "- There are even companies that \n",
    "    - Use Jupyter notebooks in production systems, e.g., [Netflix](https://netflixtechblog.com/notebook-innovation-591ee3221233)\n",
    "    - Provide [platforms](https://www.databricks.com/solutions/data-science) that productionize notebooks \n",
    "<!-- (but if you don't need Spark, Databricks might be too expensive)-->\n",
    "- However, the use of Jupyter notebooks for code that is actually deployed and runs in production is rather the exception.  "
   ]
  },
  {
   "cell_type": "markdown",
   "id": "b41767a7",
   "metadata": {
    "slideshow": {
     "slide_type": "fragment"
    }
   },
   "source": [
    "<div align=\"center\">\n",
    "And there are good reasons for that!\n",
    "</div>"
   ]
  },
  {
   "cell_type": "markdown",
   "id": "78cbd46e",
   "metadata": {
    "slideshow": {
     "slide_type": "slide"
    }
   },
   "source": [
    "<div>\n",
    "<img src=\"./figures/all_code_in_notebook_meme.png\" alt=\"Notebook meme\" width=1000/>\n",
    "<div/>\n",
    "<div>\n",
    "</div>"
   ]
  },
  {
   "cell_type": "markdown",
   "id": "e6417d85",
   "metadata": {
    "slideshow": {
     "slide_type": "slide"
    }
   },
   "source": [
    "The (in)famous talk [\"I don't like notebooks\"](https://docs.google.com/presentation/d/1n2RlMdmv1p25Xy5thJUhkKGvjtV-dkAIsUXP-AL4ffI/) given by Joel Grus at JupyterCon 2018 highlights possible drawbacks of Jupyter notebooks for coding."
   ]
  },
  {
   "cell_type": "code",
   "execution_count": 2,
   "id": "64a54276",
   "metadata": {
    "slideshow": {
     "slide_type": "-"
    }
   },
   "outputs": [],
   "source": [
    "# embed_website(\"https://docs.google.com/presentation/d/1n2RlMdmv1p25Xy5thJUhkKGvjtV-dkAIsUXP-AL4ffI/\")  # activating this might lag the presentation"
   ]
  },
  {
   "cell_type": "markdown",
   "id": "562cf818",
   "metadata": {
    "slideshow": {
     "slide_type": "slide"
    }
   },
   "source": [
    "<a id=\"nb_drawbacks\"><a/>   \n",
    "- In the talk the following **drawbacks of Jupyter notebooks** are mentioned:\n",
    "    1. **Reproducibility and hidden states** are a concern (slides 23, 24, 31, 42, 73-74)\n",
    "        - Re-running or running cells in different order give you much flexibility for exploring\n",
    "        - But it can be difficult to reproduce or understand results\n",
    "    1. Inspiring bad coding habits and **discouraging good coding habits** (slides 45-59, 76-90)\n",
    "        - No functions, abstractions or OOP, no writing of modules/packages\n",
    "        - Mixing \"library\" and \"excecution\" code\n",
    "        - Code is often not DRY and resuable\n",
    "        - No testing\n",
    "        - No type annotations\n",
    "<a id=\"ide_features\"><a/> \n",
    "    1. **Powerful features of IDEs are missing** (slides 60-70, this can be somewhat addressed in the meantime by opening a notebook directly in VSCode or PyCharm)\n",
    "        - Autosuggestion\n",
    "        - Automatic highlighting of possible errors by linters\n",
    "        - Code formatting using, e.g., black\n",
    "        - Type annotation checks\n",
    "        \n",
    "<!-- - The author also mentions in his notes that the Jupyter ecosystem consists of tools to work around people's bad habits so they don't have to fix them -->\n"
   ]
  },
  {
   "cell_type": "markdown",
   "id": "b7bb5d2e",
   "metadata": {
    "slideshow": {
     "slide_type": "slide"
    }
   },
   "source": [
    "- Drawbacks not mentioned in the talk:\n",
    "    - **Code versioning is difficult** (in the meantime, this can be addressed with Jupytext)\n",
    "    - **Collaboration is difficult** (everybody working on the same notebook? merge conflicts?)\n",
    "- See also [here](https://www.reddit.com/r/datascience/comments/nf47se/does_netflix_use_jupyter_notebooks_in_production/), [here](https://www.youtube.com/watch?v=9Q6sLbz37gk) and [here](https://www.reddit.com/r/datascience/comments/yfsxrn/a_critical_reflection_of_jupyter_notebooks/)\n",
    "for further discussions about using notebooks (in production)."
   ]
  },
  {
   "cell_type": "markdown",
   "id": "cb2e1396",
   "metadata": {
    "slideshow": {
     "slide_type": "slide"
    }
   },
   "source": [
    "- Jupyter notebooks and its extensions are tools. \n",
    "    - Many **projects try to extend Jupyter notebooks and make them ready for collaboration and production** (or e.g., writing books with them).\n",
    "    - Like any tool you can use a notebook for a purpose it was not designed for: [\"If Your Only Tool Is a Hammer Then Every Problem Looks Like a Nail\"](https://en.wikipedia.org/wiki/Law_of_the_instrument).\n",
    "- Much \"data science\" education appears to be limited to showing beginners how to use notebooks but does not develop their programming skills or teach best practices.\n",
    "- Instead of extending and productionizing notebooks **I think it makes more sense to empower data scientists to build production-ready code the way it is typically done in other areas**\n",
    "- Especially if you project becomes more mature or complex it is beneficial to move away from notebooks and modularize your\n",
    "  code and factor it into a package/module\n",
    "- When the time comes, you'll be much closer to production-grade code and can rather ensure scalability, maintainability and resiliency that long-lived production code needs to support"
   ]
  },
  {
   "cell_type": "markdown",
   "id": "47f60d2e",
   "metadata": {
    "slideshow": {
     "slide_type": "slide"
    }
   },
   "source": [
    "- **This does not mean that you shouldn't use notebooks at all**...\n",
    "    - It's perfectly fine to use notebooks for analyses and sharing insights or doing reports \n",
    "    - It's also okay to use them to execute code as long as it is \n",
    "      just a wrapper for functions/objects that are imported and then executed\n",
    "    - Notebooks are like an interactive debugger and can be used to rapidly prototype\n",
    "    - Using pandas without notebooks can be painful due to pandas inconsistencies\n",
    "    - Not all code is meant to be \"production code\"\n",
    "- But you shouldn't put all of your code in one notebook\n",
    "- Also note that some IDEs ([VS Code](https://code.visualstudio.com/docs/datascience/jupyter-notebooks), PyCharm) directly support notebooks\n",
    "- VS Code also provides an [interactive mode](https://code.visualstudio.com/docs/python/jupyter-support-py) that resembles notebooks but works with .py files\n",
    "    - The code of the .py file can be separated into Jupyter-like cells\n",
    "    - Output is sent to the interactive terminal\n",
    "    - Since the code is written in a .py file possible [drawbacks](#nb_drawbacks) of notebooks are avoided\n",
    "        - Can use all [features that VS Code provides for .py files](#ide_features)\n",
    "        - Outputs are not tracked by Git"
   ]
  },
  {
   "cell_type": "markdown",
   "id": "b781e35f",
   "metadata": {
    "slideshow": {
     "slide_type": "slide"
    }
   },
   "source": [
    "### How to structure notebooks?"
   ]
  },
  {
   "cell_type": "markdown",
   "id": "9058e000",
   "metadata": {
    "slideshow": {
     "slide_type": "-"
    }
   },
   "source": [
    "- In many cases, it's a good idea to start your data science project with Jupyter notebook to prototype quickly and do some analyses\n",
    "<a id=\"reco\"> </a>\n",
    "- I recommend that you\n",
    "    - Use the [table of contents extension](https://jupyter-contrib-nbextensions.readthedocs.io/en/latest/nbextensions/toc2/README.html) (which is also included by the [jupyter_contrib_nbextensions](https://jupyter-contrib-nbextensions.readthedocs.io/en/latest/install.html) which provides other useful extension)\n",
    "    - Separate your code not only by cells but by creating sections using markdown cells and headings\n",
    "    - Put imports in the first cell of the notebook (unless the import is only temporary for a non-persistent analysis)\n",
    "    - Do not scatter variables, that determine the output of notebook cells, across many different cells, but place them at the beginning of the notebook\n",
    "    - Do not overwrite variables \n",
    "    - All these steps make your notebook more understable and simplifies the modularization of notebooks cells into functions and modules later on (if required)"
   ]
  },
  {
   "cell_type": "markdown",
   "id": "074e60c3",
   "metadata": {
    "slideshow": {
     "slide_type": "slide"
    }
   },
   "source": [
    "### Exercise\n",
    "- Move the notebook [```dsc_2022/lecture_notes/2_setup_python_project/code_structure/0_messy_notebook.ipynb```](./code_structure/0_messy_notebook.ipynb) to the notebooks folder of your pyscaffold_test project that you have created [before](#pyscaffold_test).\n",
    "- Have a look at the resulting notebook ```pyscaffold_test/notebooks/0_messy_notebook.ipynb```.\n",
    "- Make a copy of this notebook and rename it to ```pyscaffold_test/notebooks/1_structured_notebook.ipynb```.\n",
    "- Make this notebook more structured by considering the previously mentioned [recommendations](#reco)."
   ]
  },
  {
   "cell_type": "markdown",
   "id": "75ae567e",
   "metadata": {
    "slideshow": {
     "slide_type": "fragment"
    }
   },
   "source": [
    "- A proposal for such a restructured notebook is given by [```dsc_2022/lecture_notes/2_setup_python_project/code_structure/1_structured_notebook.ipynb```](./code_structure/1_structured_notebook.ipynb)."
   ]
  },
  {
   "cell_type": "markdown",
   "id": "66c9e417",
   "metadata": {},
   "source": [
    "- When you notebook further evolves, it makes sense to put (some) variables, functions and classes into a module.\n",
    "- Therefore, let's have a look at Python modules/packages and how to import them."
   ]
  },
  {
   "cell_type": "markdown",
   "id": "a07f4f95",
   "metadata": {
    "slideshow": {
     "slide_type": "slide"
    }
   },
   "source": [
    "## Modules and Packages"
   ]
  },
  {
   "cell_type": "markdown",
   "id": "6f81bcff",
   "metadata": {
    "slideshow": {
     "slide_type": "slide"
    }
   },
   "source": [
    "### Modules"
   ]
  },
  {
   "cell_type": "markdown",
   "id": "feeb5604",
   "metadata": {
    "slideshow": {
     "slide_type": "-"
    }
   },
   "source": [
    "- Import statements are typically the first thing you see at the top of any Python file.\n",
    "- The ```import [<module|package>]``` statement is used to import other .py files into the current interpreter session, e.g., the following lines import the built-in module sys and the third-party module numpy with the alias np\n",
    "```python\n",
    "    import sys\n",
    "    import numpy as np\n",
    "```\n",
    "- It can be used to re-use code and share it among different files and projects.\n",
    "- Note that a module is cached if it is imported, meaning changes to the module are not reflected in the Python interpreter unless\n",
    "    - You start a new Python session/restart the Jupyter kernel\n",
    "    - Use Jupyters [autoreload](https://ipython.readthedocs.io/en/stable/config/extensions/autoreload.html) magic, click [here](https://www.wrighters.io/using-autoreload-to-speed-up-ipython-and-jupyter-work/) for an illustration\n",
    "    - Reload the module using the built-in importlib.reload\n",
    "- Modules can also be run as script.\n",
    "- Any .py-file is a module.\n",
    "- Several modules can be organized in a package."
   ]
  },
  {
   "cell_type": "markdown",
   "id": "57924d3d",
   "metadata": {
    "slideshow": {
     "slide_type": "slide"
    }
   },
   "source": [
    "- Consider the following content of example.py\n",
    "```python\n",
    "    import sys\n",
    "\n",
    "    a = 1\n",
    "    def fun():\n",
    "        return 2\n",
    "```\n",
    "- [Assuming the module example can be imported](#import_modules), we can access its content as follows\n",
    "    - Import the module and access its attributes via dot notation \n",
    "    ```python\n",
    "    import example\n",
    "    example.sys  # returns the sys module\n",
    "    example.a  # returns 1\n",
    "    example.fun()  # returns 2\n",
    "    ```\n",
    "    - Directly import attributes using a \"from import\"\n",
    "    ```python\n",
    "    from example import sys, a, fun\n",
    "    sys  # returns the sys module\n",
    "    a  # returns 1\n",
    "    fun()  # returns 2\n",
    "    ```"
   ]
  },
  {
   "cell_type": "markdown",
   "id": "120afbb0",
   "metadata": {
    "slideshow": {
     "slide_type": "slide"
    }
   },
   "source": [
    "#### When can a module be imported?\n",
    "<a id=\"import_modules\"></a>"
   ]
  },
  {
   "cell_type": "markdown",
   "id": "fb3befb7",
   "metadata": {
    "slideshow": {
     "slide_type": "-"
    }
   },
   "source": [
    "- Every .py-script is a Python module and can be imported provided it is **accessible via sys.path**.\n",
    "- The following modules can always be imported\n",
    "    - **Built-in** modules because pythonX.YY is always on sys.path.\n",
    "    - **Pip- or conda-installed modules** because site-packages is always on sys.path.\n",
    "    - Moreover, packages that have been pip-installed in **editable mode** appear on sys.path.\n",
    "- Depending on how you invoke Python, (non-built-in or non-installed) modules might be accessible via sys.path or not."
   ]
  },
  {
   "cell_type": "markdown",
   "id": "499cb228",
   "metadata": {
    "slideshow": {
     "slide_type": "slide"
    }
   },
   "source": [
    "- If you start an **interactive Python session** using ```python3``` (or import a module during an interactive Python session) then \n",
    "    - The working directory from which the session has been started or (the module is imported) is added to sys.path\n",
    "    - ```''``` appears on sys.path, implying that modules inside the current working directory (accessible via os.getcwd()) can be imported\n",
    "- Note that an interactive Python session is started when you start a Jupyter notebook or run ```jupyter console```"
   ]
  },
  {
   "cell_type": "code",
   "execution_count": 2,
   "id": "20571430",
   "metadata": {
    "slideshow": {
     "slide_type": "-"
    }
   },
   "outputs": [
    {
     "name": "stdout",
     "output_type": "stream",
     "text": [
      "> Excluding folders which are always present on sys.path, the remaining entries of sys.path are\n",
      "  - /home/spa0001f/github/teach/dsc/lecture_notes/2_setup_python_project\n",
      "  - \n",
      "> Note that an empty entry of sys.path corresponds to the corresponding working directory\n",
      "  /home/spa0001f/github/teach/dsc/lecture_notes/2_setup_python_project\n"
     ]
    }
   ],
   "source": [
    "sys_info()  # information about sys.path of this interactive Python session"
   ]
  },
  {
   "cell_type": "markdown",
   "id": "94955747",
   "metadata": {
    "slideshow": {
     "slide_type": "slide"
    }
   },
   "source": [
    " <a id=\"sys_path_run\"></a>\n",
    " - If you **run a Python program** the directory in which the program is located is put on sys.path"
   ]
  },
  {
   "cell_type": "code",
   "execution_count": 5,
   "id": "0a39802b",
   "metadata": {
    "slideshow": {
     "slide_type": "-"
    }
   },
   "outputs": [
    {
     "name": "stdout",
     "output_type": "stream",
     "text": [
      "> This file has been run as a Python program.\r\n",
      "> Excluding folders which are always present on sys.path, the remaining entries of sys.path are\r\n",
      "  - /home/spa0001f/github/teach/dsc/src/dsc/setup_python_project\r\n"
     ]
    }
   ],
   "source": [
    "!cd ../.. && python3 src/dsc/setup_python_project/sys_path.py  # information about sys.path when a program is run"
   ]
  },
  {
   "cell_type": "markdown",
   "id": "aa010f76",
   "metadata": {
    "slideshow": {
     "slide_type": "fragment"
    }
   },
   "source": [
    "- If you **run a Python module as a script** using the ```m``` flag the directory from which the programm is called is put on sys.path (in this case the directory of this notebook)"
   ]
  },
  {
   "cell_type": "code",
   "execution_count": 4,
   "id": "9bd2823c",
   "metadata": {
    "slideshow": {
     "slide_type": "-"
    }
   },
   "outputs": [
    {
     "name": "stdout",
     "output_type": "stream",
     "text": [
      "> This file has been run as a Python program.\r\n",
      "> Excluding folders which are always present on sys.path, the remaining entries of sys.path are\r\n",
      "  - /home/spa0001f/github/teach/dsc\r\n"
     ]
    }
   ],
   "source": [
    "!cd ../.. && python3 -m dsc.setup_python_project.sys_path  # information about sys.path when a module is run as a script"
   ]
  },
  {
   "cell_type": "markdown",
   "id": "50598b66",
   "metadata": {
    "slideshow": {
     "slide_type": "slide"
    }
   },
   "source": [
    "- If you invoke Python with the ```c``` flag (e.g., ```python3 -c \"import sys; print(sys.path)\"```) then ```''``` is added to sys.path.\n",
    "- If you cannot import a module because it is not on sys.path, you can append its corresponding folder to sys.path, e.g.,\n",
    "```python\n",
    "    import sys\n",
    "\n",
    "    sys.path.append(\"path_of_new_folder\")  # add path_of_new_folder to sys.path\n",
    "```\n",
    "- Alternatively, you can change the working directory if it is on sys.path, e.g., \n",
    "```python\n",
    "    import os\n",
    "\n",
    "    os.setcwd(\"..\")  # set working directory to previous parent directory\n",
    "```\n",
    "- However, this is more like a quick fix and not robust (moving files breaks imports).\n",
    "- It is better to pip-install the package in editable mode (see [later](#editable)).\n"
   ]
  },
  {
   "cell_type": "markdown",
   "id": "5f26cd45",
   "metadata": {
    "slideshow": {
     "slide_type": "slide"
    }
   },
   "source": [
    "#### Running a module as a program\n",
    "- You can run a module \n",
    "    1. As a normal Python program, e.g., ```python3 module_path```, where module_path is the path to a module, e.g., ```src/dsc/version_control/exercise_dvc.py```\n",
    "    2. **As a script** using its name by invoking the ```m``` flag, e.g., ```python3 -m module_name```, where module_name is the name of a module that is always located on sys.path, e.g., ```dsc.version_control/exercise_dvc```\n",
    "- Note that the sys.path of the program that is executed by 1. is [different](#sys_path_run) from a program executed by 2.!\n",
    "- However, in both cases the value of the Python variable ```__name__```  of the program is ```__main__```\n",
    "- If a module is imported by another program, the value of  ```__name__``` is the module's name\n",
    "- One can use this fact to execute some code only when the module is run as a program as the following example demonstrates"
   ]
  },
  {
   "cell_type": "markdown",
   "id": "1a2ae3aa",
   "metadata": {
    "slideshow": {
     "slide_type": "slide"
    }
   },
   "source": [
    "- Consider the following content of\n",
    "    - module_a.py\n",
    "```python\n",
    "    print(\"Hello from module a.\")  \n",
    "    \n",
    "    if __name__ == '__main__':\n",
    "        print(\"I am the main program.)\n",
    "    else:\n",
    "        print(\"I have been imported by another program.)\n",
    "```\n",
    "    - module_b.py\n",
    "```python\n",
    "    import module_a\n",
    "``` \n",
    "- Running ```python3 module_a.py``` or ```python3 -m module``` returns \"Hello from module a. I am the main program\"\n",
    "- Running ```python3 module_b.py``` returns \"Hello from module a. I have been imported by another program\""
   ]
  },
  {
   "cell_type": "markdown",
   "id": "9061789b",
   "metadata": {
    "slideshow": {
     "slide_type": "slide"
    }
   },
   "source": [
    "### Exercise"
   ]
  },
  {
   "cell_type": "markdown",
   "id": "48fba6cb",
   "metadata": {
    "slideshow": {
     "slide_type": "-"
    }
   },
   "source": [
    "- Cd into your pyscaffold_test project that you have created [before](#pyscaffold_test).\n",
    "- Make a copy of  \n",
    "```pyscaffold_test/notebooks/1_structured_notebook.ipynb```  \n",
    "and rename it to  \n",
    "```pyscaffold_test/notebooks/2_structured_notebook_with_module.ipynb```\n",
    "- In a first step, think about what functions could be put into a module called \n",
    "```pyscaffold_test/notebooks/2_structure_notebook_with_module_companion.py```\n",
    "- Create the companion module  \n",
    "```pyscaffold_test/notebooks/structure_notebook_with_module_companion.py```  \n",
    "and use it in  \n",
    "```pyscaffold_test/notebooks/structured_notebook_with_module.ipynb```  \n",
    "accordingly.\n",
    "- Note that the module doesn't start with \"two\" because modules must not start with an integer."
   ]
  },
  {
   "cell_type": "markdown",
   "id": "f21d5adb",
   "metadata": {
    "slideshow": {
     "slide_type": "slide"
    }
   },
   "source": [
    "- A proposal for such a restructured notebook and the companion module is given in\n",
    "```dsc_2022/lecture_notes/2_setup_python_project/code_structure```  \n",
    "by the two files \n",
    "    - [```2_structured_notebook_with_module.ipynb```](./code_structure/2_structured_notebook_with_module.ipynb)\n",
    "    - [```structure_notebook_with_module_companion.py```](./code_structure/structured_notebook_with_module_companion.py)"
   ]
  },
  {
   "cell_type": "markdown",
   "id": "308ee545",
   "metadata": {
    "slideshow": {
     "slide_type": "slide"
    }
   },
   "source": [
    "## Packages"
   ]
  },
  {
   "cell_type": "markdown",
   "id": "cf0a8703",
   "metadata": {
    "slideshow": {
     "slide_type": "slide"
    }
   },
   "source": [
    "### Structure\n",
    "- A package is a directory that contains multiple modules and helps to organize them\n",
    "- A **regular** package is a folder that contains a file named ```__init__.py``` and modules or (sub)packages, e.g.,\n",
    "```python\n",
    "my_package/\n",
    "        __init__.py\n",
    "        __main__.py\n",
    "        module_a.py\n",
    "        sub_package/\n",
    "                __init__.py\n",
    "                module_b.py\n",
    "                module_c.py\n",
    "                sub_sub_package/\n",
    "                        __init__.py\n",
    "                        module.d\n",
    "```\n",
    "- If you import a package, ```__init__.py``` is executed. This file can be empty. Each subpackage should have a ```__init__.py```.\n",
    "- If you run a package, ```__main__.py``` is executed. This file is optional.\n",
    "- With this package structure (and provided the package is importable):\n",
    "    - ```from my_package import module_a``` imports module_a\n",
    "    - ```from my_package.sub_package.sub_sub_package import module_d``` imports module_d\n",
    "    - ```from my_package.sub_package.module_b import attr``` imports the attribute attr from module_b"
   ]
  },
  {
   "cell_type": "markdown",
   "id": "9c87e7cc",
   "metadata": {
    "slideshow": {
     "slide_type": "slide"
    }
   },
   "source": [
    "- For your data science projects, it might be useful to use the following subpackages\n",
    "    - data\n",
    "    - features\n",
    "    - models\n",
    "    - visualization\n",
    "    - ..."
   ]
  },
  {
   "cell_type": "markdown",
   "id": "382b03c3",
   "metadata": {
    "slideshow": {
     "slide_type": "slide"
    }
   },
   "source": [
    "### Pip-install a package in editable mode\n",
    "<a id=\"editable\"></a>"
   ]
  },
  {
   "cell_type": "markdown",
   "id": "d3d7ab30",
   "metadata": {},
   "source": [
    "- To make a package importable, its parent directory must be located on sys.path.\n",
    "- If you put your package in the directory of the notebook (or script) on which you are working on, the package can be imported.\n",
    "- However, a single directory containing all notebooks and packages/modules becomes messy when your project evolves.\n",
    "- Restructuring you notebooks and modules requires adjusting sys.path or the working directory manually each time, which is not a good idea.\n",
    "- Therefore, I recommend to pip-install your package in **editable mode** so that it can always be imported within the corresponding activated environment.\n",
    "- You can pip.install a package in editable mode using ```pip install -e [path]``` where path is the folder where setup.py is located.\n",
    "- Note\n",
    "    - A package that is installed in editable mode is not put into the site-packages directory but directly on sys.path.\n",
    "    - There are some requirements to be satisfied so that you can pip-install a package, PyScaffold takes care of this."
   ]
  },
  {
   "cell_type": "markdown",
   "id": "309a589e",
   "metadata": {
    "slideshow": {
     "slide_type": "slide"
    }
   },
   "source": [
    "### Exercise"
   ]
  },
  {
   "cell_type": "markdown",
   "id": "a817ecac",
   "metadata": {
    "slideshow": {
     "slide_type": "-"
    }
   },
   "source": [
    "- Cd into your pyscaffold_test project that you have created [before](#pyscaffold_test).\n",
    "- Make a package out of ```pyscaffold_test/notebooks/structured_notebook_with_module_companion.py```\n",
    "    - Put all data-related functionality of this module into the file  \n",
    "    ```pyscaffold_test/src/data.py```\n",
    "    - Put all model-related functionality of this module into the file  \n",
    "    ```pyscaffold_test/src/model.py```\n",
    "    - Pip install the resulting package in editable mode\n",
    "- Make a copy of  \n",
    "```pyscaffold_test/notebooks/2_structured_notebook_with_module.ipynb```,    \n",
    "rename it to  \n",
    "```pyscaffold_test/notebooks/2_structured_notebook_with_package.ipynb```,  \n",
    "and import the package accordingly"
   ]
  },
  {
   "cell_type": "markdown",
   "id": "6e7b7a09",
   "metadata": {
    "slideshow": {
     "slide_type": "slide"
    }
   },
   "source": [
    "## Scripts"
   ]
  },
  {
   "cell_type": "code",
   "execution_count": null,
   "id": "e03ab5ff",
   "metadata": {},
   "outputs": [],
   "source": [
    " Due to this behaviour many people start creating their custom modules in\n",
    "    the directory holding their notebook. Since JupyterLab is nice enough to set \n",
    "    the current working directory to the directory containing your notebook, \n",
    "    everything is fine at the beginning. But as the number of notebooks that \n",
    "    share common functionality imported from modules grows, the single directory \n",
    "    containing notebooks and modules will get messier as you go. \n",
    "The obvious split of notebooks and modules into different folders\n",
    "or even organizing your notebooks into different folders will not work with \n",
    "this approach since then your imports will fail.\n",
    "\n",
    "A Python package adheres a certain structure and thus can be shipped and installed by others\n"
   ]
  },
  {
   "cell_type": "markdown",
   "id": "e0fe90a9",
   "metadata": {},
   "source": [
    "## Summary"
   ]
  },
  {
   "cell_type": "code",
   "execution_count": null,
   "id": "6c36bf0f",
   "metadata": {},
   "outputs": [],
   "source": [
    "- There is no right solution (but maybe bad solutions)\n",
    "- I recommend:\n",
    "    - create a clean, isolated environment for every project = (new git repo, new...)\n",
    "    - start prototyping in a notebook\n",
    "    - always factor out functions/classes in module packages\n",
    "    - keep your notebook concise (it should execute but not contain library code, library code: code that is imported and may be reused)"
   ]
  },
  {
   "cell_type": "code",
   "execution_count": null,
   "id": "c124fa8f",
   "metadata": {},
   "outputs": [],
   "source": [
    "- PyScaffold: Your package is located at src/project, where project is the name of your project\n",
    "- make a folder explanatory for notebooks and reports \" For example, notebooks/exploratory contains initial explorations, whereas notebooks/reports is more polished work\"\n",
    "-> what if notebooks in these two folders need to import the same module? -> useful to install a package in editable mode\n",
    "- It make sense to add the following directories to src/project (?)\n",
    "    - data\n",
    "    - features\n",
    "    - models\n",
    "    - visualization"
   ]
  },
  {
   "cell_type": "code",
   "execution_count": null,
   "id": "8a421e66",
   "metadata": {},
   "outputs": [],
   "source": [
    "motivate package by starting\n",
    "with a project:\n",
    "    notebook\n",
    "    companion file (kevin)\n",
    "what if it gets more complex\n",
    "sys.path\n",
    "\n",
    "1) notebook: at the top: config/variables that determine the output of your \"program\" scattered around cells\n",
    "2) put config variables at the top\n",
    "- a cell should contain code that later might be a function\n",
    "3) companion file:  Don't write code to do the same task in multiple notebooks. If it's a data preprocessing task, put it in the pipeline at src/data/make_dataset.py\n",
    "4) notebooks working dir auf root ändern, jedes mal (darf man nicht dateien verschieben oder man schreibt sich was das die root automatisch findet)\n",
    "4) package\n",
    "\n",
    "goal:\n",
    "    no library code in notebook, only execution, or maybe config/setup in first cell\n",
    "    \n",
    "pipelines: use a script for orchestration or a notebook (we don't discuss tools for that like make or airflow etc.)"
   ]
  },
  {
   "cell_type": "markdown",
   "id": "d510fd4c",
   "metadata": {},
   "source": [
    "https://florianwilhelm.info/2018/01/ds_in_prod_packaging_ci/ auch gute quelle \n",
    "    \n",
    "Being a data scientist does not free you from proper software engineering. **Of course most models start with a simple script or a Jupyter notebook maybe, just the essence of your idea to test it quickly. But as your model evolves, the number of lines of code grow, it’s always a good idea to think about the structure of your code and to move away from writing simple scripts to proper applications or libraries.**\n",
    "\n",
    "In case of a Python model, that means grouping functionality into different modules separating different concerns which could be organised in Python packages on a higher level. Maybe certain parts of the model are even so general that they could be packaged into an own library for greater reusability also for other projects. In the context of Python, a bundle of software to be installed like a library or application is denoted with the term package. Another synonym is distribution which is easily to be confused with a Linux distribution. Therefore the term package is more commonly used although there is an ambiguity with the kind of package you import in your Python source code (i.e. a container of modules).\n",
    "\n",
    "So what is now the key difference between a bunch of Python scripts with some modules and a proper package? A Python package adheres a certain structure and thus can be shipped and installed by others. Simple as it sounds this is a major advantage over having just some Python modules inside a repository. With a package it is possible to make distinct code releases with different versions that can be stored for later reference. Dependencies like numpy and scikit-learn can be specified and dependency resolution is automated by tools like pip and conda. "
   ]
  },
  {
   "cell_type": "markdown",
   "id": "2c88c90a",
   "metadata": {},
   "source": [
    "https://florianwilhelm.info/2018/11/working_efficiently_with_jupyter_lab/\n",
    "    \n",
    "- sharing these notebooks is quite often an unnecessary pain. Notebooks that need you to tamper with the \n",
    "PYTHONPATH or to start Jupyter from a certain directory for modules to import correctly.\n",
    "- The code in notebooks tends to grow and grow to the point of being incomprehensible. To overcome this problem, the only way is to extract parts of it into Python modules once in a while. Since it only makes sense to extract functions and classes into Python modules, I often start cleaning up a messy notebook by thinking about the actual task a group of cells is accomplishing. This helps me to refactor those cells into a proper function which I can then migrate into a Python module.\n",
    "\n",
    "At the point where you create custom modules, things get trickier. By default Python will only allow you to import modules that are installed in your environment or in your current working directory. Due to this behaviour many people start creating their custom modules in the directory holding their notebook. Since JupyterLab is nice enough to set the current working directory to the directory containing your notebook, everything is fine at the beginning. But as the number of notebooks that share common functionality imported from modules grows, the single directory containing notebooks and modules will get messier as you go. The obvious split of notebooks and modules into different folders or even organizing your notebooks into different folders will not work with this approach since then your imports will fail.\n",
    "\n",
    "This observation brings us to one of the most important best practices: **develop your code as a Python package**. A Python package will allow you to structure your code nicely over several modules and even subpackages, you can easily create unit tests and the best part of it is that distributing and sharing it with your colleagues comes for free. But creating a Python package is so much overhead; surely it’s not worth this small little analysis I will complete in half a day anyway and then forget about it, I hear you say. Well, how often is this actually true? Things always start out small but then get bigger and messier if you don’t adhere to a certain structure right from the start. About half a year later then, your boss will ask you about that specific analysis you did back then and if you could repeat it with the new data and some additional KPIs. But more importantly coming back to the first part of your comment, if you know how, it’s no overhead at all!\n",
    "\n",
    "-  If you are more into the Markdown syntax and thus rather want a README.md, you can install the pyscaffoldext-markdown extension for PyScaffold which adds a --markdown flag to PyScaffold’s putup command.\n",
    "- “The nice thing about standards is that you have so many to choose from”. The three most common docstring standards for Python are the default Sphinx RestructuredText, Numpy and Google style which are all supported by PyCharm.\n",
    "- After you have installed Sphinx you can build your documentation as HTML pages:\n",
    "\n",
    "conda install spinx\n",
    "python setup.py docs\n",
    "\n",
    "- **Why does PyScaffold ≥ 3 have a src folder which holds the actual Python package?**\n",
    "This avoids quite many problems compared to the case when the actual Python package resides in the same folder as your configuration and test files. A nice blog post by Ionel gives a thorough explanation why this is so. In a nutshell, the most severe problem comes from the fact that Python imports a package by first looking at the current working directory and then into the PYTHONPATH environment variable. If your current working directory is the root of your project directory you are thus not testing the installation of your package but the local package directly. Eventually, this always leads to huge confusion (“But the unit tests ran perfectly on my machine!”).\n",
    "\n",
    "Moreover, having a dedicated src directory to store the package files, makes it easy to comply with recent standards in the Python community (for example PEP 420).\n",
    "\n",
    "\n",
    "\n",
    "pyscaffold uses the src-layout\n",
    "https://setuptools.pypa.io/en/latest/userguide/package_discovery.html#src-layout\n",
    "\n",
    ". Especially, structuring your files and directories the right way in order to build a Python package. Thereby, questions are addressed like “Where should my modules, documentation and unit tests go"
   ]
  },
  {
   "cell_type": "code",
   "execution_count": 1,
   "id": "4c34a5fa",
   "metadata": {},
   "outputs": [
    {
     "ename": "SyntaxError",
     "evalue": "invalid syntax (179276935.py, line 1)",
     "output_type": "error",
     "traceback": [
      "\u001b[0;36m  Input \u001b[0;32mIn [1]\u001b[0;36m\u001b[0m\n\u001b[0;31m    https://github.com/drivendata/cookiecutter-data-science/issues/158  # read not important for this lecutre, but interesting\u001b[0m\n\u001b[0m          ^\u001b[0m\n\u001b[0;31mSyntaxError\u001b[0m\u001b[0;31m:\u001b[0m invalid syntax\n"
     ]
    }
   ],
   "source": [
    "Further links about notebooks and modularization (from https://www.reddit.com/r/datascience/comments/yfsxrn/comment/iu61tft/)\n",
    "- https://ploomber.io/blog/nbs-myths/\n",
    "- https://ploomber.io/blog/clean-nbs/\n",
    "- https://ploomber.io/blog/nbs-production/"
   ]
  },
  {
   "cell_type": "markdown",
   "id": "acf29862",
   "metadata": {
    "slideshow": {
     "slide_type": "slide"
    }
   },
   "source": [
    "# Questions regarding next week's topic (Good code)"
   ]
  },
  {
   "cell_type": "markdown",
   "id": "62595eda",
   "metadata": {
    "slideshow": {
     "slide_type": "-"
    }
   },
   "source": [
    "Click [here](https://partici.fi/49867347), or scan the QR code below, to answer the questions about setting up your Python project.\n",
    "<div align=\"center\">\n",
    "<img src=\"./figures/p_3.png\" alt=\"drawing\" width=\"1200\"/>\n",
    "</div>\n",
    "<div align=\"left\">\n",
    "<div/>"
   ]
  }
 ],
 "metadata": {
  "celltoolbar": "Slideshow",
  "jupytext": {
   "comment_magics": false
  },
  "kernelspec": {
   "display_name": "Python [conda env:dsc]",
   "language": "python",
   "name": "conda-env-dsc-py"
  },
  "language_info": {
   "codemirror_mode": {
    "name": "ipython",
    "version": 3
   },
   "file_extension": ".py",
   "mimetype": "text/x-python",
   "name": "python",
   "nbconvert_exporter": "python",
   "pygments_lexer": "ipython3",
   "version": "3.10.6"
  },
  "toc": {
   "base_numbering": 1,
   "nav_menu": {},
   "number_sections": true,
   "sideBar": true,
   "skip_h1_title": false,
   "title_cell": "Table of Contents",
   "title_sidebar": "Contents",
   "toc_cell": false,
   "toc_position": {
    "height": "calc(100% - 180px)",
    "left": "10px",
    "top": "150px",
    "width": "384px"
   },
   "toc_section_display": true,
   "toc_window_display": false
  }
 },
 "nbformat": 4,
 "nbformat_minor": 5
}
