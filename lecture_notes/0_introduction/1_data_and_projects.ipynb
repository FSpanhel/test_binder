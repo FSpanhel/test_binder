{
 "cells": [
  {
   "cell_type": "code",
   "execution_count": 1,
   "id": "01d6b4e9",
   "metadata": {
    "slideshow": {
     "slide_type": "notes"
    }
   },
   "outputs": [],
   "source": [
    "import pandas as pd\n",
    "\n",
    "from dsc.notebook import embed_website\n",
    "from dsc.introduction.data import example_pin, viewing_duration, potential"
   ]
  },
  {
   "cell_type": "markdown",
   "id": "8fe18e36",
   "metadata": {
    "slideshow": {
     "slide_type": "slide"
    }
   },
   "source": [
    "<div align=\"center\" style=\"font-size:70px;\">\n",
    "DATA AND PROJECTS\n",
    "<div/>\n",
    "    \n",
    "<div align=\"left\" style=\"font-size:16px;\">\n",
    "<div/>"
   ]
  },
  {
   "cell_type": "markdown",
   "id": "ab0a2c8c",
   "metadata": {
    "slideshow": {
     "slide_type": "slide"
    }
   },
   "source": [
    "# Data description\n",
    "In this course, we will be working with german (free) **linear TV data**. \n",
    "\n",
    "Linear TV broadcasts scheduled programs, over the air or through satellite/cable, but not streamed to a specific user. \n",
    "\n",
    "Almost all broadcast television services count as linear TV."
   ]
  },
  {
   "cell_type": "markdown",
   "id": "12a161e2",
   "metadata": {
    "hide_input": false,
    "slideshow": {
     "slide_type": "slide"
    }
   },
   "source": [
    "The **TV program** lists the title and start time of all broadcasts for each day and channel."
   ]
  },
  {
   "cell_type": "code",
   "execution_count": 2,
   "id": "df8e73a1",
   "metadata": {
    "hide_input": false,
    "slideshow": {
     "slide_type": "-"
    }
   },
   "outputs": [
    {
     "data": {
      "text/html": [
       "\n",
       "        <iframe\n",
       "            width=\"1200\"\n",
       "            height=\"500\"\n",
       "            src=\"https://www.hoerzu.de/tv-programm/\"\n",
       "            frameborder=\"0\"\n",
       "            allowfullscreen\n",
       "            \n",
       "        ></iframe>\n",
       "        "
      ],
      "text/plain": [
       "<IPython.lib.display.IFrame at 0x7f0dd5a3fd30>"
      ]
     },
     "execution_count": 2,
     "metadata": {},
     "output_type": "execute_result"
    }
   ],
   "source": [
    "embed_website(\"https://www.hoerzu.de/tv-programm/\", width=1200)"
   ]
  },
  {
   "cell_type": "markdown",
   "id": "855bd031",
   "metadata": {
    "cell_style": "center",
    "slideshow": {
     "slide_type": "slide"
    }
   },
   "source": [
    "In Germany, there are two different types of broadcasters which broadcast linear TV. \n",
    "- **Public broadcasters** like the ARD or ZDF whose primary mission is public service. Public broadcasters receive their funding primarily from a licence fee which every household, company and public institution are required to pay by law.\n",
    "- **Private/commercial broadcasters** like the RTL group or ProSiebenSat.1 are privately owned corporate media. \n",
    "    - **free**: Commercial broadcasting primarily uses the airing of advertisements for profit.\n",
    "    - **paid**: Some servies are paid for by local subscribers, e.g. Sky. "
   ]
  },
  {
   "cell_type": "markdown",
   "id": "c58e510a",
   "metadata": {
    "slideshow": {
     "slide_type": "slide"
    }
   },
   "source": [
    "# How broadcast data is collected"
   ]
  },
  {
   "cell_type": "markdown",
   "id": "1aa14647",
   "metadata": {
    "cell_style": "split",
    "slideshow": {
     "slide_type": "-"
    }
   },
   "source": [
    "The TV program can be used to infer the title and duration of all broadcasts for each channel and day and is freely available. \n",
    "For private broadcasting the success, i.e., the **audience rating**, of a broadcast is crucial for the price of corresponding advertisements. \n",
    "Audience ratings are **not publicly available and measured by the AGF**. \n",
    "\n",
    "The AGF is the **association of TV and streaming providers in Germany** on whose behalf audience ratings in the German motion picture market are measured since April 1st, 1963 (!). The AGF further develops the continuous quantitative recording of the use of motion picture content in Germany, including the collection and evaluation of the data."
   ]
  },
  {
   "cell_type": "markdown",
   "id": "4e4ce829",
   "metadata": {
    "cell_style": "split",
    "hide_input": false,
    "scrolled": false,
    "slideshow": {
     "slide_type": "-"
    }
   },
   "source": [
    "<div align=\"center\" style=\"font-size:16px;\">\n",
    "AGF members\n",
    "<img src=\"./figures/1_agf.png\" alt=\"AGF members\" width=800/>\n",
    "<div/>\n",
    "<div align=\"left\" style=\"font-size:14px;\">\n",
    "<div/>"
   ]
  },
  {
   "cell_type": "markdown",
   "id": "a02b926b",
   "metadata": {
    "slideshow": {
     "slide_type": "slide"
    }
   },
   "source": [
    "## The AGF panel"
   ]
  },
  {
   "cell_type": "markdown",
   "id": "66f4a5b7",
   "metadata": {
    "slideshow": {
     "slide_type": "-"
    }
   },
   "source": [
    "At the core of AGF's audience research is the **AGF Panel**, which AGF operates in cooperation with **GfK**.\n",
    "- The AGF Panel is a **representative sample** of “the resident population of the Federal Republic of Germany in private households with at least one TV set in use and a German-speaking Main Income Earner.”\n",
    "- This universe represents the television usage of approximately **38 million TV households with up to 75 million individuals** over age 3 (as of January 1, 2022).\n",
    "- Moreover, once a year, panel households are surveyed with a questionnaire covering **demographic and consumer behaviour** from which target groups for analyses and pricing of advertisements can be constructed.\n",
    "\n",
    "Source: https://www.agf.de/en/audience-measurement/method/tv"
   ]
  },
  {
   "cell_type": "markdown",
   "id": "827c231d",
   "metadata": {
    "slideshow": {
     "slide_type": "slide"
    }
   },
   "source": [
    "**Relation between the panel and the population**\n",
    "<br>\n",
    "<br>\n",
    "<img src=\"./figures/1_agf_gfk_panel.png\" alt=\"AGF/GFK Panel\" width=1800/>"
   ]
  },
  {
   "cell_type": "markdown",
   "id": "13c8a4dd",
   "metadata": {
    "slideshow": {
     "slide_type": "slide"
    }
   },
   "source": [
    "### Audio matching"
   ]
  },
  {
   "cell_type": "markdown",
   "id": "de830e86",
   "metadata": {
    "slideshow": {
     "slide_type": "-"
    }
   },
   "source": [
    "- TV usage is measured exclusively with an **audio matching** measurement technique.\n",
    "- The measurement devices generate audio samples at the TV set and compare them against broadcasters’ audio samples generated at central referencing sites. The matched signals are assigned to a broadcaster."
   ]
  },
  {
   "cell_type": "markdown",
   "id": "a6caec1e",
   "metadata": {
    "slideshow": {
     "slide_type": "-"
    }
   },
   "source": [
    "<img src=\"./figures/1_audio_match.png\" alt=\"AGF/GFK Panel\" width=1200/>"
   ]
  },
  {
   "cell_type": "markdown",
   "id": "be4816b3",
   "metadata": {
    "slideshow": {
     "slide_type": "subslide"
    }
   },
   "source": [
    "<div align=\"center\" style=\"font-size:30px;\">\n",
    "On the next website, scroll below for the 'TAM METER'! :D\n",
    "<div/>\n",
    "<div align=\"left\" style=\"font-size:30px;\">\n",
    "<div/>"
   ]
  },
  {
   "cell_type": "code",
   "execution_count": 3,
   "id": "d21eada2",
   "metadata": {
    "hide_input": false,
    "slideshow": {
     "slide_type": "-"
    }
   },
   "outputs": [
    {
     "data": {
      "text/html": [
       "\n",
       "        <iframe\n",
       "            width=\"1400\"\n",
       "            height=\"800\"\n",
       "            src=\"https://www.agf.de/en/about-agf/history\"\n",
       "            frameborder=\"0\"\n",
       "            allowfullscreen\n",
       "            \n",
       "        ></iframe>\n",
       "        "
      ],
      "text/plain": [
       "<IPython.lib.display.IFrame at 0x7f0dd5a3d930>"
      ]
     },
     "execution_count": 3,
     "metadata": {},
     "output_type": "execute_result"
    }
   ],
   "source": [
    "embed_website(\"https://www.agf.de/en/about-agf/history\", height=800, width=1400)"
   ]
  },
  {
   "cell_type": "markdown",
   "id": "7f221ef3",
   "metadata": {
    "slideshow": {
     "slide_type": "slide"
    }
   },
   "source": [
    "### PIN data"
   ]
  },
  {
   "cell_type": "markdown",
   "id": "ed139cd9",
   "metadata": {
    "slideshow": {
     "slide_type": "-"
    }
   },
   "source": [
    "The AGF collects so called **PIN data**.\n",
    "- PIN data are **person-specific data on television usage** (measured in seconds)\n",
    "- It measures  the number of seconds that a person has spent watching a programme, commercial break or pre-defined time interval.\n",
    "- PIN data is measured each day **from 3 a.m. in the morning until 3 a.m. the next day**.\n",
    "- For instance, the date \"2020-01-01\" corresponds to the interval [2020-01-01 03:00:00, 2020-01-02 02:59:59].\n",
    "- Preliminary data for the previous AGF day (until 3 a.m. today) is then available from 8 a.m.\n",
    "- Final data is available 2 day later"
   ]
  },
  {
   "cell_type": "code",
   "execution_count": 4,
   "id": "b4553c2e",
   "metadata": {
    "hide_input": true,
    "slideshow": {
     "slide_type": "-"
    }
   },
   "outputs": [
    {
     "data": {
      "text/html": [
       "<div>\n",
       "<style scoped>\n",
       "    .dataframe tbody tr th:only-of-type {\n",
       "        vertical-align: middle;\n",
       "    }\n",
       "\n",
       "    .dataframe tbody tr th {\n",
       "        vertical-align: top;\n",
       "    }\n",
       "\n",
       "    .dataframe thead th {\n",
       "        text-align: right;\n",
       "    }\n",
       "</style>\n",
       "<table border=\"1\" class=\"dataframe\">\n",
       "  <thead>\n",
       "    <tr style=\"text-align: right;\">\n",
       "      <th></th>\n",
       "      <th>member_id</th>\n",
       "      <th>channel</th>\n",
       "      <th>start</th>\n",
       "      <th>end</th>\n",
       "    </tr>\n",
       "  </thead>\n",
       "  <tbody>\n",
       "    <tr>\n",
       "      <th>0</th>\n",
       "      <td>1</td>\n",
       "      <td>No-TV</td>\n",
       "      <td>2020-01-01 03:00:00</td>\n",
       "      <td>2020-01-01 14:11:59</td>\n",
       "    </tr>\n",
       "    <tr>\n",
       "      <th>1</th>\n",
       "      <td>1</td>\n",
       "      <td>ARD</td>\n",
       "      <td>2020-01-01 14:12:00</td>\n",
       "      <td>2020-01-01 17:59:59</td>\n",
       "    </tr>\n",
       "    <tr>\n",
       "      <th>2</th>\n",
       "      <td>1</td>\n",
       "      <td>P7</td>\n",
       "      <td>2020-01-01 18:00:00</td>\n",
       "      <td>2020-01-01 20:00:00</td>\n",
       "    </tr>\n",
       "    <tr>\n",
       "      <th>3</th>\n",
       "      <td>1</td>\n",
       "      <td>RTL</td>\n",
       "      <td>2020-01-01 20:00:01</td>\n",
       "      <td>2020-01-01 23:30:01</td>\n",
       "    </tr>\n",
       "    <tr>\n",
       "      <th>4</th>\n",
       "      <td>1</td>\n",
       "      <td>No-TV</td>\n",
       "      <td>2020-01-01 23:30:00</td>\n",
       "      <td>2020-01-02 02:59:59</td>\n",
       "    </tr>\n",
       "  </tbody>\n",
       "</table>\n",
       "</div>"
      ],
      "text/plain": [
       "   member_id channel               start                 end\n",
       "0          1   No-TV 2020-01-01 03:00:00 2020-01-01 14:11:59\n",
       "1          1     ARD 2020-01-01 14:12:00 2020-01-01 17:59:59\n",
       "2          1      P7 2020-01-01 18:00:00 2020-01-01 20:00:00\n",
       "3          1     RTL 2020-01-01 20:00:01 2020-01-01 23:30:01\n",
       "4          1   No-TV 2020-01-01 23:30:00 2020-01-02 02:59:59"
      ]
     },
     "execution_count": 4,
     "metadata": {},
     "output_type": "execute_result"
    }
   ],
   "source": [
    "example_pin"
   ]
  },
  {
   "cell_type": "markdown",
   "id": "daa896e2",
   "metadata": {
    "slideshow": {
     "slide_type": "slide"
    }
   },
   "source": [
    "## KPIs"
   ]
  },
  {
   "cell_type": "markdown",
   "id": "cd76709a",
   "metadata": {},
   "source": [
    "PIN data can be used to compute aggreated **KPIS for target groups, time intervals and channels**.\n",
    "\n",
    "- The most relevant target group for commercial broadcasters are Adults who are between 14 and 49 years old (**Erw. 14-49**).\n",
    "- Z3+ is another target group which includes all members of the panel.\n",
    "\n",
    "For simplicity, let's assume for the remainder of this section that there are only two channels ARD and P7."
   ]
  },
  {
   "cell_type": "markdown",
   "id": "df977ae3",
   "metadata": {
    "slideshow": {
     "slide_type": "slide"
    }
   },
   "source": [
    "### Sehdauer (sehd)"
   ]
  },
  {
   "cell_type": "markdown",
   "id": "486ffd9f",
   "metadata": {
    "cell_style": "center",
    "slideshow": {
     "slide_type": "-"
    }
   },
   "source": [
    "For a given channel, time interval and target group:\n",
    "- The viewing duration of a corresponding panel member is the number of seconds viewed.\n",
    "- The **sehd** for a channel and target group is the corresponding (weighted) average of all individual viewing durations."
   ]
  },
  {
   "cell_type": "markdown",
   "id": "724f5247",
   "metadata": {
    "slideshow": {
     "slide_type": "-"
    }
   },
   "source": [
    "Viewing duration for the time interval [2020-01-01 15:00:00, 2020-01-01 16:59:59]"
   ]
  },
  {
   "cell_type": "code",
   "execution_count": 5,
   "id": "ef081d5c",
   "metadata": {
    "cell_style": "center",
    "code_folding": [],
    "hide_input": false,
    "scrolled": true,
    "slideshow": {
     "slide_type": "-"
    }
   },
   "outputs": [
    {
     "data": {
      "text/html": [
       "<div>\n",
       "<style scoped>\n",
       "    .dataframe tbody tr th:only-of-type {\n",
       "        vertical-align: middle;\n",
       "    }\n",
       "\n",
       "    .dataframe tbody tr th {\n",
       "        vertical-align: top;\n",
       "    }\n",
       "\n",
       "    .dataframe thead th {\n",
       "        text-align: right;\n",
       "    }\n",
       "</style>\n",
       "<table border=\"1\" class=\"dataframe\">\n",
       "  <thead>\n",
       "    <tr style=\"text-align: right;\">\n",
       "      <th></th>\n",
       "      <th>member_id</th>\n",
       "      <th>weight</th>\n",
       "      <th>target_group</th>\n",
       "      <th>channel</th>\n",
       "      <th>start</th>\n",
       "      <th>end</th>\n",
       "      <th>viewing_duration</th>\n",
       "    </tr>\n",
       "  </thead>\n",
       "  <tbody>\n",
       "    <tr>\n",
       "      <th>0</th>\n",
       "      <td>1</td>\n",
       "      <td>50</td>\n",
       "      <td>Erw. 14-49</td>\n",
       "      <td>ARD</td>\n",
       "      <td>2020-01-01 15:00:00</td>\n",
       "      <td>2020-01-01 16:29:59</td>\n",
       "      <td>0 days 01:30:00</td>\n",
       "    </tr>\n",
       "    <tr>\n",
       "      <th>1</th>\n",
       "      <td>1</td>\n",
       "      <td>50</td>\n",
       "      <td>Erw. 14-49</td>\n",
       "      <td>P7</td>\n",
       "      <td>2020-01-01 16:30:00</td>\n",
       "      <td>2020-01-01 16:59:59</td>\n",
       "      <td>0 days 00:30:00</td>\n",
       "    </tr>\n",
       "    <tr>\n",
       "      <th>2</th>\n",
       "      <td>2</td>\n",
       "      <td>25</td>\n",
       "      <td>Erw. 14-49</td>\n",
       "      <td>No-TV</td>\n",
       "      <td>2020-01-01 15:00:00</td>\n",
       "      <td>2020-01-01 15:59:59</td>\n",
       "      <td>0 days 01:00:00</td>\n",
       "    </tr>\n",
       "    <tr>\n",
       "      <th>3</th>\n",
       "      <td>2</td>\n",
       "      <td>25</td>\n",
       "      <td>Erw. 14-49</td>\n",
       "      <td>ARD</td>\n",
       "      <td>2020-01-01 16:00:00</td>\n",
       "      <td>2020-01-01 16:59:59</td>\n",
       "      <td>0 days 01:00:00</td>\n",
       "    </tr>\n",
       "  </tbody>\n",
       "</table>\n",
       "</div>"
      ],
      "text/plain": [
       "   member_id  weight target_group channel               start  \\\n",
       "0          1      50   Erw. 14-49     ARD 2020-01-01 15:00:00   \n",
       "1          1      50   Erw. 14-49      P7 2020-01-01 16:30:00   \n",
       "2          2      25   Erw. 14-49   No-TV 2020-01-01 15:00:00   \n",
       "3          2      25   Erw. 14-49     ARD 2020-01-01 16:00:00   \n",
       "\n",
       "                  end viewing_duration  \n",
       "0 2020-01-01 16:29:59  0 days 01:30:00  \n",
       "1 2020-01-01 16:59:59  0 days 00:30:00  \n",
       "2 2020-01-01 15:59:59  0 days 01:00:00  \n",
       "3 2020-01-01 16:59:59  0 days 01:00:00  "
      ]
     },
     "execution_count": 5,
     "metadata": {},
     "output_type": "execute_result"
    }
   ],
   "source": [
    "viewing_duration"
   ]
  },
  {
   "cell_type": "code",
   "execution_count": 6,
   "id": "f56d9693",
   "metadata": {
    "cell_style": "center",
    "hide_input": false,
    "slideshow": {
     "slide_type": "-"
    }
   },
   "outputs": [],
   "source": [
    "sehd = (\n",
    "    viewing_duration\n",
    "    [viewing_duration['channel'] != 'No-TV']\n",
    "    .groupby(['channel'])\n",
    "    .apply(lambda x: (x['viewing_duration'] @ x['weight']) / potential))  # potential is the sum of the member_id weights"
   ]
  },
  {
   "cell_type": "markdown",
   "id": "d3b43643",
   "metadata": {
    "slideshow": {
     "slide_type": "-"
    }
   },
   "source": [
    "Sehd for each channel and the time interval [2020-01-01 15:00:00, 2020-01-01 16:59:59]"
   ]
  },
  {
   "cell_type": "code",
   "execution_count": 7,
   "id": "20cda386",
   "metadata": {
    "slideshow": {
     "slide_type": "-"
    }
   },
   "outputs": [
    {
     "data": {
      "text/html": [
       "<div>\n",
       "<style scoped>\n",
       "    .dataframe tbody tr th:only-of-type {\n",
       "        vertical-align: middle;\n",
       "    }\n",
       "\n",
       "    .dataframe tbody tr th {\n",
       "        vertical-align: top;\n",
       "    }\n",
       "\n",
       "    .dataframe thead th {\n",
       "        text-align: right;\n",
       "    }\n",
       "</style>\n",
       "<table border=\"1\" class=\"dataframe\">\n",
       "  <thead>\n",
       "    <tr style=\"text-align: right;\">\n",
       "      <th>channel</th>\n",
       "      <th>ARD</th>\n",
       "      <th>P7</th>\n",
       "    </tr>\n",
       "  </thead>\n",
       "  <tbody>\n",
       "    <tr>\n",
       "      <th>0</th>\n",
       "      <td>0 days 01:20:00</td>\n",
       "      <td>0 days 00:20:00</td>\n",
       "    </tr>\n",
       "  </tbody>\n",
       "</table>\n",
       "</div>"
      ],
      "text/plain": [
       "channel             ARD              P7\n",
       "0       0 days 01:20:00 0 days 00:20:00"
      ]
     },
     "execution_count": 7,
     "metadata": {},
     "output_type": "execute_result"
    }
   ],
   "source": [
    "sehd.to_frame().T"
   ]
  },
  {
   "cell_type": "markdown",
   "id": "11c6891c",
   "metadata": {
    "slideshow": {
     "slide_type": "slide"
    }
   },
   "source": [
    "### Sehbeteiligung (sehb)"
   ]
  },
  {
   "cell_type": "markdown",
   "id": "3a7cfe0d",
   "metadata": {
    "slideshow": {
     "slide_type": "-"
    }
   },
   "source": [
    "**Sehbeteiligung (Sehb)** is a measure of average viewing participation. When we talk about reach we often mean Sehb.\n",
    "- For a given channel, time interval and target group, the relative Sehb is the ratio of the viewing duration (Sehd) and the corresponding time interval.\n",
    "- The (absolute) Sehb is the relative Sehb scaled to the population of people that should be represented. \n",
    "- Note that Sehb is not the number of viewers. \n"
   ]
  },
  {
   "cell_type": "markdown",
   "id": "cc9ede70",
   "metadata": {
    "cell_style": "split",
    "slideshow": {
     "slide_type": "-"
    }
   },
   "source": [
    "Relative Sehb for the time interval [2020-01-01 15:00:00, 2020-01-01 16:59:59]"
   ]
  },
  {
   "cell_type": "markdown",
   "id": "f5f7a824",
   "metadata": {
    "cell_style": "split",
    "slideshow": {
     "slide_type": "-"
    }
   },
   "source": [
    "(Absolute) Sehb for the time interval [2020-01-01 15:00:00, 2020-01-01 16:59:59]"
   ]
  },
  {
   "cell_type": "code",
   "execution_count": 8,
   "id": "5ed9b902",
   "metadata": {
    "cell_style": "split",
    "slideshow": {
     "slide_type": "-"
    }
   },
   "outputs": [
    {
     "data": {
      "text/html": [
       "<div>\n",
       "<style scoped>\n",
       "    .dataframe tbody tr th:only-of-type {\n",
       "        vertical-align: middle;\n",
       "    }\n",
       "\n",
       "    .dataframe tbody tr th {\n",
       "        vertical-align: top;\n",
       "    }\n",
       "\n",
       "    .dataframe thead th {\n",
       "        text-align: right;\n",
       "    }\n",
       "</style>\n",
       "<table border=\"1\" class=\"dataframe\">\n",
       "  <thead>\n",
       "    <tr style=\"text-align: right;\">\n",
       "      <th>channel</th>\n",
       "      <th>ARD</th>\n",
       "      <th>P7</th>\n",
       "    </tr>\n",
       "  </thead>\n",
       "  <tbody>\n",
       "    <tr>\n",
       "      <th>0</th>\n",
       "      <td>0.67</td>\n",
       "      <td>0.17</td>\n",
       "    </tr>\n",
       "  </tbody>\n",
       "</table>\n",
       "</div>"
      ],
      "text/plain": [
       "channel   ARD    P7\n",
       "0        0.67  0.17"
      ]
     },
     "execution_count": 8,
     "metadata": {},
     "output_type": "execute_result"
    }
   ],
   "source": [
    "rsehb = sehd / pd.Timedelta(hours=2)\n",
    "round(rsehb, 2).to_frame().T"
   ]
  },
  {
   "cell_type": "code",
   "execution_count": 9,
   "id": "e3e7367d",
   "metadata": {
    "cell_style": "split",
    "slideshow": {
     "slide_type": "-"
    }
   },
   "outputs": [
    {
     "data": {
      "text/html": [
       "<div>\n",
       "<style scoped>\n",
       "    .dataframe tbody tr th:only-of-type {\n",
       "        vertical-align: middle;\n",
       "    }\n",
       "\n",
       "    .dataframe tbody tr th {\n",
       "        vertical-align: top;\n",
       "    }\n",
       "\n",
       "    .dataframe thead th {\n",
       "        text-align: right;\n",
       "    }\n",
       "</style>\n",
       "<table border=\"1\" class=\"dataframe\">\n",
       "  <thead>\n",
       "    <tr style=\"text-align: right;\">\n",
       "      <th>channel</th>\n",
       "      <th>ARD</th>\n",
       "      <th>P7</th>\n",
       "    </tr>\n",
       "  </thead>\n",
       "  <tbody>\n",
       "    <tr>\n",
       "      <th>0</th>\n",
       "      <td>50.0</td>\n",
       "      <td>12.5</td>\n",
       "    </tr>\n",
       "  </tbody>\n",
       "</table>\n",
       "</div>"
      ],
      "text/plain": [
       "channel   ARD    P7\n",
       "0        50.0  12.5"
      ]
     },
     "execution_count": 9,
     "metadata": {},
     "output_type": "execute_result"
    }
   ],
   "source": [
    "sehb = rsehb * potential\n",
    "sehb.to_frame().T "
   ]
  },
  {
   "cell_type": "markdown",
   "id": "687add7d",
   "metadata": {
    "slideshow": {
     "slide_type": "subslide"
    }
   },
   "source": [
    "**Sehb vs. number of viewers**\n",
    "  - In the digital world, e.g., streaming, the number of viewers are often the people who started to watch a program, independent of their viewing time. \n",
    "  - Thus, if one people watches 1 one-second of a one-hour programm, the relative reach is 100% in the digital world. \n",
    "  - However, the corresponding Sehb (= relative \"reach\") in the TV world is only 1/3600 = 0.028 %.\n",
    "  - Comparing reach of TV and digital formats should take this into account (!)"
   ]
  },
  {
   "cell_type": "markdown",
   "id": "0fe535bd",
   "metadata": {
    "slideshow": {
     "slide_type": "slide"
    }
   },
   "source": [
    "### TV-Gesamt (TVG)"
   ]
  },
  {
   "cell_type": "markdown",
   "id": "d91968c3",
   "metadata": {
    "slideshow": {
     "slide_type": "-"
    }
   },
   "source": [
    "For a given target group and time interval, TVG is the Sehb of all channels."
   ]
  },
  {
   "cell_type": "markdown",
   "id": "e6061438",
   "metadata": {
    "slideshow": {
     "slide_type": "-"
    }
   },
   "source": [
    "TVG"
   ]
  },
  {
   "cell_type": "code",
   "execution_count": 10,
   "id": "6987546c",
   "metadata": {
    "slideshow": {
     "slide_type": "-"
    }
   },
   "outputs": [
    {
     "data": {
      "text/plain": [
       "62.5"
      ]
     },
     "execution_count": 10,
     "metadata": {},
     "output_type": "execute_result"
    }
   ],
   "source": [
    "tvg = sehb.sum()\n",
    "tvg"
   ]
  },
  {
   "cell_type": "markdown",
   "id": "740ca335",
   "metadata": {
    "slideshow": {
     "slide_type": "slide"
    }
   },
   "source": [
    "### Market share (ms)"
   ]
  },
  {
   "cell_type": "markdown",
   "id": "944f6aeb",
   "metadata": {
    "slideshow": {
     "slide_type": "-"
    }
   },
   "source": [
    "The **market share** is the most relevant KPI for measuring the (relative) performance of a program. \n",
    "- (Short-term) pricing of advertisements is based on the market share\n",
    "- The renewal or cancellation of a TV series is based on the market share \n",
    "\n",
    "The market share is given by the ratio of Sehb and TVG."
   ]
  },
  {
   "cell_type": "code",
   "execution_count": 11,
   "id": "a4771c43",
   "metadata": {
    "slideshow": {
     "slide_type": "-"
    }
   },
   "outputs": [
    {
     "data": {
      "text/html": [
       "<div>\n",
       "<style scoped>\n",
       "    .dataframe tbody tr th:only-of-type {\n",
       "        vertical-align: middle;\n",
       "    }\n",
       "\n",
       "    .dataframe tbody tr th {\n",
       "        vertical-align: top;\n",
       "    }\n",
       "\n",
       "    .dataframe thead th {\n",
       "        text-align: right;\n",
       "    }\n",
       "</style>\n",
       "<table border=\"1\" class=\"dataframe\">\n",
       "  <thead>\n",
       "    <tr style=\"text-align: right;\">\n",
       "      <th>channel</th>\n",
       "      <th>ARD</th>\n",
       "      <th>P7</th>\n",
       "    </tr>\n",
       "  </thead>\n",
       "  <tbody>\n",
       "    <tr>\n",
       "      <th>0</th>\n",
       "      <td>80.0</td>\n",
       "      <td>20.0</td>\n",
       "    </tr>\n",
       "  </tbody>\n",
       "</table>\n",
       "</div>"
      ],
      "text/plain": [
       "channel   ARD    P7\n",
       "0        80.0  20.0"
      ]
     },
     "execution_count": 11,
     "metadata": {},
     "output_type": "execute_result"
    }
   ],
   "source": [
    "market_share = (sehb / tvg) * 100\n",
    "market_share.to_frame().T"
   ]
  },
  {
   "cell_type": "markdown",
   "id": "82632c98",
   "metadata": {
    "slideshow": {
     "slide_type": "slide"
    }
   },
   "source": [
    "### Actual numbers\n",
    "The following website displays sehb (VP) and market shares (MS) of today."
   ]
  },
  {
   "cell_type": "code",
   "execution_count": 12,
   "id": "db271bfd",
   "metadata": {
    "hide_input": false,
    "slideshow": {
     "slide_type": "-"
    }
   },
   "outputs": [
    {
     "data": {
      "text/html": [
       "\n",
       "        <iframe\n",
       "            width=\"1600\"\n",
       "            height=\"700\"\n",
       "            src=\"https://www.agf.de/en/data/tv-data\"\n",
       "            frameborder=\"0\"\n",
       "            allowfullscreen\n",
       "            \n",
       "        ></iframe>\n",
       "        "
      ],
      "text/plain": [
       "<IPython.lib.display.IFrame at 0x7f0dd5a3d570>"
      ]
     },
     "execution_count": 12,
     "metadata": {},
     "output_type": "execute_result"
    }
   ],
   "source": [
    "embed_website(\"https://www.agf.de/en/data/tv-data\", width=1600, height=700)"
   ]
  },
  {
   "cell_type": "markdown",
   "id": "cbbe154d",
   "metadata": {
    "slideshow": {
     "slide_type": "slide"
    }
   },
   "source": [
    "## Concluding remarks"
   ]
  },
  {
   "cell_type": "markdown",
   "id": "7edabc72",
   "metadata": {
    "slideshow": {
     "slide_type": "-"
    }
   },
   "source": [
    "- Among other things, **the AGF is responsible for measuring the audience of linear TV and operates the AGF panel in cooperation with the GFK**.\n",
    "- As a result, linear TV broadcast performance data are often referred to as AGF/GFK data.\n",
    "- The established KPIs are recognized as the **market standard** for the media and advertising industry.\n",
    "- The most important KPIs are **Sehb**, **TVG** and the **market share**.\n",
    "- Although the number of measurement units is far smaller than in the digitial world, AGF/GFK data contains the exact viewing duration and detailed information about demographics and consumer behavio\n"
   ]
  },
  {
   "cell_type": "markdown",
   "id": "c8bd8f84",
   "metadata": {
    "slideshow": {
     "slide_type": "slide"
    }
   },
   "source": [
    "# Internal data"
   ]
  },
  {
   "cell_type": "markdown",
   "id": "ac755d39",
   "metadata": {},
   "source": [
    "Besides AGF/GFK data KPI each broadcaster has internal data that is **not accessible to other broadcasters or agencies**.\n",
    "- Internal data which includes **further information** about programs, e.g., costs, availability, ..., or whether it is an\n",
    "    - In-house production (e.g., taff, red)\n",
    "    - Commissioned production (e.g., GNTM)\n",
    "    - Licensed program (Big bang theory)\n",
    "- Purchased additional broadcast meta data\n",
    "    - DMB\n",
    "    - Gracenote\n",
    "- Other data"
   ]
  },
  {
   "cell_type": "markdown",
   "id": "f5402ba6",
   "metadata": {
    "slideshow": {
     "slide_type": "slide"
    }
   },
   "source": [
    "# Accessing the data"
   ]
  },
  {
   "cell_type": "markdown",
   "id": "724e688b",
   "metadata": {
    "slideshow": {
     "slide_type": "fragment"
    }
   },
   "source": [
    "- Unfortunately, KPI data provided by the AGF can not be used in this course due to copyright reasons. \n",
    "- Similarly, we can not use internal data.\n",
    "- Thereore, **KPI data about television usage has been simulated** with a focus on capturing the main features of the real data.\n",
    "- In addition, **internal data has been generated** with the idea to represent a possible scenario.\n",
    "- Moreover, the database only contains the subset of tables and columns that are relevant for this course.\n",
    "- Like real data, the synthetic **data is not perfect and has inconsistencies to a small degree**."
   ]
  },
  {
   "cell_type": "markdown",
   "id": "39560a51",
   "metadata": {
    "slideshow": {
     "slide_type": "slide"
    }
   },
   "source": [
    "## Database\n",
    "\n",
    "- The data is stored in an **sqlite database** and located in `data/dsc.db`, assuming you have pulled the data with DVC as explained in [section 11.3 of lectures_notes/0_introduction/0_intro.ipynb](0_intro.ipynb#Getting-data-that-is-not-versioned-by-Git) \n",
    "- The database will be **updated** with more data from time to time (!).\n",
    "- The data can be accessed using the [command-line shell](https://www.sqlite.org/cli.html), an sql client software, or a Python interface (sqlite3, sqlalchemy, pandas...).\n",
    "\n",
    "For now, let's use an **sql client software**."
   ]
  },
  {
   "cell_type": "markdown",
   "id": "0342ccba",
   "metadata": {
    "slideshow": {
     "slide_type": "slide"
    }
   },
   "source": [
    "## Using an SQL client software like DBeaver"
   ]
  },
  {
   "cell_type": "markdown",
   "id": "d6062aa5",
   "metadata": {
    "slideshow": {
     "slide_type": "-"
    }
   },
   "source": [
    "**DBeaver** is a multi-platform database tool for all people who need to work with databases.\n",
    "\n",
    "The free [**community edition** (CE)](https://dbeaver.io/) of DBeaver is an open source software and supports all common SQL Databases.\n",
    "\n",
    "A closed-source [**enterprise edition**](https://dbeaver.com/edition/) of DBeaver is distributed under a commercial license has support of NoSQL databases and cloud.\n",
    "\n",
    "[Comparison of DBeaver Community 22.2.0 vs. DBeaver PRO 22.1](https://dbeaver.com/edition/).\n",
    "\n",
    "Some **useful features**:\n",
    "- SQL queries execution\n",
    "- Data browser/editor with a huge number of features\n",
    "- Syntax highlighting and SQL auto-completion\n",
    "- Database structure (metadata) browse and edit"
   ]
  },
  {
   "cell_type": "code",
   "execution_count": 13,
   "id": "1e6521a5",
   "metadata": {
    "hide_input": false,
    "slideshow": {
     "slide_type": "subslide"
    }
   },
   "outputs": [
    {
     "data": {
      "text/html": [
       "\n",
       "        <iframe\n",
       "            width=\"1600\"\n",
       "            height=\"700\"\n",
       "            src=\"https://dbeaver.io/\"\n",
       "            frameborder=\"0\"\n",
       "            allowfullscreen\n",
       "            \n",
       "        ></iframe>\n",
       "        "
      ],
      "text/plain": [
       "<IPython.lib.display.IFrame at 0x7f0dd5a3d240>"
      ]
     },
     "execution_count": 13,
     "metadata": {},
     "output_type": "execute_result"
    }
   ],
   "source": [
    "embed_website(\"https://dbeaver.io/\", width=1600, height=700)"
   ]
  },
  {
   "cell_type": "markdown",
   "id": "fc6c8a94",
   "metadata": {
    "slideshow": {
     "slide_type": "slide"
    }
   },
   "source": [
    "## Database tables"
   ]
  },
  {
   "cell_type": "markdown",
   "id": "0e399a60",
   "metadata": {
    "slideshow": {
     "slide_type": "slide"
    }
   },
   "source": [
    "### Broadcast"
   ]
  },
  {
   "cell_type": "markdown",
   "id": "95ce4163",
   "metadata": {
    "slideshow": {
     "slide_type": "-"
    }
   },
   "source": [
    "The **broadcast table** represents the actual TV program. It has the following columns:\n",
    "- RUN_ID: identifier of a broadcast that is unique for each datetime, title and channel. This is a primary key.\n",
    "- TITLE_ID: unique id of a title.\n",
    "- TITLE: title of the broadcast.\n",
    "- CHANNEL: channel on which the broadcast was aired.\n",
    "- START_TIME_AGF: starting time (5 minutes frequency) of the broadcast in terms of the [AGF/GFK terminology](#pin-data).\n",
    "- END_TIME_AGF: ending time (5 minutes frequency) of the broadcast in terms of the [AGF/GFK terminology](#pin-data).\n",
    "- WEEKDAY: weekday of the broadcast.\n",
    "- DURATION: duration of the broadcast (excluding advertisements).\n",
    "- GENRE: the genre of the broadcast.\n",
    "- REPEAT: 'ja' if the broadcast is a repetition, 'no' if it is a first-run.\n",
    "\n"
   ]
  },
  {
   "cell_type": "markdown",
   "id": "11ac2934",
   "metadata": {
    "slideshow": {
     "slide_type": "slide"
    }
   },
   "source": [
    "### Target group"
   ]
  },
  {
   "cell_type": "markdown",
   "id": "6dec5e41",
   "metadata": {},
   "source": [
    "The table **target_group** contains the following metrics related to the success of a broadcast:\n",
    "- RUN_ID: unique id of a broadcast that is unique for each datetime, title and channel. This is a primary key.\n",
    "- Target group: target group for which an KPI is measure for a RUN_ID.\n",
    "- Sehb: the Sehb of this record.\n",
    "- TVG: the TVG of this record.\n",
    "\n",
    "Note that:\n",
    "- All KPIs have been simulated and differ from the actual KPIs.\n",
    "- The measured KPIs exclude advertisements, e.g., the Sehb is the Sehb of the program without the Sehb of\n",
    "the advertisements and thus likely to be higher than the Sehb with advertisements"
   ]
  },
  {
   "cell_type": "markdown",
   "id": "508163d2",
   "metadata": {
    "slideshow": {
     "slide_type": "slide"
    }
   },
   "source": [
    "### Content data mart (cdm)\n",
    "Information is available for the genres Spielfilm, Serie and Animation."
   ]
  },
  {
   "cell_type": "markdown",
   "id": "07faf1ec",
   "metadata": {
    "slideshow": {
     "slide_type": "-"
    }
   },
   "source": [
    "- **Broadcast level**\n",
    "    - B_ID: Identifier of a broadcast. This is a primary key.\n",
    "    - B_INTERNAL_REPETITION_NUMBER: Counts through the internal chronological broadcast order of the Content ID.\n",
    "    - B_QUICK_REPEAT: 1 if the broadcast is a repeat of a recent broadcast (usually within 24 hours), B_LICENSE_RUN is then not increased.\n",
    "    - B_LICENSE_RUN: The run number of the corresponding license. For instance, if a license has three runs (L_NUMBER_OF_RUNS = 3), then the first run of this license has B_LICENSE_RUN = 1.\n",
    "    \n",
    "- **Content level**\n",
    "    - C_ID: Unique identifier of a content. In cases of a feature film this identifies the feature film, in cases of a series this identifies the episode. A content can be broadcastet several times.\n",
    "    - C_CONTENT: the (current) title of a content.\n",
    "    - C_SERIES_ID: identifies a series.\n",
    "    - C_SERIES: the title of the corresponding series of an episode.\n",
    "    - C_SEASON_NUMBER: The season of a series.\n",
    "    - C_EPISODE_NUMBER: The running episode number of a series (counting over all seasons). \n",
    "    - C_YEAR_OF_PRODUCTION: Year of production.\n",
    "    - C_SERIES_CATEGORY_1: Structural designation of a series.\n",
    "    - C_SERIES_CATEGORY_2: Categorization of a series into Serial/Procedural/High Concept/Sitcom.\n",
    "    - C_FSK: Classification of a content into an age-related release according to the classification of the FSK association.\n",
    "    - C_HIGHEST_NUMBER_OF_VISITORS_GERMANY: Number of cinema visits in Germany.\n",
    "- **License level**\n",
    "    - L_ID: Unique identifier for a license. A license is required to broadcasts licensed feature movies or series.\n",
    "    - L_START: The start of a license. A run must not be broadcasted before L_START.\n",
    "    - L_END: The end of a license. A run must not be broadcasted after L_END.\n",
    "    - L_NUMBER_OF_RUNS: The number of available runs of a license. If L_NUMBER_OF_RUNS have been broadcasted, a new license is required to broadcast further runs.\n"
   ]
  },
  {
   "cell_type": "markdown",
   "id": "66f4fc68",
   "metadata": {
    "slideshow": {
     "slide_type": "slide"
    }
   },
   "source": [
    "### Mapping_gfk_cdm"
   ]
  },
  {
   "cell_type": "markdown",
   "id": "317879bc",
   "metadata": {
    "slideshow": {
     "slide_type": "-"
    }
   },
   "source": [
    "The table **mapping_gfk_cdm** only contains the columns RUN_ID and B_ID.\n",
    "- AGF/GFK data uses the RUN_ID to identify a broadcast whereas the content data mart uses the B_ID to identify a broadcast.\n",
    "- For each B_ID there is usually one RUN_ID and vice versa. \n",
    "    - An exception occurs when a broadcast starts before 03:00:00 a.m. and ends after 03:00:00 a.m. \n",
    "    - In this case, this broadcast gets different RUN_IDs for the first and second day because, among other things, the AGF date determines the RUN_ID.\n",
    "- Since the AGF/GFK data is not internal data, there is no natural mapping between the AGF/GFK data and the content data mart.\n",
    "- A mapping has been established using **fuzzy title and datetime matching**.\n",
    "- Keep in mind that the mapping is mostly correct (in > 98% of the cases) but not always."
   ]
  },
  {
   "cell_type": "markdown",
   "id": "937d5389",
   "metadata": {
    "slideshow": {
     "slide_type": "slide"
    }
   },
   "source": [
    "### Events & holidays"
   ]
  },
  {
   "cell_type": "markdown",
   "id": "1dd16db4",
   "metadata": {
    "slideshow": {
     "slide_type": "-"
    }
   },
   "source": [
    "- The table **events** contains public information about events that might influence TV audience behavior.\n",
    "- The table **holidays** contains public information about German holidays."
   ]
  },
  {
   "cell_type": "markdown",
   "id": "99e0b16e",
   "metadata": {
    "slideshow": {
     "slide_type": "slide"
    }
   },
   "source": [
    "# Projects"
   ]
  },
  {
   "cell_type": "markdown",
   "id": "4febb429",
   "metadata": {
    "slideshow": {
     "slide_type": "slide"
    }
   },
   "source": [
    "## Project 1: Forecasting the market shares of movies or series"
   ]
  },
  {
   "cell_type": "markdown",
   "id": "3209cebc",
   "metadata": {
    "cell_style": "split",
    "slideshow": {
     "slide_type": "-"
    }
   },
   "source": [
    "<div align=\"center\">\n",
    "<img src=\"./figures/1_project_1.png\" alt=\"Project 2\" width=700 height=700/>\n",
    "</div>\n",
    "<div align=\"left\">\n",
    "</div>"
   ]
  },
  {
   "cell_type": "markdown",
   "id": "c304e7cb",
   "metadata": {
    "cell_style": "split",
    "slideshow": {
     "slide_type": "-"
    }
   },
   "source": [
    "- **Objective**: Forecast the market share of feature movies or series broadcasted during prime time for the next 6 weeks for the channels ProSieben, Sat.1 and Kabel eins.\n",
    "    - You can choose whether you want to model movies or series (or both).\n",
    "    - Group size: 3-4 people. \n",
    "- **What will you do?**\n",
    "    - Learn how to start with a simple model that already does quite well and how to improve it\n",
    "    - Lots of feature engineering\n",
    "    - Implement a custom split for cross validation\n",
    "    - Optionally construct sophisticated features to approximate complex facts of the TV market"
   ]
  },
  {
   "cell_type": "markdown",
   "id": "baf8fd69",
   "metadata": {
    "slideshow": {
     "slide_type": "slide"
    }
   },
   "source": [
    "## Project 2: Forecasting monthly KPIs per channel"
   ]
  },
  {
   "cell_type": "markdown",
   "id": "414ff40b",
   "metadata": {
    "cell_style": "split",
    "hide_input": false,
    "scrolled": true,
    "slideshow": {
     "slide_type": "-"
    }
   },
   "source": [
    "<div align=\"center\">\n",
    "<img src=\"./figures/1_project_2.png\" alt=\"Project 2\" width=1000/>\n",
    "<div/>\n",
    "<div align=\"left\">\n",
    "</div>"
   ]
  },
  {
   "cell_type": "markdown",
   "id": "ba45ce24",
   "metadata": {
    "cell_style": "split",
    "slideshow": {
     "slide_type": "-"
    }
   },
   "source": [
    "- **Objective**: Forecast of monthly market shares and sehb for the channels ProSieben, Sat.1 and Kabel eins up to 12 months ahead into the future.\n",
    "    - Group size: 3-4 people\n",
    "- **What will you do**?\n",
    "    - Learn how to do time series forecasting\n",
    "    - Learn how to do multi-step-ahead forecasting\n",
    "    - Learn how to deal with seasonal patterns\n",
    "    - Learn how to set up cross validation if the data has a temporal dimension"
   ]
  },
  {
   "cell_type": "markdown",
   "id": "b0bba50e",
   "metadata": {
    "slideshow": {
     "slide_type": "skip"
    }
   },
   "source": [
    "<!-- \n",
    "## Project 3: Forecasting the usage time of licenses\n",
    "\n",
    "<img src=\"./figures/1_project_3.png\" alt=\"Project 3\" width=1700 height=800/>\n",
    "\n",
    "<div align=\"left\" style=\"font-weight:bold;\">\n",
    "Project 3: Forecasting the usage time of licenses\n",
    "<div/>\n",
    "<div align=\"left\" style=\"font-weight:normal\">\n",
    "<div/>\n",
    "<br>\n",
    "\n",
    "- **Objective**: Forecast the usage times of movies and series licenses\n",
    "    - Although more abstract than the other proejcts, this forecast is useful for a handful of optimizations\n",
    "    - Group size: 3-4 people\n",
    "- **What will you do**?\n",
    "    - Learn how to tackle a non-standard problem\n",
    "    - Learn how to set up cross validation if the data is no completely observable\n",
    "    - Learn how to impose further assumptions that might be required to model the data\n",
    "    - Learn how to justify your assumptions\n",
    "-->"
   ]
  },
  {
   "cell_type": "markdown",
   "id": "d4bbfa5c",
   "metadata": {
    "slideshow": {
     "slide_type": "slide"
    }
   },
   "source": [
    "## Remarks on the project work\n",
    "- Click [here](0_intro.ipynb#Second-part) for general remarks.\n",
    "- Click [here](0_intro.ipynb#Code-submission) for informations about the submission of your project work.\n",
    "- Click [here](0_intro.ipynb#Code-grading) to see which points influence the grade of your project work."
   ]
  }
 ],
 "metadata": {
  "celltoolbar": "Slideshow",
  "jupytext": {
   "comment_magics": false
  },
  "kernelspec": {
   "display_name": "Python [conda env:dsc_2022]",
   "language": "python",
   "name": "conda-env-dsc_2022-py"
  },
  "language_info": {
   "codemirror_mode": {
    "name": "ipython",
    "version": 3
   },
   "file_extension": ".py",
   "mimetype": "text/x-python",
   "name": "python",
   "nbconvert_exporter": "python",
   "pygments_lexer": "ipython3",
   "version": "3.10.8"
  },
  "rise": {
   "footer": "<h3>Dr. Fabian Spanhel</h3>",
   "header": "<h3>DSC: 0.1 DATA & PROJECTS</h3>"
  },
  "toc": {
   "base_numbering": 1,
   "nav_menu": {},
   "number_sections": true,
   "sideBar": false,
   "skip_h1_title": false,
   "title_cell": "Table of Contents",
   "title_sidebar": "Contents",
   "toc_cell": false,
   "toc_position": {
    "height": "calc(100% - 180px)",
    "left": "0px",
    "top": "200px",
    "width": "280px"
   },
   "toc_section_display": true,
   "toc_window_display": true
  }
 },
 "nbformat": 4,
 "nbformat_minor": 5
}
