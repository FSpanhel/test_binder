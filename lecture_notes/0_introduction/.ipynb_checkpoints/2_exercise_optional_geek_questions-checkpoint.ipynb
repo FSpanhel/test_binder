{
 "cells": [
  {
   "cell_type": "code",
   "execution_count": null,
   "id": "f39db9bd",
   "metadata": {},
   "outputs": [],
   "source": [
    "## Optional geek questions"
   ]
  },
  {
   "cell_type": "code",
   "execution_count": null,
   "id": "e1f4a966",
   "metadata": {},
   "outputs": [],
   "source": [
    "1. Compute START_TIME_REAL which is the real start time of a broadcast. \n",
    "1. \n",
    "1. Wie viel Ausstrahlungen durchschnittlich auf jedem Sender pro Tag?\n",
    "\n",
    "X. Was ist der Titel mit den meisten Umlauten? \n",
    "\n",
    "1. Welcher Sender strahlt wie viel von welchem Genre aus?\n",
    "\n",
    "X. Find the channells and days on which at least two feature movies between 20:00-24:00 are broadcasted on average \n",
    "X. What is the relation between B_LICENSE_RUN and B_QUICK_REPEAT?"
   ]
  }
 ],
 "metadata": {
  "jupytext": {
   "comment_magics": false
  },
  "kernelspec": {
   "display_name": "Python [conda env:dsc_2022] *",
   "language": "python",
   "name": "conda-env-dsc_2022-py"
  },
  "language_info": {
   "codemirror_mode": {
    "name": "ipython",
    "version": 3
   },
   "file_extension": ".py",
   "mimetype": "text/x-python",
   "name": "python",
   "nbconvert_exporter": "python",
   "pygments_lexer": "ipython3",
   "version": "3.10.6"
  },
  "toc": {
   "base_numbering": 1,
   "nav_menu": {},
   "number_sections": true,
   "sideBar": true,
   "skip_h1_title": false,
   "title_cell": "Table of Contents",
   "title_sidebar": "Contents",
   "toc_cell": false,
   "toc_position": {},
   "toc_section_display": true,
   "toc_window_display": false
  }
 },
 "nbformat": 4,
 "nbformat_minor": 5
}
