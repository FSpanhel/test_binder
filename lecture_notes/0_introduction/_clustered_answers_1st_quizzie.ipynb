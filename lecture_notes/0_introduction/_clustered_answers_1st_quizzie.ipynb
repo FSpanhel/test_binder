{
 "cells": [
  {
   "cell_type": "markdown",
   "id": "144bd20b",
   "metadata": {
    "slideshow": {
     "slide_type": "slide"
    }
   },
   "source": [
    "# Why do you study data science or want to become a data scientist?"
   ]
  },
  {
   "cell_type": "markdown",
   "id": "9143bab5",
   "metadata": {
    "slideshow": {
     "slide_type": "fragment"
    }
   },
   "source": [
    "- It's sexy/interesting and a get a lot of money\n",
    "- I like to generate insights, do forecasts and analyze causalities\n",
    "- I like mathematics and solving problems"
   ]
  },
  {
   "cell_type": "markdown",
   "id": "59f36b6b",
   "metadata": {
    "slideshow": {
     "slide_type": "slide"
    }
   },
   "source": [
    "# How was your internship in the 4th semester?"
   ]
  },
  {
   "cell_type": "markdown",
   "id": "0feee4a3",
   "metadata": {
    "slideshow": {
     "slide_type": "fragment"
    }
   },
   "source": [
    "- 38% Great \n",
    "- 38% Okay\n",
    "- 24% No answer"
   ]
  },
  {
   "cell_type": "markdown",
   "id": "1ceb3e49",
   "metadata": {
    "slideshow": {
     "slide_type": "slide"
    }
   },
   "source": [
    "# What did you learn during your internship in the 4th semester?"
   ]
  },
  {
   "cell_type": "markdown",
   "id": "19fe3e9b",
   "metadata": {
    "slideshow": {
     "slide_type": "fragment"
    }
   },
   "source": [
    "- Did not do the internship.\n",
    "- Sofware development and coding. ETL.\n",
    "- Getting insights. Visualizations.\n",
    "- Communication and working in a team. Powerpoint.\n",
    "- Low-code, e.g., Knime. "
   ]
  },
  {
   "cell_type": "markdown",
   "id": "73cf3ac1",
   "metadata": {
    "slideshow": {
     "slide_type": "slide"
    }
   },
   "source": [
    "# What did you NOT learn during your internship in the 4th semester?"
   ]
  },
  {
   "cell_type": "markdown",
   "id": "d6009d47",
   "metadata": {
    "slideshow": {
     "slide_type": "fragment"
    }
   },
   "source": [
    "- No machine learning. \n",
    "- Structured working. \n",
    "- Improvement of Python skills. "
   ]
  },
  {
   "cell_type": "markdown",
   "id": "ce9c09d2",
   "metadata": {
    "slideshow": {
     "slide_type": "slide"
    }
   },
   "source": [
    "# What do you think is important to be a good data scientist?"
   ]
  },
  {
   "cell_type": "markdown",
   "id": "77d08696",
   "metadata": {
    "slideshow": {
     "slide_type": "fragment"
    }
   },
   "source": [
    "- Frustration tolerance and motivation.\n",
    "- Experience. \n",
    "- Analytical skills and logical thinking.\n",
    "- Good coding skills.\n",
    "- Creativity. \n",
    "- Understanding stakeholders needs.\n",
    "- Good communication. \n",
    "- Domain knowledge. "
   ]
  }
 ],
 "metadata": {
  "celltoolbar": "Slideshow",
  "jupytext": {
   "comment_magics": false
  },
  "kernelspec": {
   "display_name": "Python [conda env:dsc_2022] *",
   "language": "python",
   "name": "conda-env-dsc_2022-py"
  },
  "language_info": {
   "codemirror_mode": {
    "name": "ipython",
    "version": 3
   },
   "file_extension": ".py",
   "mimetype": "text/x-python",
   "name": "python",
   "nbconvert_exporter": "python",
   "pygments_lexer": "ipython3",
   "version": "3.10.6"
  },
  "toc": {
   "base_numbering": 1,
   "nav_menu": {},
   "number_sections": true,
   "sideBar": true,
   "skip_h1_title": false,
   "title_cell": "Table of Contents",
   "title_sidebar": "Contents",
   "toc_cell": false,
   "toc_position": {},
   "toc_section_display": true,
   "toc_window_display": false
  }
 },
 "nbformat": 4,
 "nbformat_minor": 5
}
