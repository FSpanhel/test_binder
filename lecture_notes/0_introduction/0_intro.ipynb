{
 "cells": [
  {
   "cell_type": "code",
   "execution_count": 1,
   "id": "0c195a42",
   "metadata": {
    "active": "ipynb",
    "hide_input": false,
    "slideshow": {
     "slide_type": "notes"
    },
    "tags": [
     "active-ipynb"
    ]
   },
   "outputs": [],
   "source": [
    "from dsc.notebook import embed_website"
   ]
  },
  {
   "cell_type": "markdown",
   "id": "6aa253f2",
   "metadata": {
    "slideshow": {
     "slide_type": "slide"
    }
   },
   "source": [
    "<div align=\"center\" style=\"font-size:70px;\">\n",
    "WELCOME TO THE DATA SCIENCE CHALLENGE!\n",
    "<div/>\n",
    "    \n",
    "<div align=\"left\" style=\"font-size:16px;\">\n",
    "<div/>"
   ]
  },
  {
   "cell_type": "markdown",
   "id": "2bd45782",
   "metadata": {
    "slideshow": {
     "slide_type": "slide"
    }
   },
   "source": [
    "# Agenda\n",
    "- Introduction\n",
    "    - About me\n",
    "    - Information about this course\n",
    "        - Motivation\n",
    "        - Structure & organization\n",
    "        - Examination requirements\n",
    "        - Prerequisites and tools\n",
    "- Data and project presentation\n",
    "    - Data description\n",
    "    - How to access the data\n",
    "    - Project description\n",
    "- Tutorial"
   ]
  },
  {
   "cell_type": "markdown",
   "id": "b3d01514",
   "metadata": {
    "slideshow": {
     "slide_type": "slide"
    }
   },
   "source": [
    "# About me"
   ]
  },
  {
   "cell_type": "markdown",
   "id": "086ebade",
   "metadata": {
    "cell_style": "split",
    "hide_input": false,
    "slideshow": {
     "slide_type": "-"
    }
   },
   "source": [
    "<div align=\"center\">\n",
    "<img src=\"./figures/0_me.png\" alt=\"Dr. Fabian Spanhel\" width=\"500\"/>\n",
    "</div>\n",
    "\n",
    "<div align=\"left\" style=\"font-size:16px;\">\n",
    "<div/>"
   ]
  },
  {
   "cell_type": "markdown",
   "id": "c9bb8fdd",
   "metadata": {
    "cell_style": "split",
    "slideshow": {
     "slide_type": "-"
    }
   },
   "source": [
    "<br>\n",
    "\n",
    "<div align=\"center\" style=\"font-size:40px;\">\n",
    "Dr. Fabian Spanhel\n",
    "<div/>\n",
    "    \n",
    "<div align=\"left\" style=\"font-size:32px;\">\n",
    "<div/>\n",
    "<br>\n",
    "\n",
    "- Studied economics with a focus on econometrics & statistics\n",
    "- PhD in statistics\n",
    "- Since November 2016 working as a Data Scientist at ProSiebenSat.1\n",
    "- Aquarius, [INTJ](https://www.16personalities.com/), likes doing sports\n",
    "- Social media:\n",
    "    - https://www.linkedin.com/in/fspanhel/\n",
    "    - https://vm.tiktok.com/ZMFJFtD7y/"
   ]
  },
  {
   "cell_type": "markdown",
   "id": "c266eefb",
   "metadata": {
    "slideshow": {
     "slide_type": "slide"
    }
   },
   "source": [
    "# Motivation: Is data scientist still the sexiest job of the 21st century?\n",
    "The article titled [\"**Data Scientist: The Sexiest Job of the 21st Century**\"](https://hbr.org/2012/10/data-scientist-the-sexiest-job-of-the-21st-century) published in 2012 is a very popular article that contributed to popularize data science. "
   ]
  },
  {
   "cell_type": "markdown",
   "id": "c172daa8",
   "metadata": {
    "slideshow": {
     "slide_type": "fragment"
    }
   },
   "source": [
    "At this time:\n",
    "\n",
    "- The role data scientist \"was relatively new, but as more companies attempted to make sense of **big data**, \n",
    "they realized they needed people who could **combine programming, analytics, and experimentation skills**.\"\n",
    "- The were assumed be **unicorns** and do all required tasks — from conceptualizing the use case, to \n",
    "interfacing with business and technology stakeholders, to developing the algorithm and deploying it into production.\n",
    "-\"Because there wasn’t yet a well-defined career path for people who could program with and\n",
    "analyze such data, **data scientists had diverse educational backgrounds**.\"\n",
    "- \"Most had **PhDs** in some scientific field, were exceptional at math, and knew how to code. Given the **absence of tools and processes**.\"\n",
    "- To \"perform their roles, they were also good at **experimentation and invention**.\"\n"
   ]
  },
  {
   "cell_type": "markdown",
   "id": "74aff992",
   "metadata": {
    "slideshow": {
     "slide_type": "slide"
    }
   },
   "source": [
    "The article titled [\"**Is Data Scientist Still the Sexiest Job of the 21st Century?**\"](https://hbr.org/2022/07/is-data-scientist-still-the-sexiest-job-of-the-21st-century) is the follow up of the previous mentioned article. \n",
    "\n",
    "- A decade later, **AI is increasingly popular** in business and the job is more in demand than ever.\n",
    "<!-- Nevertheless, there are issues: -->\n",
    "<!--   - Much time of data scientist is spent cleaning and wrangling data. -->\n",
    "<!--    - Many organizations don’t have data-driven cultures and don’t take advantage of the insights provided by data scientists. -->\n",
    "<!--    - Many algorithms are never deployed. -->\n",
    "- Now there are **hundreds of degree programs** in data science or the related fields of analytics and AI.\n",
    "- **No data science unicorns anymore** but there are related jobs to handle many of those tasks, e.g., **machine learning engineers**, **data engineers**, **advanced analytics**, and **data oriented product managers**. \n",
    "-  \"We expect to see **continued differentiation of responsibilities** and\n",
    "    roles that all once fell under the data scientist category\".\n",
    "- **Automated machine learning** might dim the demand of data scientists who primarily do model fitting for prediction.\n",
    "- **MLOps** (Machine learning operations) which establishes best practices and tools to facilitate development and operationalization of AI becomes more important.\n",
    "- \"Most importantly, data scientists must contribute towards appropriate collection\n",
    "of data, responsible analysis, and **translating business issues and requirements into fully-deployed models**, and successful business outcomes\"."
   ]
  },
  {
   "cell_type": "markdown",
   "id": "f3eb58f3",
   "metadata": {
    "slideshow": {
     "slide_type": "slide"
    }
   },
   "source": [
    "<img src=\"./figures/0_hierarchy.png\" alt=\"The Data Science Hierarchy of Needs\" width=\"1200\"/>\n",
    "<br>\n",
    "\n",
    "[Source](https://www.reddit.com/r/datascience/comments/wi2gil/the_data_science_hierarchy_of_needs)"
   ]
  },
  {
   "cell_type": "markdown",
   "id": "d29fdeef",
   "metadata": {
    "slideshow": {
     "slide_type": "slide"
    }
   },
   "source": [
    "# Course objectives\n",
    "- Learn something for your professional life\n",
    "- Learn some the basics of **writing good code which is suitable for production** and usable by ml engineers \n",
    "- Learn tools and methods to **conduct reproducible data science experiments and to collaborate in a team**\n",
    "- Learn how to model data where the **time dimension** is important\n",
    "- Consolidate what you have learned through a **collaborative practice project**\n"
   ]
  },
  {
   "cell_type": "markdown",
   "id": "58d32592",
   "metadata": {
    "slideshow": {
     "slide_type": "slide"
    }
   },
   "source": [
    "# Structure of this course\n",
    "\n"
   ]
  },
  {
   "cell_type": "markdown",
   "id": "1143e90e",
   "metadata": {
    "slideshow": {
     "slide_type": "-"
    }
   },
   "source": [
    "## First part\n",
    "- The **first part** of this course, **which lasts until November 24**, consists of **prepared lectures**\n",
    "with notes and tasks that you can tackle in the tutorials.\n",
    "- We will cover \n",
    "  - Version control\n",
    "  - Setting up a Python project\n",
    "  - Good coding habits\n",
    "  - Project management and collaborative coding\n",
    "  - ...\n",
    "  - Model tracking with Mlflow and deployment\n",
    "- The first part is designed to prepare you to successfully master your following **project challenges**.\n",
    "- It is expected that you **have a detailed look at the topics that we discuss in the first part before the second part starts**. Otherwise, you might run out of time in the second part!\n",
    "- Moreover, I recommend that every student uses the first part to **familiarize themselves with the data** for the projects so that they can make an informed decision about their project preferences in the second part.\n"
   ]
  },
  {
   "cell_type": "markdown",
   "id": "e21ba2d4",
   "metadata": {
    "slideshow": {
     "slide_type": "slide"
    }
   },
   "source": [
    "## Second part\n",
    "- In the **second part**, **starting from November 25**, there will be no prepared lectures or task and you will be **working on your project challenge**  during the lecture and tutorial.\n",
    "- You can **choose your project from 3 main [projects]**.\n",
    "- Each project should be worked on by about **4 people**. \n",
    "- Each student has to submit his/her preference for the projects in November by no later than **Wednesday, November 23, 2022**.\n",
    "- For this purpose, write an eMail to spanhel@hm.edu with the subject 'dsc project preference' which includes your full name and an enumerated list containing the numbers of **all** [projects] that is **sorted by your preference**.\n",
    "- Each student will then be assigned to a project by considering his/her preferences by no later than **Friday, November 25, 2022**. \n",
    "  - If there is more than one group for a project, the assignment of students to a group will be random.\n",
    "[projects]: 1_data_and_projects.ipynb#Projects"
   ]
  },
  {
   "cell_type": "markdown",
   "id": "a504303a",
   "metadata": {
    "slideshow": {
     "slide_type": "slide"
    }
   },
   "source": [
    "- I will support you during the second part by **answering questions and providing suggestions** during the lecture and tutorial.\n",
    "- Moreover, I will have a look at your code and **approve merge requests** for the main\n",
    "branch of your project.\n",
    "- I **highly recommend** that we discuss your work on the following topics on the following dates\n",
    "    - December 2: Setup, data import and basic feature building.\n",
    "    - December 9: Setting up cross-validation for a benchmark model and estimating the prediction error.\n",
    "    - December 16: Optimization of feature creation, model fitting, and cross-validation.\n",
    "    - December 23: Code modularization and creation of scripts.\n",
    "    - January 13: Final discussion on open points.\n",
    "- I also recommend that **you have already worked on the topics** that we discuss on a date so that I can provide feedback and suggest further steps. This way you can get the most out of it.\n",
    "- Therefore, you should start your project work from November 25, 2022. \n",
    "- I will be able to talk to each group for at least (90 * 2) / [number of groups] minutes during the lecture/tutorial. If a group requires less time, the available time for other groups will increase correspondingly. "
   ]
  },
  {
   "cell_type": "markdown",
   "id": "97ef2bfb",
   "metadata": {
    "slideshow": {
     "slide_type": "slide"
    }
   },
   "source": [
    "# Examination requirements: ModA(0,6) + Präs(0,4)\n",
    "\n",
    "In order to be graded, you have to \n",
    "1. **Submit your project code** \n",
    "2. **Give a presentation** about your project."
   ]
  },
  {
   "cell_type": "markdown",
   "id": "c2e0abd4",
   "metadata": {
    "slideshow": {
     "slide_type": "slide"
    }
   },
   "source": [
    "## Code submission\n",
    "- Before you project starts, you will be provided with a remote Git repo hosted on GitLab with the two branchens `main` and `submission`.\n",
    "- The code of your collaborative project must be submitted <span style=\"color:red\">**before (!)**</span> **Sunday, January 15th, 2023**.\n",
    "- **Submitted means** that at 2023-01-15 00:00:00 an attempt will be made to merge all active merge requests whose target branch is `submission`.\n",
    "- Your project will then be evaluated on the state of the `submission` branch after this attempt has been made.\n",
    "- Note that merge requests that cannot be merged will not be considered and you as a team are responsible for ensuring that I can run your code.\n",
    "- **The code submission should contain the following four components**:  \n",
    "  1. **Notebooks** with exploratory analyses or findings.\n",
    "  2. A **Python package** with functions and classes which are used in the notebooks and the scripts\n",
    "  3. A **script for training a model** that can be called from the command line which    \n",
    "      1. Loads a provided dataset\n",
    "      2. Engineers the features\n",
    "      3. Trains a model\n",
    "      4. Stores the model, e.g., with Mlflow\n",
    "  4. A **script for predicting data** that can be called from the command line which \n",
    "      1. Loads a model, e.g., by taking a registered model in Mlflow.\n",
    "      2. Predicts data on the basis of the provided dataset\n",
    "      3. Writes the predicted data to a file   "
   ]
  },
  {
   "cell_type": "markdown",
   "id": "515d68a1",
   "metadata": {
    "slideshow": {
     "slide_type": "slide"
    }
   },
   "source": [
    "## Code Grading\n",
    "- **The grading of the code submission focusses on the following points**:\n",
    "  - How was your **organization** as a team? \n",
    "    - Did you communicate well and approach the challenge in a structured way?\n",
    "    - How did you use GitLab and Git to organizate your tasks and document your working steps? For instance, did you create good issues and merge requests?\n",
    "  - To what extent did you **address the challenges of the project**? \n",
    "  - How is the **overall code structure**?\n",
    "    - How long do I need to understand what you have done?\n",
    "    - Is it pleasant or rather akward to work with your code?\n",
    "  - Did you apply **best practices** that we discussed in this course, e.g.,\n",
    "    - Usage of reproducible virtual environments.\n",
    "    - Version control (Source code and data).\n",
    "    - Setting up a Python project (Folder structure, documentation, prototying in notebooks, structuring library code into modules and packages).\n",
    "    - Readable code (PEP8 compliant, modularized and understandable, no [spaghetti code](https://en.wikipedia.org/wiki/Spaghetti_code)).\n",
    "    - The best practices that I suggest are suggestions. You are free to apply other/additional best practices. \n",
    "  - Is the **code functional**?\n",
    "    - Can the model be trained on new data?\n",
    "    - Can the model use new data for predictions?\n",
    "    - Are there some rather obvious problems with your code? For instance, does it break when I want to change an input that should be modifiable?\n",
    "  - Is the training of your model and the estimation of its prediction performance **methodologically sound**? \n",
    "    - How well does your cross validation mimic the use case? \n",
    "    - Did you consider relevant features?\n",
    "    - It is not important that your model generates top notch predictions. Keep it simple.\n",
    "- The grading for a student takes its **individual performance and the team performance** into account.\n",
    "  - To measure the individual performance, I consider his/her participation in the project work during the lecture and tutorial, his/her code commits/PRs and the quality of his/her written GitLab issues."
   ]
  },
  {
   "cell_type": "markdown",
   "id": "5807df41",
   "metadata": {
    "slideshow": {
     "slide_type": "slide"
    }
   },
   "source": [
    "## Presentation\n",
    "- The presentations will take place on **Friday, January 20th, 2023,** in room R2.012 from **15:00-19:00**.\n",
    "- Each group presents their work (task, approach, repo overview, problems, findings, results).\n",
    "- **Each member of a group presents for about 10 minutes** and will be graded individually.\n",
    "- You must attend every presentation, not just your own."
   ]
  },
  {
   "cell_type": "markdown",
   "id": "a67cdad9",
   "metadata": {
    "slideshow": {
     "slide_type": "slide"
    }
   },
   "source": [
    "# Organization\n",
    "- The Git repository `https://gitlab.lrz.de/fspanhel/dsc`\n",
    "    - Information about the repo, e.g., how to clone it and setup the environment can be found in [README.md](../../README.md).\n",
    "    - The file [COURSE.md](../../COURSE.md) is the **central source of information** for this course.\n",
    "        - Organizational updates in the repo will be mentioned in this file.\n",
    "        - It will be updated regularly.\n",
    "    - Material for the lecture and the tutorial will be provided at [/lecture notes](../lecture_notes).\n",
    "- Data\n",
    "    - Click [here](https://syncandshare.lrz.de/getlink/fiVWchss6RorJVL3LDR47D/dsc.db) to download the first version of the database that we use in this course.\n",
    "    - I recommend to save the database as data/dsc.db in this project (meaning that the parent folder of data is the root of this Git repo)\n",
    "- Contact\n",
    "    - You can always write an eMail to spanhel@hm.edu\n",
    "    - However, I won't check my eMails on a daily basis and may need some time to respond...\n",
    "- Office hours\n",
    "    - I don't have a regular office hour.\n",
    "    - Just write me an eMail if you want to have a more detailed discussion before/after the lecture starts/tutorial ends.\n",
    "- Moodle\n",
    "    - Do we need a moodle course? \n",
    "    "
   ]
  },
  {
   "cell_type": "markdown",
   "id": "9e9a5132",
   "metadata": {
    "slideshow": {
     "slide_type": "slide"
    }
   },
   "source": [
    "# Prerequisites\n",
    "Basic knowledge of \n",
    "- Unix shell, e.g., bash or zsh\n",
    "    - You should know the commands ```pwd, cd, ls, cp, mv``` and now how to access files and directories using ```.., .```\n",
    "- Python3 (basic built-ins, pandas, scikitlearn)\n",
    "- Juypter notebooks\n",
    "    - Starting a notebook from the terminal and viewing it with a browser\n",
    "    - Command/Edit mode. Code and markdown cells.\n",
    "- Git    \n",
    "    - Adding and committing changes to Git\n",
    "    - Working with remotes, e.g., the difference between fetch and pull\n",
    "    - Working with branches, e.g., checkout branches and merging\n",
    "    - See [Git resources](COURSE.md) for brushing up your Git skills\n",
    "- Sql (simple queries with filters and joins)\n",
    "\n",
    "and\n",
    "a basic understanding of statics and machine learning (e.g., linear regression, boosting, trees...)."
   ]
  },
  {
   "cell_type": "markdown",
   "id": "269a865f",
   "metadata": {
    "slideshow": {
     "slide_type": "slide"
    }
   },
   "source": [
    "# Software and Tools"
   ]
  },
  {
   "cell_type": "markdown",
   "id": "7c2efd37",
   "metadata": {
    "slideshow": {
     "slide_type": "-"
    }
   },
   "source": [
    "Click [here](https://davidadrian.cc/definitive-data-scientist-setup/) for general setup recommendations.\n",
    "\n",
    "- For coding, I use a **linux** distribution as **operating systems** via WSL on windows.\n",
    "    - Using MacOS should be no problem\n",
    "    - Using Windows should also be no problem if you can emulate a unix shell like bash, e.g., [WSL] or [Git For Windows](https://gitforwindows.org/)\n",
    "        - I highly recommend to use [WSL]. \n",
    "        - You can easily access [WSL] via [VSCode] using the [remote extension](https://marketplace.visualstudio.com/items?itemName=ms-vscode-remote.vscode-remote-extensionpack). \n",
    "        - Click [here](https://code.visualstudio.com/docs/remote/remote-overview) for more information.\n",
    "- We will be using **Python3** for data manipulation and data modeling.\n",
    "- [**Jupyter notebooks**](https://jupyter.org/) (in combination with [RISE](https://rise.readthedocs.io/en/stable/)) will be used for presenting the lecture notes\n",
    "- I use [VSCode] for coding but you can use any IDE (e.g., [PyCharm](https://www.jetbrains.com/de-de/pycharm/)) you want.\n",
    "    - If you want to use VSCode without tracking check these [free release binaries](https://github.com/VSCodium/vscodium/blob/master/README.md#supported-os)\n",
    "    - The following VSCode extensions are useful for this course:\n",
    "        - Python\n",
    "        - Pylance\n",
    "        - GitLens\n",
    "        - GitGraph\n",
    "\n",
    "[WSL]: (https://learn.microsoft.com/en-us/windows/wsl/install)\n",
    "[VSCode]: (https://code.visualstudio.com/)"
   ]
  },
  {
   "cell_type": "markdown",
   "id": "65851744",
   "metadata": {
    "slideshow": {
     "slide_type": "slide"
    }
   },
   "source": [
    "**Sofware and Tools Cont'd**:\n",
    "    \n",
    "- We will be using [**conda**](https://docs.conda.io/en/latest/miniconda.html) (or [mamba](https://github.com/mamba-org/mamba)) for package and environment management\n",
    "- We will be using **Git**, [**DVC**](https://dvc.org/) and **Gitlab** for version control\n",
    "- Gitlab will be used for collaboration and project management\n",
    "- We will be using [**DBeaver**](https://dbeaver.com/edition/) as SQL client software -> **please download DBeaver now!**\n",
    "- We will be using [**Google Drive**](https://www.google.com/intl/de/drive/) or [**LRZ Sync+Share**](https://www.rz.hm.edu/studierende_4/lrz_sync___share_1/index.de.html) for remote data storage. For each project there will be one remote data storage.\n",
    "- For **instant-messaging** you could use [**RocketChat**](https://de.rocket.chat/), [**Slack**](https://slack.com/intl/de-de/) or alternatives...\n",
    "- It's also helpful to have the command 'tree' available in your shell of choice.\n",
    "\n",
    "**Please make sure that the software runs on your computer!**"
   ]
  },
  {
   "cell_type": "markdown",
   "id": "564a29ea",
   "metadata": {},
   "source": [
    "# Setting up the repo"
   ]
  },
  {
   "cell_type": "markdown",
   "id": "92b0c5f8",
   "metadata": {},
   "source": [
    "## Cloning\n",
    "- To copy this remote repository to a local repository you need [Git] which should already be installed if you are using a unix-based OS. \n",
    "\n",
    "- If your OS is Windows you can use [WSL] or [Git For Windows]. \n",
    "    - I highly recommend to use [WSL]. \n",
    "    - You can easily access [WSL] via [VSCode] using the [remote extension](https://marketplace.visualstudio.com/items?itemName=ms-vscode-remote.vscode-remote-extensionpack). \n",
    "    - Click [here](https://code.visualstudio.com/docs/remote/remote-overview) for more information.\n",
    "\n",
    "- To clone the repo with SSH, run the following command in the terminal.\n",
    "\n",
    "    ```\n",
    "    git clone git@gitlab.lrz.de:fspanhel/dsc.git\n",
    "    ```\n",
    "\n",
    "- Clike [here](https://docs.gitlab.com/ee/user/ssh.html) how to use SSH keys to communicate with GitLab.\n",
    "\n",
    "- Alternatively, you can clone with HTTPS using\n",
    "\n",
    "    ```\n",
    "    git clone https://gitlab.lrz.de/fspanhel/dsc.git\n",
    "    ```\n",
    "[Git]: https://git-scm.com/\n",
    "[Git for Windows]: https://gitforwindows.org/\n",
    "[WSL]: https://learn.microsoft.com/en-us/windows/wsl/install\n",
    "[VSCode]: https://code.visualstudio.com/"
   ]
  },
  {
   "cell_type": "markdown",
   "id": "d16bf86e",
   "metadata": {
    "slideshow": {
     "slide_type": "slide"
    }
   },
   "source": [
    "## Setting up the environment"
   ]
  },
  {
   "cell_type": "markdown",
   "id": "30a09c3e",
   "metadata": {
    "slideshow": {
     "slide_type": "slide"
    }
   },
   "source": [
    "In order to set up the necessary environment you need [(mini)conda](https://docs.conda.io/en/latest/miniconda.html) (or [mamba]).\n",
    "\n",
    "### Installing miniconda on linux\n",
    "- Run\n",
    "```wget https://repo.anaconda.com/miniconda/Miniconda3-latest-Linux-x86_64.sh``` in the terminal to download miniconda.\n",
    "- Run ```bash Miniconda3-latest-Linux-x86_64.sh``` to install miniconda. Press space to scroll down when you read the terms and agree to them by typing 'yes'.\n",
    "- Close the terminal or run ```source ~/.bashrc```.\n",
    "- You should now be able to activate conda by typing ```conda activate```.\n",
    "- If not, try ```conda init''' and then ```conda activate``` again.\n",
    "[mamba]: https://github.com/mamba-org/mamba"
   ]
  },
  {
   "cell_type": "markdown",
   "id": "b1d67496",
   "metadata": {
    "slideshow": {
     "slide_type": "slide"
    }
   },
   "source": [
    "## Creating the environment\n",
    "- From the root directory of the cloned git repo, you can create the 'dsc' environment by running  ```conda env create -f environment.yml``` in the terminal.\n",
    "- Setting up the environment takes a while (mamba is much faster).\n",
    "- You can activate the environment using ```conda activate dsc```.  \n",
    "\n",
    "- You should always activate the environment when you are working with this Git repo.\n",
    "- If you are using VS Code you can find [here](https://code.visualstudio.com/docs/python/environments#_work-with-python-interpreters) instructions how to automatically activate the environment when you open the `dsc` folder with VS Code."
   ]
  },
  {
   "cell_type": "markdown",
   "id": "ff7069de",
   "metadata": {
    "slideshow": {
     "slide_type": "slide"
    }
   },
   "source": [
    "## Starting notebook servers\n",
    "In the terminal, run ```jupyter notebook``` to start a notebook server which can be accessed via a browser.\n",
    "- To set the notebook extensions, run ```python3 -m dsc.notebook``` in the terminal. \n",
    "  - If ~/.jupyter/nbconfig/notebook.json exists already, please edit ~/.jupyter/nbconfig/notebook.json by considering nbconfig.json accordingly.\n",
    "  - Note that the notebook extensions are only considered the next time you launch a Juypter notebook server.\n",
    "- To present notebooks located in /lecture_notes as slides press alt + r (on Windows). You might need to zoom out so that everything is visible on a slide. "
   ]
  },
  {
   "cell_type": "markdown",
   "id": "9960c349",
   "metadata": {
    "slideshow": {
     "slide_type": "slide"
    }
   },
   "source": [
    "# Ask questions and share impressions\n",
    "You can ask questions verbally at any time directly in this course. \n",
    "\n",
    "In addition, you can use an **interactive room** provided by https://particify.de/ to\n",
    "- Ask and upvote questions -> Q & A.\n",
    "- Give live feedback.\n",
    "- Answer questions that help me set priorities for the course and get to know you better.\n",
    "\n",
    "From the next week on, I will be posting the link to the corresponding interactive room at the beginning ot the lecture.\n",
    "\n",
    "At the **beginning of each exercise**, I will **unlock questions that relate to the following week's material**."
   ]
  },
  {
   "cell_type": "markdown",
   "id": "0adf8a5f",
   "metadata": {
    "slideshow": {
     "slide_type": "slide"
    }
   },
   "source": [
    "Today is the exception and we start with some general questions that are already unlocked.\n",
    "\n",
    "Please use https://partici.fi/83687465, or scan the QR code below, to join the interactive room."
   ]
  },
  {
   "cell_type": "markdown",
   "id": "e597fc93",
   "metadata": {
    "slideshow": {
     "slide_type": "-"
    }
   },
   "source": [
    "<div align=\"center\">\n",
    "<img src=\"./figures/0_p.png\" alt=\"drawing\" width=\"1200\"/>\n",
    "</div>\n",
    "\n",
    "<div align=\"left\" style=\"font-size:16px;\">\n",
    "<div/>"
   ]
  }
 ],
 "metadata": {
  "celltoolbar": "Slideshow",
  "jupytext": {
   "comment_magics": false
  },
  "kernelspec": {
   "display_name": "Python [conda env:dsc_2022]",
   "language": "python",
   "name": "conda-env-dsc_2022-py"
  },
  "language_info": {
   "codemirror_mode": {
    "name": "ipython",
    "version": 3
   },
   "file_extension": ".py",
   "mimetype": "text/x-python",
   "name": "python",
   "nbconvert_exporter": "python",
   "pygments_lexer": "ipython3",
   "version": "3.10.8"
  },
  "rise": {
   "footer": "<h3>Dr. Fabian Spanhel</h3>",
   "header": "<h3>DSC: 0.0 INTRO</h3>"
  },
  "toc": {
   "base_numbering": 1,
   "nav_menu": {},
   "number_sections": true,
   "sideBar": true,
   "skip_h1_title": false,
   "title_cell": "Table of Contents",
   "title_sidebar": "Contents",
   "toc_cell": false,
   "toc_position": {
    "height": "calc(100% - 180px)",
    "left": "10px",
    "top": "150px",
    "width": "384px"
   },
   "toc_section_display": true,
   "toc_window_display": false
  }
 },
 "nbformat": 4,
 "nbformat_minor": 5
}
