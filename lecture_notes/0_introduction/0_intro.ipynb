{
 "cells": [
  {
   "cell_type": "code",
   "execution_count": 4,
   "id": "936c097b",
   "metadata": {
    "slideshow": {
     "slide_type": "skip"
    }
   },
   "outputs": [],
   "source": [
    "from dsc.notebook import set_wd\n",
    "\n",
    "set_wd()"
   ]
  },
  {
   "cell_type": "markdown",
   "id": "6aa253f2",
   "metadata": {
    "slideshow": {
     "slide_type": "slide"
    }
   },
   "source": [
    "<div align=\"center\" style=\"font-size:70px;\">\n",
    "WELCOME TO THE DATA SCIENCE CHALLENGE!\n",
    "<div/>\n",
    "    \n",
    "<div align=\"left\" style=\"font-size:16px;\">\n",
    "<div/>"
   ]
  },
  {
   "cell_type": "markdown",
   "id": "2bd45782",
   "metadata": {
    "slideshow": {
     "slide_type": "slide"
    }
   },
   "source": [
    "# Agenda\n",
    "- Introduction\n",
    "    - About me\n",
    "    - Information about this course\n",
    "        - Motivation\n",
    "        - Structure & organization\n",
    "        - Examination requirements\n",
    "        - Prerequisites and tools\n",
    "- Data and project presentation\n",
    "    - Data description\n",
    "    - How to access the data\n",
    "    - Project description\n",
    "- Tutorial"
   ]
  },
  {
   "cell_type": "markdown",
   "id": "b3d01514",
   "metadata": {
    "slideshow": {
     "slide_type": "slide"
    }
   },
   "source": [
    "# About me"
   ]
  },
  {
   "cell_type": "markdown",
   "id": "c9bb8fdd",
   "metadata": {
    "cell_style": "center",
    "slideshow": {
     "slide_type": "-"
    }
   },
   "source": [
    "<br>\n",
    "\n",
    "<div style=\"font-size:40px;\">\n",
    "Dr. Fabian Spanhel\n",
    "<div/>\n",
    "    \n",
    "<div align=\"left\" style=\"font-size:32px;\">\n",
    "<div/>\n",
    "<br>\n",
    "\n",
    "- Studied economics with a focus on econometrics & statistics\n",
    "- PhD in statistics\n",
    "- Since November 2016 working as a Data Scientist at ProSiebenSat.1\n",
    "- Aquarius, [INTJ](https://www.16personalities.com/), likes doing sports\n",
    "- Social media:\n",
    "    - https://www.linkedin.com/in/fspanhel/\n",
    "    - https://vm.tiktok.com/ZMFJFtD7y/"
   ]
  },
  {
   "cell_type": "markdown",
   "id": "c266eefb",
   "metadata": {
    "slideshow": {
     "slide_type": "slide"
    }
   },
   "source": [
    "# Motivation: Is data scientist still the sexiest job of the 21st century?\n",
    "The article titled [\"**Data Scientist: The Sexiest Job of the 21st Century**\"](https://hbr.org/2012/10/data-scientist-the-sexiest-job-of-the-21st-century) published in 2012 is a very popular article that contributed to popularize data science. "
   ]
  },
  {
   "cell_type": "markdown",
   "id": "c172daa8",
   "metadata": {
    "slideshow": {
     "slide_type": "fragment"
    }
   },
   "source": [
    "At this time:\n",
    "\n",
    "- The role data scientist \"was relatively new, but as more companies attempted to make sense of **big data**, \n",
    "they realized they needed people who could **combine programming, analytics, and experimentation skills**.\"\n",
    "- The were assumed be **unicorns** and do all required tasks — from conceptualizing the use case, to \n",
    "interfacing with business and technology stakeholders, to developing the algorithm and deploying it into production.\n",
    "-\"Because there wasn’t yet a well-defined career path for people who could program with and\n",
    "analyze such data, **data scientists had diverse educational backgrounds**.\"\n",
    "- \"Most had **PhDs** in some scientific field, were exceptional at math, and knew how to code. Given the **absence of tools and processes**.\"\n",
    "- To \"perform their roles, they were also good at **experimentation and invention**.\"\n"
   ]
  },
  {
   "cell_type": "markdown",
   "id": "74aff992",
   "metadata": {
    "slideshow": {
     "slide_type": "slide"
    }
   },
   "source": [
    "The article titled [\"**Is Data Scientist Still the Sexiest Job of the 21st Century?**\"](https://hbr.org/2022/07/is-data-scientist-still-the-sexiest-job-of-the-21st-century) is the follow up of the previous mentioned article. \n",
    "\n",
    "- A decade later, **AI is increasingly popular** in business and the job is more in demand than ever.\n",
    "<!-- Nevertheless, there are issues: -->\n",
    "<!--   - Much time of data scientist is spent cleaning and wrangling data. -->\n",
    "<!--    - Many organizations don’t have data-driven cultures and don’t take advantage of the insights provided by data scientists. -->\n",
    "<!--    - Many algorithms are never deployed. -->\n",
    "- Now there are **hundreds of degree programs** in data science or the related fields of analytics and AI.\n",
    "- **No data science unicorns anymore** but there are related jobs to handle many of those tasks, e.g., **machine learning engineers**, **data engineers**, **advanced analytics**, and **data oriented product managers**. \n",
    "-  \"We expect to see **continued differentiation of responsibilities** and\n",
    "    roles that all once fell under the data scientist category\".\n",
    "- **Automated machine learning** might dim the demand of data scientists who primarily do model fitting for prediction.\n",
    "- **MLOps** (Machine learning operations) which establishes best practices and tools to facilitate development and operationalization of AI becomes more important.\n",
    "- \"Most importantly, data scientists must contribute towards appropriate collection\n",
    "of data, responsible analysis, and **translating business issues and requirements into fully-deployed models**, and successful business outcomes\"."
   ]
  },
  {
   "cell_type": "markdown",
   "id": "f3eb58f3",
   "metadata": {
    "slideshow": {
     "slide_type": "slide"
    }
   },
   "source": [
    "<img src=\"./figures/0_hierarchy.png\" alt=\"The Data Science Hierarchy of Needs\" width=\"1200\"/>\n",
    "<br>\n",
    "\n",
    "[Source](https://www.reddit.com/r/datascience/comments/wi2gil/the_data_science_hierarchy_of_needs)"
   ]
  },
  {
   "cell_type": "markdown",
   "id": "d29fdeef",
   "metadata": {
    "slideshow": {
     "slide_type": "slide"
    }
   },
   "source": [
    "# Course objectives\n",
    "Learn something for your (professional) life! &#128515;\n",
    "- Learn some basics of **writing good code which is suitable for production** and usable by ML engineers.\n",
    "- Learn tools and methods to **conduct reproducible data science experiments and to collaborate in a team**.\n",
    "- Consolidate what you have learned through a **collaborative practice project**.\n"
   ]
  },
  {
   "cell_type": "markdown",
   "id": "58d32592",
   "metadata": {
    "slideshow": {
     "slide_type": "slide"
    }
   },
   "source": [
    "# Course outline\n",
    "\n",
    "This course consists of two parts."
   ]
  },
  {
   "cell_type": "markdown",
   "id": "1143e90e",
   "metadata": {
    "slideshow": {
     "slide_type": "slide"
    }
   },
   "source": [
    "## First part\n",
    "- The **first part**, **which is expected to last until November 23**, consists of **prepared lectures**\n",
    "with notes and tasks that you can tackle in the tutorials.\n",
    "- We will cover\n",
    "  - Source code and data version control.\n",
    "  - Setting up and implementing a Python project (Virtual environments, project structure, creating a pip-installable package).\n",
    "  - Good coding habits (Style, type hints, documentation, Git hooks).\n",
    "  - Project management and collaborative coding using Git and GitLab.\n",
    "  - ...\n",
    "  <!-- - Model tracking with MLflow and deployment. -->\n",
    "- The first part is designed to prepare you to successfully master the following **project challenges** in the **second part**.\n",
    "- It is expected that you **become familiar with the topics that we discuss in the first part before the second part starts**. Otherwise, you might run out of time in the second part!\n",
    "- Moreover, I recommend that every student uses the first part to **investigate the data** for the projects so that they can make an informed decision about their project preferences that they tackle in the second part.\n"
   ]
  },
  {
   "cell_type": "markdown",
   "id": "e21ba2d4",
   "metadata": {
    "slideshow": {
     "slide_type": "slide"
    }
   },
   "source": [
    "## Second part\n",
    "- In the **second part**, **expected to start from November 24**, there will be no prepared lectures or tasks and you will be **working on your project challenge**  during the lecture and tutorial.\n",
    "- You can **choose your project from 2 main projects** which are presented [here](1_data_and_projects.ipynb).\n",
    "- Each project should be worked on by about **4 people**. \n",
    "- Each student has to submit his/her preference for the projects by no later than **Wednesday, November, 1**.\n",
    "- For this purpose, write an eMail to spanhel@hm.edu with the subject '**dsc project preference**' which includes\n",
    "    - Your **full name**.\n",
    "    - The **number of your preferred project**.  \n",
    "- Each student will then be assigned to a project by considering his/her preferences by no later than **Friday, November 3, 2022**. \n",
    "  - If there is more than one group for a project, the assignment of students to a group will be random."
   ]
  },
  {
   "cell_type": "markdown",
   "id": "a504303a",
   "metadata": {
    "slideshow": {
     "slide_type": "slide"
    }
   },
   "source": [
    "- I will support you during the second part by **answering questions and providing suggestions** during the lecture and tutorial.\n",
    "- Moreover, I will have a look at your code and **approve merge requests** for the `main`\n",
    "branch of your project.\n",
    "- I **highly recommend** that we discuss your work on the following topics on the following dates\n",
    "    - November 24 and December 1: Setup, data import and basic feature building.\n",
    "    - December 8: Setting up cross-validation for a benchmark model and estimating the prediction error.\n",
    "    - December 15: Optimization of feature creation, model fitting, and cross-validation.\n",
    "    - December 22: Code modularization and creation of scripts.\n",
    "    - January 12: Final discussion of open points.\n",
    "- I also recommend that **you have already worked on the topics** that we discuss on a meeting so that I can provide feedback and suggest further steps. This way you can get the most out of it. \n",
    "- I will be able to talk to each group for at least (90 * 2) / [number of groups] minutes during the lecture/tutorial. If a group requires less time, the available time for other groups will increase correspondingly. "
   ]
  },
  {
   "cell_type": "markdown",
   "id": "97ef2bfb",
   "metadata": {
    "slideshow": {
     "slide_type": "slide"
    }
   },
   "source": [
    "# Examination requirements: ModA(0,6) + Präs(0,4)\n",
    "\n",
    "In order to be graded, you have to \n",
    "1. **Submit your project code**.\n",
    "2. **Give a presentation** about your project."
   ]
  },
  {
   "cell_type": "markdown",
   "id": "c2e0abd4",
   "metadata": {
    "hide_input": false,
    "slideshow": {
     "slide_type": "slide"
    }
   },
   "source": [
    "## Code submission\n",
    "- Before your project starts, you will be provided with a remote Git repo hosted on GitLab with the two branchens `main` and `submission`.\n",
    "- The code of your collaborative project must be submitted <span style=\"color:red\">**before**</span> **Sunday, January 14, 2023**.\n",
    "- **Submitted means** that on 2023-01-14 00:00:00 an attempt will be made to merge all active merge requests whose target branch is `submission`.\n",
    "- Your project will then be evaluated on the state of the `submission` branch after this attempt has been made.\n",
    "- Note that merge requests that cannot be merged will not be considered and you as a team are responsible for ensuring that I can run your code.\n",
    "- **The code submission should contain the following four components**:  \n",
    "  1. **Notebooks** with exploratory analyses or findings.\n",
    "  2. A **Python package** with functions and classes which are used in the notebooks and the scripts\n",
    "  3. A **script for training a model** that can be called from the command line which    \n",
    "      1. Loads a provided dataset\n",
    "      2. Engineers the features\n",
    "      3. Trains a model\n",
    "      4. Stores the model, e.g., with MLflow\n",
    "  4. A **script for predicting data** that can be called from the command line which \n",
    "      1. Loads a model, e.g., by taking a registered model in Mlflow.\n",
    "      2. Predicts data on the basis of the provided dataset\n",
    "      3. Writes the predicted data to a file   "
   ]
  },
  {
   "cell_type": "markdown",
   "id": "515d68a1",
   "metadata": {
    "slideshow": {
     "slide_type": "slide"
    }
   },
   "source": [
    "## Code grading\n",
    "- **The grading of the code submission focusses on the following points**:\n",
    "  - How was your **organization** as a team? \n",
    "    - Did you communicate well and approach the challenge in a structured way?\n",
    "    - How did you use GitLab and Git to organizate your tasks and document your working steps? For instance, did you create good issues and merge requests?\n",
    "  - To what extent did you **address the challenges of the project**? \n",
    "  - How is the **overall code structure**?\n",
    "    - How long do I need to understand what you have done?\n",
    "    - Is it pleasant or rather akward to work with your code?\n",
    "  - Did you apply **best practices** that we discussed in this course, e.g.,\n",
    "    - Usage of reproducible virtual environments.\n",
    "    - Version control (Source code and data).\n",
    "    - Setting up a Python project (Folder structure, documentation, prototying in notebooks, structuring library code into modules and packages).\n",
    "    - Readable code (PEP8 compliant, modularized and understandable, no [spaghetti code](https://en.wikipedia.org/wiki/Spaghetti_code)).\n",
    "    - The best practices that I suggest are suggestions. You are free to apply other/additional best practices. \n",
    "  - Is the **code functional**?\n",
    "    - Can the model be trained on new data?\n",
    "    - Can the model use new data for predictions?\n",
    "    - Are there some rather obvious problems with your code? For instance, does it break when I want to change an input that should be modifiable?\n",
    "  - Is the training of your model and the estimation of its prediction performance **methodologically sound**? \n",
    "    - How well does your cross validation mimic the use case? \n",
    "    - Did you consider relevant features?\n",
    "    - It is not important that your model generates top notch predictions. Keep it simple.\n",
    "- The grading for a student takes its **individual performance and the team performance** equally into account.\n",
    "  - To measure the individual performance, I consider his/her participation in the project work during the lecture and tutorial, his/her code commits/MRs and the quality of his/her written GitLab issues."
   ]
  },
  {
   "cell_type": "markdown",
   "id": "5807df41",
   "metadata": {
    "slideshow": {
     "slide_type": "slide"
    }
   },
   "source": [
    "## Presentation\n",
    "- The presentations will take place on **Friday, January 19, 2023,** in room R2.012 from **15:00-19:00**.\n",
    "- Each group presents their work (Task, approach, repo overview, problems, findings, results).\n",
    "- **Each member of a group presents for about 10 minutes** and will be graded individually.\n",
    "- You must attend every presentation, not just your own."
   ]
  },
  {
   "cell_type": "markdown",
   "id": "a67cdad9",
   "metadata": {
    "slideshow": {
     "slide_type": "slide"
    }
   },
   "source": [
    "# Organization\n",
    "## The GitLab course project\n",
    "\n",
    "- All materials for this course are provided by the GitLab project https://gitlab.lrz.de/dsc/2023/course.\n",
    "- Information about the Git repo, e.g., how to clone it and setup the environment can be found in [README.md](../../README.md).\n",
    "- The file [COURSE.md](../../COURSE.md) contains information about this course that is also covered in this notebook.\n",
    "- Material for the lecture and the tutorial is provided in the folder [lecture notes](../lecture_notes) and will be updated regularly.\n",
    "    "
   ]
  },
  {
   "cell_type": "markdown",
   "id": "3c2d5fa4",
   "metadata": {
    "slideshow": {
     "slide_type": "slide"
    }
   },
   "source": [
    "## The GitLab playground project\n",
    "- The GitLab project https://gitlab.lrz.de/dsc/2023/playground can be used to explore concepts related to Git remotes and GitLab.\n",
    "## Contact and office hours\n",
    "- Contact\n",
    "    - You can always write an eMail to spanhel@hm.edu\n",
    "    - However, I won't check my eMails on a daily basis and may need some time to respond.\n",
    "- Office hours\n",
    "    - I don't have a regular office hour.\n",
    "    - Just write me an eMail if you want to have a discussion before/after the lecture starts/tutorial ends."
   ]
  },
  {
   "cell_type": "markdown",
   "id": "9e9a5132",
   "metadata": {
    "slideshow": {
     "slide_type": "slide"
    }
   },
   "source": [
    "# Prerequisites\n",
    "Basic knowledge of \n",
    "- Unix shell, e.g., bash or zsh.\n",
    "    - You should know the commands ```pwd, cd, ls, cp, mv``` and now how to access files and directories using ```.., .```\n",
    "- Python3 and standard data science packages like pandas or scikitlearn.\n",
    "- Juypter notebooks\n",
    "    - Start a notebook from the terminal and viewing it with a browser.\n",
    "    - Command/Edit mode.\n",
    "    - Code and markdown cells.\n",
    "- Git    \n",
    "    - Adding and committing changes to Git.\n",
    "    - Working with remotes, e.g., the difference between fetch and pull.\n",
    "    - Working with branches, e.g., checkout branches and merging.\n",
    "    - See [Git resources](COURSE.md) for brushing up your Git skills.\n",
    "- SQL: Simple queries with filters and joins\n",
    "\n",
    "And a basic understanding of statics and machine learning (e.g., linear regression, boosting, trees...)."
   ]
  },
  {
   "cell_type": "markdown",
   "id": "269a865f",
   "metadata": {
    "slideshow": {
     "slide_type": "slide"
    }
   },
   "source": [
    "# Software and Tools"
   ]
  },
  {
   "cell_type": "markdown",
   "id": "7c2efd37",
   "metadata": {
    "slideshow": {
     "slide_type": "-"
    }
   },
   "source": [
    "Click [here](https://davidadrian.cc/definitive-data-scientist-setup/) for general setup recommendations.\n",
    "\n",
    "- I use [VSCode] as IDE and recommend to use this IDE for this course.\n",
    "- For coding, I use a **Linux** distribution as **environment** via WSL on windows.\n",
    "    - If you have a unix-based operating system, like Linux or MacOS you should be fine.\n",
    "    - On Windows you should you use the Windows Subsystem for Linux ([WSL]) to run a Linux environment.\n",
    "        - Otherwise, it might happen that some code of this repo does not run.\n",
    "    - You can easily access [WSL] via [VSCode] using the [remote extension](https://marketplace.visualstudio.com/items?itemName=ms-vscode-remote.vscode-remote-extensionpack). Click [here](https://code.visualstudio.com/docs/remote/remote-overview) for more information.\n",
    "- We will be using **Python3** for data manipulation and data modeling.\n",
    "- [**Jupyter notebooks**](https://jupyter.org/) (in combination with [RISE](https://rise.readthedocs.io/en/stable/)) will be used for presenting the lecture notes.\n",
    "\n",
    "\n",
    "[WSL]: https://learn.microsoft.com/en-us/windows/wsl/install\n",
    "[VSCode]: https://code.visualstudio.com/"
   ]
  },
  {
   "cell_type": "markdown",
   "id": "65851744",
   "metadata": {
    "slideshow": {
     "slide_type": "slide"
    }
   },
   "source": [
    "**Sofware and Tools Cont'd**:\n",
    "    \n",
    "- We use [**conda**](https://docs.conda.io/en/latest/miniconda.html)/[**mamba**](https://github.com/mamba-org/mamba) for package and environment management.\n",
    "- We use **Git**, [**DVC**](https://dvc.org/) and **Gitlab** for version control.\n",
    "- Gitlab will be used for collaboration and project management.\n",
    "- We use [**DBeaver Community**](https://dbeaver.io/download/) as SQL client software.\n",
    "- We use [**Google Drive**](https://www.google.com/intl/de/drive/) for remote data storage. <!-- or [**LRZ Sync+Share**](https://www.rz.hm.edu/studierende_4/lrz_sync___share_1/index.de.html) -->\n",
    "- It's also helpful to have the command 'tree' available in your shell of choice.\n",
    "\n",
    "The installation of all tools is documented in the following chapter.\n",
    "\n",
    "**Please make sure that the software runs on your computer!**"
   ]
  },
  {
   "cell_type": "markdown",
   "id": "3a217cae",
   "metadata": {
    "slideshow": {
     "slide_type": "slide"
    }
   },
   "source": [
    "# Setting up the software"
   ]
  },
  {
   "cell_type": "markdown",
   "id": "c252d5d3",
   "metadata": {
    "slideshow": {
     "slide_type": "slide"
    }
   },
   "source": [
    "## DBeaver\n",
    "Download and install [DBeaver Community](https://dbeaver.io/download/).\n",
    "\n",
    "## Install WSL on Windows\n",
    "If your OS is Windows, please follow the instructions [here](https://learn.microsoft.com/en-us/windows/wsl/install) to install WSL."
   ]
  },
  {
   "cell_type": "markdown",
   "id": "1a3ba89a",
   "metadata": {
    "slideshow": {
     "slide_type": "slide"
    }
   },
   "source": [
    "## Install VSCode\n",
    "Download the official release of VSCode for your OS [here](https://code.visualstudio.com/) or use the [free release binaries](https://github.com/VSCodium/vscodium/blob/master/README.md#supported-os).\n",
    "\n",
    "\n",
    "### Install VS Code extensions\n",
    "#### Windows-only extensions\n",
    "- If you are using WSL, please install the [WSL](https://marketplace.visualstudio.com/items?itemName=ms-vscode-remote.remote-wsl)\n",
    "extension.\n",
    "- After it has been installed, connect to WSL via VSCode by opening the command palette [Ctrl+Shift+P] and enter \"WSL: Connect to WSL\" and click on it. \n",
    "- In the following, **always connect to WSL** if you are working with VS Code on Windows!\n",
    "\n",
    "#### General extensions\n",
    "Please install the following extensions\n",
    "- [Python](https://marketplace.visualstudio.com/items?itemName=ms-python.python)\n",
    "- [GitGraph](https://marketplace.visualstudio.com/items?itemName=mhutchie.git-graph)\n",
    "\n"
   ]
  },
  {
   "cell_type": "markdown",
   "id": "f12cf4f6",
   "metadata": {
    "slideshow": {
     "slide_type": "slide"
    }
   },
   "source": [
    "#### Optional extensions\n",
    "You can can also install these optional extensions\n",
    "- [Pylance](https://marketplace.visualstudio.com/items?itemName=ms-python.vscode-pylance)\n",
    "- [Ruff](https://marketplace.visualstudio.com/items?itemName=charliermarsh.ruff)\n",
    "\n",
    "#### Short VSCode intro\n",
    "- The sidebar (by default on the left hand side) contains shortcuts to the most important tools.\n",
    "    - Explorer\n",
    "    - Source Control\n",
    "    - ...\n",
    "- The integrated terminal can be used, e.g., to launch Jupyter notebooks or use Git.\n",
    "    - If you are connected to WSL, this is a unix-based shell.\n",
    "- The command palette [Ctrl+Shift+P] gives access to all possible VSCode commands and can be used, e.g., to set the Python interpreter.\n",
    "- To connect to a remote, e.g., WSL, click the button in the lower-left or use the command palette and click \"WSL: Connect to WSL\"."
   ]
  },
  {
   "cell_type": "markdown",
   "id": "30a09c3e",
   "metadata": {
    "slideshow": {
     "slide_type": "slide"
    }
   },
   "source": [
    "## Install mambaforge\n",
    "- We will discuss virtual environments later in detail, for now you only need to know that a virtual environment is needed to execute the code of a project.\n",
    "- In order to set up virtual environments we can use [(mini)conda](https://docs.conda.io/en/latest/miniconda.html)/[mamba]/[miniforge](https://github.com/conda-forge/miniforge#miniforge)/[mambaforge](https://github.com/conda-forge/miniforge#mambaforge).\n",
    "- Note that in the following I will use the terms \"conda\" and \"mamba\" interchangeably.\n",
    "\n",
    "### Install mambaforge on a unix-based operating system using a script\n",
    "- Just run `install_mambaforge.sh` in the terminal.\n",
    "- This installs mambaforge and activates it for the `bash` and `zsh` shell.\n",
    "\n",
    "[mamba]: https://github.com/mamba-org/mamba"
   ]
  },
  {
   "cell_type": "markdown",
   "id": "f2a4d9a4",
   "metadata": {
    "slideshow": {
     "slide_type": "subslide"
    }
   },
   "source": [
    "### Installing mambaforge on a unix-based operating systems step by step\n",
    "- Run\n",
    "   ```\n",
    "   wget \"https://github.com/conda-forge/miniforge/releases/latest/download/Mambaforge-$(uname)-$(uname -m).sh\"\n",
    "   ``` \n",
    "   in the terminal or use https://github.com/conda-forge/miniforge/releases to download `mambaforge`.\n",
    "- Run ```bash [Miniconda]``` to install, where [Miniconda] is the installer script, e.g., `Miniconda3-latest-Linux-x86_64.sh`\n",
    "- Press space to scroll down when you reading the terms of usage and type 'yes' to agree to the terms.\n",
    "- Close the terminal or run ```source ~/.bashrc```.\n",
    "- You should now be able to activate mamba by typing ```mamba activate``` in a bash shell.\n",
    "- If not, try ```mamba init bash``` and then ```mamba activate``` again.\n",
    "- Note: If you want to use mamba in a different shell, e.g., `zsh`, run `mamba init [SHELL]`, where `[SHELL]` is the name of a supported shell."
   ]
  },
  {
   "cell_type": "markdown",
   "id": "564a29ea",
   "metadata": {
    "slideshow": {
     "slide_type": "slide"
    }
   },
   "source": [
    "# Setting up the course repo"
   ]
  },
  {
   "cell_type": "markdown",
   "id": "92b0c5f8",
   "metadata": {
    "slideshow": {
     "slide_type": "slide"
    }
   },
   "source": [
    "## Cloning the course repo\n",
    "- To copy the remote repository to a local repository you need [Git] which should already be installed if you are using a unix-based OS. \n",
    "- If your OS is Windows you can use [WSL] or [Git For Windows], however it is highly recommended to use [WSL].\n",
    "- Using your shell, navigate to a suitable folder to which the repo should be cloned.\n",
    "    - You can print the current working directory using `pwd`.\n",
    "    - To create a folder in the current working directory, use `mkdir [folder]`, where [folder] is the name of the folder.\n",
    "    - Use `cd [folder]` to move to a particular folder.\n",
    "    - I recommend to navigate to your home directory using `cd ~`, create a folder using `mkdir [folder]`, e.g. `mkdir -p git_repos/study/data_science_challenge`, and then switch to this folder using `cd [folder]`\n",
    "- To clone the repo with SSH into the current working directory\n",
    "    - [Set up SSH keys to communicate with GitLab]((https://docs.gitlab.com/ee/user/ssh.html).\n",
    "    - Run the following command in the terminal.\n",
    "    ```sh\n",
    "    git clone git@gitlab.lrz.de:dsc/2023/course.git\n",
    "    ```\n",
    "- Alternatively, you can clone with HTTPS using\n",
    "\n",
    "    ```sh\n",
    "    git clone https://gitlab.lrz.de/dsc/2023/course.git\n",
    "    ```\n",
    "[Git]: https://git-scm.com/\n",
    "[Git for Windows]: https://gitforwindows.org/\n",
    "[WSL]: https://learn.microsoft.com/en-us/windows/wsl/install\n",
    "[VSCode]: https://code.visualstudio.com/"
   ]
  },
  {
   "cell_type": "markdown",
   "id": "b1d67496",
   "metadata": {
    "slideshow": {
     "slide_type": "slide"
    }
   },
   "source": [
    "## Creating the virtual environment\n",
    "- From the root directory of the cloned Git repo, you can create the `dsc` environment by running  \n",
    "  ```sh\n",
    "  mamba env create -f environment.yml\n",
    "  ```\n",
    "  in the terminal.\n",
    "- Setting up the environment takes a while.\n",
    "- After the environment has been successfully created, you can activate it using ```mamba activate dsc```.  \n",
    "- Your prompt should then begin with the letters `(dsc)`.\n",
    "- You should **always activate the environment** when you want to run code of this Git repo or want to use the `dsc` package.\n",
    "- If you are using VS Code you can find [here](https://code.visualstudio.com/docs/python/environments#_work-with-python-interpreters) instructions how to automatically activate the environment when you open the `dsc` folder with VS Code.\n",
    "\n",
    "Note: If something like ```python3 -m dsc...``` does not run, please run ```pip install -e .``` from the root of this repo."
   ]
  },
  {
   "cell_type": "markdown",
   "id": "ff7069de",
   "metadata": {
    "slideshow": {
     "slide_type": "slide"
    }
   },
   "source": [
    "## Configuring and starting notebook servers"
   ]
  },
  {
   "cell_type": "markdown",
   "id": "2229f097",
   "metadata": {
    "slideshow": {
     "slide_type": "fragment"
    }
   },
   "source": [
    "- First of all, activate the `dsc` environment in the terminal.\n",
    "- To set the notebook extensions, run ```python3 -m dsc.notebook``` in the terminal. \n",
    "- Run ```jupyter notebook``` in the terminal to start a notebook server that can be accessed via a browser.\n",
    "\n",
    "- To present notebooks located in the folder `lecture_notes` as slides press `alt + r`.\n",
    "- Press `alt + r` again to exit slide mode.\n",
    "- You might need to zoom out so that everything is visible on a slide. "
   ]
  },
  {
   "cell_type": "markdown",
   "id": "43a15f05",
   "metadata": {
    "slideshow": {
     "slide_type": "slide"
    }
   },
   "source": [
    "## Getting data that is not versioned by Git "
   ]
  },
  {
   "cell_type": "markdown",
   "id": "a40aa8a0",
   "metadata": {
    "slideshow": {
     "slide_type": "skip"
    }
   },
   "source": [
    "<!--\n",
    "## Download the data\n",
    "- Click [here](https://syncandshare.lrz.de/getlink/fiVWchss6RorJVL3LDR47D/dsc.db) to download the first version of the database that we use in this course. [#TODO]\n",
    "- Save the database as `data/dsc.db` in this project (meaning that the parent folder of data is the root of this Git repo)\n",
    "-->"
   ]
  },
  {
   "cell_type": "markdown",
   "id": "ae338ec1",
   "metadata": {
    "cell_style": "split",
    "slideshow": {
     "slide_type": "-"
    }
   },
   "source": [
    "- Email your Gmail address to spanhelhm@gmail.com\n",
    "    - In case you don't have a Google account, please [create an account](https://accounts.google.com/).\n",
    "    - If you don't want to provide your email or phone number you can use throw-away accounts.\n",
    "- Login to [Gdrive](https://drive.google.com/drive) and check if Fabian Spanhel has shared the folder `origin` with you.\n",
    "- From an activated `dsc` environment run `dvc pull` in the terminal.\n",
    "- You will now be prompted to visit a Google authentication web page.\n",
    "    - See the next slide how to access this web page if you are using WSL. \n",
    "- Sign in with the Gmail address that you have sent to spanhelhm@gmail.com and check `Select all` on the following webpage.\n",
    "- If the authentication was successful, the file `data/dsc.db` should now exist.\n"
   ]
  },
  {
   "cell_type": "markdown",
   "id": "873d5798",
   "metadata": {
    "cell_style": "split",
    "slideshow": {
     "slide_type": "-"
    }
   },
   "source": [
    "\n",
    "<div align=\"center\">\n",
    "<img src=\"./figures/dvc_gdrive_0.png\" alt=\"drawing\" width=\"600\"/>\n",
    "</div>"
   ]
  },
  {
   "cell_type": "markdown",
   "id": "a0826a06",
   "metadata": {
    "slideshow": {
     "slide_type": "subslide"
    }
   },
   "source": [
    "### Using WSL\n",
    "- In our setup, it is not possible to open a browser from WSL.\n",
    "- Therefore, WSL will emulate the following browser window in the terminal when you execute `dvc pull`\n",
    "    <div align=\"center\">\n",
    "    <img src=\"./figures/wsl_dvc_gdrive_0.png\" alt=\"drawing\" width=\"1000\"/>\n",
    "    </div>\n",
    "- Press `A` when this emulated browser window appears.\n",
    "- The emulated browser window then changes to \n",
    "    <div align=\"center\">\n",
    "    <img src=\"./figures/wsl_dvc_gdrive_1.png\" alt=\"drawing\" width=\"1000\"/>\n",
    "    </div>\n",
    "- Press `Q` to exit the emulated browser window and return to the terminal screen which should look similar to\n",
    "    ```sh\n",
    "    Your browser has been opened to visit:                                  |0/1 [00:00<?,    ?files/s]\n",
    "\n",
    "    https://accounts.google.com/o/oauth2/auth?client_id...www.googleapis.com%2Fauth%2Fdrive.appdata&access_type=offline&response_type=code&approval_prompt=force\n",
    "    ```\n",
    "- Copy the link from the terminal and open it on Windows with a browser.\n",
    "- Perform the steps mentioned on the previous slide."
   ]
  },
  {
   "cell_type": "markdown",
   "id": "f079a000",
   "metadata": {
    "slideshow": {
     "slide_type": "slide"
    }
   },
   "source": [
    "# Setting up the playground repo"
   ]
  },
  {
   "cell_type": "markdown",
   "id": "44344a23",
   "metadata": {
    "slideshow": {
     "slide_type": "slide"
    }
   },
   "source": [
    "## Cloning the playground repo\n",
    "- Clone the playground repo into the same folder as the course repo.\n",
    "- To clone the repo with SSH, run the following command in the terminal.\n",
    "    ```sh\n",
    "    git clone git@gitlab.lrz.de:dsc/2023/playground.git\n",
    "    ```\n",
    "- Alternatively, you can clone with HTTPS using\n",
    "\n",
    "    ```sh\n",
    "    git clone https://gitlab.lrz.de/dsc/2023/playground.git\n",
    "    ```"
   ]
  },
  {
   "cell_type": "markdown",
   "id": "9960c349",
   "metadata": {
    "slideshow": {
     "slide_type": "slide"
    }
   },
   "source": [
    "# Ask questions and share impressions\n",
    "You can ask questions verbally at any time directly in this course. \n",
    "\n",
    "In addition, I use https://particify.de/ to ask you questions that help me set the priorities for this course and get to know you better.\n",
    "\n",
    "At the **beginning of each exercise**, I will **unlock questions that relate to the following week's material**."
   ]
  },
  {
   "cell_type": "markdown",
   "id": "0adf8a5f",
   "metadata": {
    "slideshow": {
     "slide_type": "slide"
    }
   },
   "source": [
    "Today is the exception and we start with some general questions that are already unlocked.\n",
    "\n",
    "Please use https://partici.fi/83687465, or scan the QR code below, to join the interactive room."
   ]
  },
  {
   "cell_type": "markdown",
   "id": "e597fc93",
   "metadata": {
    "slideshow": {
     "slide_type": "-"
    }
   },
   "source": [
    "<div align=\"center\">\n",
    "<img src=\"./figures/0_p.png\" alt=\"drawing\" width=\"1200\"/>\n",
    "</div>\n",
    "\n",
    "<div align=\"left\" style=\"font-size:16px;\">\n",
    "<div/>"
   ]
  }
 ],
 "metadata": {
  "celltoolbar": "Slideshow",
  "jupytext": {
   "comment_magics": false
  },
  "kernelspec": {
   "display_name": "Python [conda env:dsc_dev] *",
   "language": "python",
   "name": "conda-env-dsc_dev-py"
  },
  "language_info": {
   "codemirror_mode": {
    "name": "ipython",
    "version": 3
   },
   "file_extension": ".py",
   "mimetype": "text/x-python",
   "name": "python",
   "nbconvert_exporter": "python",
   "pygments_lexer": "ipython3",
   "version": "3.10.12"
  },
  "rise": {
   "footer": "<h3>Dr. Fabian Spanhel</h3>",
   "header": "<h3>DSC: 0.0 INTRO</h3>"
  },
  "toc": {
   "base_numbering": 1,
   "nav_menu": {},
   "number_sections": true,
   "sideBar": false,
   "skip_h1_title": false,
   "title_cell": "Table of Contents",
   "title_sidebar": "Contents",
   "toc_cell": false,
   "toc_position": {
    "height": "632.431px",
    "left": "0px",
    "top": "200px",
    "width": "360px"
   },
   "toc_section_display": true,
   "toc_window_display": true
  }
 },
 "nbformat": 4,
 "nbformat_minor": 5
}
