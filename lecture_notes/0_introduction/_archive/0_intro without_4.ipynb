{
 "cells": [
  {
   "cell_type": "code",
   "execution_count": 3,
   "id": "0c195a42",
   "metadata": {
    "active": "ipynb",
    "hide_input": false,
    "slideshow": {
     "slide_type": "notes"
    },
    "tags": [
     "active-ipynb"
    ]
   },
   "outputs": [],
   "source": [
    "from dsc.notebook import embed_website"
   ]
  },
  {
   "cell_type": "markdown",
   "id": "6aa253f2",
   "metadata": {
    "slideshow": {
     "slide_type": "slide"
    }
   },
   "source": [
    "<div align=\"center\" style=\"font-size:70px;\">\n",
    "WELCOME TO THE DATA SCIENCE CHALLENGE!\n",
    "<div/>\n",
    "    \n",
    "<div align=\"left\" style=\"font-size:16px;\">\n",
    "<div/>"
   ]
  },
  {
   "cell_type": "markdown",
   "id": "2bd45782",
   "metadata": {
    "slideshow": {
     "slide_type": "slide"
    }
   },
   "source": [
    "# Outline of the introduction\n",
    "- About me\n",
    "- Motivation\n",
    "- Information about this course\n",
    "    - Structure & organization\n",
    "    - Examination requirements\n",
    "    - Prerequisites and tools"
   ]
  },
  {
   "cell_type": "markdown",
   "id": "b3d01514",
   "metadata": {
    "slideshow": {
     "slide_type": "slide"
    }
   },
   "source": [
    "# About me"
   ]
  },
  {
   "cell_type": "markdown",
   "id": "086ebade",
   "metadata": {
    "cell_style": "split",
    "hide_input": false,
    "slideshow": {
     "slide_type": "-"
    }
   },
   "source": [
    "<div align=\"center\">\n",
    "<img src=\"./figures/0_me.png\" alt=\"Dr. Fabian Spanhel\" width=\"500\"/>\n",
    "</div>\n",
    "\n",
    "<div align=\"left\" style=\"font-size:16px;\">\n",
    "<div/>"
   ]
  },
  {
   "cell_type": "markdown",
   "id": "c9bb8fdd",
   "metadata": {
    "cell_style": "split",
    "slideshow": {
     "slide_type": "-"
    }
   },
   "source": [
    "<br>\n",
    "\n",
    "<div align=\"center\" style=\"font-size:40px;\">\n",
    "Dr. Fabian Spanhel\n",
    "<div/>\n",
    "    \n",
    "<div align=\"left\" style=\"font-size:32px;\">\n",
    "<div/>\n",
    "<br>\n",
    "\n",
    "- Studied economics with a focus on econometrics & statistics\n",
    "- PhD in statistics\n",
    "- Since November 2016 working as a Data Scientist at ProSiebenSat.1\n",
    "- Aquarius, INTJ, likes doing sports\n",
    "- Social media:\n",
    "    - https://www.linkedin.com/in/fspanhel/\n",
    "    - https://vm.tiktok.com/ZMFJFtD7y/"
   ]
  },
  {
   "cell_type": "markdown",
   "id": "c266eefb",
   "metadata": {
    "slideshow": {
     "slide_type": "slide"
    }
   },
   "source": [
    "# Motivation: Is data scientist still the sexiest job of the 21st century?\n",
    "The article titled [\"**Data Scientist: The Sexiest Job of the 21st Century**\"](https://hbr.org/2012/10/data-scientist-the-sexiest-job-of-the-21st-century) published in 2012 is a very popular article that contributed to popularize data science. "
   ]
  },
  {
   "cell_type": "markdown",
   "id": "182611da",
   "metadata": {
    "slideshow": {
     "slide_type": "fragment"
    }
   },
   "source": [
    "At this time:\n",
    "\n",
    "- The role data scientist \"was relatively new, but as more companies attempted to make sense of **big data**, \n",
    "they realized they needed people who could **combine programming, analytics, and experimentation skills**.\"\n",
    "- The were assumed be **unicorns** and do all required tasks — from conceptualizing the use case, to \n",
    "interfacing with business and technology stakeholders, to developing the algorithm and deploying it into production.\n",
    "-\"Because there wasn’t yet a well-defined career path for people who could program with and\n",
    "analyze such data, **data scientists had diverse educational backgrounds**.\"\n",
    "- \"Most had **PhDs** in some scientific field, were exceptional at math, and knew how to code. Given the **absence of tools and processes**.\"\n",
    "- To \"perform their roles, they were also good at **experimentation and invention**.\"\n"
   ]
  },
  {
   "cell_type": "markdown",
   "id": "74aff992",
   "metadata": {
    "slideshow": {
     "slide_type": "slide"
    }
   },
   "source": [
    "The article titled [\"**Is Data Scientist Still the Sexiest Job of the 21st Century?**\"](https://hbr.org/2022/07/is-data-scientist-still-the-sexiest-job-of-the-21st-century) is the follow up of the previous mentioned article. \n",
    "\n",
    "- A decade later, **AI is increasingly popular** in business and the job is more in demand than ever.\n",
    "<!-- Nevertheless, there are issues: -->\n",
    "<!--   - Much time of data scientist is spent cleaning and wrangling data. -->\n",
    "<!--    - Many organizations don’t have data-driven cultures and don’t take advantage of the insights provided by data scientists. -->\n",
    "<!--    - Many algorithms are never deployed. -->\n",
    "- Now there are **hundreds of degree programs** in data science or the related fields of analytics and AI.\n",
    "- **No data science unicorns anymore** but there are related jobs to handle many of those tasks, e.g., machine learning engineers, data engineers, advanced analytics, and data oriented product managers. \n",
    "-  \"We expect to see **continued differentiation of responsibilities** and\n",
    "    roles that all once fell under the data scientist category\".\n",
    "- **Automated machine learning** might dim the demand of data scientists who primarily do model fitting for prediction.\n",
    "- **MLOps** (Machine learning operations) which establishes best practices and tools to facilitate development and operationalization of AI becomes more important.\n",
    "- \"Most importantly, data scientists must contribute towards appropriate collection\n",
    "of data, responsible analysis, and **translating business issues and requirements into fully-deployed models**, and successful business outcomes\"."
   ]
  },
  {
   "cell_type": "markdown",
   "id": "f3eb58f3",
   "metadata": {
    "slideshow": {
     "slide_type": "slide"
    }
   },
   "source": [
    "<img src=\"./figures/0_hierarchy.png\" alt=\"The Data Science Hierarchy of Needs\" width=\"1200\"/>\n",
    "<br>\n",
    "\n",
    "[Source](https://www.reddit.com/r/datascience/comments/wi2gil/the_data_science_hierarchy_of_needs)"
   ]
  },
  {
   "cell_type": "markdown",
   "id": "d29fdeef",
   "metadata": {
    "slideshow": {
     "slide_type": "slide"
    }
   },
   "source": [
    "# Course objectives\n",
    "- Learn something for your (professional) life\n",
    "- Learn some the basics of writing good code which is suitable for production and usable by ml engineers \n",
    "- Learn tools and methods to conduct reproducible data science experiments and to collaborate in a team\n",
    "- Learn how to model data where the time dimension is important\n",
    "- Consolidate what you have learned through a collaborative practice project\n"
   ]
  },
  {
   "cell_type": "markdown",
   "id": "42d7a600",
   "metadata": {
    "slideshow": {
     "slide_type": "slide"
    }
   },
   "source": [
    "**Revisiting old code**\n",
    "\n",
    "Source: Taken from https://www.reddit.com/r/ProgrammerHumor/comments/vkz1sf/returning_to_an_old_project/"
   ]
  },
  {
   "cell_type": "code",
   "execution_count": 5,
   "id": "6e011ac2",
   "metadata": {
    "slideshow": {
     "slide_type": "-"
    }
   },
   "outputs": [
    {
     "data": {
      "text/html": [
       "\n",
       "        <iframe\n",
       "            width=\"900\"\n",
       "            height=\"0\"\n",
       "            src=\"https://preview.redd.it/hcpdw2c62x791.gif?format=mp4&s=fe0549df40464566ea48e6b9659a582c7d8a9d20\"\n",
       "            frameborder=\"0\"\n",
       "            allowfullscreen\n",
       "            \n",
       "        ></iframe>\n",
       "        "
      ],
      "text/plain": [
       "<IPython.lib.display.IFrame at 0x7f119810a320>"
      ]
     },
     "execution_count": 5,
     "metadata": {},
     "output_type": "execute_result"
    }
   ],
   "source": [
    "embed_website(\"https://preview.redd.it/hcpdw2c62x791.gif?format=mp4&s=fe0549df40464566ea48e6b9659a582c7d8a9d20\") "
   ]
  },
  {
   "cell_type": "markdown",
   "id": "739e0434",
   "metadata": {
    "lines_to_next_cell": 2,
    "slideshow": {
     "slide_type": "slide"
    }
   },
   "source": [
    "## What is good Data Science code?"
   ]
  },
  {
   "cell_type": "markdown",
   "id": "b264921a",
   "metadata": {
    "slideshow": {
     "slide_type": "fragment"
    }
   },
   "source": [
    "1. Correct: The code should do what it is supposed to do.\n",
    "2. Readable and Understandable: [More time is spent reading code than writing.](https://bayrhammer-klaus.medium.com/you-spend-much-more-time-reading-code-than-writing-code-bc953376fe19)\n",
    "3. Reproducible: In order that Data Science experiments are reproducible we have to version code, data and models.\n",
    "4. Portability, Scalability and Reusability: Code should be runnable in different environments (e.g., no hard-coded paths), adding new features should be possible, components should be resuable.\n",
    "5. Executes fast.\n",
    "6. Elegant.\n",
    "\n",
    "\n",
    "**Good coding practices**\n",
    "- KISS\n",
    "- DRY\n",
    "- .."
   ]
  },
  {
   "cell_type": "markdown",
   "id": "670a8ca0",
   "metadata": {
    "slideshow": {
     "slide_type": "slide"
    }
   },
   "source": [
    "## Data with a time dimension\n",
    "- The (possibly) **time dimension of data is often neglected** in academia and in practice \n",
    "- In some cases, the time dimension has no effect on the Data Science task\n",
    "- However, a lot of data is inherently temporal, e.g., a time series of observations\n",
    "- **Disregarding this fact can result in false conclusions or suboptimal modeling**\n",
    "- The collaborative practice projects all are based on data with a time dimension and should make you aware of this issue"
   ]
  },
  {
   "cell_type": "markdown",
   "id": "58d32592",
   "metadata": {
    "slideshow": {
     "slide_type": "slide"
    }
   },
   "source": [
    "# Structure of this course\n",
    "\n"
   ]
  },
  {
   "cell_type": "markdown",
   "id": "c9a2fe15",
   "metadata": {
    "slideshow": {
     "slide_type": "-"
    }
   },
   "source": [
    "## First part\n",
    "The **first part** of this course (**October - November**) consists of **prepared lectures**\n",
    "with notes and structured tasks that you can tackle in the tutorials.\n",
    "We will cover \n",
    "- Version control\n",
    "- Setting up a Python Data Science project\n",
    "- Good coding habits\n",
    "- Project management and collaborative coding\n",
    "- ...\n",
    "- Model tracking with Mlflow and deployment\n",
    "\n",
    "The **first part** should prepare you for successfully master your following **project challenges**."
   ]
  },
  {
   "cell_type": "markdown",
   "id": "2c9a2e16",
   "metadata": {
    "slideshow": {
     "slide_type": "slide"
    }
   },
   "source": [
    "## Second part\n",
    "In the **second part**, starting in December, there will be no prepared lectures and you\n",
    "will be **working on your project challenge** in the lecture and tutorial.\n",
    "\n",
    "- You can **choose your project from 3 main projects**.\n",
    "- Each project should be worked on by about **3 people**. \n",
    "- The projects will be presented in the first lecture.\n",
    "- Each student has to submit his/her preference for the projects in November (more details will follow).\n",
    "- Each student will then be assigned to a project by considering his/her preferences.\n",
    "\n",
    "I will support you by **answering questions and providing suggestions**.\n",
    "\n",
    "Moreover, I will be having a look at your code and **approve merge requests** for the main\n",
    "branch of your project. "
   ]
  },
  {
   "cell_type": "markdown",
   "id": "97ef2bfb",
   "metadata": {
    "slideshow": {
     "slide_type": "slide"
    }
   },
   "source": [
    "# Examination requirements: ModA(0,6) + Präs(0,4)\n",
    "\n",
    "In order to be graded, you have to \n",
    "1. **Submit your project code** \n",
    "2. **Give a presentation** about your project."
   ]
  },
  {
   "cell_type": "markdown",
   "id": "5aeb2d25",
   "metadata": {
    "slideshow": {
     "slide_type": "slide"
    }
   },
   "source": [
    "## Code submission\n",
    "The code of your collaborative project must be submitted in the middle of January before the presentation (exact deadline will follow).\n",
    "**The code submission should contain the following four components**:  \n",
    "1. **Notebooks** with exploratory analyses or findings.\n",
    "2. A **Python package** with functions and classes which are used in the notebooks and the scripts\n",
    "3. A **script for training a model** that can be called from the command line which    \n",
    "    1. loads a provided dataset\n",
    "    1. engineers the features\n",
    "    1. trains a model\n",
    "    1. tracks the model with Mlflow\n",
    "4. A **script for predicting data** that can be called from the command line which \n",
    "    1. takes a registered model in mlflow\n",
    "    1. predicts data on the basis of the provided dataset\n",
    "    1. writes the predicted data to a file \n",
    "    \n",
    "Each member of a group will be graded according to his/her code commits/MRs and the quality of his/her written issues.\n",
    "\n",
    "More details will follow during the course."
   ]
  },
  {
   "cell_type": "markdown",
   "id": "5807df41",
   "metadata": {
    "slideshow": {
     "slide_type": "slide"
    }
   },
   "source": [
    "## Presentation\n",
    "- Each group presents their work (task, approach, problems, findings, results) **after submitting their code** (exact dates will follow)\n",
    "- **Each member of a group presents for about 10 minutes** and will be graded individually."
   ]
  },
  {
   "cell_type": "markdown",
   "id": "a67cdad9",
   "metadata": {
    "slideshow": {
     "slide_type": "slide"
    }
   },
   "source": [
    "# Organization\n",
    "- The Git repository https://gitlab.lrz.de/fspanhel/dsc_2022\n",
    "    - The file [COURSE.md](../../COURSE.md) is the **central source of information** for this course.\n",
    "        - Organizational updates in the repo will be mentioned in this file.\n",
    "        - It will be updated regularly.\n",
    "    - Material for the lecture and the tutorial will be provided at [/lecture notes](../lecture_notes).\n",
    "    - Information about the repo, e.g., how to setup the environment can be found in [README.md](../../README.md).\n",
    "- Contact\n",
    "    - You can always write an eMail to spanhel@hm.edu\n",
    "    - However, I won't check my eMails on a daily basis and may need some time to respond...\n",
    "- Office hours\n",
    "    - I don't have a regular office hour.\n",
    "    - Just write me an eMail if you want to have a more detailed discussion before/after the lecture starts/tutorial ends.\n",
    "- Moodle\n",
    "    - Do we need a moodle course? \n",
    "    "
   ]
  },
  {
   "cell_type": "markdown",
   "id": "9e9a5132",
   "metadata": {
    "slideshow": {
     "slide_type": "slide"
    }
   },
   "source": [
    "# Prerequisites\n",
    "Basic knowledge of \n",
    "- Unix shell, e.g., bash or zsh\n",
    "- Python3 (basic built-ins, pandas, scikitlearn)\n",
    "- Juypter notebooks\n",
    "- Git    \n",
    "    - Adding and committing changes to Git\n",
    "    - Working with remotes, e.g., the difference between fetch and pull\n",
    "    - Working with branches, e.g., checkout branches and merging\n",
    "    - See [Git resources](COURSE.md) for brushing up your Git skills\n",
    "- Sql (simple queries with filters and joins)\n",
    "\n",
    "and\n",
    "a basic understanding of statics and machine learning (e.g., linear regression, boosting, trees...)."
   ]
  },
  {
   "cell_type": "markdown",
   "id": "269a865f",
   "metadata": {
    "slideshow": {
     "slide_type": "slide"
    }
   },
   "source": [
    "# Software and Tools"
   ]
  },
  {
   "cell_type": "markdown",
   "id": "7c2efd37",
   "metadata": {
    "slideshow": {
     "slide_type": "-"
    }
   },
   "source": [
    "- For coding, I use a **linux** distribution as **operating systems** via WSL on windows.\n",
    "    - Using MacOS should be no problem\n",
    "    - Using Windows should also be no problem if you can emulate a unix shell like bash, e.g., [Git For Windows](https://gitforwindows.org/) or use [WSL](https://learn.microsoft.com/en-us/windows/wsl/install)\n",
    "- We will be using **Python3** for data manipulation and data modeling.\n",
    "- [**Jupyter notebooks**](https://jupyter.org/) (in combination with [RISE](https://rise.readthedocs.io/en/stable/)) will be used for the lecture notes\n",
    "- I use [**VSCode**](https://code.visualstudio.com/) for coding but you can use any IDE (e.g., [PyCharm](https://www.jetbrains.com/de-de/pycharm/)) you want.\n",
    "    - If you want to use VSCode without tracking check these [free release binaries](https://github.com/VSCodium/vscodium/blob/master/README.md#supported-os)\n",
    "    - The following VSCode extensions are useful for this course:\n",
    "        - Python\n",
    "        - Pylance\n",
    "        - GitLens\n",
    "        - GitGraph"
   ]
  },
  {
   "cell_type": "markdown",
   "id": "65851744",
   "metadata": {
    "slideshow": {
     "slide_type": "slide"
    }
   },
   "source": [
    "**Sofware and Tools Cont'd**:\n",
    "    \n",
    "- We will be using [**conda**](https://docs.conda.io/en/latest/miniconda.html) (or [mamba](https://github.com/mamba-org/mamba)) for package and environment management\n",
    "- We will be using **Git**, [**DVC**](https://dvc.org/) and **Gitlab** for version control\n",
    "- Gitlab will be used for collaboration and project management\n",
    "- We will be using [**DBeaver**](https://dbeaver.com/edition/) as SQL client software \n",
    "- We will be using [**Google Drive**](https://www.google.com/intl/de/drive/) or [**LRZ Sync+Share**](https://www.rz.hm.edu/studierende_4/lrz_sync___share_1/index.de.html) for remote data storage. For each project there will be one remote data storage.\n",
    "- For **instant-messaging** you could use [**RocketChat**](https://de.rocket.chat/), [**Slack**](https://slack.com/intl/de-de/) or alternatives...\n",
    "- It's also helpful to have the command 'tree' available in your shell of choice.\n",
    "\n",
    "**Please make sure that the software runs on your computer**"
   ]
  },
  {
   "cell_type": "markdown",
   "id": "9960c349",
   "metadata": {
    "slideshow": {
     "slide_type": "slide"
    }
   },
   "source": [
    "# Ask questions and share impressions\n",
    "You can ask questions verbally at any time directly in this course. \n",
    "\n",
    "In addition, you can use an **interactive room** provided by https://particify.de/ to\n",
    "- Ask and upvote questions -> Q & A.\n",
    "- Give live feedback.\n",
    "- Answer questions that help me set priorities for the course and get to know you better.\n",
    "\n",
    "From the next week on, I will be posting the link to the corresponding interactive room at the beginning ot the lecture.\n",
    "\n",
    "At the **beginning of each exercise**, I will **unlock questions that relate to the following week's material**."
   ]
  },
  {
   "cell_type": "markdown",
   "id": "0adf8a5f",
   "metadata": {
    "slideshow": {
     "slide_type": "slide"
    }
   },
   "source": [
    "Today is the exception and we start with some general questions that are already unlocked.\n",
    "\n",
    "Please use https://partici.fi/83687465, or scan the QR code below, to join the interactive room."
   ]
  },
  {
   "cell_type": "markdown",
   "id": "e597fc93",
   "metadata": {
    "slideshow": {
     "slide_type": "-"
    }
   },
   "source": [
    "<div align=\"center\">\n",
    "<img src=\"./figures/0_p.png\" alt=\"drawing\" width=\"1200\"/>\n",
    "</div>\n",
    "\n",
    "<div align=\"left\" style=\"font-size:16px;\">\n",
    "<div/>"
   ]
  }
 ],
 "metadata": {
  "celltoolbar": "Slideshow",
  "jupytext": {
   "comment_magics": false
  },
  "kernelspec": {
   "display_name": "Python [conda env:dsc_2022] *",
   "language": "python",
   "name": "conda-env-dsc_2022-py"
  },
  "language_info": {
   "codemirror_mode": {
    "name": "ipython",
    "version": 3
   },
   "file_extension": ".py",
   "mimetype": "text/x-python",
   "name": "python",
   "nbconvert_exporter": "python",
   "pygments_lexer": "ipython3",
   "version": "3.10.4"
  },
  "toc": {
   "base_numbering": 1,
   "nav_menu": {},
   "number_sections": true,
   "sideBar": true,
   "skip_h1_title": false,
   "title_cell": "Table of Contents",
   "title_sidebar": "Contents",
   "toc_cell": false,
   "toc_position": {
    "height": "calc(100% - 180px)",
    "left": "10px",
    "top": "150px",
    "width": "384px"
   },
   "toc_section_display": true,
   "toc_window_display": false
  }
 },
 "nbformat": 4,
 "nbformat_minor": 5
}
