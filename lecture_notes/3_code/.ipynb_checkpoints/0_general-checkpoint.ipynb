{
 "cells": [
  {
   "cell_type": "markdown",
   "id": "f57a3a9a",
   "metadata": {},
   "source": [
    "# What characterizes good Data Science code?"
   ]
  },
  {
   "cell_type": "markdown",
   "id": "248f6a04",
   "metadata": {},
   "source": [
    "In my humble opinion the following \n",
    "1. Correct: The code should do what it is supposed to do.\n",
    "2. Readable and Understandable: [More time is spent reading code than writing.](https://bayrhammer-klaus.medium.com/you-spend-much-more-time-reading-code-than-writing-code-bc953376fe19)\n",
    "3. Reproducible: In order that Data Science experiments are reproducible we have to version code, data and models.\n",
    "4. Portable, Scalable and Resuable: Code should be runnable in different environments (e.g., no hard-coded paths), adding new features should be possible, components should be resuable.\n",
    "5. Fast execution.\n",
    "6. Elegant.\n",
    "\n",
    "\n",
    "**Good coding practices**\n",
    "- KISS\n",
    "- DRY\n",
    "- YAGNI"
   ]
  },
  {
   "cell_type": "markdown",
   "id": "405135bb",
   "metadata": {},
   "source": [
    "**What should you generally consider?** "
   ]
  },
  {
   "cell_type": "markdown",
   "id": "a1448ed9",
   "metadata": {},
   "source": [
    "- modularize\n",
    "- use jupyter notebooks mainly for exploration and presentation/communication\n",
    "- adopt SE principles \n",
    "- use version control and make code reviews\n",
    "- document your code \n",
    "- make code self-containable \n",
    "- do not hard code paths \n",
    "- use classes when appropriate and only when appropriate (python is not java)\n",
    "- nicht das rad neu erfunden, use existing libraries \n",
    "- wenn man selbst was schreibt dann versuchen die api an bestehendes anzupassen (scikit-learn), auch wenn das dann vll selber aufwändiger ist damit es damit funktioniert, der vorteil damit aber ist das andere dann schnell damit arbeiten kann (siehe boost projekt), den vorteil dafrf man nicht unterschätzen\n",
    "- Use tool that help you (linting, formatting, pre-commits, IDEs...)\n",
    "- Use virtual environments and Git\n",
    "- whenever possible, a function should be pure, use methods if you want to alter the state of an object"
   ]
  },
  {
   "cell_type": "code",
   "execution_count": null,
   "id": "621567b3",
   "metadata": {},
   "outputs": [],
   "source": [
    "How can I learn how to write clean code? Code (Do it, fail repeat) and code reviews."
   ]
  },
  {
   "cell_type": "code",
   "execution_count": null,
   "id": "69ecc919",
   "metadata": {},
   "outputs": [],
   "source": [
    "https://www.thoughtworks.com/insights/blog/coding-habits-data-scientists\n",
    "\n",
    "https://goodresearch.dev/decoupled.html -> wonderful source!\n",
    "https://goodresearch.dev/tidy.html\n",
    "\n",
    "https://www.reddit.com/r/datascience/comments/yphayx/pointers_to_write_clean_code_for_production/?utm_source=share&utm_medium=ios_app&utm_name=iossmf"
   ]
  },
  {
   "cell_type": "code",
   "execution_count": null,
   "id": "5aefce7e",
   "metadata": {},
   "outputs": [],
   "source": [
    "https://confluence.p7s1-tech.com/display/DF/writing+functions"
   ]
  },
  {
   "cell_type": "code",
   "execution_count": null,
   "id": "316d4062",
   "metadata": {},
   "outputs": [],
   "source": [
    "# Mutability \n",
    "https://www.geeksforgeeks.org/is-python-call-by-reference-or-call-by-value/\n",
    "https://robertheaton.com/2014/02/09/pythons-pass-by-object-reference-as-explained-by-philip-k-dick/"
   ]
  },
  {
   "cell_type": "markdown",
   "id": "ecb82e73",
   "metadata": {},
   "source": []
  },
  {
   "cell_type": "markdown",
   "id": "78edb365",
   "metadata": {},
   "source": [
    "# Formatter -> zu Python"
   ]
  },
  {
   "cell_type": "markdown",
   "id": "8d5bd93c",
   "metadata": {
    "lines_to_next_cell": 2
   },
   "source": [
    "Memes:\n",
    "https://www.reddit.com/r/ProgrammerHumor/comments/xxv8sz/perfect_situation/?utm_source=share&utm_medium=ios_app&utm_name=iossmf"
   ]
  },
  {
   "cell_type": "code",
   "execution_count": null,
   "id": "f80bb770",
   "metadata": {},
   "outputs": [],
   "source": [
    "\n"
   ]
  },
  {
   "cell_type": "code",
   "execution_count": null,
   "id": "2a0db781",
   "metadata": {},
   "outputs": [],
   "source": []
  }
 ],
 "metadata": {
  "jupytext": {
   "comment_magics": false
  },
  "kernelspec": {
   "display_name": "Python 3 (ipykernel)",
   "language": "python",
   "name": "python3"
  },
  "language_info": {
   "codemirror_mode": {
    "name": "ipython",
    "version": 3
   },
   "file_extension": ".py",
   "mimetype": "text/x-python",
   "name": "python",
   "nbconvert_exporter": "python",
   "pygments_lexer": "ipython3",
   "version": "3.10.6"
  },
  "toc": {
   "base_numbering": 1,
   "nav_menu": {},
   "number_sections": true,
   "sideBar": true,
   "skip_h1_title": false,
   "title_cell": "Table of Contents",
   "title_sidebar": "Contents",
   "toc_cell": false,
   "toc_position": {},
   "toc_section_display": true,
   "toc_window_display": false
  }
 },
 "nbformat": 4,
 "nbformat_minor": 5
}
