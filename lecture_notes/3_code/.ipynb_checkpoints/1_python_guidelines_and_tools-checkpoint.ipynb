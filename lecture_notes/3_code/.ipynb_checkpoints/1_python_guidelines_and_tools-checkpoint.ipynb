{
 "cells": [
  {
   "cell_type": "code",
   "execution_count": 1,
   "id": "47e4a196",
   "metadata": {
    "slideshow": {
     "slide_type": "skip"
    }
   },
   "outputs": [],
   "source": [
    "from dsc.notebook import embed_website"
   ]
  },
  {
   "cell_type": "markdown",
   "id": "b0ca75e2",
   "metadata": {
    "slideshow": {
     "slide_type": "slide"
    }
   },
   "source": [
    "# Agenda\n",
    "- This chapter we consider tools and guidelines that improve the quality of your Python code.\n",
    "    - Style\n",
    "    - Linters\n",
    "    - Formatters\n",
    "    - Type hints\n",
    "    - Git hooks\n",
    "    - Documentation"
   ]
  },
  {
   "cell_type": "markdown",
   "id": "ed56dcc3",
   "metadata": {
    "slideshow": {
     "slide_type": "slide"
    }
   },
   "source": [
    "# Resources"
   ]
  },
  {
   "cell_type": "markdown",
   "id": "346fb3ed",
   "metadata": {
    "slideshow": {
     "slide_type": "-"
    }
   },
   "source": [
    "- Style\n",
    "    - [PEP8](https://peps.python.org/pep-0008)\n",
    "    - [Google Style](https://google.github.io/styleguide/pyguide.html)\n",
    "- Type hints\n",
    "    - [PEP 484 – Type Hints (for functions)](https://peps.python.org/pep-0484/)\n",
    "    - [PEP 526 – Syntax for Variable Annotations](https://peps.python.org/pep-0526/)\n",
    "    - [Cheat sheet](https://mypy.readthedocs.io/en/stable/cheat_sheet_py3.html)\n",
    "- Code documentation\n",
    "    - Docstrings\n",
    "        - [Documenting python code](https://realpython.com/documenting-python-code/)\n",
    "        - [Docstrings](https://www.datacamp.com/tutorial/docstrings-python)\n",
    "        - [Google docstrings](https://google.github.io/styleguide/pyguide.html#38-comments-and-docstrings)\n",
    "        - [Google and Numpy docstrings](https://sphinxcontrib-napoleon.readthedocs.io/en/latest/example_google.html)\n",
    "    - Sphinx\n",
    "        - [Support for Numpy and Google styles](https://sphinxcontrib-napoleon.readthedocs.io/en/latest/)\n",
    "    - [Read the Docs: Hosts your docs for free](https://readthedocs.org/)\n",
    "    - [Reddit discussion about documentation tools](https://www.reddit.com/r/Python/comments/wq6tlc/whats_a_good_documentation_platform_that_you_guys/)\n",
    "    - [MkDocs Tutorial](https://realpython.com/python-project-documentation-with-mkdocs/)\n",
    "- Git hooks\n",
    "    - [Atlassian](https://www.atlassian.com/git/tutorials/git-hooks)\n",
    "    - [Pre-commit](https://pre-commit.com/)\n",
    "    - [Getting started with pre-commit](https://towardsdatascience.com/getting-started-with-python-pre-commit-hooks-28be2b2d09d5)"
   ]
  },
  {
   "cell_type": "markdown",
   "id": "a8a76efb",
   "metadata": {
    "slideshow": {
     "slide_type": "slide"
    }
   },
   "source": [
    "# The Zen of python\n",
    "- The Zen of Python are 19 guiding principles for writing computer programs and influence the design of the Python programming language"
   ]
  },
  {
   "cell_type": "code",
   "execution_count": 2,
   "id": "9de97200",
   "metadata": {
    "slideshow": {
     "slide_type": "-"
    }
   },
   "outputs": [
    {
     "name": "stdout",
     "output_type": "stream",
     "text": [
      "The Zen of Python, by Tim Peters\n",
      "\n",
      "Beautiful is better than ugly.\n",
      "Explicit is better than implicit.\n",
      "Simple is better than complex.\n",
      "Complex is better than complicated.\n",
      "Flat is better than nested.\n",
      "Sparse is better than dense.\n",
      "Readability counts.\n",
      "Special cases aren't special enough to break the rules.\n",
      "Although practicality beats purity.\n",
      "Errors should never pass silently.\n",
      "Unless explicitly silenced.\n",
      "In the face of ambiguity, refuse the temptation to guess.\n",
      "There should be one-- and preferably only one --obvious way to do it.\n",
      "Although that way may not be obvious at first unless you're Dutch.\n",
      "Now is better than never.\n",
      "Although never is often better than *right* now.\n",
      "If the implementation is hard to explain, it's a bad idea.\n",
      "If the implementation is easy to explain, it may be a good idea.\n",
      "Namespaces are one honking great idea -- let's do more of those!\n"
     ]
    }
   ],
   "source": [
    "import this"
   ]
  },
  {
   "cell_type": "markdown",
   "id": "0faef6e7",
   "metadata": {
    "slideshow": {
     "slide_type": "slide"
    }
   },
   "source": [
    "# Style"
   ]
  },
  {
   "cell_type": "markdown",
   "id": "2ce8f46c",
   "metadata": {
    "slideshow": {
     "slide_type": "slide"
    }
   },
   "source": [
    "## PEP 8\n",
    "- [PEP](https://peps.python.org/pep-0000/) stands for Python Enhancement Proposal.\n",
    "- Guido van Rossum, the creator of Python: “Code is read much more often than it is written.” \n",
    "- Writing readable code is one of the guiding principles of the Python language (see also [\"The Zen of Python\"](#the-zen-of-python)).\n",
    "- [PEP 8](https://peps.python.org/pep-0008) is Python's Style Guide. It exists to improve the readability of Python code.\n",
    "- It provides\n",
    "    - Naming conventions\n",
    "        - In general, use lowercase words separated with underscores to name things, e.g., ```what_an_amazing_name```. \n",
    "        - Use ```CamelCase``` for classes.\n",
    "        - Use descriptive names!\n",
    "    - Rules for code layout\n",
    "        - Limit all lines to a [maximum of 79 characters](https://stackoverflow.com/questions/88942/why-does-pep-8-specify-a-maximum-line-length-of-79-characters).\n",
    "        - Surround functions and classes with two blank lines. \n",
    "        - Use 4 spaces per indentation level.\n",
    "        - Align idents.\n",
    "        - Prefer parentheses to wrap long lines over multiple lines instead of using a backslash.\n",
    "    - And much more...\n",
    "- Click [here]( https://realpython.com/python-pep8/) for a nice introduction"
   ]
  },
  {
   "cell_type": "code",
   "execution_count": 3,
   "id": "3d4f2fb3",
   "metadata": {
    "slideshow": {
     "slide_type": "slide"
    }
   },
   "outputs": [
    {
     "data": {
      "text/html": [
       "\n",
       "        <iframe\n",
       "            width=\"900\"\n",
       "            height=\"500\"\n",
       "            src=\"https://peps.python.org/pep-0008/\"\n",
       "            frameborder=\"0\"\n",
       "            allowfullscreen\n",
       "            \n",
       "        ></iframe>\n",
       "        "
      ],
      "text/plain": [
       "<IPython.lib.display.IFrame at 0x7fed00153490>"
      ]
     },
     "execution_count": 3,
     "metadata": {},
     "output_type": "execute_result"
    }
   ],
   "source": [
    "embed_website(\"https://peps.python.org/pep-0008/\")"
   ]
  },
  {
   "cell_type": "markdown",
   "id": "692e27aa",
   "metadata": {
    "slideshow": {
     "slide_type": "slide"
    }
   },
   "source": [
    "## Google's Style Guide\n",
    "- Besides Python's style guide I recommend [Google's style guide for Python](https://google.github.io/styleguide/pyguide.html)\n",
    "- It provides language and style rules with pros and cons of a particular decision"
   ]
  },
  {
   "cell_type": "code",
   "execution_count": 4,
   "id": "5e9118c2",
   "metadata": {
    "slideshow": {
     "slide_type": "-"
    }
   },
   "outputs": [
    {
     "data": {
      "text/html": [
       "\n",
       "        <iframe\n",
       "            width=\"900\"\n",
       "            height=\"500\"\n",
       "            src=\"https://google.github.io/styleguide/pyguide.html\"\n",
       "            frameborder=\"0\"\n",
       "            allowfullscreen\n",
       "            \n",
       "        ></iframe>\n",
       "        "
      ],
      "text/plain": [
       "<IPython.lib.display.IFrame at 0x7fed00153e80>"
      ]
     },
     "execution_count": 4,
     "metadata": {},
     "output_type": "execute_result"
    }
   ],
   "source": [
    "embed_website(\"https://google.github.io/styleguide/pyguide.html\")"
   ]
  },
  {
   "cell_type": "markdown",
   "id": "3780b4d8",
   "metadata": {
    "slideshow": {
     "slide_type": "slide"
    }
   },
   "source": [
    "## Naming variables"
   ]
  },
  {
   "cell_type": "markdown",
   "id": "668b99bb",
   "metadata": {
    "slideshow": {
     "slide_type": "slide"
    }
   },
   "source": [
    "- [How to name things: The hardest problem in programming.](https://hilton.org.uk/blog/naming-smells)\n",
    "- The above link provides information about how to name variables. A corresponding video is also available [here](https://hilton.org.uk/presentations/naming).\n",
    "- This [link](https://news.ycombinator.com/item?id=9598527) provides another discussion of naming variables.\n",
    "- Naming is both hard and important is because it is an act of communication.\n",
    "- What are the three worst ever variable names (in Python data science code)? -> df, df2, df_2.\n",
    "- Don't use short names or abbreviations but think about the meaning of a variable. \n",
    "- The larger the scope of a variable is, the more descriptive its name should be.\n",
    "- For instance, use\n",
    "```python\n",
    "count = 0\n",
    "list_with_series = []\n",
    "while count <= 10:\n",
    "    count = count + 1\n",
    "    list_with_series.append(pd.Series([count]))\n",
    "dataframe = pd.concat(list_with_series, axis=1)\n",
    "```\n",
    "instead of\n",
    "```python\n",
    "l = []\n",
    "k = 0\n",
    "while k <= 10:\n",
    "    k = k + 1\n",
    "    l.append(pd.Series([count]))\n",
    "r = pd.concat(l, axis=1)\n",
    "```"
   ]
  },
  {
   "cell_type": "markdown",
   "id": "991fc2e5",
   "metadata": {
    "slideshow": {
     "slide_type": "slide"
    }
   },
   "source": [
    "## Linters"
   ]
  },
  {
   "cell_type": "markdown",
   "id": "25428c2c",
   "metadata": {
    "slideshow": {
     "slide_type": "-"
    }
   },
   "source": [
    "- Linters are programs that analyze code for programmtic and stylistic errors.\n",
    "- They provide errors and provide provide suggestions on how to fix the error. \n",
    "- Linters are particularly useful when installed as extensions to your text editor, \n",
    "as they flag errors and stylistic problems while you write.\n",
    "- As a result, you can catch programming errors before you actually run run the program.\n",
    "- Popular Python linters that mainly check the style according to PEP 8 are\n",
    "    - [flake8](https://github.com/PyCQA/flake8): Glues together pycodestyle, pyflakes, mccabe, and third-party plugins.\n",
    "    - [Pylint](https://www.pylint.org/): A static code analysis tool. Stricter than flake8. Recommended by Google.\n",
    "    - [flake8 vs Pylint](https://www.reddit.com/r/Python/comments/82hgzm/any_advantages_of_flake8_over_pylint/)\n",
    "- Python linters that perform static type checking.\n",
    "    - [mypy](https://mypy.readthedocs.io/en/stable/)\n",
    "    - [pyright](https://github.com/microsoft/pyright): Developed by Microsoft.\n",
    "- Related [tools that help while your coding](https://code.visualstudio.com/docs/editor/intellisense) by providing autosuggestions and information:\n",
    "    - [Jedi](https://jedi.readthedocs.io/en/latest/)\n",
    "    - [Pylance for VsCode](https://devblogs.microsoft.com/python/announcing-pylance-fast-feature-rich-language-support-for-python-in-visual-studio-code/)\n"
   ]
  },
  {
   "cell_type": "markdown",
   "id": "b179b965",
   "metadata": {
    "slideshow": {
     "slide_type": "slide"
    }
   },
   "source": [
    "### Exercise\n",
    "- Install flake8 into your pyscaffold_test environment\n",
    "- Consider your scripts and analyze the code of a script using ```flake8 script.py```\n",
    "- Read about [Python Linting in VsCode](https://code.visualstudio.com/docs/python/linting) and activate flake8 in VSCode.\n",
    "- Open a script and see whether flake8 indicates some problems with your script.\n",
    "- If required, fix the warnings and errors."
   ]
  },
  {
   "cell_type": "markdown",
   "id": "31e0e0f4",
   "metadata": {
    "slideshow": {
     "slide_type": "slide"
    }
   },
   "source": [
    "## Formatters\n",
    "- Formatters automatically refactor your code to be conform with PEP 8 or/and to be consistent throughout different files and projects, which improves the code quality.\n",
    "- People are opinionated about style. By using a formatter before you commit code you skip discussions about code style. \n",
    "- Popular Python code formatters are\n",
    "    - [autopep8](https://github.com/hhatto/autopep8): One of the oldest Python code formatter. Rather tries to make your code compliant with PEP 8 than formatting your code. \n",
    "    - [black](https://github.com/psf/black): The uncompromising Python code formatter.\n",
    "    - [prettier](https://github.com/prettier/prettier): Opinionated code formatter.\n",
    "    - [yapf](https://github.com/google/yapf): Python code formatter developed by Google. Configurable in a lot of ways.\n",
    "- For a comparions of these formatters click [here](https://www.kevinpeters.net/auto-formatters-for-python).\n",
    "- In this course, we focus on black.\n",
    "    - Applies the rules stated in PEP 8 with the exeception being a maximal line length of 88 characters instead of 79.\n",
    "    - Configuration is severly limited by design. There should be only one way how code is formatted.\n",
    "    - By using it you loose control over your code format. In return, you don't have to worry about formatting and different code styles. \n",
    "    \n"
   ]
  },
  {
   "cell_type": "code",
   "execution_count": 5,
   "id": "74ec94d6",
   "metadata": {
    "slideshow": {
     "slide_type": "slide"
    }
   },
   "outputs": [
    {
     "data": {
      "text/html": [
       "\n",
       "        <iframe\n",
       "            width=\"900\"\n",
       "            height=\"500\"\n",
       "            src=\"https://black.readthedocs.io/en/stable/the_black_code_style/current_style.html\"\n",
       "            frameborder=\"0\"\n",
       "            allowfullscreen\n",
       "            \n",
       "        ></iframe>\n",
       "        "
      ],
      "text/plain": [
       "<IPython.lib.display.IFrame at 0x7fed00153880>"
      ]
     },
     "execution_count": 5,
     "metadata": {},
     "output_type": "execute_result"
    }
   ],
   "source": [
    "embed_website(\"https://black.readthedocs.io/en/stable/the_black_code_style/current_style.html\")"
   ]
  },
  {
   "cell_type": "markdown",
   "id": "b2f19a12",
   "metadata": {
    "slideshow": {
     "slide_type": "slide"
    }
   },
   "source": [
    "- To format script.py with black execute ```black script.py```.\n",
    "- Note that black doesn't reformat lines that end with ```# fmt: skip``` or blocks that are enclosed by \n",
    "```# fmt: off``` and ```# fmt: on```.\n",
    "- Although black does its job pretty well, there are [issues](\"https://github.com/psf/black/issues/2279\") with formatting [call-chains](https://black.readthedocs.io/en/stable/the_black_code_style/current_style.html#call-chains) and you might have to excluded call-chains lines manually from formatting.\n",
    "- Moreover, if you like to apply the [\"single quotes for data, double quotes for human-readable strings\"](https://stackoverflow.com/questions/56011/single-quotes-vs-double-quotes-in-python/56190#56190) philosophy for formatting strings, you can click [here](https://black.readthedocs.io/en/stable/the_black_code_style/current_style.html#strings ) how to enable this in black\n",
    "\n"
   ]
  },
  {
   "cell_type": "markdown",
   "id": "466bbebc",
   "metadata": {
    "slideshow": {
     "slide_type": "slide"
    }
   },
   "source": [
    "### Exercise\n",
    "- Install black.\n",
    "- Run black on some files of your pyscaffold_test package and scripts."
   ]
  },
  {
   "cell_type": "markdown",
   "id": "90883f2e",
   "metadata": {
    "slideshow": {
     "slide_type": "slide"
    }
   },
   "source": [
    "## Import order"
   ]
  },
  {
   "cell_type": "markdown",
   "id": "99effe11",
   "metadata": {
    "slideshow": {
     "slide_type": "-"
    }
   },
   "source": [
    "- According to PEP8, imports should be grouped in the following order:\n",
    "    - Standard library imports.\n",
    "    - Related third party imports.\n",
    "    - Local application/library specific imports.\n",
    "- [isort](https://github.com/PyCQA/isort) sorts your imports alphabetically and by type (in-built, third-party, project-specific modules).\n",
    "- It can be combined with black."
   ]
  },
  {
   "cell_type": "markdown",
   "id": "8bdfd822",
   "metadata": {
    "slideshow": {
     "slide_type": "slide"
    }
   },
   "source": [
    "# Type hints/annotations\n",
    "- Type hints are described in \n",
    "    - [PEP 484 – Type Hints (for functions)](https://peps.python.org/pep-0484/)\n",
    "    - [PEP 526 – Syntax for Variable Annotations](https://peps.python.org/pep-0526/)\n",
    "    - [What are types hints in Python?](https://stackoverflow.com/a/32558710)\n",
    "- With type hints you can annotate the type of the object(s) you're using.\n",
    "- For instance, without type hints a function might look as follows\n",
    "```python3\n",
    "def my_very_complex_function(arg1_ls, arg2_dc, number, column_fun, df):\n",
    "    ... \n",
    "```"
   ]
  },
  {
   "cell_type": "markdown",
   "id": "d20850c8",
   "metadata": {
    "slideshow": {
     "slide_type": "fragment"
    }
   },
   "source": [
    "- Using type hints, the function definition might be\n",
    "```python3\n",
    "def my_very_complex_function(\n",
    "    arg1_ls: List[str], \n",
    "    arg2_dc: Dict[str, List[float]], \n",
    "    number: int, \n",
    "    column_fun: Callable,\n",
    "    df: pd.DataFrame\n",
    ") -> Dict[str, float]:\n",
    "    ...\n",
    "```"
   ]
  },
  {
   "cell_type": "markdown",
   "id": "cb334fad",
   "metadata": {
    "slideshow": {
     "slide_type": "slide"
    }
   },
   "source": [
    "- Type hinting is and will always be optional in Python.\n",
    "- But I strongly recommend to use type hints (whenever feasible) because\n",
    "    - It improves the documentation.\n",
    "    - Type checkers can verify whether the inputs and outputs of a function have the required type.\n",
    "    - IDEs suggest more appropriate methods and functions.\n",
    "    - Especially in a larger project, your code becomes more predictable.  \n",
    "- For an introduction to type hints, you can click [here](https://mypy.readthedocs.io/en/stable/cheat_sheet_py3.html) and [here](https://realpython.com/lessons/type-hinting/)."
   ]
  },
  {
   "cell_type": "code",
   "execution_count": 6,
   "id": "cac0b1e3",
   "metadata": {
    "slideshow": {
     "slide_type": "slide"
    }
   },
   "outputs": [
    {
     "data": {
      "text/html": [
       "\n",
       "        <iframe\n",
       "            width=\"900\"\n",
       "            height=\"500\"\n",
       "            src=\"https://mypy.readthedocs.io/en/stable/cheat_sheet_py3.html\"\n",
       "            frameborder=\"0\"\n",
       "            allowfullscreen\n",
       "            \n",
       "        ></iframe>\n",
       "        "
      ],
      "text/plain": [
       "<IPython.lib.display.IFrame at 0x7fed00198220>"
      ]
     },
     "execution_count": 6,
     "metadata": {},
     "output_type": "execute_result"
    }
   ],
   "source": [
    "embed_website(\"https://mypy.readthedocs.io/en/stable/cheat_sheet_py3.html\")"
   ]
  },
  {
   "cell_type": "markdown",
   "id": "f6c66565",
   "metadata": {
    "slideshow": {
     "slide_type": "slide"
    }
   },
   "source": [
    "- If your write a class, then the first line of your code should be ```from __future__ import annotations``` so that the return type of a method can be the class itself, e.g.,\n",
    "    ```python\n",
    "    from __future__ import annotations\n",
    "\n",
    "    class A:\n",
    "        def return_instance(self) -> A:\n",
    "        return self\n",
    "    ```\n",
    "- Note that not each third-party package internally supports type checking.\n",
    "- For instance, if you run mypy on a script that imports pandas you obtain the following [error](https://mypy.readthedocs.io/en/stable/running_mypy.html#missing-imports)\n",
    "```\n",
    "error: Skipping analyzing \"pandas\": found module but no type hints or library stubs\n",
    "```\n",
    "- However, there may be a [PEP 561](https://peps.python.org/pep-0561/#stub-only-packages) compliant stub package which installs type checks independently of the package.\n",
    "- To install the **public** type stubs for pandas click [here](https://github.com/pandas-dev/pandas-stubs). These subs are based on [virtuslab/pandas-stubs](https://medium.com/virtuslab/pandas-stubs-how-we-enhanced-pandas-with-type-annotations-1f69ecf1519e). Internally, pandas uses its own types for development (see pandas._typing) which are not all supported by the public stubs.\n",
    "- Using the stubs for pandas you can annotate pd.Series and pd.DataFrames as follows    \n",
    "    ```python\n",
    "    from __future__ import annotations  # not required if you just use pd.Series and do not annotate its dtype\n",
    "    import pandas as pd\n",
    "\n",
    "    def fun(a: pd.Series[bool]) -> pd.DataFrame:  # annotation of the dtype of the pd.DataFrame is not supported\n",
    "        return pd.DataFrame(dtype=bool)\n",
    "    ```\n",
    "- Note that type hints for pandas are in an early stage of development and limited. Mypy errors may also be false positives.\n",
    "- The same is true for [numpy type hints](https://numpy.org/devdocs/reference/typing.html#module-numpy.typing)."
   ]
  },
  {
   "cell_type": "markdown",
   "id": "287d1fba",
   "metadata": {
    "slideshow": {
     "slide_type": "slide"
    }
   },
   "source": [
    "## Exercise\n",
    "- Install mypy in your pyscaffold_test environment.\n",
    "- Read about [Python Linting in VsCode](https://code.visualstudio.com/docs/python/linting) and activate mypy in VsCode.\n",
    "- To use multiple linters together in VSCode, use the command palette to open ```Preferences: Open Settings (JSON)``` and, e.g., write the following lines in settings.json\n",
    "```\n",
    "    \"python.linting.flake8Enabled\": true,\n",
    "    \"python.linting.mypyEnabled\": true,\n",
    "    \"python.linting.pylintEnabled\": false,\n",
    "```\n",
    "- Add type hints for all functions of your pyscaffold_test package.\n",
    "- Open the modules of your pyscaffold_test package and check whether mypy finds any issues. \n",
    "- Correct any issues."
   ]
  },
  {
   "cell_type": "markdown",
   "id": "32fa4e1a",
   "metadata": {
    "slideshow": {
     "slide_type": "slide"
    }
   },
   "source": [
    "# Git hooks and Pre-commit"
   ]
  },
  {
   "cell_type": "markdown",
   "id": "8a570db2",
   "metadata": {
    "slideshow": {
     "slide_type": "-"
    }
   },
   "source": [
    "## Git hooks\n",
    "- [Git hooks](https://www.atlassian.com/git/tutorials/git-hooks) are custom scripts that are automatically executed before or after a specific event (e.g., a commit or rebase) occurs in a Git repository. \n",
    "- With Git hooks you can improve and standardize your code developement.\n",
    "- Common use cases.\n",
    "    - Inspect the files that about to be committed and adjust them and/or the commit message before applying the commit (e.g., remove trailing whitespace, format code, ...)\n",
    "    - Reject commits that don’t meet specified requirements (file is too large, bad style, syntax errors, failed tests, ...)\n",
    "    - Pointing out issues before a code review, which improves the code review process.\n",
    "    - Changing the project environment based on repository status.\n",
    "    - Implement continuous integration workflows.\n",
    "- There are two groups of hooks\n",
    "    - Client-side: Specified in the local repo and triggered by operations such as commit and merging.\n",
    "    - Server-side: Triggered by network operations such as receiving push commits."
   ]
  },
  {
   "cell_type": "markdown",
   "id": "d155c54b",
   "metadata": {
    "slideshow": {
     "slide_type": "slide"
    }
   },
   "source": [
    "## Pre-commit"
   ]
  },
  {
   "cell_type": "markdown",
   "id": "1bbd9335",
   "metadata": {
    "slideshow": {
     "slide_type": "-"
    }
   },
   "source": [
    "- In the following, we only consider the pre-commit script.\n",
    "- This script is executed every time before Git git creates a commit.\n",
    "- In order that a pre-commit script runs, you have create it and install required dependencies (e.g., linters) in the corresponding environment \n",
    "- [pre-commit](https://pre-commit.com/) is a framework for managing and maintaining multi-language pre-commit hooks (that are locally executed).\n",
    "    - You only have to specify the url of a Git repository that contains hooks and pre-commit manages the \n",
    "installation and execution of these hooks before every commit\n",
    "- Please install pre-commit in your pyscaffold_test environment.\n",
    "- To use pre-commit you have to set up its configuration .pre-commit-config.yaml in the root of your project.\n",
    "- Luckily, PyScaffold has already taken care of that :) "
   ]
  },
  {
   "cell_type": "code",
   "execution_count": 7,
   "id": "8d23f16f",
   "metadata": {
    "slideshow": {
     "slide_type": "slide"
    }
   },
   "outputs": [
    {
     "name": "stdout",
     "output_type": "stream",
     "text": [
      "exclude: '^docs/conf.py'\r\n",
      "\r\n",
      "repos:\r\n",
      "- repo: https://github.com/pre-commit/pre-commit-hooks\r\n",
      "  rev: v4.3.0\r\n",
      "  hooks:\r\n",
      "  - id: trailing-whitespace\r\n",
      "  - id: check-added-large-files\r\n",
      "  - id: check-ast\r\n",
      "  - id: check-json\r\n",
      "  - id: check-merge-conflict\r\n",
      "  - id: check-xml\r\n",
      "  - id: check-yaml\r\n",
      "  - id: debug-statements\r\n",
      "  - id: end-of-file-fixer\r\n",
      "  - id: requirements-txt-fixer\r\n",
      "  - id: mixed-line-ending\r\n",
      "    args: ['--fix=auto']  # replace 'auto' with 'lf' to enforce Linux/Mac line endings or 'crlf' for Windows\r\n",
      "\r\n",
      "## If you want to avoid flake8 errors due to unused vars or imports:\r\n",
      "# - repo: https://github.com/myint/autoflake\r\n",
      "#   rev: v1.4\r\n",
      "#   hooks:\r\n",
      "#   - id: autoflake\r\n",
      "#     args: [\r\n",
      "#       --in-place,\r\n",
      "#       --remove-all-unused-imports,\r\n",
      "#       --remove-unused-variables,\r\n",
      "#     ]\r\n",
      "\r\n",
      "- repo: https://github.com/pycqa/isort\r\n",
      "  rev: 5.10.1\r\n",
      "  hooks:\r\n",
      "  - id: isort\r\n",
      "\r\n",
      "- repo: https://github.com/psf/black\r\n",
      "  rev: 22.10.0\r\n",
      "  hooks:\r\n",
      "  - id: black\r\n",
      "    language_version: python3\r\n",
      "\r\n",
      "## If like to embrace black styles even in the docs:\r\n",
      "# - repo: https://github.com/asottile/blacken-docs\r\n",
      "#   rev: v1.12.0\r\n",
      "#   hooks:\r\n",
      "#   - id: blacken-docs\r\n",
      "#     additional_dependencies: [black]\r\n",
      "\r\n",
      "- repo: https://github.com/PyCQA/flake8\r\n",
      "  rev: 5.0.4\r\n",
      "  hooks:\r\n",
      "  - id: flake8\r\n",
      "  ## You can add flake8 plugins via `additional_dependencies`:\r\n",
      "  #  additional_dependencies: [flake8-bugbear]\r\n"
     ]
    }
   ],
   "source": [
    "!cat ../../../pyscaffold_test/.pre-commit-config.yaml"
   ]
  },
  {
   "cell_type": "markdown",
   "id": "34727199",
   "metadata": {
    "slideshow": {
     "slide_type": "subslide"
    }
   },
   "source": [
    "- Note that you don't have to install a package into your environment if you want to use it with pre-commit (that's the main reason why pre-commit was created!)\n",
    "- The repo key tells pre-commit where to find the code for the hook.\n",
    "- For an explanation of the configuration see the corresponding [section](https://pre-commit.com/#pre-commit-configyaml---top-level) in the official docs.\n",
    "- Note that I would not recommend to add a hook for checking type annotations, e.g., [mypy](https://github.com/pre-commit/mirrors-mypy), because it can be difficult to satisfy them (but you should user a linter for checking type annotations)\n",
    "<!-- - Investigate the first hook https://github.com/pre-commit/pre-commit-hooks -->"
   ]
  },
  {
   "cell_type": "markdown",
   "id": "78a0f486",
   "metadata": {
    "slideshow": {
     "slide_type": "slide"
    }
   },
   "source": [
    "- Run ```pre-commit install``` to set up the Git hook scripts.\n",
    "- Thereafter, run ```pre-commit autoupdate``` to update your hooks to the latest package version.\n",
    "- Pre-commit will now run whenever you want to apply a Git commit.\n",
    "    - All unstaged files are stashed by Git before the pre-commit script is run. These files are restored when the script terminates. \n",
    "    - If you use a GUI to apply a commit you might observe some funny behavior because most GUIs do not support pre-commit (directly)\n",
    "        - I recommend to to run ```git commit``` in the terminal when using hooks.\n",
    "    - Files that should be committed might be changed by the pre-commit script. \n",
    "    - The commit is aborted if the pre-commit script does not terminate with exit status 0.\n",
    "        - In this case, modification to files due to running the pre-commit script are not automatically staged.\n",
    "        - I recommend to stage these changes before your run pre-commit scripts again.\n",
    "    - You can bypass the pre-commit script by adding the flag no-verify, i.e., ```git commit --no-verify```\n",
    "- If you have already committed files to Git before pre-commit was installed you should run the hooks\n",
    "  for all files using ```pre-commit run --all-files```"
   ]
  },
  {
   "cell_type": "markdown",
   "id": "10f51176",
   "metadata": {
    "slideshow": {
     "slide_type": "slide"
    }
   },
   "source": [
    "## Exercise\n",
    "- Set up pre-commit taking into account the information on the previous slides.\n",
    "- Create the following script ```pyscaffold_test/scripts/pre_commit.py``` with the following content\n",
    "\n",
    "```python\n",
    "\"\"\"\n",
    "Demontrates the effects of using pre-commit. \n",
    "\"\"\"\n",
    "import pandas as pd\n",
    "import os\n",
    "import numpy as np\n",
    "\n",
    "newline = \"\\n\"\n",
    "\n",
    "def i_am_a_function_that_returns_the_absolute_path_of_the_folder_of_this_file(before: str = '', after: str = '') -> str:\n",
    "    path = os.path.abspath(os.path.basename(__file__))\n",
    "    return f\"{before}{newline}{path}{newline}{after}\"\n",
    "\n",
    "df = pd.DataFrame([1, 2, 3])\n",
    "\n",
    "output = i_am_a_function_that_returns_the_absolute_path_of_the_folder_of_this_file(before=\"Hello from\", after=\"Nice to meet you!\")\n",
    "```"
   ]
  },
  {
   "cell_type": "markdown",
   "id": "6a3828d4",
   "metadata": {
    "slideshow": {
     "slide_type": "slide"
    }
   },
   "source": [
    "- Commit ```pyscaffold_test/scripts/pre_commit.py``` using the terminal.\n",
    "- Observe the output of the terminal when the pre-commit hooks are executed. What do you observe?\n",
    "- Investigate the changes done by the pre-commit hooks.\n",
    "- Add the changes to the staging area.\n",
    "- Commit ```pyscaffold_test/scripts/pre_commit.py``` again.\n",
    "- If the commit has not succeeded, perform the required steps so that a commit is accepted and commit ```pyscaffold_test/scripts/pre_commit.py```."
   ]
  },
  {
   "cell_type": "markdown",
   "id": "6e7fae1b",
   "metadata": {
    "slideshow": {
     "slide_type": "slide"
    }
   },
   "source": [
    "# Code documentation\n",
    "- Documentation is crucial for any software project, but often neglected. \n",
    "- Why documenting your code is important\n",
    "    - Code is more often read than written.\n",
    "    - If you are writing software and the documentation is not good enough, people will not use it (including yourself).\n",
    "- Commenting vs Documenting \n",
    "    - Use comments to describe your code for developers and explain explain non-obvious parts or decisions.\n",
    "    - Use documenting to describing the use and functionality of your software to users.\n",
    "- In this course we focus on documentating the API of your package that you use for your project."
   ]
  },
  {
   "cell_type": "markdown",
   "id": "f829d245",
   "metadata": {
    "slideshow": {
     "slide_type": "slide"
    }
   },
   "source": [
    "## Docstrings and Docstrings formats"
   ]
  },
  {
   "cell_type": "markdown",
   "id": "eb2b4221",
   "metadata": {
    "slideshow": {
     "slide_type": "-"
    }
   },
   "source": [
    "- Python uses docstrings to document code. \n",
    "- The docstring of a function, class, module, script, or (the ```__init__.py``` of) a package, is the string directly below the object, e.g.,\n",
    "```python\n",
    "def fun():\n",
    "    \"\"\"\n",
    "    I am the docstring\n",
    "    \n",
    "    I rock!\n",
    "    \"\"\"\n",
    "```\n",
    "- [PEP 257](https://peps.python.org/pep-0257/) describes docstring conventions. \n",
    "<!-- Docstrings should always use triple-double quotes \"\"\", slinge-line and multi-line docstrings -->\n",
    "- Please click [here](https://realpython.com/documenting-python-code/#docstring-types) to learn more about how to write docstrings for different objects.\n",
    "- To access the docstring of a function, class or module use ```help(object)```.\n",
    "- If you are using IPython (e.g., a Jupyter notebook with an IPython kernel) you can also use ```object?```\n",
    "- Note that the doc string of an object is also contained in its attribute ```__doc__```, e.g., ```print(getattr(1, '__doc__')```, which can be modified at runtime if the object is not built-in\n",
    "- You can also investigate the documentation of ```<name>``` using ```python3 -m pydoc <name>```, where name can be a module, package and much more ( ```python3 -m pydoc -h```), e.g., ```python3 -m pydoc pyscaffold_test.data```\n",
    "- You can even start a server to see the documentation in the browser using ```python -m pydoc -p <port>``` (pretty, isn't it?)"
   ]
  },
  {
   "cell_type": "markdown",
   "id": "70a9a7f5",
   "metadata": {
    "slideshow": {
     "slide_type": "slide"
    }
   },
   "source": [
    "- The top 3 most popular Python docstrings formats are\n",
    "    - [reSt (reStructuredText)](https://docutils.sourceforge.io/rst.html): [Official Python documentation standard](https://peps.python.org/pep-0287/), verbose and some learning-curve.\n",
    "    - [Google docstrings](https://google.github.io/styleguide/pyguide.html#38-comments-and-docstrings): Simple to write and to read.\n",
    "    - [NumPy/SciPy docstrings](https://numpydoc.readthedocs.io/en/latest/format.html#docstring-standard): Combination of reST and Google Docstrings.\n",
    "- I recommend to use [Google docstrings](https://sphinxcontrib-napoleon.readthedocs.io/en/latest/example_google.html), due to simplicity, which look as follows for a function\n",
    "\n",
    "```python\n",
    "\"\"\"\n",
    "Computes the answer to the ultimate question of life, the universe, and everything.\n",
    "\n",
    "Args:\n",
    "    the_question: The ultimate question of life, the universe, and everything.\n",
    "    verbose: A flag used to print the estimated completion time during \n",
    "        computation (default is False)\n",
    "\n",
    "Returns:\n",
    "    int: 42\n",
    "\"\"\"\n",
    "```\n",
    "- Note that you don't have to specify the type of the arguments and the return value if you use type hints.\n",
    "- Click [here](https://google.github.io/styleguide/pyguide.html#doc-function-raises) for a more advanced example."
   ]
  },
  {
   "cell_type": "markdown",
   "id": "7292cfb2",
   "metadata": {
    "slideshow": {
     "slide_type": "slide"
    }
   },
   "source": [
    "## Auto-generating a (html) API documentation from docstrings\n",
    "- There are several tools that you can use to create much of your API documentation automatically.\n",
    "- [Sphinx](https://www.sphinx-doc.org/): Powerful but also a bit difficult to use.  \n",
    "    - Developed for documenting Python. Popular libraries (NumPy, SciPy, Pandas, Matplotlib...) uses Sphinx. \n",
    "    - The Linux kernel also uses Sphinx.\n",
    "    - With the [Autodoc](https://www.sphinx-doc.org/en/master/usage/extensions/autodoc.html) extension you can generate documentation automatically from docstrings. \n",
    "- [pdoc](https://pdoc.dev/): Simple and easy to use. Only Python API documentation. \n",
    "- [MkDocs](https://www.mkdocs.org/): A rather simple tool for project documentation.\n",
    "    - Used for [pydantic](https://pydantic-docs.helpmanual.io/). \n",
    "    - For API documentation one can use [mkdocstrings](https://mkdocstrings.github.io/) to automatically generate documentation from docstrings.\n",
    "- And many more!"
   ]
  },
  {
   "cell_type": "markdown",
   "id": "b4023e43",
   "metadata": {
    "slideshow": {
     "slide_type": "slide"
    }
   },
   "source": [
    "## Using PyScaffold to create a Sphinx documentation\n",
    "- PyScaffold will prepare a docs directory that contains everything that you need to write your documentation with Sphinx.\n",
    "- Moreover, the Numpy and Google style docstrings are activated by default (Otherwise you would have to use reST in the docstrings).\n",
    "<!-- - Sphinx can only parse reSt, but [current versions](https://sphinxcontrib-napoleon.readthedocs.io/en/latest/example_google.html) can now parse NumPy and Google style docstrings and convert them to reSt before Sphinx parses them. -->\n",
    "- The DS extension of PyScaffold enables the use of a Markdown README.md file (and not a reST README.rst) which is included into the documentation.\n",
    "- To build a Sphinx documentation for a project that has been set up with PyScaffold we can use\n",
    "    - ```make -C docs html``` (requires that make is installed in the activated environment, you probably also have to install Linkify)\n",
    "    - ```tox -e docs``` (requires that tox is installed in the activated environment and that [tox.ini](tox.ini) is available)\n",
    "        - Moreover, in setup.cfg you have to add the dependencies of your pyscaffold_test package as follows\n",
    "        ```\n",
    "        install_requires =\n",
    "            importlib-metadata; python_version<\"3.8\"\n",
    "            pandas\n",
    "            matplotlib\n",
    "        ```\n",
    "- After the docs are successfully created, you can use a browser to open the starting page ```docs/_build/html/index.html```\n",
    "- I suggest to change add the flag ```--module-first``` to ```sphinx-apidoc --implicit-namespaces -f -o {output_dir} {module_dir}``` in docs/conf.py to [put the module documentation before the submodule documentation](https://stackoverflow.com/a/66365397) "
   ]
  },
  {
   "cell_type": "markdown",
   "id": "1e1f587d",
   "metadata": {
    "slideshow": {
     "slide_type": "slide"
    }
   },
   "source": [
    "## Exercise\n",
    "- Write docstrings for your pscaffold_test package, in particular\n",
    "    - A Docstring for each module.\n",
    "    - A Docstring for each function.\n",
    "- Use Sphinx to make a documentation for your pscaffold_test package.\n",
    "- Note: If you don't like the look of your Sphinx documentation, you can search the web how to change the theme."
   ]
  }
 ],
 "metadata": {
  "celltoolbar": "Slideshow",
  "jupytext": {
   "comment_magics": false
  },
  "kernelspec": {
   "display_name": "Python 3 (ipykernel)",
   "language": "python",
   "name": "python3"
  },
  "language_info": {
   "codemirror_mode": {
    "name": "ipython",
    "version": 3
   },
   "file_extension": ".py",
   "mimetype": "text/x-python",
   "name": "python",
   "nbconvert_exporter": "python",
   "pygments_lexer": "ipython3",
   "version": "3.10.8"
  },
  "toc": {
   "base_numbering": 1,
   "nav_menu": {},
   "number_sections": true,
   "sideBar": true,
   "skip_h1_title": false,
   "title_cell": "Table of Contents",
   "title_sidebar": "Contents",
   "toc_cell": false,
   "toc_position": {
    "height": "calc(100% - 180px)",
    "left": "10px",
    "top": "150px",
    "width": "384px"
   },
   "toc_section_display": true,
   "toc_window_display": true
  }
 },
 "nbformat": 4,
 "nbformat_minor": 5
}
