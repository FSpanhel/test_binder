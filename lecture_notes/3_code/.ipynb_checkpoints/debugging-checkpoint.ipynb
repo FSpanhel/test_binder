{
 "cells": [
  {
   "cell_type": "markdown",
   "id": "7f8a3012",
   "metadata": {
    "toc": true
   },
   "source": [
    "<h1>Table of Contents<span class=\"tocSkip\"></span></h1>\n",
    "<div class=\"toc\"><ul class=\"toc-item\"><li><span><a href=\"#Debugging-and-Python-debuggers\" data-toc-modified-id=\"Debugging-and-Python-debuggers-1\"><span class=\"toc-item-num\">1&nbsp;&nbsp;</span>Debugging and Python debuggers</a></span><ul class=\"toc-item\"><li><span><a href=\"#Resources\" data-toc-modified-id=\"Resources-1.1\"><span class=\"toc-item-num\">1.1&nbsp;&nbsp;</span>Resources</a></span></li><li><span><a href=\"#Introduction\" data-toc-modified-id=\"Introduction-1.2\"><span class=\"toc-item-num\">1.2&nbsp;&nbsp;</span>Introduction</a></span><ul class=\"toc-item\"><li><span><a href=\"#What-is-debugging?\" data-toc-modified-id=\"What-is-debugging?-1.2.1\"><span class=\"toc-item-num\">1.2.1&nbsp;&nbsp;</span>What is debugging?</a></span></li><li><span><a href=\"#How-can-I-see-what-my-code-is-doing-(to-find-and-resolve-bugs)?\" data-toc-modified-id=\"How-can-I-see-what-my-code-is-doing-(to-find-and-resolve-bugs)?-1.2.2\"><span class=\"toc-item-num\">1.2.2&nbsp;&nbsp;</span>How can I see what my code is doing (to find and resolve bugs)?</a></span></li><li><span><a href=\"#What-is-a-debugger?\" data-toc-modified-id=\"What-is-a-debugger?-1.2.3\"><span class=\"toc-item-num\">1.2.3&nbsp;&nbsp;</span>What is a debugger?</a></span></li><li><span><a href=\"#Why-and-when-should-I-use-a-debugger?\" data-toc-modified-id=\"Why-and-when-should-I-use-a-debugger?-1.2.4\"><span class=\"toc-item-num\">1.2.4&nbsp;&nbsp;</span>Why and when should I use a debugger?</a></span></li></ul></li><li><span><a href=\"#With-what-tools-can-you-debug-in-Python?\" data-toc-modified-id=\"With-what-tools-can-you-debug-in-Python?-1.3\"><span class=\"toc-item-num\">1.3&nbsp;&nbsp;</span>With what tools can you debug in Python?</a></span></li><li><span><a href=\"#How-to-start-a-debugger\" data-toc-modified-id=\"How-to-start-a-debugger-1.4\"><span class=\"toc-item-num\">1.4&nbsp;&nbsp;</span>How to start a debugger</a></span></li><li><span><a href=\"#Using-VS-Code-to-debug-a-script\" data-toc-modified-id=\"Using-VS-Code-to-debug-a-script-1.5\"><span class=\"toc-item-num\">1.5&nbsp;&nbsp;</span>Using VS Code to debug a script</a></span><ul class=\"toc-item\"><li><span><a href=\"#Starting-the-debugger\" data-toc-modified-id=\"Starting-the-debugger-1.5.1\"><span class=\"toc-item-num\">1.5.1&nbsp;&nbsp;</span>Starting the debugger</a></span></li><li><span><a href=\"#Set-up-a-debugger-configuration\" data-toc-modified-id=\"Set-up-a-debugger-configuration-1.5.2\"><span class=\"toc-item-num\">1.5.2&nbsp;&nbsp;</span>Set up a debugger configuration</a></span><ul class=\"toc-item\"><li><span><a href=\"#Launch-and-attach-configurations\" data-toc-modified-id=\"Launch-and-attach-configurations-1.5.2.1\"><span class=\"toc-item-num\">1.5.2.1&nbsp;&nbsp;</span><a href=\"https://code.visualstudio.com/docs/editor/debugging#_launch-versus-attach-configurations\" rel=\"nofollow\" target=\"_blank\">Launch and attach configurations</a></a></span></li></ul></li><li><span><a href=\"#Interacting-with-the-debugger\" data-toc-modified-id=\"Interacting-with-the-debugger-1.5.3\"><span class=\"toc-item-num\">1.5.3&nbsp;&nbsp;</span>Interacting with the debugger</a></span><ul class=\"toc-item\"><li><span><a href=\"#Mutating-state\" data-toc-modified-id=\"Mutating-state-1.5.3.1\"><span class=\"toc-item-num\">1.5.3.1&nbsp;&nbsp;</span>Mutating state</a></span></li><li><span><a href=\"#Log-points\" data-toc-modified-id=\"Log-points-1.5.3.2\"><span class=\"toc-item-num\">1.5.3.2&nbsp;&nbsp;</span><a href=\"https://code.visualstudio.com/docs/editor/debugging#_logpoints\" rel=\"nofollow\" target=\"_blank\">Log points</a></a></span></li><li><span><a href=\"#Watching-variables\" data-toc-modified-id=\"Watching-variables-1.5.3.3\"><span class=\"toc-item-num\">1.5.3.3&nbsp;&nbsp;</span>Watching variables</a></span></li><li><span><a href=\"#Conditional-breakpoints\" data-toc-modified-id=\"Conditional-breakpoints-1.5.3.4\"><span class=\"toc-item-num\">1.5.3.4&nbsp;&nbsp;</span>Conditional breakpoints</a></span></li><li><span><a href=\"#Functions-breakpoints\" data-toc-modified-id=\"Functions-breakpoints-1.5.3.5\"><span class=\"toc-item-num\">1.5.3.5&nbsp;&nbsp;</span>Functions breakpoints</a></span></li></ul></li><li><span><a href=\"#Debugging-from-the-command-line\" data-toc-modified-id=\"Debugging-from-the-command-line-1.5.4\"><span class=\"toc-item-num\">1.5.4&nbsp;&nbsp;</span><a href=\"https://code.visualstudio.com/docs/python/debugging#_command-line-debugging\" rel=\"nofollow\" target=\"_blank\">Debugging from the command line</a></a></span><ul class=\"toc-item\"><li><span><a href=\"#Providing-command-line-arguments-to-a-program-that-should-be-debugged\" data-toc-modified-id=\"Providing-command-line-arguments-to-a-program-that-should-be-debugged-1.5.4.1\"><span class=\"toc-item-num\">1.5.4.1&nbsp;&nbsp;</span>Providing command line arguments to a program that should be debugged</a></span></li></ul></li></ul></li><li><span><a href=\"#Using-VS-Code-to-debug-a-notebook\" data-toc-modified-id=\"Using-VS-Code-to-debug-a-notebook-1.6\"><span class=\"toc-item-num\">1.6&nbsp;&nbsp;</span>Using VS Code to debug a notebook</a></span></li><li><span><a href=\"#Real-case-example:-Debugging-https://gitlab.p7s1.io/ent-bi-data-science/ga_vs_walle_report/-/issues/21\" data-toc-modified-id=\"Real-case-example:-Debugging-https://gitlab.p7s1.io/ent-bi-data-science/ga_vs_walle_report/-/issues/21-1.7\"><span class=\"toc-item-num\">1.7&nbsp;&nbsp;</span>Real case example: Debugging <a href=\"https://gitlab.p7s1.io/ent-bi-data-science/ga_vs_walle_report/-/issues/21\" rel=\"nofollow\" target=\"_blank\">https://gitlab.p7s1.io/ent-bi-data-science/ga_vs_walle_report/-/issues/21</a></a></span></li></ul></li><li><span><a href=\"#Unfinished\" data-toc-modified-id=\"Unfinished-2\"><span class=\"toc-item-num\">2&nbsp;&nbsp;</span>Unfinished</a></span><ul class=\"toc-item\"><li><span><a href=\"#Using-pdb\" data-toc-modified-id=\"Using-pdb-2.1\"><span class=\"toc-item-num\">2.1&nbsp;&nbsp;</span>Using pdb</a></span><ul class=\"toc-item\"><li><span><a href=\"#Interactive-IPython/Jupyter-sessions\" data-toc-modified-id=\"Interactive-IPython/Jupyter-sessions-2.1.1\"><span class=\"toc-item-num\">2.1.1&nbsp;&nbsp;</span>Interactive IPython/Jupyter sessions</a></span><ul class=\"toc-item\"><li><span><a href=\"#Post-mortem\" data-toc-modified-id=\"Post-mortem-2.1.1.1\"><span class=\"toc-item-num\">2.1.1.1&nbsp;&nbsp;</span>Post mortem</a></span></li></ul></li></ul></li><li><span><a href=\"#How-to-debug?\" data-toc-modified-id=\"How-to-debug?-2.2\"><span class=\"toc-item-num\">2.2&nbsp;&nbsp;</span>How to debug?</a></span></li></ul></li><li><span><a href=\"#Debugger\" data-toc-modified-id=\"Debugger-3\"><span class=\"toc-item-num\">3&nbsp;&nbsp;</span>Debugger</a></span><ul class=\"toc-item\"><li><span><a href=\"#Enter-the-debugger-at-a-specifc-line\" data-toc-modified-id=\"Enter-the-debugger-at-a-specifc-line-3.1\"><span class=\"toc-item-num\">3.1&nbsp;&nbsp;</span>Enter the debugger at a specifc line</a></span></li><li><span><a href=\"#interact-and-embed\" data-toc-modified-id=\"interact-and-embed-3.2\"><span class=\"toc-item-num\">3.2&nbsp;&nbsp;</span>interact and embed</a></span></li></ul></li></ul></div>"
   ]
  },
  {
   "cell_type": "markdown",
   "id": "c5dbf426",
   "metadata": {},
   "source": [
    "This notebook contains everything related to package development."
   ]
  },
  {
   "cell_type": "markdown",
   "id": "27e114ab",
   "metadata": {},
   "source": [
    "# Debugging and Python debuggers"
   ]
  },
  {
   "cell_type": "markdown",
   "id": "33ba1e39",
   "metadata": {},
   "source": [
    "## Resources\n",
    "- How to debug in Python using `pdb`\n",
    "    - [GeeksForGeeks](https://www.geeksforgeeks.org/debugging-in-python-with-pdb/): Concise but comprehensive overview with good examples\n",
    "    - [CodeMentor](https://www.codementor.io/@stevek/advanced-python-debugging-with-pdb-g56gvmpfa)\n",
    "    - [RealPython](https://realpython.com/python-debugging-pdb/)\n",
    "- [Overview of Python debuggers](https://wiki.python.org/moin/PythonDebuggingTools#Debuggers)\n",
    "- VS Code\n",
    "    - Official docs\n",
    "        - [General debugging](https://code.visualstudio.com/docs/editor/debugging)\n",
    "        - [Python debugging intro](https://code.visualstudio.com/docs/python/python-tutorial#_configure-and-run-the-debugger)\n",
    "        - [Python debugging](https://code.visualstudio.com/docs/python/debugging)\n",
    "    - [Python debugging video](https://www.youtube.com/watch?v=oCcTiRGPogQ)\n",
    "    - [How to view pd.DataFrames](https://stackoverflow.com/questions/60097076/view-dataframe-while-debugging-in-vs-code)\n",
    "- Determine which commit introduced a particular bug using `git bisect`\n",
    "    - https://www.metaltoad.com/blog/beginners-guide-git-bisect-process-elimination\n",
    "    - https://stackoverflow.com/questions/4713088/how-to-use-git-bisect"
   ]
  },
  {
   "cell_type": "markdown",
   "id": "71d6d293",
   "metadata": {},
   "source": [
    "## Introduction"
   ]
  },
  {
   "cell_type": "markdown",
   "id": "334464dd",
   "metadata": {},
   "source": [
    "### What is debugging?\n",
    "[Wikipedia](https://en.wikipedia.org/wiki/Debugging):\n",
    "\n",
    "- In computer programming and software development, debugging is the process of **finding and resolving bugs** (defects or problems that prevent correct operation) within computer programs, software, or systems.\n",
    "- Debugging tactics can involve **interactive debugging, control flow analysis, unit testing, integration testing, log file analysis**, monitoring at the application or system level, memory dumps, and profiling. \n",
    "- Many programming languages and software development tools also offer programs to aid in debugging, known as **debuggers**."
   ]
  },
  {
   "cell_type": "markdown",
   "id": "97606550",
   "metadata": {},
   "source": [
    "### How can I see what my code is doing (to find and resolve bugs)?\n",
    "\n",
    "1. Using a **[REPL/interactive (I)Python or Jupyter session](https://realpython.com/python-repl/)**\n",
    "    - Okay for prototyping. Can alter the state of variables or edit code.\n",
    "    - Not convenient and not applicable for more complex tasks.\n",
    "1. Using **Jupyter notebooks** to separate the code into steps and looking at the result of each step.\n",
    "    - Great for prototyping. Can alter the state of variables or edit code.\n",
    "    - Not applicable for more complex tasks and when it is cumbersome to separate code into steps (e.g., functions, classes)\n",
    "    - Can become confusing if many cells are involved and/or cells are evaluated in a non-linear manner and source code is edited in between. \n",
    "1. Inserting **print statements** to trace code.\n",
    "    - You just need to know how to print statements.\n",
    "    - Quickly gets tedious and messy, changes source code every time a print statement is added or removed. Use logging instead.\n",
    "    - Cannot alter the state of variables or edit code.\n",
    "    - You need to specify what is printed. \n",
    "1. **Logging**\n",
    "    - The appropriate tool of choice to monitor (and understand) the operation of a program.\n",
    "    - It takes some time to use Python's logging module effectively and efficiently (or use `ds.io.logging`)\n",
    "    - Cannot alter the state of variables or edit code.\n",
    "    - You need to specify what is logged.\n",
    "1. Using a **debugger**\n",
    "    - The appropriate tool to investigate the execution of a program.\n",
    "    - Can run, stop, resume and alter the exceution of a program without touching the source code.\n",
    "    - Depending on which debugger you use, it takes some time to use them efficiently."
   ]
  },
  {
   "cell_type": "markdown",
   "id": "3f4b6c17",
   "metadata": {},
   "source": [
    "### What is a debugger?\n",
    "- A debugger is a software tool to **inspect the execution of programs and identify errors** in programs.\n",
    "- A debugger can be used to **step through the code, line by line**, to identify the cause of the error or investigate the behavior of a program.\n",
    "- Instead of running a program step by step, a debugger can also be used to examine the program at specific lines or when a particular events happen by setting **breakpoints**.\n",
    "- The debugger can also be used to **modify values of variables** to see how the program responds to different inputs.\n",
    "- Debuggers are available for many programming languages and platforms, ranging from simple **command-line tools** to complex integrated development environments (**IDEs**). \n",
    "- They can be used to debug programs running on a local machine or remotely.\n",
    "- Overall, a debugger is an **essential tool for software developers** to ensure that their programs are working correctly."
   ]
  },
  {
   "cell_type": "markdown",
   "id": "4c3a680f",
   "metadata": {},
   "source": [
    "### Why and when should I use a debugger?\n",
    "- You don't have to use a debugger if you are \"coding\" in Jupyter notebooks and don't use functions or classes.\n",
    "- In fact, Jupyter notebooks are already like an interactive debugger.\n",
    "- You definitely want to use a debugger, if you want to investigate a .py script that contains functions and classes\n",
    "    - Automating a job\n",
    "    - Developing a package\n",
    "- In this case, debuggers are great to identify the cause of a bug and to understand what is happening and how different parts of the code are interacting with each other.\n",
    "- Getting used to use a debugger takes some time, but once you know how to use it efficiently you cannot imagine coding without it!"
   ]
  },
  {
   "cell_type": "markdown",
   "id": "da99bf7c",
   "metadata": {},
   "source": [
    "## With what tools can you debug in Python?"
   ]
  },
  {
   "cell_type": "markdown",
   "id": "f3ae8e17",
   "metadata": {},
   "source": [
    "- There are many tools to debug in Python, see [here](https://wiki.python.org/moin/PythonDebuggingTools) for an overview of debuggers.\n",
    "- **Command-line interfaces**\n",
    "    - [pdb](https://docs.python.org/3/library/pdb.html) is the built-in debugger\n",
    "        - Advantage: Always available. Quite flexible.\n",
    "        - Drawback: Not user friendly, stubborn.\n",
    "    - [ipdb](https://pypi.org/project/ipdb/) is the IPython debugger\n",
    "        - Advantage: Improves on `pdb`, namely ...\n",
    "        - Drawback: Requires installation. Still some issue one has to be aware of. Sometimes doesn't work (?)\n",
    "    - [pdb++](https://github.com/pdbpp/pdbpp) (Plus Plus!)\n",
    "        - Advantage: Ever better than `ipdb`.\n",
    "        - Drawback: Requires installation.\n",
    "    - ...\n",
    "- **IDEs**\n",
    "    - [VS Code](https://code.visualstudio.com/docs/python/debugging): The [Python extension](https://marketplace.visualstudio.com/items?itemName=ms-python.python) can be used to debug scripts and (individual cells of) [Jupyter notebooks](https://code.visualstudio.com/docs/python/jupyter-support-py#_debug-a-jupyter-notebook). \n",
    "        - The used debugger is the Python package [debugpy](https://github.com/microsoft/debugpy) which is an implementation of the [Debug Adapter Protocol](https://microsoft.github.io/debug-adapter-protocol/)\n",
    "        - Advantage: Very nice interface, easy to use, and powerful.\n",
    "        - Drawback:\n",
    "            - ~~AFAIK cannot modify the state of a program, cannot evaluate functions, pd.DataFrames are hard to investigate, pd.DataFrames are hard to modify~~\n",
    "            - Requires VS Code and Python >= 3.7   \n",
    "            - Setting of breakpoints from the command line not possible, for me it does not work from the command line. Documentation about debugpy is limited.\n",
    "    - PyCharm: No experience but appears to be good.\n",
    "        \n",
    "- **Recommendation**:\n",
    "    - ~~Use `pdb` and `ipdb` unless the debugger of VS Code allows to change the state of a programm~~\n",
    "    - Use VS Code"
   ]
  },
  {
   "cell_type": "markdown",
   "id": "c35b302d",
   "metadata": {},
   "source": [
    "## How to start a debugger\n",
    "In general, a debugger can be used in the following ways\n",
    "\n",
    "- Run a script in debug mode. This allows for post-mortem debugging or stopping at breakpoints.\n",
    "- Interactive: Start a debugger for an expression during an interactive Python session.\n",
    "- Setting a breakpoint: Stop the exceution at the breakpoint.\n",
    "- Post mortem: Start a debugger when an exception is thrown."
   ]
  },
  {
   "cell_type": "markdown",
   "id": "02bcca4b",
   "metadata": {},
   "source": [
    "## Using VS Code to debug a script\n",
    "- AFAIK it is not possible to use VS Code for debugging during an interactive Python session\n",
    "- In the following, you can use the script `illstrate_debugging.py` to debug"
   ]
  },
  {
   "cell_type": "markdown",
   "id": "4b86e9a4",
   "metadata": {},
   "source": [
    "### Starting the debugger"
   ]
  },
  {
   "cell_type": "markdown",
   "id": "2f882544",
   "metadata": {},
   "source": [
    "- You can debug a script with no debugger configuration or by selecting a debugger configuration\n",
    "- In any case, you can start a debugger for an opened .py file in one of the following ways\n",
    "    - Press `F5`\n",
    "    - Select the Run and Debug icon in the Activity Bar (or press `Ctrl+Shift+D`) and select `Run and Debug`\n",
    "    - Choose `Run` > `Start Debugging` in the top level menu\n",
    "-  If no configuration is selected and you start the debugger of a workspace for the first time, you also have to select how to debug your code, e.g., `Python File`, before the debugger starts\n",
    "- You can also click `Debug Python File` at the top right of the editor pane, [which does not consider any configuration](https://stackoverflow.com/a/69803152), even if a configuration file has been created (!)\n",
    "- Note, if not configured,\n",
    "    - The debugger uses the Python interpreter that is selected in VS Code. To change the interpreter select `Python: Select Interpreter` via the Comand Palette, see [here](https://code.visualstudio.com/docs/python/debugging#_python)\n",
    "        - Unfortuantely, setting `\"python\": \"${env:CONDA_PREFIX}/bin/python\"` to use the interpreter of the current terminal, yiels an error\n",
    "        - Thus, it does not seem to be possible to synchronize the integrated terminal with the debugger, I've opened the corresponding [issue](https://github.com/microsoft/pylance-release/issues/4356)\n",
    "    - The working directory of the debugger is your workspace folder, i.e., the folder you have opened, see [here](https://code.visualstudio.com/docs/python/debugging#_cwd). \n",
    "        - So if you run the debugger, your working directory in the terminal is be changed to this directory\n",
    "        - Set `\"cwd\": \".\",` in the configuration so that the current working directory of the terminal is used and not changed"
   ]
  },
  {
   "cell_type": "markdown",
   "id": "1ed685f7",
   "metadata": {},
   "source": [
    "### Set up a debugger configuration"
   ]
  },
  {
   "cell_type": "markdown",
   "id": "debd287f",
   "metadata": {},
   "source": [
    "- A configuration drives VS Code's behavior during a debugging session. \n",
    "- Configurations are defined in a launch.json file that's stored in a .vscode folder in your workspace.\n",
    "- Use `Run > Open configurations` menu command to create a configuration.\n",
    "- See [here](https://code.visualstudio.com/docs/python/debugging#_initialize-configurations) for more information and [here](https://code.visualstudio.com/docs/editor/debugging#_launchjson-attributes) and [here](https://code.visualstudio.com/docs/python/debugging#_set-configuration-options) for all configuration options.\n",
    "- The configuration is stored in the launch.json file located in the .vscode folder of your workspace.\n",
    "- Note that if you have created a configuration, a configuration will always be selected and considered when a debugger runs.\n",
    "- You have to select the configuration before you start the debugger.\n",
    "- To run the debugger with no configuration click `Debug Python File` at the top right of the editor pane.\n",
    "- See [here](https://code.visualstudio.com/docs/editor/debugging#_global-launch-configuration) for a global configuration."
   ]
  },
  {
   "cell_type": "markdown",
   "id": "e7551a63",
   "metadata": {},
   "source": [
    "#### [Launch and attach configurations](https://code.visualstudio.com/docs/editor/debugging#_launch-versus-attach-configurations)\n",
    "- In VS Code, there are two core debugging modes, Launch and Attach, which handle two different workflows and segments of developers.\n",
    "- VS Code debuggers typically support launching a program in debug mode or attaching to an already running program in debug mode."
   ]
  },
  {
   "cell_type": "markdown",
   "id": "a3abadb6",
   "metadata": {},
   "source": [
    "### Interacting with the debugger\n",
    "\n"
   ]
  },
  {
   "cell_type": "markdown",
   "id": "b59d3a9b",
   "metadata": {},
   "source": [
    "- Once a debug session starts, the Debug toolbar will appear on the top of the editor, see [here](https://code.visualstudio.com/docs/editor/debugging#_debug-actions)\n",
    "- The top-level `Run` menu has the most common run and debug commands"
   ]
  },
  {
   "cell_type": "markdown",
   "id": "bb6139a1",
   "metadata": {},
   "source": [
    "#### Mutating state\n",
    "**Inspecting and setting values**\n",
    "- The value of variables can be seen and set in the following ways\n",
    "    - In the `VARIABLES` section of the `Run and Debug` view\n",
    "    - By hovering over the names in the script\n",
    "    - In the `Debug Console`\n",
    "\n",
    "**Evaluating expressions**\n",
    "- You can use the [Debug Console](https://code.visualstudio.com/docs/editor/debugging#_debug-console-repl) to evaluate arbitrary expressions, e.g., evaluate or change functions\n",
    "- To use the Debug Console, press `Ctrl+Shift+Y` or select `View: Debug Console command` at the top menu, or select it in the terminal view.\n",
    "- Note: \n",
    "    - If you need to enter multiple lines, use `Shift+Enter` between the lines and then send all lines for evaluation with `Enter`\n",
    "    - If [redirectOutput](https://code.visualstudio.com/docs/python/debugging#_redirectoutput) is set to false, \n",
    "        - If you execute `help´ into the debug console, the result is printed to the terminal\n",
    "        - If you need to enter your MFA code for AWS, it must be entered into the terminal\n",
    "    - To disable warnings like `pyydevd warning: Computing repr of ... was slow (took x.xs)`, set the following environment variable to, e.g., 2 seconds, `PYDEVD_WARN_SLOW_RESOLVE_TIMEOUT=2`, see [here](https://stackoverflow.com/questions/71695716/pydevd-warnings-in-visual-studio-code-debug-console) for more information\n",
    "\n",
    "**Investigating the Call Stack**\n",
    "- https://stackoverflow.com/a/70536049"
   ]
  },
  {
   "cell_type": "markdown",
   "id": "eb83584a",
   "metadata": {},
   "source": [
    "#### [Log points](https://code.visualstudio.com/docs/editor/debugging#_logpoints)\n",
    "- A Logpoint is a variant of a breakpoint that does not \"break\" into the debugger but instead logs a message to the console. -> does not work for me?\n",
    "\n",
    "#### Watching variables\n",
    "- You can watch the value of a variable by adding it via `+` in the WATCH panel of the `Run and Debug` view in the sidebar\n",
    "\n",
    "#### Conditional breakpoints\n",
    "- A powerful VS Code debugging feature is the ability to set conditions based on expressions, hit counts, or a combination of both.\n",
    "- Expression condition: The breakpoint will be hit whenever the expression evaluates to true.\n",
    "- Hit count: The 'hit count' controls how many times a breakpoint needs to be hit before it will 'break' execution. Whether a 'hit count' is respected and the exact syntax of the expression vary among debugger extensions.\n",
    "\n",
    "#### Functions breakpoints\n",
    "- A function breakpoint is created by pressing the `+` button in the BREAKPOINTS panel of the `Run and Debug` view in the sidebar and entering the function name. Function breakpoints are shown with a red triangle in the BREAKPOINTS section."
   ]
  },
  {
   "cell_type": "markdown",
   "id": "1f7de68c",
   "metadata": {},
   "source": [
    "### [Debugging from the command line](https://code.visualstudio.com/docs/python/debugging#_command-line-debugging)\n",
    "Resources\n",
    "- https://github.com/microsoft/debugpy\n",
    "- https://pypi.org/project/debugpy-run/: Normally, you have to edit the configuration each time when CLI arguments are changed. With this tool you don't."
   ]
  },
  {
   "cell_type": "markdown",
   "id": "517d00b7",
   "metadata": {},
   "source": [
    "#### Providing command line arguments to a program that should be debugged\n",
    "- It should be possible to add arguments when the debugger is run via the command line\n",
    "- However, I did not succeed to start the debugger from the command line as explained [here](https://code.visualstudio.com/docs/python/debugging#_command-line-debugging) (The problem is that the debugger does not attach)\n",
    "- If you start the debugger using VS Code as explained before, you can provide arguments to the program by using the field `args` in the configuration\n",
    "- ~~Note that the documentation says that one should use the field [`pythonArgs`](https://code.visualstudio.com/docs/python/debugging#_pythonargs), but this throws an error for me. ~~\n",
    "- ~~On the other hand, the last note of [initialize_configurations](https://code.visualstudio.com/docs/python/debugging#_initialize-configurations) the documentation says that `args` should be used~~\n",
    "- ~~Other stackoverflow sources also indicate that `args` is the correct field.~~\n",
    "- These sources ([here](https://stackoverflow.com/a/70511468) and [here](https://stackoverflow.com/a/73610759)) state that you may have to add the entry `\"purpose\": [\"debug-in-terminal\"]`, but for me it was not necessary\n",
    "- Note that you must not use spaces in `args`, e.g., use `\"args\": [\"--key1\", \"value1\", \"value2\", \"--key2\", \"value3\", \"value4\"`] to pass the arguments `--key1 value1 value2 --key2 value3 value4`, see [here](https://stackoverflow.com/a/51244649)\n",
    "\n"
   ]
  },
  {
   "cell_type": "markdown",
   "id": "4b0638e3",
   "metadata": {},
   "source": [
    "## Using VS Code to debug a notebook"
   ]
  },
  {
   "cell_type": "markdown",
   "id": "09c079cb",
   "metadata": {},
   "source": [
    "- If you are using VS Code to work with notebooks you can also debug cells\n",
    "- To do so, select `Jupyter: Debug Cell` from the command palette"
   ]
  },
  {
   "cell_type": "markdown",
   "id": "23527cf8",
   "metadata": {},
   "source": [
    "## Real case example: Debugging https://gitlab.p7s1.io/ent-bi-data-science/ga_vs_walle_report/-/issues/21"
   ]
  },
  {
   "cell_type": "markdown",
   "id": "602cac14",
   "metadata": {},
   "source": [
    "# Unfinished\n",
    "The following sections are work in progress"
   ]
  },
  {
   "cell_type": "markdown",
   "id": "0d94e405",
   "metadata": {},
   "source": [
    "Resources:\n",
    "- https://docs.python.org/3/library/pdb.html\n",
    "- Resources in 1.1\n",
    "- Notes in the section `debug` of 3_data_science/knowledge/0_tools/python_notizen.docx"
   ]
  },
  {
   "cell_type": "markdown",
   "id": "ccacf8a2",
   "metadata": {},
   "source": [
    "## Using pdb"
   ]
  },
  {
   "cell_type": "markdown",
   "id": "c866803d",
   "metadata": {},
   "source": [
    "### Interactive IPython/Jupyter sessions\n",
    "- If you have installed ipython/jupyter, you also have installed `ipdb`. \n",
    "- When "
   ]
  },
  {
   "cell_type": "markdown",
   "id": "894139b1",
   "metadata": {},
   "source": [
    "#### Post mortem\n",
    "- This is probably the most useful way to start a debugger\n",
    "- Use `%debug` to start an `ipdb` debugger for the last exception that has been raised\n",
    "- Use `%pdb%` onece to always start an `ipdb` debugger every time right after an exception has been raised. Use `%pdb` again to deactivate."
   ]
  },
  {
   "cell_type": "code",
   "execution_count": 23,
   "id": "8f8ca964",
   "metadata": {},
   "outputs": [
    {
     "ename": "NameError",
     "evalue": "name 'c' is not defined",
     "output_type": "error",
     "traceback": [
      "\u001b[0;31m---------------------------------------------------------------------------\u001b[0m",
      "\u001b[0;31mNameError\u001b[0m                                 Traceback (most recent call last)",
      "Cell \u001b[0;32mIn[23], line 1\u001b[0m\n\u001b[0;32m----> 1\u001b[0m \u001b[43mc\u001b[49m\n",
      "\u001b[0;31mNameError\u001b[0m: name 'c' is not defined"
     ]
    }
   ],
   "source": [
    "c"
   ]
  },
  {
   "cell_type": "code",
   "execution_count": 24,
   "id": "2d74ac20",
   "metadata": {},
   "outputs": [
    {
     "name": "stdout",
     "output_type": "stream",
     "text": [
      "3\n",
      "> \u001b[0;32m/tmp/ipykernel_17160/3235490055.py\u001b[0m(1)\u001b[0;36m<module>\u001b[0;34m()\u001b[0m\n",
      "\u001b[0;32m----> 1 \u001b[0;31m\u001b[0mc\u001b[0m\u001b[0;34m\u001b[0m\u001b[0;34m\u001b[0m\u001b[0m\n",
      "\u001b[0m\n",
      "ipdb> q\n"
     ]
    }
   ],
   "source": [
    "%debug"
   ]
  },
  {
   "cell_type": "code",
   "execution_count": null,
   "id": "c3ba39ac",
   "metadata": {},
   "outputs": [],
   "source": [
    "#### Interactive\n",
    "- Skipped, because"
   ]
  },
  {
   "cell_type": "code",
   "execution_count": 19,
   "id": "69e79127",
   "metadata": {
    "code_folding": []
   },
   "outputs": [
    {
     "data": {
      "text/plain": [
       "3"
      ]
     },
     "execution_count": 19,
     "metadata": {},
     "output_type": "execute_result"
    }
   ],
   "source": [
    "def sum_(a, b):\n",
    "    # breakpoint()\n",
    "    return a + b\n",
    "\n",
    "sum_(1, 2)"
   ]
  },
  {
   "cell_type": "code",
   "execution_count": 20,
   "id": "0e066b2c",
   "metadata": {},
   "outputs": [
    {
     "name": "stdout",
     "output_type": "stream",
     "text": [
      "3\n",
      "> \u001b[0;32m<string>\u001b[0m(1)\u001b[0;36m<module>\u001b[0;34m()\u001b[0m\n",
      "\n",
      "ipdb> l\n",
      "\n",
      "ipdb> l\n",
      "\n",
      "ipdb> a\n",
      "ipdb> n\n",
      "--Return--\n",
      "3\n",
      "> \u001b[0;32m<string>\u001b[0m(1)\u001b[0;36m<module>\u001b[0;34m()\u001b[0m\n",
      "\n",
      "ipdb> q\n"
     ]
    }
   ],
   "source": [
    "import pdb\n",
    "\n",
    "pdb.runeval(\"sum_(1, 2)\")"
   ]
  },
  {
   "cell_type": "code",
   "execution_count": 5,
   "id": "34413baa",
   "metadata": {},
   "outputs": [
    {
     "ename": "SyntaxError",
     "evalue": "invalid syntax (3886094692.py, line 1)",
     "output_type": "error",
     "traceback": [
      "\u001b[0;36m  Cell \u001b[0;32mIn[5], line 1\u001b[0;36m\u001b[0m\n\u001b[0;31m    python -m debugpy --listen 8887 illustrate_debugging.py 2 supplies 2, see also the last note of https://code.visualstudio.com/docs/python/debugging#_basic-debugging\u001b[0m\n\u001b[0m              ^\u001b[0m\n\u001b[0;31mSyntaxError\u001b[0m\u001b[0;31m:\u001b[0m invalid syntax\n"
     ]
    }
   ],
   "source": [
    "python -m debugpy --listen 8887 illustrate_debugging.py 2 supplies 2, see also the last note of https://code.visualstudio.com/docs/python/debugging#_basic-debugging\n",
    "\n",
    "python -m debugpy --listen 8887 --wait-for-client illustrate_debugging.py 2, supplies 2, but hangs, I have to attach?"
   ]
  },
  {
   "cell_type": "markdown",
   "id": "09137d76",
   "metadata": {},
   "source": [
    "\n",
    "\n"
   ]
  },
  {
   "cell_type": "markdown",
   "id": "c87e04b0",
   "metadata": {},
   "source": [
    "## How to debug?"
   ]
  },
  {
   "cell_type": "code",
   "execution_count": 3,
   "id": "12d95124",
   "metadata": {},
   "outputs": [],
   "source": [
    "# importing pdb\n",
    "import pdb\n",
    "  \n",
    "# make a simple function to debug\n",
    "def sum(a, b):\n",
    "    if b == 2:\n",
    "        b = 3\n",
    "    return a + b"
   ]
  },
  {
   "cell_type": "code",
   "execution_count": null,
   "id": "59e9a906",
   "metadata": {},
   "outputs": [],
   "source": []
  },
  {
   "cell_type": "code",
   "execution_count": null,
   "id": "5664b224",
   "metadata": {},
   "outputs": [],
   "source": [
    "pdb\n",
    " It supports setting (conditional) breakpoints and single stepping at the source line level, inspection of stack frames, source code listing, and evaluation of arbitrary Python code in the context of any stack frame. It also supports post-mortem debugging and can be called under program control."
   ]
  },
  {
   "cell_type": "code",
   "execution_count": null,
   "id": "5b46bba5",
   "metadata": {},
   "outputs": [],
   "source": [
    "## Using it from an interactive session"
   ]
  },
  {
   "cell_type": "code",
   "execution_count": null,
   "id": "e874889c",
   "metadata": {},
   "outputs": [],
   "source": [
    "## Using a debugger from the co"
   ]
  },
  {
   "cell_type": "markdown",
   "id": "321820cb",
   "metadata": {},
   "source": [
    "# Debugger\n",
    "- ipdb is a nice debugger but it has some problems from the command line\n",
    "- I use pdb from the CLI and then maybe embed an IPython Session\n",
    "- But when an IPython Session is active it may be useful to use %run so that everything defined in the script is then available in the IPython Session\n",
    "\n",
    "\n",
    "https://docs.python.org/3/library/pdb.html\n",
    "https://stackoverflow.com/a/38983557\n",
    "\n",
    "https://pypi.org/project/ipdb/"
   ]
  },
  {
   "cell_type": "markdown",
   "id": "f94d3ac0",
   "metadata": {},
   "source": [
    "## Enter the debugger at a specifc line\n",
    "- https://stackoverflow.com/a/33808301"
   ]
  },
  {
   "cell_type": "code",
   "execution_count": null,
   "id": "f7e07d0f",
   "metadata": {},
   "outputs": [],
   "source": [
    "# enter the debugger at line 376 with arguments for the script\n",
    "python3 -m pdb -c \"unt 376\" append_data_to_table.py --test-run 2023-04-27 2023-04-27\n",
    "# python3 -m pdb -c \"b 3\" -c c append_data_to_table.py --test-run 2023-04-27 2023-04-27 has the same effect\n",
    "# use ipython\n",
    "ipython -i -c \"%run -d my_script.py\" -> check\n",
    "# ChatGPT: In this command, ipython starts an interactive IPython session, -i tells IPython to run in interactive mode, and -c specifies a command to run in IPython. The command that we pass to IPython is %run -d my_script.py, which tells IPython to run the script my_script.py with debugging enabled (-d flag).\n",
    "\n",
    "\n",
    "ipython -i -c \"%run -d -b 376 append_data_to_table.py --test-run 2023-04-27 2023-04-27\" \n",
    "starts at the first line and then waits, but breakpoint is set at line 376"
   ]
  },
  {
   "cell_type": "code",
   "execution_count": null,
   "id": "7d1f81fc",
   "metadata": {},
   "outputs": [],
   "source": [
    "\n",
    "\n",
    "python -m pdb -c \"unt 376\" -c c your_script.py"
   ]
  },
  {
   "cell_type": "markdown",
   "id": "50055752",
   "metadata": {},
   "source": [
    "## interact and embed\n",
    "- Useful if I want to execute multi-line statements etc.\n",
    "https://stackoverflow.com/questions/5967241/how-to-execute-multi-line-statements-within-pythons-own-debugger-pdb\n",
    "\n",
    "how to quit?\n",
    "\n",
    "start ipython session from python?"
   ]
  },
  {
   "cell_type": "code",
   "execution_count": null,
   "id": "6bc8e92f",
   "metadata": {},
   "outputs": [],
   "source": [
    "### embed IPython session\n",
    "import IPython\n",
    "IPython.embed() # useful for multiline statements\n",
    "exit # go back to the debugger"
   ]
  },
  {
   "cell_type": "code",
   "execution_count": null,
   "id": "16665eaf",
   "metadata": {},
   "outputs": [],
   "source": [
    "## how to start an interactive session when the debugger has ended"
   ]
  },
  {
   "cell_type": "code",
   "execution_count": null,
   "id": "4a22c9ee",
   "metadata": {},
   "outputs": [],
   "source": [
    "# Pandas\n",
    "https://pandas.pydata.org/docs/reference/api/pandas.DataFrame.to_clipboard.html\n",
    "infer_dtypes"
   ]
  }
 ],
 "metadata": {
  "jupytext": {
   "comment_magics": false
  },
  "kernelspec": {
   "display_name": "Python [conda env:ds_with_types]",
   "language": "python",
   "name": "conda-env-ds_with_types-py"
  },
  "language_info": {
   "codemirror_mode": {
    "name": "ipython",
    "version": 3
   },
   "file_extension": ".py",
   "mimetype": "text/x-python",
   "name": "python",
   "nbconvert_exporter": "python",
   "pygments_lexer": "ipython3",
   "version": "3.10.8"
  },
  "toc": {
   "base_numbering": 1,
   "nav_menu": {},
   "number_sections": true,
   "sideBar": true,
   "skip_h1_title": false,
   "title_cell": "Table of Contents",
   "title_sidebar": "Contents",
   "toc_cell": true,
   "toc_position": {},
   "toc_section_display": true,
   "toc_window_display": true
  }
 },
 "nbformat": 4,
 "nbformat_minor": 5
}
