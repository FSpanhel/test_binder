{
 "cells": [
  {
   "cell_type": "markdown",
   "id": "45568ff2",
   "metadata": {
    "slideshow": {
     "slide_type": "slide"
    }
   },
   "source": [
    "# Agenda\n",
    "- Review of [Q&A](https://partici.fi/26194946).\n",
    "\n",
    "<div align=\"center\">\n",
    "<img src=\"../1_version_control/figures/p_2.png\" alt=\"Q&A\" width=\"1200\"/>\n",
    "</div>\n",
    "\n",
    "<div align=\"left\">\n",
    "<div/>"
   ]
  },
  {
   "cell_type": "markdown",
   "id": "a6fb93f5",
   "metadata": {
    "slideshow": {
     "slide_type": "slide"
    }
   },
   "source": [
    "- In this chapter we will discuss how to setup a Python project\n",
    "- A Python project consists of three parts\n",
    "    - A virtual environment\n",
    "    - A folder structure (including how to modularize code into modules)\n",
    "    - A Git repository (which has been discussed in the previous chapter)\n",
    "- We will first uncover what a virtual environment actually is and why you must use them.\n",
    "- Moreover, we address how to manage packages and environments with conda.\n",
    "- After knowing how to use Git and virtual environments, we will consider how a sound folder structure of your project should look like.\n",
    "- In this regard, we will talk about when to use Jupyter notebooks and when to modularize your code into modules or a package."
   ]
  }
 ],
 "metadata": {
  "celltoolbar": "Slideshow",
  "jupytext": {
   "comment_magics": false
  },
  "kernelspec": {
   "display_name": "Python [conda env:dsc_2022] *",
   "language": "python",
   "name": "conda-env-dsc_2022-py"
  },
  "language_info": {
   "codemirror_mode": {
    "name": "ipython",
    "version": 3
   },
   "file_extension": ".py",
   "mimetype": "text/x-python",
   "name": "python",
   "nbconvert_exporter": "python",
   "pygments_lexer": "ipython3",
   "version": "3.10.6"
  },
  "rise": {
   "footer": "<h3>Dr. Fabian Spanhel</h3>",
   "header": "<h3>DSC: 2.0 INTRO</h3>"
  },
  "toc": {
   "base_numbering": 1,
   "nav_menu": {},
   "number_sections": true,
   "sideBar": true,
   "skip_h1_title": false,
   "title_cell": "Table of Contents",
   "title_sidebar": "Contents",
   "toc_cell": false,
   "toc_position": {},
   "toc_section_display": true,
   "toc_window_display": false
  }
 },
 "nbformat": 4,
 "nbformat_minor": 5
}
